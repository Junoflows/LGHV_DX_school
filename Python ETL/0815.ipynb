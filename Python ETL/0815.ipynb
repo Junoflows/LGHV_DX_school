{
 "cells": [
  {
   "cell_type": "code",
   "execution_count": 1,
   "metadata": {},
   "outputs": [],
   "source": [
    "import pandas as pd\n",
    "import numpy as np\n",
    "import matplotlib.pyplot as plt\n",
    "import platform\n",
    "from matplotlib import font_manager, rc\n",
    "\n",
    "# 한글\n",
    "if platform.system() == \"Windows\":\n",
    "    font_name = font_manager.FontProperties(fname = 'c:/Windows/Fonts/malgun.ttf').get_name()\n",
    "    rc('font', family = font_name)\n",
    "elif platform.system() == \"Darwin\":\n",
    "    rc('font', family = 'AppleGothic')\n",
    "\n",
    "plt.rcParams['axes.unicode_minus'] = False"
   ]
  },
  {
   "cell_type": "code",
   "execution_count": 3,
   "metadata": {},
   "outputs": [
    {
     "name": "stdout",
     "output_type": "stream",
     "text": [
      "         Date  Close  Start   High    Low  Volume\n",
      "0  2018-07-02  10100  10850  10900  10000  137977\n",
      "1  2018-06-29  10700  10550  10900   9990  170253\n",
      "2  2018-06-28  10400  10900  10950  10150  155769\n",
      "3  2018-06-27  10900  10800  11050  10500  133548\n",
      "4  2018-06-26  10800  10900  11000  10700   63039\n",
      "<class 'pandas.core.frame.DataFrame'>\n",
      "RangeIndex: 20 entries, 0 to 19\n",
      "Data columns (total 6 columns):\n",
      " #   Column  Non-Null Count  Dtype \n",
      "---  ------  --------------  ----- \n",
      " 0   Date    20 non-null     object\n",
      " 1   Close   20 non-null     int64 \n",
      " 2   Start   20 non-null     int64 \n",
      " 3   High    20 non-null     int64 \n",
      " 4   Low     20 non-null     int64 \n",
      " 5   Volume  20 non-null     int64 \n",
      "dtypes: int64(5), object(1)\n",
      "memory usage: 1.1+ KB\n",
      "None\n"
     ]
    }
   ],
   "source": [
    "df = pd.read_csv('./data4/stock-data.csv')\n",
    "print(df.head())\n",
    "print(df.info())"
   ]
  },
  {
   "cell_type": "code",
   "execution_count": 4,
   "metadata": {},
   "outputs": [
    {
     "name": "stdout",
     "output_type": "stream",
     "text": [
      "<class 'pandas.core.frame.DataFrame'>\n",
      "RangeIndex: 20 entries, 0 to 19\n",
      "Data columns (total 7 columns):\n",
      " #   Column   Non-Null Count  Dtype         \n",
      "---  ------   --------------  -----         \n",
      " 0   Date     20 non-null     object        \n",
      " 1   Close    20 non-null     int64         \n",
      " 2   Start    20 non-null     int64         \n",
      " 3   High     20 non-null     int64         \n",
      " 4   Low      20 non-null     int64         \n",
      " 5   Volume   20 non-null     int64         \n",
      " 6   NewDate  20 non-null     datetime64[ns]\n",
      "dtypes: datetime64[ns](1), int64(5), object(1)\n",
      "memory usage: 1.2+ KB\n"
     ]
    }
   ],
   "source": [
    "# 날짜 자료형으로 변경해서 새로운 필드로 저장\n",
    "df['NewDate'] = pd.to_datetime(df['Date'])\n",
    "df.info()"
   ]
  },
  {
   "cell_type": "code",
   "execution_count": 5,
   "metadata": {},
   "outputs": [
    {
     "name": "stdout",
     "output_type": "stream",
     "text": [
      "            Close  Start   High    Low  Volume\n",
      "NewDate                                       \n",
      "2018-07-02  10100  10850  10900  10000  137977\n",
      "2018-06-29  10700  10550  10900   9990  170253\n",
      "2018-06-28  10400  10900  10950  10150  155769\n",
      "2018-06-27  10900  10800  11050  10500  133548\n",
      "2018-06-26  10800  10900  11000  10700   63039\n"
     ]
    }
   ],
   "source": [
    "# 새로 만들어진 날짜 컬럼을 인덱스로 지정하고 기존의 날짜 컬럼 삭제\n",
    "df.set_index('NewDate', inplace= True)\n",
    "df.drop('Date', axis = 1, inplace = True)\n",
    "print(df.head())"
   ]
  },
  {
   "cell_type": "code",
   "execution_count": 18,
   "metadata": {},
   "outputs": [
    {
     "ename": "ValueError",
     "evalue": "time data '04-09-2005 09:09 TM' does not match format '%d-%m-%Y %I:%M %p' (match)",
     "output_type": "error",
     "traceback": [
      "\u001b[1;31m---------------------------------------------------------------------------\u001b[0m",
      "\u001b[1;31mValueError\u001b[0m                                Traceback (most recent call last)",
      "Cell \u001b[1;32mIn[18], line 23\u001b[0m\n\u001b[0;32m     18\u001b[0m \u001b[39m'''\u001b[39;00m\n\u001b[0;32m     19\u001b[0m \u001b[39mprint(pd.DataFrame([pd.to_datetime(date, format = '%d-%m-%Y %I:%M %p', errors= 'coerce') for date in date_strings]).info())\u001b[39;00m\n\u001b[0;32m     20\u001b[0m \u001b[39m'''\u001b[39;00m\n\u001b[0;32m     22\u001b[0m \u001b[39m# 예외를 발생\u001b[39;00m\n\u001b[1;32m---> 23\u001b[0m \u001b[39mprint\u001b[39m(pd\u001b[39m.\u001b[39mDataFrame([pd\u001b[39m.\u001b[39mto_datetime(date, \u001b[39mformat\u001b[39m \u001b[39m=\u001b[39m \u001b[39m'\u001b[39m\u001b[39m%d\u001b[39;00m\u001b[39m-\u001b[39m\u001b[39m%\u001b[39m\u001b[39mm-\u001b[39m\u001b[39m%\u001b[39m\u001b[39mY \u001b[39m\u001b[39m%\u001b[39m\u001b[39mI:\u001b[39m\u001b[39m%\u001b[39m\u001b[39mM \u001b[39m\u001b[39m%\u001b[39m\u001b[39mp\u001b[39m\u001b[39m'\u001b[39m, errors\u001b[39m=\u001b[39m \u001b[39m'\u001b[39m\u001b[39mraise\u001b[39m\u001b[39m'\u001b[39m) \u001b[39mfor\u001b[39;00m date \u001b[39min\u001b[39;00m date_strings])\u001b[39m.\u001b[39minfo())\n",
      "Cell \u001b[1;32mIn[18], line 23\u001b[0m, in \u001b[0;36m<listcomp>\u001b[1;34m(.0)\u001b[0m\n\u001b[0;32m     18\u001b[0m \u001b[39m'''\u001b[39;00m\n\u001b[0;32m     19\u001b[0m \u001b[39mprint(pd.DataFrame([pd.to_datetime(date, format = '%d-%m-%Y %I:%M %p', errors= 'coerce') for date in date_strings]).info())\u001b[39;00m\n\u001b[0;32m     20\u001b[0m \u001b[39m'''\u001b[39;00m\n\u001b[0;32m     22\u001b[0m \u001b[39m# 예외를 발생\u001b[39;00m\n\u001b[1;32m---> 23\u001b[0m \u001b[39mprint\u001b[39m(pd\u001b[39m.\u001b[39mDataFrame([pd\u001b[39m.\u001b[39;49mto_datetime(date, \u001b[39mformat\u001b[39;49m \u001b[39m=\u001b[39;49m \u001b[39m'\u001b[39;49m\u001b[39m%d\u001b[39;49;00m\u001b[39m-\u001b[39;49m\u001b[39m%\u001b[39;49m\u001b[39mm-\u001b[39;49m\u001b[39m%\u001b[39;49m\u001b[39mY \u001b[39;49m\u001b[39m%\u001b[39;49m\u001b[39mI:\u001b[39;49m\u001b[39m%\u001b[39;49m\u001b[39mM \u001b[39;49m\u001b[39m%\u001b[39;49m\u001b[39mp\u001b[39;49m\u001b[39m'\u001b[39;49m, errors\u001b[39m=\u001b[39;49m \u001b[39m'\u001b[39;49m\u001b[39mraise\u001b[39;49m\u001b[39m'\u001b[39;49m) \u001b[39mfor\u001b[39;00m date \u001b[39min\u001b[39;00m date_strings])\u001b[39m.\u001b[39minfo())\n",
      "File \u001b[1;32mc:\\Users\\USER\\anaconda3\\lib\\site-packages\\pandas\\core\\tools\\datetimes.py:1102\u001b[0m, in \u001b[0;36mto_datetime\u001b[1;34m(arg, errors, dayfirst, yearfirst, utc, format, exact, unit, infer_datetime_format, origin, cache)\u001b[0m\n\u001b[0;32m   1100\u001b[0m         result \u001b[39m=\u001b[39m convert_listlike(argc, \u001b[39mformat\u001b[39m)\n\u001b[0;32m   1101\u001b[0m \u001b[39melse\u001b[39;00m:\n\u001b[1;32m-> 1102\u001b[0m     result \u001b[39m=\u001b[39m convert_listlike(np\u001b[39m.\u001b[39;49marray([arg]), \u001b[39mformat\u001b[39;49m)[\u001b[39m0\u001b[39m]\n\u001b[0;32m   1103\u001b[0m     \u001b[39mif\u001b[39;00m \u001b[39misinstance\u001b[39m(arg, \u001b[39mbool\u001b[39m) \u001b[39mand\u001b[39;00m \u001b[39misinstance\u001b[39m(result, np\u001b[39m.\u001b[39mbool_):\n\u001b[0;32m   1104\u001b[0m         result \u001b[39m=\u001b[39m \u001b[39mbool\u001b[39m(result)  \u001b[39m# TODO: avoid this kludge.\u001b[39;00m\n",
      "File \u001b[1;32mc:\\Users\\USER\\anaconda3\\lib\\site-packages\\pandas\\core\\tools\\datetimes.py:430\u001b[0m, in \u001b[0;36m_convert_listlike_datetimes\u001b[1;34m(arg, format, name, tz, unit, errors, infer_datetime_format, dayfirst, yearfirst, exact)\u001b[0m\n\u001b[0;32m    427\u001b[0m         \u001b[39mformat\u001b[39m \u001b[39m=\u001b[39m \u001b[39mNone\u001b[39;00m\n\u001b[0;32m    429\u001b[0m \u001b[39mif\u001b[39;00m \u001b[39mformat\u001b[39m \u001b[39mis\u001b[39;00m \u001b[39mnot\u001b[39;00m \u001b[39mNone\u001b[39;00m:\n\u001b[1;32m--> 430\u001b[0m     res \u001b[39m=\u001b[39m _to_datetime_with_format(\n\u001b[0;32m    431\u001b[0m         arg, orig_arg, name, tz, \u001b[39mformat\u001b[39;49m, exact, errors, infer_datetime_format\n\u001b[0;32m    432\u001b[0m     )\n\u001b[0;32m    433\u001b[0m     \u001b[39mif\u001b[39;00m res \u001b[39mis\u001b[39;00m \u001b[39mnot\u001b[39;00m \u001b[39mNone\u001b[39;00m:\n\u001b[0;32m    434\u001b[0m         \u001b[39mreturn\u001b[39;00m res\n",
      "File \u001b[1;32mc:\\Users\\USER\\anaconda3\\lib\\site-packages\\pandas\\core\\tools\\datetimes.py:538\u001b[0m, in \u001b[0;36m_to_datetime_with_format\u001b[1;34m(arg, orig_arg, name, tz, fmt, exact, errors, infer_datetime_format)\u001b[0m\n\u001b[0;32m    535\u001b[0m         \u001b[39mreturn\u001b[39;00m _box_as_indexlike(result, utc\u001b[39m=\u001b[39mutc, name\u001b[39m=\u001b[39mname)\n\u001b[0;32m    537\u001b[0m \u001b[39m# fallback\u001b[39;00m\n\u001b[1;32m--> 538\u001b[0m res \u001b[39m=\u001b[39m _array_strptime_with_fallback(\n\u001b[0;32m    539\u001b[0m     arg, name, tz, fmt, exact, errors, infer_datetime_format\n\u001b[0;32m    540\u001b[0m )\n\u001b[0;32m    541\u001b[0m \u001b[39mreturn\u001b[39;00m res\n",
      "File \u001b[1;32mc:\\Users\\USER\\anaconda3\\lib\\site-packages\\pandas\\core\\tools\\datetimes.py:473\u001b[0m, in \u001b[0;36m_array_strptime_with_fallback\u001b[1;34m(arg, name, tz, fmt, exact, errors, infer_datetime_format)\u001b[0m\n\u001b[0;32m    470\u001b[0m utc \u001b[39m=\u001b[39m tz \u001b[39m==\u001b[39m \u001b[39m\"\u001b[39m\u001b[39mutc\u001b[39m\u001b[39m\"\u001b[39m\n\u001b[0;32m    472\u001b[0m \u001b[39mtry\u001b[39;00m:\n\u001b[1;32m--> 473\u001b[0m     result, timezones \u001b[39m=\u001b[39m array_strptime(arg, fmt, exact\u001b[39m=\u001b[39;49mexact, errors\u001b[39m=\u001b[39;49merrors)\n\u001b[0;32m    474\u001b[0m \u001b[39mexcept\u001b[39;00m OutOfBoundsDatetime:\n\u001b[0;32m    475\u001b[0m     \u001b[39mif\u001b[39;00m errors \u001b[39m==\u001b[39m \u001b[39m\"\u001b[39m\u001b[39mraise\u001b[39m\u001b[39m\"\u001b[39m:\n",
      "File \u001b[1;32mc:\\Users\\USER\\anaconda3\\lib\\site-packages\\pandas\\_libs\\tslibs\\strptime.pyx:150\u001b[0m, in \u001b[0;36mpandas._libs.tslibs.strptime.array_strptime\u001b[1;34m()\u001b[0m\n",
      "\u001b[1;31mValueError\u001b[0m: time data '04-09-2005 09:09 TM' does not match format '%d-%m-%Y %I:%M %p' (match)"
     ]
    }
   ],
   "source": [
    "# 첫 번째 데이터는 날짜로 변경가능한 데이터\n",
    "# 두 번째 데이터는 날짜로 변경 불가능한 데이터\n",
    "date_strings = np.array([\n",
    "    '03-04-2005 11:35 PM', '04-09-2005 09:09 TM'])\n",
    "\n",
    "# 예외 발생\n",
    "# print([pd.to_datetime(date, format = '%d-%m-%Y %I:%M %p') for date in date_strings])\n",
    "\n",
    "# 예외가 발생하면 문자열 그대로 저장\n",
    "# list 는 2개의 데이터 자료형이 달라고 문제가 없지만\n",
    "# array 나 dataframe 으로 변환했을 때 문제가 발생할 수 있음 -- 권장하지 않음\n",
    "''' print([pd.to_datetime(date, format = '%d-%m-%Y %I:%M %p', errors= 'ignore') for date in date_strings])\n",
    "print(np.array([pd.to_datetime(date, format = '%d-%m-%Y %I:%M %p', errors= 'ignore') for date in date_strings]))\n",
    "print(pd.DataFrame([pd.to_datetime(date, format = '%d-%m-%Y %I:%M %p', errors= 'ignore') for date in date_strings]).info())\n",
    "'''\n",
    "\n",
    "# 변환이 안되는 경우 NaT 로 설정 : 결측치 처리\n",
    "'''\n",
    "print(pd.DataFrame([pd.to_datetime(date, format = '%d-%m-%Y %I:%M %p', errors= 'coerce') for date in date_strings]).info())\n",
    "'''\n",
    "\n",
    "# 예외를 발생\n",
    "print(pd.DataFrame([pd.to_datetime(date, format = '%d-%m-%Y %I:%M %p', errors= 'raise') for date in date_strings]).info())\n"
   ]
  },
  {
   "cell_type": "code",
   "execution_count": 19,
   "metadata": {},
   "outputs": [
    {
     "name": "stdout",
     "output_type": "stream",
     "text": [
      "PeriodIndex(['2023-01', '2023-02', '2023-04'], dtype='period[M]')\n"
     ]
    }
   ],
   "source": [
    "date_strings = np.array([\n",
    "    '2023-01-01', '2023-02-02', '2023-04-05'])\n",
    "\n",
    "pddates = pd.to_datetime(date_strings)\n",
    "# 월 단위로 변경\n",
    "pr_months = pddates.to_period(freq = 'M')\n",
    "print(pr_months)"
   ]
  },
  {
   "cell_type": "code",
   "execution_count": 32,
   "metadata": {},
   "outputs": [
    {
     "data": {
      "text/plain": [
       "DatetimeIndex(['2023-01-01 00:00:00+09:00', '2023-02-01 00:00:00+09:00',\n",
       "               '2023-03-01 00:00:00+09:00', '2023-04-01 00:00:00+09:00',\n",
       "               '2023-05-01 00:00:00+09:00', '2023-06-01 00:00:00+09:00',\n",
       "               '2023-07-01 00:00:00+09:00', '2023-08-01 00:00:00+09:00',\n",
       "               '2023-09-01 00:00:00+09:00', '2023-10-01 00:00:00+09:00',\n",
       "               '2023-11-01 00:00:00+09:00', '2023-12-01 00:00:00+09:00'],\n",
       "              dtype='datetime64[ns, Asia/Seoul]', freq='MS')"
      ]
     },
     "execution_count": 32,
     "metadata": {},
     "output_type": "execute_result"
    }
   ],
   "source": [
    "# 2023년 1월 1일부터 월 단위로 12개를 생성\n",
    "ts_ms = pd.date_range(start = '2023-01-01', periods = 12, freq = 'MS', tz = 'Asia/Seoul')\n",
    "ts_ms"
   ]
  },
  {
   "cell_type": "code",
   "execution_count": 34,
   "metadata": {},
   "outputs": [
    {
     "name": "stdout",
     "output_type": "stream",
     "text": [
      "['__add__', '__class__', '__contains__', '__delattr__', '__dir__', '__doc__', '__eq__', '__format__', '__ge__', '__getattribute__', '__getitem__', '__getnewargs__', '__gt__', '__hash__', '__init__', '__init_subclass__', '__iter__', '__le__', '__len__', '__lt__', '__mod__', '__mul__', '__ne__', '__new__', '__reduce__', '__reduce_ex__', '__repr__', '__rmod__', '__rmul__', '__setattr__', '__sizeof__', '__str__', '__subclasshook__', 'capitalize', 'casefold', 'center', 'count', 'encode', 'endswith', 'expandtabs', 'find', 'format', 'format_map', 'index', 'isalnum', 'isalpha', 'isascii', 'isdecimal', 'isdigit', 'isidentifier', 'islower', 'isnumeric', 'isprintable', 'isspace', 'istitle', 'isupper', 'join', 'ljust', 'lower', 'lstrip', 'maketrans', 'partition', 'removeprefix', 'removesuffix', 'replace', 'rfind', 'rindex', 'rjust', 'rpartition', 'rsplit', 'rstrip', 'split', 'splitlines', 'startswith', 'strip', 'swapcase', 'title', 'translate', 'upper', 'zfill']\n"
     ]
    }
   ],
   "source": [
    "# print(dir(pd.to_datetime(['21-08-2023'])))\n",
    "# print(dir(str))"
   ]
  },
  {
   "cell_type": "code",
   "execution_count": 35,
   "metadata": {},
   "outputs": [
    {
     "name": "stdout",
     "output_type": "stream",
     "text": [
      "                  Date  Close  Start   High    Low  Volume\n",
      "newDate                                                   \n",
      "2018-07-02  2018-07-02  10100  10850  10900  10000  137977\n",
      "2018-06-29  2018-06-29  10700  10550  10900   9990  170253\n",
      "2018-06-28  2018-06-28  10400  10900  10950  10150  155769\n",
      "2018-06-27  2018-06-27  10900  10800  11050  10500  133548\n",
      "2018-06-26  2018-06-26  10800  10900  11000  10700   63039\n"
     ]
    }
   ],
   "source": [
    "# 데이터를 가져와서 문자열을 날짜로 변경\n",
    "df = pd.read_csv('./data4/stock-data.csv')\n",
    "df['newDate'] = pd.to_datetime(df['Date'])\n",
    "df.set_index('newDate', inplace = True)\n",
    "print(df.head())"
   ]
  },
  {
   "cell_type": "code",
   "execution_count": 40,
   "metadata": {},
   "outputs": [
    {
     "name": "stdout",
     "output_type": "stream",
     "text": [
      "                  Date  Close  Start   High    Low  Volume\n",
      "newDate                                                   \n",
      "2018-07-02  2018-07-02  10100  10850  10900  10000  137977\n",
      "2018-06-29  2018-06-29  10700  10550  10900   9990  170253\n",
      "2018-06-28  2018-06-28  10400  10900  10950  10150  155769\n",
      "2018-06-27  2018-06-27  10900  10800  11050  10500  133548\n",
      "2018-06-26  2018-06-26  10800  10900  11000  10700   63039\n"
     ]
    }
   ],
   "source": [
    "# 날짜 인덱스라서 날짜의 일부분을 가지고 인덱싱 가능\n",
    "df_y = df.loc['2018']\n",
    "print(df_y.head())"
   ]
  },
  {
   "cell_type": "code",
   "execution_count": 38,
   "metadata": {},
   "outputs": [
    {
     "name": "stdout",
     "output_type": "stream",
     "text": [
      "                  Date  Close  Start   High    Low  Volume\n",
      "newDate                                                   \n",
      "2018-07-02  2018-07-02  10100  10850  10900  10000  137977\n"
     ]
    }
   ],
   "source": [
    "df_y = df.loc['2018-07']\n",
    "print(df_y.head())"
   ]
  },
  {
   "cell_type": "code",
   "execution_count": 41,
   "metadata": {},
   "outputs": [
    {
     "name": "stdout",
     "output_type": "stream",
     "text": [
      "                  Date  Close  Start   High    Low  Volume\n",
      "newDate                                                   \n",
      "2018-06-29  2018-06-29  10700  10550  10900   9990  170253\n",
      "2018-06-28  2018-06-28  10400  10900  10950  10150  155769\n",
      "2018-06-27  2018-06-27  10900  10800  11050  10500  133548\n",
      "2018-06-26  2018-06-26  10800  10900  11000  10700   63039\n",
      "2018-06-25  2018-06-25  11150  11400  11450  11000   55519\n",
      "            Start   High    Low\n",
      "newDate                        \n",
      "2018-06-29  10550  10900   9990\n",
      "2018-06-28  10900  10950  10150\n",
      "2018-06-27  10800  11050  10500\n",
      "2018-06-26  10900  11000  10700\n",
      "2018-06-25  11400  11450  11000\n"
     ]
    }
   ],
   "source": [
    "df_y = df.loc['2018-06-25' : '2018-06-30']\n",
    "print(df_y.head())\n",
    "\n",
    "df_y = df.loc['2018-06-25' : '2018-06-30', 'Start' : 'Low']\n",
    "print(df_y.head())"
   ]
  },
  {
   "cell_type": "code",
   "execution_count": 51,
   "metadata": {},
   "outputs": [
    {
     "name": "stdout",
     "output_type": "stream",
     "text": [
      "            Sales\n",
      "2023-01-31    1.0\n",
      "2023-02-28    2.0\n",
      "2023-03-31    3.0\n",
      "2023-04-30    4.0\n",
      "2023-05-31    5.0\n",
      "               Sales\n",
      "2023-01-31  1.000000\n",
      "2023-02-28  2.000000\n",
      "2023-03-31  3.059808\n",
      "2023-04-30  4.038069\n",
      "2023-05-31  5.000000\n"
     ]
    }
   ],
   "source": [
    "time_index = pd.date_range('01-01-2023', periods = 5, freq = 'M')\n",
    "dataframe = pd.DataFrame(index = time_index)\n",
    "dataframe['Sales'] = [1.0, 2.0, np.nan, np.nan, 5.0]\n",
    "# print(dataframe)\n",
    "\n",
    "# 앞의 데이터로 채우기\n",
    "# print(dataframe.ffill())\n",
    "\n",
    "# 보간법\n",
    "print(dataframe.interpolate())\n",
    "print(dataframe.interpolate(method = 'quadratic'))"
   ]
  },
  {
   "cell_type": "code",
   "execution_count": 57,
   "metadata": {},
   "outputs": [
    {
     "name": "stdout",
     "output_type": "stream",
     "text": [
      "            Sales  Stock_Price\n",
      "2023-01-31    NaN          NaN\n",
      "2023-02-28    1.5          1.5\n",
      "2023-03-31    NaN          2.5\n",
      "2023-04-30    NaN          3.5\n",
      "2023-05-31    NaN          4.5\n",
      "               Sales  Stock_Price\n",
      "2023-01-31  1.000000     1.000000\n",
      "2023-02-28  1.750000     1.750000\n",
      "2023-03-31  1.750000     2.615385\n",
      "2023-04-30  1.750000     3.550000\n",
      "2023-05-31  4.847059     4.520661\n"
     ]
    }
   ],
   "source": [
    "dataframe['Stock_Price'] = [1,2,3,4,5]\n",
    "# 단순 이동 평균\n",
    "print(dataframe.rolling(window = 2).mean())\n",
    "\n",
    "# 지수 이동 평균\n",
    "print(dataframe.ewm(span = 2).mean())"
   ]
  },
  {
   "cell_type": "code",
   "execution_count": 61,
   "metadata": {},
   "outputs": [
    {
     "name": "stdout",
     "output_type": "stream",
     "text": [
      "4.8.0\n"
     ]
    }
   ],
   "source": [
    "import cv2\n",
    "print(cv2.__version__)"
   ]
  },
  {
   "cell_type": "code",
   "execution_count": null,
   "metadata": {},
   "outputs": [],
   "source": []
  }
 ],
 "metadata": {
  "kernelspec": {
   "display_name": "base",
   "language": "python",
   "name": "python3"
  },
  "language_info": {
   "codemirror_mode": {
    "name": "ipython",
    "version": 3
   },
   "file_extension": ".py",
   "mimetype": "text/x-python",
   "name": "python",
   "nbconvert_exporter": "python",
   "pygments_lexer": "ipython3",
   "version": "3.10.9"
  },
  "orig_nbformat": 4
 },
 "nbformat": 4,
 "nbformat_minor": 2
}
