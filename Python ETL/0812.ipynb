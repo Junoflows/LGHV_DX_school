{
 "cells": [
  {
   "cell_type": "markdown",
   "metadata": {},
   "source": [
    "## Pandas 의 연산"
   ]
  },
  {
   "cell_type": "markdown",
   "metadata": {},
   "source": [
    "### 그룹화"
   ]
  },
  {
   "cell_type": "code",
   "execution_count": 3,
   "metadata": {},
   "outputs": [],
   "source": [
    "import pandas as pd\n",
    "import numpy as np\n",
    "import seaborn as sns"
   ]
  },
  {
   "cell_type": "code",
   "execution_count": 6,
   "metadata": {},
   "outputs": [
    {
     "name": "stdout",
     "output_type": "stream",
     "text": [
      "<class 'pandas.core.frame.DataFrame'>\n",
      "RangeIndex: 891 entries, 0 to 890\n",
      "Data columns (total 15 columns):\n",
      " #   Column       Non-Null Count  Dtype   \n",
      "---  ------       --------------  -----   \n",
      " 0   survived     891 non-null    int64   \n",
      " 1   pclass       891 non-null    int64   \n",
      " 2   sex          891 non-null    object  \n",
      " 3   age          714 non-null    float64 \n",
      " 4   sibsp        891 non-null    int64   \n",
      " 5   parch        891 non-null    int64   \n",
      " 6   fare         891 non-null    float64 \n",
      " 7   embarked     889 non-null    object  \n",
      " 8   class        891 non-null    category\n",
      " 9   who          891 non-null    object  \n",
      " 10  adult_male   891 non-null    bool    \n",
      " 11  deck         203 non-null    category\n",
      " 12  embark_town  889 non-null    object  \n",
      " 13  alive        891 non-null    object  \n",
      " 14  alone        891 non-null    bool    \n",
      "dtypes: bool(2), category(2), float64(2), int64(4), object(5)\n",
      "memory usage: 80.7+ KB\n",
      "None\n"
     ]
    }
   ],
   "source": [
    "titanic = sns.load_dataset('titanic')\n",
    "print(titanic.info())"
   ]
  },
  {
   "cell_type": "code",
   "execution_count": 7,
   "metadata": {},
   "outputs": [
    {
     "name": "stdout",
     "output_type": "stream",
     "text": [
      "    age     sex  class     fare  survived\n",
      "0  22.0    male  Third   7.2500         0\n",
      "1  38.0  female  First  71.2833         1\n",
      "2  26.0  female  Third   7.9250         1\n",
      "3  35.0  female  First  53.1000         1\n",
      "4  35.0    male  Third   8.0500         0\n"
     ]
    }
   ],
   "source": [
    "# 필요한 컬럼 골라내기\n",
    "df = titanic[['age','sex','class','fare','survived']]\n",
    "print(df.head())"
   ]
  },
  {
   "cell_type": "code",
   "execution_count": 8,
   "metadata": {},
   "outputs": [
    {
     "name": "stdout",
     "output_type": "stream",
     "text": [
      "<pandas.core.groupby.generic.DataFrameGroupBy object at 0x000001D7FE9641C0>\n"
     ]
    }
   ],
   "source": [
    "grouped = df.groupby(['class'])\n",
    "print(grouped)"
   ]
  },
  {
   "cell_type": "code",
   "execution_count": 9,
   "metadata": {},
   "outputs": [
    {
     "name": "stdout",
     "output_type": "stream",
     "text": [
      "First       age     sex  class     fare  survived\n",
      "1    38.0  female  First  71.2833         1\n",
      "3    35.0  female  First  53.1000         1\n",
      "6    54.0    male  First  51.8625         0\n",
      "11   58.0  female  First  26.5500         1\n",
      "23   28.0    male  First  35.5000         1\n",
      "..    ...     ...    ...      ...       ...\n",
      "871  47.0  female  First  52.5542         1\n",
      "872  33.0    male  First   5.0000         0\n",
      "879  56.0  female  First  83.1583         1\n",
      "887  19.0  female  First  30.0000         1\n",
      "889  26.0    male  First  30.0000         1\n",
      "\n",
      "[216 rows x 5 columns]\n",
      "Second       age     sex   class     fare  survived\n",
      "9    14.0  female  Second  30.0708         1\n",
      "15   55.0  female  Second  16.0000         1\n",
      "17    NaN    male  Second  13.0000         1\n",
      "20   35.0    male  Second  26.0000         0\n",
      "21   34.0    male  Second  13.0000         1\n",
      "..    ...     ...     ...      ...       ...\n",
      "866  27.0  female  Second  13.8583         1\n",
      "874  28.0  female  Second  24.0000         1\n",
      "880  25.0  female  Second  26.0000         1\n",
      "883  28.0    male  Second  10.5000         0\n",
      "886  27.0    male  Second  13.0000         0\n",
      "\n",
      "[184 rows x 5 columns]\n",
      "Third       age     sex  class     fare  survived\n",
      "0    22.0    male  Third   7.2500         0\n",
      "2    26.0  female  Third   7.9250         1\n",
      "4    35.0    male  Third   8.0500         0\n",
      "5     NaN    male  Third   8.4583         0\n",
      "7     2.0    male  Third  21.0750         0\n",
      "..    ...     ...    ...      ...       ...\n",
      "882  22.0  female  Third  10.5167         0\n",
      "884  25.0    male  Third   7.0500         0\n",
      "885  39.0  female  Third  29.1250         0\n",
      "888   NaN  female  Third  23.4500         0\n",
      "890  32.0    male  Third   7.7500         0\n",
      "\n",
      "[491 rows x 5 columns]\n"
     ]
    },
    {
     "name": "stderr",
     "output_type": "stream",
     "text": [
      "C:\\Users\\USER\\AppData\\Local\\Temp\\ipykernel_14804\\4187541178.py:1: FutureWarning: In a future version of pandas, a length 1 tuple will be returned when iterating over a groupby with a grouper equal to a list of length 1. Don't supply a list with a single grouper to avoid this warning.\n",
      "  for key, group in grouped:\n"
     ]
    }
   ],
   "source": [
    "for key, group in grouped:\n",
    "    print(key, group)"
   ]
  },
  {
   "cell_type": "code",
   "execution_count": 10,
   "metadata": {},
   "outputs": [
    {
     "name": "stdout",
     "output_type": "stream",
     "text": [
      "              age       fare  survived\n",
      "class                                 \n",
      "First   38.233441  84.154687  0.629630\n",
      "Second  29.877630  20.662183  0.472826\n",
      "Third   25.140620  13.675550  0.242363\n"
     ]
    },
    {
     "name": "stderr",
     "output_type": "stream",
     "text": [
      "C:\\Users\\USER\\AppData\\Local\\Temp\\ipykernel_14804\\3123997789.py:2: FutureWarning: The default value of numeric_only in DataFrameGroupBy.mean is deprecated. In a future version, numeric_only will default to False. Either specify numeric_only or select only columns which should be valid for the function.\n",
      "  print(grouped.mean())\n"
     ]
    }
   ],
   "source": [
    "# 그룹 별 집계 가능\n",
    "print(grouped.mean())"
   ]
  },
  {
   "cell_type": "code",
   "execution_count": 11,
   "metadata": {},
   "outputs": [
    {
     "name": "stdout",
     "output_type": "stream",
     "text": [
      "     age     sex  class     fare  survived\n",
      "1   38.0  female  First  71.2833         1\n",
      "3   35.0  female  First  53.1000         1\n",
      "6   54.0    male  First  51.8625         0\n",
      "11  58.0  female  First  26.5500         1\n",
      "23  28.0    male  First  35.5000         1\n"
     ]
    }
   ],
   "source": [
    "# 개별 그룹 가져오기\n",
    "group1 = grouped.get_group('First')\n",
    "print(group1.head())"
   ]
  },
  {
   "cell_type": "code",
   "execution_count": 12,
   "metadata": {},
   "outputs": [
    {
     "name": "stdout",
     "output_type": "stream",
     "text": [
      "('First', 'female')\n",
      "('First', 'male')\n",
      "('Second', 'female')\n",
      "('Second', 'male')\n",
      "('Third', 'female')\n",
      "('Third', 'male')\n"
     ]
    }
   ],
   "source": [
    "grouped_two = df.groupby(['class','sex'])\n",
    "for key, group in grouped_two:\n",
    "    print(key)"
   ]
  },
  {
   "cell_type": "code",
   "execution_count": null,
   "metadata": {},
   "outputs": [],
   "source": [
    "# 집계 함수 사용\n",
    "print(grouped.std())\n",
    "print(grouped[['fare'].std()])\n",
    "print(grouped.fare.std())"
   ]
  },
  {
   "cell_type": "code",
   "execution_count": 17,
   "metadata": {},
   "outputs": [
    {
     "name": "stdout",
     "output_type": "stream",
     "text": [
      "         age   sex      fare  survived\n",
      "class                                 \n",
      "First   80.0  male  512.3292         1\n",
      "Second  70.0  male   73.5000         1\n",
      "Third   74.0  male   69.5500         1\n",
      "         age           sex       fare           survived    \n",
      "         min   max     min   max  min       max      min max\n",
      "class                                                       \n",
      "First   0.92  80.0  female  male  0.0  512.3292        0   1\n",
      "Second  0.67  70.0  female  male  0.0   73.5000        0   1\n",
      "Third   0.42  74.0  female  male  0.0   69.5500        0   1\n",
      "        fare   age\n",
      "class             \n",
      "First    0.0  0.92\n",
      "Second   0.0  0.67\n",
      "Third    0.0  0.42\n"
     ]
    }
   ],
   "source": [
    "# 사용자 정의 함수 적용\n",
    "\n",
    "# group 에 적용하게 되면 매개변수로 각 가릅이 대입되는 구조\n",
    "def f(group):\n",
    "    return group.max()\n",
    "\n",
    "# 하나의 함수 적용\n",
    "agg_f = grouped.agg(f)\n",
    "print(agg_f)\n",
    "\n",
    "# 여러 개 함수 적용\n",
    "agg_two = grouped.agg([min,max])\n",
    "print(agg_two)\n",
    "\n",
    "# 열마다 다른 함수 적용\n",
    "agg_three = grouped.agg({'fare' : min, 'age' : min})\n",
    "print(agg_three)"
   ]
  },
  {
   "cell_type": "code",
   "execution_count": 19,
   "metadata": {},
   "outputs": [
    {
     "name": "stdout",
     "output_type": "stream",
     "text": [
      "0   -0.251342\n",
      "1   -0.015770\n",
      "2    0.068776\n",
      "3   -0.218434\n",
      "4    0.789041\n",
      "Name: age, dtype: float64\n",
      "age\n",
      "sex\n",
      "class\n",
      "fare\n",
      "survived\n"
     ]
    }
   ],
   "source": [
    "# 셀 단위로 함수 적용 - transform 이나 apply 사용\n",
    "def z_score(x):\n",
    "    return (x - x.mean()) / x.std()\n",
    "\n",
    "agg_zscore = grouped.age.transform(z_score)\n",
    "print(agg_zscore.head())\n",
    "\n",
    "# SQL 의 Having 을 만들고자 할 때는 filter 함수를 이용\n",
    "# 그룹화 한 항목의 필터링은 그룹의 집계함수를 이용해서 필터링을 수행\n",
    "\n",
    "# 행의 개수가 300개 넘는 그룹의 데이터만 추출\n",
    "group_filter = grouped.filter(lambda x : len(x) > 300)\n",
    "for x in group_filter:\n",
    "    print(x)"
   ]
  },
  {
   "cell_type": "code",
   "execution_count": 27,
   "metadata": {},
   "outputs": [
    {
     "name": "stdout",
     "output_type": "stream",
     "text": [
      "age         41.281386\n",
      "fare        67.226127\n",
      "survived     0.368852\n",
      "Name: (First, male), dtype: float64\n",
      "              age       fare  survived\n",
      "class                                 \n",
      "First   41.281386  67.226127  0.368852\n",
      "Second  30.740707  19.741782  0.157407\n",
      "Third   26.507589  12.661633  0.135447\n"
     ]
    }
   ],
   "source": [
    "# print(df)\n",
    "\n",
    "# 2개의 컬럼으로 그룹화 - 멀티인덱스 생성\n",
    "grouped = df.groupby(['class','sex'])\n",
    "\n",
    "# First 클래스이고 sex가 male 인 데이터만 골라오기\n",
    "gdf = grouped.mean()\n",
    "print(gdf.loc[('First', 'male')])\n",
    "print(gdf.xs('male', level = 'sex'))"
   ]
  },
  {
   "cell_type": "code",
   "execution_count": 29,
   "metadata": {},
   "outputs": [
    {
     "data": {
      "text/html": [
       "<div>\n",
       "<style scoped>\n",
       "    .dataframe tbody tr th:only-of-type {\n",
       "        vertical-align: middle;\n",
       "    }\n",
       "\n",
       "    .dataframe tbody tr th {\n",
       "        vertical-align: top;\n",
       "    }\n",
       "\n",
       "    .dataframe thead th {\n",
       "        text-align: right;\n",
       "    }\n",
       "</style>\n",
       "<table border=\"1\" class=\"dataframe\">\n",
       "  <thead>\n",
       "    <tr style=\"text-align: right;\">\n",
       "      <th>class</th>\n",
       "      <th>First</th>\n",
       "      <th>Second</th>\n",
       "      <th>Third</th>\n",
       "    </tr>\n",
       "    <tr>\n",
       "      <th>sex</th>\n",
       "      <th></th>\n",
       "      <th></th>\n",
       "      <th></th>\n",
       "    </tr>\n",
       "  </thead>\n",
       "  <tbody>\n",
       "    <tr>\n",
       "      <th>female</th>\n",
       "      <td>34.611765</td>\n",
       "      <td>28.722973</td>\n",
       "      <td>21.750000</td>\n",
       "    </tr>\n",
       "    <tr>\n",
       "      <th>male</th>\n",
       "      <td>41.281386</td>\n",
       "      <td>30.740707</td>\n",
       "      <td>26.507589</td>\n",
       "    </tr>\n",
       "  </tbody>\n",
       "</table>\n",
       "</div>"
      ],
      "text/plain": [
       "class       First     Second      Third\n",
       "sex                                    \n",
       "female  34.611765  28.722973  21.750000\n",
       "male    41.281386  30.740707  26.507589"
      ]
     },
     "execution_count": 29,
     "metadata": {},
     "output_type": "execute_result"
    }
   ],
   "source": [
    "pd.pivot_table(df, index = 'sex', columns = 'class', values = 'age', aggfunc = 'mean')"
   ]
  },
  {
   "cell_type": "markdown",
   "metadata": {},
   "source": [
    "## 서울시 구별 CCTV와 인구 데이터 사용"
   ]
  },
  {
   "cell_type": "markdown",
   "metadata": {},
   "source": [
    "### 필요한 라이브러리 import"
   ]
  },
  {
   "cell_type": "code",
   "execution_count": 5,
   "metadata": {},
   "outputs": [
    {
     "name": "stdout",
     "output_type": "stream",
     "text": [
      "<class 'pandas.core.frame.DataFrame'>\n",
      "RangeIndex: 25 entries, 0 to 24\n",
      "Data columns (total 10 columns):\n",
      " #   Column    Non-Null Count  Dtype  \n",
      "---  ------    --------------  -----  \n",
      " 0   기관명       25 non-null     object \n",
      " 1   소계        25 non-null     int64  \n",
      " 2   2011년 이전  23 non-null     float64\n",
      " 3   2012년     23 non-null     float64\n",
      " 4   2013년     23 non-null     float64\n",
      " 5   2014년     25 non-null     int64  \n",
      " 6   2015년     25 non-null     int64  \n",
      " 7   2016년     25 non-null     int64  \n",
      " 8   2017년     25 non-null     int64  \n",
      " 9   2018년     25 non-null     int64  \n",
      "dtypes: float64(3), int64(6), object(1)\n",
      "memory usage: 2.1+ KB\n",
      "None\n"
     ]
    }
   ],
   "source": [
    "import pandas as pd\n",
    "import numpy as np\n",
    "\n",
    "# 시각화 패키지\n",
    "import matplotlib.pyplot as plt\n",
    "\n",
    "# 시각화할 때 한글 출력\n",
    "import platform\n",
    "from matplotlib import font_manager, rc\n",
    "\n",
    "cctv = pd.read_excel('./data3/cctv.xlsx')\n",
    "print(cctv.info())"
   ]
  },
  {
   "cell_type": "code",
   "execution_count": 6,
   "metadata": {},
   "outputs": [
    {
     "name": "stdout",
     "output_type": "stream",
     "text": [
      "         기간  자치구       세대        계       남자       여자      계.1     남자.1  \\\n",
      "0  2021.2/4   합계  4405638  9795426  4756178  5039248  9565990  4649442   \n",
      "1  2021.2/4  종로구    73525   155106    75009    80097   146029    70985   \n",
      "2  2021.2/4   중구    62897   132259    64526    67733   123016    60019   \n",
      "3  2021.2/4  용산구   111650   240665   116858   123807   226378   108948   \n",
      "4  2021.2/4  성동구   134542   295767   143927   151840   289162   141042   \n",
      "\n",
      "      여자.1     계.2    남자.2    여자.2  세대당인구  65세이상고령자  \n",
      "0  4916548  229436  106736  122700   2.17   1576971  \n",
      "1    75044    9077    4024    5053   1.99     27605  \n",
      "2    62997    9243    4507    4736   1.96     23980  \n",
      "3   117430   14287    7910    6377   2.03     38884  \n",
      "4   148120    6605    2885    3720   2.15     45591  \n"
     ]
    }
   ],
   "source": [
    "# pop.txt 는 처음 2개의 행은 의미가 없음\n",
    "# 한글을 포함\n",
    "# 구문 기호는 tab\n",
    "# 천 단위 구분 기호가 존재\n",
    "\n",
    "pop = pd.read_csv('./data3/pop.txt', skiprows= 2, delimiter= '\\t', thousands=',')\n",
    "print(pop.head())"
   ]
  },
  {
   "cell_type": "markdown",
   "metadata": {},
   "source": [
    "### 컬럼 이름 변경"
   ]
  },
  {
   "cell_type": "code",
   "execution_count": 7,
   "metadata": {},
   "outputs": [
    {
     "name": "stdout",
     "output_type": "stream",
     "text": [
      "    구별    소계  2011년 이전  2012년  2013년  2014년  2015년  2016년  2017년  2018년\n",
      "0  강남구  5221    1944.0  195.0  316.0    430    546    765    577    448\n",
      "1  강동구  1879     303.0  387.0  134.0     59    144    194    273    385\n",
      "2  강북구  1265     243.0   88.0  141.0     74    145    254      1    319\n",
      "3  강서구  1617     219.0  155.0  118.0    230    187    190    264    254\n",
      "4  관악구  3985     430.0   56.0  419.0    487    609    619    694    671\n",
      "         기간   구별       세대        계       남자       여자      계.1     남자.1  \\\n",
      "0  2021.2/4   합계  4405638  9795426  4756178  5039248  9565990  4649442   \n",
      "1  2021.2/4  종로구    73525   155106    75009    80097   146029    70985   \n",
      "2  2021.2/4   중구    62897   132259    64526    67733   123016    60019   \n",
      "3  2021.2/4  용산구   111650   240665   116858   123807   226378   108948   \n",
      "4  2021.2/4  성동구   134542   295767   143927   151840   289162   141042   \n",
      "\n",
      "      여자.1     계.2    남자.2    여자.2  세대당인구  65세이상고령자  \n",
      "0  4916548  229436  106736  122700   2.17   1576971  \n",
      "1    75044    9077    4024    5053   1.99     27605  \n",
      "2    62997    9243    4507    4736   1.96     23980  \n",
      "3   117430   14287    7910    6377   2.03     38884  \n",
      "4   148120    6605    2885    3720   2.15     45591  \n"
     ]
    }
   ],
   "source": [
    "# 컬럼 이름 변경\n",
    "cctv.rename(columns = {cctv.columns[0]: '구별'}, inplace = True)\n",
    "pop.rename(columns = {pop.columns[1]: '구별'}, inplace = True)\n",
    "\n",
    "# cctv의 구이름에는 중간에 공백이 존재하고 pop은 구 이름에는 공백이 없음\n",
    "\n",
    "gu = []\n",
    "for x in cctv['구별']:\n",
    "    gu.append(x.replace(' ', ''))\n",
    "\n",
    "cctv['구별'] = gu\n",
    "\n",
    "print(cctv.head())\n",
    "print(pop.head())"
   ]
  },
  {
   "cell_type": "markdown",
   "metadata": {},
   "source": [
    "### 불 필요한 열과 행 제거"
   ]
  },
  {
   "cell_type": "code",
   "execution_count": 18,
   "metadata": {},
   "outputs": [
    {
     "name": "stdout",
     "output_type": "stream",
     "text": [
      "          기간    구별       계      남자      여자       여성비율\n",
      "1   2021.2/4   종로구  155106   75009   80097  51.640169\n",
      "2   2021.2/4    중구  132259   64526   67733  51.212394\n",
      "3   2021.2/4   용산구  240665  116858  123807  51.443708\n",
      "4   2021.2/4   성동구  295767  143927  151840  51.337708\n",
      "5   2021.2/4   광진구  355306  170624  184682  51.978295\n",
      "6   2021.2/4  동대문구  352259  172865  179394  50.926733\n",
      "7   2021.2/4   중랑구  394679  194556  200123  50.705257\n",
      "8   2021.2/4   성북구  443206  212849  230357  51.975154\n",
      "9   2021.2/4   강북구  306093  148824  157269  51.379483\n",
      "10  2021.2/4   도봉구  322419  156843  165576  51.354294\n",
      "11  2021.2/4   노원구  520005  250532  269473  51.821232\n",
      "12  2021.2/4   은평구  479409  229241  250168  52.182583\n",
      "13  2021.2/4  서대문구  317699  150608  167091  52.594122\n",
      "14  2021.2/4   마포구  379984  177998  201986  53.156449\n",
      "15  2021.2/4   양천구  454288  222538  231750  51.013894\n",
      "16  2021.2/4   강서구  582995  280822  302173  51.831148\n",
      "17  2021.2/4   구로구  424582  210936  213646  50.319137\n",
      "18  2021.2/4   금천구  244685  124394  120291  49.161575\n",
      "19  2021.2/4  영등포구  402375  199881  202494  50.324697\n",
      "20  2021.2/4   동작구  397231  191657  205574  51.751751\n",
      "21  2021.2/4   관악구  502698  251713  250985  49.927591\n",
      "22  2021.2/4   서초구  422174  202027  220147  52.146035\n",
      "23  2021.2/4   강남구  536107  256449  279658  52.164587\n",
      "24  2021.2/4   송파구  664341  320113  344228  51.814956\n",
      "25  2021.2/4   강동구  469094  230388  238706  50.886603\n"
     ]
    }
   ],
   "source": [
    "# pop 데이터에서 기간, 구별, 계, 남자, 여자 열만 필요\n",
    "pop = pop[['기간','구별','계','남자','여자']]\n",
    "\n",
    "#pop 데이터의 첫 번째 행은 전체 데이터의 집계라서 불필요\n",
    "pop.drop([0], inplace=True)\n",
    "\n",
    "# 새로운 열을 추가 - 없는 열 이름에 데이터를 대입\n",
    "pop['여성비율'] = pop['여자'] / pop['계'] * 100\n",
    "print(pop)"
   ]
  },
  {
   "cell_type": "code",
   "execution_count": 19,
   "metadata": {},
   "outputs": [
    {
     "name": "stdout",
     "output_type": "stream",
     "text": [
      "      구별    소계  2011년 이전  2012년  2013년  2014년  2015년  2016년  2017년  2018년  \\\n",
      "0    강남구  5221    1944.0  195.0  316.0    430    546    765    577    448   \n",
      "1    강동구  1879     303.0  387.0  134.0     59    144    194    273    385   \n",
      "2    강북구  1265     243.0   88.0  141.0     74    145    254      1    319   \n",
      "3    강서구  1617     219.0  155.0  118.0    230    187    190    264    254   \n",
      "4    관악구  3985     430.0   56.0  419.0    487    609    619    694    671   \n",
      "5    광진구  1581     470.0   42.0   83.0     87     64     21    468    346   \n",
      "6    구로구  3227     852.0  219.0  349.0    187    268    326    540    486   \n",
      "7    금천구  1634      27.0   17.0  242.0    101    382    136    199    530   \n",
      "8    노원구  1906     481.0  117.0  203.0     80    461    298    110    156   \n",
      "9    도봉구   858     197.0   66.0    8.0    185     59    155    117     71   \n",
      "10  동대문구  2003       NaN    NaN    NaN   1326    111    233    136    197   \n",
      "11   동작구  1780     238.0   93.0   29.0    503    130    254    278    255   \n",
      "12   마포구  1935     585.0  108.0   69.0     70    177    359    372    195   \n",
      "13  서대문구  2121     565.0  233.0  214.0    114    109    277    415    194   \n",
      "14   서초구  2835    1172.0   91.0  228.0    134    215    352    247    396   \n",
      "15   성동구  2679     665.0  109.0  118.0    101    258    201    933    294   \n",
      "16   성북구  3003     779.0   84.0  304.0    241    279    388    285    643   \n",
      "17   송파구  1586     600.0   99.0   88.0     21    166    100    116    396   \n",
      "18   양천구  2775     772.0  161.0  185.0    169    172    349    137    830   \n",
      "19  영등포구  2495     132.0  121.0  206.0    217    366    289    371    793   \n",
      "20   용산구  2063    1279.0  152.0  201.0    107    102     89     60     73   \n",
      "21   은평구  2962    1365.0   83.0   99.0    343    180    296    229    367   \n",
      "22   종로구  1471       8.0    7.0  599.0    132    195    148    281    101   \n",
      "23    중구  1544      25.0  165.0  114.0     80    245    270    317    328   \n",
      "24   중랑구  1068       NaN    NaN    NaN    770    102    121     66      9   \n",
      "\n",
      "          기간       계      남자      여자       여성비율  \n",
      "0   2021.2/4  536107  256449  279658  52.164587  \n",
      "1   2021.2/4  469094  230388  238706  50.886603  \n",
      "2   2021.2/4  306093  148824  157269  51.379483  \n",
      "3   2021.2/4  582995  280822  302173  51.831148  \n",
      "4   2021.2/4  502698  251713  250985  49.927591  \n",
      "5   2021.2/4  355306  170624  184682  51.978295  \n",
      "6   2021.2/4  424582  210936  213646  50.319137  \n",
      "7   2021.2/4  244685  124394  120291  49.161575  \n",
      "8   2021.2/4  520005  250532  269473  51.821232  \n",
      "9   2021.2/4  322419  156843  165576  51.354294  \n",
      "10  2021.2/4  352259  172865  179394  50.926733  \n",
      "11  2021.2/4  397231  191657  205574  51.751751  \n",
      "12  2021.2/4  379984  177998  201986  53.156449  \n",
      "13  2021.2/4  317699  150608  167091  52.594122  \n",
      "14  2021.2/4  422174  202027  220147  52.146035  \n",
      "15  2021.2/4  295767  143927  151840  51.337708  \n",
      "16  2021.2/4  443206  212849  230357  51.975154  \n",
      "17  2021.2/4  664341  320113  344228  51.814956  \n",
      "18  2021.2/4  454288  222538  231750  51.013894  \n",
      "19  2021.2/4  402375  199881  202494  50.324697  \n",
      "20  2021.2/4  240665  116858  123807  51.443708  \n",
      "21  2021.2/4  479409  229241  250168  52.182583  \n",
      "22  2021.2/4  155106   75009   80097  51.640169  \n",
      "23  2021.2/4  132259   64526   67733  51.212394  \n",
      "24  2021.2/4  394679  194556  200123  50.705257  \n"
     ]
    }
   ],
   "source": [
    "df = pd.merge(cctv, pop, on = '구별')\n",
    "print(df)"
   ]
  },
  {
   "cell_type": "markdown",
   "metadata": {},
   "source": [
    "### 불필요한 열 삭제"
   ]
  },
  {
   "cell_type": "code",
   "execution_count": 20,
   "metadata": {},
   "outputs": [
    {
     "data": {
      "text/html": [
       "<div>\n",
       "<style scoped>\n",
       "    .dataframe tbody tr th:only-of-type {\n",
       "        vertical-align: middle;\n",
       "    }\n",
       "\n",
       "    .dataframe tbody tr th {\n",
       "        vertical-align: top;\n",
       "    }\n",
       "\n",
       "    .dataframe thead th {\n",
       "        text-align: right;\n",
       "    }\n",
       "</style>\n",
       "<table border=\"1\" class=\"dataframe\">\n",
       "  <thead>\n",
       "    <tr style=\"text-align: right;\">\n",
       "      <th></th>\n",
       "      <th>구별</th>\n",
       "      <th>소계</th>\n",
       "      <th>2018년</th>\n",
       "      <th>계</th>\n",
       "      <th>남자</th>\n",
       "      <th>여자</th>\n",
       "      <th>여성비율</th>\n",
       "    </tr>\n",
       "  </thead>\n",
       "  <tbody>\n",
       "    <tr>\n",
       "      <th>0</th>\n",
       "      <td>강남구</td>\n",
       "      <td>5221</td>\n",
       "      <td>448</td>\n",
       "      <td>536107</td>\n",
       "      <td>256449</td>\n",
       "      <td>279658</td>\n",
       "      <td>52.164587</td>\n",
       "    </tr>\n",
       "    <tr>\n",
       "      <th>1</th>\n",
       "      <td>강동구</td>\n",
       "      <td>1879</td>\n",
       "      <td>385</td>\n",
       "      <td>469094</td>\n",
       "      <td>230388</td>\n",
       "      <td>238706</td>\n",
       "      <td>50.886603</td>\n",
       "    </tr>\n",
       "    <tr>\n",
       "      <th>2</th>\n",
       "      <td>강북구</td>\n",
       "      <td>1265</td>\n",
       "      <td>319</td>\n",
       "      <td>306093</td>\n",
       "      <td>148824</td>\n",
       "      <td>157269</td>\n",
       "      <td>51.379483</td>\n",
       "    </tr>\n",
       "    <tr>\n",
       "      <th>3</th>\n",
       "      <td>강서구</td>\n",
       "      <td>1617</td>\n",
       "      <td>254</td>\n",
       "      <td>582995</td>\n",
       "      <td>280822</td>\n",
       "      <td>302173</td>\n",
       "      <td>51.831148</td>\n",
       "    </tr>\n",
       "    <tr>\n",
       "      <th>4</th>\n",
       "      <td>관악구</td>\n",
       "      <td>3985</td>\n",
       "      <td>671</td>\n",
       "      <td>502698</td>\n",
       "      <td>251713</td>\n",
       "      <td>250985</td>\n",
       "      <td>49.927591</td>\n",
       "    </tr>\n",
       "    <tr>\n",
       "      <th>5</th>\n",
       "      <td>광진구</td>\n",
       "      <td>1581</td>\n",
       "      <td>346</td>\n",
       "      <td>355306</td>\n",
       "      <td>170624</td>\n",
       "      <td>184682</td>\n",
       "      <td>51.978295</td>\n",
       "    </tr>\n",
       "    <tr>\n",
       "      <th>6</th>\n",
       "      <td>구로구</td>\n",
       "      <td>3227</td>\n",
       "      <td>486</td>\n",
       "      <td>424582</td>\n",
       "      <td>210936</td>\n",
       "      <td>213646</td>\n",
       "      <td>50.319137</td>\n",
       "    </tr>\n",
       "    <tr>\n",
       "      <th>7</th>\n",
       "      <td>금천구</td>\n",
       "      <td>1634</td>\n",
       "      <td>530</td>\n",
       "      <td>244685</td>\n",
       "      <td>124394</td>\n",
       "      <td>120291</td>\n",
       "      <td>49.161575</td>\n",
       "    </tr>\n",
       "    <tr>\n",
       "      <th>8</th>\n",
       "      <td>노원구</td>\n",
       "      <td>1906</td>\n",
       "      <td>156</td>\n",
       "      <td>520005</td>\n",
       "      <td>250532</td>\n",
       "      <td>269473</td>\n",
       "      <td>51.821232</td>\n",
       "    </tr>\n",
       "    <tr>\n",
       "      <th>9</th>\n",
       "      <td>도봉구</td>\n",
       "      <td>858</td>\n",
       "      <td>71</td>\n",
       "      <td>322419</td>\n",
       "      <td>156843</td>\n",
       "      <td>165576</td>\n",
       "      <td>51.354294</td>\n",
       "    </tr>\n",
       "    <tr>\n",
       "      <th>10</th>\n",
       "      <td>동대문구</td>\n",
       "      <td>2003</td>\n",
       "      <td>197</td>\n",
       "      <td>352259</td>\n",
       "      <td>172865</td>\n",
       "      <td>179394</td>\n",
       "      <td>50.926733</td>\n",
       "    </tr>\n",
       "    <tr>\n",
       "      <th>11</th>\n",
       "      <td>동작구</td>\n",
       "      <td>1780</td>\n",
       "      <td>255</td>\n",
       "      <td>397231</td>\n",
       "      <td>191657</td>\n",
       "      <td>205574</td>\n",
       "      <td>51.751751</td>\n",
       "    </tr>\n",
       "    <tr>\n",
       "      <th>12</th>\n",
       "      <td>마포구</td>\n",
       "      <td>1935</td>\n",
       "      <td>195</td>\n",
       "      <td>379984</td>\n",
       "      <td>177998</td>\n",
       "      <td>201986</td>\n",
       "      <td>53.156449</td>\n",
       "    </tr>\n",
       "    <tr>\n",
       "      <th>13</th>\n",
       "      <td>서대문구</td>\n",
       "      <td>2121</td>\n",
       "      <td>194</td>\n",
       "      <td>317699</td>\n",
       "      <td>150608</td>\n",
       "      <td>167091</td>\n",
       "      <td>52.594122</td>\n",
       "    </tr>\n",
       "    <tr>\n",
       "      <th>14</th>\n",
       "      <td>서초구</td>\n",
       "      <td>2835</td>\n",
       "      <td>396</td>\n",
       "      <td>422174</td>\n",
       "      <td>202027</td>\n",
       "      <td>220147</td>\n",
       "      <td>52.146035</td>\n",
       "    </tr>\n",
       "    <tr>\n",
       "      <th>15</th>\n",
       "      <td>성동구</td>\n",
       "      <td>2679</td>\n",
       "      <td>294</td>\n",
       "      <td>295767</td>\n",
       "      <td>143927</td>\n",
       "      <td>151840</td>\n",
       "      <td>51.337708</td>\n",
       "    </tr>\n",
       "    <tr>\n",
       "      <th>16</th>\n",
       "      <td>성북구</td>\n",
       "      <td>3003</td>\n",
       "      <td>643</td>\n",
       "      <td>443206</td>\n",
       "      <td>212849</td>\n",
       "      <td>230357</td>\n",
       "      <td>51.975154</td>\n",
       "    </tr>\n",
       "    <tr>\n",
       "      <th>17</th>\n",
       "      <td>송파구</td>\n",
       "      <td>1586</td>\n",
       "      <td>396</td>\n",
       "      <td>664341</td>\n",
       "      <td>320113</td>\n",
       "      <td>344228</td>\n",
       "      <td>51.814956</td>\n",
       "    </tr>\n",
       "    <tr>\n",
       "      <th>18</th>\n",
       "      <td>양천구</td>\n",
       "      <td>2775</td>\n",
       "      <td>830</td>\n",
       "      <td>454288</td>\n",
       "      <td>222538</td>\n",
       "      <td>231750</td>\n",
       "      <td>51.013894</td>\n",
       "    </tr>\n",
       "    <tr>\n",
       "      <th>19</th>\n",
       "      <td>영등포구</td>\n",
       "      <td>2495</td>\n",
       "      <td>793</td>\n",
       "      <td>402375</td>\n",
       "      <td>199881</td>\n",
       "      <td>202494</td>\n",
       "      <td>50.324697</td>\n",
       "    </tr>\n",
       "    <tr>\n",
       "      <th>20</th>\n",
       "      <td>용산구</td>\n",
       "      <td>2063</td>\n",
       "      <td>73</td>\n",
       "      <td>240665</td>\n",
       "      <td>116858</td>\n",
       "      <td>123807</td>\n",
       "      <td>51.443708</td>\n",
       "    </tr>\n",
       "    <tr>\n",
       "      <th>21</th>\n",
       "      <td>은평구</td>\n",
       "      <td>2962</td>\n",
       "      <td>367</td>\n",
       "      <td>479409</td>\n",
       "      <td>229241</td>\n",
       "      <td>250168</td>\n",
       "      <td>52.182583</td>\n",
       "    </tr>\n",
       "    <tr>\n",
       "      <th>22</th>\n",
       "      <td>종로구</td>\n",
       "      <td>1471</td>\n",
       "      <td>101</td>\n",
       "      <td>155106</td>\n",
       "      <td>75009</td>\n",
       "      <td>80097</td>\n",
       "      <td>51.640169</td>\n",
       "    </tr>\n",
       "    <tr>\n",
       "      <th>23</th>\n",
       "      <td>중구</td>\n",
       "      <td>1544</td>\n",
       "      <td>328</td>\n",
       "      <td>132259</td>\n",
       "      <td>64526</td>\n",
       "      <td>67733</td>\n",
       "      <td>51.212394</td>\n",
       "    </tr>\n",
       "    <tr>\n",
       "      <th>24</th>\n",
       "      <td>중랑구</td>\n",
       "      <td>1068</td>\n",
       "      <td>9</td>\n",
       "      <td>394679</td>\n",
       "      <td>194556</td>\n",
       "      <td>200123</td>\n",
       "      <td>50.705257</td>\n",
       "    </tr>\n",
       "  </tbody>\n",
       "</table>\n",
       "</div>"
      ],
      "text/plain": [
       "      구별    소계  2018년       계      남자      여자       여성비율\n",
       "0    강남구  5221    448  536107  256449  279658  52.164587\n",
       "1    강동구  1879    385  469094  230388  238706  50.886603\n",
       "2    강북구  1265    319  306093  148824  157269  51.379483\n",
       "3    강서구  1617    254  582995  280822  302173  51.831148\n",
       "4    관악구  3985    671  502698  251713  250985  49.927591\n",
       "5    광진구  1581    346  355306  170624  184682  51.978295\n",
       "6    구로구  3227    486  424582  210936  213646  50.319137\n",
       "7    금천구  1634    530  244685  124394  120291  49.161575\n",
       "8    노원구  1906    156  520005  250532  269473  51.821232\n",
       "9    도봉구   858     71  322419  156843  165576  51.354294\n",
       "10  동대문구  2003    197  352259  172865  179394  50.926733\n",
       "11   동작구  1780    255  397231  191657  205574  51.751751\n",
       "12   마포구  1935    195  379984  177998  201986  53.156449\n",
       "13  서대문구  2121    194  317699  150608  167091  52.594122\n",
       "14   서초구  2835    396  422174  202027  220147  52.146035\n",
       "15   성동구  2679    294  295767  143927  151840  51.337708\n",
       "16   성북구  3003    643  443206  212849  230357  51.975154\n",
       "17   송파구  1586    396  664341  320113  344228  51.814956\n",
       "18   양천구  2775    830  454288  222538  231750  51.013894\n",
       "19  영등포구  2495    793  402375  199881  202494  50.324697\n",
       "20   용산구  2063     73  240665  116858  123807  51.443708\n",
       "21   은평구  2962    367  479409  229241  250168  52.182583\n",
       "22   종로구  1471    101  155106   75009   80097  51.640169\n",
       "23    중구  1544    328  132259   64526   67733  51.212394\n",
       "24   중랑구  1068      9  394679  194556  200123  50.705257"
      ]
     },
     "execution_count": 20,
     "metadata": {},
     "output_type": "execute_result"
    }
   ],
   "source": [
    "# ~2017년까지 열을 삭제 \n",
    "# del 을 이용, pandas 에서는 비추천\n",
    "del df['2011년 이전']\n",
    "del df['2012년']\n",
    "del df['2013년']\n",
    "del df['2014년']\n",
    "del df['2015년']\n",
    "del df['2016년']\n",
    "del df['2017년']\n",
    "del df['기간']\n",
    "print(df)"
   ]
  },
  {
   "cell_type": "markdown",
   "metadata": {},
   "source": [
    "### 인덱스 설정"
   ]
  },
  {
   "cell_type": "code",
   "execution_count": 21,
   "metadata": {},
   "outputs": [
    {
     "name": "stdout",
     "output_type": "stream",
     "text": [
      "        소계  2018년       계      남자      여자       여성비율\n",
      "구별                                                  \n",
      "강남구   5221    448  536107  256449  279658  52.164587\n",
      "강동구   1879    385  469094  230388  238706  50.886603\n",
      "강북구   1265    319  306093  148824  157269  51.379483\n",
      "강서구   1617    254  582995  280822  302173  51.831148\n",
      "관악구   3985    671  502698  251713  250985  49.927591\n",
      "광진구   1581    346  355306  170624  184682  51.978295\n",
      "구로구   3227    486  424582  210936  213646  50.319137\n",
      "금천구   1634    530  244685  124394  120291  49.161575\n",
      "노원구   1906    156  520005  250532  269473  51.821232\n",
      "도봉구    858     71  322419  156843  165576  51.354294\n",
      "동대문구  2003    197  352259  172865  179394  50.926733\n",
      "동작구   1780    255  397231  191657  205574  51.751751\n",
      "마포구   1935    195  379984  177998  201986  53.156449\n",
      "서대문구  2121    194  317699  150608  167091  52.594122\n",
      "서초구   2835    396  422174  202027  220147  52.146035\n",
      "성동구   2679    294  295767  143927  151840  51.337708\n",
      "성북구   3003    643  443206  212849  230357  51.975154\n",
      "송파구   1586    396  664341  320113  344228  51.814956\n",
      "양천구   2775    830  454288  222538  231750  51.013894\n",
      "영등포구  2495    793  402375  199881  202494  50.324697\n",
      "용산구   2063     73  240665  116858  123807  51.443708\n",
      "은평구   2962    367  479409  229241  250168  52.182583\n",
      "종로구   1471    101  155106   75009   80097  51.640169\n",
      "중구    1544    328  132259   64526   67733  51.212394\n",
      "중랑구   1068      9  394679  194556  200123  50.705257\n"
     ]
    }
   ],
   "source": [
    "df.set_index('구별', inplace=True)\n",
    "print(df)"
   ]
  },
  {
   "cell_type": "code",
   "execution_count": 23,
   "metadata": {},
   "outputs": [],
   "source": [
    "# matplotlib 의 기본 폰트가 한글을 지원하지 않음\n",
    "# 운영 체제별로 폰트의 이치가 다르므로 조건문ㅇ르 이용해서 설정\n",
    "if platform.system() == \"Windows\":\n",
    "    font_name = font_manager.FontProperties(fname = 'c:/Windows/Fonts/malgun.ttf').get_name()\n",
    "    rc('font', family = font_name)\n",
    "elif platform.system() == \"Darwin\":\n",
    "    rc('font', family = 'AppleGothic')"
   ]
  },
  {
   "cell_type": "code",
   "execution_count": 25,
   "metadata": {},
   "outputs": [
    {
     "data": {
      "image/png": "[encoded data removed]",
      "text/plain": [
       "<Figure size 1000x1000 with 1 Axes>"
      ]
     },
     "metadata": {},
     "output_type": "display_data"
    }
   ],
   "source": [
    "df['소계'].sort_values().plot(kind = 'barh', grid =True, figsize =(10, 10))\n",
    "plt.show()"
   ]
  },
  {
   "cell_type": "code",
   "execution_count": 26,
   "metadata": {},
   "outputs": [
    {
     "data": {
      "image/png": "[encoded data removed]",
      "text/plain": [
       "<Figure size 1000x1000 with 1 Axes>"
      ]
     },
     "metadata": {},
     "output_type": "display_data"
    }
   ],
   "source": [
    "df['cctv비율'] = df['소계'] / df['계'] * 100\n",
    "df['cctv비율'].sort_values().plot(kind = 'barh', grid =True, figsize =(10, 10))\n",
    "plt.show()"
   ]
  },
  {
   "cell_type": "code",
   "execution_count": 27,
   "metadata": {},
   "outputs": [
    {
     "data": {
      "image/png": "[encoded data removed]",
      "text/plain": [
       "<Figure size 600x600 with 1 Axes>"
      ]
     },
     "metadata": {},
     "output_type": "display_data"
    }
   ],
   "source": [
    "# matplotlib 에서 제공하는 시각화를 활용\n",
    "plt.figure(figsize = (6, 6))\n",
    "plt.scatter(df['계'], df['소계'], s = 50)\n",
    "plt.xlabel('인구 수')\n",
    "plt.ylabel('cctv 개수')\n",
    "plt.grid()\n",
    "plt.show()\n",
    "\n",
    "# 산점도를 그리는 경우 방향성과 그룹화 가능성을 확인"
   ]
  },
  {
   "cell_type": "code",
   "execution_count": 32,
   "metadata": {},
   "outputs": [
    {
     "name": "stdout",
     "output_type": "stream",
     "text": [
      " \n",
      "0.002892 x + 1087\n"
     ]
    },
    {
     "data": {
      "image/png": "[encoded data removed]",
      "text/plain": [
       "<Figure size 600x600 with 1 Axes>"
      ]
     },
     "metadata": {},
     "output_type": "display_data"
    }
   ],
   "source": [
    "# 2개의 데이터 간의 단항식을 구해서 출력\n",
    "fp1 = np.polyfit(df['계'], df['소계'], 1)\n",
    "f1 = np.poly1d(fp1)\n",
    "print(f1)\n",
    "\n",
    "# 산점도와 단항식을 같이 출력\n",
    "fx = np.linspace(100000, 700000, 100)\n",
    "\n",
    "plt.figure(figsize = (6, 6))\n",
    "plt.scatter(df['계'], df['소계'], s = 50)\n",
    "plt.plot(fx, f1(fx), ls = 'dashed', lw = 3, color = 'g')\n",
    "plt.xlabel('인구 수')\n",
    "plt.ylabel('cctv 개수')\n",
    "plt.grid()\n",
    "plt.show()\n",
    "\n",
    "# 산점도를 그리는 경우 방향성과 그룹화 가능성을 확인"
   ]
  },
  {
   "cell_type": "code",
   "execution_count": 34,
   "metadata": {},
   "outputs": [
    {
     "name": "stdout",
     "output_type": "stream",
     "text": [
      " \n",
      "0.002892 x + 1087\n"
     ]
    },
    {
     "data": {
      "image/png": "[encoded data removed]",
      "text/plain": [
       "<Figure size 600x600 with 1 Axes>"
      ]
     },
     "metadata": {},
     "output_type": "display_data"
    }
   ],
   "source": [
    "# 2개의 데이터 간의 단항식을 구해서 출력\n",
    "fp1 = np.polyfit(df['계'], df['소계'], 1)\n",
    "f1 = np.poly1d(fp1)\n",
    "print(f1)\n",
    "\n",
    "# 산점도와 단항식을 같이 출력\n",
    "fx = np.linspace(100000, 700000, 100)\n",
    "\n",
    "df['오차'] = np.abs(df['소계'] - f1(df['계']))\n",
    "\n",
    "plt.figure(figsize = (6, 6))\n",
    "plt.scatter(df['계'], df['소계'], c = df['오차'], s = 50)\n",
    "plt.plot(fx, f1(fx), ls = 'dashed', lw = 3, color = 'g')\n",
    "\n",
    "for n in range(24):\n",
    "    plt.text(df['계'][n] * 1.02, df['소계'][n] * 0.98, df.index[n], fontsize = 12)\n",
    "    \n",
    "plt.xlabel('인구 수')\n",
    "plt.ylabel('cctv 개수')\n",
    "plt.grid()\n",
    "plt.show()\n",
    "\n",
    "# 산점도를 그리는 경우 방향성과 그룹화 가능성을 확인"
   ]
  },
  {
   "cell_type": "code",
   "execution_count": 37,
   "metadata": {},
   "outputs": [
    {
     "name": "stdout",
     "output_type": "stream",
     "text": [
      "             prd_1  prd_2  prd_3  prd_4\n",
      "cust_1 2015      0      1      2      3\n",
      "       2016      4      5      6      7\n",
      "cust_2 2015      8      9     10     11\n",
      "       2016     12     13     14     15\n"
     ]
    }
   ],
   "source": [
    "# 멀티 인덱스로 사용할 데이터 생성\n",
    "mul_index = pd.MultiIndex.from_tuples([('cust_1', '2015'), ('cust_1','2016'), ('cust_2', '2015'), ('cust_2','2016')])\n",
    "data = pd.DataFrame(data = np.arange(16).reshape(4,4), index = mul_index, columns = ['prd_1', 'prd_2', 'prd_3', 'prd_4'], dtype = 'int')\n",
    "print(data)"
   ]
  },
  {
   "cell_type": "code",
   "execution_count": 39,
   "metadata": {},
   "outputs": [
    {
     "name": "stdout",
     "output_type": "stream",
     "text": [
      "cust_1  2015  prd_1     0\n",
      "              prd_2     1\n",
      "              prd_3     2\n",
      "              prd_4     3\n",
      "        2016  prd_1     4\n",
      "              prd_2     5\n",
      "              prd_3     6\n",
      "              prd_4     7\n",
      "cust_2  2015  prd_1     8\n",
      "              prd_2     9\n",
      "              prd_3    10\n",
      "              prd_4    11\n",
      "        2016  prd_1    12\n",
      "              prd_2    13\n",
      "              prd_3    14\n",
      "              prd_4    15\n",
      "dtype: int32\n"
     ]
    }
   ],
   "source": [
    "# 컬럼들이 하위 인덱스가 됨\n",
    "data_stacked = data.stack(dropna = False)\n",
    "print(data_stacked)"
   ]
  },
  {
   "cell_type": "code",
   "execution_count": 40,
   "metadata": {},
   "outputs": [
    {
     "name": "stdout",
     "output_type": "stream",
     "text": [
      "     year  quarter   realgdp  realcons  realinv  realgovt  realdpi    cpi  \\\n",
      "0  1959.0      1.0  2710.349    1707.4  286.898   470.045   1886.9  28.98   \n",
      "1  1959.0      2.0  2778.801    1733.7  310.859   481.301   1919.7  29.15   \n",
      "2  1959.0      3.0  2775.488    1751.8  289.226   491.260   1916.4  29.35   \n",
      "3  1959.0      4.0  2785.204    1753.7  299.356   484.052   1931.3  29.37   \n",
      "4  1960.0      1.0  2847.699    1770.5  331.722   462.199   1955.5  29.54   \n",
      "\n",
      "      m1  tbilrate  unemp      pop  infl  realint  \n",
      "0  139.7      2.82    5.8  177.146  0.00     0.00  \n",
      "1  141.7      3.08    5.1  177.830  2.34     0.74  \n",
      "2  140.5      3.82    5.3  178.657  2.74     1.09  \n",
      "3  140.0      4.33    5.6  179.386  0.27     4.06  \n",
      "4  139.6      3.50    5.2  180.007  2.31     1.19  \n"
     ]
    }
   ],
   "source": [
    "data = pd.read_csv('./data3/macrodata.csv')\n",
    "print(data.head())"
   ]
  },
  {
   "cell_type": "code",
   "execution_count": 41,
   "metadata": {},
   "outputs": [
    {
     "name": "stdout",
     "output_type": "stream",
     "text": [
      "PeriodIndex(['1959Q1', '1959Q2', '1959Q3', '1959Q4', '1960Q1', '1960Q2',\n",
      "             '1960Q3', '1960Q4', '1961Q1', '1961Q2',\n",
      "             ...\n",
      "             '2007Q2', '2007Q3', '2007Q4', '2008Q1', '2008Q2', '2008Q3',\n",
      "             '2008Q4', '2009Q1', '2009Q2', '2009Q3'],\n",
      "            dtype='period[Q-DEC]', name='date', length=203)\n"
     ]
    }
   ],
   "source": [
    "# 시계열 인덱스 생성\n",
    "periods = pd.PeriodIndex(year = data['year'], quarter = data['quarter'], name = 'date')\n",
    "print(periods)"
   ]
  },
  {
   "cell_type": "code",
   "execution_count": 44,
   "metadata": {},
   "outputs": [
    {
     "name": "stdout",
     "output_type": "stream",
     "text": [
      "item    realgdp  infi  unemp\n",
      "0      2710.349   NaN    5.8\n",
      "1      2778.801   NaN    5.1\n",
      "2      2775.488   NaN    5.3\n",
      "3      2785.204   NaN    5.6\n",
      "4      2847.699   NaN    5.2\n",
      "..          ...   ...    ...\n",
      "198   13324.600   NaN    6.0\n",
      "199   13141.920   NaN    6.9\n",
      "200   12925.410   NaN    8.1\n",
      "201   12901.504   NaN    9.2\n",
      "202   12990.341   NaN    9.6\n",
      "\n",
      "[203 rows x 3 columns]\n"
     ]
    }
   ],
   "source": [
    "columns = pd.Index(['realgdp', 'infi', 'unemp'], name = 'item')\n",
    "# print(columns)\n",
    "\n",
    "data = data.reindex(columns = columns)\n",
    "print(data)"
   ]
  },
  {
   "cell_type": "code",
   "execution_count": 45,
   "metadata": {},
   "outputs": [
    {
     "name": "stdout",
     "output_type": "stream",
     "text": [
      "item                             realgdp  infi  unemp\n",
      "date                                                 \n",
      "1959-03-31 23:59:59.999999999   2710.349   NaN    5.8\n",
      "1959-06-30 23:59:59.999999999   2778.801   NaN    5.1\n",
      "1959-09-30 23:59:59.999999999   2775.488   NaN    5.3\n",
      "1959-12-31 23:59:59.999999999   2785.204   NaN    5.6\n",
      "1960-03-31 23:59:59.999999999   2847.699   NaN    5.2\n",
      "...                                  ...   ...    ...\n",
      "2008-09-30 23:59:59.999999999  13324.600   NaN    6.0\n",
      "2008-12-31 23:59:59.999999999  13141.920   NaN    6.9\n",
      "2009-03-31 23:59:59.999999999  12925.410   NaN    8.1\n",
      "2009-06-30 23:59:59.999999999  12901.504   NaN    9.2\n",
      "2009-09-30 23:59:59.999999999  12990.341   NaN    9.6\n",
      "\n",
      "[203 rows x 3 columns]\n"
     ]
    }
   ],
   "source": [
    "data.index = periods.to_timestamp('D', 'end') # 쿼터의 마지막 날을 세부 데이터로 설정\n",
    "print(data)"
   ]
  },
  {
   "cell_type": "code",
   "execution_count": 46,
   "metadata": {},
   "outputs": [
    {
     "name": "stdout",
     "output_type": "stream",
     "text": [
      "                             date     item      value\n",
      "0   1959-03-31 23:59:59.999999999  realgdp   2710.349\n",
      "1   1959-03-31 23:59:59.999999999    unemp      5.800\n",
      "2   1959-06-30 23:59:59.999999999  realgdp   2778.801\n",
      "3   1959-06-30 23:59:59.999999999    unemp      5.100\n",
      "4   1959-09-30 23:59:59.999999999  realgdp   2775.488\n",
      "..                            ...      ...        ...\n",
      "401 2009-03-31 23:59:59.999999999    unemp      8.100\n",
      "402 2009-06-30 23:59:59.999999999  realgdp  12901.504\n",
      "403 2009-06-30 23:59:59.999999999    unemp      9.200\n",
      "404 2009-09-30 23:59:59.999999999  realgdp  12990.341\n",
      "405 2009-09-30 23:59:59.999999999    unemp      9.600\n",
      "\n",
      "[406 rows x 3 columns]\n"
     ]
    }
   ],
   "source": [
    "ldata = data.stack().reset_index().rename(columns = {0 : 'value'})\n",
    "print(ldata)"
   ]
  },
  {
   "cell_type": "code",
   "execution_count": 47,
   "metadata": {},
   "outputs": [
    {
     "name": "stdout",
     "output_type": "stream",
     "text": [
      "item                             realgdp  unemp\n",
      "date                                           \n",
      "1959-03-31 23:59:59.999999999   2710.349    5.8\n",
      "1959-06-30 23:59:59.999999999   2778.801    5.1\n",
      "1959-09-30 23:59:59.999999999   2775.488    5.3\n",
      "1959-12-31 23:59:59.999999999   2785.204    5.6\n",
      "1960-03-31 23:59:59.999999999   2847.699    5.2\n",
      "...                                  ...    ...\n",
      "2008-09-30 23:59:59.999999999  13324.600    6.0\n",
      "2008-12-31 23:59:59.999999999  13141.920    6.9\n",
      "2009-03-31 23:59:59.999999999  12925.410    8.1\n",
      "2009-06-30 23:59:59.999999999  12901.504    9.2\n",
      "2009-09-30 23:59:59.999999999  12990.341    9.6\n",
      "\n",
      "[203 rows x 2 columns]\n"
     ]
    },
    {
     "name": "stderr",
     "output_type": "stream",
     "text": [
      "C:\\Users\\USER\\AppData\\Local\\Temp\\ipykernel_17896\\1025289545.py:1: FutureWarning: In a future version of pandas all arguments of DataFrame.pivot will be keyword-only.\n",
      "  pivoted = ldata.pivot('date', 'item', 'value')\n"
     ]
    }
   ],
   "source": [
    "pivoted = ldata.pivot('date', 'item', 'value')\n",
    "print(pivoted)"
   ]
  },
  {
   "cell_type": "code",
   "execution_count": 50,
   "metadata": {},
   "outputs": [
    {
     "name": "stdout",
     "output_type": "stream",
     "text": [
      "    cust_id prod_id   variable  value\n",
      "0         1       A    pch_cnt      1\n",
      "1         2       B    pch_cnt      2\n",
      "2         3       C    pch_cnt      3\n",
      "3         4       D    pch_cnt      4\n",
      "4         1       A  pch_price    100\n",
      "5         2       B  pch_price    200\n",
      "6         3       C  pch_price    300\n",
      "7         4       D  pch_price    400\n",
      "8         1       A    pch_amt     10\n",
      "9         2       B    pch_amt     20\n",
      "10        3       C    pch_amt     30\n",
      "11        4       D    pch_amt     40\n"
     ]
    }
   ],
   "source": [
    "data = pd.DataFrame({'cust_id' : [1,2,3,4], 'prod_id' : ['A', 'B', 'C','D'], 'pch_cnt' : [1,2,3,4], 'pch_price' : [100, 200, 300, 400], 'pch_amt' : [10, 20, 30, 40]})\n",
    "# print(data)\n",
    "\n",
    "result = pd.melt(data, id_vars = ['cust_id', 'prod_id'])\n",
    "print(result)"
   ]
  },
  {
   "cell_type": "code",
   "execution_count": 54,
   "metadata": {},
   "outputs": [
    {
     "name": "stdout",
     "output_type": "stream",
     "text": [
      "거짓         c         d\n",
      "사실                    \n",
      "a   0.000000  0.500000\n",
      "b   0.333333  0.000000\n",
      "c   0.000000  0.166667\n",
      "fac_1  a  b  c\n",
      "fac_2  d  c  d\n",
      "id            \n",
      "id1    3  0  0\n",
      "id2    0  2  0\n",
      "id3    0  0  1\n"
     ]
    }
   ],
   "source": [
    "data = pd.DataFrame({\n",
    "    'id' : ['id1','id1','id1','id2','id2','id3'],\n",
    "    'fac_1' : ['a', 'a', 'a', 'b', 'b', 'c'],\n",
    "    'fac_2' : ['d', 'd', 'd', 'c', 'c', 'd']})\n",
    "\n",
    "# fac_1 과 fac_2 의 빈도분석\n",
    "print(pd.crosstab(data['fac_1'], data['fac_2'], rownames = ['사실'], colnames = ['거짓'], normalize = True))\n",
    "print(pd.crosstab(data.id, [data['fac_1'], data['fac_2']]))"
   ]
  },
  {
   "cell_type": "markdown",
   "metadata": {},
   "source": [
    "## Data PreProcessing"
   ]
  },
  {
   "cell_type": "code",
   "execution_count": 60,
   "metadata": {},
   "outputs": [
    {
     "name": "stdout",
     "output_type": "stream",
     "text": [
      "mpg             float64\n",
      "cylinders         int64\n",
      "displacement    float64\n",
      "horsepower       object\n",
      "weight          float64\n",
      "acceleration    float64\n",
      "model year        int64\n",
      "origin            int64\n",
      "name             object\n",
      "dtype: object\n",
      "<class 'pandas.core.frame.DataFrame'>\n",
      "RangeIndex: 398 entries, 0 to 397\n",
      "Data columns (total 9 columns):\n",
      " #   Column        Non-Null Count  Dtype  \n",
      "---  ------        --------------  -----  \n",
      " 0   mpg           398 non-null    float64\n",
      " 1   cylinders     398 non-null    int64  \n",
      " 2   displacement  398 non-null    float64\n",
      " 3   horsepower    398 non-null    object \n",
      " 4   weight        398 non-null    float64\n",
      " 5   acceleration  398 non-null    float64\n",
      " 6   model year    398 non-null    int64  \n",
      " 7   origin        398 non-null    int64  \n",
      " 8   name          398 non-null    object \n",
      "dtypes: float64(4), int64(3), object(2)\n",
      "memory usage: 28.1+ KB\n",
      "None\n"
     ]
    }
   ],
   "source": [
    "# 첫 번째 행이 컬럼 이름이 아닌 경우 직접 컬럼 이름 설정\n",
    "df = pd.read_csv('./data4/auto-mpg.csv', header = None)\n",
    "df.columns = ['mpg', 'cylinders', 'displacement', 'horsepower', 'weight', 'acceleration', 'model year', 'origin','name']\n",
    "# print(df.head())\n",
    "\n",
    "# 데이터의 자료형 확인은 dtypes 이나 info() 함수를 이용\n",
    "# print(df.dtypes)\n",
    "print(df.info())"
   ]
  },
  {
   "cell_type": "code",
   "execution_count": 65,
   "metadata": {},
   "outputs": [
    {
     "name": "stdout",
     "output_type": "stream",
     "text": [
      "['130.0' '165.0' '150.0' '140.0' '198.0' '220.0' '215.0' '225.0' '190.0'\n",
      " '170.0' '160.0' '95.00' '97.00' '85.00' '88.00' '46.00' '87.00' '90.00'\n",
      " '113.0' '200.0' '210.0' '193.0' '?' '100.0' '105.0' '175.0' '153.0'\n",
      " '180.0' '110.0' '72.00' '86.00' '70.00' '76.00' '65.00' '69.00' '60.00'\n",
      " '80.00' '54.00' '208.0' '155.0' '112.0' '92.00' '145.0' '137.0' '158.0'\n",
      " '167.0' '94.00' '107.0' '230.0' '49.00' '75.00' '91.00' '122.0' '67.00'\n",
      " '83.00' '78.00' '52.00' '61.00' '93.00' '148.0' '129.0' '96.00' '71.00'\n",
      " '98.00' '115.0' '53.00' '81.00' '79.00' '120.0' '152.0' '102.0' '108.0'\n",
      " '68.00' '58.00' '149.0' '89.00' '63.00' '48.00' '66.00' '139.0' '103.0'\n",
      " '125.0' '133.0' '138.0' '135.0' '142.0' '77.00' '62.00' '132.0' '84.00'\n",
      " '64.00' '74.00' '116.0' '82.00']\n",
      "133    100.0\n",
      "98     100.0\n",
      "256    100.0\n",
      "107    100.0\n",
      "334    100.0\n",
      "       ...  \n",
      "126        ?\n",
      "374        ?\n",
      "354        ?\n",
      "32         ?\n",
      "336        ?\n",
      "Name: horsepower, Length: 398, dtype: object\n"
     ]
    }
   ],
   "source": [
    "# horsepower는 마력인데 마력은 숫자 데이터\n",
    "# 현재 자료형을 보면 object로 만들어져있음\n",
    "# df['horsepower'] = df['horsepower'].astype('float') - 에러 발생\n",
    "\n",
    "# 중복된 값을 제거하고 출력\n",
    "# print(df['horsepower'].unique())\n",
    "# print(df['horsepower'].sort_values())\n",
    "\n",
    "# ? 라는 값을 가진 데이터를 어떻게 할 지 결정\n",
    "# ? 값을 None 으로 설정하고 제거\n",
    "df['horsepower'].replace('?', np.nan, inplace = True)\n",
    "df.dropna(subset = ['horsepower'], axis = 0, inplace = True)\n",
    "df['horsepower'] = df['horsepower'].astype('float')"
   ]
  },
  {
   "cell_type": "code",
   "execution_count": null,
   "metadata": {},
   "outputs": [],
   "source": [
    "# origin 열은 1,2,3 값만 소유\n",
    "# 이 값은 미국, 유럽, 일본을 의미하는 숫자\n",
    "# 분석을 할 때는 미국, 유럽, 일본으로 보여지는 것이 좋을 수 있음\n",
    "# 이 경우 새로운 컬럼을 초가해서 보여지도록 할 수 있고 컬럼의 값을 변경할 수도 있음\n",
    "# 범주형으로 변경해 두는 것이 분석 속도를 높이는데 도움이 됨"
   ]
  },
  {
   "cell_type": "code",
   "execution_count": 67,
   "metadata": {},
   "outputs": [
    {
     "name": "stdout",
     "output_type": "stream",
     "text": [
      "    mpg  cylinders  displacement  horsepower  weight  acceleration  \\\n",
      "0  18.0          8         307.0       130.0  3504.0          12.0   \n",
      "1  15.0          8         350.0       165.0  3693.0          11.5   \n",
      "2  18.0          8         318.0       150.0  3436.0          11.0   \n",
      "3  16.0          8         304.0       150.0  3433.0          12.0   \n",
      "4  17.0          8         302.0       140.0  3449.0          10.5   \n",
      "\n",
      "   model year origin                       name  \n",
      "0          70     미국  chevrolet chevelle malibu  \n",
      "1          70     미국          buick skylark 320  \n",
      "2          70     미국         plymouth satellite  \n",
      "3          70     미국              amc rebel sst  \n",
      "4          70     미국                ford torino  \n"
     ]
    }
   ],
   "source": [
    "df['origin'].replace({1 : '미국', 2 : '유럽', 3 : '일본'}, inplace = True)\n",
    "df['origin'] = df['origin'].astype('category') # 범주형으로 변환\n",
    "# df.info()\n",
    "print(df.head())"
   ]
  },
  {
   "cell_type": "code",
   "execution_count": null,
   "metadata": {},
   "outputs": [],
   "source": []
  }
 ],
 "metadata": {
  "kernelspec": {
   "display_name": "base",
   "language": "python",
   "name": "python3"
  },
  "language_info": {
   "codemirror_mode": {
    "name": "ipython",
    "version": 3
   },
   "file_extension": ".py",
   "mimetype": "text/x-python",
   "name": "python",
   "nbconvert_exporter": "python",
   "pygments_lexer": "ipython3",
   "version": "3.10.9"
  },
  "orig_nbformat": 4
 },
 "nbformat": 4,
 "nbformat_minor": 2
}
