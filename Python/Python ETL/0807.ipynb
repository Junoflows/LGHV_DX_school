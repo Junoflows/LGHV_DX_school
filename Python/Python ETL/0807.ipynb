{
 "cells": [
  {
   "cell_type": "markdown",
   "metadata": {},
   "source": [
    "## numpy"
   ]
  },
  {
   "cell_type": "markdown",
   "metadata": {},
   "source": [
    "#### 속도 비교"
   ]
  },
  {
   "cell_type": "code",
   "execution_count": 69,
   "metadata": {},
   "outputs": [],
   "source": [
    "import numpy as np\n",
    "import datetime"
   ]
  },
  {
   "cell_type": "code",
   "execution_count": 42,
   "metadata": {},
   "outputs": [
    {
     "name": "stdout",
     "output_type": "stream",
     "text": [
      "2023-08-07 15:22:39.430378\n",
      "2023-08-07 15:22:39.520052\n",
      "종료\n"
     ]
    }
   ],
   "source": [
    "# list의 작업시간\n",
    "li = range(1, 1000000)\n",
    "\n",
    "# 현재 시간 설정\n",
    "s = datetime.datetime.now()\n",
    "print(s)\n",
    "# 모든 요소에 10을 곱해서 list를 수정\n",
    "for i in li:\n",
    "    i = i * 10\n",
    "\n",
    "s = datetime.datetime.now()\n",
    "print(s)\n",
    "print(\"종료\")"
   ]
  },
  {
   "cell_type": "code",
   "execution_count": 43,
   "metadata": {},
   "outputs": [
    {
     "name": "stdout",
     "output_type": "stream",
     "text": [
      "2023-08-07 15:26:29.885870\n",
      "2023-08-07 15:26:29.887869\n",
      "종료\n"
     ]
    }
   ],
   "source": [
    "ar = np.arange(1, 1000000)\n",
    "\n",
    "# 현재 시간 설정\n",
    "s = datetime.datetime.now()\n",
    "print(s)\n",
    "# 모든 요소에 10을 곱해서 list를 수정\n",
    "ar = ar * 10\n",
    "\n",
    "s = datetime.datetime.now()\n",
    "print(s)\n",
    "print(\"종료\")"
   ]
  },
  {
   "cell_type": "code",
   "execution_count": 45,
   "metadata": {},
   "outputs": [
    {
     "name": "stdout",
     "output_type": "stream",
     "text": [
      "<class 'numpy.ndarray'>\n",
      "int32\n",
      "1\n",
      "(3,)\n"
     ]
    }
   ],
   "source": [
    "# 배열 정보 확인\n",
    "ar = np.array([1,2,3])\n",
    "print(type(ar)) # ar 의 자료형\n",
    "print(ar.dtype) # ar 원소의 자료형\n",
    "print(ar.ndim) # 일차원 배열\n",
    "print(ar.shape) # 3개의 행으로 구성"
   ]
  },
  {
   "cell_type": "code",
   "execution_count": 46,
   "metadata": {},
   "outputs": [
    {
     "name": "stdout",
     "output_type": "stream",
     "text": [
      "2\n",
      "(2, 3)\n"
     ]
    }
   ],
   "source": [
    "# 배열 정보 확인\n",
    "ar = np.array([[1,2,3], [4,5,6]])\n",
    "print(ar.ndim) # 2\n",
    "print(ar.shape) # 2행 3열"
   ]
  },
  {
   "cell_type": "code",
   "execution_count": 49,
   "metadata": {},
   "outputs": [
    {
     "name": "stdout",
     "output_type": "stream",
     "text": [
      "[ 1  3  5  7  9 11 13 15 17 19 21 23 25 27 29 31 33 35 37 39 41 43 45 47\n",
      " 49 51 53 55 57 59 61 63 65 67 69 71 73 75 77 79 81 83 85 87 89 91 93 95\n",
      " 97 99]\n",
      "[  1.  12.  23.  34.  45.  56.  67.  78.  89. 100.]\n"
     ]
    }
   ],
   "source": [
    "ar = np.arange(1, 100, 2) # 2씩 넘어가는 숫자 배열\n",
    "print(ar)\n",
    "ar = np.linspace(1, 100, num = 10) # num 은 개수\n",
    "print(ar)"
   ]
  },
  {
   "cell_type": "code",
   "execution_count": null,
   "metadata": {},
   "outputs": [],
   "source": []
  },
  {
   "cell_type": "code",
   "execution_count": 53,
   "metadata": {},
   "outputs": [
    {
     "name": "stdout",
     "output_type": "stream",
     "text": [
      "[[1. 0. 0.]\n",
      " [0. 1. 0.]\n",
      " [0. 0. 1.]]\n",
      "[[0. 1. 0.]\n",
      " [0. 0. 1.]\n",
      " [0. 0. 0.]]\n",
      "[[0. 0. 0.]\n",
      " [1. 0. 0.]\n",
      " [0. 1. 0.]]\n"
     ]
    }
   ],
   "source": [
    "# eye - 대각선 방향으로 1을 채운 행렬\n",
    "ar = np.eye(3)\n",
    "print(ar)\n",
    "ar = np.eye(3, k = 1)\n",
    "print(ar)\n",
    "ar = np.eye(3, k = -1)\n",
    "print(ar)"
   ]
  },
  {
   "cell_type": "code",
   "execution_count": 55,
   "metadata": {},
   "outputs": [
    {
     "name": "stdout",
     "output_type": "stream",
     "text": [
      "[[1 2 3]\n",
      " [4 5 6]\n",
      " [7 8 9]]\n",
      "[1 5 9]\n",
      "[4 8]\n"
     ]
    }
   ],
   "source": [
    "ar = np.array([[1,2,3], [4,5,6], [7,8,9]])\n",
    "print(ar)\n",
    "\n",
    "br = np.diag(ar)\n",
    "print(br)\n",
    "\n",
    "cr = np.diag(ar, k = -1)\n",
    "print(cr)"
   ]
  },
  {
   "cell_type": "code",
   "execution_count": 57,
   "metadata": {},
   "outputs": [
    {
     "name": "stdout",
     "output_type": "stream",
     "text": [
      "['1' '2' '3']\n",
      "[1 2 3]\n",
      "['1' '2' '3']\n",
      "[1 2 3]\n"
     ]
    }
   ],
   "source": [
    "ar = np.array([1,2,'3']) # 문자열 배열이 생성\n",
    "print(ar)\n",
    "# 자료형을 지정해서 생성\n",
    "ar = np.array([1,2,'3'], dtype=np.int32) # 정수로 배열이 생성 - 자료형 지정\n",
    "print(ar)\n",
    "\n",
    "ar = np.array([1,2,'3']) # 문자열 배열이 생성\n",
    "print(ar)\n",
    "\n",
    "br = ar.astype(np.int32) # 기존 배열의 자료형을 변경해서 생성\n",
    "print(br)\n"
   ]
  },
  {
   "cell_type": "code",
   "execution_count": 68,
   "metadata": {},
   "outputs": [
    {
     "name": "stdout",
     "output_type": "stream",
     "text": [
      "[[1 2 3]\n",
      " [4 5 6]\n",
      " [7 8 9]]\n",
      "[1 2 3 4 5 6 7 8 9]\n",
      "[[101   2   3]\n",
      " [  4   5   6]\n",
      " [  7   8   9]]\n",
      "[101   2   3   4   5   6   7   8   9]\n",
      "[[101   2   3]\n",
      " [  4   5   6]\n",
      " [  7   8   9]]\n"
     ]
    }
   ],
   "source": [
    "matrix = np.array([[1,2,3],[4,5,6],[7,8,9]])\n",
    "print(matrix) # 3*3 행렬\n",
    "ar = matrix.reshape(-1) # 1차원으로 변환 : 접근 방법을 변환한 것이라서 이전과 동일한 데이터\n",
    "print(ar)\n",
    "ar[0] = 101\n",
    "print(matrix)\n",
    "\n",
    "br = matrix.flatten() # 복제를 해서 1차원으로 변경 : 원본과 다른 데이터 생성\n",
    "print(br)\n",
    "br[0] = 201\n",
    "print(matrix)"
   ]
  },
  {
   "cell_type": "code",
   "execution_count": 78,
   "metadata": {},
   "outputs": [
    {
     "name": "stdout",
     "output_type": "stream",
     "text": [
      "[[1 2 3]\n",
      " [4 5 6]\n",
      " [7 8 9]]\n",
      "2\n",
      "[1 2 3]\n",
      "[1 4 7]\n",
      "[[1 2 3]\n",
      " [4 5 6]]\n",
      "1\n",
      "1\n",
      "1004\n",
      "1\n"
     ]
    }
   ],
   "source": [
    "matrix = np.array([[1,2,3],[4,5,6],[7,8,9]])\n",
    "print(matrix) # 전체 출력\n",
    "print(matrix[0][1]) # 0번쨰 행 1번째 열\n",
    "print(matrix[0]) # 0번째 행을 선택할 때는 열 인덱스 제외\n",
    "print(matrix[:,0]) # 0번째 열을 선택할 때는 행에 전체 설정을 해야함\n",
    "# 형렬 구조일 때 행을 먼저 선택하고 열을 선택하기 때문에 행은 생략할 수 없음\n",
    "print(matrix[0:2]) # 0번째 행부터 2번째 행 앞까지\n",
    "\n",
    "x = matrix[0][0]\n",
    "print(x)\n",
    "print(matrix[0][0])\n",
    "\n",
    "x = 1004\n",
    "print(x)\n",
    "print(matrix[0][0]) # [행번호][열번호] 이렇게 접근하는 경우는 슬라이싱이라고 하고\n",
    "#[행번호, 열번호] 이렇게 접근하는게 인덱싱\n",
    "# 슬라이싱은 복제, 인덱싱은 참조를 복사"
   ]
  },
  {
   "cell_type": "code",
   "execution_count": 86,
   "metadata": {},
   "outputs": [
    {
     "name": "stdout",
     "output_type": "stream",
     "text": [
      "[[1 2 3]\n",
      " [4 5 6]\n",
      " [7 8 9]]\n",
      "[1 2 3]\n",
      "[1 2 3]\n",
      "[100   2   3]\n",
      "[100   2   3]\n",
      "[[100   2   3]\n",
      " [  4   5   6]\n",
      " [  7   8   9]]\n",
      "[[100   2   3]]\n",
      "[100   2   3]\n",
      "[[1004    2    3]]\n",
      "[100   2   3]\n",
      "[[100   2   3]\n",
      " [  4   5   6]\n",
      " [  7   8   9]]\n"
     ]
    }
   ],
   "source": [
    "matrix = np.array([[1,2,3],[4,5,6],[7,8,9]])\n",
    "print(matrix)\n",
    "\n",
    "# 0번째 행을 인덱싱 - 참조를 복사\n",
    "ar = matrix[0]\n",
    "br = matrix[0,]\n",
    "print(ar) # [1,2,3]\n",
    "print(br) # [1,2,3]\n",
    "\n",
    "# ar의 0번째 요소를 100으로 수정\n",
    "ar[0] = 100\n",
    "print(ar) # [100, 2, 3]\n",
    "print(br) # [100, 2, 3]\n",
    "print(matrix) # [100, 2, 3]\n",
    "\n",
    "# list를 이용하는 인덱싱을 Fancy Indexing 이라고 함\n",
    "cr = matrix[[0]]\n",
    "# 범위를 이용하는 형태를 슬라이싱\n",
    "dr = matrix[0][:]\n",
    "# Fancy Indexing과 슬라이싱은 복제를 함\n",
    "# 복제된 데이터를 수정해도 원본에 영향을 주지 않음\n",
    "print(cr)\n",
    "print(dr)\n",
    "cr[0,0] = 1004\n",
    "print(cr) # [[1004, 2, 3]]\n",
    "print(dr) # [[100, 2, 3]]\n",
    "print(matrix) # [[100, 2, 3], [4,5,6],[7,8,9]]"
   ]
  },
  {
   "cell_type": "code",
   "execution_count": 102,
   "metadata": {},
   "outputs": [
    {
     "name": "stdout",
     "output_type": "stream",
     "text": [
      "[3 6]\n",
      "[2 3 4 6]\n"
     ]
    }
   ],
   "source": [
    "ar = np.array([10,2,30,5,22,37])\n",
    "br = np.array([1,2,3,4,5,6])\n",
    "\n",
    "print(br[ar >= 30])\n",
    "print(br[(ar >= 30) | (ar < 10)]) # or and 를 쓰면 안되고 |, & 을 써야함"
   ]
  },
  {
   "cell_type": "code",
   "execution_count": null,
   "metadata": {},
   "outputs": [],
   "source": []
  }
 ],
 "metadata": {
  "kernelspec": {
   "display_name": "base",
   "language": "python",
   "name": "python3"
  },
  "language_info": {
   "codemirror_mode": {
    "name": "ipython",
    "version": 3
   },
   "file_extension": ".py",
   "mimetype": "text/x-python",
   "name": "python",
   "nbconvert_exporter": "python",
   "pygments_lexer": "ipython3",
   "version": "3.10.9"
  },
  "orig_nbformat": 4
 },
 "nbformat": 4,
 "nbformat_minor": 2
}
