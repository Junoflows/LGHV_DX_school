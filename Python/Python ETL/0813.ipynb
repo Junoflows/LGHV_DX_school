{
 "cells": [
  {
   "cell_type": "code",
   "execution_count": 1,
   "metadata": {},
   "outputs": [],
   "source": [
    "import pandas as pd\n",
    "import numpy as np\n",
    "import matplotlib.pyplot as plt\n",
    "import platform\n",
    "from matplotlib import font_manager, rc\n",
    "\n",
    "# 한글\n",
    "if platform.system() == \"Windows\":\n",
    "    font_name = font_manager.FontProperties(fname = 'c:/Windows/Fonts/malgun.ttf').get_name()\n",
    "    rc('font', family = font_name)\n",
    "elif platform.system() == \"Darwin\":\n",
    "    rc('font', family = 'AppleGothic')\n",
    "\n",
    "plt.rcParams['axes.unicode_minus'] = False"
   ]
  },
  {
   "cell_type": "code",
   "execution_count": 11,
   "metadata": {},
   "outputs": [
    {
     "data": {
      "text/plain": [
       "<Axes: xlabel='이름'>"
      ]
     },
     "execution_count": 11,
     "metadata": {},
     "output_type": "execute_result"
    },
    {
     "data": {
      "image/png": "[encoded data removed]",
      "text/plain": [
       "<Figure size 640x480 with 1 Axes>"
      ]
     },
     "metadata": {},
     "output_type": "display_data"
    }
   ],
   "source": [
    "# student.csv 파일 읽어오기\n",
    "# 이름 열을 인덱스로\n",
    "df = pd.read_csv('./data4/student.csv', encoding= 'cp949', index_col='이름')\n",
    "# print(df.head())\n",
    "\n",
    "# 원본 데이터로 막대그래프 생성\n",
    "df.plot(kind = 'bar')"
   ]
  },
  {
   "cell_type": "code",
   "execution_count": 18,
   "metadata": {},
   "outputs": [
    {
     "data": {
      "text/html": [
       "<div>\n",
       "<style scoped>\n",
       "    .dataframe tbody tr th:only-of-type {\n",
       "        vertical-align: middle;\n",
       "    }\n",
       "\n",
       "    .dataframe tbody tr th {\n",
       "        vertical-align: top;\n",
       "    }\n",
       "\n",
       "    .dataframe thead th {\n",
       "        text-align: right;\n",
       "    }\n",
       "</style>\n",
       "<table border=\"1\" class=\"dataframe\">\n",
       "  <thead>\n",
       "    <tr style=\"text-align: right;\">\n",
       "      <th></th>\n",
       "      <th>국어</th>\n",
       "      <th>영어</th>\n",
       "      <th>수학</th>\n",
       "      <th>국어표준값</th>\n",
       "      <th>영어표준값</th>\n",
       "      <th>수학표준값</th>\n",
       "      <th>국어편차값</th>\n",
       "      <th>영어편차값</th>\n",
       "      <th>수학편차값</th>\n",
       "    </tr>\n",
       "    <tr>\n",
       "      <th>이름</th>\n",
       "      <th></th>\n",
       "      <th></th>\n",
       "      <th></th>\n",
       "      <th></th>\n",
       "      <th></th>\n",
       "      <th></th>\n",
       "      <th></th>\n",
       "      <th></th>\n",
       "      <th></th>\n",
       "    </tr>\n",
       "  </thead>\n",
       "  <tbody>\n",
       "    <tr>\n",
       "      <th>박지영</th>\n",
       "      <td>90</td>\n",
       "      <td>85</td>\n",
       "      <td>55</td>\n",
       "      <td>0.616320</td>\n",
       "      <td>0.554321</td>\n",
       "      <td>-0.941716</td>\n",
       "      <td>56.163201</td>\n",
       "      <td>55.543208</td>\n",
       "      <td>40.582843</td>\n",
       "    </tr>\n",
       "    <tr>\n",
       "      <th>김태함</th>\n",
       "      <td>70</td>\n",
       "      <td>65</td>\n",
       "      <td>80</td>\n",
       "      <td>-0.176091</td>\n",
       "      <td>-0.386979</td>\n",
       "      <td>0.399335</td>\n",
       "      <td>48.239085</td>\n",
       "      <td>46.130213</td>\n",
       "      <td>53.993351</td>\n",
       "    </tr>\n",
       "    <tr>\n",
       "      <th>김효섭</th>\n",
       "      <td>92</td>\n",
       "      <td>95</td>\n",
       "      <td>76</td>\n",
       "      <td>0.695561</td>\n",
       "      <td>1.024971</td>\n",
       "      <td>0.184767</td>\n",
       "      <td>56.955613</td>\n",
       "      <td>60.249706</td>\n",
       "      <td>51.847670</td>\n",
       "    </tr>\n",
       "    <tr>\n",
       "      <th>임경희</th>\n",
       "      <td>76</td>\n",
       "      <td>89</td>\n",
       "      <td>88</td>\n",
       "      <td>0.061632</td>\n",
       "      <td>0.742581</td>\n",
       "      <td>0.828471</td>\n",
       "      <td>50.616320</td>\n",
       "      <td>57.425807</td>\n",
       "      <td>58.284714</td>\n",
       "    </tr>\n",
       "    <tr>\n",
       "      <th>권혁진</th>\n",
       "      <td>97</td>\n",
       "      <td>87</td>\n",
       "      <td>83</td>\n",
       "      <td>0.893664</td>\n",
       "      <td>0.648451</td>\n",
       "      <td>0.560261</td>\n",
       "      <td>58.936642</td>\n",
       "      <td>56.484508</td>\n",
       "      <td>55.602612</td>\n",
       "    </tr>\n",
       "    <tr>\n",
       "      <th>하혜진</th>\n",
       "      <td>80</td>\n",
       "      <td>86</td>\n",
       "      <td>97</td>\n",
       "      <td>0.220114</td>\n",
       "      <td>0.601386</td>\n",
       "      <td>1.311250</td>\n",
       "      <td>52.201143</td>\n",
       "      <td>56.013858</td>\n",
       "      <td>63.112497</td>\n",
       "    </tr>\n",
       "    <tr>\n",
       "      <th>이준원</th>\n",
       "      <td>20</td>\n",
       "      <td>30</td>\n",
       "      <td>40</td>\n",
       "      <td>-2.157120</td>\n",
       "      <td>-2.034253</td>\n",
       "      <td>-1.746346</td>\n",
       "      <td>28.428796</td>\n",
       "      <td>29.657471</td>\n",
       "      <td>32.536538</td>\n",
       "    </tr>\n",
       "    <tr>\n",
       "      <th>윤정웅</th>\n",
       "      <td>50</td>\n",
       "      <td>52</td>\n",
       "      <td>54</td>\n",
       "      <td>-0.968503</td>\n",
       "      <td>-0.998823</td>\n",
       "      <td>-0.995358</td>\n",
       "      <td>40.314970</td>\n",
       "      <td>40.011766</td>\n",
       "      <td>40.046423</td>\n",
       "    </tr>\n",
       "    <tr>\n",
       "      <th>주시현</th>\n",
       "      <td>95</td>\n",
       "      <td>70</td>\n",
       "      <td>80</td>\n",
       "      <td>0.814423</td>\n",
       "      <td>-0.151654</td>\n",
       "      <td>0.399335</td>\n",
       "      <td>58.144230</td>\n",
       "      <td>48.483462</td>\n",
       "      <td>53.993351</td>\n",
       "    </tr>\n",
       "  </tbody>\n",
       "</table>\n",
       "</div>"
      ],
      "text/plain": [
       "     국어  영어  수학     국어표준값     영어표준값     수학표준값      국어편차값      영어편차값      수학편차값\n",
       "이름                                                                            \n",
       "박지영  90  85  55  0.616320  0.554321 -0.941716  56.163201  55.543208  40.582843\n",
       "김태함  70  65  80 -0.176091 -0.386979  0.399335  48.239085  46.130213  53.993351\n",
       "김효섭  92  95  76  0.695561  1.024971  0.184767  56.955613  60.249706  51.847670\n",
       "임경희  76  89  88  0.061632  0.742581  0.828471  50.616320  57.425807  58.284714\n",
       "권혁진  97  87  83  0.893664  0.648451  0.560261  58.936642  56.484508  55.602612\n",
       "하혜진  80  86  97  0.220114  0.601386  1.311250  52.201143  56.013858  63.112497\n",
       "이준원  20  30  40 -2.157120 -2.034253 -1.746346  28.428796  29.657471  32.536538\n",
       "윤정웅  50  52  54 -0.968503 -0.998823 -0.995358  40.314970  40.011766  40.046423\n",
       "주시현  95  70  80  0.814423 -0.151654  0.399335  58.144230  48.483462  53.993351"
      ]
     },
     "execution_count": 18,
     "metadata": {},
     "output_type": "execute_result"
    }
   ],
   "source": [
    "# 단순한 표준화 작업으로 성적을 비교하는데 어려울 수 있음\n",
    "# 이런 경우 표준값이나 편차를 구해서 비교하는 것이 좋음\n",
    "# 평균과 표준편차 구하기\n",
    "kormean, korstd = df['국어'].mean(), df['국어'].std()\n",
    "engmean, engstd = df['영어'].mean(), df['영어'].std()\n",
    "matmean, matstd = df['수학'].mean(), df['수학'].std()\n",
    "\n",
    "# 표준값 구하기\n",
    "df['국어표준값'] = (df['국어'] - kormean) / korstd\n",
    "df['영어표준값'] = (df['영어'] - engmean) / engstd\n",
    "df['수학표준값'] = (df['수학'] - matmean) / matstd\n",
    "\n",
    "# 편차값 구하기\n",
    "df['국어편차값'] = df['국어표준값'] * 10 + 50\n",
    "df['영어편차값'] = df['영어표준값'] * 10 + 50\n",
    "df['수학편차값'] = df['수학표준값'] * 10 + 50\n",
    "\n",
    "df"
   ]
  },
  {
   "cell_type": "markdown",
   "metadata": {},
   "source": [
    "### 표준화"
   ]
  },
  {
   "cell_type": "code",
   "execution_count": 22,
   "metadata": {},
   "outputs": [
    {
     "name": "stdout",
     "output_type": "stream",
     "text": [
      "    mpg  cylinders  displacement  horsepower  weight  acceleration  \\\n",
      "0  18.0          8         307.0       130.0  3504.0          12.0   \n",
      "1  15.0          8         350.0       165.0  3693.0          11.5   \n",
      "2  18.0          8         318.0       150.0  3436.0          11.0   \n",
      "3  16.0          8         304.0       150.0  3433.0          12.0   \n",
      "4  17.0          8         302.0       140.0  3449.0          10.5   \n",
      "\n",
      "   model year  origin                       name  \n",
      "0          70       1  chevrolet chevelle malibu  \n",
      "1          70       1          buick skylark 320  \n",
      "2          70       1         plymouth satellite  \n",
      "3          70       1              amc rebel sst  \n",
      "4          70       1                ford torino  \n"
     ]
    }
   ],
   "source": [
    "auto_mpg = pd.read_csv('./data4/auto-mpg.csv', header = None)\n",
    "auto_mpg.columns = ['mpg', 'cylinders', 'displacement', 'horsepower', 'weight', 'acceleration', 'model year', 'origin','name']\n",
    "\n",
    "auto_mpg['horsepower'].replace('?', np.nan, inplace = True)\n",
    "auto_mpg.dropna(subset = ['horsepower'], axis = 0, inplace = True)\n",
    "auto_mpg['horsepower'] = auto_mpg['horsepower'].astype('float')\n",
    "print(auto_mpg.head())"
   ]
  },
  {
   "cell_type": "code",
   "execution_count": 23,
   "metadata": {},
   "outputs": [
    {
     "data": {
      "text/html": [
       "<div>\n",
       "<style scoped>\n",
       "    .dataframe tbody tr th:only-of-type {\n",
       "        vertical-align: middle;\n",
       "    }\n",
       "\n",
       "    .dataframe tbody tr th {\n",
       "        vertical-align: top;\n",
       "    }\n",
       "\n",
       "    .dataframe thead th {\n",
       "        text-align: right;\n",
       "    }\n",
       "</style>\n",
       "<table border=\"1\" class=\"dataframe\">\n",
       "  <thead>\n",
       "    <tr style=\"text-align: right;\">\n",
       "      <th></th>\n",
       "      <th>mpg</th>\n",
       "      <th>cylinders</th>\n",
       "      <th>displacement</th>\n",
       "      <th>horsepower</th>\n",
       "      <th>weight</th>\n",
       "      <th>acceleration</th>\n",
       "      <th>model year</th>\n",
       "      <th>origin</th>\n",
       "      <th>maxhorsepower</th>\n",
       "      <th>minmaxhorsepower</th>\n",
       "    </tr>\n",
       "  </thead>\n",
       "  <tbody>\n",
       "    <tr>\n",
       "      <th>count</th>\n",
       "      <td>392.000000</td>\n",
       "      <td>392.000000</td>\n",
       "      <td>392.000000</td>\n",
       "      <td>392.000000</td>\n",
       "      <td>392.000000</td>\n",
       "      <td>392.000000</td>\n",
       "      <td>392.000000</td>\n",
       "      <td>392.000000</td>\n",
       "      <td>392.000000</td>\n",
       "      <td>392.000000</td>\n",
       "    </tr>\n",
       "    <tr>\n",
       "      <th>mean</th>\n",
       "      <td>23.445918</td>\n",
       "      <td>5.471939</td>\n",
       "      <td>194.411990</td>\n",
       "      <td>104.469388</td>\n",
       "      <td>2977.584184</td>\n",
       "      <td>15.541327</td>\n",
       "      <td>75.979592</td>\n",
       "      <td>1.576531</td>\n",
       "      <td>0.454215</td>\n",
       "      <td>0.317768</td>\n",
       "    </tr>\n",
       "    <tr>\n",
       "      <th>std</th>\n",
       "      <td>7.805007</td>\n",
       "      <td>1.705783</td>\n",
       "      <td>104.644004</td>\n",
       "      <td>38.491160</td>\n",
       "      <td>849.402560</td>\n",
       "      <td>2.758864</td>\n",
       "      <td>3.683737</td>\n",
       "      <td>0.805518</td>\n",
       "      <td>0.167353</td>\n",
       "      <td>0.209191</td>\n",
       "    </tr>\n",
       "    <tr>\n",
       "      <th>min</th>\n",
       "      <td>9.000000</td>\n",
       "      <td>3.000000</td>\n",
       "      <td>68.000000</td>\n",
       "      <td>46.000000</td>\n",
       "      <td>1613.000000</td>\n",
       "      <td>8.000000</td>\n",
       "      <td>70.000000</td>\n",
       "      <td>1.000000</td>\n",
       "      <td>0.200000</td>\n",
       "      <td>0.000000</td>\n",
       "    </tr>\n",
       "    <tr>\n",
       "      <th>25%</th>\n",
       "      <td>17.000000</td>\n",
       "      <td>4.000000</td>\n",
       "      <td>105.000000</td>\n",
       "      <td>75.000000</td>\n",
       "      <td>2225.250000</td>\n",
       "      <td>13.775000</td>\n",
       "      <td>73.000000</td>\n",
       "      <td>1.000000</td>\n",
       "      <td>0.326087</td>\n",
       "      <td>0.157609</td>\n",
       "    </tr>\n",
       "    <tr>\n",
       "      <th>50%</th>\n",
       "      <td>22.750000</td>\n",
       "      <td>4.000000</td>\n",
       "      <td>151.000000</td>\n",
       "      <td>93.500000</td>\n",
       "      <td>2803.500000</td>\n",
       "      <td>15.500000</td>\n",
       "      <td>76.000000</td>\n",
       "      <td>1.000000</td>\n",
       "      <td>0.406522</td>\n",
       "      <td>0.258152</td>\n",
       "    </tr>\n",
       "    <tr>\n",
       "      <th>75%</th>\n",
       "      <td>29.000000</td>\n",
       "      <td>8.000000</td>\n",
       "      <td>275.750000</td>\n",
       "      <td>126.000000</td>\n",
       "      <td>3614.750000</td>\n",
       "      <td>17.025000</td>\n",
       "      <td>79.000000</td>\n",
       "      <td>2.000000</td>\n",
       "      <td>0.547826</td>\n",
       "      <td>0.434783</td>\n",
       "    </tr>\n",
       "    <tr>\n",
       "      <th>max</th>\n",
       "      <td>46.600000</td>\n",
       "      <td>8.000000</td>\n",
       "      <td>455.000000</td>\n",
       "      <td>230.000000</td>\n",
       "      <td>5140.000000</td>\n",
       "      <td>24.800000</td>\n",
       "      <td>82.000000</td>\n",
       "      <td>3.000000</td>\n",
       "      <td>1.000000</td>\n",
       "      <td>1.000000</td>\n",
       "    </tr>\n",
       "  </tbody>\n",
       "</table>\n",
       "</div>"
      ],
      "text/plain": [
       "              mpg   cylinders  displacement  horsepower       weight  \\\n",
       "count  392.000000  392.000000    392.000000  392.000000   392.000000   \n",
       "mean    23.445918    5.471939    194.411990  104.469388  2977.584184   \n",
       "std      7.805007    1.705783    104.644004   38.491160   849.402560   \n",
       "min      9.000000    3.000000     68.000000   46.000000  1613.000000   \n",
       "25%     17.000000    4.000000    105.000000   75.000000  2225.250000   \n",
       "50%     22.750000    4.000000    151.000000   93.500000  2803.500000   \n",
       "75%     29.000000    8.000000    275.750000  126.000000  3614.750000   \n",
       "max     46.600000    8.000000    455.000000  230.000000  5140.000000   \n",
       "\n",
       "       acceleration  model year      origin  maxhorsepower  minmaxhorsepower  \n",
       "count    392.000000  392.000000  392.000000     392.000000        392.000000  \n",
       "mean      15.541327   75.979592    1.576531       0.454215          0.317768  \n",
       "std        2.758864    3.683737    0.805518       0.167353          0.209191  \n",
       "min        8.000000   70.000000    1.000000       0.200000          0.000000  \n",
       "25%       13.775000   73.000000    1.000000       0.326087          0.157609  \n",
       "50%       15.500000   76.000000    1.000000       0.406522          0.258152  \n",
       "75%       17.025000   79.000000    2.000000       0.547826          0.434783  \n",
       "max       24.800000   82.000000    3.000000       1.000000          1.000000  "
      ]
     },
     "execution_count": 23,
     "metadata": {},
     "output_type": "execute_result"
    }
   ],
   "source": [
    "# horsepower 열의 표준화\n",
    "auto_mpg['maxhorsepower'] = auto_mpg['horsepower'] / auto_mpg['horsepower'].max()\n",
    "auto_mpg['minmaxhorsepower'] = (auto_mpg['horsepower'] - auto_mpg['horsepower'].min())/ (auto_mpg['horsepower'].max() - auto_mpg['horsepower'].min())\n",
    "\n",
    "auto_mpg.describe()"
   ]
  },
  {
   "cell_type": "code",
   "execution_count": 24,
   "metadata": {},
   "outputs": [
    {
     "name": "stdout",
     "output_type": "stream",
     "text": [
      "mean 104.46938775510205\n",
      "std 38.44203271442593\n",
      "max 230.0\n",
      "min 46.0\n",
      "\n",
      "스케일링 과정 \n",
      "mean -1.812609019796174e-16\n",
      "std 0.9999999999999998\n",
      "max 3.2654519904664348\n",
      "min -1.5209754434541274\n"
     ]
    }
   ],
   "source": [
    "from sklearn import preprocessing\n",
    "# 스케일링을 수행할 데이터를 가져오기\n",
    "x = auto_mpg[['horsepower']].values\n",
    "# type(x)\n",
    "\n",
    "print('mean', np.mean(x))\n",
    "print('std', np.std(x))\n",
    "print('max', np.max(x))\n",
    "print('min', np.min(x))\n",
    "\n",
    "scaler = preprocessing.StandardScaler() # StandardScaler 대신 바꿔가면서 하면 됨\n",
    "# scaler.fit(x)\n",
    "# x_scaled = scaler.transform(x)\n",
    "\n",
    "x_scaled = scaler.fit_transform(x)\n",
    "print('\\n스케일링 과정 ')\n",
    "print('mean', np.mean(x_scaled))\n",
    "print('std', np.std(x_scaled))\n",
    "print('max', np.max(x_scaled))\n",
    "print('min', np.min(x_scaled))\n",
    "      "
   ]
  },
  {
   "cell_type": "markdown",
   "metadata": {},
   "source": [
    "### 정규화"
   ]
  },
  {
   "cell_type": "code",
   "execution_count": 25,
   "metadata": {},
   "outputs": [
    {
     "name": "stdout",
     "output_type": "stream",
     "text": [
      "[[0.33333333 0.66666667]\n",
      " [0.4        0.6       ]\n",
      " [0.27272727 0.72727273]\n",
      " [0.66666667 0.33333333]\n",
      " [0.77777778 0.22222222]]\n"
     ]
    }
   ],
   "source": [
    "feature = np.array([[1,2],[2,3],[3,8],[4,2],[7,2]])\n",
    "# 정규화 객체\n",
    "# l1 을 norm 에 적용하면 맨하튼 거리 - 합치면 1\n",
    "# l2 를 norm 에 적용하면 유클리드 거리 - 각 값을 전체 데이터를 제곱해서 더한 값의 제곱근으로 나눔\n",
    "normalizer = preprocessing.Normalizer(norm= 'l1')\n",
    "l2_norm = normalizer.transform(feature)\n",
    "print(l2_norm)"
   ]
  },
  {
   "cell_type": "code",
   "execution_count": 26,
   "metadata": {},
   "outputs": [
    {
     "name": "stdout",
     "output_type": "stream",
     "text": [
      "[[ 1.  2.  2.]\n",
      " [ 2.  3.  6.]\n",
      " [ 3.  8. 24.]\n",
      " [ 4.  2.  8.]\n",
      " [ 7.  2. 14.]]\n"
     ]
    }
   ],
   "source": [
    "# 다항과 교차항 생성\n",
    "features = np.array([[1,2],[2,3],[3,8],[4,2],[7,2]])\n",
    "\n",
    "# 제곱항까지의 다항을 생성 - 열의 개수가 늘어나게 되는데\n",
    "# 회귀 분석을 할 때 시간의 흐름에 따라 변화가 급격하게 일어나는 경우\n",
    "# 데이터가 부족할 때 샘플 데이터를 추가하기 위해서 사용\n",
    "# 제곱을 하거나 곱하기를 하게 되면 데이터의 특성 자체는 크게 변화하지 않기 때문에 사용\n",
    "polynomialer = preprocessing.PolynomialFeatures(degree=2, include_bias = False, interaction_only = True)\n",
    "result = polynomialer.fit_transform(features)\n",
    "print(result)"
   ]
  },
  {
   "cell_type": "code",
   "execution_count": 27,
   "metadata": {},
   "outputs": [
    {
     "name": "stdout",
     "output_type": "stream",
     "text": [
      "[[2 3]\n",
      " [3 4]\n",
      " [4 9]\n",
      " [5 3]\n",
      " [8 3]]\n"
     ]
    }
   ],
   "source": [
    "# 하나의 함수 적용\n",
    "features = np.array([[1,2],[2,3],[3,8],[4,2],[7,2]])\n",
    "\n",
    "# 위의 데이터에 함수 적용\n",
    "result1 = preprocessing.FunctionTransformer(lambda x : x + 1).transform(features)\n",
    "# print(result1)\n",
    "\n",
    "df = pd.DataFrame(features, columns = ['feature1','feature2'])\n",
    "print(df.apply(lambda x : x + 1).values)"
   ]
  },
  {
   "cell_type": "code",
   "execution_count": 28,
   "metadata": {},
   "outputs": [
    {
     "name": "stdout",
     "output_type": "stream",
     "text": [
      "[[2 1]\n",
      " [3 2]\n",
      " [4 7]\n",
      " [5 1]\n",
      " [8 1]]\n"
     ]
    }
   ],
   "source": [
    "# 컬럼 별로 다른 함수 적용\n",
    "from sklearn.compose import ColumnTransformer\n",
    "def add_one(x):\n",
    "    return x + 1\n",
    "\n",
    "def sub_one(x):\n",
    "    return x - 1\n",
    "\n",
    "result2 = ColumnTransformer([('add_one', preprocessing.FunctionTransformer(add_one, validate = True),['feature1']),\n",
    "                            ('sub_one', preprocessing.FunctionTransformer(sub_one, validate = True), ['feature2'])]).fit_transform(df)\n",
    "print(result2)"
   ]
  },
  {
   "cell_type": "code",
   "execution_count": 33,
   "metadata": {},
   "outputs": [
    {
     "name": "stdout",
     "output_type": "stream",
     "text": [
      "[257 103  32] [ 46.         107.33333333 168.66666667 230.        ]\n",
      "    horsepower hp_bin\n",
      "0        130.0   보통출력\n",
      "1        165.0   보통출력\n",
      "2        150.0   보통출력\n",
      "3        150.0   보통출력\n",
      "4        140.0   보통출력\n",
      "5        198.0    고출력\n",
      "6        220.0    고출력\n",
      "7        215.0    고출력\n",
      "8        225.0    고출력\n",
      "9        190.0    고출력\n",
      "10       170.0    고출력\n",
      "11       160.0   보통출력\n",
      "12       150.0   보통출력\n",
      "13       225.0    고출력\n",
      "14        95.0    저출력\n",
      "15        95.0    저출력\n",
      "16        97.0    저출력\n",
      "17        85.0    저출력\n",
      "18        88.0    저출력\n",
      "19        46.0    저출력\n"
     ]
    }
   ],
   "source": [
    "# auto_mpg의 horsepower 를 3개의 구간을 분할\n",
    "# auto_mpg['horsepower'].describe()\n",
    "\n",
    "# 경계값 찾기\n",
    "count, bin_dividers = np.histogram(auto_mpg['horsepower'], bins =3)\n",
    "print(count, bin_dividers)\n",
    "\n",
    "# 각 그룹에 할당할 값의 리스트\n",
    "bin_names = ['저출력', '보통출력', '고출력']\n",
    "auto_mpg['hp_bin'] = pd.cut(x = auto_mpg['horsepower'], bins = bin_dividers, labels = bin_names, include_lowest =True)\n",
    "print(auto_mpg[['horsepower','hp_bin']].head(20))"
   ]
  },
  {
   "cell_type": "code",
   "execution_count": 34,
   "metadata": {},
   "outputs": [
    {
     "name": "stdout",
     "output_type": "stream",
     "text": [
      "[1 1 1 1 1 2 2 2 2 2 2 1 1 2 0 0 0 0 0 0 0 0 0 1 0 2 2 2 2 0 0 0 0 0 0 0 0\n",
      " 1 2 1 1 2 2 2 1 0 0 0 0 0 0 0 0 0 0 0 0 0 0 0 0 1 2 1 1 1 2 1 1 2 0 1 1 1\n",
      " 1 1 0 0 0 0 0 0 0 0 2 1 1 1 1 2 1 1 1 2 2 2 0 0 0 0 0 0 1 1 2 2 0 0 0 0 0\n",
      " 0 0 0 1 2 0 0 0 1 1 1 1 2 0 0 0 0 0 0 0 0 1 0 1 1 1 1 1 0 0 0 0 0 0 0 0 0\n",
      " 0 0 0 0 0 0 2 1 1 1 1 0 1 0 1 1 1 0 0 0 0 0 0 0 0 0 0 0 0 0 1 0 0 0 0 0 0\n",
      " 1 1 1 1 0 0 0 0 0 0 0 0 0 0 1 0 0 0 0 0 0 1 0 1 1 2 1 1 1 0 0 0 0 0 1 1 1\n",
      " 1 1 0 0 0 2 2 2 1 0 0 0 0 0 0 0 0 0 1 1 0 0 0 0 0 1 1 1 0 0 0 0 0 0 0 0 1\n",
      " 1 1 1 1 1 0 0 0 0 0 0 0 0 0 1 1 1 0 0 1 0 0 0 1 1 1 1 1 1 1 1 1 0 0 0 0 0\n",
      " 1 0 0 0 0 0 0 0 1 1 0 0 0 0 0 0 0 0 0 0 0 0 0 0 0 0 0 0 0 0 0 0 0 0 1 0 0\n",
      " 0 0 0 0 1 0 0 0 0 0 0 0 0 0 0 0 0 0 0 0 0 0 0 1 1 1 0 0 0 0 0 0 0 0 0 0 0\n",
      " 0 0 0 0 0 0 0 0 0 0 1 0 0 1 0 0 0 0 0 0 0 0]\n"
     ]
    }
   ],
   "source": [
    "# numpy 에서는 그룹의 명칭을 설정하지 않고 0, 1, 2 처럼 인덱스로 구분\n",
    "result = np.digitize(auto_mpg['horsepower'], bins = [107.33333333 , 168.66666667 , 230.0], right = True)\n",
    "print(result)"
   ]
  },
  {
   "cell_type": "code",
   "execution_count": 42,
   "metadata": {},
   "outputs": [
    {
     "name": "stdout",
     "output_type": "stream",
     "text": [
      "[[0]\n",
      " [0]\n",
      " [1]\n",
      " [1]\n",
      " [0]\n",
      " [1]\n",
      " [0]\n",
      " [0]] \n",
      "\n",
      "[[0.]\n",
      " [2.]\n",
      " [3.]\n",
      " [3.]\n",
      " [1.]\n",
      " [2.]\n",
      " [1.]\n",
      " [0.]]\n"
     ]
    }
   ],
   "source": [
    "# sklearn 의 binning(구간 분할)\n",
    "\n",
    "age = np.array([[13],[30],[67],[36],[20],[33],[27],[19]])\n",
    "# 2개 그룹으로 분할\n",
    "binarizer = preprocessing.Binarizer(threshold = 30.0)\n",
    "result = binarizer.transform(age)\n",
    "print(result, \"\\n\")\n",
    "\n",
    "\n",
    "# 여러 개의 그룹으로 분할\n",
    "# 4개의 그룹으로 일련번호 형태로 일정한 비율로 분할\n",
    "# strategy에 uniform 을 설정하면 간격을 일정하게 분할\n",
    "# encode 가 ordinal 이면 일련번호로 그룹이 생성\n",
    "# onehot 을 설정하면 onehot encoding 을 한 후 희소행렬로\n",
    "# onehot-dense 를 설정하면 onehot encoding 을 한 후 밀집행렬로\n",
    "kb = preprocessing.KBinsDiscretizer(4, encode = 'ordinal', strategy = 'quantile')\n",
    "result = kb.fit_transform(age)\n",
    "print(result)"
   ]
  },
  {
   "cell_type": "code",
   "execution_count": 46,
   "metadata": {},
   "outputs": [
    {
     "name": "stdout",
     "output_type": "stream",
     "text": [
      "   feature1  feature2\n",
      "0        13        30\n",
      "1        30        40\n",
      "2        67        44\n",
      "3        26        24\n",
      "4        22        11\n",
      "5        98        28\n"
     ]
    },
    {
     "name": "stderr",
     "output_type": "stream",
     "text": [
      "c:\\Users\\USER\\anaconda3\\lib\\site-packages\\sklearn\\cluster\\_kmeans.py:870: FutureWarning: The default value of `n_init` will change from 10 to 'auto' in 1.4. Set the value of `n_init` explicitly to suppress the warning\n",
      "  warnings.warn(\n",
      "c:\\Users\\USER\\anaconda3\\lib\\site-packages\\sklearn\\cluster\\_kmeans.py:1382: UserWarning: KMeans is known to have a memory leak on Windows with MKL, when there are less chunks than available threads. You can avoid it by setting the environment variable OMP_NUM_THREADS=1.\n",
      "  warnings.warn(\n"
     ]
    },
    {
     "data": {
      "text/html": [
       "<div>\n",
       "<style scoped>\n",
       "    .dataframe tbody tr th:only-of-type {\n",
       "        vertical-align: middle;\n",
       "    }\n",
       "\n",
       "    .dataframe tbody tr th {\n",
       "        vertical-align: top;\n",
       "    }\n",
       "\n",
       "    .dataframe thead th {\n",
       "        text-align: right;\n",
       "    }\n",
       "</style>\n",
       "<table border=\"1\" class=\"dataframe\">\n",
       "  <thead>\n",
       "    <tr style=\"text-align: right;\">\n",
       "      <th></th>\n",
       "      <th>feature1</th>\n",
       "      <th>feature2</th>\n",
       "      <th>group</th>\n",
       "    </tr>\n",
       "  </thead>\n",
       "  <tbody>\n",
       "    <tr>\n",
       "      <th>0</th>\n",
       "      <td>13</td>\n",
       "      <td>30</td>\n",
       "      <td>1</td>\n",
       "    </tr>\n",
       "    <tr>\n",
       "      <th>1</th>\n",
       "      <td>30</td>\n",
       "      <td>40</td>\n",
       "      <td>1</td>\n",
       "    </tr>\n",
       "    <tr>\n",
       "      <th>2</th>\n",
       "      <td>67</td>\n",
       "      <td>44</td>\n",
       "      <td>0</td>\n",
       "    </tr>\n",
       "    <tr>\n",
       "      <th>3</th>\n",
       "      <td>26</td>\n",
       "      <td>24</td>\n",
       "      <td>1</td>\n",
       "    </tr>\n",
       "    <tr>\n",
       "      <th>4</th>\n",
       "      <td>22</td>\n",
       "      <td>11</td>\n",
       "      <td>1</td>\n",
       "    </tr>\n",
       "    <tr>\n",
       "      <th>5</th>\n",
       "      <td>98</td>\n",
       "      <td>28</td>\n",
       "      <td>2</td>\n",
       "    </tr>\n",
       "  </tbody>\n",
       "</table>\n",
       "</div>"
      ],
      "text/plain": [
       "   feature1  feature2  group\n",
       "0        13        30      1\n",
       "1        30        40      1\n",
       "2        67        44      0\n",
       "3        26        24      1\n",
       "4        22        11      1\n",
       "5        98        28      2"
      ]
     },
     "execution_count": 46,
     "metadata": {},
     "output_type": "execute_result"
    }
   ],
   "source": [
    "# 군집 분석을 이용한 구간 분할\n",
    "from sklearn.cluster import KMeans\n",
    "\n",
    "sample = np.array([[13,30],[30,40],[67,44],[26,24],[22, 11],[98,28]])\n",
    "df = pd.DataFrame(sample, columns = ['feature1', 'feature2'])\n",
    "print(df)\n",
    "\n",
    "cluster = KMeans(3, random_state = 10)\n",
    "cluster.fit(sample)\n",
    "\n",
    "df['group'] = cluster.predict(sample)\n",
    "df"
   ]
  },
  {
   "cell_type": "code",
   "execution_count": 55,
   "metadata": {},
   "outputs": [
    {
     "name": "stdout",
     "output_type": "stream",
     "text": [
      "mean : 31228.583333333332\n",
      "std : 70923.95424144831\n",
      "z-scores : [array([-0.44024031, -0.4402967 , -0.44016981, -0.44016981, -0.44021211,\n",
      "       -0.44022621]), array([ 1.12631081, -0.15831863, -0.44026851, -0.43998651, -0.44015571,\n",
      "        2.99373348])]\n",
      "\n"
     ]
    },
    {
     "data": {
      "text/plain": [
       "(array([], dtype=int64), array([], dtype=int64))"
      ]
     },
     "execution_count": 55,
     "metadata": {},
     "output_type": "execute_result"
    }
   ],
   "source": [
    "# 이상치 감지\n",
    "# z-score를 구해주는 함수\n",
    "# 데이터가 12개보다 작으면 이상치가 없다고 판단\n",
    "def outliers_zscore(ys):\n",
    "    # 표준편차 임계값\n",
    "    threshold = 3\n",
    "\n",
    "    mean_y = np.mean(ys)\n",
    "    print('mean :', mean_y)\n",
    "    stdev_y = np.std(ys)\n",
    "    print('std :' , stdev_y)\n",
    "    z_scores = [(y - mean_y) / stdev_y for y in ys]\n",
    "    print('z-scores :' , z_scores)\n",
    "    print()\n",
    "    return np.where(np.abs(z_scores) > threshold)\n",
    "\n",
    "features = np.array([[5,1,10,10,7,6],[111111,20000,3,23,11,243556]])\n",
    "outliers_zscore(features)"
   ]
  },
  {
   "cell_type": "code",
   "execution_count": 59,
   "metadata": {},
   "outputs": [
    {
     "name": "stdout",
     "output_type": "stream",
     "text": [
      "median : 10.0\n",
      "std : 6.0\n",
      "z-scores : [array([-0.56208333, -1.01175   ,  0.        ,  0.        , -0.33725   ,\n",
      "       -0.44966667]), array([ 1.24896041e+04,  2.24720917e+03, -7.86916667e-01,  1.46141667e+00,\n",
      "        1.12416667e-01,  2.73786295e+04])]\n",
      "\n"
     ]
    },
    {
     "data": {
      "text/plain": [
       "(array([1, 1, 1], dtype=int64), array([0, 1, 5], dtype=int64))"
      ]
     },
     "execution_count": 59,
     "metadata": {},
     "output_type": "execute_result"
    }
   ],
   "source": [
    "# 이상치 감지\n",
    "# z-score 보정\n",
    "def outliers_modified_zscore(ys):\n",
    "    # 표준편차 임계값\n",
    "    threshold = 3.5\n",
    "\n",
    "    median_y = np.median(ys)\n",
    "    print('median :', median_y)\n",
    "    stdev_y = np.median([np.abs(y-median_y) for y in ys])\n",
    "    print('std :' , stdev_y)\n",
    "    z_scores = [0.6745 * (y - median_y) / stdev_y for y in ys]\n",
    "    print('z-scores :' , z_scores)\n",
    "    print()\n",
    "    return np.where(np.abs(z_scores) > threshold)\n",
    "\n",
    "features = np.array([[5,1,10,10,7,6],[111111,20000,3,23,11,243556]])\n",
    "outliers_modified_zscore(features)"
   ]
  },
  {
   "cell_type": "code",
   "execution_count": 60,
   "metadata": {},
   "outputs": [
    {
     "data": {
      "text/plain": [
       "(array([1, 1, 1], dtype=int64), array([0, 1, 5], dtype=int64))"
      ]
     },
     "execution_count": 60,
     "metadata": {},
     "output_type": "execute_result"
    }
   ],
   "source": [
    "# IQR 을 이용하는 방법\n",
    "def outliers_iqr(ys):\n",
    "    # 1사분위수와 3사분위수 구하기\n",
    "    quantile_1, quantile_3 = np.percentile(ys, [25,75])\n",
    "    iqr = quantile_3 - quantile_1\n",
    "    # 일반적인 데이터의 상한과 하한을 구하기\n",
    "    lower_bound = quantile_1 - (iqr * 1.5)\n",
    "    upper_bound = quantile_3 + (iqr * 1.5)\n",
    "    return np.where((ys > upper_bound) | (ys < lower_bound))\n",
    "\n",
    "features = np.array([[5,1,10,10,7,6],[111111,20000,3,23,11,243556]])\n",
    "outliers_iqr(features)"
   ]
  },
  {
   "cell_type": "code",
   "execution_count": 67,
   "metadata": {},
   "outputs": [
    {
     "name": "stdout",
     "output_type": "stream",
     "text": [
      "[[-2.743351    8.78014917]\n",
      " [-3.4172217   7.60198243]\n",
      " [-3.52202874  9.32853346]\n",
      " [-2.26723535  7.10100588]\n",
      " [-2.97261532  8.54855637]\n",
      " [-1.04354885  8.78850983]\n",
      " [-1.86150908 10.53731598]\n",
      " [-2.97867201  9.55684617]\n",
      " [-4.23411546  8.4519986 ]\n",
      " [-0.92998481  9.78172086]]\n"
     ]
    },
    {
     "data": {
      "text/plain": [
       "array([-1,  1,  1,  1,  1,  1,  1,  1,  1,  1])"
      ]
     },
     "execution_count": 67,
     "metadata": {},
     "output_type": "execute_result"
    }
   ],
   "source": [
    "#일정 비율의 데이터를 이상치로 간주하기\n",
    "from sklearn.covariance import EllipticEnvelope\n",
    "from sklearn.datasets import make_blobs\n",
    "\n",
    "#10행 2열의 데이터를 중앙점을 1.0으로 해서 랜덤하게 생성\n",
    "features, _ = make_blobs(n_samples =10, n_features =2, centers=1, random_state=42)\n",
    "print(features)\n",
    "\n",
    "# 첫번째 행의 데이터를 이상치로 수정\n",
    "features[0,0] = 10000\n",
    "features[0,1] = 10000\n",
    "\n",
    "# 이상치 감지 객체를 생성 - 이상치 비율을 설정\n",
    "outlier_detector = EllipticEnvelope(contamination = 0.1)\n",
    "outlier_detector.fit(features)\n",
    "# 이상치로 판정되면 -1 리턴, 그렇지 않으면 1을 리턴\n",
    "outlier_detector.predict(features)"
   ]
  },
  {
   "cell_type": "code",
   "execution_count": 70,
   "metadata": {},
   "outputs": [
    {
     "data": {
      "text/html": [
       "<div>\n",
       "<style scoped>\n",
       "    .dataframe tbody tr th:only-of-type {\n",
       "        vertical-align: middle;\n",
       "    }\n",
       "\n",
       "    .dataframe tbody tr th {\n",
       "        vertical-align: top;\n",
       "    }\n",
       "\n",
       "    .dataframe thead th {\n",
       "        text-align: right;\n",
       "    }\n",
       "</style>\n",
       "<table border=\"1\" class=\"dataframe\">\n",
       "  <thead>\n",
       "    <tr style=\"text-align: right;\">\n",
       "      <th></th>\n",
       "      <th>price</th>\n",
       "      <th>Rooms</th>\n",
       "      <th>Feet</th>\n",
       "      <th>outlier</th>\n",
       "      <th>Log_Feet</th>\n",
       "      <th>Scaled_Rooms</th>\n",
       "    </tr>\n",
       "  </thead>\n",
       "  <tbody>\n",
       "    <tr>\n",
       "      <th>0</th>\n",
       "      <td>500000</td>\n",
       "      <td>2</td>\n",
       "      <td>1500</td>\n",
       "      <td>0</td>\n",
       "      <td>7.313220</td>\n",
       "      <td>-0.066667</td>\n",
       "    </tr>\n",
       "    <tr>\n",
       "      <th>1</th>\n",
       "      <td>390000</td>\n",
       "      <td>3</td>\n",
       "      <td>2000</td>\n",
       "      <td>0</td>\n",
       "      <td>7.600902</td>\n",
       "      <td>-0.033333</td>\n",
       "    </tr>\n",
       "    <tr>\n",
       "      <th>2</th>\n",
       "      <td>290000</td>\n",
       "      <td>5</td>\n",
       "      <td>1300</td>\n",
       "      <td>0</td>\n",
       "      <td>7.170120</td>\n",
       "      <td>0.033333</td>\n",
       "    </tr>\n",
       "    <tr>\n",
       "      <th>3</th>\n",
       "      <td>6000000</td>\n",
       "      <td>116</td>\n",
       "      <td>20000</td>\n",
       "      <td>1</td>\n",
       "      <td>9.903488</td>\n",
       "      <td>3.733333</td>\n",
       "    </tr>\n",
       "  </tbody>\n",
       "</table>\n",
       "</div>"
      ],
      "text/plain": [
       "     price  Rooms   Feet  outlier  Log_Feet  Scaled_Rooms\n",
       "0   500000      2   1500        0  7.313220     -0.066667\n",
       "1   390000      3   2000        0  7.600902     -0.033333\n",
       "2   290000      5   1300        0  7.170120      0.033333\n",
       "3  6000000    116  20000        1  9.903488      3.733333"
      ]
     },
     "execution_count": 70,
     "metadata": {},
     "output_type": "execute_result"
    }
   ],
   "source": [
    "# 이상치 처리\n",
    "houses = pd.DataFrame()\n",
    "houses['price'] = [500000, 390000, 290000, 6000000]\n",
    "houses['Rooms'] = [2, 3, 5, 116]\n",
    "houses['Feet'] = [1500, 2000, 1300, 20000]\n",
    "\n",
    "# Rooms 값이 20보다 크면 이상치로 간주하고 특성을 추가\n",
    "houses['outlier'] = np.where(houses['Rooms']>20, 1, 0)\n",
    "# houses\n",
    "\n",
    "# outlier 의 영향을 최소화 - 특성 변환(로그변환)\n",
    "houses['Log_Feet'] = [np.log(x) for x in houses['Feet']]\n",
    "# houses\n",
    "\n",
    "# outlier 의 영향을 최소화 - 특성 변환(Scaling)\n",
    "imsi = pd.DataFrame(houses['Rooms'])\n",
    "scaler = preprocessing.RobustScaler()\n",
    "scaler.fit(imsi)\n",
    "houses['Scaled_Rooms'] = scaler.transform(imsi)\n",
    "houses"
   ]
  },
  {
   "cell_type": "code",
   "execution_count": 82,
   "metadata": {},
   "outputs": [],
   "source": [
    "# 결측치 확인\n",
    "import seaborn as sns\n",
    "titanic = sns.load_dataset('titanic')\n",
    "# titanic.isnull().sum()\n",
    "# titanic.info()\n",
    "# titanic['age'].value_counts(dropna = False)"
   ]
  },
  {
   "cell_type": "code",
   "execution_count": 83,
   "metadata": {},
   "outputs": [
    {
     "name": "stdout",
     "output_type": "stream",
     "text": [
      "survived         0\n",
      "pclass           0\n",
      "sex              0\n",
      "age            177\n",
      "sibsp            0\n",
      "parch            0\n",
      "fare             0\n",
      "embarked         2\n",
      "class            0\n",
      "who              0\n",
      "adult_male       0\n",
      "deck           688\n",
      "embark_town      2\n",
      "alive            0\n",
      "alone            0\n",
      "dtype: int64\n",
      "<class 'pandas.core.frame.DataFrame'>\n",
      "Int64Index: 714 entries, 0 to 890\n",
      "Data columns (total 15 columns):\n",
      " #   Column       Non-Null Count  Dtype   \n",
      "---  ------       --------------  -----   \n",
      " 0   survived     714 non-null    int64   \n",
      " 1   pclass       714 non-null    int64   \n",
      " 2   sex          714 non-null    object  \n",
      " 3   age          714 non-null    float64 \n",
      " 4   sibsp        714 non-null    int64   \n",
      " 5   parch        714 non-null    int64   \n",
      " 6   fare         714 non-null    float64 \n",
      " 7   embarked     712 non-null    object  \n",
      " 8   class        714 non-null    category\n",
      " 9   who          714 non-null    object  \n",
      " 10  adult_male   714 non-null    bool    \n",
      " 11  deck         184 non-null    category\n",
      " 12  embark_town  712 non-null    object  \n",
      " 13  alive        714 non-null    object  \n",
      " 14  alone        714 non-null    bool    \n",
      "dtypes: bool(2), category(2), float64(2), int64(4), object(5)\n",
      "memory usage: 70.2+ KB\n"
     ]
    }
   ],
   "source": [
    "# 결측치 삭제\n",
    "# 각 컬럼의 None의 개수 파악\n",
    "# print(titanic.isnull().sum())\n",
    "\n",
    "# 결측치의 개수가 200개 이상인 컬럼을 제거\n",
    "# result = titanic[['survived', 'pclass', 'sex', 'age', 'sibsp']]\n",
    "\n",
    "# 결측치인 행만 제거 - age 행이 결측치인 행을 제거\n",
    "result_age = titanic.dropna(subset = ['age'], how = 'any', axis = 0)\n",
    "result_age.info()"
   ]
  },
  {
   "cell_type": "code",
   "execution_count": 95,
   "metadata": {},
   "outputs": [
    {
     "name": "stdout",
     "output_type": "stream",
     "text": [
      "825     Queenstown\n",
      "826    Southampton\n",
      "827      Cherbourg\n",
      "828     Queenstown\n",
      "829    Southampton\n",
      "830      Cherbourg\n",
      "Name: embark_town, dtype: object\n"
     ]
    }
   ],
   "source": [
    "import seaborn as sns\n",
    "\n",
    "titanic = sns.load_dataset('titanic')\n",
    "# print(titanic['embark_town'][825:831])\n",
    "# embark_town 컬럼의 특성이 계절성을 갖는다면 이 경우는 앞의 값으로 채우는 것도\n",
    "# 나쁘지 않은 방법임\n",
    "# result = titanic['embark_town'].fillna(method = 'ffill')\n",
    "# print(result[825:831])\n",
    "\n",
    "# 결측치가 몇 개 되지 않을 때 대표 값으로 대체\n",
    "# 대표값으로 사용될 수 있는 데이터는 평균, 중간값, 최빈값 등\n",
    "# 대표값으로 변환하는 경우 많은 양의 데이터를 변겨하면 분석할 떄 결과가 왜곡될 수 있음\n",
    "mode = titanic['embark_town'].value_counts()\n",
    "# 가장 많이 출현한 데이터\n",
    "# mode.idxmax()\n",
    "titanic['embark_town'].fillna(mode.idxmax(), inplace = True)\n",
    "print(titanic['embark_town'][825:831])\n"
   ]
  },
  {
   "cell_type": "code",
   "execution_count": null,
   "metadata": {},
   "outputs": [],
   "source": [
    "# sklearn 의 Simplelmputer 이용\n",
    "# 객체를 만들 때 strategy 옵션에 mean, median, most_frequent, constant 를 설정\n",
    "# constant 를 설정하면 fill_value 옵션에 채울 값을 추가해주어야 함\n",
    "\n",
    "from sklearn.impute import Simplelmputer\n",
    "\n",
    "features = np.array([100], [200],[300],[400],[500],[np.nan])\n",
    "simple_imputer = Simplelmputer(strategy = 'median')\n",
    "print(simple_imputer.fit_transform(features))\n"
   ]
  },
  {
   "cell_type": "code",
   "execution_count": 101,
   "metadata": {},
   "outputs": [
    {
     "name": "stdout",
     "output_type": "stream",
     "text": [
      "Collecting fancyimpute\n",
      "  Downloading fancyimpute-0.7.0.tar.gz (25 kB)\n",
      "  Preparing metadata (setup.py): started\n",
      "  Preparing metadata (setup.py): finished with status 'done'\n",
      "Collecting knnimpute>=0.1.0 (from fancyimpute)\n",
      "  Downloading knnimpute-0.1.0.tar.gz (8.3 kB)\n",
      "  Preparing metadata (setup.py): started\n",
      "  Preparing metadata (setup.py): finished with status 'done'\n",
      "Requirement already satisfied: scikit-learn>=0.24.2 in c:\\users\\user\\anaconda3\\lib\\site-packages (from fancyimpute) (1.2.1)\n",
      "Collecting cvxpy (from fancyimpute)\n",
      "  Obtaining dependency information for cvxpy from https://files.pythonhosted.org/packages/68/e2/f34fe0c6d675a0514948cd7e7efb8d745ef06680a0a68db9c6ca406da4d8/cvxpy-1.3.2-cp310-cp310-win_amd64.whl.metadata\n",
      "  Downloading cvxpy-1.3.2-cp310-cp310-win_amd64.whl.metadata (8.9 kB)\n",
      "Collecting cvxopt (from fancyimpute)\n",
      "  Obtaining dependency information for cvxopt from https://files.pythonhosted.org/packages/5b/10/429440cf9b841a5f8645f0aacc6a8da0a87cce4846d45e836f6b5f83be34/cvxopt-1.3.2-cp310-cp310-win_amd64.whl.metadata\n",
      "  Downloading cvxopt-1.3.2-cp310-cp310-win_amd64.whl.metadata (1.4 kB)\n",
      "Requirement already satisfied: pytest in c:\\users\\user\\anaconda3\\lib\\site-packages (from fancyimpute) (7.1.2)\n",
      "Collecting nose (from fancyimpute)\n",
      "  Downloading nose-1.3.7-py3-none-any.whl (154 kB)\n",
      "     ---------------------------------------- 0.0/154.7 kB ? eta -:--:--\n",
      "     -------------------------------------- 154.7/154.7 kB 9.0 MB/s eta 0:00:00\n",
      "Requirement already satisfied: six in c:\\users\\user\\anaconda3\\lib\\site-packages (from knnimpute>=0.1.0->fancyimpute) (1.16.0)\n",
      "Requirement already satisfied: numpy>=1.10 in c:\\users\\user\\anaconda3\\lib\\site-packages (from knnimpute>=0.1.0->fancyimpute) (1.23.5)\n",
      "Requirement already satisfied: scipy>=1.3.2 in c:\\users\\user\\anaconda3\\lib\\site-packages (from scikit-learn>=0.24.2->fancyimpute) (1.10.0)\n",
      "Requirement already satisfied: joblib>=1.1.1 in c:\\users\\user\\anaconda3\\lib\\site-packages (from scikit-learn>=0.24.2->fancyimpute) (1.1.1)\n",
      "Requirement already satisfied: threadpoolctl>=2.0.0 in c:\\users\\user\\anaconda3\\lib\\site-packages (from scikit-learn>=0.24.2->fancyimpute) (2.2.0)\n",
      "Collecting osqp>=0.4.1 (from cvxpy->fancyimpute)\n",
      "  Obtaining dependency information for osqp>=0.4.1 from https://files.pythonhosted.org/packages/b1/e6/fa46181c0f7164704ad501a71191e3890db27461cb4d2ab92c0f37671201/osqp-0.6.3-cp310-cp310-win_amd64.whl.metadata\n",
      "  Downloading osqp-0.6.3-cp310-cp310-win_amd64.whl.metadata (1.8 kB)\n",
      "Collecting ecos>=2 (from cvxpy->fancyimpute)\n",
      "  Downloading ecos-2.0.12-cp310-cp310-win_amd64.whl (72 kB)\n",
      "     ---------------------------------------- 0.0/72.0 kB ? eta -:--:--\n",
      "     ---------------------------------------- 72.0/72.0 kB ? eta 0:00:00\n",
      "Collecting scs>=1.1.6 (from cvxpy->fancyimpute)\n",
      "  Downloading scs-3.2.3-cp310-cp310-win_amd64.whl (8.2 MB)\n",
      "     ---------------------------------------- 0.0/8.2 MB ? eta -:--:--\n",
      "     - -------------------------------------- 0.2/8.2 MB 7.4 MB/s eta 0:00:02\n",
      "     ----- ---------------------------------- 1.1/8.2 MB 11.9 MB/s eta 0:00:01\n",
      "     ---------- ----------------------------- 2.1/8.2 MB 14.7 MB/s eta 0:00:01\n",
      "     -------------- ------------------------- 2.9/8.2 MB 15.5 MB/s eta 0:00:01\n",
      "     ----------------- ---------------------- 3.7/8.2 MB 16.8 MB/s eta 0:00:01\n",
      "     --------------------- ------------------ 4.4/8.2 MB 17.6 MB/s eta 0:00:01\n",
      "     ------------------------ --------------- 4.9/8.2 MB 15.7 MB/s eta 0:00:01\n",
      "     ----------------------------- ---------- 6.1/8.2 MB 16.3 MB/s eta 0:00:01\n",
      "     -------------------------------- ------- 6.8/8.2 MB 16.6 MB/s eta 0:00:01\n",
      "     ------------------------------------- -- 7.8/8.2 MB 17.1 MB/s eta 0:00:01\n",
      "     ---------------------------------------- 8.2/8.2 MB 16.4 MB/s eta 0:00:00\n",
      "Requirement already satisfied: setuptools>65.5.1 in c:\\users\\user\\anaconda3\\lib\\site-packages (from cvxpy->fancyimpute) (65.6.3)\n",
      "Requirement already satisfied: attrs>=19.2.0 in c:\\users\\user\\anaconda3\\lib\\site-packages (from pytest->fancyimpute) (22.1.0)\n",
      "Requirement already satisfied: iniconfig in c:\\users\\user\\anaconda3\\lib\\site-packages (from pytest->fancyimpute) (1.1.1)\n",
      "Requirement already satisfied: packaging in c:\\users\\user\\anaconda3\\lib\\site-packages (from pytest->fancyimpute) (22.0)\n",
      "Requirement already satisfied: pluggy<2.0,>=0.12 in c:\\users\\user\\anaconda3\\lib\\site-packages (from pytest->fancyimpute) (1.0.0)\n",
      "Requirement already satisfied: py>=1.8.2 in c:\\users\\user\\anaconda3\\lib\\site-packages (from pytest->fancyimpute) (1.11.0)\n",
      "Requirement already satisfied: tomli>=1.0.0 in c:\\users\\user\\anaconda3\\lib\\site-packages (from pytest->fancyimpute) (2.0.1)\n",
      "Requirement already satisfied: atomicwrites>=1.0 in c:\\users\\user\\anaconda3\\lib\\site-packages (from pytest->fancyimpute) (1.4.0)\n",
      "Requirement already satisfied: colorama in c:\\users\\user\\anaconda3\\lib\\site-packages (from pytest->fancyimpute) (0.4.6)\n",
      "Collecting qdldl (from osqp>=0.4.1->cvxpy->fancyimpute)\n",
      "  Obtaining dependency information for qdldl from https://files.pythonhosted.org/packages/71/ca/4c66102b18bb34652f33a9295bba45995bfb42b9c47bd382c92127294366/qdldl-0.1.7.post0-cp310-cp310-win_amd64.whl.metadata\n",
      "  Downloading qdldl-0.1.7.post0-cp310-cp310-win_amd64.whl.metadata (1.8 kB)\n",
      "Downloading cvxopt-1.3.2-cp310-cp310-win_amd64.whl (12.8 MB)\n",
      "   ---------------------------------------- 0.0/12.8 MB ? eta -:--:--\n",
      "   --- ------------------------------------ 1.2/12.8 MB 24.4 MB/s eta 0:00:01\n",
      "   ------ --------------------------------- 2.2/12.8 MB 22.9 MB/s eta 0:00:01\n",
      "   ---------- ----------------------------- 3.4/12.8 MB 23.8 MB/s eta 0:00:01\n",
      "   -------------- ------------------------- 4.5/12.8 MB 24.1 MB/s eta 0:00:01\n",
      "   ------------------ --------------------- 5.8/12.8 MB 23.1 MB/s eta 0:00:01\n",
      "   --------------------- ------------------ 6.8/12.8 MB 22.8 MB/s eta 0:00:01\n",
      "   ------------------------ --------------- 7.8/12.8 MB 23.8 MB/s eta 0:00:01\n",
      "   ---------------------------- ----------- 9.1/12.8 MB 23.4 MB/s eta 0:00:01\n",
      "   ------------------------------- -------- 10.1/12.8 MB 23.1 MB/s eta 0:00:01\n",
      "   ----------------------------------- ---- 11.3/12.8 MB 23.4 MB/s eta 0:00:01\n",
      "   -------------------------------------- - 12.3/12.8 MB 23.4 MB/s eta 0:00:01\n",
      "   ---------------------------------------  12.8/12.8 MB 23.4 MB/s eta 0:00:01\n",
      "   ---------------------------------------- 12.8/12.8 MB 21.1 MB/s eta 0:00:00\n",
      "Downloading cvxpy-1.3.2-cp310-cp310-win_amd64.whl (892 kB)\n",
      "   ---------------------------------------- 0.0/892.6 kB ? eta -:--:--\n",
      "   --------------------------------------- 892.6/892.6 kB 27.6 MB/s eta 0:00:00\n",
      "Downloading osqp-0.6.3-cp310-cp310-win_amd64.whl (292 kB)\n",
      "   ---------------------------------------- 0.0/292.9 kB ? eta -:--:--\n",
      "   --------------------------------------- 292.9/292.9 kB 17.7 MB/s eta 0:00:00\n",
      "Downloading qdldl-0.1.7.post0-cp310-cp310-win_amd64.whl (85 kB)\n",
      "   ---------------------------------------- 0.0/85.1 kB ? eta -:--:--\n",
      "   ---------------------------------------- 85.1/85.1 kB 5.0 MB/s eta 0:00:00\n",
      "Building wheels for collected packages: fancyimpute, knnimpute\n",
      "  Building wheel for fancyimpute (setup.py): started\n",
      "  Building wheel for fancyimpute (setup.py): finished with status 'done'\n",
      "  Created wheel for fancyimpute: filename=fancyimpute-0.7.0-py3-none-any.whl size=29907 sha256=f904b66228b4fa23cece3bbb5a3953ccac6c2d3ff7b685735aaa74ea533719b1\n",
      "  Stored in directory: c:\\users\\user\\appdata\\local\\pip\\cache\\wheels\\7b\\0c\\d3\\ee82d1fbdcc0858d96434af108608d01703505d453720c84ed\n",
      "  Building wheel for knnimpute (setup.py): started\n",
      "  Building wheel for knnimpute (setup.py): finished with status 'done'\n",
      "  Created wheel for knnimpute: filename=knnimpute-0.1.0-py3-none-any.whl size=11345 sha256=288a82504cacc3306fa0751185b77bb9557f0c55de9859ffd90923de0591d5d1\n",
      "  Stored in directory: c:\\users\\user\\appdata\\local\\pip\\cache\\wheels\\46\\06\\a5\\45a724630562413c374e29c08732411d496092408b3a7bf754\n",
      "Successfully built fancyimpute knnimpute\n",
      "Installing collected packages: nose, knnimpute, cvxopt, scs, qdldl, ecos, osqp, cvxpy, fancyimpute\n",
      "Successfully installed cvxopt-1.3.2 cvxpy-1.3.2 ecos-2.0.12 fancyimpute-0.7.0 knnimpute-0.1.0 nose-1.3.7 osqp-0.6.3 qdldl-0.1.7.post0 scs-3.2.3\n",
      "Note: you may need to restart the kernel to use updated packages.\n"
     ]
    }
   ],
   "source": [
    "pip install fancyimpute"
   ]
  },
  {
   "cell_type": "code",
   "execution_count": 105,
   "metadata": {},
   "outputs": [
    {
     "name": "stdout",
     "output_type": "stream",
     "text": [
      "[[100.        200.       ]\n",
      " [200.        400.       ]\n",
      " [300.        600.       ]\n",
      " [400.        800.       ]\n",
      " [200.        400.0000001]]\n"
     ]
    }
   ],
   "source": [
    "from fancyimpute import KNN\n",
    "\n",
    "features = np.array([[100,200],[200,400],[300,600],[400,800],[200, np.nan]])\n",
    "print(KNN(k = 5, verbose = 0).fit_transform(features))"
   ]
  },
  {
   "cell_type": "code",
   "execution_count": null,
   "metadata": {},
   "outputs": [],
   "source": []
  }
 ],
 "metadata": {
  "kernelspec": {
   "display_name": "base",
   "language": "python",
   "name": "python3"
  },
  "language_info": {
   "codemirror_mode": {
    "name": "ipython",
    "version": 3
   },
   "file_extension": ".py",
   "mimetype": "text/x-python",
   "name": "python",
   "nbconvert_exporter": "python",
   "pygments_lexer": "ipython3",
   "version": "3.10.9"
  },
  "orig_nbformat": 4
 },
 "nbformat": 4,
 "nbformat_minor": 2
}
