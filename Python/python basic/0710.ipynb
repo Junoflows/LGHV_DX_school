{
 "cells": [
  {
   "cell_type": "markdown",
   "metadata": {},
   "source": [
    "## 함수형 프로그래밍 관련 함수"
   ]
  },
  {
   "cell_type": "markdown",
   "metadata": {},
   "source": [
    "+ 숫자 list를 가지고 제곱한 list를 생성"
   ]
  },
  {
   "cell_type": "code",
   "execution_count": 16,
   "metadata": {},
   "outputs": [
    {
     "name": "stdout",
     "output_type": "stream",
     "text": [
      "[]\n"
     ]
    }
   ],
   "source": [
    "# 반복문을 이용한 변환\n",
    "li = [i for i in range(100)]\n",
    "temp = []\n",
    "for x in li:\n",
    "    tmp.append(x*x)\n",
    "\n",
    "print(temp)"
   ]
  },
  {
   "cell_type": "code",
   "execution_count": 17,
   "metadata": {},
   "outputs": [
    {
     "name": "stdout",
     "output_type": "stream",
     "text": [
      "[0, 1, 4, 9, 16, 25, 36, 49, 64, 81, 100, 121, 144, 169, 196, 225, 256, 289, 324, 361, 400, 441, 484, 529, 576, 625, 676, 729, 784, 841, 900, 961, 1024, 1089, 1156, 1225, 1296, 1369, 1444, 1521, 1600, 1681, 1764, 1849, 1936, 2025, 2116, 2209, 2304, 2401, 2500, 2601, 2704, 2809, 2916, 3025, 3136, 3249, 3364, 3481, 3600, 3721, 3844, 3969, 4096, 4225, 4356, 4489, 4624, 4761, 4900, 5041, 5184, 5329, 5476, 5625, 5776, 5929, 6084, 6241, 6400, 6561, 6724, 6889, 7056, 7225, 7396, 7569, 7744, 7921, 8100, 8281, 8464, 8649, 8836, 9025, 9216, 9409, 9604, 9801]\n"
     ]
    }
   ],
   "source": [
    "# map 함수를 이용한 변환\n",
    "def f(x):\n",
    "    return x*x\n",
    "\n",
    "temp = list(map(f, li))\n",
    "print(temp)"
   ]
  },
  {
   "cell_type": "code",
   "execution_count": 18,
   "metadata": {},
   "outputs": [
    {
     "name": "stdout",
     "output_type": "stream",
     "text": [
      "[0, 1, 4, 9, 16, 25, 36, 49, 64, 81, 100, 121, 144, 169, 196, 225, 256, 289, 324, 361, 400, 441, 484, 529, 576, 625, 676, 729, 784, 841, 900, 961, 1024, 1089, 1156, 1225, 1296, 1369, 1444, 1521, 1600, 1681, 1764, 1849, 1936, 2025, 2116, 2209, 2304, 2401, 2500, 2601, 2704, 2809, 2916, 3025, 3136, 3249, 3364, 3481, 3600, 3721, 3844, 3969, 4096, 4225, 4356, 4489, 4624, 4761, 4900, 5041, 5184, 5329, 5476, 5625, 5776, 5929, 6084, 6241, 6400, 6561, 6724, 6889, 7056, 7225, 7396, 7569, 7744, 7921, 8100, 8281, 8464, 8649, 8836, 9025, 9216, 9409, 9604, 9801]\n"
     ]
    }
   ],
   "source": [
    "# 함수의 내용이 한 줄이므로 람다로 처리\n",
    "temp = list(map(lambda x : x*x, li))\n",
    "print(temp)"
   ]
  },
  {
   "cell_type": "code",
   "execution_count": 21,
   "metadata": {},
   "outputs": [
    {
     "name": "stdout",
     "output_type": "stream",
     "text": [
      "['hel...', 'wor...', 'son...', 'hi']\n"
     ]
    }
   ],
   "source": [
    "ar = ['hello', 'world','songjunho','hi']\n",
    "\n",
    "def f(x):\n",
    "    if len(x) > 3:\n",
    "        return x[0:3] + '...'\n",
    "    return x\n",
    "\n",
    "temp = list(map(f, ar))\n",
    "print(temp)"
   ]
  },
  {
   "cell_type": "markdown",
   "metadata": {},
   "source": [
    "filter"
   ]
  },
  {
   "cell_type": "code",
   "execution_count": 34,
   "metadata": {},
   "outputs": [
    {
     "name": "stdout",
     "output_type": "stream",
     "text": [
      "True\n",
      "['송준호', '송준걸', '김정은', '김정현', '김구']\n",
      "['송준호', '송준걸', '김정은', '김정현']\n"
     ]
    }
   ],
   "source": [
    "ar = ['송준호','송준걸','김정은','김정현', None, '김구']\n",
    "# 결측치 여부 확인\n",
    "print(None in ar)\n",
    "\n",
    "def f1(x):\n",
    "    return x!= None\n",
    "\n",
    "ar = list(filter(f1, ar))\n",
    "print(ar)\n",
    "# 이름이 3자 이상인 데이터만 추출\n",
    "\n",
    "def f(x):\n",
    "    return len(x) >= 3\n",
    "\n",
    "result = list(filter(f, ar))\n",
    "print(result)"
   ]
  },
  {
   "cell_type": "code",
   "execution_count": 43,
   "metadata": {},
   "outputs": [
    {
     "name": "stdout",
     "output_type": "stream",
     "text": [
      "['송준호', '송준걸', '김정은', '김정현', '김구']\n",
      "['송준호', '송준걸', '김정은', '김정현']\n"
     ]
    }
   ],
   "source": [
    "# 람다로 해볼까?\n",
    "ar = ['송준호','송준걸','김정은','김정현', None, '김구']\n",
    "\n",
    "ar = list(filter(lambda x: x is not None, ar))\n",
    "print(ar)\n",
    "result = list(filter(lambda x : len(x) >= 3, ar))\n",
    "print(result)"
   ]
  },
  {
   "cell_type": "code",
   "execution_count": 49,
   "metadata": {},
   "outputs": [
    {
     "name": "stdout",
     "output_type": "stream",
     "text": [
      "['송준호', '송준걸']\n"
     ]
    }
   ],
   "source": [
    "# ㄱ로 시작하는 이름 추출\n",
    "ar = ['송준호','송준걸','김정은','김정현', None, '김구']\n",
    "ar = list(filter(lambda x : x is not None, ar))\n",
    "ar = list(filter(lambda x : x[0] >= '사' and x[0] < '아', ar))\n",
    "print(ar)"
   ]
  },
  {
   "cell_type": "markdown",
   "metadata": {},
   "source": [
    "데이터가 collection에 포함되어 있는지 확인하는 방법 : in, not in"
   ]
  },
  {
   "cell_type": "code",
   "execution_count": 3,
   "metadata": {},
   "outputs": [
    {
     "data": {
      "text/plain": [
       "True"
      ]
     },
     "execution_count": 3,
     "metadata": {},
     "output_type": "execute_result"
    }
   ],
   "source": [
    "ar = ['a','b','c','d']\n",
    "kwlist = ['c']\n",
    "\n",
    "# ar에서 kwlist에 있는 것은 제외하고 list로 생성\n",
    "kwlist[0] in ar"
   ]
  },
  {
   "cell_type": "markdown",
   "metadata": {},
   "source": [
    "reduce"
   ]
  },
  {
   "cell_type": "code",
   "execution_count": 11,
   "metadata": {},
   "outputs": [
    {
     "data": {
      "text/plain": [
       "120"
      ]
     },
     "execution_count": 11,
     "metadata": {},
     "output_type": "execute_result"
    }
   ],
   "source": [
    "from functools import reduce\n",
    "result = reduce(lambda x, y: x * y , [1, 2, 3, 4, 5])\n",
    "result"
   ]
  },
  {
   "cell_type": "markdown",
   "metadata": {},
   "source": [
    "zip"
   ]
  },
  {
   "cell_type": "code",
   "execution_count": 13,
   "metadata": {},
   "outputs": [
    {
     "name": "stdout",
     "output_type": "stream",
     "text": [
      "[('초등학교', '번동초등학교'), ('중학교', '개운중학교'), ('고등학교', '영훈고등학교')]\n",
      "{'초등학교': '번동초등학교', '중학교': '개운중학교', '고등학교': '영훈고등학교'}\n"
     ]
    }
   ],
   "source": [
    "key = ['초등학교','중학교', '고등학교']\n",
    "value = ['번동초등학교','개운중학교','영훈고등학교']\n",
    "\n",
    "print(list(zip(key, value)))\n",
    "print(dict(zip(key, value)))"
   ]
  },
  {
   "cell_type": "markdown",
   "metadata": {},
   "source": [
    "중첩함수"
   ]
  },
  {
   "cell_type": "code",
   "execution_count": 35,
   "metadata": {},
   "outputs": [
    {
     "name": "stdout",
     "output_type": "stream",
     "text": [
      "외부 함수 데이터\n",
      "외부 함수 데이터\n",
      "외부 함수 데이터\n"
     ]
    }
   ],
   "source": [
    "def outer():\n",
    "    outer_data = '외부 함수 데이터'\n",
    "    def inner():\n",
    "        inner_data = '내부 함수 데이터'\n",
    "        print(outer_data)\n",
    "        # outer_data = '내부에서 외부 함수의 데이터 변경'\n",
    "        print(outer_data)\n",
    "\n",
    "# print(outer_data)\n",
    "    inner()\n",
    "    print(outer_data)\n",
    "outer()"
   ]
  },
  {
   "cell_type": "code",
   "execution_count": 38,
   "metadata": {},
   "outputs": [
    {
     "name": "stdout",
     "output_type": "stream",
     "text": [
      "외부 함수 데이터\n"
     ]
    }
   ],
   "source": [
    "def outer():\n",
    "    outer_data = '외부 함수 데이터'\n",
    "    def inner():\n",
    "        print(outer_data)\n",
    "        \n",
    "    inner()\n",
    "    \n",
    "outer()\n",
    "# inner를 호출할 때 outer_data는 함수 외부에 있는 것으로\n",
    "# 해석되어 에러가 아님"
   ]
  },
  {
   "cell_type": "code",
   "execution_count": 37,
   "metadata": {},
   "outputs": [
    {
     "ename": "TabError",
     "evalue": "inconsistent use of tabs and spaces in indentation (2073925571.py, line 5)",
     "output_type": "error",
     "traceback": [
      "\u001b[1;36m  Cell \u001b[1;32mIn[37], line 5\u001b[1;36m\u001b[0m\n\u001b[1;33m    outer_data = '내부에서 외부 함수의 데이터 변경'\u001b[0m\n\u001b[1;37m    ^\u001b[0m\n\u001b[1;31mTabError\u001b[0m\u001b[1;31m:\u001b[0m inconsistent use of tabs and spaces in indentation\n"
     ]
    }
   ],
   "source": [
    "def outer():\n",
    "    outer_data = '외부 함수 데이터'\n",
    "    def inner():\n",
    "        print(outer_data)\n",
    "\t\touter_data = '내부에서 외부 함수의 데이터 변경'\n",
    "        \n",
    "    inner()\n",
    "    \n",
    "outer()\n",
    "# outer_data가 만들어지기 전에 사용되었다고\n",
    "# 해석되어 에러가 발생"
   ]
  },
  {
   "cell_type": "code",
   "execution_count": 42,
   "metadata": {},
   "outputs": [
    {
     "name": "stdout",
     "output_type": "stream",
     "text": [
      "함수 내부에 만든 데이터\n",
      "함수 외부에 만든 데이터\n"
     ]
    }
   ],
   "source": [
    "def outer():\n",
    "    outer_data = '함수 외부에 만든 데이터'\n",
    "    def inner():\n",
    "        outer_data = '함수 내부에 만든 데이터'\n",
    "        print(outer_data)\n",
    "    inner()\n",
    "    print(outer_data)\n",
    "\n",
    "outer()"
   ]
  },
  {
   "cell_type": "markdown",
   "metadata": {},
   "source": [
    "nonlocal, global"
   ]
  },
  {
   "cell_type": "code",
   "execution_count": 46,
   "metadata": {},
   "outputs": [
    {
     "name": "stdout",
     "output_type": "stream",
     "text": [
      "함수 내부에 만든 데이터\n",
      "함수 내부에 만든 데이터\n"
     ]
    }
   ],
   "source": [
    "def outer():\n",
    "    outer_data = '함수 외부에 만든 데이터'\n",
    "    def inner():\n",
    "        nonlocal outer_data # outer_data 는 이제 함수 내부에서 새롭게 만들지 않음\n",
    "        # 함수 내부에 데이터를 생성하지 않고 외부의 데이터를 사용하기 위해\n",
    "        # 외부에 있는 함수 이름을 다시 등록\n",
    "        outer_data = '함수 내부에 만든 데이터'\n",
    "        print(outer_data)\n",
    "    inner()\n",
    "    print(outer_data)\n",
    "\n",
    "outer()"
   ]
  },
  {
   "cell_type": "code",
   "execution_count": 49,
   "metadata": {},
   "outputs": [
    {
     "name": "stdout",
     "output_type": "stream",
     "text": [
      "함수 내부에 만든 데이터\n",
      "함수 내부에 만든 데이터\n"
     ]
    }
   ],
   "source": [
    "outer_data = '함수 외부에 만든 데이터'\n",
    "def outer():\n",
    "    def inner():\n",
    "        global outer_data # outer_data 는 이제 함수 내부에서 새롭게 만들지 않음\n",
    "        # 함수 내부에 데이터를 생성하지 않고 외부의 데이터를 사용하기 위해\n",
    "        # 외부에 있는 함수 이름을 다시 등록\n",
    "        outer_data = '함수 내부에 만든 데이터'\n",
    "        print(outer_data)\n",
    "    inner()\n",
    "    print(outer_data)\n",
    "\n",
    "outer()"
   ]
  },
  {
   "cell_type": "markdown",
   "metadata": {},
   "source": [
    "closure"
   ]
  },
  {
   "cell_type": "code",
   "execution_count": 63,
   "metadata": {},
   "outputs": [
    {
     "name": "stdout",
     "output_type": "stream",
     "text": [
      "1\n",
      "2\n"
     ]
    }
   ],
   "source": [
    "def outer():\n",
    "    data = 0\n",
    "    # 자신을 감싸고 있는 함수의 데이터를 수정하는 함수\n",
    "    def inner():\n",
    "        nonlocal data\n",
    "        data = data + 1\n",
    "        print(data)\n",
    "    \n",
    "    return inner\n",
    "\n",
    "closure = outer()\n",
    "closure()\n",
    "closure()"
   ]
  },
  {
   "cell_type": "markdown",
   "metadata": {},
   "source": [
    "decorator"
   ]
  },
  {
   "cell_type": "code",
   "execution_count": 65,
   "metadata": {},
   "outputs": [
    {
     "name": "stdout",
     "output_type": "stream",
     "text": [
      "공통 관심 사항1\n",
      "업무 로직\n",
      "공통 관심 사항2\n"
     ]
    }
   ],
   "source": [
    "def commonConcern1():\n",
    "    print(\"공통 관심 사항1\")\n",
    "\n",
    "def commonConcern2():\n",
    "    print(\"공통 관심 사항2\")\n",
    "\n",
    "def businessLogic():\n",
    "    print(\"업무 로직\")\n",
    "\n",
    "def transaction():\n",
    "    commonConcern1()\n",
    "    businessLogic()\n",
    "    commonConcern2()\n",
    "    \n",
    "transaction()"
   ]
  },
  {
   "cell_type": "code",
   "execution_count": 104,
   "metadata": {},
   "outputs": [
    {
     "name": "stdout",
     "output_type": "stream",
     "text": [
      "공통관심사항\n",
      "업무 로직\n"
     ]
    }
   ],
   "source": [
    "def deco(func):\n",
    "    print('공통관심사항')\n",
    "    func()\n",
    "# 이제부터 businessLogic 이라는 함수를 호출하면 deco 라는 함수를 수행\n",
    "# deco 에게 매개변수로 businessLogic 이라는 함수가 전달됨\n",
    "# 개발자가 작성한 코드 대신에 다른 코드를 불러내는 방식을 프록시 패턴이라고 함\n",
    "\n",
    "@deco\n",
    "def businessLogic():\n",
    "    print(\"업무 로직\")\n",
    "\n",
    "businessLogic"
   ]
  },
  {
   "cell_type": "markdown",
   "metadata": {},
   "source": [
    "고객의 니즈가 변경  \n",
    "업무 로직과는 관계가 없는 로깅을 출력하는 코드를 추가하기를 원함  \n",
    "유지보수 과정이나 업무 로직과 관련이 없는 코드를 추가하거나 삭제하는 경우  \n",
    "업무 로직을 직접 수정하는 것은 예상치 못한 결과를 만들어 낼 수 있음  \n",
    "이런 경우 업무 로직은 손을 대지 않고 가능하도록 만드는 것이 좋음"
   ]
  },
  {
   "cell_type": "code",
   "execution_count": 91,
   "metadata": {},
   "outputs": [
    {
     "name": "stdout",
     "output_type": "stream",
     "text": [
      "loggingbefore\n",
      "업무 로직\n",
      "loggingafter\n"
     ]
    }
   ],
   "source": [
    "def decorator(func):\n",
    "    print('loggingbefore')\n",
    "    func()\n",
    "    print('loggingafter')\n",
    "\n",
    "@decorator\n",
    "def businessLogic():\n",
    "    print(\"업무 로직\")\n",
    "\n",
    "businessLogic"
   ]
  },
  {
   "cell_type": "markdown",
   "metadata": {},
   "source": [
    "함수를 호출할 때마다 실행에 걸린 시간, 인수, 리턴 값을 출력하는 decorator 생성"
   ]
  },
  {
   "cell_type": "code",
   "execution_count": 87,
   "metadata": {},
   "outputs": [],
   "source": [
    "import time\n",
    "\n",
    "def clock(func):\n",
    "    #decorator가 적용된 함수가 호출되면 수행될 실제 함수\n",
    "    def clocked(*args):\n",
    "        start = time.time() # 현재 시작을 기록\n",
    "        # 업무 로직 함수를 호출\n",
    "        result = func(*args)\n",
    "        end = time.time()\n",
    "        elapsed = end - start # 함수의 수행시간\n",
    "        print(\"수행 시간 : \", elapsed)\n",
    "        # 매개변수 확인\n",
    "        print('매개변수 :', args)\n",
    "        # 리턴 값 확인\n",
    "        print('리턴값 :', result)\n",
    "\n",
    "        return result\n",
    "    \n",
    "    return clocked"
   ]
  },
  {
   "cell_type": "code",
   "execution_count": 93,
   "metadata": {},
   "outputs": [
    {
     "name": "stdout",
     "output_type": "stream",
     "text": [
      "수행 시간 :  0.0\n",
      "매개변수 : (2,)\n",
      "리턴값 : 1\n",
      "수행 시간 :  0.0\n",
      "매개변수 : (1,)\n",
      "리턴값 : 1\n",
      "수행 시간 :  0.0\n",
      "매개변수 : (3,)\n",
      "리턴값 : 2\n",
      "수행 시간 :  0.0\n",
      "매개변수 : (2,)\n",
      "리턴값 : 1\n",
      "수행 시간 :  0.0\n",
      "매개변수 : (4,)\n",
      "리턴값 : 3\n",
      "수행 시간 :  0.0\n",
      "매개변수 : (2,)\n",
      "리턴값 : 1\n",
      "수행 시간 :  0.0\n",
      "매개변수 : (1,)\n",
      "리턴값 : 1\n",
      "수행 시간 :  0.0\n",
      "매개변수 : (3,)\n",
      "리턴값 : 2\n",
      "수행 시간 :  0.0\n",
      "매개변수 : (5,)\n",
      "리턴값 : 5\n",
      "수행 시간 :  0.0\n",
      "매개변수 : (2,)\n",
      "리턴값 : 1\n",
      "수행 시간 :  0.0\n",
      "매개변수 : (1,)\n",
      "리턴값 : 1\n",
      "수행 시간 :  0.0\n",
      "매개변수 : (3,)\n",
      "리턴값 : 2\n",
      "수행 시간 :  0.0\n",
      "매개변수 : (2,)\n",
      "리턴값 : 1\n",
      "수행 시간 :  0.0\n",
      "매개변수 : (4,)\n",
      "리턴값 : 3\n",
      "수행 시간 :  0.0\n",
      "매개변수 : (6,)\n",
      "리턴값 : 8\n",
      "수행 시간 :  0.0\n",
      "매개변수 : (2,)\n",
      "리턴값 : 1\n",
      "수행 시간 :  0.0\n",
      "매개변수 : (1,)\n",
      "리턴값 : 1\n",
      "수행 시간 :  0.0\n",
      "매개변수 : (3,)\n",
      "리턴값 : 2\n",
      "수행 시간 :  0.0\n",
      "매개변수 : (2,)\n",
      "리턴값 : 1\n",
      "수행 시간 :  0.0\n",
      "매개변수 : (4,)\n",
      "리턴값 : 3\n",
      "수행 시간 :  0.0\n",
      "매개변수 : (2,)\n",
      "리턴값 : 1\n",
      "수행 시간 :  0.0\n",
      "매개변수 : (1,)\n",
      "리턴값 : 1\n",
      "수행 시간 :  0.0\n",
      "매개변수 : (3,)\n",
      "리턴값 : 2\n",
      "수행 시간 :  0.0\n",
      "매개변수 : (5,)\n",
      "리턴값 : 5\n",
      "수행 시간 :  0.0\n",
      "매개변수 : (7,)\n",
      "리턴값 : 13\n",
      "수행 시간 :  0.0\n",
      "매개변수 : (2,)\n",
      "리턴값 : 1\n",
      "수행 시간 :  0.0\n",
      "매개변수 : (1,)\n",
      "리턴값 : 1\n",
      "수행 시간 :  0.0\n",
      "매개변수 : (3,)\n",
      "리턴값 : 2\n",
      "수행 시간 :  0.0\n",
      "매개변수 : (2,)\n",
      "리턴값 : 1\n",
      "수행 시간 :  0.0\n",
      "매개변수 : (4,)\n",
      "리턴값 : 3\n",
      "수행 시간 :  0.0\n",
      "매개변수 : (2,)\n",
      "리턴값 : 1\n",
      "수행 시간 :  0.0\n",
      "매개변수 : (1,)\n",
      "리턴값 : 1\n",
      "수행 시간 :  0.0\n",
      "매개변수 : (3,)\n",
      "리턴값 : 2\n",
      "수행 시간 :  0.0\n",
      "매개변수 : (5,)\n",
      "리턴값 : 5\n",
      "수행 시간 :  0.0\n",
      "매개변수 : (2,)\n",
      "리턴값 : 1\n",
      "수행 시간 :  0.0\n",
      "매개변수 : (1,)\n",
      "리턴값 : 1\n",
      "수행 시간 :  0.0\n",
      "매개변수 : (3,)\n",
      "리턴값 : 2\n",
      "수행 시간 :  0.0\n",
      "매개변수 : (2,)\n",
      "리턴값 : 1\n",
      "수행 시간 :  0.0\n",
      "매개변수 : (4,)\n",
      "리턴값 : 3\n",
      "수행 시간 :  0.0\n",
      "매개변수 : (6,)\n",
      "리턴값 : 8\n",
      "수행 시간 :  0.0\n",
      "매개변수 : (8,)\n",
      "리턴값 : 21\n",
      "수행 시간 :  0.0\n",
      "매개변수 : (2,)\n",
      "리턴값 : 1\n",
      "수행 시간 :  0.0\n",
      "매개변수 : (1,)\n",
      "리턴값 : 1\n",
      "수행 시간 :  0.0\n",
      "매개변수 : (3,)\n",
      "리턴값 : 2\n",
      "수행 시간 :  0.0\n",
      "매개변수 : (2,)\n",
      "리턴값 : 1\n",
      "수행 시간 :  0.0\n",
      "매개변수 : (4,)\n",
      "리턴값 : 3\n",
      "수행 시간 :  0.0\n",
      "매개변수 : (2,)\n",
      "리턴값 : 1\n",
      "수행 시간 :  0.0\n",
      "매개변수 : (1,)\n",
      "리턴값 : 1\n",
      "수행 시간 :  0.0\n",
      "매개변수 : (3,)\n",
      "리턴값 : 2\n",
      "수행 시간 :  0.0\n",
      "매개변수 : (5,)\n",
      "리턴값 : 5\n",
      "수행 시간 :  0.0\n",
      "매개변수 : (2,)\n",
      "리턴값 : 1\n",
      "수행 시간 :  0.0\n",
      "매개변수 : (1,)\n",
      "리턴값 : 1\n",
      "수행 시간 :  0.0\n",
      "매개변수 : (3,)\n",
      "리턴값 : 2\n",
      "수행 시간 :  0.0\n",
      "매개변수 : (2,)\n",
      "리턴값 : 1\n",
      "수행 시간 :  0.0\n",
      "매개변수 : (4,)\n",
      "리턴값 : 3\n",
      "수행 시간 :  0.0\n",
      "매개변수 : (6,)\n",
      "리턴값 : 8\n",
      "수행 시간 :  0.0\n",
      "매개변수 : (2,)\n",
      "리턴값 : 1\n",
      "수행 시간 :  0.0\n",
      "매개변수 : (1,)\n",
      "리턴값 : 1\n",
      "수행 시간 :  0.0\n",
      "매개변수 : (3,)\n",
      "리턴값 : 2\n",
      "수행 시간 :  0.0\n",
      "매개변수 : (2,)\n",
      "리턴값 : 1\n",
      "수행 시간 :  0.0\n",
      "매개변수 : (4,)\n",
      "리턴값 : 3\n",
      "수행 시간 :  0.0\n",
      "매개변수 : (2,)\n",
      "리턴값 : 1\n",
      "수행 시간 :  0.0\n",
      "매개변수 : (1,)\n",
      "리턴값 : 1\n",
      "수행 시간 :  0.0\n",
      "매개변수 : (3,)\n",
      "리턴값 : 2\n",
      "수행 시간 :  0.0\n",
      "매개변수 : (5,)\n",
      "리턴값 : 5\n",
      "수행 시간 :  0.0\n",
      "매개변수 : (7,)\n",
      "리턴값 : 13\n",
      "수행 시간 :  0.0\n",
      "매개변수 : (9,)\n",
      "리턴값 : 34\n",
      "수행 시간 :  0.0\n",
      "매개변수 : (2,)\n",
      "리턴값 : 1\n",
      "수행 시간 :  0.0\n",
      "매개변수 : (1,)\n",
      "리턴값 : 1\n",
      "수행 시간 :  0.001001596450805664\n",
      "매개변수 : (3,)\n",
      "리턴값 : 2\n",
      "수행 시간 :  0.0\n",
      "매개변수 : (2,)\n",
      "리턴값 : 1\n",
      "수행 시간 :  0.001001596450805664\n",
      "매개변수 : (4,)\n",
      "리턴값 : 3\n",
      "수행 시간 :  0.0\n",
      "매개변수 : (2,)\n",
      "리턴값 : 1\n",
      "수행 시간 :  0.0\n",
      "매개변수 : (1,)\n",
      "리턴값 : 1\n",
      "수행 시간 :  0.0\n",
      "매개변수 : (3,)\n",
      "리턴값 : 2\n",
      "수행 시간 :  0.001001596450805664\n",
      "매개변수 : (5,)\n",
      "리턴값 : 5\n",
      "수행 시간 :  0.0\n",
      "매개변수 : (2,)\n",
      "리턴값 : 1\n",
      "수행 시간 :  0.0\n",
      "매개변수 : (1,)\n",
      "리턴값 : 1\n",
      "수행 시간 :  0.0\n",
      "매개변수 : (3,)\n",
      "리턴값 : 2\n",
      "수행 시간 :  0.0\n",
      "매개변수 : (2,)\n",
      "리턴값 : 1\n",
      "수행 시간 :  0.0\n",
      "매개변수 : (4,)\n",
      "리턴값 : 3\n",
      "수행 시간 :  0.001001596450805664\n",
      "매개변수 : (6,)\n",
      "리턴값 : 8\n",
      "수행 시간 :  0.0\n",
      "매개변수 : (2,)\n",
      "리턴값 : 1\n",
      "수행 시간 :  0.0\n",
      "매개변수 : (1,)\n",
      "리턴값 : 1\n",
      "수행 시간 :  0.0\n",
      "매개변수 : (3,)\n",
      "리턴값 : 2\n",
      "수행 시간 :  0.0\n",
      "매개변수 : (2,)\n",
      "리턴값 : 1\n",
      "수행 시간 :  0.0\n",
      "매개변수 : (4,)\n",
      "리턴값 : 3\n",
      "수행 시간 :  0.0\n",
      "매개변수 : (2,)\n",
      "리턴값 : 1\n",
      "수행 시간 :  0.0\n",
      "매개변수 : (1,)\n",
      "리턴값 : 1\n",
      "수행 시간 :  0.0\n",
      "매개변수 : (3,)\n",
      "리턴값 : 2\n",
      "수행 시간 :  0.0\n",
      "매개변수 : (5,)\n",
      "리턴값 : 5\n",
      "수행 시간 :  0.001001596450805664\n",
      "매개변수 : (7,)\n",
      "리턴값 : 13\n",
      "수행 시간 :  0.0\n",
      "매개변수 : (2,)\n",
      "리턴값 : 1\n",
      "수행 시간 :  0.0\n",
      "매개변수 : (1,)\n",
      "리턴값 : 1\n",
      "수행 시간 :  0.0\n",
      "매개변수 : (3,)\n",
      "리턴값 : 2\n",
      "수행 시간 :  0.0\n",
      "매개변수 : (2,)\n",
      "리턴값 : 1\n",
      "수행 시간 :  0.0\n",
      "매개변수 : (4,)\n",
      "리턴값 : 3\n",
      "수행 시간 :  0.0\n",
      "매개변수 : (2,)\n",
      "리턴값 : 1\n",
      "수행 시간 :  0.0\n",
      "매개변수 : (1,)\n",
      "리턴값 : 1\n",
      "수행 시간 :  0.0\n",
      "매개변수 : (3,)\n",
      "리턴값 : 2\n",
      "수행 시간 :  0.0\n",
      "매개변수 : (5,)\n",
      "리턴값 : 5\n",
      "수행 시간 :  0.0\n",
      "매개변수 : (2,)\n",
      "리턴값 : 1\n",
      "수행 시간 :  0.0\n",
      "매개변수 : (1,)\n",
      "리턴값 : 1\n",
      "수행 시간 :  0.0\n",
      "매개변수 : (3,)\n",
      "리턴값 : 2\n",
      "수행 시간 :  0.0\n",
      "매개변수 : (2,)\n",
      "리턴값 : 1\n",
      "수행 시간 :  0.0\n",
      "매개변수 : (4,)\n",
      "리턴값 : 3\n",
      "수행 시간 :  0.0\n",
      "매개변수 : (6,)\n",
      "리턴값 : 8\n",
      "수행 시간 :  0.001001596450805664\n",
      "매개변수 : (8,)\n",
      "리턴값 : 21\n",
      "수행 시간 :  0.001001596450805664\n",
      "매개변수 : (10,)\n",
      "리턴값 : 55\n"
     ]
    },
    {
     "data": {
      "text/plain": [
       "55"
      ]
     },
     "execution_count": 93,
     "metadata": {},
     "output_type": "execute_result"
    }
   ],
   "source": [
    "@clock\n",
    "def fibonacci(n):\n",
    "    if n == 0:\n",
    "        return 0\n",
    "    elif n <= 2:\n",
    "        return 1\n",
    "    else:\n",
    "        return fibonacci(n - 1) + fibonacci(n - 2)\n",
    "\n",
    "fibonacci(10)"
   ]
  },
  {
   "cell_type": "code",
   "execution_count": 97,
   "metadata": {},
   "outputs": [
    {
     "name": "stdout",
     "output_type": "stream",
     "text": [
      "친환경 여행\n",
      "수행 시간 :  0.0\n",
      "매개변수 : (32,)\n",
      "리턴값 : None\n"
     ]
    }
   ],
   "source": [
    "@clock\n",
    "def travel(n):\n",
    "    if n >= 20 and n < 30 :\n",
    "        print('농촌여행')\n",
    "    elif n >= 30 and n < 40 :\n",
    "        print('친환경 여행')\n",
    "    elif n >= 40 and n < 50 :\n",
    "        print('가족여행')\n",
    "\n",
    "travel(32)"
   ]
  },
  {
   "cell_type": "code",
   "execution_count": 106,
   "metadata": {},
   "outputs": [
    {
     "name": "stdout",
     "output_type": "stream",
     "text": [
      "수행 시간 :  0.0\n",
      "매개변수 : (2,)\n",
      "리턴값 : 1\n",
      "수행 시간 :  0.0\n",
      "매개변수 : (1,)\n",
      "리턴값 : 1\n",
      "수행 시간 :  0.0\n",
      "매개변수 : (3,)\n",
      "리턴값 : 2\n",
      "수행 시간 :  0.0\n",
      "매개변수 : (4,)\n",
      "리턴값 : 3\n",
      "수행 시간 :  0.0\n",
      "매개변수 : (5,)\n",
      "리턴값 : 5\n",
      "수행 시간 :  0.0\n",
      "매개변수 : (6,)\n",
      "리턴값 : 8\n",
      "수행 시간 :  0.0\n",
      "매개변수 : (7,)\n",
      "리턴값 : 13\n",
      "수행 시간 :  0.0\n",
      "매개변수 : (8,)\n",
      "리턴값 : 21\n",
      "수행 시간 :  0.0\n",
      "매개변수 : (9,)\n",
      "리턴값 : 34\n",
      "수행 시간 :  0.0\n",
      "매개변수 : (10,)\n",
      "리턴값 : 55\n"
     ]
    },
    {
     "data": {
      "text/plain": [
       "55"
      ]
     },
     "execution_count": 106,
     "metadata": {},
     "output_type": "execute_result"
    }
   ],
   "source": [
    "import functools\n",
    "@functools.lru_cache()\n",
    "@clock\n",
    "def fibonacci(n):\n",
    "    if n == 0:\n",
    "        return 0\n",
    "    elif n <= 2:\n",
    "        return 1\n",
    "    else:\n",
    "        return fibonacci(n - 1) + fibonacci(n - 2)\n",
    "    \n",
    "fibonacci(10)"
   ]
  },
  {
   "cell_type": "markdown",
   "metadata": {},
   "source": [
    "## OOP(객체 지향 프로그래밍)"
   ]
  },
  {
   "cell_type": "code",
   "execution_count": 107,
   "metadata": {},
   "outputs": [
    {
     "name": "stdout",
     "output_type": "stream",
     "text": [
      "<class 'int'>\n"
     ]
    }
   ],
   "source": [
    "print(type(10))"
   ]
  },
  {
   "cell_type": "code",
   "execution_count": 112,
   "metadata": {},
   "outputs": [
    {
     "name": "stdout",
     "output_type": "stream",
     "text": [
      "['__abs__', '__add__', '__and__', '__bool__', '__ceil__', '__class__', '__delattr__', '__dir__', '__divmod__', '__doc__', '__eq__', '__float__', '__floor__', '__floordiv__', '__format__', '__ge__', '__getattribute__', '__getnewargs__', '__gt__', '__hash__', '__index__', '__init__', '__init_subclass__', '__int__', '__invert__', '__le__', '__lshift__', '__lt__', '__mod__', '__mul__', '__ne__', '__neg__', '__new__', '__or__', '__pos__', '__pow__', '__radd__', '__rand__', '__rdivmod__', '__reduce__', '__reduce_ex__', '__repr__', '__rfloordiv__', '__rlshift__', '__rmod__', '__rmul__', '__ror__', '__round__', '__rpow__', '__rrshift__', '__rshift__', '__rsub__', '__rtruediv__', '__rxor__', '__setattr__', '__sizeof__', '__str__', '__sub__', '__subclasshook__', '__truediv__', '__trunc__', '__xor__', 'as_integer_ratio', 'bit_count', 'bit_length', 'conjugate', 'denominator', 'from_bytes', 'imag', 'numerator', 'real', 'to_bytes']\n"
     ]
    }
   ],
   "source": [
    "a = 10\n",
    "print(dir(a))"
   ]
  },
  {
   "cell_type": "markdown",
   "metadata": {},
   "source": [
    "클래스 메서드 생성"
   ]
  },
  {
   "cell_type": "code",
   "execution_count": 119,
   "metadata": {},
   "outputs": [
    {
     "name": "stdout",
     "output_type": "stream",
     "text": [
      "인스턴스 생성\n",
      "인스턴스 생성\n",
      "인스턴스 생성\n"
     ]
    }
   ],
   "source": [
    "# 매우 중요!!\n",
    "class Student:\n",
    "    # 인스턴스가 있어야만 호출되는 메서드\n",
    "    def disp(self):\n",
    "        print(\"인스턴스 생성\")\n",
    "\n",
    "# 인스턴스 생성\n",
    "student = Student()\n",
    "# 메서드 호출 - bound 호출\n",
    "student.disp()\n",
    "Student().disp()\n",
    "# 메서드 호출 - unbound 호출\n",
    "Student.disp(student)"
   ]
  },
  {
   "cell_type": "markdown",
   "metadata": {},
   "source": [
    "인스턴스 속성 생성"
   ]
  },
  {
   "cell_type": "code",
   "execution_count": 126,
   "metadata": {},
   "outputs": [
    {
     "name": "stdout",
     "output_type": "stream",
     "text": [
      "junho\n",
      "88\n",
      "25\n"
     ]
    }
   ],
   "source": [
    "class Student:\n",
    "    # 인스턴스가 있어야만 호출되는 메서드\n",
    "    def disp(self):\n",
    "        print(\"인스턴스 생성\")\n",
    "\n",
    "    def setName(self, name):\n",
    "        self.name = name # self.name은 인스턴스의 속성으로 만들어짐\n",
    "\n",
    "# 인스턴스 생성\n",
    "student = Student()\n",
    "student.setName('junho')\n",
    "print(student.name)\n",
    "\n",
    "student.score = 88 # 인스턴스의 score 속성이 있으면 수정, 없으면 생성\n",
    "print(student.score)\n",
    "\n",
    "student.age = 25\n",
    "print(student.age)"
   ]
  },
  {
   "cell_type": "markdown",
   "metadata": {},
   "source": [
    "class 속성 생성"
   ]
  },
  {
   "cell_type": "code",
   "execution_count": 129,
   "metadata": {},
   "outputs": [
    {
     "name": "stdout",
     "output_type": "stream",
     "text": [
      "클래스의 속성\n",
      "클래스의 속성\n",
      "클래스 데이터 수정\n",
      "클래스 데이터 수정\n",
      "클래스 데이터 수정\n",
      "인스턴스를 이용해 클래스 데이터 수정\n"
     ]
    }
   ],
   "source": [
    "class Student:\n",
    "    class_data = '클래스의 속성'\n",
    "\n",
    "student = Student()\n",
    "print(Student.class_data) # 클래스 이름을 이용해 클래스 속성에 접근\n",
    "print(student.class_data) # 인스턴스 이름을 이용해 클래스 속성에 접근\n",
    "Student.class_data = '클래스 데이터 수정'\n",
    "print(Student.class_data) # 클래스 이름을 이용해 클래스 속성에 접근\n",
    "print(student.class_data) # 인스턴스 이름을 이용해 클래스 속성에 접근\n",
    "\n",
    "student.class_data = '인스턴스를 이용해 클래스 데이터 수정'\n",
    "print(Student.class_data) # 클래스 이름을 이용해 클래스 속성에 접근\n",
    "print(student.class_data) # 인스턴스 이름을 이용해 클래스 속성에 접근"
   ]
  },
  {
   "cell_type": "markdown",
   "metadata": {},
   "source": [
    "is 연산자"
   ]
  },
  {
   "cell_type": "code",
   "execution_count": 141,
   "metadata": {},
   "outputs": [
    {
     "name": "stdout",
     "output_type": "stream",
     "text": [
      "False\n",
      "False\n",
      "True\n",
      "True\n"
     ]
    }
   ],
   "source": [
    "class Student:\n",
    "    class_data = '클래스의 속성'\n",
    "\n",
    "# 인스턴스 생성해서 대입\n",
    "stu1 = Student()\n",
    "# 인스턴스 생성해서 대입\n",
    "stu2 = Student()\n",
    "# stu1의 데이터를 대입 : stu1이 참조하고 있는 데이터의 참조를 stu3가 참조\n",
    "stu3 = stu1\n",
    "\n",
    "# 2개의 인스턴스가 동일한 지 확인\n",
    "print(stu1 == stu2) \n",
    "print(stu1 is stu2) # 별도의 메모리 공간 생성\n",
    "print(stu1 == stu3)\n",
    "print(stu1 is stu3)"
   ]
  },
  {
   "cell_type": "markdown",
   "metadata": {},
   "source": [
    "Accessor(접근자 메서드)"
   ]
  },
  {
   "cell_type": "code",
   "execution_count": 153,
   "metadata": {},
   "outputs": [
    {
     "name": "stdout",
     "output_type": "stream",
     "text": [
      "junho\n",
      "100\n"
     ]
    }
   ],
   "source": [
    "# 이름과 점수를 갖는 객체를 여러 개 필요\n",
    "class Student:\n",
    "    def getName(self):\n",
    "        return self.name\n",
    "    \n",
    "    def setName(self, name):\n",
    "        self.name = name\n",
    "\n",
    "    def getScore(self):\n",
    "        return self.score\n",
    "    \n",
    "    def setScore(self, score):\n",
    "        self.score = score\n",
    "\n",
    "stu = Student()\n",
    "stu.setName(\"junho\")\n",
    "# Student.setScore(stu, 100)\n",
    "stu.setScore(100)\n",
    "print(stu.getName())\n",
    "print(stu.getScore())\n",
    "\n",
    "# 최근에 등장한 IDE는 getter와 setter를 만드는 유틸을 제공함"
   ]
  }
 ],
 "metadata": {
  "kernelspec": {
   "display_name": "base",
   "language": "python",
   "name": "python3"
  },
  "language_info": {
   "codemirror_mode": {
    "name": "ipython",
    "version": 3
   },
   "file_extension": ".py",
   "mimetype": "text/x-python",
   "name": "python",
   "nbconvert_exporter": "python",
   "pygments_lexer": "ipython3",
   "version": "3.10.9"
  },
  "orig_nbformat": 4
 },
 "nbformat": 4,
 "nbformat_minor": 2
}
