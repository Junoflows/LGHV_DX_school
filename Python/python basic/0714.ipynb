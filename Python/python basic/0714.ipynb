{
 "cells": [
  {
   "cell_type": "code",
   "execution_count": 8,
   "metadata": {},
   "outputs": [
    {
     "name": "stdout",
     "output_type": "stream",
     "text": [
      "무조건 수행하는 문장\n"
     ]
    },
    {
     "ename": "AssertionError",
     "evalue": "num이 2이면 안됩니다.",
     "output_type": "error",
     "traceback": [
      "\u001b[1;31m---------------------------------------------------------------------------\u001b[0m",
      "\u001b[1;31mAssertionError\u001b[0m                            Traceback (most recent call last)",
      "Cell \u001b[1;32mIn[8], line 10\u001b[0m\n\u001b[0;32m      7\u001b[0m \u001b[39mif\u001b[39;00m num \u001b[39m==\u001b[39m \u001b[39m1\u001b[39m:\n\u001b[0;32m      8\u001b[0m     \u001b[39m# 강제로 예외 발생시키기\u001b[39;00m\n\u001b[0;32m      9\u001b[0m     \u001b[39mraise\u001b[39;00m \u001b[39mValueError\u001b[39;00m(\u001b[39m'\u001b[39m\u001b[39m강제로 예외 발생\u001b[39m\u001b[39m'\u001b[39m)\n\u001b[1;32m---> 10\u001b[0m \u001b[39massert\u001b[39;00m num \u001b[39m!=\u001b[39m \u001b[39m2\u001b[39m, \u001b[39m'\u001b[39m\u001b[39mnum이 2이면 안됩니다.\u001b[39m\u001b[39m'\u001b[39m\n\u001b[0;32m     11\u001b[0m \u001b[39mprint\u001b[39m(ar[i] \u001b[39m/\u001b[39m num)\n\u001b[0;32m     12\u001b[0m i \u001b[39m+\u001b[39m\u001b[39m=\u001b[39m \u001b[39m1\u001b[39m\n",
      "\u001b[1;31mAssertionError\u001b[0m: num이 2이면 안됩니다."
     ]
    }
   ],
   "source": [
    "ar = [10, 20, 30]\n",
    "try:\n",
    "    num = int(input('나눌 수를 입력하세요. : '))\n",
    "    i = 0\n",
    "    j = len(ar)\n",
    "    while i < j:\n",
    "        if num == 1:\n",
    "            # 강제로 예외 발생시키기\n",
    "            raise ValueError('강제로 예외 발생')\n",
    "        # num 값이 2라면 에러메세지를 출력하고 프로그램은 중단됨\n",
    "        assert num != 2, 'num이 2이면 안됩니다.'\n",
    "        print(ar[i] / num)\n",
    "        i += 1\n",
    "except ValueError as e:\n",
    "    print('잘못된 데이터를 입력하셨습니다.')\n",
    "    print(e)\n",
    "except ZeroDivisionError as e:\n",
    "    print('0으로 나눌 수 없습니다.')\n",
    "    print(e)\n",
    "else:\n",
    "    print(\"예외가 발생하지 않을 경우 수행할 내용\")\n",
    "finally:\n",
    "    print(\"무조건 수행하는 문장\")"
   ]
  },
  {
   "cell_type": "markdown",
   "metadata": {},
   "source": [
    "## File Handling"
   ]
  },
  {
   "cell_type": "code",
   "execution_count": 9,
   "metadata": {},
   "outputs": [
    {
     "name": "stdout",
     "output_type": "stream",
     "text": [
      "c:\\Users\\USER\\Desktop\\Song\\DX school\\python\n"
     ]
    }
   ],
   "source": [
    "import os\n",
    "print(os.getcwd())"
   ]
  },
  {
   "cell_type": "markdown",
   "metadata": {},
   "source": [
    "파일 쓰기"
   ]
  },
  {
   "cell_type": "code",
   "execution_count": 73,
   "metadata": {},
   "outputs": [],
   "source": [
    "try:\n",
    "    file = open('./data/test.txt', 'w', encoding = 'UTF-8')\n",
    "    file.write('문자열 \\n') # 문자열 기록\n",
    "    lines = ['송준호 ','김정은 ','지성광 ','박규리 ']\n",
    "    file.writelines(lines)\n",
    "except Exception as e:\n",
    "    print('파일 처리 중 예외 발생', e)\n",
    "finally:\n",
    "    file.close()"
   ]
  },
  {
   "cell_type": "markdown",
   "metadata": {},
   "source": [
    "파일 읽기"
   ]
  },
  {
   "cell_type": "code",
   "execution_count": 74,
   "metadata": {},
   "outputs": [
    {
     "name": "stdout",
     "output_type": "stream",
     "text": [
      "문자열 \n",
      "송준호 김정은 지성광 박규리 \n"
     ]
    }
   ],
   "source": [
    "try:\n",
    "    file = open('./data/test.txt', 'r', encoding = 'UTF-8')\n",
    "    content = file.read() # 전체 읽기\n",
    "    print(content)\n",
    "except Exception as e:\n",
    "    print('파일 처리 중 예외 발생', e)\n",
    "finally:\n",
    "    file.close()"
   ]
  },
  {
   "cell_type": "code",
   "execution_count": 75,
   "metadata": {},
   "outputs": [
    {
     "name": "stdout",
     "output_type": "stream",
     "text": [
      "문자열 \n",
      "\n",
      "\n",
      "송준호 김정은 지성광 박규리 \n",
      "\n"
     ]
    }
   ],
   "source": [
    "try:\n",
    "    file = open('./data/test.txt', 'r', encoding = 'UTF-8')\n",
    "    # 줄 단위 읽기\n",
    "    for line in file:\n",
    "        print(line)\n",
    "        print()\n",
    "except Exception as e:\n",
    "    print('파일 처리 중 예외 발생', e)\n",
    "finally:\n",
    "    file.close()"
   ]
  },
  {
   "cell_type": "markdown",
   "metadata": {},
   "source": [
    "with 절"
   ]
  },
  {
   "cell_type": "code",
   "execution_count": 76,
   "metadata": {},
   "outputs": [
    {
     "name": "stdout",
     "output_type": "stream",
     "text": [
      "문자열 \n",
      "\n",
      "송준호 김정은 지성광 박규리 \n"
     ]
    }
   ],
   "source": [
    "try:\n",
    "    with open('./data/test.txt', 'r', encoding = 'UTF-8') as file:\n",
    "        # 줄 단위 읽기\n",
    "        for line in file:\n",
    "            print(line)\n",
    "except Exception as e:\n",
    "    print('파일 처리 중 예외 발생', e)\n",
    "finally:\n",
    "    file.close()"
   ]
  },
  {
   "cell_type": "markdown",
   "metadata": {},
   "source": [
    "### csv 파일"
   ]
  },
  {
   "cell_type": "code",
   "execution_count": 116,
   "metadata": {},
   "outputs": [
    {
     "name": "stdout",
     "output_type": "stream",
     "text": [
      "[['지디', '탑', '태양', '대성\\n'], ['박재범', '서동현', '김하온', '쌈디\\n']]\n"
     ]
    }
   ],
   "source": [
    "# 텍스트 파일을 읽어서 list 변환\n",
    "# 마지막 데이터는 \\n이 추가\n",
    "# 마지막 데이터는 \\n을 제거해야 함\n",
    "data = []\n",
    "with open('./data/test.csv', encoding='utf-8') as file:\n",
    "    for line in file:\n",
    "        ar = line.split(',')\n",
    "        data.append(ar)\n",
    "        \n",
    "print(data)\n",
    "\n",
    "# \\n , ' ' re.sub로 변경"
   ]
  },
  {
   "cell_type": "code",
   "execution_count": 117,
   "metadata": {},
   "outputs": [
    {
     "name": "stdout",
     "output_type": "stream",
     "text": [
      "[['지디', '탑', '태양', '대성'], ['박재범', '서동현', '김하온', '쌈디']]\n"
     ]
    }
   ],
   "source": [
    "# 텍스트 파일을 읽어서 list 변환\n",
    "# 마지막 데이터는 \\n이 추가\n",
    "# 마지막 데이터는 \\n을 제거해야 함\n",
    "import re\n",
    "data = []\n",
    "with open('./data/test.csv', encoding='utf-8') as file:\n",
    "    for line in file:\n",
    "        ar = line.split(',')\n",
    "        ar[-1] = re.sub(pattern=\"\\n\", repl=\"\", string= ar[-1])\n",
    "        data.append(ar)\n",
    "        \n",
    "print(data)\n",
    "\n",
    "# \\n , ' ' re.sub로 변경"
   ]
  },
  {
   "cell_type": "code",
   "execution_count": 118,
   "metadata": {},
   "outputs": [
    {
     "name": "stdout",
     "output_type": "stream",
     "text": [
      "[['지디', '탑', '태양', '대성'], ['박재범', '서동현', '김하온', '쌈디']]\n"
     ]
    }
   ],
   "source": [
    "import csv\n",
    "data = []\n",
    "with open('./data/test.csv', encoding='utf-8') as file:\n",
    "    # 줄 단위로 읽어서 list를 만들어주는 reader 객체 생성\n",
    "    rdr = csv.reader(file)\n",
    "    for line in rdr:\n",
    "        data.append(line)\n",
    "        \n",
    "print(data)"
   ]
  },
  {
   "cell_type": "code",
   "execution_count": 119,
   "metadata": {},
   "outputs": [],
   "source": [
    "import csv\n",
    "data = []\n",
    "# w 모드로 열면 기존 모드를 지우고 기록하고\n",
    "# a 모드로 열면 기존 내용 뒤에 추가를 함\n",
    "with open('./data/test.csv','a', encoding='utf-8') as file:\n",
    "    # 줄 단위로 읽어서 list를 만들어주는 reader 객체 생성\n",
    "    wr = csv.writer(file)\n",
    "    wr.writerow(['카리나','윈터'])\n",
    "    wr.writerow(['장원영','안유진'])"
   ]
  },
  {
   "cell_type": "markdown",
   "metadata": {},
   "source": [
    "### 바이너리 파일"
   ]
  },
  {
   "cell_type": "code",
   "execution_count": 84,
   "metadata": {},
   "outputs": [
    {
     "name": "stdout",
     "output_type": "stream",
     "text": [
      "hello\n"
     ]
    }
   ],
   "source": [
    "data = []\n",
    "with open('./data/test.bin', 'wb') as file:\n",
    "    file.write('hello'.encode())\n",
    "with open('./data/test.bin', 'rb') as file:\n",
    "    content = file.read()\n",
    "    print(content.decode())"
   ]
  },
  {
   "cell_type": "code",
   "execution_count": 123,
   "metadata": {},
   "outputs": [
    {
     "name": "stdout",
     "output_type": "stream",
     "text": [
      "25:songjunho\n",
      "22:junoflow\n"
     ]
    }
   ],
   "source": [
    "class DTO:\n",
    "    def __init__(self, age = 20, name = 'noname'):\n",
    "        self.__age = age\n",
    "        self.__name = name\n",
    "\n",
    "    @property\n",
    "    def age(self):\n",
    "        return self.__age\n",
    "    \n",
    "    @age.setter\n",
    "    def age(self, age):\n",
    "        self.__age = age\n",
    "\n",
    "    @property\n",
    "    def name(self):\n",
    "        return self.__name\n",
    "    \n",
    "    @name.setter\n",
    "    def name(self, name):\n",
    "        self.__name = name\n",
    "\n",
    "    # 인스턴스를 print 함수에 대입했을 때 호출되는 메서드 - 오버라이딩\n",
    "    # 출력을 편리하게 하기 위해 재정의 - 디버깅 목적\n",
    "    def __str__(self):\n",
    "        return str(self.__age) + ':' + self.__name\n",
    "\n",
    "dto1 = DTO(25, 'songjunho')\n",
    "dto2 = DTO(22, 'junoflow')\n",
    "print(dto1)\n",
    "print(dto2)\n",
    "    \n"
   ]
  },
  {
   "cell_type": "code",
   "execution_count": 125,
   "metadata": {},
   "outputs": [],
   "source": [
    "data = [dto1, dto2]\n",
    "\n",
    "import pickle\n",
    "try:\n",
    "    with open('./data/data.dat', 'wb') as f:\n",
    "        # f에 data를 serializable\n",
    "        pickle.dump(data, f)\n",
    "except Exception as e:\n",
    "    print(e)"
   ]
  },
  {
   "cell_type": "code",
   "execution_count": 128,
   "metadata": {},
   "outputs": [
    {
     "name": "stdout",
     "output_type": "stream",
     "text": [
      "25:songjunho\n",
      "22:junoflow\n"
     ]
    }
   ],
   "source": [
    "import pickle\n",
    "try:\n",
    "    with open('./data/data.dat', 'rb') as f:\n",
    "        # f에 data를 serializable\n",
    "        result = pickle.load(f)\n",
    "        for dto in result:\n",
    "            print(dto)\n",
    "except Exception as e:\n",
    "    print(e)"
   ]
  },
  {
   "cell_type": "markdown",
   "metadata": {},
   "source": [
    "### 파일 압축"
   ]
  },
  {
   "cell_type": "code",
   "execution_count": 129,
   "metadata": {},
   "outputs": [],
   "source": [
    "import zipfile\n",
    "#압축할 파일 목록 생성\n",
    "filelist = ['./data/data.dat', './data/test.bin', './data/test.csv', './data/test.txt']\n",
    "\n",
    "# 파일 목록을 순회하면서 압축\n",
    "with zipfile.ZipFile('./data/test.zip', 'w') as myzip:\n",
    "    for temp in filelist:\n",
    "        myzip.write(temp)\n",
    "\n",
    "# 파일 압축 해제\n",
    "zipfile.ZipFile('./data/test.zip').extractall()"
   ]
  },
  {
   "cell_type": "markdown",
   "metadata": {},
   "source": [
    "200인 거 개수"
   ]
  },
  {
   "cell_type": "code",
   "execution_count": 145,
   "metadata": {},
   "outputs": [
    {
     "name": "stdout",
     "output_type": "stream",
     "text": [
      "327\n"
     ]
    }
   ],
   "source": [
    "data = []\n",
    "cnt = 0\n",
    "with open('./data/log.txt', 'r', encoding='UTF-8') as logdata:\n",
    "    # 줄 단위로 읽기\n",
    "    for line in logdata:\n",
    "        lines = line.split(' ')\n",
    "        if lines[-2] == '200' :\n",
    "            cnt += 1\n",
    "\n",
    "        # 읽어낸 줄을 공백을 기준으로 분할\n",
    "print(cnt)\n"
   ]
  },
  {
   "cell_type": "markdown",
   "metadata": {},
   "source": [
    "IP별 접속 횟수 - 첫 번째 항목이 IP"
   ]
  },
  {
   "cell_type": "code",
   "execution_count": 163,
   "metadata": {},
   "outputs": [
    {
     "data": {
      "text/plain": [
       "Counter({'180.76.15.5': 2,\n",
       "         '180.76.15.143': 2,\n",
       "         '180.76.15.25': 2,\n",
       "         '52.27.124.159': 4,\n",
       "         '180.76.15.6': 4,\n",
       "         '61.160.213.32': 3,\n",
       "         '61.160.213.55': 10,\n",
       "         '54.214.205.186': 1,\n",
       "         '180.76.15.134': 1,\n",
       "         '180.76.15.24': 2,\n",
       "         '66.249.79.123': 2,\n",
       "         '180.76.15.144': 5,\n",
       "         '180.76.15.163': 1,\n",
       "         '95.213.177.125': 8,\n",
       "         '95.213.177.122': 8,\n",
       "         '103.31.242.35': 1,\n",
       "         '180.76.15.15': 3,\n",
       "         '180.76.15.34': 2,\n",
       "         '180.76.15.22': 1,\n",
       "         '180.76.15.7': 2,\n",
       "         '180.76.15.160': 1,\n",
       "         '66.249.74.48': 2,\n",
       "         '180.76.15.152': 2,\n",
       "         '180.76.15.145': 4,\n",
       "         '180.76.15.149': 3,\n",
       "         '180.76.15.151': 3,\n",
       "         '95.213.177.126': 5,\n",
       "         '159.8.93.184': 1,\n",
       "         '222.121.52.157': 1,\n",
       "         '208.100.26.232': 3,\n",
       "         '180.76.15.10': 3,\n",
       "         '180.76.15.33': 1,\n",
       "         '180.76.15.146': 2,\n",
       "         '180.76.15.19': 1,\n",
       "         '185.25.148.240': 3,\n",
       "         '180.76.15.161': 2,\n",
       "         '54.81.168.187': 1,\n",
       "         '59.38.97.177': 1,\n",
       "         '180.76.15.154': 2,\n",
       "         '222.186.21.90': 72,\n",
       "         '95.213.177.124': 3,\n",
       "         '180.76.15.158': 3,\n",
       "         '180.76.15.23': 1,\n",
       "         '40.77.167.61': 3,\n",
       "         '157.55.39.245': 2,\n",
       "         '180.76.15.138': 1,\n",
       "         '95.213.177.123': 2,\n",
       "         '93.174.93.218': 1,\n",
       "         '221.11.92.253': 2,\n",
       "         '180.76.15.137': 1,\n",
       "         '180.76.15.27': 1,\n",
       "         '222.186.50.24': 1,\n",
       "         '54.215.216.163': 1,\n",
       "         '54.183.189.102': 1,\n",
       "         '180.76.15.159': 1,\n",
       "         '180.76.15.28': 2,\n",
       "         '180.76.15.142': 2,\n",
       "         '91.196.50.33': 1,\n",
       "         '180.76.15.136': 2,\n",
       "         '180.76.15.12': 2,\n",
       "         '157.55.39.130': 1,\n",
       "         '180.76.15.141': 2,\n",
       "         '180.76.15.29': 2,\n",
       "         '180.76.15.135': 1,\n",
       "         '180.76.15.9': 2,\n",
       "         '207.46.13.142': 1,\n",
       "         '180.76.15.16': 2,\n",
       "         '180.76.15.140': 2,\n",
       "         '180.76.15.13': 1,\n",
       "         '118.46.34.94': 4,\n",
       "         '180.76.15.30': 2,\n",
       "         '121.185.175.231': 2,\n",
       "         '223.33.160.85': 2,\n",
       "         '180.76.15.20': 1,\n",
       "         '180.97.106.161': 1,\n",
       "         '180.76.15.156': 2,\n",
       "         '180.76.15.162': 1,\n",
       "         '180.76.15.17': 2,\n",
       "         '125.130.222.50': 1,\n",
       "         '61.160.247.231': 1,\n",
       "         '222.186.51.205': 1,\n",
       "         '180.97.106.162': 1,\n",
       "         '203.67.9.74': 1,\n",
       "         '180.76.15.11': 2,\n",
       "         '180.76.15.21': 2,\n",
       "         '180.76.15.8': 1,\n",
       "         '223.62.163.24': 1,\n",
       "         '157.55.39.218': 4,\n",
       "         '180.76.15.147': 2,\n",
       "         '175.116.86.22': 2,\n",
       "         '180.76.15.139': 1,\n",
       "         '180.76.15.18': 2,\n",
       "         '208.100.26.231': 2,\n",
       "         '141.212.122.80': 1,\n",
       "         '64.79.100.43': 33,\n",
       "         '203.67.9.75': 1,\n",
       "         '221.152.184.9': 1,\n",
       "         '223.62.67.194': 25,\n",
       "         '223.62.67.5': 167})"
      ]
     },
     "execution_count": 163,
     "metadata": {},
     "output_type": "execute_result"
    }
   ],
   "source": [
    "import collections\n",
    "dict = {}\n",
    "data = []\n",
    "with open('./data/log.txt', 'r') as logdata:\n",
    "    # 줄 단위로 읽기\n",
    "    for line in logdata:\n",
    "        lines = line.split(' ')\n",
    "        data.append(lines[0])\n",
    "\n",
    "dict = collections.Counter(data)\n",
    "dict"
   ]
  },
  {
   "cell_type": "code",
   "execution_count": 171,
   "metadata": {},
   "outputs": [
    {
     "data": {
      "text/plain": [
       "dict_values([2, 2, 2, 4, 4, 3, 10, 1, 1, 2, 2, 5, 1, 8, 8, 1, 3, 2, 1, 2, 1, 2, 2, 4, 3, 3, 5, 1, 1, 3, 3, 1, 2, 1, 3, 2, 1, 1, 2, 72, 3, 3, 1, 3, 2, 1, 2, 1, 2, 1, 1, 1, 1, 1, 1, 2, 2, 1, 2, 2, 1, 2, 2, 1, 2, 1, 2, 2, 1, 4, 2, 2, 2, 1, 1, 2, 1, 2, 1, 1, 1, 1, 1, 2, 2, 1, 1, 4, 2, 2, 1, 2, 2, 1, 33, 1, 1, 25, 167])"
      ]
     },
     "execution_count": 171,
     "metadata": {},
     "output_type": "execute_result"
    }
   ],
   "source": [
    "import collections\n",
    "ipcount = {}\n",
    "data = []\n",
    "with open('./data/log.txt', 'r') as logdata:\n",
    "    # 줄 단위로 읽기\n",
    "    for line in logdata:\n",
    "        lines = line.split(' ')\n",
    "        data.append(lines[0])\n",
    "\n",
    "ipcount = collections.Counter(data)\n",
    "ipcount.values()"
   ]
  },
  {
   "cell_type": "code",
   "execution_count": 180,
   "metadata": {},
   "outputs": [
    {
     "name": "stdout",
     "output_type": "stream",
     "text": [
      "180.76.15.5 2\n",
      "180.76.15.143 2\n",
      "180.76.15.25 2\n",
      "52.27.124.159 4\n",
      "180.76.15.6 4\n",
      "61.160.213.32 3\n",
      "61.160.213.55 10\n",
      "54.214.205.186 1\n",
      "180.76.15.134 1\n",
      "180.76.15.24 2\n",
      "66.249.79.123 2\n",
      "180.76.15.144 5\n",
      "180.76.15.163 1\n",
      "95.213.177.125 8\n",
      "95.213.177.122 8\n",
      "103.31.242.35 1\n",
      "180.76.15.15 3\n",
      "180.76.15.34 2\n",
      "180.76.15.22 1\n",
      "180.76.15.7 2\n",
      "180.76.15.160 1\n",
      "66.249.74.48 2\n",
      "180.76.15.152 2\n",
      "180.76.15.145 4\n",
      "180.76.15.149 3\n",
      "180.76.15.151 3\n",
      "95.213.177.126 5\n",
      "159.8.93.184 1\n",
      "222.121.52.157 1\n",
      "208.100.26.232 3\n",
      "180.76.15.10 3\n",
      "180.76.15.33 1\n",
      "180.76.15.146 2\n",
      "180.76.15.19 1\n",
      "185.25.148.240 3\n",
      "180.76.15.161 2\n",
      "54.81.168.187 1\n",
      "59.38.97.177 1\n",
      "180.76.15.154 2\n",
      "222.186.21.90 72\n",
      "95.213.177.124 3\n",
      "180.76.15.158 3\n",
      "180.76.15.23 1\n",
      "40.77.167.61 3\n",
      "157.55.39.245 2\n",
      "180.76.15.138 1\n",
      "95.213.177.123 2\n",
      "93.174.93.218 1\n",
      "221.11.92.253 2\n",
      "180.76.15.137 1\n",
      "180.76.15.27 1\n",
      "222.186.50.24 1\n",
      "54.215.216.163 1\n",
      "54.183.189.102 1\n",
      "180.76.15.159 1\n",
      "180.76.15.28 2\n",
      "180.76.15.142 2\n",
      "91.196.50.33 1\n",
      "180.76.15.136 2\n",
      "180.76.15.12 2\n",
      "157.55.39.130 1\n",
      "180.76.15.141 2\n",
      "180.76.15.29 2\n",
      "180.76.15.135 1\n",
      "180.76.15.9 2\n",
      "207.46.13.142 1\n",
      "180.76.15.16 2\n",
      "180.76.15.140 2\n",
      "180.76.15.13 1\n",
      "118.46.34.94 4\n",
      "180.76.15.30 2\n",
      "121.185.175.231 2\n",
      "223.33.160.85 2\n",
      "180.76.15.20 1\n",
      "180.97.106.161 1\n",
      "180.76.15.156 2\n",
      "180.76.15.162 1\n",
      "180.76.15.17 2\n",
      "125.130.222.50 1\n",
      "61.160.247.231 1\n",
      "222.186.51.205 1\n",
      "180.97.106.162 1\n",
      "203.67.9.74 1\n",
      "180.76.15.11 2\n",
      "180.76.15.21 2\n",
      "180.76.15.8 1\n",
      "223.62.163.24 1\n",
      "157.55.39.218 4\n",
      "180.76.15.147 2\n",
      "175.116.86.22 2\n",
      "180.76.15.139 1\n",
      "180.76.15.18 2\n",
      "208.100.26.231 2\n",
      "141.212.122.80 1\n",
      "64.79.100.43 33\n",
      "203.67.9.75 1\n",
      "221.152.184.9 1\n",
      "223.62.67.194 25\n",
      "223.62.67.5 167\n"
     ]
    }
   ],
   "source": [
    "ipcount = {}\n",
    "data = []\n",
    "with open('./data/log.txt', 'r') as logdata:\n",
    "    # 줄 단위로 읽기\n",
    "    for line in logdata:\n",
    "        lines = line.split(' ')\n",
    "        # ar[0] : IP\n",
    "        # ar[0]을 key로 해서 ar[0] 의 값에 1을 더하기\n",
    "        # 기존의 값을 가져오는데 없으면 0\n",
    "        ipcount[lines[0]] = ipcount.get(lines[0], 0) + 1\n",
    "\n",
    "for ip in ipcount:\n",
    "    print(ip, ipcount[ip])\n"
   ]
  },
  {
   "cell_type": "code",
   "execution_count": 2,
   "metadata": {},
   "outputs": [
    {
     "ename": "ValueError",
     "evalue": "invalid literal for int() with base 10: '\"0\"'",
     "output_type": "error",
     "traceback": [
      "\u001b[1;31m---------------------------------------------------------------------------\u001b[0m",
      "\u001b[1;31mValueError\u001b[0m                                Traceback (most recent call last)",
      "Cell \u001b[1;32mIn[2], line 10\u001b[0m\n\u001b[0;32m      7\u001b[0m         lines[\u001b[39m9\u001b[39m] \u001b[39m=\u001b[39m re\u001b[39m.\u001b[39msub(pattern\u001b[39m=\u001b[39m \u001b[39m'\u001b[39m\u001b[39m-\u001b[39m\u001b[39m'\u001b[39m, repl\u001b[39m=\u001b[39m \u001b[39m'\u001b[39m\u001b[39m0\u001b[39m\u001b[39m'\u001b[39m, string\u001b[39m=\u001b[39mlines[\u001b[39m9\u001b[39m])\n\u001b[0;32m      8\u001b[0m         lines[\u001b[39m9\u001b[39m] \u001b[39m=\u001b[39m re\u001b[39m.\u001b[39msub(pattern\u001b[39m=\u001b[39m\u001b[39m'\u001b[39m\u001b[39m\\n\u001b[39;00m\u001b[39m'\u001b[39m, repl\u001b[39m=\u001b[39m\u001b[39m'\u001b[39m\u001b[39m'\u001b[39m, string\u001b[39m=\u001b[39mlines[\u001b[39m9\u001b[39m])\n\u001b[1;32m---> 10\u001b[0m         ipTraffic[lines[\u001b[39m0\u001b[39m]] \u001b[39m=\u001b[39m ipTraffic\u001b[39m.\u001b[39mget(lines[\u001b[39m0\u001b[39m], \u001b[39m0\u001b[39m) \u001b[39m+\u001b[39m \u001b[39mint\u001b[39;49m(lines[\u001b[39m9\u001b[39;49m])\n\u001b[0;32m     12\u001b[0m \u001b[39mfor\u001b[39;00m ip \u001b[39min\u001b[39;00m ipTraffic:\n\u001b[0;32m     13\u001b[0m     \u001b[39mprint\u001b[39m(ip, ipTraffic[ip])\n",
      "\u001b[1;31mValueError\u001b[0m: invalid literal for int() with base 10: '\"0\"'"
     ]
    }
   ],
   "source": [
    "import re\n",
    "ipTraffic = {}\n",
    "with open('./data/log.txt', 'r') as logdata:\n",
    "    # 줄 단위로 읽기\n",
    "    for line in logdata:\n",
    "        lines = line.split(' ')\n",
    "        lines[9] = re.sub(pattern= '-', repl= '0', string=lines[9])\n",
    "        lines[9] = re.sub(pattern='\\n', repl='', string=lines[9])\n",
    "\n",
    "        ipTraffic[lines[0]] = ipTraffic.get(lines[0], 0) + int(lines[9])\n",
    "\n",
    "for ip in ipTraffic:\n",
    "    print(ip, ipTraffic[ip])\n"
   ]
  },
  {
   "cell_type": "code",
   "execution_count": 34,
   "metadata": {},
   "outputs": [
    {
     "name": "stdout",
     "output_type": "stream",
     "text": [
      "invalid literal for int() with base 10: '-\\n'\n",
      "invalid literal for int() with base 10: '-\\n'\n",
      "invalid literal for int() with base 10: '-\\n'\n",
      "invalid literal for int() with base 10: '-\\n'\n",
      "invalid literal for int() with base 10: '-\\n'\n",
      "invalid literal for int() with base 10: '-\\n'\n",
      "invalid literal for int() with base 10: '-\\n'\n",
      "invalid literal for int() with base 10: '-\\n'\n",
      "invalid literal for int() with base 10: '-\\n'\n",
      "invalid literal for int() with base 10: '-\\n'\n",
      "invalid literal for int() with base 10: '-\\n'\n",
      "invalid literal for int() with base 10: '-\\n'\n",
      "invalid literal for int() with base 10: '\"-\"\\n'\n",
      "invalid literal for int() with base 10: '-\\n'\n",
      "invalid literal for int() with base 10: '\"-\"\\n'\n",
      "invalid literal for int() with base 10: '-\\n'\n",
      "180.76.15.5 13624\n",
      "180.76.15.25 17462\n",
      "180.76.15.6 20436\n",
      "61.160.213.32 894\n",
      "61.160.213.55 2980\n",
      "54.214.205.186 2047\n",
      "180.76.15.134 6812\n",
      "180.76.15.24 13624\n",
      "66.249.79.123 7098\n",
      "180.76.15.144 34060\n",
      "180.76.15.163 6812\n",
      "95.213.177.125 6028\n",
      "95.213.177.122 11554\n",
      "180.76.15.15 20436\n",
      "180.76.15.34 13624\n",
      "180.76.15.22 6812\n",
      "180.76.15.7 13624\n",
      "66.249.74.48 7102\n",
      "180.76.15.152 13624\n",
      "180.76.15.145 27248\n",
      "180.76.15.149 20436\n",
      "180.76.15.151 20436\n",
      "95.213.177.126 6991\n",
      "159.8.93.184 308\n",
      "222.121.52.157 2069\n",
      "208.100.26.232 4130\n",
      "180.76.15.10 13914\n",
      "180.76.15.33 6812\n",
      "180.76.15.146 13624\n",
      "180.76.15.19 6812\n",
      "185.25.148.240 6270\n",
      "180.76.15.161 13624\n",
      "59.38.97.177 6812\n",
      "180.76.15.154 6812\n",
      "222.186.21.90 149616\n",
      "95.213.177.124 4563\n",
      "180.76.15.158 20436\n",
      "180.76.15.23 6812\n",
      "40.77.167.61 14314\n",
      "157.55.39.245 6812\n",
      "180.76.15.138 6812\n",
      "95.213.177.123 2428\n",
      "93.174.93.218 2044\n",
      "221.11.92.253 594\n",
      "180.76.15.137 6812\n",
      "180.76.15.27 6812\n",
      "222.186.50.24 2084\n",
      "54.215.216.163 6812\n",
      "54.183.189.102 2043\n",
      "180.76.15.159 6812\n",
      "180.76.15.28 13624\n",
      "180.76.15.142 13624\n",
      "91.196.50.33 2088\n",
      "180.76.15.136 13624\n",
      "180.76.15.12 13624\n",
      "157.55.39.130 7638\n",
      "180.76.15.141 13624\n",
      "180.76.15.29 13624\n",
      "180.76.15.135 6812\n",
      "180.76.15.9 13624\n",
      "207.46.13.142 6812\n",
      "180.76.15.16 17462\n",
      "180.76.15.140 7102\n",
      "180.76.15.13 6812\n",
      "118.46.34.94 8306\n",
      "180.76.15.30 13624\n",
      "121.185.175.231 4153\n",
      "223.33.160.85 4153\n",
      "180.76.15.143 6812\n",
      "180.76.15.20 6812\n",
      "180.97.106.161 6812\n",
      "180.76.15.156 13624\n",
      "180.76.15.162 6812\n",
      "180.76.15.17 13624\n",
      "125.130.222.50 2069\n",
      "61.160.247.231 289\n",
      "222.186.51.205 2084\n",
      "180.97.106.162 287\n",
      "180.76.15.11 13624\n",
      "180.76.15.21 6812\n",
      "180.76.15.8 6812\n",
      "223.62.163.24 2069\n",
      "157.55.39.218 11238\n",
      "180.76.15.147 13624\n",
      "175.116.86.22 4153\n",
      "180.76.15.139 6812\n",
      "180.76.15.18 13624\n",
      "208.100.26.231 4090\n",
      "141.212.122.80 318\n",
      "64.79.100.43 444448\n",
      "221.152.184.9 2069\n",
      "223.62.67.194 2062270\n",
      "223.62.67.5 26540048\n"
     ]
    }
   ],
   "source": [
    "ipTraffic = {}\n",
    "with open('./data/log.txt', 'r') as logdata:\n",
    "    # 줄 단위로 읽기\n",
    "    for line in logdata:\n",
    "        lines = line.split(' ')\n",
    "        # lines[9] = re.sub(pattern= '\\n', repl=\"\", string=lines[9])\n",
    "        # lines[9] = re.sub(pattern= '-', repl=\"\", string=lines[9])\n",
    "\n",
    "        try:\n",
    "            ipTraffic[lines[0]] = ipTraffic.get(lines[0], 0) + int(lines[9])\n",
    "        except Exception as e:\n",
    "            print(e)\n",
    "\n",
    "for ip in ipTraffic:\n",
    "    print(ip, ipTraffic[ip])\n"
   ]
  },
  {
   "cell_type": "code",
   "execution_count": null,
   "metadata": {},
   "outputs": [],
   "source": []
  }
 ],
 "metadata": {
  "kernelspec": {
   "display_name": "base",
   "language": "python",
   "name": "python3"
  },
  "language_info": {
   "codemirror_mode": {
    "name": "ipython",
    "version": 3
   },
   "file_extension": ".py",
   "mimetype": "text/x-python",
   "name": "python",
   "nbconvert_exporter": "python",
   "pygments_lexer": "ipython3",
   "version": "3.10.9"
  },
  "orig_nbformat": 4
 },
 "nbformat": 4,
 "nbformat_minor": 2
}
