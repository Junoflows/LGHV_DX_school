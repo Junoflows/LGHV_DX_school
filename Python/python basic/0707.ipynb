{
 "cells": [
  {
   "cell_type": "markdown",
   "metadata": {},
   "source": [
    "## if : 조건 분기"
   ]
  },
  {
   "cell_type": "markdown",
   "metadata": {},
   "source": [
    "하나의 점수를 입력받아서 60점 이상이면 합격  \n",
    "무조건 프로그램 종료라는 문구 출력  \n",
    "예외처리를 해주는 것이 좋음"
   ]
  },
  {
   "cell_type": "code",
   "execution_count": 111,
   "metadata": {},
   "outputs": [
    {
     "name": "stdout",
     "output_type": "stream",
     "text": [
      "<class 'int'>\n",
      "합격\n",
      "프로그램 종료\n"
     ]
    }
   ],
   "source": [
    "score = int(input(\"하나의 점수를 입력 : \"))\n",
    "print(type(score))\n",
    "if score >= 60:\n",
    "    print(\"합격\")\n",
    "else:\n",
    "    print(\"미합격\")\n",
    "    \n",
    "print(\"프로그램 종료\")"
   ]
  },
  {
   "cell_type": "markdown",
   "metadata": {},
   "source": [
    "블럭 안에서 선언한 변수는 블럭 밖에서는 적용되지 않는다."
   ]
  },
  {
   "cell_type": "code",
   "execution_count": null,
   "metadata": {},
   "outputs": [
    {
     "name": "stdout",
     "output_type": "stream",
     "text": [
      "<class 'int'>\n",
      "합격\n",
      "프로그램 종료\n"
     ]
    },
    {
     "ename": "NameError",
     "evalue": "name 'data2' is not defined",
     "output_type": "error",
     "traceback": [
      "\u001b[1;31m---------------------------------------------------------------------------\u001b[0m",
      "\u001b[1;31mNameError\u001b[0m                                 Traceback (most recent call last)",
      "Cell \u001b[1;32mIn[12], line 11\u001b[0m\n\u001b[0;32m      8\u001b[0m     \u001b[39mprint\u001b[39m(\u001b[39m\"\u001b[39m\u001b[39m미합격\u001b[39m\u001b[39m\"\u001b[39m)\n\u001b[0;32m     10\u001b[0m \u001b[39mprint\u001b[39m(\u001b[39m\"\u001b[39m\u001b[39m프로그램 종료\u001b[39m\u001b[39m\"\u001b[39m)\n\u001b[1;32m---> 11\u001b[0m \u001b[39mprint\u001b[39m(data1, data2)\n",
      "\u001b[1;31mNameError\u001b[0m: name 'data2' is not defined"
     ]
    }
   ],
   "source": [
    "score = int(input(\"하나의 점수를 입력 : \"))\n",
    "print(type(score))\n",
    "if score >= 60:\n",
    "    data1 = 30\n",
    "    print(\"합격\")\n",
    "else:\n",
    "    data2 = 10\n",
    "    print(\"미합격\")\n",
    "    \n",
    "print(\"프로그램 종료\")\n",
    "print(data1, data2)"
   ]
  },
  {
   "cell_type": "markdown",
   "metadata": {},
   "source": [
    "학점 출력 문제  \n",
    "100 ~ 90 : A  \n",
    "89 ~ 80 : B  \n",
    "79 ~ 70 : C  \n",
    "69 ~ 60 : D  \n",
    "0 ~ 59 : F"
   ]
  },
  {
   "cell_type": "code",
   "execution_count": null,
   "metadata": {},
   "outputs": [
    {
     "name": "stdout",
     "output_type": "stream",
     "text": [
      "<class 'int'>\n",
      "잘못된 점수 입력하셨습니다.\n"
     ]
    }
   ],
   "source": [
    "score = int(float(input(\"당신의 점수를 입력하세요 : \")))\n",
    "print(type(score))\n",
    "if score >= 0 and score <= 100:\n",
    "    if score >= 90:\n",
    "        print(\"your grade is A\")\n",
    "    elif score >= 80:\n",
    "        print(\"your grade is B\")\n",
    "    elif score >= 70:\n",
    "        print(\"your grade is C\")\n",
    "    elif score >= 60:\n",
    "        print(\"your grade is D\")\n",
    "    else :\n",
    "        print(\"your grade is F\")\n",
    "else :\n",
    "    print('잘못된 점수 입력하셨습니다.')"
   ]
  },
  {
   "cell_type": "markdown",
   "metadata": {},
   "source": [
    "### switch 흉내내기"
   ]
  },
  {
   "cell_type": "code",
   "execution_count": null,
   "metadata": {},
   "outputs": [
    {
     "name": "stdout",
     "output_type": "stream",
     "text": [
      "목요일\n"
     ]
    }
   ],
   "source": [
    "# 0 : 월요일\n",
    "# 1 : 화요일\n",
    "# 2 : 수요일\n",
    "# 3 : 목요일\n",
    "# 4 : 금요일\n",
    "# 5 : 토요일\n",
    "# 6 : 일요알\n",
    "\n",
    "switcher = {0 : '월요일', 1 : '화요일', 2 : '수요일', 3 : '목요일',\n",
    "            4 : '금요일', 5 : '토요일', 6 : '일요일'}\n",
    "\n",
    "print(switcher.get(3, \"알 수 없는 요일\"))\n",
    "# dict로 값을 가져올 때는 인덱스보다 .get을 사용\n",
    "# key에 없는 값을 입력하면 인덱스는 오류\n",
    "# .get 은 기본적으로 None 반환하고 원하는 값 출력 가능"
   ]
  },
  {
   "cell_type": "markdown",
   "metadata": {},
   "source": [
    "## while"
   ]
  },
  {
   "cell_type": "code",
   "execution_count": null,
   "metadata": {},
   "outputs": [
    {
     "name": "stdout",
     "output_type": "stream",
     "text": [
      "0\n",
      "1\n",
      "2\n",
      "3\n",
      "4\n",
      "5\n"
     ]
    }
   ],
   "source": [
    "## 0 ~ 9 까지 출력\n",
    "\n",
    "idx = 0\n",
    "while idx < 10:\n",
    "    print(idx)\n",
    "    idx += 1\n",
    "    if (idx > 5): break\n",
    "\n",
    "# else는 반복문이 모두 수행하고 종료된 경우에 호출\n",
    "# break를 만나거나 예외가 발생하면 수행하지 않음\n",
    "else:\n",
    "    print(\"반복문 종료\")"
   ]
  },
  {
   "cell_type": "markdown",
   "metadata": {},
   "source": [
    "## for"
   ]
  },
  {
   "cell_type": "code",
   "execution_count": null,
   "metadata": {},
   "outputs": [
    {
     "name": "stdout",
     "output_type": "stream",
     "text": [
      "Help on class range in module builtins:\n",
      "\n",
      "class range(object)\n",
      " |  range(stop) -> range object\n",
      " |  range(start, stop[, step]) -> range object\n",
      " |  \n",
      " |  Return an object that produces a sequence of integers from start (inclusive)\n",
      " |  to stop (exclusive) by step.  range(i, j) produces i, i+1, i+2, ..., j-1.\n",
      " |  start defaults to 0, and stop is omitted!  range(4) produces 0, 1, 2, 3.\n",
      " |  These are exactly the valid indices for a list of 4 elements.\n",
      " |  When step is given, it specifies the increment (or decrement).\n",
      " |  \n",
      " |  Methods defined here:\n",
      " |  \n",
      " |  __bool__(self, /)\n",
      " |      True if self else False\n",
      " |  \n",
      " |  __contains__(self, key, /)\n",
      " |      Return key in self.\n",
      " |  \n",
      " |  __eq__(self, value, /)\n",
      " |      Return self==value.\n",
      " |  \n",
      " |  __ge__(self, value, /)\n",
      " |      Return self>=value.\n",
      " |  \n",
      " |  __getattribute__(self, name, /)\n",
      " |      Return getattr(self, name).\n",
      " |  \n",
      " |  __getitem__(self, key, /)\n",
      " |      Return self[key].\n",
      " |  \n",
      " |  __gt__(self, value, /)\n",
      " |      Return self>value.\n",
      " |  \n",
      " |  __hash__(self, /)\n",
      " |      Return hash(self).\n",
      " |  \n",
      " |  __iter__(self, /)\n",
      " |      Implement iter(self).\n",
      " |  \n",
      " |  __le__(self, value, /)\n",
      " |      Return self<=value.\n",
      " |  \n",
      " |  __len__(self, /)\n",
      " |      Return len(self).\n",
      " |  \n",
      " |  __lt__(self, value, /)\n",
      " |      Return self<value.\n",
      " |  \n",
      " |  __ne__(self, value, /)\n",
      " |      Return self!=value.\n",
      " |  \n",
      " |  __reduce__(...)\n",
      " |      Helper for pickle.\n",
      " |  \n",
      " |  __repr__(self, /)\n",
      " |      Return repr(self).\n",
      " |  \n",
      " |  __reversed__(...)\n",
      " |      Return a reverse iterator.\n",
      " |  \n",
      " |  count(...)\n",
      " |      rangeobject.count(value) -> integer -- return number of occurrences of value\n",
      " |  \n",
      " |  index(...)\n",
      " |      rangeobject.index(value) -> integer -- return index of value.\n",
      " |      Raise ValueError if the value is not present.\n",
      " |  \n",
      " |  ----------------------------------------------------------------------\n",
      " |  Static methods defined here:\n",
      " |  \n",
      " |  __new__(*args, **kwargs) from builtins.type\n",
      " |      Create and return a new object.  See help(type) for accurate signature.\n",
      " |  \n",
      " |  ----------------------------------------------------------------------\n",
      " |  Data descriptors defined here:\n",
      " |  \n",
      " |  start\n",
      " |  \n",
      " |  step\n",
      " |  \n",
      " |  stop\n",
      "\n"
     ]
    }
   ],
   "source": [
    "help(range)"
   ]
  },
  {
   "cell_type": "markdown",
   "metadata": {},
   "source": [
    "주소"
   ]
  },
  {
   "cell_type": "code",
   "execution_count": null,
   "metadata": {},
   "outputs": [
    {
     "name": "stdout",
     "output_type": "stream",
     "text": [
      "주소 : https://www.donga.com/news/search?p=1&query=%ED%9C%B4%EA%B0%80%EC%A7%80&check_news=91&more=1&sorting=1&search_date=1&v1=&v2=\n",
      "주소 : https://www.donga.com/news/search?p=16&query=%ED%9C%B4%EA%B0%80%EC%A7%80&check_news=91&more=1&sorting=1&search_date=1&v1=&v2=\n",
      "주소 : https://www.donga.com/news/search?p=31&query=%ED%9C%B4%EA%B0%80%EC%A7%80&check_news=91&more=1&sorting=1&search_date=1&v1=&v2=\n",
      "주소 : https://www.donga.com/news/search?p=46&query=%ED%9C%B4%EA%B0%80%EC%A7%80&check_news=91&more=1&sorting=1&search_date=1&v1=&v2=\n",
      "주소 : https://www.donga.com/news/search?p=61&query=%ED%9C%B4%EA%B0%80%EC%A7%80&check_news=91&more=1&sorting=1&search_date=1&v1=&v2=\n",
      "주소 : https://www.donga.com/news/search?p=76&query=%ED%9C%B4%EA%B0%80%EC%A7%80&check_news=91&more=1&sorting=1&search_date=1&v1=&v2=\n"
     ]
    }
   ],
   "source": [
    "for idx in range(1, 77, 15):\n",
    "    print(\"주소 : https://www.donga.com/news/search?p={}&query=%ED%9C%B4%EA%B0%80%EC%A7%80&check_news=91&more=1&sorting=1&search_date=1&v1=&v2=\".format(idx))\n"
   ]
  },
  {
   "cell_type": "code",
   "execution_count": null,
   "metadata": {},
   "outputs": [
    {
     "name": "stdout",
     "output_type": "stream",
     "text": [
      "1페이지 주소 : https://www.donga.com/news/search?p=1&query=%ED%9C%B4%EA%B0%80%EC%A7%80&check_news=91&more=1&sorting=1&search_date=1&v1=&v2=\n",
      "2페이지 주소 : https://www.donga.com/news/search?p=16&query=%ED%9C%B4%EA%B0%80%EC%A7%80&check_news=91&more=1&sorting=1&search_date=1&v1=&v2=\n",
      "3페이지 주소 : https://www.donga.com/news/search?p=31&query=%ED%9C%B4%EA%B0%80%EC%A7%80&check_news=91&more=1&sorting=1&search_date=1&v1=&v2=\n",
      "4페이지 주소 : https://www.donga.com/news/search?p=46&query=%ED%9C%B4%EA%B0%80%EC%A7%80&check_news=91&more=1&sorting=1&search_date=1&v1=&v2=\n",
      "5페이지 주소 : https://www.donga.com/news/search?p=61&query=%ED%9C%B4%EA%B0%80%EC%A7%80&check_news=91&more=1&sorting=1&search_date=1&v1=&v2=\n"
     ]
    }
   ],
   "source": [
    "for idx in range(5):\n",
    "    print(\"{}페이지 주소 : https://www.donga.com/news/search?p={}&query=%ED%9C%B4%EA%B0%80%EC%A7%80&check_news=91&more=1&sorting=1&search_date=1&v1=&v2=\".format(idx+1, idx*15+1))\n"
   ]
  },
  {
   "cell_type": "markdown",
   "metadata": {},
   "source": [
    "별 찍기"
   ]
  },
  {
   "cell_type": "code",
   "execution_count": 69,
   "metadata": {},
   "outputs": [
    {
     "name": "stdout",
     "output_type": "stream",
     "text": [
      "*****\n",
      "*****\n",
      "*****\n",
      "*****\n",
      "*****\n"
     ]
    }
   ],
   "source": [
    "for i in range(5):\n",
    "    for j in range(5):\n",
    "        print(\"*\", end='')\n",
    "    print()"
   ]
  },
  {
   "cell_type": "code",
   "execution_count": null,
   "metadata": {},
   "outputs": [
    {
     "name": "stdout",
     "output_type": "stream",
     "text": [
      "*****\n",
      "*****\n",
      "*****\n",
      "*****\n",
      "*****\n"
     ]
    }
   ],
   "source": [
    "for i in range(1, 26):\n",
    "    print('*', end='')\n",
    "    if i % 5 == 0:\n",
    "        print()"
   ]
  },
  {
   "cell_type": "code",
   "execution_count": 70,
   "metadata": {},
   "outputs": [
    {
     "name": "stdout",
     "output_type": "stream",
     "text": [
      "*\n",
      "**\n",
      "***\n",
      "****\n",
      "*****\n"
     ]
    }
   ],
   "source": [
    "for i in range(5):\n",
    "    print(\"*\" * (i+1))\n",
    "    "
   ]
  },
  {
   "cell_type": "code",
   "execution_count": 71,
   "metadata": {},
   "outputs": [
    {
     "name": "stdout",
     "output_type": "stream",
     "text": [
      "*\n",
      "**\n",
      "***\n",
      "****\n",
      "*****\n"
     ]
    }
   ],
   "source": [
    "for i in range(5):\n",
    "    for j in range(i+1):\n",
    "        print(\"*\", end='')\n",
    "    print()"
   ]
  },
  {
   "cell_type": "code",
   "execution_count": 67,
   "metadata": {},
   "outputs": [
    {
     "name": "stdout",
     "output_type": "stream",
     "text": [
      "*\n",
      "***\n",
      "*****\n",
      "*******\n",
      "*********\n"
     ]
    }
   ],
   "source": [
    "for i in range(5):\n",
    "    for j in range(2*i+1):\n",
    "        print(\"*\", end='')\n",
    "    print()"
   ]
  },
  {
   "cell_type": "code",
   "execution_count": 75,
   "metadata": {},
   "outputs": [
    {
     "name": "stdout",
     "output_type": "stream",
     "text": [
      "*****\n",
      "****\n",
      "***\n",
      "**\n",
      "*\n"
     ]
    }
   ],
   "source": [
    "for i in range(5):\n",
    "    for j in range(5-i):\n",
    "        print(\"*\", end='')\n",
    "    print()"
   ]
  },
  {
   "cell_type": "code",
   "execution_count": 51,
   "metadata": {},
   "outputs": [
    {
     "name": "stdout",
     "output_type": "stream",
     "text": [
      "*\n",
      "**\n",
      "***\n",
      "**\n",
      "*\n"
     ]
    }
   ],
   "source": [
    "num = 5\n",
    "for i in range(num):\n",
    "    if i <= num // 2:\n",
    "        for j in range(i+1):\n",
    "            print(\"*\",end=\"\")\n",
    "        print()\n",
    "    if i > num // 2:\n",
    "        for j in range(num-i):\n",
    "            print(\"*\",end=\"\")\n",
    "        print()"
   ]
  },
  {
   "cell_type": "code",
   "execution_count": 30,
   "metadata": {},
   "outputs": [
    {
     "name": "stdout",
     "output_type": "stream",
     "text": [
      "     *\n",
      "    * *\n",
      "   *   *\n",
      "  *     *\n",
      " *       *\n",
      "***********\n"
     ]
    }
   ],
   "source": [
    "num = 6\n",
    "for i in range(num):\n",
    "    if i == 0 or i == num-1:\n",
    "        print(' '* (num-i-1), end='') # 공백출력\n",
    "        print('*' * (2*i+1)) # 별출력\n",
    "    else:\n",
    "        print(' ' * (num-i-1), end='') # 공백\n",
    "        print('*', end = '') # 별\n",
    "        print(' ' * (2*i-1), end='') # 공백\n",
    "        print('*') # 별"
   ]
  },
  {
   "cell_type": "markdown",
   "metadata": {},
   "source": [
    "2부터 100까지 완전수의 개수  \n",
    "완전수 : 본인을 제외한 약수의 합이 자신인 것"
   ]
  },
  {
   "cell_type": "code",
   "execution_count": 4,
   "metadata": {},
   "outputs": [
    {
     "name": "stdout",
     "output_type": "stream",
     "text": [
      "6 는 완전수\n",
      "28 는 완전수\n",
      "완전수의 개수: 2\n"
     ]
    }
   ],
   "source": [
    "cnt = 0\n",
    "for i in range(2, 101):\n",
    "    sum = 1\n",
    "    # 약수를 2부터 비교해주면 반복문 1번 안돌아도 됨\n",
    "    for j in range(2, i):\n",
    "        if i % j == 0:\n",
    "            sum += j\n",
    "\n",
    "    if i == sum :\n",
    "        print(i, \"는 완전수\")\n",
    "        cnt += 1\n",
    "\n",
    "print(\"완전수의 개수:\", cnt)"
   ]
  },
  {
   "cell_type": "markdown",
   "metadata": {},
   "source": [
    "피보나치 수열  \n",
    "f1 = f2 = 1  \n",
    "f3 = f1 + f2  \n",
    "n번째 피보나치 수열의 값을 구하는 로직"
   ]
  },
  {
   "cell_type": "code",
   "execution_count": 2,
   "metadata": {},
   "outputs": [
    {
     "name": "stdout",
     "output_type": "stream",
     "text": [
      "100번째 피보나치 수열 값 : 354224848179261915075\n"
     ]
    }
   ],
   "source": [
    "fib = []\n",
    "i = 1\n",
    "n = 100\n",
    "while True :\n",
    "    if len(fib) == n :\n",
    "        # print(fib)\n",
    "        print(\"{}번째 피보나치 수열 값 : {}\".format(n,fib[n-1]))\n",
    "        break\n",
    "\n",
    "    elif i <= 2:\n",
    "        fib.append(1)\n",
    "        i += 1\n",
    "    else :\n",
    "        fib.append(fib[i-2] + fib[i-3])\n",
    "        i += 1"
   ]
  },
  {
   "cell_type": "code",
   "execution_count": 53,
   "metadata": {},
   "outputs": [
    {
     "data": {
      "text/plain": [
       "['ArithmeticError',\n",
       " 'AssertionError',\n",
       " 'AttributeError',\n",
       " 'BaseException',\n",
       " 'BlockingIOError',\n",
       " 'BrokenPipeError',\n",
       " 'BufferError',\n",
       " 'BytesWarning',\n",
       " 'ChildProcessError',\n",
       " 'ConnectionAbortedError',\n",
       " 'ConnectionError',\n",
       " 'ConnectionRefusedError',\n",
       " 'ConnectionResetError',\n",
       " 'DeprecationWarning',\n",
       " 'EOFError',\n",
       " 'Ellipsis',\n",
       " 'EncodingWarning',\n",
       " 'EnvironmentError',\n",
       " 'Exception',\n",
       " 'False',\n",
       " 'FileExistsError',\n",
       " 'FileNotFoundError',\n",
       " 'FloatingPointError',\n",
       " 'FutureWarning',\n",
       " 'GeneratorExit',\n",
       " 'IOError',\n",
       " 'ImportError',\n",
       " 'ImportWarning',\n",
       " 'IndentationError',\n",
       " 'IndexError',\n",
       " 'InterruptedError',\n",
       " 'IsADirectoryError',\n",
       " 'KeyError',\n",
       " 'KeyboardInterrupt',\n",
       " 'LookupError',\n",
       " 'MemoryError',\n",
       " 'ModuleNotFoundError',\n",
       " 'NameError',\n",
       " 'None',\n",
       " 'NotADirectoryError',\n",
       " 'NotImplemented',\n",
       " 'NotImplementedError',\n",
       " 'OSError',\n",
       " 'OverflowError',\n",
       " 'PendingDeprecationWarning',\n",
       " 'PermissionError',\n",
       " 'ProcessLookupError',\n",
       " 'RecursionError',\n",
       " 'ReferenceError',\n",
       " 'ResourceWarning',\n",
       " 'RuntimeError',\n",
       " 'RuntimeWarning',\n",
       " 'StopAsyncIteration',\n",
       " 'StopIteration',\n",
       " 'SyntaxError',\n",
       " 'SyntaxWarning',\n",
       " 'SystemError',\n",
       " 'SystemExit',\n",
       " 'TabError',\n",
       " 'TimeoutError',\n",
       " 'True',\n",
       " 'TypeError',\n",
       " 'UnboundLocalError',\n",
       " 'UnicodeDecodeError',\n",
       " 'UnicodeEncodeError',\n",
       " 'UnicodeError',\n",
       " 'UnicodeTranslateError',\n",
       " 'UnicodeWarning',\n",
       " 'UserWarning',\n",
       " 'ValueError',\n",
       " 'Warning',\n",
       " 'WindowsError',\n",
       " 'ZeroDivisionError',\n",
       " '__IPYTHON__',\n",
       " '__build_class__',\n",
       " '__debug__',\n",
       " '__doc__',\n",
       " '__import__',\n",
       " '__loader__',\n",
       " '__name__',\n",
       " '__package__',\n",
       " '__spec__',\n",
       " 'abs',\n",
       " 'aiter',\n",
       " 'all',\n",
       " 'anext',\n",
       " 'any',\n",
       " 'ascii',\n",
       " 'bin',\n",
       " 'bool',\n",
       " 'breakpoint',\n",
       " 'bytearray',\n",
       " 'bytes',\n",
       " 'callable',\n",
       " 'chr',\n",
       " 'classmethod',\n",
       " 'compile',\n",
       " 'complex',\n",
       " 'copyright',\n",
       " 'credits',\n",
       " 'delattr',\n",
       " 'dict',\n",
       " 'dir',\n",
       " 'display',\n",
       " 'divmod',\n",
       " 'enumerate',\n",
       " 'eval',\n",
       " 'exec',\n",
       " 'execfile',\n",
       " 'filter',\n",
       " 'float',\n",
       " 'format',\n",
       " 'frozenset',\n",
       " 'get_ipython',\n",
       " 'getattr',\n",
       " 'globals',\n",
       " 'hasattr',\n",
       " 'hash',\n",
       " 'help',\n",
       " 'hex',\n",
       " 'id',\n",
       " 'input',\n",
       " 'int',\n",
       " 'isinstance',\n",
       " 'issubclass',\n",
       " 'iter',\n",
       " 'len',\n",
       " 'license',\n",
       " 'list',\n",
       " 'locals',\n",
       " 'map',\n",
       " 'max',\n",
       " 'memoryview',\n",
       " 'min',\n",
       " 'next',\n",
       " 'object',\n",
       " 'oct',\n",
       " 'open',\n",
       " 'ord',\n",
       " 'pow',\n",
       " 'print',\n",
       " 'property',\n",
       " 'range',\n",
       " 'repr',\n",
       " 'reversed',\n",
       " 'round',\n",
       " 'runfile',\n",
       " 'set',\n",
       " 'setattr',\n",
       " 'slice',\n",
       " 'sorted',\n",
       " 'staticmethod',\n",
       " 'str',\n",
       " 'sum',\n",
       " 'super',\n",
       " 'tuple',\n",
       " 'type',\n",
       " 'vars',\n",
       " 'zip']"
      ]
     },
     "execution_count": 53,
     "metadata": {},
     "output_type": "execute_result"
    }
   ],
   "source": [
    "dir(__builtins__)"
   ]
  },
  {
   "cell_type": "markdown",
   "metadata": {},
   "source": [
    "## 내장함수"
   ]
  },
  {
   "cell_type": "code",
   "execution_count": 61,
   "metadata": {},
   "outputs": [
    {
     "name": "stdout",
     "output_type": "stream",
     "text": [
      "Helloword\n",
      "Helloword\n",
      "Helloword\n",
      "Helloword\n",
      "Helloword\n",
      "None\n",
      "<function display at 0x000002304A38B490>\n"
     ]
    }
   ],
   "source": [
    "def display(n) -> None:\n",
    "    for i in range(n):\n",
    "        print(\"Helloword\")\n",
    "\n",
    "print(display(5))\n",
    "print(display) ## 함수 이름은 함수를 저장한 곳의 참조"
   ]
  },
  {
   "cell_type": "code",
   "execution_count": 80,
   "metadata": {},
   "outputs": [
    {
     "name": "stdout",
     "output_type": "stream",
     "text": [
      "60\n",
      "60\n"
     ]
    }
   ],
   "source": [
    "def intAddint(a,b):\n",
    "    return a+b\n",
    "\n",
    "# 함수가 종료되고 다시 함수를 호출하기 때문에\n",
    "# 어느 한 순간에 하나의 스택만 존재\n",
    "result = intAddint(10,20)\n",
    "print(intAddint(result, 30))\n",
    "\n",
    "# 함수의 수행이 종료되기 전에 다른 함수를 호출하기 때문에\n",
    "# 2개의 스택이 동시에 존재하는 경우가 발생\n",
    "print(intAddint(intAddint(10,20), 30))"
   ]
  },
  {
   "cell_type": "code",
   "execution_count": 78,
   "metadata": {},
   "outputs": [
    {
     "name": "stdout",
     "output_type": "stream",
     "text": [
      "(30, -10)\n",
      "30 -10\n"
     ]
    }
   ],
   "source": [
    "# 파이썬은 여러 개의 데이터를 나열해서 리턴하는 것이 가능\n",
    "# 여러 개의 데이터를 나열해서 리턴하면 하나의 튜플로 만들어서 리턴\n",
    "\n",
    "def intOpwithint(a, b):\n",
    "    return a + b, a - b\n",
    "\n",
    "# 튜플 전체를 하나의 변수로 받기\n",
    "t = intOpwithint(10, 20)\n",
    "print(t)\n",
    "\n",
    "# 튜플을 분해해서 받기\n",
    "add, sub = intOpwithint(10, 20)\n",
    "print(add, sub)"
   ]
  },
  {
   "cell_type": "markdown",
   "metadata": {},
   "source": [
    "매개변수에 자료형 기재하는 것을 권장"
   ]
  },
  {
   "cell_type": "code",
   "execution_count": 92,
   "metadata": {},
   "outputs": [
    {
     "name": "stdout",
     "output_type": "stream",
     "text": [
      "3\n",
      "Help on function add in module __main__:\n",
      "\n",
      "add(a: int, b: int) -> int\n",
      "\n"
     ]
    }
   ],
   "source": [
    "# 정수 2개를 받아서 결과를 정수로 리턴하는 함수\n",
    "# 자료형을 기재하는 것을 권장\n",
    "\n",
    "def add(a : int, b : int) -> int:\n",
    "    return a + b\n",
    "\n",
    "print(add(1,2))\n",
    "help(add)"
   ]
  },
  {
   "cell_type": "markdown",
   "metadata": {},
   "source": [
    "callByValue와 callByReference의 차이"
   ]
  },
  {
   "cell_type": "code",
   "execution_count": 91,
   "metadata": {},
   "outputs": [
    {
     "name": "stdout",
     "output_type": "stream",
     "text": [
      "20\n",
      "30\n",
      "[20, 200, 300]\n",
      "[20, 200, 300]\n"
     ]
    }
   ],
   "source": [
    "def callByValue(a : int) -> None :\n",
    "\t\ta = 20\n",
    "\t\tprint(a)\n",
    "\n",
    "x = 30\n",
    "callByValue(x)\n",
    "print(x)\n",
    "\n",
    "def callByReference(li : list) -> None :\n",
    "\t\tli[0] = 20\n",
    "\t\tprint(li)\n",
    "\n",
    "list1 = [100, 200, 300]\n",
    "callByReference(list1)\n",
    "print(list1)"
   ]
  },
  {
   "cell_type": "code",
   "execution_count": 90,
   "metadata": {},
   "outputs": [
    {
     "name": "stdout",
     "output_type": "stream",
     "text": [
      "[20, 200, 300]\n",
      "[20, 200, 300]\n"
     ]
    }
   ],
   "source": [
    "def callByReference(li : list) -> None :\n",
    "\t\tli[0] = 20\n",
    "\t\tprint(li)\n",
    "\n",
    "list1 = [100, 200, 300]\n",
    "callByReference(list1)\n",
    "print(list1)"
   ]
  },
  {
   "cell_type": "code",
   "execution_count": 93,
   "metadata": {},
   "outputs": [
    {
     "name": "stdout",
     "output_type": "stream",
     "text": [
      "Help on built-in function print in module builtins:\n",
      "\n",
      "print(...)\n",
      "    print(value, ..., sep=' ', end='\\n', file=sys.stdout, flush=False)\n",
      "    \n",
      "    Prints the values to a stream, or to sys.stdout by default.\n",
      "    Optional keyword arguments:\n",
      "    file:  a file-like object (stream); defaults to the current sys.stdout.\n",
      "    sep:   string inserted between values, default a space.\n",
      "    end:   string appended after the last value, default a newline.\n",
      "    flush: whether to forcibly flush the stream.\n",
      "\n"
     ]
    }
   ],
   "source": [
    "help(print)"
   ]
  },
  {
   "cell_type": "code",
   "execution_count": 95,
   "metadata": {},
   "outputs": [
    {
     "name": "stdout",
     "output_type": "stream",
     "text": [
      "송준호\t남자\t25\n"
     ]
    }
   ],
   "source": [
    "print('송준호','남자','25', sep='\\t')"
   ]
  },
  {
   "cell_type": "code",
   "execution_count": 104,
   "metadata": {},
   "outputs": [
    {
     "name": "stdout",
     "output_type": "stream",
     "text": [
      "10\n",
      "20\n",
      "10\n",
      "20\n",
      "a\n",
      "b\n",
      "100\n",
      "200\n"
     ]
    }
   ],
   "source": [
    "def collection(a, b):\n",
    "    print(a)\n",
    "    print(b)\n",
    "\n",
    "collection(10, 20)\n",
    "collection(*[10, 20])\n",
    "\n",
    "# key 이름과 매개변수 이름이 같이야 함\n",
    "collection(*{'a': 100, 'b' : 200})\n",
    "collection(**{'a': 100, 'b' : 200})"
   ]
  },
  {
   "cell_type": "markdown",
   "metadata": {},
   "source": [
    "가변 매개변수"
   ]
  },
  {
   "cell_type": "code",
   "execution_count": 110,
   "metadata": {},
   "outputs": [
    {
     "name": "stdout",
     "output_type": "stream",
     "text": [
      "10\n",
      "20\n",
      "30\n",
      "40\n"
     ]
    }
   ],
   "source": [
    "# 매개변수 개수 상관없이 대입해서 호출 가능\n",
    "# 함수 내부에서는 튜플\n",
    "def merge(*li):\n",
    "    for element in li:\n",
    "        print(element)\n",
    "\n",
    "merge(10,20,30,40)"
   ]
  },
  {
   "cell_type": "code",
   "execution_count": 113,
   "metadata": {},
   "outputs": [
    {
     "ename": "SyntaxError",
     "evalue": "positional argument follows keyword argument (4241483995.py, line 6)",
     "output_type": "error",
     "traceback": [
      "\u001b[1;36m  Cell \u001b[1;32mIn[113], line 6\u001b[1;36m\u001b[0m\n\u001b[1;33m    merge(name='junho', 10,20,30,50)\u001b[0m\n\u001b[1;37m                                   ^\u001b[0m\n\u001b[1;31mSyntaxError\u001b[0m\u001b[1;31m:\u001b[0m positional argument follows keyword argument\n"
     ]
    }
   ],
   "source": [
    "def merge(name, *li):\n",
    "    for element in li:\n",
    "        print(element)\n",
    "\n",
    "merge('junho', 10,20,30,40) # name에 junho가 대입되고 나머지는 li 대입\n",
    "merge(name='junho', 10,20,30,50) # 에러, 앞에 있는 매개변수는 이름을 적지 않음"
   ]
  },
  {
   "cell_type": "code",
   "execution_count": 119,
   "metadata": {},
   "outputs": [
    {
     "name": "stdout",
     "output_type": "stream",
     "text": [
      "10\n",
      "20\n",
      "30\n",
      "40\n"
     ]
    },
    {
     "ename": "TypeError",
     "evalue": "merge() missing 1 required keyword-only argument: 'name'",
     "output_type": "error",
     "traceback": [
      "\u001b[1;31m---------------------------------------------------------------------------\u001b[0m",
      "\u001b[1;31mTypeError\u001b[0m                                 Traceback (most recent call last)",
      "Cell \u001b[1;32mIn[119], line 6\u001b[0m\n\u001b[0;32m      3\u001b[0m         \u001b[39mprint\u001b[39m(element)\n\u001b[0;32m      5\u001b[0m merge(\u001b[39m10\u001b[39m,\u001b[39m20\u001b[39m,\u001b[39m30\u001b[39m,\u001b[39m40\u001b[39m, name\u001b[39m=\u001b[39m\u001b[39m'\u001b[39m\u001b[39mjunho\u001b[39m\u001b[39m'\u001b[39m) \u001b[39m#name 앞 까지 li 에 저장되고 name에 junho가 대입\u001b[39;00m\n\u001b[1;32m----> 6\u001b[0m merge(\u001b[39m10\u001b[39;49m,\u001b[39m20\u001b[39;49m,\u001b[39m30\u001b[39;49m,\u001b[39m40\u001b[39;49m, \u001b[39m'\u001b[39;49m\u001b[39mjunho\u001b[39;49m\u001b[39m'\u001b[39;49m)\n",
      "\u001b[1;31mTypeError\u001b[0m: merge() missing 1 required keyword-only argument: 'name'"
     ]
    }
   ],
   "source": [
    "def merge(*li, name):\n",
    "    for element in li:\n",
    "        print(element)\n",
    "\n",
    "merge(10,20,30,40, name='junho') #name 앞 까지 li 에 저장되고 name에 junho가 대입\n",
    "merge(10,20,30,40, 'junho') # 뒤에 있는 매개변수는 이름을 반드시 적어야 함"
   ]
  },
  {
   "cell_type": "code",
   "execution_count": 121,
   "metadata": {},
   "outputs": [
    {
     "name": "stdout",
     "output_type": "stream",
     "text": [
      "age 20\n",
      "gender male\n",
      "job teacher\n",
      "hobby music\n"
     ]
    }
   ],
   "source": [
    "# name 매개변수와 그 외의 매개변수로 구성된 함수\n",
    "def merge(name, **param):\n",
    "    for k in param:\n",
    "        print(k, param[k])\n",
    "\n",
    "merge(name='junho', age=20, gender='male', job='teacher', hobby='music')"
   ]
  },
  {
   "cell_type": "markdown",
   "metadata": {},
   "source": [
    "재귀함수(recursion)"
   ]
  },
  {
   "cell_type": "code",
   "execution_count": 124,
   "metadata": {},
   "outputs": [
    {
     "data": {
      "text/plain": [
       "45"
      ]
     },
     "execution_count": 124,
     "metadata": {},
     "output_type": "execute_result"
    }
   ],
   "source": [
    "def hap(n : int) -> int:\n",
    "    if n == 1:\n",
    "        return 1\n",
    "    return n + hap(n - 1)\n",
    "\n",
    "hap(9)"
   ]
  },
  {
   "cell_type": "code",
   "execution_count": 14,
   "metadata": {},
   "outputs": [],
   "source": [
    "def fibonacci(n):\n",
    "    if n <= 2:\n",
    "        return 1\n",
    "    else :\n",
    "        return fibonacci(n-1) + fibonacci(n-2)"
   ]
  },
  {
   "cell_type": "code",
   "execution_count": 13,
   "metadata": {},
   "outputs": [
    {
     "data": {
      "text/plain": [
       "55"
      ]
     },
     "execution_count": 13,
     "metadata": {},
     "output_type": "execute_result"
    }
   ],
   "source": [
    "fibonacci(10)"
   ]
  },
  {
   "cell_type": "code",
   "execution_count": 16,
   "metadata": {},
   "outputs": [],
   "source": [
    "import functools\n",
    "@functools.lru_cache() # 메모이제이션 : 함수의 호출 결과를 저장해 둔 후 재사용하는 것\n",
    "def fibonacci(n):\n",
    "    if n <= 2:\n",
    "        return 1\n",
    "    else :\n",
    "        return fibonacci(n-1) + fibonacci(n-2)"
   ]
  },
  {
   "cell_type": "code",
   "execution_count": 33,
   "metadata": {},
   "outputs": [
    {
     "data": {
      "text/plain": [
       "354224848179261915075"
      ]
     },
     "execution_count": 33,
     "metadata": {},
     "output_type": "execute_result"
    }
   ],
   "source": [
    "fibonacci(100)"
   ]
  },
  {
   "cell_type": "markdown",
   "metadata": {},
   "source": [
    "함수의 매개변수에 설명을 추가하는 것이 가능"
   ]
  },
  {
   "cell_type": "code",
   "execution_count": null,
   "metadata": {},
   "outputs": [],
   "source": [
    "def pan(score : 'int >= 0 and <= 100' = 0) -> : ???"
   ]
  },
  {
   "cell_type": "markdown",
   "metadata": {},
   "source": [
    "함수의 도움말 만들기"
   ]
  },
  {
   "cell_type": "code",
   "execution_count": 43,
   "metadata": {},
   "outputs": [
    {
     "name": "stdout",
     "output_type": "stream",
     "text": [
      "Help on function fibonacci in module __main__:\n",
      "\n",
      "fibonacci(n)\n",
      "    재귀를 이용해 피보나치 수열의 값을 리턴하는 함수\n",
      "\n"
     ]
    }
   ],
   "source": [
    "def fibonacci(n):\n",
    "    '''\n",
    "    재귀를 이용해 피보나치 수열의 값을 리턴하는 함수\n",
    "    '''\n",
    "    if n <= 2:\n",
    "        return 1\n",
    "    else :\n",
    "        return fibonacci(n-1) + fibonacci(n-2)\n",
    "\n",
    "help(fibonacci)"
   ]
  },
  {
   "cell_type": "code",
   "execution_count": 42,
   "metadata": {},
   "outputs": [
    {
     "name": "stdout",
     "output_type": "stream",
     "text": [
      "Help on function fibonacci in module __main__:\n",
      "\n",
      "fibonacci(n)\n",
      "    재귀를 이용해 피보나치 수열의 값을 리턴하는 함수\n",
      "\n"
     ]
    }
   ],
   "source": [
    "def fibonacci(n):\n",
    "    if n <= 2:\n",
    "        return 1\n",
    "    else :\n",
    "        return fibonacci(n-1) + fibonacci(n-2)\n",
    "    \n",
    "fibonacci.__doc__ = \"재귀를 이용해 피보나치 수열의 값을 리턴하는 함수\"\n",
    "help(fibonacci)"
   ]
  },
  {
   "cell_type": "markdown",
   "metadata": {},
   "source": [
    "파이썬에서 함수는 일급 객체"
   ]
  },
  {
   "cell_type": "code",
   "execution_count": 45,
   "metadata": {},
   "outputs": [
    {
     "name": "stdout",
     "output_type": "stream",
     "text": [
      "드라군공격\n",
      "탱크공격\n"
     ]
    }
   ],
   "source": [
    "def dragonAttack():\n",
    "    print('드라군공격')\n",
    "\n",
    "def tankAttack():\n",
    "    print('탱크공격')\n",
    "\n",
    "dragonAttack()\n",
    "tankAttack()"
   ]
  },
  {
   "cell_type": "markdown",
   "metadata": {},
   "source": [
    "다형성을 위해 함수를 변수에 대입"
   ]
  },
  {
   "cell_type": "code",
   "execution_count": 48,
   "metadata": {},
   "outputs": [
    {
     "name": "stdout",
     "output_type": "stream",
     "text": [
      "드라군공격\n",
      "탱크공격\n"
     ]
    }
   ],
   "source": [
    "delegate = dragonAttack\n",
    "delegate()\n",
    "\n",
    "delegate = tankAttack\n",
    "delegate()"
   ]
  },
  {
   "cell_type": "markdown",
   "metadata": {},
   "source": [
    "High Order Function"
   ]
  },
  {
   "cell_type": "code",
   "execution_count": 6,
   "metadata": {},
   "outputs": [
    {
     "name": "stdout",
     "output_type": "stream",
     "text": [
      "inner function\n"
     ]
    }
   ],
   "source": [
    "def outer():\n",
    "    def inner():\n",
    "        print(\"inner function\")\n",
    "    return inner\n",
    "\n",
    "# 함수를 호출해서 결과를 변수에 대입하고 그 변수를 통해 함수를 호출한다.\n",
    "func = outer()\n",
    "func()"
   ]
  },
  {
   "cell_type": "markdown",
   "metadata": {},
   "source": [
    "lambda(람다)"
   ]
  },
  {
   "cell_type": "code",
   "execution_count": 52,
   "metadata": {},
   "outputs": [
    {
     "data": {
      "text/plain": [
       "<function __main__.<lambda>(x, y)>"
      ]
     },
     "execution_count": 52,
     "metadata": {},
     "output_type": "execute_result"
    }
   ],
   "source": [
    "# 2개의 숫자를 받아서 더한 결과를 리턴하는 lambda\n",
    "lambda x, y : x + y"
   ]
  }
 ],
 "metadata": {
  "kernelspec": {
   "display_name": "base",
   "language": "python",
   "name": "python3"
  },
  "language_info": {
   "codemirror_mode": {
    "name": "ipython",
    "version": 3
   },
   "file_extension": ".py",
   "mimetype": "text/x-python",
   "name": "python",
   "nbconvert_exporter": "python",
   "pygments_lexer": "ipython3",
   "version": "3.10.9"
  },
  "orig_nbformat": 4
 },
 "nbformat": 4,
 "nbformat_minor": 2
}
