{
 "cells": [
  {
   "cell_type": "markdown",
   "metadata": {},
   "source": [
    "## OOP"
   ]
  },
  {
   "cell_type": "markdown",
   "metadata": {},
   "source": [
    "간단한 복습"
   ]
  },
  {
   "cell_type": "markdown",
   "metadata": {},
   "source": [
    "생성자와 소멸자"
   ]
  },
  {
   "cell_type": "code",
   "execution_count": 22,
   "metadata": {},
   "outputs": [
    {
     "name": "stdout",
     "output_type": "stream",
     "text": [
      "instance 생성\n",
      "instance method\n",
      "instance method\n"
     ]
    },
    {
     "data": {
      "text/plain": [
       "'junho'"
      ]
     },
     "execution_count": 22,
     "metadata": {},
     "output_type": "execute_result"
    }
   ],
   "source": [
    "# 클래스 생성\n",
    "class Student():\n",
    "    # 생성자 - 인스턴스를 생성할 때 호출하는 메서드\n",
    "    # 이 메서드에서 속성을 생성해서 처음부터 소유하도록 만들어주면 좋음\n",
    "    # 매개변수를 이용해서 초기화하면 만들어질 때 다양한 값으로 초기화 가능\n",
    "    # 매개변수에 기본값을 설정하지 않으면\n",
    "    # 인스턴스를 생성할 때 반드시 매개변수에 값을 대입해야 함\n",
    "\n",
    "    def __init__(self, name = 'noname'):\n",
    "        print('instance 생성')\n",
    "        # 특정한 상수로 생성하고자 하는 경우는 생성자 내부에서 직접 설정\n",
    "        # self.name = '기본값'\n",
    "        self.name = name\n",
    "\n",
    "    # 소멸자 - 인스턴스가 소멸될 때 호출되는 메서드\n",
    "    def __del__(self):\n",
    "        print('instance 소멸')\n",
    "\n",
    "    def disp(self):\n",
    "        print('instance method')\n",
    "        # 클래스에 만들어졌지만 인스턴스 없이는 호출 불가\n",
    "\n",
    "    # setter - 속성을 수정하거나 생성하는 메서드\n",
    "    def setName(self, name):\n",
    "        # name 이라는 속성이 없으면 만들어서 대입하고 존재하면 수정\n",
    "        self.name = name\n",
    "    \n",
    "    def getName(self):\n",
    "        return self.name\n",
    "\n",
    "stu1 = Student()\n",
    "# 메서드 호출\n",
    "Student.disp(stu1) # 클래스가 인스턴스의 메서드를 호출 - unbound 호출\n",
    "stu1.disp() # self에 인스턴스가 대입돼서 메서드를 호출 - bound 호출\n",
    "\n",
    "stu1.setName('junho')\n",
    "stu1.getName()"
   ]
  },
  {
   "cell_type": "code",
   "execution_count": 28,
   "metadata": {},
   "outputs": [
    {
     "name": "stdout",
     "output_type": "stream",
     "text": [
      "1\n",
      "2\n"
     ]
    }
   ],
   "source": [
    "class Student:\n",
    "    # 클래스 속성 - 클래스에 1개만 생성\n",
    "    auto_increment = 0\n",
    "    # 클래스 속성과 생성자를 이용한 일련번호\n",
    "    def __init__(self, name = 'noname'):\n",
    "        Student.auto_increment += 1\n",
    "        self.no = Student.auto_increment\n",
    "\n",
    "stu1 = Student()\n",
    "print(stu1.no)\n",
    "stu2 = Student()\n",
    "print(stu2.no)"
   ]
  },
  {
   "cell_type": "markdown",
   "metadata": {},
   "source": [
    "인스턴스 소멸"
   ]
  },
  {
   "cell_type": "code",
   "execution_count": 40,
   "metadata": {},
   "outputs": [
    {
     "name": "stdout",
     "output_type": "stream",
     "text": [
      "인스턴스 소멸\n",
      "인스턴스 소멸\n",
      "프로그램 종료\n"
     ]
    }
   ],
   "source": [
    "class Student1:\n",
    "    # 클래스 속성 - 클래스에 1개만 생성\n",
    "    auto_increment = 0\n",
    "    # 클래스 속성과 생성자를 이용한 일련번호\n",
    "    def __init__(self, name = 'noname'):\n",
    "        Student1.auto_increment += 1\n",
    "        self.no = Student1.auto_increment\n",
    "\n",
    "    def __del__(self):\n",
    "        print('인스턴스 소멸')\n",
    "\n",
    "stu1 = Student1() # 인스턴스가 생성되고 참조 카운트가 1이 됨\n",
    "stu1 = None # 참조를 가리키는 변수에 None을 대입하면 참조 카운트가 1 감소\n",
    "            # 참조 카운트가 0이면 인스턴스가 소멸\n",
    "\n",
    "stu2 = Student1() # 참조 카운트 1\n",
    "stu3 = stu2 # 참조 카운트 2\n",
    "stu3 = None # 참조 카운트 1 -- 인스턴스는 소멸되지 않음\n",
    "print('프로그램 종료')\n"
   ]
  },
  {
   "cell_type": "markdown",
   "metadata": {},
   "source": [
    "static 메서드와 class 메서드"
   ]
  },
  {
   "cell_type": "code",
   "execution_count": 42,
   "metadata": {},
   "outputs": [
    {
     "name": "stdout",
     "output_type": "stream",
     "text": [
      "매개변수가 없는 static method\n",
      "인스턴스 소멸\n",
      "인스턴스 소멸\n",
      "프로그램 종료\n"
     ]
    }
   ],
   "source": [
    "class Student2:\n",
    "    # 클래스 속성 - 클래스에 1개만 생성\n",
    "    auto_increment = 0\n",
    "    # 클래스 속성과 생성자를 이용한 일련번호\n",
    "    def __init__(self, name = 'noname'):\n",
    "        Student2.auto_increment += 1\n",
    "        self.no = Student2.auto_increment\n",
    "\n",
    "    def __del__(self):\n",
    "        print('인스턴스 소멸')\n",
    "    \n",
    "    def method():\n",
    "        print('매개변수가 없는 static method')\n",
    "    \n",
    "Student2.method()\n",
    "\n",
    "stu1 = Student2() # 인스턴스가 생성되고 참조 카운트가 1이 됨\n",
    "stu1 = None # 참조를 가리키는 변수에 None을 대입하면 참조 카운트가 1 감소\n",
    "            # 참조 카운트가 0이면 인스턴스가 소멸\n",
    "\n",
    "stu2 = Student2() # 참조 카운트 1\n",
    "stu3 = stu2 # 참조 카운트 2\n",
    "stu2 = None # 참조 카운트 1 -- 인스턴스는 소멸되지 않음\n",
    "print('프로그램 종료')\n"
   ]
  },
  {
   "cell_type": "markdown",
   "metadata": {},
   "source": [
    "속성 생성 제한"
   ]
  },
  {
   "cell_type": "code",
   "execution_count": 44,
   "metadata": {},
   "outputs": [],
   "source": [
    "class Student3:\n",
    "    # name과 age 속성만 사용하도록 제한\n",
    "    __slots__ = ['name', 'age']\n",
    "    pass\n",
    "\n",
    "stu1 = Student3()\n",
    "stu1.name = 'junho'\n",
    "stu1.age = 25\n",
    "stu1.job = 'singer'"
   ]
  },
  {
   "cell_type": "markdown",
   "metadata": {},
   "source": [
    "인스턴스가 접근할 수 없는 속성"
   ]
  },
  {
   "cell_type": "code",
   "execution_count": 62,
   "metadata": {},
   "outputs": [
    {
     "name": "stdout",
     "output_type": "stream",
     "text": [
      "junho\n",
      "인스턴스 소멸\n"
     ]
    },
    {
     "ename": "AttributeError",
     "evalue": "'Student4' object has no attribute '__no'",
     "output_type": "error",
     "traceback": [
      "\u001b[1;31m---------------------------------------------------------------------------\u001b[0m",
      "\u001b[1;31mAttributeError\u001b[0m                            Traceback (most recent call last)",
      "Cell \u001b[1;32mIn[62], line 9\u001b[0m\n\u001b[0;32m      7\u001b[0m stu1 \u001b[39m=\u001b[39m Student4()\n\u001b[0;32m      8\u001b[0m \u001b[39mprint\u001b[39m(stu1\u001b[39m.\u001b[39mname)\n\u001b[1;32m----> 9\u001b[0m \u001b[39mprint\u001b[39m(stu1\u001b[39m.\u001b[39;49m__no)\n",
      "\u001b[1;31mAttributeError\u001b[0m: 'Student4' object has no attribute '__no'"
     ]
    }
   ],
   "source": [
    "class Student4:\n",
    "    def __init__(self):\n",
    "        self.name = 'junho'\n",
    "        # 속성을 만들 때 __로 시작하면 인스턴스는 속성에 직접 접근 불가\n",
    "        self.__no = 1 \n",
    "\n",
    "stu1 = Student4()\n",
    "print(stu1.name)\n",
    "print(stu1.__no)"
   ]
  },
  {
   "cell_type": "markdown",
   "metadata": {},
   "source": [
    "property"
   ]
  },
  {
   "cell_type": "code",
   "execution_count": 58,
   "metadata": {},
   "outputs": [
    {
     "name": "stdout",
     "output_type": "stream",
     "text": [
      "name의 setter 호출\n",
      "name의 getter 호출\n",
      "junho\n",
      "name의 setter 호출\n",
      "name의 getter 호출\n",
      "jungeol\n"
     ]
    }
   ],
   "source": [
    "class Student:\n",
    "    def __init__(self, name = 'noname'):\n",
    "        self.__name = name # 속성 이름이 __로 시작하므로 인스턴스로 접근 불가\n",
    "\n",
    "    # 접근자 메서드\n",
    "    def getName(self):\n",
    "        print('name의 getter 호출')\n",
    "        return self.__name\n",
    "    \n",
    "    def setName(self, name):\n",
    "        print('name의 setter 호출')\n",
    "        self.__name = name\n",
    "                \n",
    "    # property 생성\n",
    "    # name 호출하면 getName 호출, name 값을 대입하면 setName 호출\n",
    "    name = property(fget = getName, fset = setName)\n",
    "\n",
    "stu = Student()\n",
    "# setter와 getter 직접 호출\n",
    "stu.setName('junho')\n",
    "print(stu.getName())\n",
    "\n",
    "# property 를 이용한 getter와 setter 호출\n",
    "stu.name = 'jungeol'\n",
    "print(stu.name)"
   ]
  },
  {
   "cell_type": "markdown",
   "metadata": {},
   "source": [
    "property 편리하게 사용"
   ]
  },
  {
   "cell_type": "code",
   "execution_count": 61,
   "metadata": {},
   "outputs": [
    {
     "name": "stdout",
     "output_type": "stream",
     "text": [
      "name의 setter 호출\n",
      "name의 getter 호출\n",
      "jungeol\n"
     ]
    }
   ],
   "source": [
    "class Student:\n",
    "    def __init__(self, name = 'noname'):\n",
    "        self.__name = name # 속성 이름이 __로 시작하므로 인스턴스로 접근 불가\n",
    "\n",
    "    # 접근자 메서드\n",
    "    @property # getter 설정\n",
    "    def name(self):\n",
    "        print('name의 getter 호출')\n",
    "        return self.__name\n",
    "    \n",
    "    @name.setter # setter 설정\n",
    "    def name(self, name):\n",
    "        print('name의 setter 호출')\n",
    "        self.__name = name\n",
    "            \n",
    "stu = Student()\n",
    "\n",
    "# property 를 이용한 getter와 setter 호출\n",
    "stu.name = 'jungeol'\n",
    "print(stu.name)"
   ]
  },
  {
   "cell_type": "markdown",
   "metadata": {},
   "source": [
    "operator overloading (연산자 오버로딩)"
   ]
  },
  {
   "cell_type": "code",
   "execution_count": 78,
   "metadata": {},
   "outputs": [
    {
     "name": "stdout",
     "output_type": "stream",
     "text": [
      "songjunhosongjungeol\n",
      "True\n",
      "False\n"
     ]
    }
   ],
   "source": [
    "class Student:\n",
    "    def __init__(self, name = 'noname'):\n",
    "        self.name = name\n",
    "\n",
    "    # + 연산자 오버로딩\n",
    "    def __add__(self, other):\n",
    "        return self.name + other.name\n",
    "    \n",
    "    # == 연산자 오버로딩\n",
    "    def __eq__(self, other):\n",
    "        return self.name == other.name\n",
    "\n",
    "stu1 = Student('songjunho')\n",
    "stu2 = Student('songjungeol')\n",
    "print(stu1 + stu2)\n",
    "\n",
    "stu3 = Student('축구')\n",
    "stu4 = Student('축구')\n",
    "print(stu3 == stu4) # 값을 확인\n",
    "print(stu3 is stu4) # ID(메모리에 참조된 주소)를 확인\n"
   ]
  },
  {
   "cell_type": "code",
   "execution_count": 82,
   "metadata": {},
   "outputs": [
    {
     "name": "stdout",
     "output_type": "stream",
     "text": [
      "7\n"
     ]
    }
   ],
   "source": [
    "class Student:\n",
    "    def __init__(self, name = 'noname', count = 0):\n",
    "        self.name = name\n",
    "        self.count = count\n",
    "\n",
    "    def __add__(self, other):\n",
    "        return self.count + other.count\n",
    "    \n",
    "stu1 = Student('사과', 3)\n",
    "stu2 = Student('바나나', 4)\n",
    "print(stu1 + stu2)"
   ]
  },
  {
   "cell_type": "markdown",
   "metadata": {},
   "source": [
    "### 상속"
   ]
  },
  {
   "cell_type": "code",
   "execution_count": 85,
   "metadata": {},
   "outputs": [
    {
     "name": "stdout",
     "output_type": "stream",
     "text": [
      "하위클래스의 메서드\n",
      "상위클래스의 메서드\n"
     ]
    }
   ],
   "source": [
    "class Sup:\n",
    "    def superMethod(self):\n",
    "        print('상위클래스의 메서드')\n",
    "\n",
    "# Sup 클래스를 상속받는 Sub 클래스\n",
    "class Sub(Sup):\n",
    "    def subMethod(self):\n",
    "        print('하위클래스의 메서드')\n",
    "\n",
    "# Sub의 인스턴스를 생성해서 필요한 메서드 호출\n",
    "s = Sub()\n",
    "s.subMethod()\n",
    "s.superMethod()"
   ]
  },
  {
   "cell_type": "markdown",
   "metadata": {},
   "source": [
    "하위 클래스에서 상위 클래스의 method 호출"
   ]
  },
  {
   "cell_type": "code",
   "execution_count": 88,
   "metadata": {},
   "outputs": [
    {
     "name": "stdout",
     "output_type": "stream",
     "text": [
      "하위클래스의 메서드\n",
      "상위클래스의 메서드\n",
      "noname\n"
     ]
    }
   ],
   "source": [
    "class Sup:\n",
    "\n",
    "    def __init__(self):\n",
    "        self.name = 'noname'\n",
    "\n",
    "    def superMethod(self):\n",
    "        print('상위클래스의 메서드')\n",
    "\n",
    "# Sup 클래스를 상속받는 Sub 클래스\n",
    "class Sub(Sup):\n",
    "    # 하위 클래스에서 __init__ 를 생성하면 상위 클래스의 __init__ 을 호출하지 않음\n",
    "    # 하위 클래스의 __init__ 을 만들 때는 상위 클래스의 __init__을 호출해줘야 함\n",
    "    def __init__(self):\n",
    "        super().__init__()\n",
    "        self.score = 80\n",
    "\n",
    "    def subMethod(self):\n",
    "        print('하위클래스의 메서드')\n",
    "\n",
    "s = Sub()\n",
    "s.subMethod()\n",
    "s.superMethod()\n",
    "print(s.name)"
   ]
  },
  {
   "cell_type": "markdown",
   "metadata": {},
   "source": [
    "method overriding"
   ]
  },
  {
   "cell_type": "code",
   "execution_count": 94,
   "metadata": {},
   "outputs": [
    {
     "name": "stdout",
     "output_type": "stream",
     "text": [
      "상위 클래스의 메서드\n",
      "하위 클래스의 메서드\n"
     ]
    }
   ],
   "source": [
    "class Sup:\n",
    "\n",
    "    def method(self):\n",
    "        print('상위 클래스의 메서드')\n",
    "\n",
    "# Sup 클래스를 상속받는 Sub 클래스\n",
    "class Sub(Sup):\n",
    "    # 상위 클래스의 존재하는 메서드를 하위 클래스에서 다시 정의 - overriding\n",
    "    # 목적은 기능 확장\n",
    "    def method(self):\n",
    "        super().method() # 상위 클래스의 메서드를 호출\n",
    "        print('하위 클래스의 메서드')\n",
    "\n",
    "s = Sub()\n",
    "s.method()\n"
   ]
  },
  {
   "cell_type": "markdown",
   "metadata": {},
   "source": [
    "abstract"
   ]
  },
  {
   "cell_type": "code",
   "execution_count": 101,
   "metadata": {},
   "outputs": [
    {
     "name": "stdout",
     "output_type": "stream",
     "text": [
      "인스턴스 생성\n",
      "추상 메서드 구현\n"
     ]
    }
   ],
   "source": [
    "# 추상 클래스 - 자신의 인스턴스를 생성할 수 없음\n",
    "import abc\n",
    "class AbstractionClass(metaclass = abc.ABCMeta):\n",
    "    # 추상 메서드\n",
    "    # 내용이 없는 메서드로 하위 클래스에서 구현해서 사용해야 함\n",
    "    @abc.abstractclassmethod\n",
    "    def method(self):\n",
    "        pass\n",
    "\n",
    "class Sub(AbstractionClass):\n",
    "    def __init__(self):\n",
    "        print('인스턴스 생성')\n",
    "\n",
    "    # 추상 클래스를 상속받는 경우 추상 메서드를 반드시 implementation 해야함\n",
    "    def method(self):\n",
    "        print('추상 메서드 구현')\n",
    "\n",
    "# 추상 클래스는 인스턴스를 만들 수 없어서 에러 // 항상 상속을 통해서 사용\n",
    "# instance = AbstractionClass()\n",
    "\n",
    "instance = Sub()\n",
    "instance.method()"
   ]
  },
  {
   "cell_type": "markdown",
   "metadata": {},
   "source": [
    "### package"
   ]
  },
  {
   "cell_type": "code",
   "execution_count": null,
   "metadata": {},
   "outputs": [],
   "source": [
    "import sys\n",
    "sys.modules # 사용 가능한 모듈 확인\n",
    "sys.path # 모듈을 찾는 위치 확인\n",
    "# 모듈을 찾는 위치를 추가하고자 할 때\n",
    "sys.path.append('찾는위치')"
   ]
  },
  {
   "cell_type": "code",
   "execution_count": 2,
   "metadata": {},
   "outputs": [
    {
     "name": "stdout",
     "output_type": "stream",
     "text": [
      "2.7182\n",
      "모듈 사용\n"
     ]
    }
   ],
   "source": [
    "import sys\n",
    "import mymath\n",
    "sys.path.append('./')\n",
    "print(mymath.EulerNum)\n",
    "mymath.func('모듈 사용')"
   ]
  },
  {
   "cell_type": "markdown",
   "metadata": {},
   "source": [
    "## Data Type"
   ]
  },
  {
   "cell_type": "code",
   "execution_count": 11,
   "metadata": {},
   "outputs": [
    {
     "name": "stdout",
     "output_type": "stream",
     "text": [
      "1280.2458399999998\n",
      "1280.24584\n",
      "1280.24584\n",
      "1280.24584\n",
      "False\n",
      "True\n"
     ]
    }
   ],
   "source": [
    "from decimal import Decimal\n",
    "# 실수 표현의 한계 때문에 2개 연산의 결과가 다르게 나옴\n",
    "print((1234.567 + 45.67844) + 0.0004)\n",
    "print(1234.567 + (45.67844 + 0.0004))\n",
    "\n",
    "# 실수를 문자열로 만들어서 Decimal 모듈을 이용하면 정확한 계산 수행\n",
    "print((Decimal('1234.567') + Decimal('45.67844')) + Decimal('0.0004'))\n",
    "print(Decimal('1234.567') + (Decimal('45.67844') + Decimal('0.0004')))\n",
    "\n",
    "print(0.2 == (1.0 - 0.8))\n",
    "print(Decimal('0.2') == (Decimal('1.0') - Decimal('0.8')))"
   ]
  },
  {
   "cell_type": "code",
   "execution_count": null,
   "metadata": {},
   "outputs": [],
   "source": [
    "import random\n",
    "i = input()\n",
    "x = i.split(\" \")\n",
    "lotto = list(map(lambda e : int(e), x))\n",
    "lotto.sort()\n",
    "print(lotto)\n",
    "cnt = 0\n",
    "while True:\n",
    "    cnt += 1\n",
    "    li = random.sample(range(1, 46), 6)\n",
    "    li.sort()\n",
    "    if li == lotto:\n",
    "        print(cnt)\n",
    "        break"
   ]
  },
  {
   "cell_type": "code",
   "execution_count": 56,
   "metadata": {},
   "outputs": [
    {
     "name": "stdout",
     "output_type": "stream",
     "text": [
      "오미크론\n",
      "다크스펙터\n",
      "다크스펙터\n",
      "오미크론\n",
      "오미크론\n",
      "라투\n",
      "오미크론\n",
      "오미크론\n",
      "오미크론\n",
      "오미크론\n"
     ]
    }
   ],
   "source": [
    "import time\n",
    "li = ['오미크론','다크스펙터','라투']\n",
    "for i in range(10):\n",
    "    time.sleep(1)\n",
    "    print(li[random.randint(0,len(li)-1)])"
   ]
  },
  {
   "cell_type": "code",
   "execution_count": null,
   "metadata": {},
   "outputs": [],
   "source": []
  }
 ],
 "metadata": {
  "kernelspec": {
   "display_name": "base",
   "language": "python",
   "name": "python3"
  },
  "language_info": {
   "codemirror_mode": {
    "name": "ipython",
    "version": 3
   },
   "file_extension": ".py",
   "mimetype": "text/x-python",
   "name": "python",
   "nbconvert_exporter": "python",
   "pygments_lexer": "ipython3",
   "version": "3.10.9"
  },
  "orig_nbformat": 4
 },
 "nbformat": 4,
 "nbformat_minor": 2
}
