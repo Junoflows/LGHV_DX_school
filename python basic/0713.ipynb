{
 "cells": [
  {
   "cell_type": "markdown",
   "metadata": {},
   "source": [
    "### Sequential type"
   ]
  },
  {
   "cell_type": "code",
   "execution_count": 4,
   "metadata": {},
   "outputs": [
    {
     "data": {
      "text/plain": [
       "'ohnujgnos'"
      ]
     },
     "execution_count": 4,
     "metadata": {},
     "output_type": "execute_result"
    }
   ],
   "source": [
    "msg = 'songjunho'\n",
    "msg[::]\n",
    "msg[0::2]\n",
    "msg[:-1:]\n",
    "msg[::-1]"
   ]
  },
  {
   "cell_type": "code",
   "execution_count": 6,
   "metadata": {},
   "outputs": [
    {
     "ename": "TypeError",
     "evalue": "'str' object does not support item assignment",
     "output_type": "error",
     "traceback": [
      "\u001b[1;31m---------------------------------------------------------------------------\u001b[0m",
      "\u001b[1;31mTypeError\u001b[0m                                 Traceback (most recent call last)",
      "Cell \u001b[1;32mIn[6], line 2\u001b[0m\n\u001b[0;32m      1\u001b[0m country \u001b[39m=\u001b[39m \u001b[39m'\u001b[39m\u001b[39mkorea\u001b[39m\u001b[39m'\u001b[39m\n\u001b[1;32m----> 2\u001b[0m country[\u001b[39m0\u001b[39m] \u001b[39m=\u001b[39m \u001b[39m'\u001b[39m\u001b[39mc\u001b[39m\u001b[39m'\u001b[39m\n",
      "\u001b[1;31mTypeError\u001b[0m: 'str' object does not support item assignment"
     ]
    }
   ],
   "source": [
    "country = 'korea'\n",
    "country[0] = 'c'"
   ]
  },
  {
   "cell_type": "code",
   "execution_count": 8,
   "metadata": {},
   "outputs": [
    {
     "name": "stdout",
     "output_type": "stream",
     "text": [
      "a = 10\n",
      "a = 10\n"
     ]
    }
   ],
   "source": [
    "a = 10\n",
    "# a = 10 형태의 문자열 만들기\n",
    "\n",
    "s = \"a = \" + str(a)\n",
    "t = 'a = %d'%(a)\n",
    "print(s + '\\n' + t)"
   ]
  },
  {
   "cell_type": "code",
   "execution_count": 11,
   "metadata": {},
   "outputs": [
    {
     "data": {
      "text/plain": [
       "'a = 10'"
      ]
     },
     "execution_count": 11,
     "metadata": {},
     "output_type": "execute_result"
    }
   ],
   "source": [
    "s = f\"a = {a:d}\"\n",
    "s\n"
   ]
  },
  {
   "cell_type": "code",
   "execution_count": 27,
   "metadata": {},
   "outputs": [
    {
     "name": "stdout",
     "output_type": "stream",
     "text": [
      "Help on method_descriptor:\n",
      "\n",
      "find(...)\n",
      "    S.find(sub[, start[, end]]) -> int\n",
      "    \n",
      "    Return the lowest index in S where substring sub is found,\n",
      "    such that sub is contained within S[start:end].  Optional\n",
      "    arguments start and end are interpreted as in slice notation.\n",
      "    \n",
      "    Return -1 on failure.\n",
      "\n"
     ]
    }
   ],
   "source": [
    "help(str.find)"
   ]
  },
  {
   "cell_type": "code",
   "execution_count": 38,
   "metadata": {},
   "outputs": [
    {
     "data": {
      "text/plain": [
       "4"
      ]
     },
     "execution_count": 38,
     "metadata": {},
     "output_type": "execute_result"
    }
   ],
   "source": [
    "country = 'united states'\n",
    "country.find(\"e\")"
   ]
  },
  {
   "cell_type": "code",
   "execution_count": 55,
   "metadata": {},
   "outputs": [
    {
     "data": {
      "text/plain": [
       "[9, 16, 25, 37]"
      ]
     },
     "execution_count": 55,
     "metadata": {},
     "output_type": "execute_result"
    }
   ],
   "source": [
    "# 위 문자열의 GCCG 의 위치를 전부 출력\n",
    "# 한 번 포함되면 포함된 문자는 빼고 찾아야 함\n",
    "\n",
    "problem = 'GFDEDCSWEGCCGSDWGCCGEWRDGGCCGCCGEREQEGCCGAA'\n",
    "str = 'GCCG'\n",
    "tmp = 0\n",
    "li = []\n",
    "while True :     \n",
    "    idx = problem.find('GCCG')\n",
    "    if idx < 0:\n",
    "        break\n",
    "    problem = problem[idx+4:]\n",
    "    li.append(tmp + idx)\n",
    "    tmp = tmp + idx + 4\n",
    "    \n",
    "\n",
    "li"
   ]
  },
  {
   "cell_type": "markdown",
   "metadata": {},
   "source": [
    "문자열 인코딩"
   ]
  },
  {
   "cell_type": "code",
   "execution_count": 6,
   "metadata": {},
   "outputs": [
    {
     "name": "stdout",
     "output_type": "stream",
     "text": [
      "utf-8\n",
      "UTF-8\n",
      "b'\\xed\\x95\\x9c\\xea\\xb8\\x80'\n",
      "한글\n",
      "97 54620\n"
     ]
    }
   ],
   "source": [
    "import sys\n",
    "# 현재 시스템의 인코딩 확인\n",
    "print(sys.stdin.encoding)\n",
    "print(sys.stdout.encoding)\n",
    "\n",
    "# 문자열을 바이트 코드로 변환\n",
    "print('한글'.encode())\n",
    "print('한글'.encode().decode())\n",
    "print(ord('a'), ord('한'))\n"
   ]
  },
  {
   "cell_type": "markdown",
   "metadata": {},
   "source": [
    "정규표현식"
   ]
  },
  {
   "cell_type": "code",
   "execution_count": 32,
   "metadata": {},
   "outputs": [
    {
     "data": {
      "text/plain": [
       "'apple,samgsung,google,kakao'"
      ]
     },
     "execution_count": 32,
     "metadata": {},
     "output_type": "execute_result"
    }
   ],
   "source": [
    "import re\n",
    "# : 이나 | 를 , 로 치환\n",
    "teststr = \"apple:samgsung google|kakao\"\n",
    "result = re.sub(\"[:,|,' ']\", \",\" , teststr)\n",
    "result"
   ]
  },
  {
   "cell_type": "code",
   "execution_count": 39,
   "metadata": {},
   "outputs": [
    {
     "name": "stdout",
     "output_type": "stream",
     "text": [
      "True\n",
      "True\n",
      "True\n",
      "True\n"
     ]
    }
   ],
   "source": [
    "# email 이 유효한 이메일 인지 검사\n",
    "p = re.compile('^[a-zA-Z0-9+-\\_.]+@[a-zA-Z0-9-]+\\.[a-zA-Z0-9-.]+$')\n",
    "emails = [\"1999junho@naver.com\", '1999junho@gmail.com', \"@songjunho@kakao.com\", 'junhosong@daum.com']\n",
    "\n",
    "for email in emails:\n",
    "    print(p.match(email) != None)"
   ]
  },
  {
   "cell_type": "markdown",
   "metadata": {},
   "source": [
    "list"
   ]
  },
  {
   "cell_type": "code",
   "execution_count": 3,
   "metadata": {},
   "outputs": [
    {
     "name": "stdout",
     "output_type": "stream",
     "text": [
      "songjunho\n",
      "['songjunho', 'songjungeol']\n",
      "['songjunho', 'songjungeol', '김정은', '루시안']\n",
      "songjunho\n",
      "songjungeol\n",
      "김정은\n",
      "루시안\n"
     ]
    }
   ],
   "source": [
    "li1 = ['songjunho','songjungeol','김정은','김정현']\n",
    "li2 = list(range(10))\n",
    "\n",
    "# 데이터 추가\n",
    "li1.append('루시안')\n",
    "\n",
    "# 데이터 1개 출력\n",
    "print(li1[0])\n",
    "\n",
    "# slicing\n",
    "print(li1[0:2])\n",
    "\n",
    "# 데이터 삭제\n",
    "del li1[3]\n",
    "\n",
    "print(li1)\n",
    "\n",
    "# 데이터 순회\n",
    "for project in li1:\n",
    "    print(project)\n",
    "\n"
   ]
  },
  {
   "cell_type": "code",
   "execution_count": 12,
   "metadata": {},
   "outputs": [
    {
     "name": "stdout",
     "output_type": "stream",
     "text": [
      "['baseball', 'queue', 'soccer', 'stack']\n",
      "['stack', 'soccer', 'queue', 'baseball']\n",
      "['baseball', 'queue', 'soccer', 'stack']\n"
     ]
    }
   ],
   "source": [
    "li1 = ['soccer','baseball','stack','queue']\n",
    "li1.sort()\n",
    "print(li1)\n",
    "li1.sort(reverse=True)\n",
    "print(li1)\n",
    "\n",
    "result = sorted(li1) # sorted 는 정렬한 결과를 리턴\n",
    "\n",
    "# 영문 대소문자 구분없이 정렬\n",
    "li1.sort(key = str.lower)\n",
    "print(li1)"
   ]
  },
  {
   "cell_type": "markdown",
   "metadata": {},
   "source": [
    "tuple"
   ]
  },
  {
   "cell_type": "code",
   "execution_count": 20,
   "metadata": {},
   "outputs": [
    {
     "name": "stdout",
     "output_type": "stream",
     "text": [
      "('junho', 'student', 'lol')\n",
      "junho\n",
      "junho\n",
      "['junho', 'student']\n",
      "20 10\n"
     ]
    }
   ],
   "source": [
    "record = ('junho','student', 'lol')\n",
    "print(record)\n",
    "print(record[0]) # 인덱싱 가능\n",
    "# record[1] = 'teacher' # 수정 불가\n",
    "\n",
    "# list, tuple은 unpacking 가능\n",
    "name, job , hobby = record\n",
    "print(name)\n",
    "\n",
    "*etc, job = record # *을 이용하면 나머지 모두를 list로 생성\n",
    "print(etc)\n",
    "\n",
    "# swap\n",
    "a = 10\n",
    "b = 20\n",
    "a, b = b, a\n",
    "print(a,b)"
   ]
  },
  {
   "cell_type": "code",
   "execution_count": 39,
   "metadata": {},
   "outputs": [
    {
     "name": "stdout",
     "output_type": "stream",
     "text": [
      "junho\n",
      "jungeol\n"
     ]
    },
    {
     "ename": "TypeError",
     "evalue": "Person.__new__() takes 2 positional arguments but 3 were given",
     "output_type": "error",
     "traceback": [
      "\u001b[1;31m---------------------------------------------------------------------------\u001b[0m",
      "\u001b[1;31mTypeError\u001b[0m                                 Traceback (most recent call last)",
      "Cell \u001b[1;32mIn[39], line 12\u001b[0m\n\u001b[0;32m     10\u001b[0m \u001b[39m# 자료구조 생성 - 튜플의 각 열 이름 만들기\u001b[39;00m\n\u001b[0;32m     11\u001b[0m Person \u001b[39m=\u001b[39m namedtuple(\u001b[39m'\u001b[39m\u001b[39mPerson\u001b[39m\u001b[39m'\u001b[39m, \u001b[39m'\u001b[39m\u001b[39mphonenum\u001b[39m\u001b[39m'\u001b[39m)\n\u001b[1;32m---> 12\u001b[0m persons \u001b[39m=\u001b[39m [Person(\u001b[39m'\u001b[39;49m\u001b[39mjunho\u001b[39;49m\u001b[39m'\u001b[39;49m, \u001b[39m'\u001b[39;49m\u001b[39m7557\u001b[39;49m\u001b[39m'\u001b[39;49m), Person(\u001b[39m'\u001b[39m\u001b[39mjungeol\u001b[39m\u001b[39m'\u001b[39m,\u001b[39m'\u001b[39m\u001b[39m7667\u001b[39m\u001b[39m'\u001b[39m)]\n\u001b[0;32m     13\u001b[0m persons\n",
      "\u001b[1;31mTypeError\u001b[0m: Person.__new__() takes 2 positional arguments but 3 were given"
     ]
    }
   ],
   "source": [
    "# 테이블 구조의 데이터를 생성\n",
    "data = [('junho','7557'), ('jungeol','7667')]\n",
    "\n",
    "# 이름만 출력\n",
    "for row in data:\n",
    "    print(row[0])\n",
    "\n",
    "# 컬럼에 이름을 사용하는 튜플\n",
    "from collections import namedtuple\n",
    "# 자료구조 생성 - 튜플의 각 열 이름 만들기\n",
    "Person = namedtuple('Person', 'phonenum')\n",
    "persons = [Person('junho', '7557'), Person('jungeol','7667')]\n",
    "persons\n",
    "# for person in persons:\n",
    "#     print(person.phonenum)"
   ]
  },
  {
   "cell_type": "markdown",
   "metadata": {},
   "source": [
    "set"
   ]
  },
  {
   "cell_type": "code",
   "execution_count": 32,
   "metadata": {},
   "outputs": [
    {
     "name": "stdout",
     "output_type": "stream",
     "text": [
      "{'exodus', 'adam', 'genesis'}\n"
     ]
    }
   ],
   "source": [
    "# 출력 순서는 순서대로가 아닐 수 있음\n",
    "s = {'adam','genesis','exodus','genesis'}\n",
    "print(s)"
   ]
  },
  {
   "cell_type": "code",
   "execution_count": 34,
   "metadata": {},
   "outputs": [
    {
     "name": "stdout",
     "output_type": "stream",
     "text": [
      "numbers\n",
      "exodus\n",
      "adam\n",
      "genesis\n"
     ]
    }
   ],
   "source": [
    "s.add('numbers')\n",
    "for d in s:\n",
    "    print(d)"
   ]
  },
  {
   "cell_type": "markdown",
   "metadata": {},
   "source": [
    "dict"
   ]
  },
  {
   "cell_type": "code",
   "execution_count": 52,
   "metadata": {},
   "outputs": [
    {
     "name": "stdout",
     "output_type": "stream",
     "text": [
      "{'name': 'songjunho', 'job': 'student', 'age': 25}\n",
      "songjunho\n",
      "songjunho\n",
      "noschool\n",
      "name songjunho\n",
      "job student\n",
      "age 25\n",
      "name songjunho\n",
      "job student\n",
      "age 25\n"
     ]
    }
   ],
   "source": [
    "dic = {}\n",
    "dic['name'] = 'junho'\n",
    "dic['job'] = 'student'\n",
    "dic['age'] = 25\n",
    "dic['name'] = 'songjunho'\n",
    "\n",
    "print(dic)\n",
    "print(dic['name'])\n",
    "print(dic.get('name', 'noname'))\n",
    "# print(dic['school']) # 존재하지 않는 key 사용하면 key error\n",
    "print(dic.get('school', 'noschool')) # 존재하지 않는 key 사용하면 두 번째 매개변수 리턴\n",
    "for key in dic:\n",
    "    print(key, dic[key])\n",
    "\n",
    "for key, value in dic.items():\n",
    "    print(key, value)"
   ]
  },
  {
   "cell_type": "code",
   "execution_count": 58,
   "metadata": {},
   "outputs": [
    {
     "name": "stdout",
     "output_type": "stream",
     "text": [
      "junho 010\n",
      "jungeol 011\n",
      "name junho\n",
      "tel 010\n",
      "name jungeol\n",
      "tel 011\n"
     ]
    }
   ],
   "source": [
    "# dict를 이용한 MVC\n",
    "# DTO 역할을 수행하는 클래스 생성 - 최근에는 더 권장\n",
    "\n",
    "class DTO:\n",
    "    def __init__(self, name = 'noname', tel = 'notel'):\n",
    "        self.name = name\n",
    "        self.tel = tel\n",
    "\n",
    "# 데이터 목록 생성\n",
    "data = [DTO('junho','010'), DTO('jungeol','011')]\n",
    "\n",
    "# 이름과 전화번소 생성\n",
    "for datum in data:\n",
    "    print(datum.name, datum.tel)\n",
    "\n",
    "\n",
    "data = [{'name':'junho','tel':'010'},{'name':'jungeol','tel':'011'}]\n",
    "# 이름과 전화번소 생성\n",
    "for datum in data:\n",
    "    for key in datum:\n",
    "        print(key, datum[key])"
   ]
  },
  {
   "cell_type": "code",
   "execution_count": 65,
   "metadata": {},
   "outputs": [
    {
     "name": "stdout",
     "output_type": "stream",
     "text": [
      "kia\t윤영철\t최형우\t\n",
      "lg\t켈리\t플럿코\t\n"
     ]
    }
   ],
   "source": [
    "# 이차원 배열 대신에 dict 사용\n",
    "kia = ['윤영철','최형우']\n",
    "lg = ['켈리','플럿코']\n",
    "kbo = [kia, lg] # list의 list\n",
    "# list는 index를 이용해 접근하고 dict 는 key를 사용해 접근\n",
    "# enumerate 는 index와 data를 튜플로 리턴\n",
    "# 이 경우 새로운 팀이 추가됐을 때 반복문 코드를 수정해야함\n",
    "for idx, baseball in enumerate(kbo):\n",
    "    if idx == 0:\n",
    "        print('kia', end = '\\t')\n",
    "    else:\n",
    "        print('lg', end = '\\t')\n",
    "\n",
    "    for player in baseball:\n",
    "        print(player, end = '\\t')\n",
    "    print()\n",
    "\n",
    "# dict 로 만들게 되면 그 문제 해결가능\n",
    "kia = ['윤영철','최형우']\n",
    "lg = ['켈리','플럿코']\n",
    "hanhwa = ['노시환']\n",
    "\n",
    "kbo = [{'team' : \"기아\", \"data\" : kia}, {'team' : \"엘지\", \"data\" : lg},{'team' : \"한화\", \"data\" : hanhwa}]\n",
    "\n",
    "for dic in kbo:\n",
    "    print(dic['team'], end = ': ')\n",
    "    for player in dic['data']:\n",
    "        print(player, end = '\\t')\n",
    "    print()\n"
   ]
  },
  {
   "cell_type": "markdown",
   "metadata": {},
   "source": [
    "list comprehension"
   ]
  },
  {
   "cell_type": "code",
   "execution_count": 25,
   "metadata": {},
   "outputs": [
    {
     "name": "stdout",
     "output_type": "stream",
     "text": [
      "[0, 1, 4, 9, 16, 25, 36, 49, 64, 81]\n",
      "[0, 1, 4, 9, 16, 25, 36, 49, 64, 81]\n",
      "[0, 1, 4, 9, 16, 25, 36, 49, 64, 81]\n",
      "[4, 5, 6, 7, 8, 10, 12, 14, 12, 15, 18, 21]\n",
      "['아이유', '새벽공방']\n",
      "['아이유', '새벽공방']\n",
      "['아이유']\n",
      "['아이유']\n",
      "['태연_', '수지_', '아이유', '새벽공방']\n"
     ]
    }
   ],
   "source": [
    "li = list(range(10)) # 0 ~ 9 까지의 숫자로 list 생성\n",
    "# li 모든 데이터를 제곱한 list 생성\n",
    "\n",
    "# 반복문 이용\n",
    "result = []\n",
    "for i in li:\n",
    "    result.append(i*i)\n",
    "print(result)\n",
    "\n",
    "# map 함수 이용\n",
    "li_2 = list(map(lambda x : x ** 2, li))\n",
    "print(li_2)\n",
    "\n",
    "# list comprehension 이용\n",
    "# [연산식 순회할문장]\n",
    "result = [i*i for i in li]\n",
    "print(result)\n",
    "\n",
    "# for 2개 사용\n",
    "li1 = [1, 2, 3]\n",
    "li2 = [4, 5, 6, 7]\n",
    "result = [x * y for x in li1 for y in li2]\n",
    "print(result)\n",
    "\n",
    "# for와 if 사용 가능 - filtering\n",
    "singers = ['태연','수지','아이유','새벽공방']\n",
    "\n",
    "# 글자 수가 3 이상인 데이터 추출\n",
    "result = list(filter(lambda x : len(x) >= 3, singers))\n",
    "print(result)\n",
    "result = [x for x in singers if len(x) >= 3]\n",
    "print(result)\n",
    "result = [x for x in singers if len(x) >= 3 and len(x) < 4]\n",
    "print(result)\n",
    "result = [x for x in singers if len(x) >= 3 if len(x) < 4]\n",
    "print(result)\n",
    "\n",
    "# if ~ else for 활용\n",
    "# 3글자 이상은 그대로 나머지는 _ 추가\n",
    "result = [x if len(x) >= 3 else x + '_' for x in singers]\n",
    "print(result)"
   ]
  },
  {
   "cell_type": "markdown",
   "metadata": {},
   "source": [
    "## 코테에 필요한 모듈"
   ]
  },
  {
   "cell_type": "markdown",
   "metadata": {},
   "source": [
    "counter"
   ]
  },
  {
   "cell_type": "code",
   "execution_count": 35,
   "metadata": {},
   "outputs": [
    {
     "name": "stdout",
     "output_type": "stream",
     "text": [
      "{'한식': 2, '중식': 1, '분식': 1, '일식': 2, '양식': 1}\n",
      "2\n",
      "[('한식', 2), ('일식', 2)]\n"
     ]
    }
   ],
   "source": [
    "from collections import Counter\n",
    "data = ['한식','중식','분식','한식','일식','일식','양식']\n",
    "counter = Counter(data)\n",
    "\n",
    "#dict로 변환해서 전체 데이터의 개수 파악\n",
    "print(dict(counter))\n",
    "\n",
    "# 한가지 데이터 파악\n",
    "print(counter['한식'])\n",
    "\n",
    "# 상위 2개만 추출\n",
    "print(counter.most_common(2))"
   ]
  },
  {
   "cell_type": "code",
   "execution_count": 37,
   "metadata": {},
   "outputs": [
    {
     "name": "stdout",
     "output_type": "stream",
     "text": [
      "Counter({'orange': 8, 'apple': 5, 'mango': 3})\n",
      "Counter({'orange': 10, 'apple': 7, 'mango': 4})\n"
     ]
    }
   ],
   "source": [
    "# 튜플 목록\n",
    "data = [('apple',3),('apple', 2), (\"orange\",3), ('mango', 3), ('orange', 5)]\n",
    "counter = Counter()\n",
    "\n",
    "# 데이터의 합계를 구해보기\n",
    "for name, count in data:\n",
    "    counter[name] += count\n",
    "print(counter)\n",
    "\n",
    "# 데이터가 등장한 횟수\n",
    "for name, count in data:\n",
    "    counter[name] += 1\n",
    "print(counter)\n"
   ]
  },
  {
   "cell_type": "markdown",
   "metadata": {},
   "source": [
    "예외처리"
   ]
  },
  {
   "cell_type": "code",
   "execution_count": 40,
   "metadata": {},
   "outputs": [
    {
     "name": "stdout",
     "output_type": "stream",
     "text": [
      "0.5\n"
     ]
    },
    {
     "ename": "ZeroDivisionError",
     "evalue": "division by zero",
     "output_type": "error",
     "traceback": [
      "\u001b[1;31m---------------------------------------------------------------------------\u001b[0m",
      "\u001b[1;31mZeroDivisionError\u001b[0m                         Traceback (most recent call last)",
      "Cell \u001b[1;32mIn[40], line 6\u001b[0m\n\u001b[0;32m      3\u001b[0m     \u001b[39mreturn\u001b[39;00m \u001b[39m10\u001b[39m \u001b[39m/\u001b[39m x \n\u001b[0;32m      5\u001b[0m \u001b[39mprint\u001b[39m(div(\u001b[39m20\u001b[39m))\n\u001b[1;32m----> 6\u001b[0m \u001b[39mprint\u001b[39m(div(\u001b[39m0\u001b[39;49m))\n\u001b[0;32m      7\u001b[0m \u001b[39mprint\u001b[39m(\u001b[39m'\u001b[39m\u001b[39m프로그램 종료\u001b[39m\u001b[39m'\u001b[39m)\n",
      "Cell \u001b[1;32mIn[40], line 3\u001b[0m, in \u001b[0;36mdiv\u001b[1;34m(x)\u001b[0m\n\u001b[0;32m      2\u001b[0m \u001b[39mdef\u001b[39;00m \u001b[39mdiv\u001b[39m(x):\n\u001b[1;32m----> 3\u001b[0m     \u001b[39mreturn\u001b[39;00m \u001b[39m10\u001b[39;49m \u001b[39m/\u001b[39;49m x\n",
      "\u001b[1;31mZeroDivisionError\u001b[0m: division by zero"
     ]
    }
   ],
   "source": [
    "def div(x):\n",
    "    return 10 / x \n",
    "\n",
    "print(div(20))\n",
    "print(div(0))\n",
    "print('프로그램 종료')"
   ]
  },
  {
   "cell_type": "code",
   "execution_count": 41,
   "metadata": {},
   "outputs": [
    {
     "name": "stdout",
     "output_type": "stream",
     "text": [
      "0.5\n",
      "예외 발생\n",
      "프로그램 종료\n"
     ]
    }
   ],
   "source": [
    "# 예외가 발생해도 프로그램이 종료되지 않음\n",
    "def div(x):\n",
    "    return 10 / x \n",
    "try:\n",
    "    print(div(20))\n",
    "    print(div(0))\n",
    "except:\n",
    "    # 예외가 발생했을 때 수행되는 구문\n",
    "    print('예외 발생')\n",
    "print('프로그램 종료')"
   ]
  }
 ],
 "metadata": {
  "kernelspec": {
   "display_name": "base",
   "language": "python",
   "name": "python3"
  },
  "language_info": {
   "codemirror_mode": {
    "name": "ipython",
    "version": 3
   },
   "file_extension": ".py",
   "mimetype": "text/x-python",
   "name": "python",
   "nbconvert_exporter": "python",
   "pygments_lexer": "ipython3",
   "version": "3.10.9"
  },
  "orig_nbformat": 4
 },
 "nbformat": 4,
 "nbformat_minor": 2
}
