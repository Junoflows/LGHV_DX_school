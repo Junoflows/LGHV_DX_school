{
 "cells": [
  {
   "attachments": {},
   "cell_type": "markdown",
   "metadata": {},
   "source": [
    "## 파이선 기초1"
   ]
  },
  {
   "attachments": {},
   "cell_type": "markdown",
   "metadata": {},
   "source": [
    "### document 관련 명령어"
   ]
  },
  {
   "cell_type": "code",
   "execution_count": 3,
   "metadata": {},
   "outputs": [
    {
     "name": "stdout",
     "output_type": "stream",
     "text": [
      "['__add__', '__class__', '__contains__', '__delattr__', '__dir__', '__doc__', '__eq__', '__format__', '__ge__', '__getattribute__', '__getitem__', '__getnewargs__', '__gt__', '__hash__', '__init__', '__init_subclass__', '__iter__', '__le__', '__len__', '__lt__', '__mod__', '__mul__', '__ne__', '__new__', '__reduce__', '__reduce_ex__', '__repr__', '__rmod__', '__rmul__', '__setattr__', '__sizeof__', '__str__', '__subclasshook__', 'capitalize', 'casefold', 'center', 'count', 'encode', 'endswith', 'expandtabs', 'find', 'format', 'format_map', 'index', 'isalnum', 'isalpha', 'isascii', 'isdecimal', 'isdigit', 'isidentifier', 'islower', 'isnumeric', 'isprintable', 'isspace', 'istitle', 'isupper', 'join', 'ljust', 'lower', 'lstrip', 'maketrans', 'partition', 'removeprefix', 'removesuffix', 'replace', 'rfind', 'rindex', 'rjust', 'rpartition', 'rsplit', 'rstrip', 'split', 'splitlines', 'startswith', 'strip', 'swapcase', 'title', 'translate', 'upper', 'zfill']\n"
     ]
    }
   ],
   "source": [
    "# dir(데이터) : 데이터가 호출가능한 속성과 메서드릴 리턴\n",
    "data = 'songjunho'\n",
    "print(dir(data))"
   ]
  },
  {
   "cell_type": "code",
   "execution_count": 5,
   "metadata": {},
   "outputs": [
    {
     "name": "stdout",
     "output_type": "stream",
     "text": [
      "Help on built-in function sum in module builtins:\n",
      "\n",
      "sum(iterable, /, start=0)\n",
      "    Return the sum of a 'start' value (default: 0) plus an iterable of numbers\n",
      "    \n",
      "    When the iterable is empty, return the start value.\n",
      "    This function is intended specifically for use with numeric values and may\n",
      "    reject non-numeric types.\n",
      "\n"
     ]
    }
   ],
   "source": [
    "# help(함수나 메서드) : 함수나 메서드의 도움말을 출력\n",
    "help(sum)"
   ]
  },
  {
   "attachments": {},
   "cell_type": "markdown",
   "metadata": {},
   "source": [
    "### keyword(예약어)"
   ]
  },
  {
   "cell_type": "code",
   "execution_count": 7,
   "metadata": {},
   "outputs": [
    {
     "name": "stdout",
     "output_type": "stream",
     "text": [
      "['False', 'None', 'True', 'and', 'as', 'assert', 'async', 'await', 'break', 'class', 'continue', 'def', 'del', 'elif', 'else', 'except', 'finally', 'for', 'from', 'global', 'if', 'import', 'in', 'is', 'lambda', 'nonlocal', 'not', 'or', 'pass', 'raise', 'return', 'try', 'while', 'with', 'yield']\n"
     ]
    }
   ],
   "source": [
    "import keyword\n",
    "print(keyword.kwlist) "
   ]
  },
  {
   "cell_type": "code",
   "execution_count": 9,
   "metadata": {},
   "outputs": [
    {
     "data": {
      "text/plain": [
       "['c:\\\\Users\\\\USER\\\\Documents\\\\Song\\\\DX school\\\\python',\n",
       " 'c:\\\\Users\\\\USER\\\\anaconda3\\\\python310.zip',\n",
       " 'c:\\\\Users\\\\USER\\\\anaconda3\\\\DLLs',\n",
       " 'c:\\\\Users\\\\USER\\\\anaconda3\\\\lib',\n",
       " 'c:\\\\Users\\\\USER\\\\anaconda3',\n",
       " '',\n",
       " 'c:\\\\Users\\\\USER\\\\anaconda3\\\\lib\\\\site-packages',\n",
       " 'c:\\\\Users\\\\USER\\\\anaconda3\\\\lib\\\\site-packages\\\\win32',\n",
       " 'c:\\\\Users\\\\USER\\\\anaconda3\\\\lib\\\\site-packages\\\\win32\\\\lib',\n",
       " 'c:\\\\Users\\\\USER\\\\anaconda3\\\\lib\\\\site-packages\\\\Pythonwin']"
      ]
     },
     "execution_count": 9,
     "metadata": {},
     "output_type": "execute_result"
    }
   ],
   "source": [
    "import sys\n",
    "sys.path"
   ]
  },
  {
   "attachments": {},
   "cell_type": "markdown",
   "metadata": {},
   "source": [
    "### 문자열 곱셈"
   ]
  },
  {
   "cell_type": "code",
   "execution_count": 10,
   "metadata": {},
   "outputs": [
    {
     "name": "stdout",
     "output_type": "stream",
     "text": [
      "[1, 2, 3, 1, 2, 3, 1, 2, 3, 1, 2, 3]\n",
      "[3 6 9]\n"
     ]
    }
   ],
   "source": [
    "print( [1,2,3] * 4)\n",
    "import numpy as np\n",
    "list = np.array([1,2,3])\n",
    "print(list * 3)"
   ]
  },
  {
   "attachments": {},
   "cell_type": "markdown",
   "metadata": {},
   "source": [
    "### 연산자"
   ]
  },
  {
   "cell_type": "code",
   "execution_count": 7,
   "metadata": {},
   "outputs": [
    {
     "name": "stdout",
     "output_type": "stream",
     "text": [
      "16\n",
      "29\n",
      "13\n",
      "-22\n",
      "88\n",
      "1\n"
     ]
    }
   ],
   "source": [
    "print(28 & 17) # 11100  10001 10000 16\n",
    "print(28 | 17) # 11101  29\n",
    "print(28 ^ 17) # 01101  13\n",
    "print(~21) # 10101  01010   10\n",
    "print(11 << 3) # 1011   88\n",
    "print(11 >> 3) #    1"
   ]
  },
  {
   "attachments": {},
   "cell_type": "markdown",
   "metadata": {},
   "source": [
    "### 반복문 연산에 대해(효율성)"
   ]
  },
  {
   "cell_type": "code",
   "execution_count": 8,
   "metadata": {},
   "outputs": [
    {
     "name": "stdout",
     "output_type": "stream",
     "text": [
      "12의 배수의 개수  8\n",
      "조건확인 개수  133\n"
     ]
    }
   ],
   "source": [
    "cnt = 0\n",
    "loop = 0\n",
    "for idx in range(1,101):\n",
    "    loop = loop + 1\n",
    "    if idx % 3 == 0:\n",
    "        loop = loop + 1\n",
    "        if idx % 4 == 0:\n",
    "            cnt = cnt + 1\n",
    "print('12의 배수의 개수 ', cnt)\n",
    "print('조건확인 개수 ', loop)"
   ]
  },
  {
   "cell_type": "code",
   "execution_count": 9,
   "metadata": {},
   "outputs": [
    {
     "name": "stdout",
     "output_type": "stream",
     "text": [
      "12의 배수의 개수  8\n",
      "조건확인 개수  125\n"
     ]
    }
   ],
   "source": [
    "cnt = 0\n",
    "loop = 0\n",
    "for idx in range(1,101):\n",
    "    loop = loop + 1\n",
    "    if idx % 4 == 0:\n",
    "        loop = loop + 1\n",
    "        if idx % 3 == 0:\n",
    "            cnt = cnt + 1\n",
    "print('12의 배수의 개수 ', cnt)\n",
    "print('조건확인 개수 ', loop)"
   ]
  },
  {
   "attachments": {},
   "cell_type": "markdown",
   "metadata": {},
   "source": [
    "### 자료형 변환"
   ]
  },
  {
   "cell_type": "code",
   "execution_count": 52,
   "metadata": {},
   "outputs": [
    {
     "name": "stdout",
     "output_type": "stream",
     "text": [
      "20.1\n"
     ]
    }
   ],
   "source": [
    "# 명시적 변환\n",
    "x = 10\n",
    "y = 10.1\n",
    "print(x + y)"
   ]
  },
  {
   "cell_type": "code",
   "execution_count": 59,
   "metadata": {},
   "outputs": [
    {
     "name": "stdout",
     "output_type": "stream",
     "text": [
      "준호는 롤을 좋아한다.\n"
     ]
    }
   ],
   "source": [
    "name = '준호'\n",
    "hobby = '롤'\n",
    "print(f\"{name}는 {hobby}을 좋아한다.\") # 준호는 롤을 좋아한다."
   ]
  },
  {
   "attachments": {},
   "cell_type": "markdown",
   "metadata": {},
   "source": [
    "### 콘솔에서 입력"
   ]
  },
  {
   "attachments": {},
   "cell_type": "markdown",
   "metadata": {},
   "source": [
    "+ 잘못된 입력을 하면 에러가 나서 에러 이후에는 실행이 안되기 때문에 try except로 처리해주자"
   ]
  },
  {
   "cell_type": "code",
   "execution_count": 72,
   "metadata": {},
   "outputs": [
    {
     "name": "stdout",
     "output_type": "stream",
     "text": [
      "Error\n"
     ]
    }
   ],
   "source": [
    "try:\n",
    "    age = int(input(\"Enter your age: \"))\n",
    "    print(\"Your age is\", age)\n",
    "except ValueError:\n",
    "    print('Error')"
   ]
  },
  {
   "attachments": {},
   "cell_type": "markdown",
   "metadata": {},
   "source": [
    "### 연습문제"
   ]
  },
  {
   "attachments": {},
   "cell_type": "markdown",
   "metadata": {},
   "source": [
    "+ 윤년 계산하기"
   ]
  },
  {
   "cell_type": "code",
   "execution_count": null,
   "metadata": {},
   "outputs": [],
   "source": [
    "year = 2023\n",
    "# 윤년의 조건 - 둘 중 하나만 만족하면 윤년\n",
    "# 1. 4의 배수이고 100의 배수가 아닌 경우\n",
    "# 2. 400의 배수인 경우\n",
    "if (year % 4 == 0 and year % 100 != 0) or (year % 400 == 0):\n",
    "    print(year,\"는 윤년\")\n",
    "else :\n",
    "    print(year,\"는 윤년 아님\")"
   ]
  },
  {
   "attachments": {},
   "cell_type": "markdown",
   "metadata": {},
   "source": [
    "+ 평균구하기"
   ]
  },
  {
   "cell_type": "code",
   "execution_count": 77,
   "metadata": {},
   "outputs": [
    {
     "name": "stdout",
     "output_type": "stream",
     "text": [
      "25\n"
     ]
    }
   ],
   "source": [
    "scores = input(\"국어, 영어, 수학, 과학 점수를 입력하세요\").split()\n",
    "sum = 0\n",
    "for score in scores:\n",
    "    score = float(score)\n",
    "    sum += score\n",
    "average = int(sum / len(scores))\n",
    "print(average)\n",
    "    "
   ]
  },
  {
   "attachments": {},
   "cell_type": "markdown",
   "metadata": {},
   "source": [
    "+ 소음이 가장 심한 층수 출력하기"
   ]
  },
  {
   "cell_type": "code",
   "execution_count": 79,
   "metadata": {},
   "outputs": [
    {
     "name": "stdout",
     "output_type": "stream",
     "text": [
      "28\n"
     ]
    }
   ],
   "source": [
    "load_distance = input('도로와의 거리를 입력하세요(m): ')\n",
    "most_loud_floor = 0.2467 * float(load_distance) + 4.159\n",
    "print(int(most_loud_floor))"
   ]
  },
  {
   "attachments": {},
   "cell_type": "markdown",
   "metadata": {},
   "source": [
    "+ 스킬 공격력 출력"
   ]
  },
  {
   "cell_type": "code",
   "execution_count": 82,
   "metadata": {},
   "outputs": [
    {
     "name": "stdout",
     "output_type": "stream",
     "text": [
      "왜곡피해량 : 345.0\n"
     ]
    }
   ],
   "source": [
    "AP = float(input(\"주문력 입력: \"))\n",
    "왜곡피해량 = AP * 0.6 + 225\n",
    "print(\"왜곡피해량 :\" ,왜곡피해량)"
   ]
  },
  {
   "cell_type": "code",
   "execution_count": null,
   "metadata": {},
   "outputs": [],
   "source": []
  }
 ],
 "metadata": {
  "kernelspec": {
   "display_name": "base",
   "language": "python",
   "name": "python3"
  },
  "language_info": {
   "codemirror_mode": {
    "name": "ipython",
    "version": 3
   },
   "file_extension": ".py",
   "mimetype": "text/x-python",
   "name": "python",
   "nbconvert_exporter": "python",
   "pygments_lexer": "ipython3",
   "version": "3.10.9"
  },
  "orig_nbformat": 4
 },
 "nbformat": 4,
 "nbformat_minor": 2
}
