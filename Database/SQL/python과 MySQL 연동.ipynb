{
 "cells": [
  {
   "cell_type": "markdown",
   "metadata": {},
   "source": [
    "## python과 MySQL 연동"
   ]
  },
  {
   "cell_type": "code",
   "execution_count": 1,
   "metadata": {},
   "outputs": [
    {
     "name": "stdout",
     "output_type": "stream",
     "text": [
      "Collecting pyMySQL\n",
      "  Downloading PyMySQL-1.1.0-py3-none-any.whl (44 kB)\n",
      "     ---------------------------------------- 44.8/44.8 kB 2.2 MB/s eta 0:00:00\n",
      "Installing collected packages: pyMySQL\n",
      "Successfully installed pyMySQL-1.1.0\n",
      "Note: you may need to restart the kernel to use updated packages.\n"
     ]
    }
   ],
   "source": [
    "pip install pyMySQL"
   ]
  },
  {
   "cell_type": "code",
   "execution_count": 15,
   "metadata": {},
   "outputs": [],
   "source": [
    "import sys\n",
    "import pymysql"
   ]
  },
  {
   "cell_type": "code",
   "execution_count": 12,
   "metadata": {},
   "outputs": [
    {
     "name": "stdout",
     "output_type": "stream",
     "text": [
      "<pymysql.connections.Connection object at 0x000001CA595B2D40>\n"
     ]
    }
   ],
   "source": [
    "try :\n",
    "    con = pymysql.connect(host='localhost',port = 3306, db = 'junoflow',\n",
    "                        user = 'junoflow', passwd = 'math',charset = 'utf8')\n",
    "    print(con)\n",
    "except:\n",
    "    print('예외발생', sys.exc_info())\n",
    "finally:\n",
    "    if con != None:\n",
    "        con.close()"
   ]
  },
  {
   "cell_type": "markdown",
   "metadata": {},
   "source": [
    "데이터 입력"
   ]
  },
  {
   "cell_type": "code",
   "execution_count": 27,
   "metadata": {},
   "outputs": [],
   "source": [
    "try :\n",
    "    # 데이터베이스 연결 객체 생성\n",
    "    con = pymysql.connect(host='localhost',port = 3306, db = 'junoflow',\n",
    "                            user = 'junoflow', passwd = 'math',charset = 'utf8')\n",
    "    # SQL 실행 객체 생성\n",
    "    cursor = con.cursor()\n",
    "    # SQL 실행 - 값을 직접 SQL에 작성\n",
    "    cursor.execute(\"INSERT INTO DEPT VALUES(11,'비서','신안')\")\n",
    "    # SQL 실행 - SQL에 서식을 설정하고 파라미터를 대입하는 코드 작성\n",
    "    cursor.execute('INSERT INTO DEPT VALUES(%s, %s, %s)', (12, '기획','제주'))\n",
    "    \n",
    "    \n",
    "    # 원본에 반영\n",
    "    con.commit()\n",
    "except:\n",
    "    print('예외발생', sys.exc_info())\n",
    "finally:\n",
    "    if con != None:\n",
    "        con.close()\n"
   ]
  },
  {
   "cell_type": "markdown",
   "metadata": {},
   "source": [
    "데이터 수정"
   ]
  },
  {
   "cell_type": "code",
   "execution_count": 28,
   "metadata": {},
   "outputs": [],
   "source": [
    "try :\n",
    "    # 데이터베이스 연결 객체 생성\n",
    "    con = pymysql.connect(host='localhost',port = 3306, db = 'junoflow',\n",
    "                            user = 'junoflow', passwd = 'math',charset = 'utf8')\n",
    "    # SQL 실행 객체 생성\n",
    "    cursor = con.cursor()\n",
    "\n",
    "    # SQL 실행 - SQL에 서식을 설정하고 파라미터를 대입하는 코드 작성\n",
    "    # 12번 데이터의 부서를 영업 그리고 위치를 서초로 수정\n",
    "    cursor.execute(\"UPDATE DEPT SET DNAME = %s, LOC = %s WHERE DEPTNO = %s\", ('영업', '서초','12'))\n",
    "    \n",
    "    \n",
    "    # 원본에 반영\n",
    "    con.commit()\n",
    "except:\n",
    "    print('예외발생', sys.exc_info())\n",
    "finally:\n",
    "    if con != None:\n",
    "        con.close()"
   ]
  },
  {
   "cell_type": "markdown",
   "metadata": {},
   "source": [
    "데이터 삭제"
   ]
  },
  {
   "cell_type": "code",
   "execution_count": 29,
   "metadata": {},
   "outputs": [],
   "source": [
    "try :\n",
    "    # 데이터베이스 연결 객체 생성\n",
    "    con = pymysql.connect(host='localhost',port = 3306, db = 'junoflow',\n",
    "                            user = 'junoflow', passwd = 'math',charset = 'utf8')\n",
    "    # SQL 실행 객체 생성\n",
    "    cursor = con.cursor()\n",
    "\n",
    "    # SQL 실행 - SQL에 서식을 설정하고 파라미터를 대입하는 코드 작성\n",
    "    # DEPTNO = 12 인 데이터 삭제\n",
    "    cursor.execute(\"DELETE FROM DEPT WHERE DEPTNO = %s\", 12)\n",
    "    \n",
    "    # 원본에 반영\n",
    "    con.commit()\n",
    "except:\n",
    "    print('예외발생', sys.exc_info())\n",
    "finally:\n",
    "    if con != None:\n",
    "        con.close()"
   ]
  },
  {
   "cell_type": "markdown",
   "metadata": {},
   "source": [
    "데이터 1개 조회"
   ]
  },
  {
   "cell_type": "code",
   "execution_count": 32,
   "metadata": {},
   "outputs": [
    {
     "name": "stdout",
     "output_type": "stream",
     "text": [
      "10\n",
      "ACCOUNTING\n",
      "NEW YORK\n",
      "(10, 'ACCOUNTING', 'NEW YORK')\n"
     ]
    }
   ],
   "source": [
    "try :\n",
    "    # 데이터베이스 연결 객체 생성\n",
    "    con = pymysql.connect(host='localhost',port = 3306, db = 'junoflow',\n",
    "                            user = 'junoflow', passwd = 'math',charset = 'utf8')\n",
    "    # SQL 실행 객체 생성\n",
    "    cursor = con.cursor()\n",
    "\n",
    "    # SQL 실행 - SQL에 서식을 설정하고 파라미터를 대입하는 코드 작성\n",
    "    # 12번 데이터 조회\n",
    "    cursor.execute(\"select * FROM DEPT WHERE DEPTNO = %s\", (10))\n",
    "    \n",
    "    # 검색 결과 중 하나의 데이터를 읽어오는 것\n",
    "    # 검색된 결과가 없으면 None, 존재하면 Tuple\n",
    "    record = cursor.fetchone()\n",
    "    print(record)\n",
    "\n",
    "    if record == None:\n",
    "        print('검색된 데이터가 없음')\n",
    "    else:\n",
    "        for attr in record:\n",
    "            print(attr)\n",
    "\n",
    "except:\n",
    "    print('예외발생', sys.exc_info())\n",
    "finally:\n",
    "    if con != None:\n",
    "        con.close()"
   ]
  },
  {
   "cell_type": "markdown",
   "metadata": {},
   "source": [
    "데이터 여러 개 조회"
   ]
  },
  {
   "cell_type": "code",
   "execution_count": 35,
   "metadata": {},
   "outputs": [
    {
     "name": "stdout",
     "output_type": "stream",
     "text": [
      "((11, '비서', '신안'), (20, 'RESEARCH', 'DALLAS'), (30, 'SALES', 'CHICAGO'), (40, 'OPERATIONS', 'BOSTON'), (60, '회계', '서울'))\n",
      "(11, '비서', '신안')\n",
      "(20, 'RESEARCH', 'DALLAS')\n",
      "(30, 'SALES', 'CHICAGO')\n",
      "(40, 'OPERATIONS', 'BOSTON')\n",
      "(60, '회계', '서울')\n"
     ]
    }
   ],
   "source": [
    "try :\n",
    "    # 데이터베이스 연결 객체 생성\n",
    "    con = pymysql.connect(host='localhost',port = 3306, db = 'junoflow',\n",
    "                            user = 'junoflow', passwd = 'math',charset = 'utf8')\n",
    "    # SQL 실행 객체 생성\n",
    "    cursor = con.cursor()\n",
    "\n",
    "    # SQL 실행 - SQL에 서식을 설정하고 파라미터를 대입하는 코드 작성\n",
    "    # 10번 데이터 조회\n",
    "    cursor.execute(\"select * FROM DEPT WHERE DEPTNO > %s\", (10))\n",
    "    \n",
    "    # 검색 결과 전체 데이터를 읽어오는 것\n",
    "    # 여러 개의 데이터를 가져오는 경우는 데이터가 없는 경우\n",
    "    # 빈 튜플을 리턴\n",
    "\n",
    "    record = cursor.fetchall()\n",
    "    print(record)\n",
    "    # 여러 개를 리턴하는 함수를 호출해서 데이터가 없다는 사실을 확인하는 방법은\n",
    "    # 데이터의 개수가 0인지 확인해야 함\n",
    "\n",
    "    if len(record) == 0:\n",
    "        print('검색된 데이터가 없음')\n",
    "    else:\n",
    "        for attr in record:\n",
    "            print(attr)\n",
    "\n",
    "except:\n",
    "    print('예외발생', sys.exc_info())\n",
    "finally:\n",
    "    if con != None:\n",
    "        con.close()"
   ]
  },
  {
   "cell_type": "markdown",
   "metadata": {},
   "source": [
    "데이터베이스에 파일을 저장할 수 있는  테이블을 생성"
   ]
  },
  {
   "cell_type": "code",
   "execution_count": 38,
   "metadata": {},
   "outputs": [],
   "source": [
    "try :\n",
    "    # 데이터베이스 연결 객체 생성\n",
    "    con = pymysql.connect(host='localhost',port = 3306, db = 'junoflow',\n",
    "                            user = 'junoflow', passwd = 'math',charset = 'utf8')\n",
    "    # SQL 실행 객체 생성\n",
    "    cursor = con.cursor()\n",
    "\n",
    "    # 삽입할 이미지 파일의 내용 읽기\n",
    "    # 자신의 파일 경로로 수정\n",
    "    f = open('./다운로드.jpg', 'rb')\n",
    "    img = f.read()\n",
    "    f.close()\n",
    "\n",
    "    # 데이터 삽입\n",
    "    cursor.execute('INSERT INTO BLOBTABLE VALUES(%s, %s)', ('다운로드.jpg', img))\n",
    "\n",
    "    con.commit()\n",
    "except:\n",
    "    print('예외발생', sys.exc_info())\n",
    "finally:\n",
    "    if con != None:\n",
    "        con.close()"
   ]
  },
  {
   "cell_type": "markdown",
   "metadata": {},
   "source": [
    "데이터 읽어오기"
   ]
  },
  {
   "cell_type": "code",
   "execution_count": 41,
   "metadata": {},
   "outputs": [
    {
     "name": "stdout",
     "output_type": "stream",
     "text": [
      "다운로드.jpg\n"
     ]
    }
   ],
   "source": [
    "try :\n",
    "    # 데이터베이스 연결 객체 생성\n",
    "    con = pymysql.connect(host='localhost',port = 3306, db = 'junoflow',\n",
    "                            user = 'junoflow', passwd = 'math',charset = 'utf8')\n",
    "    # SQL 실행 객체 생성\n",
    "    cursor = con.cursor()\n",
    "\n",
    "    # 데이터 읽어오기\n",
    "    cursor.execute(\"SELECT * FROM BLOBTABLE\")\n",
    "    data = cursor.fetchone()\n",
    "    # 두 번째 데이터가 blob 이므로 두 번째 데이터를 파일로 변경\n",
    "    print(data[0])\n",
    "    # 파일을 쓰기 모드로 생성\n",
    "    f = open(data[0] , 'wb')\n",
    "    # 읽은 데이터를 파일에 기록\n",
    "    f.write(data[1])\n",
    "    f.close()\n",
    "\n",
    "except:\n",
    "    print('예외발생', sys.exc_info())\n",
    "finally:\n",
    "    if con != None:\n",
    "        con.close()"
   ]
  },
  {
   "cell_type": "code",
   "execution_count": null,
   "metadata": {},
   "outputs": [],
   "source": []
  }
 ],
 "metadata": {
  "kernelspec": {
   "display_name": "base",
   "language": "python",
   "name": "python3"
  },
  "language_info": {
   "codemirror_mode": {
    "name": "ipython",
    "version": 3
   },
   "file_extension": ".py",
   "mimetype": "text/x-python",
   "name": "python",
   "nbconvert_exporter": "python",
   "pygments_lexer": "ipython3",
   "version": "3.10.9"
  },
  "orig_nbformat": 4
 },
 "nbformat": 4,
 "nbformat_minor": 2
}
