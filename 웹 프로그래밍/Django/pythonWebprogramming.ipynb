{
 "cells": [
  {
   "cell_type": "code",
   "execution_count": 1,
   "metadata": {},
   "outputs": [
    {
     "name": "stdout",
     "output_type": "stream",
     "text": [
      "Collecting django\n",
      "  Obtaining dependency information for django from https://files.pythonhosted.org/packages/d4/83/227ebf197e413f3599cea96dddc7d6b8ff220310cc5b40dd0f1a15e5a9d1/Django-4.2.3-py3-none-any.whl.metadata\n",
      "  Downloading Django-4.2.3-py3-none-any.whl.metadata (4.1 kB)\n",
      "Collecting asgiref<4,>=3.6.0 (from django)\n",
      "  Obtaining dependency information for asgiref<4,>=3.6.0 from https://files.pythonhosted.org/packages/9b/80/b9051a4a07ad231558fcd8ffc89232711b4e618c15cb7a392a17384bbeef/asgiref-3.7.2-py3-none-any.whl.metadata\n",
      "  Downloading asgiref-3.7.2-py3-none-any.whl.metadata (9.2 kB)\n",
      "Collecting sqlparse>=0.3.1 (from django)\n",
      "  Downloading sqlparse-0.4.4-py3-none-any.whl (41 kB)\n",
      "     ---------------------------------------- 0.0/41.2 kB ? eta -:--:--\n",
      "     ---------------------------------------- 41.2/41.2 kB ? eta 0:00:00\n",
      "Collecting tzdata (from django)\n",
      "  Downloading tzdata-2023.3-py2.py3-none-any.whl (341 kB)\n",
      "     ---------------------------------------- 0.0/341.8 kB ? eta -:--:--\n",
      "     ------------------------------------- 341.8/341.8 kB 10.7 MB/s eta 0:00:00\n",
      "Requirement already satisfied: typing-extensions>=4 in c:\\users\\user\\anaconda3\\lib\\site-packages (from asgiref<4,>=3.6.0->django) (4.4.0)\n",
      "Downloading Django-4.2.3-py3-none-any.whl (8.0 MB)\n",
      "   ---------------------------------------- 0.0/8.0 MB ? eta -:--:--\n",
      "   -- ------------------------------------- 0.5/8.0 MB 16.5 MB/s eta 0:00:01\n",
      "   ------ --------------------------------- 1.3/8.0 MB 16.9 MB/s eta 0:00:01\n",
      "   --------- ------------------------------ 2.0/8.0 MB 15.8 MB/s eta 0:00:01\n",
      "   ------------- -------------------------- 2.8/8.0 MB 16.1 MB/s eta 0:00:01\n",
      "   ----------------- ---------------------- 3.5/8.0 MB 16.0 MB/s eta 0:00:01\n",
      "   -------------------- ------------------- 4.1/8.0 MB 16.5 MB/s eta 0:00:01\n",
      "   ------------------------ --------------- 4.9/8.0 MB 15.6 MB/s eta 0:00:01\n",
      "   --------------------------- ------------ 5.4/8.0 MB 15.7 MB/s eta 0:00:01\n",
      "   ------------------------------ --------- 6.1/8.0 MB 15.1 MB/s eta 0:00:01\n",
      "   -------------------------------- ------- 6.6/8.0 MB 14.5 MB/s eta 0:00:01\n",
      "   ----------------------------------- ---- 7.1/8.0 MB 14.6 MB/s eta 0:00:01\n",
      "   ---------------------------------------  7.8/8.0 MB 14.2 MB/s eta 0:00:01\n",
      "   ---------------------------------------- 8.0/8.0 MB 13.8 MB/s eta 0:00:00\n",
      "Downloading asgiref-3.7.2-py3-none-any.whl (24 kB)\n",
      "Installing collected packages: tzdata, sqlparse, asgiref, django\n",
      "Successfully installed asgiref-3.7.2 django-4.2.3 sqlparse-0.4.4 tzdata-2023.3\n",
      "Note: you may need to restart the kernel to use updated packages.\n"
     ]
    }
   ],
   "source": [
    "pip install django"
   ]
  },
  {
   "cell_type": "code",
   "execution_count": null,
   "metadata": {},
   "outputs": [],
   "source": []
  }
 ],
 "metadata": {
  "kernelspec": {
   "display_name": "base",
   "language": "python",
   "name": "python3"
  },
  "language_info": {
   "codemirror_mode": {
    "name": "ipython",
    "version": 3
   },
   "file_extension": ".py",
   "mimetype": "text/x-python",
   "name": "python",
   "nbconvert_exporter": "python",
   "pygments_lexer": "ipython3",
   "version": "3.10.9"
  },
  "orig_nbformat": 4
 },
 "nbformat": 4,
 "nbformat_minor": 2
}
