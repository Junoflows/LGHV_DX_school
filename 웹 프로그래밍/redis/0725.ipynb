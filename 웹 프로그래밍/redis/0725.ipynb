{
 "cells": [
  {
   "cell_type": "code",
   "execution_count": 3,
   "metadata": {},
   "outputs": [
    {
     "name": "stdout",
     "output_type": "stream",
     "text": [
      "Collecting redis\n",
      "  Downloading redis-4.6.0-py3-none-any.whl (241 kB)\n",
      "     -------------------------------------- 241.1/241.1 kB 7.4 MB/s eta 0:00:00\n",
      "Collecting async-timeout>=4.0.2\n",
      "  Downloading async_timeout-4.0.2-py3-none-any.whl (5.8 kB)\n",
      "Installing collected packages: async-timeout, redis\n",
      "Successfully installed async-timeout-4.0.2 redis-4.6.0\n",
      "Note: you may need to restart the kernel to use updated packages.\n"
     ]
    }
   ],
   "source": [
    "pip install redis"
   ]
  },
  {
   "cell_type": "code",
   "execution_count": 6,
   "metadata": {},
   "outputs": [],
   "source": [
    "import redis"
   ]
  },
  {
   "cell_type": "code",
   "execution_count": 11,
   "metadata": {},
   "outputs": [
    {
     "name": "stdout",
     "output_type": "stream",
     "text": [
      "b'junho'\n",
      "b'\\xec\\xa3\\xbc\\xeb\\x85\\xb8\\xed\\x94\\x8c\\xeb\\xa1\\x9c'\n",
      "주노플로\n"
     ]
    }
   ],
   "source": [
    "with redis.StrictRedis(host= 'localhost', port = 6379) as conn:\n",
    "    # 문자열 저장\n",
    "    conn.set('name', 'junho')\n",
    "    conn.set('nickname', '주노플로')\n",
    "    # 문자열 가져오기 - bytes로 리턴\n",
    "    data = conn.get('name')\n",
    "    data1 = conn.get('nickname')\n",
    "    print(data) # 인코딩 결과가 출력됨\n",
    "    print(data1)\n",
    "    print(data1.decode('utf-8'))"
   ]
  },
  {
   "cell_type": "code",
   "execution_count": 12,
   "metadata": {},
   "outputs": [],
   "source": [
    "import time"
   ]
  },
  {
   "cell_type": "code",
   "execution_count": 14,
   "metadata": {},
   "outputs": [
    {
     "name": "stdout",
     "output_type": "stream",
     "text": [
      "10\n",
      "b'\\xeb\\x85\\xb8\\xeb\\x9e\\x98'\n",
      "None\n"
     ]
    }
   ],
   "source": [
    "# Connection Pool 을 이용한 접속\n",
    "redis_pool = redis.ConnectionPool(host = 'localhost', port = 6379, max_connections= 4)\n",
    "with redis.StrictRedis(connection_pool=redis_pool) as conn:\n",
    "    # 만료 시간 설정 가능\n",
    "    conn.set('name', 'junho', 10) # 만료시간이 10초\n",
    "    # 만료 시간 확인\n",
    "    print(conn.ttl('name'))\n",
    "\n",
    "    conn.set('song', '노래')\n",
    "    conn.expire('song', 10) # 데이터의 만료시간을 10초로 설정\n",
    "    print(conn.get('song'))\n",
    "    time.sleep(20)\n",
    "    print(conn.get('song')) # 20초 후에 데이터를 가져오므로 데이터가 없어서 None"
   ]
  },
  {
   "cell_type": "code",
   "execution_count": 15,
   "metadata": {},
   "outputs": [
    {
     "name": "stdout",
     "output_type": "stream",
     "text": [
      "b'genesis'\n",
      "b'exodus'\n"
     ]
    }
   ],
   "source": [
    "with redis.StrictRedis(connection_pool=redis_pool) as conn:\n",
    "    # 리스트에 데이터 저장\n",
    "    conn.lpush('album', 'genesis')\n",
    "    conn.rpush('album', 'exodus')\n",
    "\n",
    "    for album in conn.lrange('album', 0, 10):\n",
    "        print(album)"
   ]
  },
  {
   "cell_type": "markdown",
   "metadata": {},
   "source": []
  },
  {
   "cell_type": "code",
   "execution_count": null,
   "metadata": {},
   "outputs": [],
   "source": []
  }
 ],
 "metadata": {
  "kernelspec": {
   "display_name": "base",
   "language": "python",
   "name": "python3"
  },
  "language_info": {
   "codemirror_mode": {
    "name": "ipython",
    "version": 3
   },
   "file_extension": ".py",
   "mimetype": "text/x-python",
   "name": "python",
   "nbconvert_exporter": "python",
   "pygments_lexer": "ipython3",
   "version": "3.10.9"
  },
  "orig_nbformat": 4
 },
 "nbformat": 4,
 "nbformat_minor": 2
}
