{
 "cells": [
  {
   "cell_type": "markdown",
   "metadata": {},
   "source": [
    "## Python 과 Mongo DB CRUD 작업"
   ]
  },
  {
   "cell_type": "code",
   "execution_count": 1,
   "metadata": {},
   "outputs": [
    {
     "name": "stdout",
     "output_type": "stream",
     "text": [
      "Requirement already satisfied: pymongo in c:\\users\\user\\anaconda3\\lib\\site-packages (4.4.1)\n",
      "Requirement already satisfied: dnspython<3.0.0,>=1.16.0 in c:\\users\\user\\anaconda3\\lib\\site-packages (from pymongo) (2.4.0)\n",
      "Requirement already satisfied: httpcore>=0.17.3 in c:\\users\\user\\anaconda3\\lib\\site-packages (from dnspython<3.0.0,>=1.16.0->pymongo) (0.17.3)\n",
      "Requirement already satisfied: sniffio<2.0,>=1.1 in c:\\users\\user\\anaconda3\\lib\\site-packages (from dnspython<3.0.0,>=1.16.0->pymongo) (1.2.0)\n",
      "Requirement already satisfied: h11<0.15,>=0.13 in c:\\users\\user\\anaconda3\\lib\\site-packages (from httpcore>=0.17.3->dnspython<3.0.0,>=1.16.0->pymongo) (0.14.0)\n",
      "Requirement already satisfied: anyio<5.0,>=3.0 in c:\\users\\user\\anaconda3\\lib\\site-packages (from httpcore>=0.17.3->dnspython<3.0.0,>=1.16.0->pymongo) (3.5.0)\n",
      "Requirement already satisfied: certifi in c:\\users\\user\\anaconda3\\lib\\site-packages (from httpcore>=0.17.3->dnspython<3.0.0,>=1.16.0->pymongo) (2022.12.7)\n",
      "Requirement already satisfied: idna>=2.8 in c:\\users\\user\\anaconda3\\lib\\site-packages (from anyio<5.0,>=3.0->httpcore>=0.17.3->dnspython<3.0.0,>=1.16.0->pymongo) (3.4)\n",
      "Note: you may need to restart the kernel to use updated packages.\n"
     ]
    }
   ],
   "source": [
    "pip install pymongo"
   ]
  },
  {
   "cell_type": "code",
   "execution_count": 2,
   "metadata": {},
   "outputs": [],
   "source": [
    "from pymongo import MongoClient"
   ]
  },
  {
   "cell_type": "markdown",
   "metadata": {},
   "source": [
    "연결"
   ]
  },
  {
   "cell_type": "code",
   "execution_count": 3,
   "metadata": {},
   "outputs": [
    {
     "data": {
      "text/plain": [
       "MongoClient(host=['localhost:27017'], document_class=dict, tz_aware=False, connect=True)"
      ]
     },
     "execution_count": 3,
     "metadata": {},
     "output_type": "execute_result"
    }
   ],
   "source": [
    "conn = MongoClient('localhost', port=27017)\n",
    "conn"
   ]
  },
  {
   "cell_type": "markdown",
   "metadata": {},
   "source": [
    "데이터베이스 사용 설정"
   ]
  },
  {
   "cell_type": "code",
   "execution_count": 5,
   "metadata": {},
   "outputs": [],
   "source": [
    "db = conn.juno # 없으면 생성됨"
   ]
  },
  {
   "cell_type": "markdown",
   "metadata": {},
   "source": [
    "컬렉션 설정"
   ]
  },
  {
   "cell_type": "code",
   "execution_count": 21,
   "metadata": {},
   "outputs": [],
   "source": [
    "collect = db.data"
   ]
  },
  {
   "cell_type": "markdown",
   "metadata": {},
   "source": [
    "데이터 삽입  \n",
    "삽입이나 삭제 또는 갱신을 하게되면 결과를 리턴함"
   ]
  },
  {
   "cell_type": "code",
   "execution_count": 20,
   "metadata": {},
   "outputs": [],
   "source": [
    "db.data.drop()"
   ]
  },
  {
   "cell_type": "code",
   "execution_count": 22,
   "metadata": {},
   "outputs": [
    {
     "name": "stdout",
     "output_type": "stream",
     "text": [
      "['_InsertOneResult__inserted_id', '_WriteResult__acknowledged', '__class__', '__delattr__', '__dir__', '__doc__', '__eq__', '__format__', '__ge__', '__getattribute__', '__gt__', '__hash__', '__init__', '__init_subclass__', '__le__', '__lt__', '__module__', '__ne__', '__new__', '__reduce__', '__reduce_ex__', '__repr__', '__setattr__', '__sizeof__', '__slots__', '__str__', '__subclasshook__', '_raise_if_unacknowledged', 'acknowledged', 'inserted_id']\n"
     ]
    }
   ],
   "source": [
    "result = collect.insert_one({'empno' : '10001', 'name' : '준호', 'phone' : '7557-1381', 'age' : 25})\n",
    "print(dir(result))"
   ]
  },
  {
   "cell_type": "code",
   "execution_count": 23,
   "metadata": {},
   "outputs": [
    {
     "name": "stdout",
     "output_type": "stream",
     "text": [
      "True\n",
      "64be36091da1d4b67c835a60\n"
     ]
    }
   ],
   "source": [
    "print(result.acknowledged)\n",
    "print(result.inserted_id)"
   ]
  },
  {
   "cell_type": "code",
   "execution_count": 24,
   "metadata": {},
   "outputs": [
    {
     "name": "stdout",
     "output_type": "stream",
     "text": [
      "['_InsertManyResult__inserted_ids', '_WriteResult__acknowledged', '__class__', '__delattr__', '__dir__', '__doc__', '__eq__', '__format__', '__ge__', '__getattribute__', '__gt__', '__hash__', '__init__', '__init_subclass__', '__le__', '__lt__', '__module__', '__ne__', '__new__', '__reduce__', '__reduce_ex__', '__repr__', '__setattr__', '__sizeof__', '__slots__', '__str__', '__subclasshook__', '_raise_if_unacknowledged', 'acknowledged', 'inserted_ids']\n"
     ]
    }
   ],
   "source": [
    "result = collect.insert_many([{'empno' : '10002', 'name' : '정은', 'phone' : '4796-6901', 'age' : 24},\n",
    "                              {'empno' : '10003', 'name' : '준걸', 'phone' : '7667-1381', 'age' : 22}])\n",
    "print(dir(result))"
   ]
  },
  {
   "cell_type": "code",
   "execution_count": 25,
   "metadata": {},
   "outputs": [
    {
     "name": "stdout",
     "output_type": "stream",
     "text": [
      "True\n",
      "[ObjectId('64be360c1da1d4b67c835a61'), ObjectId('64be360c1da1d4b67c835a62')]\n"
     ]
    }
   ],
   "source": [
    "print(result.acknowledged)\n",
    "print(result.inserted_ids)"
   ]
  },
  {
   "cell_type": "markdown",
   "metadata": {},
   "source": [
    "데이터 조회  \n",
    "데이터 조회를 하게되면 cursor를 리턴\n",
    "커서를 순서대로 접근하면 데이터가 dict 로 접근 가능\n",
    "한번 저장하면 끝. 다시 불러와야 함 -- 메모리 효율이 좋다"
   ]
  },
  {
   "cell_type": "code",
   "execution_count": 43,
   "metadata": {},
   "outputs": [
    {
     "name": "stdout",
     "output_type": "stream",
     "text": [
      "['_Cursor__address', '_Cursor__allow_disk_use', '_Cursor__batch_size', '_Cursor__check_okay_to_chain', '_Cursor__codec_options', '_Cursor__collation', '_Cursor__collection', '_Cursor__collname', '_Cursor__comment', '_Cursor__data', '_Cursor__dbname', '_Cursor__die', '_Cursor__empty', '_Cursor__exhaust', '_Cursor__explain', '_Cursor__explicit_session', '_Cursor__has_filter', '_Cursor__hint', '_Cursor__id', '_Cursor__killed', '_Cursor__let', '_Cursor__limit', '_Cursor__max', '_Cursor__max_await_time_ms', '_Cursor__max_scan', '_Cursor__max_time_ms', '_Cursor__min', '_Cursor__ordering', '_Cursor__projection', '_Cursor__query_flags', '_Cursor__query_spec', '_Cursor__read_concern', '_Cursor__read_preference', '_Cursor__retrieved', '_Cursor__return_key', '_Cursor__send_message', '_Cursor__session', '_Cursor__set_hint', '_Cursor__show_record_id', '_Cursor__skip', '_Cursor__snapshot', '_Cursor__sock_mgr', '_Cursor__spec', '__annotations__', '__class__', '__class_getitem__', '__copy__', '__deepcopy__', '__del__', '__delattr__', '__dict__', '__dir__', '__doc__', '__enter__', '__eq__', '__exit__', '__format__', '__ge__', '__getattribute__', '__getitem__', '__gt__', '__hash__', '__init__', '__init_subclass__', '__iter__', '__le__', '__lt__', '__module__', '__ne__', '__new__', '__next__', '__orig_bases__', '__parameters__', '__reduce__', '__reduce_ex__', '__repr__', '__setattr__', '__sizeof__', '__slots__', '__str__', '__subclasshook__', '__weakref__', '_clone', '_clone_base', '_deepcopy', '_getmore_class', '_is_protocol', '_query_class', '_read_preference', '_refresh', '_unpack_response', 'add_option', 'address', 'alive', 'allow_disk_use', 'batch_size', 'clone', 'close', 'collation', 'collection', 'comment', 'cursor_id', 'distinct', 'explain', 'hint', 'limit', 'max', 'max_await_time_ms', 'max_scan', 'max_time_ms', 'min', 'next', 'remove_option', 'retrieved', 'rewind', 'session', 'skip', 'sort', 'where']\n"
     ]
    }
   ],
   "source": [
    "result = collect.find()\n",
    "print(dir(result))"
   ]
  },
  {
   "cell_type": "code",
   "execution_count": 39,
   "metadata": {},
   "outputs": [
    {
     "name": "stdout",
     "output_type": "stream",
     "text": [
      "{'_id': ObjectId('64be36091da1d4b67c835a60'), 'empno': '10001', 'name': '준호', 'phone': '7557-1381', 'age': 25}\n",
      "{'_id': ObjectId('64be360c1da1d4b67c835a61'), 'empno': '10002', 'name': '정은', 'phone': '4796-6901', 'age': 24}\n",
      "{'_id': ObjectId('64be360c1da1d4b67c835a62'), 'empno': '10003', 'name': '준걸', 'phone': '7667-1381', 'age': 22}\n"
     ]
    }
   ],
   "source": [
    "for tmp in result:\n",
    "    print(tmp)"
   ]
  },
  {
   "cell_type": "code",
   "execution_count": 42,
   "metadata": {},
   "outputs": [
    {
     "name": "stdout",
     "output_type": "stream",
     "text": [
      "준호\n",
      "정은\n",
      "준걸\n"
     ]
    }
   ],
   "source": [
    "result = collect.find()\n",
    "for tmp in result:\n",
    "    print(tmp[\"name\"])"
   ]
  },
  {
   "cell_type": "code",
   "execution_count": 44,
   "metadata": {},
   "outputs": [
    {
     "name": "stdout",
     "output_type": "stream",
     "text": [
      "준호\n",
      "정은\n",
      "준걸\n"
     ]
    }
   ],
   "source": [
    "result = collect.find()\n",
    "for tmp in result:\n",
    "    print(tmp.get(\"name\", \"이름 없음\"))"
   ]
  },
  {
   "cell_type": "markdown",
   "metadata": {},
   "source": [
    "조건 설정 후 정렬"
   ]
  },
  {
   "cell_type": "code",
   "execution_count": 50,
   "metadata": {},
   "outputs": [
    {
     "name": "stdout",
     "output_type": "stream",
     "text": [
      "준걸\n",
      "정은\n",
      "준호\n"
     ]
    }
   ],
   "source": [
    "result = collect.find({'age': {'$gt' : 20}}).sort('age')\n",
    "for tmp in result:\n",
    "    print(tmp.get('name','noname'))\n"
   ]
  },
  {
   "cell_type": "markdown",
   "metadata": {},
   "source": [
    "데이터 수정"
   ]
  },
  {
   "cell_type": "code",
   "execution_count": 52,
   "metadata": {},
   "outputs": [
    {
     "data": {
      "text/plain": [
       "<pymongo.results.UpdateResult at 0x146537a3700>"
      ]
     },
     "execution_count": 52,
     "metadata": {},
     "output_type": "execute_result"
    }
   ],
   "source": [
    "collect.update_many(\n",
    "    {'empno' : '10001'},\n",
    "    {'$set' : {'name' : 'junho'}}\n",
    ")"
   ]
  },
  {
   "cell_type": "code",
   "execution_count": 56,
   "metadata": {},
   "outputs": [
    {
     "name": "stdout",
     "output_type": "stream",
     "text": [
      "{'_id': ObjectId('64be36091da1d4b67c835a60'), 'empno': '10001', 'name': 'junho', 'phone': '7557-1381', 'age': 25}\n",
      "{'_id': ObjectId('64be360c1da1d4b67c835a61'), 'empno': '10002', 'name': '정은', 'phone': '4796-6901', 'age': 24}\n",
      "{'_id': ObjectId('64be360c1da1d4b67c835a62'), 'empno': '10003', 'name': '준걸', 'phone': '7667-1381', 'age': 22}\n"
     ]
    }
   ],
   "source": [
    "result = collect.find()\n",
    "for tmp in result:\n",
    "    print(tmp)"
   ]
  },
  {
   "cell_type": "code",
   "execution_count": null,
   "metadata": {},
   "outputs": [],
   "source": []
  }
 ],
 "metadata": {
  "kernelspec": {
   "display_name": "base",
   "language": "python",
   "name": "python3"
  },
  "language_info": {
   "codemirror_mode": {
    "name": "ipython",
    "version": 3
   },
   "file_extension": ".py",
   "mimetype": "text/x-python",
   "name": "python",
   "nbconvert_exporter": "python",
   "pygments_lexer": "ipython3",
   "version": "3.10.9"
  },
  "orig_nbformat": 4
 },
 "nbformat": 4,
 "nbformat_minor": 2
}
