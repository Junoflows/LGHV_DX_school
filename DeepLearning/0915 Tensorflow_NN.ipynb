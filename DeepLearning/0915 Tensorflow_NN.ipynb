{
 "cells": [
  {
   "cell_type": "markdown",
   "metadata": {},
   "source": [
    "# Keras - NN(Neural Network)"
   ]
  },
  {
   "cell_type": "markdown",
   "metadata": {},
   "source": [
    "## 공통 코드"
   ]
  },
  {
   "cell_type": "code",
   "execution_count": 3,
   "metadata": {},
   "outputs": [],
   "source": [
    "import sys\n",
    "\n",
    "# 사이킷런 ≥0.20 필수\n",
    "import sklearn\n",
    "\n",
    "# 공통 모듈 임포트\n",
    "import numpy as np\n",
    "import pandas as pd\n",
    "import os\n",
    "\n",
    "# 노트북 실행 결과를 동일하게 유지하기 위해\n",
    "np.random.seed(42)\n",
    "\n",
    "# 깔끔한 그래프 출력을 위해\n",
    "%matplotlib inline\n",
    "import matplotlib as mpl\n",
    "import matplotlib.pyplot as plt\n",
    "mpl.rc('axes', labelsize=14)\n",
    "mpl.rc('xtick', labelsize=12)\n",
    "mpl.rc('ytick', labelsize=12)\n",
    "\n",
    "import platform\n",
    "from matplotlib import font_manager, rc\n",
    "\n",
    "#매킨토시의 경우\n",
    "if platform.system() == 'Darwin':\n",
    "    rc('font', family='AppleGothic')\n",
    "#윈도우의 경우\n",
    "elif platform.system() == 'Windows':\n",
    "    font_name = font_manager.FontProperties(fname=\"c:/Windows/Fonts/malgun.ttf\").get_name()\n",
    "    rc('font', family=font_name)\n",
    "\n",
    "mpl.rcParams['axes.unicode_minus'] = False\n",
    "\n",
    "# 그림을 저장할 위치\n",
    "PROJECT_ROOT_DIR = \".\"\n",
    "CHAPTER_ID = \"keras_multilayer_perceptron\"\n",
    "IMAGES_PATH = os.path.join(PROJECT_ROOT_DIR, \"images\", CHAPTER_ID)\n",
    "os.makedirs(IMAGES_PATH, exist_ok=True)\n",
    "\n",
    "def save_fig(fig_id, tight_layout=True, fig_extension=\"png\", resolution=300):\n",
    "    path = os.path.join(IMAGES_PATH, fig_id + \".\" + fig_extension)\n",
    "    print(\"그림 저장:\", fig_id)\n",
    "    if tight_layout:\n",
    "        plt.tight_layout()\n",
    "    plt.savefig(path, format=fig_extension, dpi=resolution)\n",
    "\n",
    "import warnings\n",
    "warnings.filterwarnings(action='ignore')"
   ]
  },
  {
   "cell_type": "code",
   "execution_count": null,
   "metadata": {},
   "outputs": [],
   "source": []
  },
  {
   "cell_type": "markdown",
   "metadata": {},
   "source": [
    "## 설치 확인"
   ]
  },
  {
   "cell_type": "code",
   "execution_count": 4,
   "metadata": {},
   "outputs": [],
   "source": [
    "import tensorflow as tf\n",
    "from tensorflow import keras\n",
    "\n",
    "# print('텐서 플로 버전:', tf.__version__)\n",
    "# print('케라스 버전:', keras.__version__)"
   ]
  },
  {
   "cell_type": "code",
   "execution_count": null,
   "metadata": {},
   "outputs": [],
   "source": []
  },
  {
   "cell_type": "markdown",
   "metadata": {},
   "source": [
    "## Keras - DNN(Neural Network)"
   ]
  },
  {
   "cell_type": "markdown",
   "metadata": {},
   "source": [
    "### 단순 신경망 훈련 - 선형 회귀"
   ]
  },
  {
   "cell_type": "markdown",
   "metadata": {},
   "source": [
    "#### 샘플 데이터 생성"
   ]
  },
  {
   "cell_type": "code",
   "execution_count": 5,
   "metadata": {},
   "outputs": [
    {
     "name": "stdout",
     "output_type": "stream",
     "text": [
      "[1 2 3 4 5]\n",
      "[ 5  8 11 14 17]\n"
     ]
    }
   ],
   "source": [
    "x = np.arange(1, 6)\n",
    "\n",
    "# y = 3x + 2\n",
    "y = 3 * x + 2\n",
    "print(x)\n",
    "print(y)"
   ]
  },
  {
   "cell_type": "markdown",
   "metadata": {},
   "source": [
    "#### 데이터 시각화"
   ]
  },
  {
   "cell_type": "code",
   "execution_count": 6,
   "metadata": {},
   "outputs": [
    {
     "data": {
      "image/png": "[encoded data removed]",
      "text/plain": [
       "<Figure size 640x480 with 1 Axes>"
      ]
     },
     "metadata": {},
     "output_type": "display_data"
    }
   ],
   "source": [
    "# 시각화\n",
    "plt.plot(x, y)\n",
    "plt.title('y = 3x + 2')\n",
    "plt.show()"
   ]
  },
  {
   "cell_type": "markdown",
   "metadata": {},
   "source": [
    "#### 모델 구조"
   ]
  },
  {
   "cell_type": "code",
   "execution_count": 7,
   "metadata": {},
   "outputs": [],
   "source": [
    "# 리스트형\n",
    "model = tf.keras.Sequential([\n",
    "    tf.keras.layers.Dense(10), \n",
    "    tf.keras.layers.Dense(5), \n",
    "    tf.keras.layers.Dense(1), \n",
    "])"
   ]
  },
  {
   "cell_type": "code",
   "execution_count": 8,
   "metadata": {},
   "outputs": [],
   "source": [
    "# add 함수로 레이어 추가\n",
    "model = tf.keras.Sequential()\n",
    "model.add(tf.keras.layers.Dense(10))\n",
    "model.add(tf.keras.layers.Dense(5))\n",
    "model.add(tf.keras.layers.Dense(1))"
   ]
  },
  {
   "cell_type": "markdown",
   "metadata": {},
   "source": [
    "#### 입력 데이터 형태"
   ]
  },
  {
   "cell_type": "code",
   "execution_count": 9,
   "metadata": {},
   "outputs": [],
   "source": [
    "model = tf.keras.Sequential([\n",
    "    # 입력 데이터의 shape = (150, 4) 인 경우 input_shape 지정 \n",
    "    tf.keras.layers.Dense(10, input_shape=[4]), \n",
    "    tf.keras.layers.Dense(5), \n",
    "    tf.keras.layers.Dense(1), \n",
    "])"
   ]
  },
  {
   "cell_type": "markdown",
   "metadata": {},
   "source": [
    "#### 단순 회귀 모델 정의"
   ]
  },
  {
   "cell_type": "code",
   "execution_count": 10,
   "metadata": {},
   "outputs": [],
   "source": [
    "# 단순선형회귀 모델 생성\n",
    "model = tf.keras.Sequential([\n",
    "    tf.keras.layers.Dense(1, input_shape=[1])                    \n",
    "])"
   ]
  },
  {
   "cell_type": "markdown",
   "metadata": {},
   "source": [
    "#### 모델의 요약"
   ]
  },
  {
   "cell_type": "code",
   "execution_count": 11,
   "metadata": {},
   "outputs": [
    {
     "name": "stdout",
     "output_type": "stream",
     "text": [
      "Model: \"sequential_3\"\n",
      "_________________________________________________________________\n",
      " Layer (type)                Output Shape              Param #   \n",
      "=================================================================\n",
      " dense_9 (Dense)             (None, 1)                 2         \n",
      "                                                                 \n",
      "=================================================================\n",
      "Total params: 2 (8.00 Byte)\n",
      "Trainable params: 2 (8.00 Byte)\n",
      "Non-trainable params: 0 (0.00 Byte)\n",
      "_________________________________________________________________\n"
     ]
    }
   ],
   "source": [
    "model.summary()"
   ]
  },
  {
   "cell_type": "markdown",
   "metadata": {},
   "source": [
    "#### 컴파일"
   ]
  },
  {
   "cell_type": "code",
   "execution_count": 12,
   "metadata": {},
   "outputs": [],
   "source": [
    "# 긴 문자열 지정\n",
    "model.compile(optimizer='sgd', loss='mean_squared_error', \n",
    "              metrics=['mean_squared_error', 'mean_absolute_error'])"
   ]
  },
  {
   "cell_type": "code",
   "execution_count": 13,
   "metadata": {},
   "outputs": [],
   "source": [
    "# 짧은 문자열 지정\n",
    "model.compile(optimizer='sgd', loss='mse', metrics=['mse', 'mae'])"
   ]
  },
  {
   "cell_type": "code",
   "execution_count": 14,
   "metadata": {},
   "outputs": [
    {
     "name": "stderr",
     "output_type": "stream",
     "text": [
      "WARNING:absl:`lr` is deprecated in Keras optimizer, please use `learning_rate` or use the legacy optimizer, e.g.,tf.keras.optimizers.legacy.SGD.\n"
     ]
    }
   ],
   "source": [
    "# 클래스 인스턴스 지정\n",
    "model.compile(optimizer=tf.keras.optimizers.SGD(lr=0.005), \n",
    "              loss=tf.keras.losses.MeanAbsoluteError(), \n",
    "              metrics=[tf.keras.metrics.MeanAbsoluteError(), \n",
    "                       tf.keras.metrics.MeanSquaredError()\n",
    "                       ])"
   ]
  },
  {
   "cell_type": "code",
   "execution_count": 15,
   "metadata": {},
   "outputs": [],
   "source": [
    "# 컴파일\n",
    "model.compile(optimizer='sgd', loss='mse', metrics=['mae'])"
   ]
  },
  {
   "cell_type": "markdown",
   "metadata": {},
   "source": [
    "#### 훈련"
   ]
  },
  {
   "cell_type": "code",
   "execution_count": 16,
   "metadata": {},
   "outputs": [
    {
     "name": "stdout",
     "output_type": "stream",
     "text": [
      "Epoch 1/1200\n",
      "1/1 [==============================] - 0s 221ms/step - loss: 75.9664 - mae: 8.2096\n",
      "Epoch 2/1200\n",
      "1/1 [==============================] - 0s 3ms/step - loss: 44.4007 - mae: 6.3193\n",
      "Epoch 3/1200\n",
      "1/1 [==============================] - 0s 5ms/step - loss: 26.0048 - mae: 4.8761\n",
      "Epoch 4/1200\n",
      "1/1 [==============================] - 0s 5ms/step - loss: 15.2837 - mae: 3.7742\n",
      "Epoch 5/1200\n",
      "1/1 [==============================] - 0s 5ms/step - loss: 9.0351 - mae: 2.9329\n",
      "Epoch 6/1200\n",
      "1/1 [==============================] - 0s 3ms/step - loss: 5.3929 - mae: 2.2904\n",
      "Epoch 7/1200\n",
      "1/1 [==============================] - 0s 4ms/step - loss: 3.2695 - mae: 1.7998\n",
      "Epoch 8/1200\n",
      "1/1 [==============================] - 0s 5ms/step - loss: 2.0313 - mae: 1.4252\n",
      "Epoch 9/1200\n",
      "1/1 [==============================] - 0s 3ms/step - loss: 1.3088 - mae: 1.1390\n",
      "Epoch 10/1200\n",
      "1/1 [==============================] - 0s 4ms/step - loss: 0.8870 - mae: 0.9203\n",
      "Epoch 11/1200\n",
      "1/1 [==============================] - 0s 4ms/step - loss: 0.6403 - mae: 0.7532\n",
      "Epoch 12/1200\n",
      "1/1 [==============================] - 0s 6ms/step - loss: 0.4957 - mae: 0.6255\n",
      "Epoch 13/1200\n",
      "1/1 [==============================] - 0s 4ms/step - loss: 0.4107 - mae: 0.5278\n",
      "Epoch 14/1200\n",
      "1/1 [==============================] - 0s 3ms/step - loss: 0.3602 - mae: 0.4945\n",
      "Epoch 15/1200\n",
      "1/1 [==============================] - 0s 4ms/step - loss: 0.3301 - mae: 0.4730\n",
      "Epoch 16/1200\n",
      "1/1 [==============================] - 0s 3ms/step - loss: 0.3117 - mae: 0.4563\n",
      "Epoch 17/1200\n",
      "1/1 [==============================] - 0s 4ms/step - loss: 0.3001 - mae: 0.4432\n",
      "Epoch 18/1200\n",
      "1/1 [==============================] - 0s 4ms/step - loss: 0.2926 - mae: 0.4446\n",
      "Epoch 19/1200\n",
      "1/1 [==============================] - 0s 4ms/step - loss: 0.2874 - mae: 0.4462\n",
      "Epoch 20/1200\n",
      "1/1 [==============================] - 0s 3ms/step - loss: 0.2836 - mae: 0.4471\n",
      "Epoch 21/1200\n",
      "1/1 [==============================] - 0s 4ms/step - loss: 0.2806 - mae: 0.4474\n",
      "Epoch 22/1200\n",
      "1/1 [==============================] - 0s 4ms/step - loss: 0.2781 - mae: 0.4473\n",
      "Epoch 23/1200\n",
      "1/1 [==============================] - 0s 5ms/step - loss: 0.2758 - mae: 0.4469\n",
      "Epoch 24/1200\n",
      "1/1 [==============================] - 0s 3ms/step - loss: 0.2738 - mae: 0.4462\n",
      "Epoch 25/1200\n",
      "1/1 [==============================] - 0s 4ms/step - loss: 0.2718 - mae: 0.4453\n",
      "Epoch 26/1200\n",
      "1/1 [==============================] - 0s 5ms/step - loss: 0.2699 - mae: 0.4443\n",
      "Epoch 27/1200\n",
      "1/1 [==============================] - 0s 5ms/step - loss: 0.2680 - mae: 0.4431\n",
      "Epoch 28/1200\n",
      "1/1 [==============================] - 0s 0s/step - loss: 0.2662 - mae: 0.4419\n",
      "Epoch 29/1200\n",
      "1/1 [==============================] - 0s 14ms/step - loss: 0.2644 - mae: 0.4406\n",
      "Epoch 30/1200\n",
      "1/1 [==============================] - 0s 4ms/step - loss: 0.2626 - mae: 0.4393\n",
      "Epoch 31/1200\n",
      "1/1 [==============================] - 0s 3ms/step - loss: 0.2608 - mae: 0.4379\n",
      "Epoch 32/1200\n",
      "1/1 [==============================] - 0s 4ms/step - loss: 0.2590 - mae: 0.4365\n",
      "Epoch 33/1200\n",
      "1/1 [==============================] - 0s 4ms/step - loss: 0.2573 - mae: 0.4351\n",
      "Epoch 34/1200\n",
      "1/1 [==============================] - 0s 3ms/step - loss: 0.2556 - mae: 0.4337\n",
      "Epoch 35/1200\n",
      "1/1 [==============================] - 0s 4ms/step - loss: 0.2538 - mae: 0.4323\n",
      "Epoch 36/1200\n",
      "1/1 [==============================] - 0s 5ms/step - loss: 0.2521 - mae: 0.4309\n",
      "Epoch 37/1200\n",
      "1/1 [==============================] - 0s 5ms/step - loss: 0.2504 - mae: 0.4294\n",
      "Epoch 38/1200\n",
      "1/1 [==============================] - 0s 4ms/step - loss: 0.2487 - mae: 0.4280\n",
      "Epoch 39/1200\n",
      "1/1 [==============================] - 0s 5ms/step - loss: 0.2470 - mae: 0.4266\n",
      "Epoch 40/1200\n",
      "1/1 [==============================] - 0s 5ms/step - loss: 0.2454 - mae: 0.4251\n",
      "Epoch 41/1200\n",
      "1/1 [==============================] - 0s 4ms/step - loss: 0.2437 - mae: 0.4237\n",
      "Epoch 42/1200\n",
      "1/1 [==============================] - 0s 4ms/step - loss: 0.2421 - mae: 0.4223\n",
      "Epoch 43/1200\n",
      "1/1 [==============================] - 0s 6ms/step - loss: 0.2404 - mae: 0.4209\n",
      "Epoch 44/1200\n",
      "1/1 [==============================] - 0s 4ms/step - loss: 0.2388 - mae: 0.4194\n",
      "Epoch 45/1200\n",
      "1/1 [==============================] - 0s 4ms/step - loss: 0.2372 - mae: 0.4180\n",
      "Epoch 46/1200\n",
      "1/1 [==============================] - 0s 0s/step - loss: 0.2356 - mae: 0.4166\n",
      "Epoch 47/1200\n",
      "1/1 [==============================] - 0s 0s/step - loss: 0.2340 - mae: 0.4152\n",
      "Epoch 48/1200\n",
      "1/1 [==============================] - 0s 0s/step - loss: 0.2324 - mae: 0.4138\n",
      "Epoch 49/1200\n",
      "1/1 [==============================] - 0s 6ms/step - loss: 0.2309 - mae: 0.4124\n",
      "Epoch 50/1200\n",
      "1/1 [==============================] - 0s 4ms/step - loss: 0.2293 - mae: 0.4110\n",
      "Epoch 51/1200\n",
      "1/1 [==============================] - 0s 4ms/step - loss: 0.2278 - mae: 0.4096\n",
      "Epoch 52/1200\n",
      "1/1 [==============================] - 0s 5ms/step - loss: 0.2262 - mae: 0.4082\n",
      "Epoch 53/1200\n",
      "1/1 [==============================] - 0s 4ms/step - loss: 0.2247 - mae: 0.4069\n",
      "Epoch 54/1200\n",
      "1/1 [==============================] - 0s 5ms/step - loss: 0.2232 - mae: 0.4055\n",
      "Epoch 55/1200\n",
      "1/1 [==============================] - 0s 3ms/step - loss: 0.2217 - mae: 0.4041\n",
      "Epoch 56/1200\n",
      "1/1 [==============================] - 0s 4ms/step - loss: 0.2202 - mae: 0.4027\n",
      "Epoch 57/1200\n",
      "1/1 [==============================] - 0s 4ms/step - loss: 0.2187 - mae: 0.4014\n",
      "Epoch 58/1200\n",
      "1/1 [==============================] - 0s 4ms/step - loss: 0.2172 - mae: 0.4000\n",
      "Epoch 59/1200\n",
      "1/1 [==============================] - 0s 4ms/step - loss: 0.2157 - mae: 0.3987\n",
      "Epoch 60/1200\n",
      "1/1 [==============================] - 0s 4ms/step - loss: 0.2143 - mae: 0.3973\n",
      "Epoch 61/1200\n",
      "1/1 [==============================] - 0s 4ms/step - loss: 0.2128 - mae: 0.3960\n",
      "Epoch 62/1200\n",
      "1/1 [==============================] - 0s 4ms/step - loss: 0.2114 - mae: 0.3946\n",
      "Epoch 63/1200\n",
      "1/1 [==============================] - 0s 3ms/step - loss: 0.2100 - mae: 0.3933\n",
      "Epoch 64/1200\n",
      "1/1 [==============================] - 0s 4ms/step - loss: 0.2086 - mae: 0.3920\n",
      "Epoch 65/1200\n",
      "1/1 [==============================] - 0s 0s/step - loss: 0.2072 - mae: 0.3907\n",
      "Epoch 66/1200\n",
      "1/1 [==============================] - 0s 5ms/step - loss: 0.2058 - mae: 0.3893\n",
      "Epoch 67/1200\n",
      "1/1 [==============================] - 0s 4ms/step - loss: 0.2044 - mae: 0.3880\n",
      "Epoch 68/1200\n",
      "1/1 [==============================] - 0s 5ms/step - loss: 0.2030 - mae: 0.3867\n",
      "Epoch 69/1200\n",
      "1/1 [==============================] - 0s 4ms/step - loss: 0.2016 - mae: 0.3854\n",
      "Epoch 70/1200\n",
      "1/1 [==============================] - 0s 4ms/step - loss: 0.2003 - mae: 0.3841\n",
      "Epoch 71/1200\n",
      "1/1 [==============================] - 0s 4ms/step - loss: 0.1989 - mae: 0.3828\n",
      "Epoch 72/1200\n",
      "1/1 [==============================] - 0s 4ms/step - loss: 0.1976 - mae: 0.3815\n",
      "Epoch 73/1200\n",
      "1/1 [==============================] - 0s 4ms/step - loss: 0.1962 - mae: 0.3802\n",
      "Epoch 74/1200\n",
      "1/1 [==============================] - 0s 5ms/step - loss: 0.1949 - mae: 0.3789\n",
      "Epoch 75/1200\n",
      "1/1 [==============================] - 0s 3ms/step - loss: 0.1936 - mae: 0.3777\n",
      "Epoch 76/1200\n",
      "1/1 [==============================] - 0s 3ms/step - loss: 0.1923 - mae: 0.3764\n",
      "Epoch 77/1200\n",
      "1/1 [==============================] - 0s 4ms/step - loss: 0.1910 - mae: 0.3751\n",
      "Epoch 78/1200\n",
      "1/1 [==============================] - 0s 5ms/step - loss: 0.1897 - mae: 0.3738\n",
      "Epoch 79/1200\n",
      "1/1 [==============================] - 0s 4ms/step - loss: 0.1884 - mae: 0.3726\n",
      "Epoch 80/1200\n",
      "1/1 [==============================] - 0s 4ms/step - loss: 0.1871 - mae: 0.3713\n",
      "Epoch 81/1200\n",
      "1/1 [==============================] - 0s 4ms/step - loss: 0.1859 - mae: 0.3701\n",
      "Epoch 82/1200\n",
      "1/1 [==============================] - 0s 6ms/step - loss: 0.1846 - mae: 0.3688\n",
      "Epoch 83/1200\n",
      "1/1 [==============================] - 0s 4ms/step - loss: 0.1834 - mae: 0.3676\n",
      "Epoch 84/1200\n",
      "1/1 [==============================] - 0s 4ms/step - loss: 0.1821 - mae: 0.3663\n",
      "Epoch 85/1200\n",
      "1/1 [==============================] - 0s 8ms/step - loss: 0.1809 - mae: 0.3651\n",
      "Epoch 86/1200\n",
      "1/1 [==============================] - 0s 4ms/step - loss: 0.1797 - mae: 0.3638\n",
      "Epoch 87/1200\n",
      "1/1 [==============================] - 0s 4ms/step - loss: 0.1785 - mae: 0.3626\n",
      "Epoch 88/1200\n",
      "1/1 [==============================] - 0s 6ms/step - loss: 0.1773 - mae: 0.3614\n",
      "Epoch 89/1200\n",
      "1/1 [==============================] - 0s 4ms/step - loss: 0.1761 - mae: 0.3602\n",
      "Epoch 90/1200\n",
      "1/1 [==============================] - 0s 6ms/step - loss: 0.1749 - mae: 0.3589\n",
      "Epoch 91/1200\n",
      "1/1 [==============================] - 0s 4ms/step - loss: 0.1737 - mae: 0.3577\n",
      "Epoch 92/1200\n"
     ]
    },
    {
     "name": "stdout",
     "output_type": "stream",
     "text": [
      "1/1 [==============================] - 0s 4ms/step - loss: 0.1725 - mae: 0.3565\n",
      "Epoch 93/1200\n",
      "1/1 [==============================] - 0s 6ms/step - loss: 0.1714 - mae: 0.3553\n",
      "Epoch 94/1200\n",
      "1/1 [==============================] - 0s 6ms/step - loss: 0.1702 - mae: 0.3541\n",
      "Epoch 95/1200\n",
      "1/1 [==============================] - 0s 7ms/step - loss: 0.1691 - mae: 0.3529\n",
      "Epoch 96/1200\n",
      "1/1 [==============================] - 0s 6ms/step - loss: 0.1679 - mae: 0.3517\n",
      "Epoch 97/1200\n",
      "1/1 [==============================] - 0s 6ms/step - loss: 0.1668 - mae: 0.3505\n",
      "Epoch 98/1200\n",
      "1/1 [==============================] - 0s 7ms/step - loss: 0.1657 - mae: 0.3494\n",
      "Epoch 99/1200\n",
      "1/1 [==============================] - 0s 6ms/step - loss: 0.1645 - mae: 0.3482\n",
      "Epoch 100/1200\n",
      "1/1 [==============================] - 0s 9ms/step - loss: 0.1634 - mae: 0.3470\n",
      "Epoch 101/1200\n",
      "1/1 [==============================] - 0s 6ms/step - loss: 0.1623 - mae: 0.3458\n",
      "Epoch 102/1200\n",
      "1/1 [==============================] - 0s 8ms/step - loss: 0.1612 - mae: 0.3446\n",
      "Epoch 103/1200\n",
      "1/1 [==============================] - 0s 6ms/step - loss: 0.1601 - mae: 0.3435\n",
      "Epoch 104/1200\n",
      "1/1 [==============================] - 0s 7ms/step - loss: 0.1591 - mae: 0.3423\n",
      "Epoch 105/1200\n",
      "1/1 [==============================] - 0s 7ms/step - loss: 0.1580 - mae: 0.3412\n",
      "Epoch 106/1200\n",
      "1/1 [==============================] - 0s 8ms/step - loss: 0.1569 - mae: 0.3400\n",
      "Epoch 107/1200\n",
      "1/1 [==============================] - 0s 7ms/step - loss: 0.1559 - mae: 0.3389\n",
      "Epoch 108/1200\n",
      "1/1 [==============================] - 0s 0s/step - loss: 0.1548 - mae: 0.3377\n",
      "Epoch 109/1200\n",
      "1/1 [==============================] - 0s 4ms/step - loss: 0.1538 - mae: 0.3366\n",
      "Epoch 110/1200\n",
      "1/1 [==============================] - 0s 5ms/step - loss: 0.1527 - mae: 0.3354\n",
      "Epoch 111/1200\n",
      "1/1 [==============================] - 0s 5ms/step - loss: 0.1517 - mae: 0.3343\n",
      "Epoch 112/1200\n",
      "1/1 [==============================] - 0s 5ms/step - loss: 0.1507 - mae: 0.3332\n",
      "Epoch 113/1200\n",
      "1/1 [==============================] - 0s 7ms/step - loss: 0.1497 - mae: 0.3320\n",
      "Epoch 114/1200\n",
      "1/1 [==============================] - 0s 1ms/step - loss: 0.1486 - mae: 0.3309\n",
      "Epoch 115/1200\n",
      "1/1 [==============================] - 0s 8ms/step - loss: 0.1476 - mae: 0.3298\n",
      "Epoch 116/1200\n",
      "1/1 [==============================] - 0s 6ms/step - loss: 0.1466 - mae: 0.3287\n",
      "Epoch 117/1200\n",
      "1/1 [==============================] - 0s 5ms/step - loss: 0.1457 - mae: 0.3276\n",
      "Epoch 118/1200\n",
      "1/1 [==============================] - 0s 7ms/step - loss: 0.1447 - mae: 0.3265\n",
      "Epoch 119/1200\n",
      "1/1 [==============================] - 0s 6ms/step - loss: 0.1437 - mae: 0.3254\n",
      "Epoch 120/1200\n",
      "1/1 [==============================] - 0s 7ms/step - loss: 0.1427 - mae: 0.3243\n",
      "Epoch 121/1200\n",
      "1/1 [==============================] - 0s 5ms/step - loss: 0.1418 - mae: 0.3232\n",
      "Epoch 122/1200\n",
      "1/1 [==============================] - 0s 6ms/step - loss: 0.1408 - mae: 0.3221\n",
      "Epoch 123/1200\n",
      "1/1 [==============================] - 0s 886us/step - loss: 0.1399 - mae: 0.3210\n",
      "Epoch 124/1200\n",
      "1/1 [==============================] - 0s 0s/step - loss: 0.1389 - mae: 0.3199\n",
      "Epoch 125/1200\n",
      "1/1 [==============================] - 0s 16ms/step - loss: 0.1380 - mae: 0.3188\n",
      "Epoch 126/1200\n",
      "1/1 [==============================] - 0s 0s/step - loss: 0.1370 - mae: 0.3177\n",
      "Epoch 127/1200\n",
      "1/1 [==============================] - 0s 0s/step - loss: 0.1361 - mae: 0.3167\n",
      "Epoch 128/1200\n",
      "1/1 [==============================] - 0s 4ms/step - loss: 0.1352 - mae: 0.3156\n",
      "Epoch 129/1200\n",
      "1/1 [==============================] - 0s 0s/step - loss: 0.1343 - mae: 0.3145\n",
      "Epoch 130/1200\n",
      "1/1 [==============================] - 0s 11ms/step - loss: 0.1334 - mae: 0.3135\n",
      "Epoch 131/1200\n",
      "1/1 [==============================] - 0s 0s/step - loss: 0.1325 - mae: 0.3124\n",
      "Epoch 132/1200\n",
      "1/1 [==============================] - 0s 0s/step - loss: 0.1316 - mae: 0.3114\n",
      "Epoch 133/1200\n",
      "1/1 [==============================] - 0s 19ms/step - loss: 0.1307 - mae: 0.3103\n",
      "Epoch 134/1200\n",
      "1/1 [==============================] - 0s 4ms/step - loss: 0.1298 - mae: 0.3093\n",
      "Epoch 135/1200\n",
      "1/1 [==============================] - 0s 4ms/step - loss: 0.1289 - mae: 0.3082\n",
      "Epoch 136/1200\n",
      "1/1 [==============================] - 0s 6ms/step - loss: 0.1281 - mae: 0.3072\n",
      "Epoch 137/1200\n",
      "1/1 [==============================] - 0s 1ms/step - loss: 0.1272 - mae: 0.3061\n",
      "Epoch 138/1200\n",
      "1/1 [==============================] - 0s 0s/step - loss: 0.1263 - mae: 0.3051\n",
      "Epoch 139/1200\n",
      "1/1 [==============================] - 0s 0s/step - loss: 0.1255 - mae: 0.3041\n",
      "Epoch 140/1200\n",
      "1/1 [==============================] - 0s 19ms/step - loss: 0.1246 - mae: 0.3030\n",
      "Epoch 141/1200\n",
      "1/1 [==============================] - 0s 4ms/step - loss: 0.1238 - mae: 0.3020\n",
      "Epoch 142/1200\n",
      "1/1 [==============================] - 0s 1ms/step - loss: 0.1230 - mae: 0.3010\n",
      "Epoch 143/1200\n",
      "1/1 [==============================] - 0s 0s/step - loss: 0.1221 - mae: 0.3000\n",
      "Epoch 144/1200\n",
      "1/1 [==============================] - 0s 16ms/step - loss: 0.1213 - mae: 0.2990\n",
      "Epoch 145/1200\n",
      "1/1 [==============================] - 0s 16ms/step - loss: 0.1205 - mae: 0.2979\n",
      "Epoch 146/1200\n",
      "1/1 [==============================] - 0s 16ms/step - loss: 0.1197 - mae: 0.2969\n",
      "Epoch 147/1200\n",
      "1/1 [==============================] - 0s 0s/step - loss: 0.1189 - mae: 0.2959\n",
      "Epoch 148/1200\n",
      "1/1 [==============================] - 0s 16ms/step - loss: 0.1181 - mae: 0.2949\n",
      "Epoch 149/1200\n",
      "1/1 [==============================] - 0s 0s/step - loss: 0.1173 - mae: 0.2939\n",
      "Epoch 150/1200\n",
      "1/1 [==============================] - 0s 0s/step - loss: 0.1165 - mae: 0.2929\n",
      "Epoch 151/1200\n",
      "1/1 [==============================] - 0s 0s/step - loss: 0.1157 - mae: 0.2919\n",
      "Epoch 152/1200\n",
      "1/1 [==============================] - 0s 0s/step - loss: 0.1149 - mae: 0.2910\n",
      "Epoch 153/1200\n",
      "1/1 [==============================] - 0s 0s/step - loss: 0.1141 - mae: 0.2900\n",
      "Epoch 154/1200\n",
      "1/1 [==============================] - 0s 0s/step - loss: 0.1134 - mae: 0.2890\n",
      "Epoch 155/1200\n",
      "1/1 [==============================] - 0s 0s/step - loss: 0.1126 - mae: 0.2880\n",
      "Epoch 156/1200\n",
      "1/1 [==============================] - 0s 0s/step - loss: 0.1118 - mae: 0.2870\n",
      "Epoch 157/1200\n",
      "1/1 [==============================] - 0s 16ms/step - loss: 0.1111 - mae: 0.2861\n",
      "Epoch 158/1200\n",
      "1/1 [==============================] - 0s 0s/step - loss: 0.1103 - mae: 0.2851\n",
      "Epoch 159/1200\n",
      "1/1 [==============================] - 0s 0s/step - loss: 0.1096 - mae: 0.2841\n",
      "Epoch 160/1200\n",
      "1/1 [==============================] - 0s 16ms/step - loss: 0.1089 - mae: 0.2832\n",
      "Epoch 161/1200\n",
      "1/1 [==============================] - 0s 7ms/step - loss: 0.1081 - mae: 0.2822\n",
      "Epoch 162/1200\n",
      "1/1 [==============================] - 0s 0s/step - loss: 0.1074 - mae: 0.2813\n",
      "Epoch 163/1200\n",
      "1/1 [==============================] - 0s 0s/step - loss: 0.1067 - mae: 0.2803\n",
      "Epoch 164/1200\n",
      "1/1 [==============================] - 0s 15ms/step - loss: 0.1059 - mae: 0.2794\n",
      "Epoch 165/1200\n",
      "1/1 [==============================] - 0s 3ms/step - loss: 0.1052 - mae: 0.2784\n",
      "Epoch 166/1200\n",
      "1/1 [==============================] - 0s 0s/step - loss: 0.1045 - mae: 0.2775\n",
      "Epoch 167/1200\n",
      "1/1 [==============================] - 0s 0s/step - loss: 0.1038 - mae: 0.2766\n",
      "Epoch 168/1200\n",
      "1/1 [==============================] - 0s 16ms/step - loss: 0.1031 - mae: 0.2756\n",
      "Epoch 169/1200\n",
      "1/1 [==============================] - 0s 0s/step - loss: 0.1024 - mae: 0.2747\n",
      "Epoch 170/1200\n",
      "1/1 [==============================] - 0s 0s/step - loss: 0.1017 - mae: 0.2738\n",
      "Epoch 171/1200\n",
      "1/1 [==============================] - 0s 16ms/step - loss: 0.1010 - mae: 0.2728\n",
      "Epoch 172/1200\n",
      "1/1 [==============================] - 0s 0s/step - loss: 0.1004 - mae: 0.2719\n",
      "Epoch 173/1200\n",
      "1/1 [==============================] - 0s 0s/step - loss: 0.0997 - mae: 0.2710\n",
      "Epoch 174/1200\n",
      "1/1 [==============================] - 0s 16ms/step - loss: 0.0990 - mae: 0.2701\n",
      "Epoch 175/1200\n",
      "1/1 [==============================] - 0s 0s/step - loss: 0.0983 - mae: 0.2692\n",
      "Epoch 176/1200\n",
      "1/1 [==============================] - 0s 0s/step - loss: 0.0977 - mae: 0.2682\n",
      "Epoch 177/1200\n",
      "1/1 [==============================] - 0s 16ms/step - loss: 0.0970 - mae: 0.2673\n",
      "Epoch 178/1200\n",
      "1/1 [==============================] - 0s 0s/step - loss: 0.0964 - mae: 0.2664\n",
      "Epoch 179/1200\n",
      "1/1 [==============================] - 0s 0s/step - loss: 0.0957 - mae: 0.2655\n",
      "Epoch 180/1200\n",
      "1/1 [==============================] - 0s 16ms/step - loss: 0.0951 - mae: 0.2646\n",
      "Epoch 181/1200\n",
      "1/1 [==============================] - 0s 0s/step - loss: 0.0944 - mae: 0.2637\n",
      "Epoch 182/1200\n",
      "1/1 [==============================] - 0s 0s/step - loss: 0.0938 - mae: 0.2629\n",
      "Epoch 183/1200\n",
      "1/1 [==============================] - 0s 0s/step - loss: 0.0931 - mae: 0.2620\n",
      "Epoch 184/1200\n",
      "1/1 [==============================] - 0s 0s/step - loss: 0.0925 - mae: 0.2611\n",
      "Epoch 185/1200\n",
      "1/1 [==============================] - 0s 0s/step - loss: 0.0919 - mae: 0.2602\n",
      "Epoch 186/1200\n",
      "1/1 [==============================] - 0s 14ms/step - loss: 0.0913 - mae: 0.2593\n",
      "Epoch 187/1200\n",
      "1/1 [==============================] - 0s 4ms/step - loss: 0.0907 - mae: 0.2584\n",
      "Epoch 188/1200\n",
      "1/1 [==============================] - 0s 4ms/step - loss: 0.0900 - mae: 0.2576\n",
      "Epoch 189/1200\n",
      "1/1 [==============================] - 0s 3ms/step - loss: 0.0894 - mae: 0.2567\n",
      "Epoch 190/1200\n",
      "1/1 [==============================] - 0s 0s/step - loss: 0.0888 - mae: 0.2558\n",
      "Epoch 191/1200\n",
      "1/1 [==============================] - 0s 0s/step - loss: 0.0882 - mae: 0.2550\n",
      "Epoch 192/1200\n",
      "1/1 [==============================] - 0s 0s/step - loss: 0.0876 - mae: 0.2541\n",
      "Epoch 193/1200\n",
      "1/1 [==============================] - 0s 16ms/step - loss: 0.0870 - mae: 0.2532\n",
      "Epoch 194/1200\n",
      "1/1 [==============================] - 0s 0s/step - loss: 0.0865 - mae: 0.2524\n",
      "Epoch 195/1200\n",
      "1/1 [==============================] - 0s 0s/step - loss: 0.0859 - mae: 0.2515\n",
      "Epoch 196/1200\n",
      "1/1 [==============================] - 0s 18ms/step - loss: 0.0853 - mae: 0.2507\n",
      "Epoch 197/1200\n",
      "1/1 [==============================] - 0s 4ms/step - loss: 0.0847 - mae: 0.2498\n",
      "Epoch 198/1200\n",
      "1/1 [==============================] - 0s 1ms/step - loss: 0.0842 - mae: 0.2490\n",
      "Epoch 199/1200\n",
      "1/1 [==============================] - 0s 0s/step - loss: 0.0836 - mae: 0.2481\n",
      "Epoch 200/1200\n",
      "1/1 [==============================] - 0s 14ms/step - loss: 0.0830 - mae: 0.2473\n",
      "Epoch 201/1200\n",
      "1/1 [==============================] - 0s 0s/step - loss: 0.0825 - mae: 0.2465\n",
      "Epoch 202/1200\n",
      "1/1 [==============================] - 0s 0s/step - loss: 0.0819 - mae: 0.2456\n",
      "Epoch 203/1200\n",
      "1/1 [==============================] - 0s 16ms/step - loss: 0.0813 - mae: 0.2448\n",
      "Epoch 204/1200\n",
      "1/1 [==============================] - 0s 0s/step - loss: 0.0808 - mae: 0.2440\n",
      "Epoch 205/1200\n",
      "1/1 [==============================] - 0s 0s/step - loss: 0.0803 - mae: 0.2432\n",
      "Epoch 206/1200\n",
      "1/1 [==============================] - 0s 16ms/step - loss: 0.0797 - mae: 0.2423\n",
      "Epoch 207/1200\n",
      "1/1 [==============================] - 0s 0s/step - loss: 0.0792 - mae: 0.2415\n",
      "Epoch 208/1200\n",
      "1/1 [==============================] - 0s 0s/step - loss: 0.0786 - mae: 0.2407\n",
      "Epoch 209/1200\n",
      "1/1 [==============================] - 0s 16ms/step - loss: 0.0781 - mae: 0.2399\n",
      "Epoch 210/1200\n",
      "1/1 [==============================] - 0s 0s/step - loss: 0.0776 - mae: 0.2391\n",
      "Epoch 211/1200\n",
      "1/1 [==============================] - 0s 0s/step - loss: 0.0771 - mae: 0.2383\n",
      "Epoch 212/1200\n",
      "1/1 [==============================] - 0s 0s/step - loss: 0.0765 - mae: 0.2375\n",
      "Epoch 213/1200\n",
      "1/1 [==============================] - 0s 0s/step - loss: 0.0760 - mae: 0.2367\n",
      "Epoch 214/1200\n",
      "1/1 [==============================] - 0s 0s/step - loss: 0.0755 - mae: 0.2359\n",
      "Epoch 215/1200\n",
      "1/1 [==============================] - 0s 0s/step - loss: 0.0750 - mae: 0.2351\n",
      "Epoch 216/1200\n",
      "1/1 [==============================] - 0s 0s/step - loss: 0.0745 - mae: 0.2343\n",
      "Epoch 217/1200\n",
      "1/1 [==============================] - 0s 0s/step - loss: 0.0740 - mae: 0.2335\n",
      "Epoch 218/1200\n",
      "1/1 [==============================] - 0s 0s/step - loss: 0.0735 - mae: 0.2327\n",
      "Epoch 219/1200\n",
      "1/1 [==============================] - 0s 5ms/step - loss: 0.0730 - mae: 0.2319\n",
      "Epoch 220/1200\n",
      "1/1 [==============================] - 0s 4ms/step - loss: 0.0725 - mae: 0.2311\n",
      "Epoch 221/1200\n",
      "1/1 [==============================] - 0s 3ms/step - loss: 0.0720 - mae: 0.2303\n",
      "Epoch 222/1200\n",
      "1/1 [==============================] - 0s 4ms/step - loss: 0.0715 - mae: 0.2296\n",
      "Epoch 223/1200\n",
      "1/1 [==============================] - 0s 3ms/step - loss: 0.0710 - mae: 0.2288\n",
      "Epoch 224/1200\n",
      "1/1 [==============================] - 0s 4ms/step - loss: 0.0706 - mae: 0.2280\n",
      "Epoch 225/1200\n",
      "1/1 [==============================] - 0s 3ms/step - loss: 0.0701 - mae: 0.2272\n",
      "Epoch 226/1200\n",
      "1/1 [==============================] - 0s 0s/step - loss: 0.0696 - mae: 0.2265\n",
      "Epoch 227/1200\n",
      "1/1 [==============================] - 0s 0s/step - loss: 0.0691 - mae: 0.2257\n",
      "Epoch 228/1200\n",
      "1/1 [==============================] - 0s 0s/step - loss: 0.0687 - mae: 0.2249\n",
      "Epoch 229/1200\n",
      "1/1 [==============================] - 0s 0s/step - loss: 0.0682 - mae: 0.2242\n",
      "Epoch 230/1200\n",
      "1/1 [==============================] - 0s 0s/step - loss: 0.0678 - mae: 0.2234\n",
      "Epoch 231/1200\n",
      "1/1 [==============================] - 0s 0s/step - loss: 0.0673 - mae: 0.2227\n",
      "Epoch 232/1200\n",
      "1/1 [==============================] - 0s 0s/step - loss: 0.0668 - mae: 0.2219\n",
      "Epoch 233/1200\n",
      "1/1 [==============================] - 0s 0s/step - loss: 0.0664 - mae: 0.2212\n",
      "Epoch 234/1200\n",
      "1/1 [==============================] - 0s 0s/step - loss: 0.0659 - mae: 0.2204\n",
      "Epoch 235/1200\n",
      "1/1 [==============================] - 0s 0s/step - loss: 0.0655 - mae: 0.2197\n",
      "Epoch 236/1200\n",
      "1/1 [==============================] - 0s 0s/step - loss: 0.0651 - mae: 0.2189\n",
      "Epoch 237/1200\n",
      "1/1 [==============================] - 0s 16ms/step - loss: 0.0646 - mae: 0.2182\n",
      "Epoch 238/1200\n",
      "1/1 [==============================] - 0s 4ms/step - loss: 0.0642 - mae: 0.2174\n",
      "Epoch 239/1200\n",
      "1/1 [==============================] - 0s 3ms/step - loss: 0.0637 - mae: 0.2167\n",
      "Epoch 240/1200\n",
      "1/1 [==============================] - 0s 3ms/step - loss: 0.0633 - mae: 0.2160\n",
      "Epoch 241/1200\n",
      "1/1 [==============================] - 0s 3ms/step - loss: 0.0629 - mae: 0.2152\n",
      "Epoch 242/1200\n",
      "1/1 [==============================] - 0s 4ms/step - loss: 0.0625 - mae: 0.2145\n",
      "Epoch 243/1200\n",
      "1/1 [==============================] - 0s 2ms/step - loss: 0.0620 - mae: 0.2138\n",
      "Epoch 244/1200\n",
      "1/1 [==============================] - 0s 0s/step - loss: 0.0616 - mae: 0.2131\n",
      "Epoch 245/1200\n",
      "1/1 [==============================] - 0s 0s/step - loss: 0.0612 - mae: 0.2123\n",
      "Epoch 246/1200\n",
      "1/1 [==============================] - 0s 16ms/step - loss: 0.0608 - mae: 0.2116\n",
      "Epoch 247/1200\n",
      "1/1 [==============================] - 0s 0s/step - loss: 0.0604 - mae: 0.2109\n",
      "Epoch 248/1200\n",
      "1/1 [==============================] - 0s 0s/step - loss: 0.0600 - mae: 0.2102\n",
      "Epoch 249/1200\n",
      "1/1 [==============================] - 0s 16ms/step - loss: 0.0596 - mae: 0.2095\n",
      "Epoch 250/1200\n",
      "1/1 [==============================] - 0s 0s/step - loss: 0.0592 - mae: 0.2088\n",
      "Epoch 251/1200\n",
      "1/1 [==============================] - 0s 0s/step - loss: 0.0588 - mae: 0.2081\n",
      "Epoch 252/1200\n",
      "1/1 [==============================] - 0s 16ms/step - loss: 0.0584 - mae: 0.2074\n",
      "Epoch 253/1200\n",
      "1/1 [==============================] - 0s 0s/step - loss: 0.0580 - mae: 0.2067\n",
      "Epoch 254/1200\n",
      "1/1 [==============================] - 0s 0s/step - loss: 0.0576 - mae: 0.2060\n",
      "Epoch 255/1200\n",
      "1/1 [==============================] - 0s 16ms/step - loss: 0.0572 - mae: 0.2053\n",
      "Epoch 256/1200\n",
      "1/1 [==============================] - 0s 0s/step - loss: 0.0568 - mae: 0.2046\n",
      "Epoch 257/1200\n",
      "1/1 [==============================] - 0s 0s/step - loss: 0.0564 - mae: 0.2039\n",
      "Epoch 258/1200\n",
      "1/1 [==============================] - 0s 16ms/step - loss: 0.0560 - mae: 0.2032\n",
      "Epoch 259/1200\n",
      "1/1 [==============================] - 0s 3ms/step - loss: 0.0557 - mae: 0.2025\n",
      "Epoch 260/1200\n",
      "1/1 [==============================] - 0s 0s/step - loss: 0.0553 - mae: 0.2018\n",
      "Epoch 261/1200\n",
      "1/1 [==============================] - 0s 16ms/step - loss: 0.0549 - mae: 0.2011\n",
      "Epoch 262/1200\n",
      "1/1 [==============================] - 0s 0s/step - loss: 0.0545 - mae: 0.2005\n",
      "Epoch 263/1200\n",
      "1/1 [==============================] - 0s 0s/step - loss: 0.0542 - mae: 0.1998\n",
      "Epoch 264/1200\n",
      "1/1 [==============================] - 0s 16ms/step - loss: 0.0538 - mae: 0.1991\n",
      "Epoch 265/1200\n",
      "1/1 [==============================] - 0s 0s/step - loss: 0.0535 - mae: 0.1984\n",
      "Epoch 266/1200\n",
      "1/1 [==============================] - 0s 0s/step - loss: 0.0531 - mae: 0.1978\n",
      "Epoch 267/1200\n",
      "1/1 [==============================] - 0s 16ms/step - loss: 0.0527 - mae: 0.1971\n",
      "Epoch 268/1200\n",
      "1/1 [==============================] - 0s 0s/step - loss: 0.0524 - mae: 0.1964\n",
      "Epoch 269/1200\n",
      "1/1 [==============================] - 0s 0s/step - loss: 0.0520 - mae: 0.1958\n",
      "Epoch 270/1200\n",
      "1/1 [==============================] - 0s 16ms/step - loss: 0.0517 - mae: 0.1951\n",
      "Epoch 271/1200\n",
      "1/1 [==============================] - 0s 0s/step - loss: 0.0513 - mae: 0.1945\n",
      "Epoch 272/1200\n",
      "1/1 [==============================] - 0s 0s/step - loss: 0.0510 - mae: 0.1938\n",
      "Epoch 273/1200\n",
      "1/1 [==============================] - 0s 0s/step - loss: 0.0506 - mae: 0.1931\n",
      "Epoch 274/1200\n",
      "1/1 [==============================] - 0s 0s/step - loss: 0.0503 - mae: 0.1925\n",
      "Epoch 275/1200\n",
      "1/1 [==============================] - 0s 0s/step - loss: 0.0500 - mae: 0.1918\n",
      "Epoch 276/1200\n",
      "1/1 [==============================] - 0s 7ms/step - loss: 0.0496 - mae: 0.1912\n",
      "Epoch 277/1200\n",
      "1/1 [==============================] - 0s 0s/step - loss: 0.0493 - mae: 0.1905\n",
      "Epoch 278/1200\n",
      "1/1 [==============================] - 0s 0s/step - loss: 0.0489 - mae: 0.1899\n",
      "Epoch 279/1200\n",
      "1/1 [==============================] - 0s 16ms/step - loss: 0.0486 - mae: 0.1893\n",
      "Epoch 280/1200\n",
      "1/1 [==============================] - 0s 0s/step - loss: 0.0483 - mae: 0.1886\n",
      "Epoch 281/1200\n",
      "1/1 [==============================] - 0s 0s/step - loss: 0.0480 - mae: 0.1880\n",
      "Epoch 282/1200\n",
      "1/1 [==============================] - 0s 16ms/step - loss: 0.0476 - mae: 0.1873\n",
      "Epoch 283/1200\n",
      "1/1 [==============================] - 0s 0s/step - loss: 0.0473 - mae: 0.1867\n",
      "Epoch 284/1200\n",
      "1/1 [==============================] - 0s 0s/step - loss: 0.0470 - mae: 0.1861\n",
      "Epoch 285/1200\n",
      "1/1 [==============================] - 0s 16ms/step - loss: 0.0467 - mae: 0.1854\n",
      "Epoch 286/1200\n",
      "1/1 [==============================] - 0s 0s/step - loss: 0.0464 - mae: 0.1848\n",
      "Epoch 287/1200\n",
      "1/1 [==============================] - 0s 0s/step - loss: 0.0461 - mae: 0.1842\n",
      "Epoch 288/1200\n",
      "1/1 [==============================] - 0s 16ms/step - loss: 0.0457 - mae: 0.1836\n",
      "Epoch 289/1200\n",
      "1/1 [==============================] - 0s 0s/step - loss: 0.0454 - mae: 0.1830\n",
      "Epoch 290/1200\n",
      "1/1 [==============================] - 0s 0s/step - loss: 0.0451 - mae: 0.1823\n",
      "Epoch 291/1200\n",
      "1/1 [==============================] - 0s 0s/step - loss: 0.0448 - mae: 0.1817\n",
      "Epoch 292/1200\n",
      "1/1 [==============================] - 0s 0s/step - loss: 0.0445 - mae: 0.1811\n",
      "Epoch 293/1200\n",
      "1/1 [==============================] - 0s 0s/step - loss: 0.0442 - mae: 0.1805\n",
      "Epoch 294/1200\n",
      "1/1 [==============================] - 0s 0s/step - loss: 0.0439 - mae: 0.1799\n",
      "Epoch 295/1200\n",
      "1/1 [==============================] - 0s 16ms/step - loss: 0.0436 - mae: 0.1793\n",
      "Epoch 296/1200\n",
      "1/1 [==============================] - 0s 7ms/step - loss: 0.0433 - mae: 0.1787\n",
      "Epoch 297/1200\n",
      "1/1 [==============================] - 0s 0s/step - loss: 0.0430 - mae: 0.1781\n",
      "Epoch 298/1200\n",
      "1/1 [==============================] - 0s 0s/step - loss: 0.0427 - mae: 0.1775\n",
      "Epoch 299/1200\n",
      "1/1 [==============================] - 0s 16ms/step - loss: 0.0425 - mae: 0.1769\n",
      "Epoch 300/1200\n",
      "1/1 [==============================] - 0s 0s/step - loss: 0.0422 - mae: 0.1763\n",
      "Epoch 301/1200\n",
      "1/1 [==============================] - 0s 0s/step - loss: 0.0419 - mae: 0.1757\n",
      "Epoch 302/1200\n",
      "1/1 [==============================] - 0s 16ms/step - loss: 0.0416 - mae: 0.1751\n",
      "Epoch 303/1200\n",
      "1/1 [==============================] - 0s 0s/step - loss: 0.0413 - mae: 0.1745\n",
      "Epoch 304/1200\n",
      "1/1 [==============================] - 0s 0s/step - loss: 0.0410 - mae: 0.1739\n",
      "Epoch 305/1200\n",
      "1/1 [==============================] - 0s 0s/step - loss: 0.0408 - mae: 0.1733\n",
      "Epoch 306/1200\n",
      "1/1 [==============================] - 0s 0s/step - loss: 0.0405 - mae: 0.1727\n",
      "Epoch 307/1200\n",
      "1/1 [==============================] - 0s 0s/step - loss: 0.0402 - mae: 0.1721\n",
      "Epoch 308/1200\n",
      "1/1 [==============================] - 0s 0s/step - loss: 0.0399 - mae: 0.1715\n",
      "Epoch 309/1200\n",
      "1/1 [==============================] - 0s 3ms/step - loss: 0.0397 - mae: 0.1710\n",
      "Epoch 310/1200\n",
      "1/1 [==============================] - 0s 3ms/step - loss: 0.0394 - mae: 0.1704\n",
      "Epoch 311/1200\n",
      "1/1 [==============================] - 0s 0s/step - loss: 0.0391 - mae: 0.1698\n",
      "Epoch 312/1200\n",
      "1/1 [==============================] - 0s 0s/step - loss: 0.0389 - mae: 0.1692\n",
      "Epoch 313/1200\n",
      "1/1 [==============================] - 0s 0s/step - loss: 0.0386 - mae: 0.1687\n",
      "Epoch 314/1200\n",
      "1/1 [==============================] - 0s 16ms/step - loss: 0.0384 - mae: 0.1681\n",
      "Epoch 315/1200\n",
      "1/1 [==============================] - 0s 4ms/step - loss: 0.0381 - mae: 0.1675\n",
      "Epoch 316/1200\n",
      "1/1 [==============================] - 0s 4ms/step - loss: 0.0378 - mae: 0.1670\n",
      "Epoch 317/1200\n",
      "1/1 [==============================] - 0s 4ms/step - loss: 0.0376 - mae: 0.1664\n",
      "Epoch 318/1200\n",
      "1/1 [==============================] - 0s 4ms/step - loss: 0.0373 - mae: 0.1658\n",
      "Epoch 319/1200\n",
      "1/1 [==============================] - 0s 3ms/step - loss: 0.0371 - mae: 0.1653\n",
      "Epoch 320/1200\n",
      "1/1 [==============================] - 0s 3ms/step - loss: 0.0368 - mae: 0.1647\n",
      "Epoch 321/1200\n",
      "1/1 [==============================] - 0s 4ms/step - loss: 0.0366 - mae: 0.1642\n",
      "Epoch 322/1200\n",
      "1/1 [==============================] - 0s 4ms/step - loss: 0.0363 - mae: 0.1636\n",
      "Epoch 323/1200\n",
      "1/1 [==============================] - 0s 4ms/step - loss: 0.0361 - mae: 0.1631\n",
      "Epoch 324/1200\n",
      "1/1 [==============================] - 0s 4ms/step - loss: 0.0358 - mae: 0.1625\n",
      "Epoch 325/1200\n",
      "1/1 [==============================] - 0s 3ms/step - loss: 0.0356 - mae: 0.1620\n",
      "Epoch 326/1200\n",
      "1/1 [==============================] - 0s 3ms/step - loss: 0.0354 - mae: 0.1614\n",
      "Epoch 327/1200\n",
      "1/1 [==============================] - 0s 3ms/step - loss: 0.0351 - mae: 0.1609\n",
      "Epoch 328/1200\n",
      "1/1 [==============================] - 0s 4ms/step - loss: 0.0349 - mae: 0.1603\n",
      "Epoch 329/1200\n",
      "1/1 [==============================] - 0s 4ms/step - loss: 0.0346 - mae: 0.1598\n",
      "Epoch 330/1200\n",
      "1/1 [==============================] - 0s 0s/step - loss: 0.0344 - mae: 0.1592\n",
      "Epoch 331/1200\n",
      "1/1 [==============================] - 0s 0s/step - loss: 0.0342 - mae: 0.1587\n",
      "Epoch 332/1200\n",
      "1/1 [==============================] - 0s 0s/step - loss: 0.0340 - mae: 0.1582\n",
      "Epoch 333/1200\n",
      "1/1 [==============================] - 0s 16ms/step - loss: 0.0337 - mae: 0.1576\n",
      "Epoch 334/1200\n",
      "1/1 [==============================] - 0s 14ms/step - loss: 0.0335 - mae: 0.1571\n",
      "Epoch 335/1200\n",
      "1/1 [==============================] - 0s 16ms/step - loss: 0.0333 - mae: 0.1566\n",
      "Epoch 336/1200\n",
      "1/1 [==============================] - 0s 0s/step - loss: 0.0330 - mae: 0.1560\n",
      "Epoch 337/1200\n",
      "1/1 [==============================] - 0s 16ms/step - loss: 0.0328 - mae: 0.1555\n",
      "Epoch 338/1200\n",
      "1/1 [==============================] - 0s 16ms/step - loss: 0.0326 - mae: 0.1550\n",
      "Epoch 339/1200\n",
      "1/1 [==============================] - 0s 0s/step - loss: 0.0324 - mae: 0.1545\n",
      "Epoch 340/1200\n",
      "1/1 [==============================] - 0s 0s/step - loss: 0.0322 - mae: 0.1539\n",
      "Epoch 341/1200\n",
      "1/1 [==============================] - 0s 0s/step - loss: 0.0319 - mae: 0.1534\n",
      "Epoch 342/1200\n",
      "1/1 [==============================] - 0s 0s/step - loss: 0.0317 - mae: 0.1529\n",
      "Epoch 343/1200\n",
      "1/1 [==============================] - 0s 0s/step - loss: 0.0315 - mae: 0.1524\n",
      "Epoch 344/1200\n",
      "1/1 [==============================] - 0s 0s/step - loss: 0.0313 - mae: 0.1519\n",
      "Epoch 345/1200\n",
      "1/1 [==============================] - 0s 0s/step - loss: 0.0311 - mae: 0.1513\n",
      "Epoch 346/1200\n",
      "1/1 [==============================] - 0s 0s/step - loss: 0.0309 - mae: 0.1508\n",
      "Epoch 347/1200\n",
      "1/1 [==============================] - 0s 4ms/step - loss: 0.0307 - mae: 0.1503\n",
      "Epoch 348/1200\n",
      "1/1 [==============================] - 0s 0s/step - loss: 0.0305 - mae: 0.1498\n",
      "Epoch 349/1200\n",
      "1/1 [==============================] - 0s 0s/step - loss: 0.0303 - mae: 0.1493\n",
      "Epoch 350/1200\n",
      "1/1 [==============================] - 0s 0s/step - loss: 0.0301 - mae: 0.1488\n",
      "Epoch 351/1200\n",
      "1/1 [==============================] - 0s 0s/step - loss: 0.0299 - mae: 0.1483\n",
      "Epoch 352/1200\n",
      "1/1 [==============================] - 0s 0s/step - loss: 0.0297 - mae: 0.1478\n",
      "Epoch 353/1200\n",
      "1/1 [==============================] - 0s 0s/step - loss: 0.0295 - mae: 0.1473\n",
      "Epoch 354/1200\n",
      "1/1 [==============================] - 0s 16ms/step - loss: 0.0293 - mae: 0.1468\n",
      "Epoch 355/1200\n",
      "1/1 [==============================] - 0s 0s/step - loss: 0.0291 - mae: 0.1463\n",
      "Epoch 356/1200\n",
      "1/1 [==============================] - 0s 0s/step - loss: 0.0289 - mae: 0.1458\n",
      "Epoch 357/1200\n",
      "1/1 [==============================] - 0s 16ms/step - loss: 0.0287 - mae: 0.1453\n",
      "Epoch 358/1200\n",
      "1/1 [==============================] - 0s 0s/step - loss: 0.0285 - mae: 0.1448\n",
      "Epoch 359/1200\n",
      "1/1 [==============================] - 0s 0s/step - loss: 0.0283 - mae: 0.1443\n",
      "Epoch 360/1200\n",
      "1/1 [==============================] - 0s 16ms/step - loss: 0.0281 - mae: 0.1438\n",
      "Epoch 361/1200\n",
      "1/1 [==============================] - 0s 0s/step - loss: 0.0279 - mae: 0.1434\n",
      "Epoch 362/1200\n",
      "1/1 [==============================] - 0s 0s/step - loss: 0.0277 - mae: 0.1429\n",
      "Epoch 363/1200\n",
      "1/1 [==============================] - 0s 16ms/step - loss: 0.0275 - mae: 0.1424\n",
      "Epoch 364/1200\n",
      "1/1 [==============================] - 0s 0s/step - loss: 0.0273 - mae: 0.1419\n",
      "Epoch 365/1200\n",
      "1/1 [==============================] - 0s 0s/step - loss: 0.0272 - mae: 0.1414\n",
      "Epoch 366/1200\n",
      "1/1 [==============================] - 0s 0s/step - loss: 0.0270 - mae: 0.1410\n",
      "Epoch 367/1200\n",
      "1/1 [==============================] - 0s 0s/step - loss: 0.0268 - mae: 0.1405\n",
      "Epoch 368/1200\n",
      "1/1 [==============================] - 0s 7ms/step - loss: 0.0266 - mae: 0.1400\n",
      "Epoch 369/1200\n",
      "1/1 [==============================] - 0s 0s/step - loss: 0.0264 - mae: 0.1395\n",
      "Epoch 370/1200\n",
      "1/1 [==============================] - 0s 0s/step - loss: 0.0262 - mae: 0.1391\n",
      "Epoch 371/1200\n",
      "1/1 [==============================] - 0s 16ms/step - loss: 0.0261 - mae: 0.1386\n",
      "Epoch 372/1200\n",
      "1/1 [==============================] - 0s 0s/step - loss: 0.0259 - mae: 0.1381\n",
      "Epoch 373/1200\n",
      "1/1 [==============================] - 0s 0s/step - loss: 0.0257 - mae: 0.1377\n",
      "Epoch 374/1200\n",
      "1/1 [==============================] - 0s 16ms/step - loss: 0.0255 - mae: 0.1372\n",
      "Epoch 375/1200\n",
      "1/1 [==============================] - 0s 0s/step - loss: 0.0254 - mae: 0.1367\n",
      "Epoch 376/1200\n",
      "1/1 [==============================] - 0s 0s/step - loss: 0.0252 - mae: 0.1363\n",
      "Epoch 377/1200\n",
      "1/1 [==============================] - 0s 16ms/step - loss: 0.0250 - mae: 0.1358\n",
      "Epoch 378/1200\n",
      "1/1 [==============================] - 0s 0s/step - loss: 0.0249 - mae: 0.1353\n",
      "Epoch 379/1200\n",
      "1/1 [==============================] - 0s 0s/step - loss: 0.0247 - mae: 0.1349\n",
      "Epoch 380/1200\n",
      "1/1 [==============================] - 0s 0s/step - loss: 0.0245 - mae: 0.1344\n",
      "Epoch 381/1200\n",
      "1/1 [==============================] - 0s 0s/step - loss: 0.0244 - mae: 0.1340\n",
      "Epoch 382/1200\n",
      "1/1 [==============================] - 0s 0s/step - loss: 0.0242 - mae: 0.1335\n",
      "Epoch 383/1200\n",
      "1/1 [==============================] - 0s 0s/step - loss: 0.0240 - mae: 0.1331\n",
      "Epoch 384/1200\n",
      "1/1 [==============================] - 0s 0s/step - loss: 0.0239 - mae: 0.1326\n",
      "Epoch 385/1200\n",
      "1/1 [==============================] - 0s 0s/step - loss: 0.0237 - mae: 0.1322\n",
      "Epoch 386/1200\n",
      "1/1 [==============================] - 0s 0s/step - loss: 0.0236 - mae: 0.1317\n",
      "Epoch 387/1200\n",
      "1/1 [==============================] - 0s 16ms/step - loss: 0.0234 - mae: 0.1313\n",
      "Epoch 388/1200\n",
      "1/1 [==============================] - 0s 7ms/step - loss: 0.0232 - mae: 0.1308\n",
      "Epoch 389/1200\n",
      "1/1 [==============================] - 0s 0s/step - loss: 0.0231 - mae: 0.1304\n",
      "Epoch 390/1200\n",
      "1/1 [==============================] - 0s 0s/step - loss: 0.0229 - mae: 0.1300\n",
      "Epoch 391/1200\n",
      "1/1 [==============================] - 0s 16ms/step - loss: 0.0228 - mae: 0.1295\n",
      "Epoch 392/1200\n",
      "1/1 [==============================] - 0s 0s/step - loss: 0.0226 - mae: 0.1291\n",
      "Epoch 393/1200\n",
      "1/1 [==============================] - 0s 0s/step - loss: 0.0225 - mae: 0.1286\n",
      "Epoch 394/1200\n",
      "1/1 [==============================] - 0s 0s/step - loss: 0.0223 - mae: 0.1282\n",
      "Epoch 395/1200\n",
      "1/1 [==============================] - 0s 0s/step - loss: 0.0222 - mae: 0.1278\n",
      "Epoch 396/1200\n",
      "1/1 [==============================] - 0s 0s/step - loss: 0.0220 - mae: 0.1273\n",
      "Epoch 397/1200\n",
      "1/1 [==============================] - 0s 0s/step - loss: 0.0219 - mae: 0.1269\n",
      "Epoch 398/1200\n",
      "1/1 [==============================] - 0s 0s/step - loss: 0.0217 - mae: 0.1265\n",
      "Epoch 399/1200\n",
      "1/1 [==============================] - 0s 0s/step - loss: 0.0216 - mae: 0.1261\n",
      "Epoch 400/1200\n",
      "1/1 [==============================] - 0s 0s/step - loss: 0.0214 - mae: 0.1256\n",
      "Epoch 401/1200\n",
      "1/1 [==============================] - 0s 0s/step - loss: 0.0213 - mae: 0.1252\n",
      "Epoch 402/1200\n",
      "1/1 [==============================] - 0s 0s/step - loss: 0.0211 - mae: 0.1248\n",
      "Epoch 403/1200\n",
      "1/1 [==============================] - 0s 0s/step - loss: 0.0210 - mae: 0.1244\n",
      "Epoch 404/1200\n",
      "1/1 [==============================] - 0s 0s/step - loss: 0.0208 - mae: 0.1239\n",
      "Epoch 405/1200\n",
      "1/1 [==============================] - 0s 0s/step - loss: 0.0207 - mae: 0.1235\n",
      "Epoch 406/1200\n",
      "1/1 [==============================] - 0s 0s/step - loss: 0.0206 - mae: 0.1231\n",
      "Epoch 407/1200\n",
      "1/1 [==============================] - 0s 16ms/step - loss: 0.0204 - mae: 0.1227\n",
      "Epoch 408/1200\n",
      "1/1 [==============================] - 0s 7ms/step - loss: 0.0203 - mae: 0.1223\n",
      "Epoch 409/1200\n",
      "1/1 [==============================] - 0s 0s/step - loss: 0.0202 - mae: 0.1219\n",
      "Epoch 410/1200\n",
      "1/1 [==============================] - 0s 0s/step - loss: 0.0200 - mae: 0.1214\n",
      "Epoch 411/1200\n",
      "1/1 [==============================] - 0s 0s/step - loss: 0.0199 - mae: 0.1210\n",
      "Epoch 412/1200\n",
      "1/1 [==============================] - 0s 0s/step - loss: 0.0197 - mae: 0.1206\n",
      "Epoch 413/1200\n",
      "1/1 [==============================] - 0s 0s/step - loss: 0.0196 - mae: 0.1202\n",
      "Epoch 414/1200\n",
      "1/1 [==============================] - 0s 16ms/step - loss: 0.0195 - mae: 0.1198\n",
      "Epoch 415/1200\n",
      "1/1 [==============================] - 0s 0s/step - loss: 0.0194 - mae: 0.1194\n",
      "Epoch 416/1200\n",
      "1/1 [==============================] - 0s 0s/step - loss: 0.0192 - mae: 0.1190\n",
      "Epoch 417/1200\n",
      "1/1 [==============================] - 0s 16ms/step - loss: 0.0191 - mae: 0.1186\n",
      "Epoch 418/1200\n",
      "1/1 [==============================] - 0s 16ms/step - loss: 0.0190 - mae: 0.1182\n",
      "Epoch 419/1200\n",
      "1/1 [==============================] - 0s 0s/step - loss: 0.0188 - mae: 0.1178\n",
      "Epoch 420/1200\n",
      "1/1 [==============================] - 0s 16ms/step - loss: 0.0187 - mae: 0.1174\n",
      "Epoch 421/1200\n",
      "1/1 [==============================] - 0s 7ms/step - loss: 0.0186 - mae: 0.1170\n",
      "Epoch 422/1200\n",
      "1/1 [==============================] - 0s 0s/step - loss: 0.0185 - mae: 0.1166\n",
      "Epoch 423/1200\n",
      "1/1 [==============================] - 0s 0s/step - loss: 0.0183 - mae: 0.1162\n",
      "Epoch 424/1200\n",
      "1/1 [==============================] - 0s 0s/step - loss: 0.0182 - mae: 0.1158\n",
      "Epoch 425/1200\n",
      "1/1 [==============================] - 0s 0s/step - loss: 0.0181 - mae: 0.1154\n",
      "Epoch 426/1200\n",
      "1/1 [==============================] - 0s 0s/step - loss: 0.0180 - mae: 0.1150\n",
      "Epoch 427/1200\n",
      "1/1 [==============================] - 0s 0s/step - loss: 0.0178 - mae: 0.1146\n",
      "Epoch 428/1200\n",
      "1/1 [==============================] - 0s 0s/step - loss: 0.0177 - mae: 0.1143\n",
      "Epoch 429/1200\n",
      "1/1 [==============================] - 0s 0s/step - loss: 0.0176 - mae: 0.1139\n",
      "Epoch 430/1200\n",
      "1/1 [==============================] - 0s 0s/step - loss: 0.0175 - mae: 0.1135\n",
      "Epoch 431/1200\n",
      "1/1 [==============================] - 0s 0s/step - loss: 0.0174 - mae: 0.1131\n",
      "Epoch 432/1200\n",
      "1/1 [==============================] - 0s 0s/step - loss: 0.0172 - mae: 0.1127\n",
      "Epoch 433/1200\n",
      "1/1 [==============================] - 0s 16ms/step - loss: 0.0171 - mae: 0.1123\n",
      "Epoch 434/1200\n",
      "1/1 [==============================] - 0s 0s/step - loss: 0.0170 - mae: 0.1120\n",
      "Epoch 435/1200\n",
      "1/1 [==============================] - 0s 0s/step - loss: 0.0169 - mae: 0.1116\n",
      "Epoch 436/1200\n",
      "1/1 [==============================] - 0s 16ms/step - loss: 0.0168 - mae: 0.1112\n",
      "Epoch 437/1200\n",
      "1/1 [==============================] - 0s 0s/step - loss: 0.0167 - mae: 0.1108\n",
      "Epoch 438/1200\n",
      "1/1 [==============================] - 0s 0s/step - loss: 0.0166 - mae: 0.1105\n",
      "Epoch 439/1200\n",
      "1/1 [==============================] - 0s 16ms/step - loss: 0.0164 - mae: 0.1101\n",
      "Epoch 440/1200\n",
      "1/1 [==============================] - 0s 7ms/step - loss: 0.0163 - mae: 0.1097\n",
      "Epoch 441/1200\n",
      "1/1 [==============================] - 0s 0s/step - loss: 0.0162 - mae: 0.1093\n",
      "Epoch 442/1200\n",
      "1/1 [==============================] - 0s 0s/step - loss: 0.0161 - mae: 0.1090\n",
      "Epoch 443/1200\n",
      "1/1 [==============================] - 0s 0s/step - loss: 0.0160 - mae: 0.1086\n",
      "Epoch 444/1200\n",
      "1/1 [==============================] - 0s 0s/step - loss: 0.0159 - mae: 0.1082\n",
      "Epoch 445/1200\n",
      "1/1 [==============================] - 0s 0s/step - loss: 0.0158 - mae: 0.1079\n",
      "Epoch 446/1200\n",
      "1/1 [==============================] - 0s 0s/step - loss: 0.0157 - mae: 0.1075\n",
      "Epoch 447/1200\n",
      "1/1 [==============================] - 0s 0s/step - loss: 0.0156 - mae: 0.1071\n",
      "Epoch 448/1200\n",
      "1/1 [==============================] - 0s 0s/step - loss: 0.0155 - mae: 0.1068\n",
      "Epoch 449/1200\n",
      "1/1 [==============================] - 0s 0s/step - loss: 0.0154 - mae: 0.1064\n",
      "Epoch 450/1200\n",
      "1/1 [==============================] - 0s 0s/step - loss: 0.0153 - mae: 0.1061\n",
      "Epoch 451/1200\n",
      "1/1 [==============================] - 0s 0s/step - loss: 0.0152 - mae: 0.1057\n",
      "Epoch 452/1200\n",
      "1/1 [==============================] - 0s 16ms/step - loss: 0.0151 - mae: 0.1053\n",
      "Epoch 453/1200\n",
      "1/1 [==============================] - 0s 0s/step - loss: 0.0150 - mae: 0.1050\n",
      "Epoch 454/1200\n",
      "1/1 [==============================] - 0s 0s/step - loss: 0.0149 - mae: 0.1046\n",
      "Epoch 455/1200\n",
      "1/1 [==============================] - 0s 0s/step - loss: 0.0148 - mae: 0.1043\n",
      "Epoch 456/1200\n",
      "1/1 [==============================] - 0s 0s/step - loss: 0.0147 - mae: 0.1039\n",
      "Epoch 457/1200\n",
      "1/1 [==============================] - 0s 0s/step - loss: 0.0146 - mae: 0.1036\n",
      "Epoch 458/1200\n",
      "1/1 [==============================] - 0s 0s/step - loss: 0.0145 - mae: 0.1032\n",
      "Epoch 459/1200\n",
      "1/1 [==============================] - 0s 7ms/step - loss: 0.0144 - mae: 0.1029\n",
      "Epoch 460/1200\n",
      "1/1 [==============================] - 0s 0s/step - loss: 0.0143 - mae: 0.1025\n",
      "Epoch 461/1200\n",
      "1/1 [==============================] - 0s 8ms/step - loss: 0.0142 - mae: 0.1022\n",
      "Epoch 462/1200\n",
      "1/1 [==============================] - 0s 0s/step - loss: 0.0141 - mae: 0.1018\n",
      "Epoch 463/1200\n",
      "1/1 [==============================] - 0s 0s/step - loss: 0.0140 - mae: 0.1015\n",
      "Epoch 464/1200\n",
      "1/1 [==============================] - 0s 0s/step - loss: 0.0139 - mae: 0.1011\n",
      "Epoch 465/1200\n",
      "1/1 [==============================] - 0s 0s/step - loss: 0.0138 - mae: 0.1008\n",
      "Epoch 466/1200\n",
      "1/1 [==============================] - 0s 0s/step - loss: 0.0137 - mae: 0.1005\n",
      "Epoch 467/1200\n",
      "1/1 [==============================] - 0s 0s/step - loss: 0.0136 - mae: 0.1001\n",
      "Epoch 468/1200\n",
      "1/1 [==============================] - 0s 0s/step - loss: 0.0135 - mae: 0.0998\n",
      "Epoch 469/1200\n",
      "1/1 [==============================] - 0s 16ms/step - loss: 0.0134 - mae: 0.0994\n",
      "Epoch 470/1200\n",
      "1/1 [==============================] - 0s 0s/step - loss: 0.0133 - mae: 0.0991\n",
      "Epoch 471/1200\n",
      "1/1 [==============================] - 0s 11ms/step - loss: 0.0132 - mae: 0.0988\n",
      "Epoch 472/1200\n",
      "1/1 [==============================] - 0s 0s/step - loss: 0.0132 - mae: 0.0984\n",
      "Epoch 473/1200\n",
      "1/1 [==============================] - 0s 3ms/step - loss: 0.0131 - mae: 0.0981\n",
      "Epoch 474/1200\n",
      "1/1 [==============================] - 0s 57us/step - loss: 0.0130 - mae: 0.0978\n",
      "Epoch 475/1200\n",
      "1/1 [==============================] - 0s 0s/step - loss: 0.0129 - mae: 0.0974\n",
      "Epoch 476/1200\n",
      "1/1 [==============================] - 0s 0s/step - loss: 0.0128 - mae: 0.0971\n",
      "Epoch 477/1200\n",
      "1/1 [==============================] - 0s 0s/step - loss: 0.0127 - mae: 0.0968\n",
      "Epoch 478/1200\n",
      "1/1 [==============================] - 0s 0s/step - loss: 0.0126 - mae: 0.0965\n",
      "Epoch 479/1200\n",
      "1/1 [==============================] - 0s 0s/step - loss: 0.0125 - mae: 0.0961\n",
      "Epoch 480/1200\n",
      "1/1 [==============================] - 0s 0s/step - loss: 0.0125 - mae: 0.0958\n",
      "Epoch 481/1200\n",
      "1/1 [==============================] - 0s 0s/step - loss: 0.0124 - mae: 0.0955\n",
      "Epoch 482/1200\n",
      "1/1 [==============================] - 0s 0s/step - loss: 0.0123 - mae: 0.0952\n",
      "Epoch 483/1200\n",
      "1/1 [==============================] - 0s 16ms/step - loss: 0.0122 - mae: 0.0948\n",
      "Epoch 484/1200\n",
      "1/1 [==============================] - 0s 0s/step - loss: 0.0121 - mae: 0.0945\n",
      "Epoch 485/1200\n",
      "1/1 [==============================] - 0s 0s/step - loss: 0.0120 - mae: 0.0942\n",
      "Epoch 486/1200\n",
      "1/1 [==============================] - 0s 0s/step - loss: 0.0120 - mae: 0.0939\n",
      "Epoch 487/1200\n",
      "1/1 [==============================] - 0s 0s/step - loss: 0.0119 - mae: 0.0936\n",
      "Epoch 488/1200\n",
      "1/1 [==============================] - 0s 0s/step - loss: 0.0118 - mae: 0.0932\n",
      "Epoch 489/1200\n",
      "1/1 [==============================] - 0s 4ms/step - loss: 0.0117 - mae: 0.0929\n",
      "Epoch 490/1200\n",
      "1/1 [==============================] - 0s 8ms/step - loss: 0.0116 - mae: 0.0926\n",
      "Epoch 491/1200\n",
      "1/1 [==============================] - 0s 4ms/step - loss: 0.0116 - mae: 0.0923\n",
      "Epoch 492/1200\n",
      "1/1 [==============================] - 0s 16ms/step - loss: 0.0115 - mae: 0.0920\n",
      "Epoch 493/1200\n",
      "1/1 [==============================] - 0s 0s/step - loss: 0.0114 - mae: 0.0917\n",
      "Epoch 494/1200\n",
      "1/1 [==============================] - 0s 0s/step - loss: 0.0113 - mae: 0.0914\n",
      "Epoch 495/1200\n",
      "1/1 [==============================] - 0s 0s/step - loss: 0.0113 - mae: 0.0911\n",
      "Epoch 496/1200\n",
      "1/1 [==============================] - 0s 0s/step - loss: 0.0112 - mae: 0.0908\n",
      "Epoch 497/1200\n",
      "1/1 [==============================] - 0s 0s/step - loss: 0.0111 - mae: 0.0904\n",
      "Epoch 498/1200\n",
      "1/1 [==============================] - 0s 0s/step - loss: 0.0110 - mae: 0.0901\n",
      "Epoch 499/1200\n",
      "1/1 [==============================] - 0s 0s/step - loss: 0.0110 - mae: 0.0898\n",
      "Epoch 500/1200\n",
      "1/1 [==============================] - 0s 16ms/step - loss: 0.0109 - mae: 0.0895\n",
      "Epoch 501/1200\n",
      "1/1 [==============================] - 0s 0s/step - loss: 0.0108 - mae: 0.0892\n",
      "Epoch 502/1200\n",
      "1/1 [==============================] - 0s 8ms/step - loss: 0.0107 - mae: 0.0889\n",
      "Epoch 503/1200\n",
      "1/1 [==============================] - 0s 0s/step - loss: 0.0107 - mae: 0.0886\n",
      "Epoch 504/1200\n",
      "1/1 [==============================] - 0s 0s/step - loss: 0.0106 - mae: 0.0883\n",
      "Epoch 505/1200\n",
      "1/1 [==============================] - 0s 0s/step - loss: 0.0105 - mae: 0.0880\n",
      "Epoch 506/1200\n",
      "1/1 [==============================] - 0s 0s/step - loss: 0.0104 - mae: 0.0877\n",
      "Epoch 507/1200\n",
      "1/1 [==============================] - 0s 16ms/step - loss: 0.0104 - mae: 0.0874\n",
      "Epoch 508/1200\n",
      "1/1 [==============================] - 0s 0s/step - loss: 0.0103 - mae: 0.0871\n",
      "Epoch 509/1200\n",
      "1/1 [==============================] - 0s 0s/step - loss: 0.0102 - mae: 0.0868\n",
      "Epoch 510/1200\n",
      "1/1 [==============================] - 0s 16ms/step - loss: 0.0102 - mae: 0.0866\n",
      "Epoch 511/1200\n",
      "1/1 [==============================] - 0s 0s/step - loss: 0.0101 - mae: 0.0863\n",
      "Epoch 512/1200\n",
      "1/1 [==============================] - 0s 0s/step - loss: 0.0100 - mae: 0.0860\n",
      "Epoch 513/1200\n",
      "1/1 [==============================] - 0s 16ms/step - loss: 0.0100 - mae: 0.0857\n",
      "Epoch 514/1200\n",
      "1/1 [==============================] - 0s 0s/step - loss: 0.0099 - mae: 0.0854\n",
      "Epoch 515/1200\n",
      "1/1 [==============================] - 0s 0s/step - loss: 0.0098 - mae: 0.0851\n",
      "Epoch 516/1200\n",
      "1/1 [==============================] - 0s 16ms/step - loss: 0.0098 - mae: 0.0848\n",
      "Epoch 517/1200\n",
      "1/1 [==============================] - 0s 0s/step - loss: 0.0097 - mae: 0.0845\n",
      "Epoch 518/1200\n",
      "1/1 [==============================] - 0s 0s/step - loss: 0.0096 - mae: 0.0842\n",
      "Epoch 519/1200\n",
      "1/1 [==============================] - 0s 16ms/step - loss: 0.0096 - mae: 0.0840\n",
      "Epoch 520/1200\n",
      "1/1 [==============================] - 0s 0s/step - loss: 0.0095 - mae: 0.0837\n",
      "Epoch 521/1200\n",
      "1/1 [==============================] - 0s 0s/step - loss: 0.0094 - mae: 0.0834\n",
      "Epoch 522/1200\n",
      "1/1 [==============================] - 0s 0s/step - loss: 0.0094 - mae: 0.0831\n",
      "Epoch 523/1200\n",
      "1/1 [==============================] - 0s 0s/step - loss: 0.0093 - mae: 0.0828\n",
      "Epoch 524/1200\n",
      "1/1 [==============================] - 0s 0s/step - loss: 0.0092 - mae: 0.0825\n",
      "Epoch 525/1200\n",
      "1/1 [==============================] - 0s 16ms/step - loss: 0.0092 - mae: 0.0823\n",
      "Epoch 526/1200\n",
      "1/1 [==============================] - 0s 0s/step - loss: 0.0091 - mae: 0.0820\n",
      "Epoch 527/1200\n",
      "1/1 [==============================] - 0s 0s/step - loss: 0.0091 - mae: 0.0817\n",
      "Epoch 528/1200\n",
      "1/1 [==============================] - 0s 0s/step - loss: 0.0090 - mae: 0.0814\n",
      "Epoch 529/1200\n",
      "1/1 [==============================] - 0s 0s/step - loss: 0.0089 - mae: 0.0812\n",
      "Epoch 530/1200\n",
      "1/1 [==============================] - 0s 0s/step - loss: 0.0089 - mae: 0.0809\n",
      "Epoch 531/1200\n",
      "1/1 [==============================] - 0s 0s/step - loss: 0.0088 - mae: 0.0806\n",
      "Epoch 532/1200\n",
      "1/1 [==============================] - 0s 0s/step - loss: 0.0088 - mae: 0.0803\n",
      "Epoch 533/1200\n",
      "1/1 [==============================] - 0s 0s/step - loss: 0.0087 - mae: 0.0801\n",
      "Epoch 534/1200\n",
      "1/1 [==============================] - 0s 16ms/step - loss: 0.0086 - mae: 0.0798\n",
      "Epoch 535/1200\n",
      "1/1 [==============================] - 0s 16ms/step - loss: 0.0086 - mae: 0.0795\n",
      "Epoch 536/1200\n",
      "1/1 [==============================] - 0s 7ms/step - loss: 0.0085 - mae: 0.0793\n",
      "Epoch 537/1200\n",
      "1/1 [==============================] - 0s 0s/step - loss: 0.0085 - mae: 0.0790\n",
      "Epoch 538/1200\n",
      "1/1 [==============================] - 0s 16ms/step - loss: 0.0084 - mae: 0.0787\n",
      "Epoch 539/1200\n",
      "1/1 [==============================] - 0s 9ms/step - loss: 0.0084 - mae: 0.0785\n",
      "Epoch 540/1200\n",
      "1/1 [==============================] - 0s 0s/step - loss: 0.0083 - mae: 0.0782\n",
      "Epoch 541/1200\n",
      "1/1 [==============================] - 0s 16ms/step - loss: 0.0082 - mae: 0.0779\n",
      "Epoch 542/1200\n",
      "1/1 [==============================] - 0s 0s/step - loss: 0.0082 - mae: 0.0777\n",
      "Epoch 543/1200\n",
      "1/1 [==============================] - 0s 0s/step - loss: 0.0081 - mae: 0.0774\n",
      "Epoch 544/1200\n",
      "1/1 [==============================] - 0s 16ms/step - loss: 0.0081 - mae: 0.0771\n",
      "Epoch 545/1200\n",
      "1/1 [==============================] - 0s 0s/step - loss: 0.0080 - mae: 0.0769\n",
      "Epoch 546/1200\n",
      "1/1 [==============================] - 0s 0s/step - loss: 0.0080 - mae: 0.0766\n",
      "Epoch 547/1200\n",
      "1/1 [==============================] - 0s 18ms/step - loss: 0.0079 - mae: 0.0764\n",
      "Epoch 548/1200\n",
      "1/1 [==============================] - 0s 0s/step - loss: 0.0079 - mae: 0.0761\n",
      "Epoch 549/1200\n",
      "1/1 [==============================] - 0s 0s/step - loss: 0.0078 - mae: 0.0758\n",
      "Epoch 550/1200\n",
      "1/1 [==============================] - 0s 0s/step - loss: 0.0078 - mae: 0.0756\n",
      "Epoch 551/1200\n",
      "1/1 [==============================] - 0s 0s/step - loss: 0.0077 - mae: 0.0753\n",
      "Epoch 552/1200\n",
      "1/1 [==============================] - 0s 0s/step - loss: 0.0077 - mae: 0.0751\n",
      "Epoch 553/1200\n",
      "1/1 [==============================] - 0s 0s/step - loss: 0.0076 - mae: 0.0748\n",
      "Epoch 554/1200\n",
      "1/1 [==============================] - 0s 0s/step - loss: 0.0075 - mae: 0.0746\n",
      "Epoch 555/1200\n",
      "1/1 [==============================] - 0s 0s/step - loss: 0.0075 - mae: 0.0743\n",
      "Epoch 556/1200\n",
      "1/1 [==============================] - 0s 0s/step - loss: 0.0074 - mae: 0.0741\n",
      "Epoch 557/1200\n",
      "1/1 [==============================] - 0s 0s/step - loss: 0.0074 - mae: 0.0738\n",
      "Epoch 558/1200\n",
      "1/1 [==============================] - 0s 0s/step - loss: 0.0073 - mae: 0.0736\n",
      "Epoch 559/1200\n",
      "1/1 [==============================] - 0s 0s/step - loss: 0.0073 - mae: 0.0733\n",
      "Epoch 560/1200\n",
      "1/1 [==============================] - 0s 0s/step - loss: 0.0072 - mae: 0.0731\n",
      "Epoch 561/1200\n",
      "1/1 [==============================] - 0s 0s/step - loss: 0.0072 - mae: 0.0728\n",
      "Epoch 562/1200\n",
      "1/1 [==============================] - 0s 16ms/step - loss: 0.0071 - mae: 0.0726\n",
      "Epoch 563/1200\n",
      "1/1 [==============================] - 0s 0s/step - loss: 0.0071 - mae: 0.0723\n",
      "Epoch 564/1200\n",
      "1/1 [==============================] - 0s 0s/step - loss: 0.0071 - mae: 0.0721\n",
      "Epoch 565/1200\n",
      "1/1 [==============================] - 0s 0s/step - loss: 0.0070 - mae: 0.0718\n",
      "Epoch 566/1200\n",
      "1/1 [==============================] - 0s 16ms/step - loss: 0.0070 - mae: 0.0716\n",
      "Epoch 567/1200\n",
      "1/1 [==============================] - 0s 0s/step - loss: 0.0069 - mae: 0.0714\n",
      "Epoch 568/1200\n",
      "1/1 [==============================] - 0s 7ms/step - loss: 0.0069 - mae: 0.0711\n",
      "Epoch 569/1200\n",
      "1/1 [==============================] - 0s 0s/step - loss: 0.0068 - mae: 0.0709\n",
      "Epoch 570/1200\n",
      "1/1 [==============================] - 0s 16ms/step - loss: 0.0068 - mae: 0.0706\n",
      "Epoch 571/1200\n",
      "1/1 [==============================] - 0s 14ms/step - loss: 0.0067 - mae: 0.0704\n",
      "Epoch 572/1200\n",
      "1/1 [==============================] - 0s 0s/step - loss: 0.0067 - mae: 0.0702\n",
      "Epoch 573/1200\n",
      "1/1 [==============================] - 0s 0s/step - loss: 0.0066 - mae: 0.0699\n",
      "Epoch 574/1200\n",
      "1/1 [==============================] - 0s 16ms/step - loss: 0.0066 - mae: 0.0697\n",
      "Epoch 575/1200\n",
      "1/1 [==============================] - 0s 0s/step - loss: 0.0065 - mae: 0.0695\n",
      "Epoch 576/1200\n",
      "1/1 [==============================] - 0s 16ms/step - loss: 0.0065 - mae: 0.0692\n",
      "Epoch 577/1200\n",
      "1/1 [==============================] - 0s 0s/step - loss: 0.0065 - mae: 0.0690\n",
      "Epoch 578/1200\n",
      "1/1 [==============================] - 0s 16ms/step - loss: 0.0064 - mae: 0.0687\n",
      "Epoch 579/1200\n",
      "1/1 [==============================] - 0s 0s/step - loss: 0.0064 - mae: 0.0685\n",
      "Epoch 580/1200\n",
      "1/1 [==============================] - 0s 16ms/step - loss: 0.0063 - mae: 0.0683\n",
      "Epoch 581/1200\n",
      "1/1 [==============================] - 0s 0s/step - loss: 0.0063 - mae: 0.0681\n",
      "Epoch 582/1200\n",
      "1/1 [==============================] - 0s 0s/step - loss: 0.0062 - mae: 0.0678\n",
      "Epoch 583/1200\n",
      "1/1 [==============================] - 0s 0s/step - loss: 0.0062 - mae: 0.0676\n",
      "Epoch 584/1200\n",
      "1/1 [==============================] - 0s 16ms/step - loss: 0.0062 - mae: 0.0674\n",
      "Epoch 585/1200\n",
      "1/1 [==============================] - 0s 0s/step - loss: 0.0061 - mae: 0.0671\n",
      "Epoch 586/1200\n",
      "1/1 [==============================] - 0s 0s/step - loss: 0.0061 - mae: 0.0669\n",
      "Epoch 587/1200\n",
      "1/1 [==============================] - 0s 0s/step - loss: 0.0060 - mae: 0.0667\n",
      "Epoch 588/1200\n",
      "1/1 [==============================] - 0s 0s/step - loss: 0.0060 - mae: 0.0665\n",
      "Epoch 589/1200\n",
      "1/1 [==============================] - 0s 16ms/step - loss: 0.0060 - mae: 0.0662\n",
      "Epoch 590/1200\n",
      "1/1 [==============================] - 0s 0s/step - loss: 0.0059 - mae: 0.0660\n",
      "Epoch 591/1200\n",
      "1/1 [==============================] - 0s 0s/step - loss: 0.0059 - mae: 0.0658\n",
      "Epoch 592/1200\n",
      "1/1 [==============================] - 0s 16ms/step - loss: 0.0058 - mae: 0.0656\n",
      "Epoch 593/1200\n",
      "1/1 [==============================] - 0s 0s/step - loss: 0.0058 - mae: 0.0653\n",
      "Epoch 594/1200\n",
      "1/1 [==============================] - 0s 0s/step - loss: 0.0058 - mae: 0.0651\n",
      "Epoch 595/1200\n",
      "1/1 [==============================] - 0s 16ms/step - loss: 0.0057 - mae: 0.0649\n",
      "Epoch 596/1200\n",
      "1/1 [==============================] - 0s 7ms/step - loss: 0.0057 - mae: 0.0647\n",
      "Epoch 597/1200\n",
      "1/1 [==============================] - 0s 0s/step - loss: 0.0056 - mae: 0.0645\n",
      "Epoch 598/1200\n",
      "1/1 [==============================] - 0s 0s/step - loss: 0.0056 - mae: 0.0642\n",
      "Epoch 599/1200\n",
      "1/1 [==============================] - 0s 16ms/step - loss: 0.0056 - mae: 0.0640\n",
      "Epoch 600/1200\n",
      "1/1 [==============================] - 0s 0s/step - loss: 0.0055 - mae: 0.0638\n",
      "Epoch 601/1200\n",
      "1/1 [==============================] - 0s 0s/step - loss: 0.0055 - mae: 0.0636\n",
      "Epoch 602/1200\n",
      "1/1 [==============================] - 0s 16ms/step - loss: 0.0055 - mae: 0.0634\n",
      "Epoch 603/1200\n",
      "1/1 [==============================] - 0s 16ms/step - loss: 0.0054 - mae: 0.0632\n",
      "Epoch 604/1200\n",
      "1/1 [==============================] - 0s 16ms/step - loss: 0.0054 - mae: 0.0630\n",
      "Epoch 605/1200\n",
      "1/1 [==============================] - 0s 0s/step - loss: 0.0053 - mae: 0.0627\n",
      "Epoch 606/1200\n",
      "1/1 [==============================] - 0s 0s/step - loss: 0.0053 - mae: 0.0625\n",
      "Epoch 607/1200\n",
      "1/1 [==============================] - 0s 0s/step - loss: 0.0053 - mae: 0.0623\n",
      "Epoch 608/1200\n",
      "1/1 [==============================] - 0s 7ms/step - loss: 0.0052 - mae: 0.0621\n",
      "Epoch 609/1200\n",
      "1/1 [==============================] - 0s 0s/step - loss: 0.0052 - mae: 0.0619\n",
      "Epoch 610/1200\n",
      "1/1 [==============================] - 0s 0s/step - loss: 0.0052 - mae: 0.0617\n",
      "Epoch 611/1200\n",
      "1/1 [==============================] - 0s 0s/step - loss: 0.0051 - mae: 0.0615\n",
      "Epoch 612/1200\n",
      "1/1 [==============================] - 0s 0s/step - loss: 0.0051 - mae: 0.0613\n",
      "Epoch 613/1200\n",
      "1/1 [==============================] - 0s 16ms/step - loss: 0.0051 - mae: 0.0611\n",
      "Epoch 614/1200\n",
      "1/1 [==============================] - 0s 0s/step - loss: 0.0050 - mae: 0.0609\n",
      "Epoch 615/1200\n",
      "1/1 [==============================] - 0s 0s/step - loss: 0.0050 - mae: 0.0607\n",
      "Epoch 616/1200\n",
      "1/1 [==============================] - 0s 16ms/step - loss: 0.0050 - mae: 0.0604\n",
      "Epoch 617/1200\n",
      "1/1 [==============================] - 0s 0s/step - loss: 0.0049 - mae: 0.0602\n",
      "Epoch 618/1200\n",
      "1/1 [==============================] - 0s 0s/step - loss: 0.0049 - mae: 0.0600\n",
      "Epoch 619/1200\n",
      "1/1 [==============================] - 0s 16ms/step - loss: 0.0049 - mae: 0.0598\n",
      "Epoch 620/1200\n",
      "1/1 [==============================] - 0s 0s/step - loss: 0.0048 - mae: 0.0596\n",
      "Epoch 621/1200\n",
      "1/1 [==============================] - 0s 0s/step - loss: 0.0048 - mae: 0.0594\n",
      "Epoch 622/1200\n",
      "1/1 [==============================] - 0s 16ms/step - loss: 0.0048 - mae: 0.0592\n",
      "Epoch 623/1200\n",
      "1/1 [==============================] - 0s 0s/step - loss: 0.0047 - mae: 0.0590\n",
      "Epoch 624/1200\n",
      "1/1 [==============================] - 0s 0s/step - loss: 0.0047 - mae: 0.0588\n",
      "Epoch 625/1200\n",
      "1/1 [==============================] - 0s 0s/step - loss: 0.0047 - mae: 0.0586\n",
      "Epoch 626/1200\n",
      "1/1 [==============================] - 0s 0s/step - loss: 0.0046 - mae: 0.0584\n",
      "Epoch 627/1200\n",
      "1/1 [==============================] - 0s 7ms/step - loss: 0.0046 - mae: 0.0582\n",
      "Epoch 628/1200\n",
      "1/1 [==============================] - 0s 0s/step - loss: 0.0046 - mae: 0.0580\n",
      "Epoch 629/1200\n",
      "1/1 [==============================] - 0s 0s/step - loss: 0.0045 - mae: 0.0578\n",
      "Epoch 630/1200\n",
      "1/1 [==============================] - 0s 16ms/step - loss: 0.0045 - mae: 0.0576\n",
      "Epoch 631/1200\n",
      "1/1 [==============================] - 0s 0s/step - loss: 0.0045 - mae: 0.0575\n",
      "Epoch 632/1200\n",
      "1/1 [==============================] - 0s 0s/step - loss: 0.0045 - mae: 0.0573\n",
      "Epoch 633/1200\n",
      "1/1 [==============================] - 0s 16ms/step - loss: 0.0044 - mae: 0.0571\n",
      "Epoch 634/1200\n",
      "1/1 [==============================] - 0s 0s/step - loss: 0.0044 - mae: 0.0569\n",
      "Epoch 635/1200\n",
      "1/1 [==============================] - 0s 0s/step - loss: 0.0044 - mae: 0.0567\n",
      "Epoch 636/1200\n",
      "1/1 [==============================] - 0s 16ms/step - loss: 0.0043 - mae: 0.0565\n",
      "Epoch 637/1200\n",
      "1/1 [==============================] - 0s 0s/step - loss: 0.0043 - mae: 0.0563\n",
      "Epoch 638/1200\n",
      "1/1 [==============================] - 0s 0s/step - loss: 0.0043 - mae: 0.0561\n",
      "Epoch 639/1200\n",
      "1/1 [==============================] - 0s 16ms/step - loss: 0.0042 - mae: 0.0559\n",
      "Epoch 640/1200\n",
      "1/1 [==============================] - 0s 0s/step - loss: 0.0042 - mae: 0.0557\n",
      "Epoch 641/1200\n",
      "1/1 [==============================] - 0s 0s/step - loss: 0.0042 - mae: 0.0555\n",
      "Epoch 642/1200\n",
      "1/1 [==============================] - 0s 16ms/step - loss: 0.0042 - mae: 0.0554\n",
      "Epoch 643/1200\n",
      "1/1 [==============================] - 0s 0s/step - loss: 0.0041 - mae: 0.0552\n",
      "Epoch 644/1200\n",
      "1/1 [==============================] - 0s 0s/step - loss: 0.0041 - mae: 0.0550\n",
      "Epoch 645/1200\n",
      "1/1 [==============================] - 0s 16ms/step - loss: 0.0041 - mae: 0.0548\n",
      "Epoch 646/1200\n",
      "1/1 [==============================] - 0s 7ms/step - loss: 0.0040 - mae: 0.0546\n",
      "Epoch 647/1200\n",
      "1/1 [==============================] - 0s 0s/step - loss: 0.0040 - mae: 0.0544\n",
      "Epoch 648/1200\n",
      "1/1 [==============================] - 0s 3ms/step - loss: 0.0040 - mae: 0.0542\n",
      "Epoch 649/1200\n",
      "1/1 [==============================] - 0s 16ms/step - loss: 0.0040 - mae: 0.0541\n",
      "Epoch 650/1200\n",
      "1/1 [==============================] - 0s 0s/step - loss: 0.0039 - mae: 0.0539\n",
      "Epoch 651/1200\n",
      "1/1 [==============================] - 0s 0s/step - loss: 0.0039 - mae: 0.0537\n",
      "Epoch 652/1200\n",
      "1/1 [==============================] - 0s 14ms/step - loss: 0.0039 - mae: 0.0535\n",
      "Epoch 653/1200\n",
      "1/1 [==============================] - 0s 0s/step - loss: 0.0039 - mae: 0.0533\n",
      "Epoch 654/1200\n",
      "1/1 [==============================] - 0s 16ms/step - loss: 0.0038 - mae: 0.0531\n",
      "Epoch 655/1200\n",
      "1/1 [==============================] - 0s 0s/step - loss: 0.0038 - mae: 0.0530\n",
      "Epoch 656/1200\n",
      "1/1 [==============================] - 0s 17ms/step - loss: 0.0038 - mae: 0.0528\n",
      "Epoch 657/1200\n",
      "1/1 [==============================] - 0s 9ms/step - loss: 0.0038 - mae: 0.0526\n",
      "Epoch 658/1200\n",
      "1/1 [==============================] - 0s 7ms/step - loss: 0.0037 - mae: 0.0524\n",
      "Epoch 659/1200\n",
      "1/1 [==============================] - 0s 0s/step - loss: 0.0037 - mae: 0.0523\n",
      "Epoch 660/1200\n",
      "1/1 [==============================] - 0s 0s/step - loss: 0.0037 - mae: 0.0521\n",
      "Epoch 661/1200\n",
      "1/1 [==============================] - 0s 15ms/step - loss: 0.0037 - mae: 0.0519\n",
      "Epoch 662/1200\n",
      "1/1 [==============================] - 0s 0s/step - loss: 0.0036 - mae: 0.0517\n",
      "Epoch 663/1200\n",
      "1/1 [==============================] - 0s 0s/step - loss: 0.0036 - mae: 0.0516\n",
      "Epoch 664/1200\n",
      "1/1 [==============================] - 0s 0s/step - loss: 0.0036 - mae: 0.0514\n",
      "Epoch 665/1200\n",
      "1/1 [==============================] - 0s 526us/step - loss: 0.0036 - mae: 0.0512\n",
      "Epoch 666/1200\n",
      "1/1 [==============================] - 0s 0s/step - loss: 0.0035 - mae: 0.0510\n",
      "Epoch 667/1200\n",
      "1/1 [==============================] - 0s 0s/step - loss: 0.0035 - mae: 0.0509\n",
      "Epoch 668/1200\n",
      "1/1 [==============================] - 0s 18ms/step - loss: 0.0035 - mae: 0.0507\n",
      "Epoch 669/1200\n",
      "1/1 [==============================] - 0s 0s/step - loss: 0.0035 - mae: 0.0505\n",
      "Epoch 670/1200\n",
      "1/1 [==============================] - 0s 0s/step - loss: 0.0034 - mae: 0.0503\n",
      "Epoch 671/1200\n",
      "1/1 [==============================] - 0s 14ms/step - loss: 0.0034 - mae: 0.0502\n",
      "Epoch 672/1200\n",
      "1/1 [==============================] - 0s 0s/step - loss: 0.0034 - mae: 0.0500\n",
      "Epoch 673/1200\n",
      "1/1 [==============================] - 0s 0s/step - loss: 0.0034 - mae: 0.0498\n",
      "Epoch 674/1200\n",
      "1/1 [==============================] - 0s 16ms/step - loss: 0.0033 - mae: 0.0497\n",
      "Epoch 675/1200\n",
      "1/1 [==============================] - 0s 0s/step - loss: 0.0033 - mae: 0.0495\n",
      "Epoch 676/1200\n",
      "1/1 [==============================] - 0s 10ms/step - loss: 0.0033 - mae: 0.0493\n",
      "Epoch 677/1200\n",
      "1/1 [==============================] - 0s 7ms/step - loss: 0.0033 - mae: 0.0492\n",
      "Epoch 678/1200\n",
      "1/1 [==============================] - 0s 0s/step - loss: 0.0033 - mae: 0.0490\n",
      "Epoch 679/1200\n",
      "1/1 [==============================] - 0s 0s/step - loss: 0.0032 - mae: 0.0488\n",
      "Epoch 680/1200\n",
      "1/1 [==============================] - 0s 15ms/step - loss: 0.0032 - mae: 0.0487\n",
      "Epoch 681/1200\n",
      "1/1 [==============================] - 0s 0s/step - loss: 0.0032 - mae: 0.0485\n",
      "Epoch 682/1200\n",
      "1/1 [==============================] - 0s 0s/step - loss: 0.0032 - mae: 0.0483\n",
      "Epoch 683/1200\n",
      "1/1 [==============================] - 0s 0s/step - loss: 0.0032 - mae: 0.0482\n",
      "Epoch 684/1200\n",
      "1/1 [==============================] - 0s 0s/step - loss: 0.0031 - mae: 0.0480\n",
      "Epoch 685/1200\n",
      "1/1 [==============================] - 0s 0s/step - loss: 0.0031 - mae: 0.0479\n",
      "Epoch 686/1200\n",
      "1/1 [==============================] - 0s 0s/step - loss: 0.0031 - mae: 0.0477\n",
      "Epoch 687/1200\n",
      "1/1 [==============================] - 0s 16ms/step - loss: 0.0031 - mae: 0.0475\n",
      "Epoch 688/1200\n",
      "1/1 [==============================] - 0s 0s/step - loss: 0.0030 - mae: 0.0474\n",
      "Epoch 689/1200\n",
      "1/1 [==============================] - 0s 0s/step - loss: 0.0030 - mae: 0.0472\n",
      "Epoch 690/1200\n",
      "1/1 [==============================] - 0s 16ms/step - loss: 0.0030 - mae: 0.0470\n",
      "Epoch 691/1200\n",
      "1/1 [==============================] - 0s 0s/step - loss: 0.0030 - mae: 0.0469\n",
      "Epoch 692/1200\n",
      "1/1 [==============================] - 0s 0s/step - loss: 0.0030 - mae: 0.0467\n",
      "Epoch 693/1200\n",
      "1/1 [==============================] - 0s 19ms/step - loss: 0.0029 - mae: 0.0466\n",
      "Epoch 694/1200\n",
      "1/1 [==============================] - 0s 4ms/step - loss: 0.0029 - mae: 0.0464\n",
      "Epoch 695/1200\n",
      "1/1 [==============================] - 0s 0s/step - loss: 0.0029 - mae: 0.0463\n",
      "Epoch 696/1200\n",
      "1/1 [==============================] - 0s 0s/step - loss: 0.0029 - mae: 0.0461\n",
      "Epoch 697/1200\n",
      "1/1 [==============================] - 0s 0s/step - loss: 0.0029 - mae: 0.0459\n",
      "Epoch 698/1200\n",
      "1/1 [==============================] - 0s 0s/step - loss: 0.0028 - mae: 0.0458\n",
      "Epoch 699/1200\n",
      "1/1 [==============================] - 0s 0s/step - loss: 0.0028 - mae: 0.0456\n",
      "Epoch 700/1200\n",
      "1/1 [==============================] - 0s 0s/step - loss: 0.0028 - mae: 0.0455\n",
      "Epoch 701/1200\n",
      "1/1 [==============================] - 0s 16ms/step - loss: 0.0028 - mae: 0.0453\n",
      "Epoch 702/1200\n",
      "1/1 [==============================] - 0s 0s/step - loss: 0.0028 - mae: 0.0452\n",
      "Epoch 703/1200\n",
      "1/1 [==============================] - 0s 0s/step - loss: 0.0028 - mae: 0.0450\n",
      "Epoch 704/1200\n",
      "1/1 [==============================] - 0s 16ms/step - loss: 0.0027 - mae: 0.0449\n",
      "Epoch 705/1200\n",
      "1/1 [==============================] - 0s 0s/step - loss: 0.0027 - mae: 0.0447\n",
      "Epoch 706/1200\n",
      "1/1 [==============================] - 0s 0s/step - loss: 0.0027 - mae: 0.0446\n",
      "Epoch 707/1200\n",
      "1/1 [==============================] - 0s 0s/step - loss: 0.0027 - mae: 0.0444\n",
      "Epoch 708/1200\n",
      "1/1 [==============================] - 0s 0s/step - loss: 0.0027 - mae: 0.0443\n",
      "Epoch 709/1200\n",
      "1/1 [==============================] - 0s 19ms/step - loss: 0.0026 - mae: 0.0441\n",
      "Epoch 710/1200\n",
      "1/1 [==============================] - 0s 9ms/step - loss: 0.0026 - mae: 0.0440\n",
      "Epoch 711/1200\n",
      "1/1 [==============================] - 0s 11ms/step - loss: 0.0026 - mae: 0.0438\n",
      "Epoch 712/1200\n",
      "1/1 [==============================] - 0s 9ms/step - loss: 0.0026 - mae: 0.0437\n",
      "Epoch 713/1200\n",
      "1/1 [==============================] - 0s 0s/step - loss: 0.0026 - mae: 0.0435\n",
      "Epoch 714/1200\n",
      "1/1 [==============================] - 0s 7ms/step - loss: 0.0026 - mae: 0.0434\n",
      "Epoch 715/1200\n",
      "1/1 [==============================] - 0s 7ms/step - loss: 0.0025 - mae: 0.0432\n",
      "Epoch 716/1200\n",
      "1/1 [==============================] - 0s 0s/step - loss: 0.0025 - mae: 0.0431\n",
      "Epoch 717/1200\n",
      "1/1 [==============================] - 0s 16ms/step - loss: 0.0025 - mae: 0.0429\n",
      "Epoch 718/1200\n",
      "1/1 [==============================] - 0s 3ms/step - loss: 0.0025 - mae: 0.0428\n",
      "Epoch 719/1200\n",
      "1/1 [==============================] - 0s 0s/step - loss: 0.0025 - mae: 0.0426\n",
      "Epoch 720/1200\n",
      "1/1 [==============================] - 0s 12ms/step - loss: 0.0025 - mae: 0.0425\n",
      "Epoch 721/1200\n",
      "1/1 [==============================] - 0s 0s/step - loss: 0.0024 - mae: 0.0424\n",
      "Epoch 722/1200\n",
      "1/1 [==============================] - 0s 0s/step - loss: 0.0024 - mae: 0.0422\n",
      "Epoch 723/1200\n",
      "1/1 [==============================] - 0s 16ms/step - loss: 0.0024 - mae: 0.0421\n",
      "Epoch 724/1200\n",
      "1/1 [==============================] - 0s 0s/step - loss: 0.0024 - mae: 0.0419\n",
      "Epoch 725/1200\n",
      "1/1 [==============================] - 0s 0s/step - loss: 0.0024 - mae: 0.0418\n",
      "Epoch 726/1200\n",
      "1/1 [==============================] - 0s 0s/step - loss: 0.0024 - mae: 0.0416\n",
      "Epoch 727/1200\n",
      "1/1 [==============================] - 0s 0s/step - loss: 0.0023 - mae: 0.0415\n",
      "Epoch 728/1200\n",
      "1/1 [==============================] - 0s 0s/step - loss: 0.0023 - mae: 0.0414\n",
      "Epoch 729/1200\n",
      "1/1 [==============================] - 0s 0s/step - loss: 0.0023 - mae: 0.0412\n",
      "Epoch 730/1200\n",
      "1/1 [==============================] - 0s 1ms/step - loss: 0.0023 - mae: 0.0411\n",
      "Epoch 731/1200\n",
      "1/1 [==============================] - 0s 0s/step - loss: 0.0023 - mae: 0.0409\n",
      "Epoch 732/1200\n",
      "1/1 [==============================] - 0s 0s/step - loss: 0.0023 - mae: 0.0408\n",
      "Epoch 733/1200\n",
      "1/1 [==============================] - 0s 18ms/step - loss: 0.0022 - mae: 0.0407\n",
      "Epoch 734/1200\n",
      "1/1 [==============================] - 0s 0s/step - loss: 0.0022 - mae: 0.0405\n",
      "Epoch 735/1200\n",
      "1/1 [==============================] - 0s 0s/step - loss: 0.0022 - mae: 0.0404\n",
      "Epoch 736/1200\n",
      "1/1 [==============================] - 0s 18ms/step - loss: 0.0022 - mae: 0.0403\n",
      "Epoch 737/1200\n",
      "1/1 [==============================] - 0s 0s/step - loss: 0.0022 - mae: 0.0401\n",
      "Epoch 738/1200\n",
      "1/1 [==============================] - 0s 0s/step - loss: 0.0022 - mae: 0.0400\n",
      "Epoch 739/1200\n",
      "1/1 [==============================] - 0s 3ms/step - loss: 0.0022 - mae: 0.0399\n",
      "Epoch 740/1200\n",
      "1/1 [==============================] - 0s 0s/step - loss: 0.0021 - mae: 0.0397\n",
      "Epoch 741/1200\n",
      "1/1 [==============================] - 0s 0s/step - loss: 0.0021 - mae: 0.0396\n",
      "Epoch 742/1200\n",
      "1/1 [==============================] - 0s 6ms/step - loss: 0.0021 - mae: 0.0395\n",
      "Epoch 743/1200\n",
      "1/1 [==============================] - 0s 0s/step - loss: 0.0021 - mae: 0.0393\n",
      "Epoch 744/1200\n",
      "1/1 [==============================] - 0s 0s/step - loss: 0.0021 - mae: 0.0392\n",
      "Epoch 745/1200\n",
      "1/1 [==============================] - 0s 4ms/step - loss: 0.0021 - mae: 0.0391\n",
      "Epoch 746/1200\n",
      "1/1 [==============================] - 0s 0s/step - loss: 0.0021 - mae: 0.0389\n",
      "Epoch 747/1200\n",
      "1/1 [==============================] - 0s 13ms/step - loss: 0.0020 - mae: 0.0388\n",
      "Epoch 748/1200\n",
      "1/1 [==============================] - 0s 0s/step - loss: 0.0020 - mae: 0.0387\n",
      "Epoch 749/1200\n",
      "1/1 [==============================] - 0s 0s/step - loss: 0.0020 - mae: 0.0385\n",
      "Epoch 750/1200\n",
      "1/1 [==============================] - 0s 18ms/step - loss: 0.0020 - mae: 0.0384\n",
      "Epoch 751/1200\n",
      "1/1 [==============================] - 0s 0s/step - loss: 0.0020 - mae: 0.0383\n",
      "Epoch 752/1200\n",
      "1/1 [==============================] - 0s 10ms/step - loss: 0.0020 - mae: 0.0381\n",
      "Epoch 753/1200\n",
      "1/1 [==============================] - 0s 6ms/step - loss: 0.0020 - mae: 0.0380\n",
      "Epoch 754/1200\n",
      "1/1 [==============================] - 0s 4ms/step - loss: 0.0019 - mae: 0.0379\n",
      "Epoch 755/1200\n",
      "1/1 [==============================] - 0s 6ms/step - loss: 0.0019 - mae: 0.0378\n",
      "Epoch 756/1200\n",
      "1/1 [==============================] - 0s 3ms/step - loss: 0.0019 - mae: 0.0376\n",
      "Epoch 757/1200\n",
      "1/1 [==============================] - 0s 4ms/step - loss: 0.0019 - mae: 0.0375\n",
      "Epoch 758/1200\n",
      "1/1 [==============================] - 0s 6ms/step - loss: 0.0019 - mae: 0.0374\n",
      "Epoch 759/1200\n",
      "1/1 [==============================] - 0s 4ms/step - loss: 0.0019 - mae: 0.0372\n",
      "Epoch 760/1200\n",
      "1/1 [==============================] - 0s 3ms/step - loss: 0.0019 - mae: 0.0371\n",
      "Epoch 761/1200\n",
      "1/1 [==============================] - 0s 6ms/step - loss: 0.0019 - mae: 0.0370\n",
      "Epoch 762/1200\n",
      "1/1 [==============================] - 0s 5ms/step - loss: 0.0018 - mae: 0.0369\n",
      "Epoch 763/1200\n",
      "1/1 [==============================] - 0s 7ms/step - loss: 0.0018 - mae: 0.0367\n",
      "Epoch 764/1200\n",
      "1/1 [==============================] - 0s 4ms/step - loss: 0.0018 - mae: 0.0366\n",
      "Epoch 765/1200\n",
      "1/1 [==============================] - 0s 3ms/step - loss: 0.0018 - mae: 0.0365\n",
      "Epoch 766/1200\n",
      "1/1 [==============================] - 0s 6ms/step - loss: 0.0018 - mae: 0.0364\n",
      "Epoch 767/1200\n",
      "1/1 [==============================] - 0s 4ms/step - loss: 0.0018 - mae: 0.0362\n",
      "Epoch 768/1200\n",
      "1/1 [==============================] - 0s 7ms/step - loss: 0.0018 - mae: 0.0361\n",
      "Epoch 769/1200\n",
      "1/1 [==============================] - 0s 4ms/step - loss: 0.0018 - mae: 0.0360\n",
      "Epoch 770/1200\n",
      "1/1 [==============================] - 0s 4ms/step - loss: 0.0017 - mae: 0.0359\n",
      "Epoch 771/1200\n",
      "1/1 [==============================] - 0s 4ms/step - loss: 0.0017 - mae: 0.0358\n",
      "Epoch 772/1200\n",
      "1/1 [==============================] - 0s 3ms/step - loss: 0.0017 - mae: 0.0356\n",
      "Epoch 773/1200\n",
      "1/1 [==============================] - 0s 6ms/step - loss: 0.0017 - mae: 0.0355\n",
      "Epoch 774/1200\n",
      "1/1 [==============================] - 0s 10ms/step - loss: 0.0017 - mae: 0.0354\n",
      "Epoch 775/1200\n",
      "1/1 [==============================] - 0s 9ms/step - loss: 0.0017 - mae: 0.0353\n",
      "Epoch 776/1200\n",
      "1/1 [==============================] - 0s 8ms/step - loss: 0.0017 - mae: 0.0352\n",
      "Epoch 777/1200\n",
      "1/1 [==============================] - 0s 6ms/step - loss: 0.0017 - mae: 0.0350\n",
      "Epoch 778/1200\n",
      "1/1 [==============================] - 0s 8ms/step - loss: 0.0017 - mae: 0.0349\n",
      "Epoch 779/1200\n",
      "1/1 [==============================] - 0s 6ms/step - loss: 0.0016 - mae: 0.0348\n",
      "Epoch 780/1200\n",
      "1/1 [==============================] - 0s 6ms/step - loss: 0.0016 - mae: 0.0347\n",
      "Epoch 781/1200\n",
      "1/1 [==============================] - 0s 3ms/step - loss: 0.0016 - mae: 0.0346\n",
      "Epoch 782/1200\n",
      "1/1 [==============================] - 0s 0s/step - loss: 0.0016 - mae: 0.0345\n",
      "Epoch 783/1200\n",
      "1/1 [==============================] - 0s 0s/step - loss: 0.0016 - mae: 0.0343\n",
      "Epoch 784/1200\n",
      "1/1 [==============================] - 0s 1ms/step - loss: 0.0016 - mae: 0.0342\n",
      "Epoch 785/1200\n",
      "1/1 [==============================] - 0s 9ms/step - loss: 0.0016 - mae: 0.0341\n",
      "Epoch 786/1200\n",
      "1/1 [==============================] - 0s 0s/step - loss: 0.0016 - mae: 0.0340\n",
      "Epoch 787/1200\n",
      "1/1 [==============================] - 0s 3ms/step - loss: 0.0016 - mae: 0.0339\n",
      "Epoch 788/1200\n",
      "1/1 [==============================] - 0s 0s/step - loss: 0.0015 - mae: 0.0338\n",
      "Epoch 789/1200\n",
      "1/1 [==============================] - 0s 0s/step - loss: 0.0015 - mae: 0.0336\n",
      "Epoch 790/1200\n",
      "1/1 [==============================] - 0s 633us/step - loss: 0.0015 - mae: 0.0335\n",
      "Epoch 791/1200\n",
      "1/1 [==============================] - 0s 0s/step - loss: 0.0015 - mae: 0.0334\n",
      "Epoch 792/1200\n",
      "1/1 [==============================] - 0s 0s/step - loss: 0.0015 - mae: 0.0333\n",
      "Epoch 793/1200\n",
      "1/1 [==============================] - 0s 0s/step - loss: 0.0015 - mae: 0.0332\n",
      "Epoch 794/1200\n",
      "1/1 [==============================] - 0s 0s/step - loss: 0.0015 - mae: 0.0331\n",
      "Epoch 795/1200\n",
      "1/1 [==============================] - 0s 0s/step - loss: 0.0015 - mae: 0.0330\n",
      "Epoch 796/1200\n",
      "1/1 [==============================] - 0s 0s/step - loss: 0.0015 - mae: 0.0329\n",
      "Epoch 797/1200\n",
      "1/1 [==============================] - 0s 0s/step - loss: 0.0015 - mae: 0.0327\n",
      "Epoch 798/1200\n",
      "1/1 [==============================] - 0s 0s/step - loss: 0.0014 - mae: 0.0326\n",
      "Epoch 799/1200\n",
      "1/1 [==============================] - 0s 0s/step - loss: 0.0014 - mae: 0.0325\n",
      "Epoch 800/1200\n",
      "1/1 [==============================] - 0s 0s/step - loss: 0.0014 - mae: 0.0324\n",
      "Epoch 801/1200\n",
      "1/1 [==============================] - 0s 0s/step - loss: 0.0014 - mae: 0.0323\n",
      "Epoch 802/1200\n",
      "1/1 [==============================] - 0s 4ms/step - loss: 0.0014 - mae: 0.0322\n",
      "Epoch 803/1200\n",
      "1/1 [==============================] - 0s 0s/step - loss: 0.0014 - mae: 0.0321\n",
      "Epoch 804/1200\n",
      "1/1 [==============================] - 0s 10ms/step - loss: 0.0014 - mae: 0.0320\n",
      "Epoch 805/1200\n",
      "1/1 [==============================] - 0s 5ms/step - loss: 0.0014 - mae: 0.0319\n",
      "Epoch 806/1200\n",
      "1/1 [==============================] - 0s 4ms/step - loss: 0.0014 - mae: 0.0318\n",
      "Epoch 807/1200\n",
      "1/1 [==============================] - 0s 10ms/step - loss: 0.0014 - mae: 0.0317\n",
      "Epoch 808/1200\n",
      "1/1 [==============================] - 0s 5ms/step - loss: 0.0014 - mae: 0.0315\n",
      "Epoch 809/1200\n",
      "1/1 [==============================] - 0s 4ms/step - loss: 0.0013 - mae: 0.0314\n",
      "Epoch 810/1200\n",
      "1/1 [==============================] - 0s 0s/step - loss: 0.0013 - mae: 0.0313\n",
      "Epoch 811/1200\n",
      "1/1 [==============================] - 0s 17ms/step - loss: 0.0013 - mae: 0.0312\n",
      "Epoch 812/1200\n",
      "1/1 [==============================] - 0s 4ms/step - loss: 0.0013 - mae: 0.0311\n",
      "Epoch 813/1200\n",
      "1/1 [==============================] - 0s 8ms/step - loss: 0.0013 - mae: 0.0310\n",
      "Epoch 814/1200\n",
      "1/1 [==============================] - 0s 5ms/step - loss: 0.0013 - mae: 0.0309\n",
      "Epoch 815/1200\n",
      "1/1 [==============================] - 0s 4ms/step - loss: 0.0013 - mae: 0.0308\n",
      "Epoch 816/1200\n",
      "1/1 [==============================] - 0s 2ms/step - loss: 0.0013 - mae: 0.0307\n",
      "Epoch 817/1200\n",
      "1/1 [==============================] - 0s 11ms/step - loss: 0.0013 - mae: 0.0306\n",
      "Epoch 818/1200\n",
      "1/1 [==============================] - 0s 6ms/step - loss: 0.0013 - mae: 0.0305\n",
      "Epoch 819/1200\n",
      "1/1 [==============================] - 0s 3ms/step - loss: 0.0013 - mae: 0.0304\n",
      "Epoch 820/1200\n",
      "1/1 [==============================] - 0s 4ms/step - loss: 0.0012 - mae: 0.0303\n",
      "Epoch 821/1200\n",
      "1/1 [==============================] - 0s 7ms/step - loss: 0.0012 - mae: 0.0302\n",
      "Epoch 822/1200\n",
      "1/1 [==============================] - 0s 3ms/step - loss: 0.0012 - mae: 0.0301\n",
      "Epoch 823/1200\n",
      "1/1 [==============================] - 0s 3ms/step - loss: 0.0012 - mae: 0.0300\n",
      "Epoch 824/1200\n",
      "1/1 [==============================] - 0s 6ms/step - loss: 0.0012 - mae: 0.0299\n",
      "Epoch 825/1200\n",
      "1/1 [==============================] - 0s 3ms/step - loss: 0.0012 - mae: 0.0298\n",
      "Epoch 826/1200\n",
      "1/1 [==============================] - 0s 15ms/step - loss: 0.0012 - mae: 0.0297\n",
      "Epoch 827/1200\n",
      "1/1 [==============================] - 0s 4ms/step - loss: 0.0012 - mae: 0.0296\n",
      "Epoch 828/1200\n",
      "1/1 [==============================] - 0s 8ms/step - loss: 0.0012 - mae: 0.0295\n",
      "Epoch 829/1200\n",
      "1/1 [==============================] - 0s 0s/step - loss: 0.0012 - mae: 0.0294\n",
      "Epoch 830/1200\n",
      "1/1 [==============================] - 0s 13ms/step - loss: 0.0012 - mae: 0.0293\n",
      "Epoch 831/1200\n",
      "1/1 [==============================] - 0s 0s/step - loss: 0.0012 - mae: 0.0292\n",
      "Epoch 832/1200\n",
      "1/1 [==============================] - 0s 13ms/step - loss: 0.0011 - mae: 0.0291\n",
      "Epoch 833/1200\n",
      "1/1 [==============================] - 0s 0s/step - loss: 0.0011 - mae: 0.0290\n",
      "Epoch 834/1200\n",
      "1/1 [==============================] - 0s 0s/step - loss: 0.0011 - mae: 0.0289\n",
      "Epoch 835/1200\n",
      "1/1 [==============================] - 0s 16ms/step - loss: 0.0011 - mae: 0.0288\n",
      "Epoch 836/1200\n",
      "1/1 [==============================] - 0s 0s/step - loss: 0.0011 - mae: 0.0287\n",
      "Epoch 837/1200\n",
      "1/1 [==============================] - 0s 0s/step - loss: 0.0011 - mae: 0.0286\n",
      "Epoch 838/1200\n",
      "1/1 [==============================] - 0s 12ms/step - loss: 0.0011 - mae: 0.0285\n",
      "Epoch 839/1200\n",
      "1/1 [==============================] - 0s 0s/step - loss: 0.0011 - mae: 0.0284\n",
      "Epoch 840/1200\n",
      "1/1 [==============================] - 0s 0s/step - loss: 0.0011 - mae: 0.0283\n",
      "Epoch 841/1200\n",
      "1/1 [==============================] - 0s 0s/step - loss: 0.0011 - mae: 0.0282\n",
      "Epoch 842/1200\n",
      "1/1 [==============================] - 0s 0s/step - loss: 0.0011 - mae: 0.0281\n",
      "Epoch 843/1200\n",
      "1/1 [==============================] - 0s 0s/step - loss: 0.0011 - mae: 0.0280\n",
      "Epoch 844/1200\n",
      "1/1 [==============================] - 0s 0s/step - loss: 0.0011 - mae: 0.0279\n",
      "Epoch 845/1200\n",
      "1/1 [==============================] - 0s 0s/step - loss: 0.0011 - mae: 0.0278\n",
      "Epoch 846/1200\n",
      "1/1 [==============================] - 0s 4ms/step - loss: 0.0010 - mae: 0.0277\n",
      "Epoch 847/1200\n",
      "1/1 [==============================] - 0s 5ms/step - loss: 0.0010 - mae: 0.0276\n",
      "Epoch 848/1200\n",
      "1/1 [==============================] - 0s 4ms/step - loss: 0.0010 - mae: 0.0276\n",
      "Epoch 849/1200\n",
      "1/1 [==============================] - 0s 4ms/step - loss: 0.0010 - mae: 0.0275\n",
      "Epoch 850/1200\n",
      "1/1 [==============================] - 0s 5ms/step - loss: 0.0010 - mae: 0.0274\n",
      "Epoch 851/1200\n",
      "1/1 [==============================] - 0s 3ms/step - loss: 0.0010 - mae: 0.0273\n",
      "Epoch 852/1200\n",
      "1/1 [==============================] - 0s 3ms/step - loss: 0.0010 - mae: 0.0272\n",
      "Epoch 853/1200\n",
      "1/1 [==============================] - 0s 4ms/step - loss: 9.9603e-04 - mae: 0.0271\n",
      "Epoch 854/1200\n",
      "1/1 [==============================] - 0s 4ms/step - loss: 9.8931e-04 - mae: 0.0270\n",
      "Epoch 855/1200\n",
      "1/1 [==============================] - 0s 6ms/step - loss: 9.8265e-04 - mae: 0.0269\n",
      "Epoch 856/1200\n",
      "1/1 [==============================] - 0s 5ms/step - loss: 9.7602e-04 - mae: 0.0268\n",
      "Epoch 857/1200\n",
      "1/1 [==============================] - 0s 6ms/step - loss: 9.6942e-04 - mae: 0.0267\n",
      "Epoch 858/1200\n",
      "1/1 [==============================] - 0s 5ms/step - loss: 9.6287e-04 - mae: 0.0266\n",
      "Epoch 859/1200\n",
      "1/1 [==============================] - 0s 6ms/step - loss: 9.5637e-04 - mae: 0.0265\n",
      "Epoch 860/1200\n",
      "1/1 [==============================] - 0s 3ms/step - loss: 9.4993e-04 - mae: 0.0265\n",
      "Epoch 861/1200\n",
      "1/1 [==============================] - 0s 3ms/step - loss: 9.4350e-04 - mae: 0.0264\n",
      "Epoch 862/1200\n",
      "1/1 [==============================] - 0s 3ms/step - loss: 9.3714e-04 - mae: 0.0263\n",
      "Epoch 863/1200\n",
      "1/1 [==============================] - 0s 0s/step - loss: 9.3081e-04 - mae: 0.0262\n",
      "Epoch 864/1200\n",
      "1/1 [==============================] - 0s 0s/step - loss: 9.2453e-04 - mae: 0.0261\n",
      "Epoch 865/1200\n",
      "1/1 [==============================] - 0s 0s/step - loss: 9.1829e-04 - mae: 0.0260\n",
      "Epoch 866/1200\n",
      "1/1 [==============================] - 0s 0s/step - loss: 9.1209e-04 - mae: 0.0259\n",
      "Epoch 867/1200\n",
      "1/1 [==============================] - 0s 0s/step - loss: 9.0594e-04 - mae: 0.0258\n",
      "Epoch 868/1200\n",
      "1/1 [==============================] - 0s 0s/step - loss: 8.9980e-04 - mae: 0.0257\n",
      "Epoch 869/1200\n",
      "1/1 [==============================] - 0s 0s/step - loss: 8.9375e-04 - mae: 0.0257\n",
      "Epoch 870/1200\n",
      "1/1 [==============================] - 0s 0s/step - loss: 8.8771e-04 - mae: 0.0256\n",
      "Epoch 871/1200\n",
      "1/1 [==============================] - 0s 0s/step - loss: 8.8170e-04 - mae: 0.0255\n",
      "Epoch 872/1200\n",
      "1/1 [==============================] - 0s 0s/step - loss: 8.7577e-04 - mae: 0.0254\n",
      "Epoch 873/1200\n",
      "1/1 [==============================] - 0s 4ms/step - loss: 8.6985e-04 - mae: 0.0253\n",
      "Epoch 874/1200\n",
      "1/1 [==============================] - 0s 4ms/step - loss: 8.6399e-04 - mae: 0.0252\n",
      "Epoch 875/1200\n",
      "1/1 [==============================] - 0s 4ms/step - loss: 8.5813e-04 - mae: 0.0251\n",
      "Epoch 876/1200\n",
      "1/1 [==============================] - 0s 1ms/step - loss: 8.5235e-04 - mae: 0.0251\n",
      "Epoch 877/1200\n",
      "1/1 [==============================] - 0s 7ms/step - loss: 8.4659e-04 - mae: 0.0250\n",
      "Epoch 878/1200\n",
      "1/1 [==============================] - 0s 11ms/step - loss: 8.4089e-04 - mae: 0.0249\n",
      "Epoch 879/1200\n",
      "1/1 [==============================] - 0s 4ms/step - loss: 8.3520e-04 - mae: 0.0248\n",
      "Epoch 880/1200\n",
      "1/1 [==============================] - 0s 8ms/step - loss: 8.2957e-04 - mae: 0.0247\n",
      "Epoch 881/1200\n",
      "1/1 [==============================] - 0s 5ms/step - loss: 8.2396e-04 - mae: 0.0246\n",
      "Epoch 882/1200\n",
      "1/1 [==============================] - 0s 5ms/step - loss: 8.1840e-04 - mae: 0.0246\n",
      "Epoch 883/1200\n",
      "1/1 [==============================] - 0s 1ms/step - loss: 8.1289e-04 - mae: 0.0245\n",
      "Epoch 884/1200\n",
      "1/1 [==============================] - 0s 12ms/step - loss: 8.0739e-04 - mae: 0.0244\n",
      "Epoch 885/1200\n",
      "1/1 [==============================] - 0s 4ms/step - loss: 8.0194e-04 - mae: 0.0243\n",
      "Epoch 886/1200\n",
      "1/1 [==============================] - 0s 5ms/step - loss: 7.9653e-04 - mae: 0.0242\n",
      "Epoch 887/1200\n",
      "1/1 [==============================] - 0s 5ms/step - loss: 7.9114e-04 - mae: 0.0241\n",
      "Epoch 888/1200\n",
      "1/1 [==============================] - 0s 5ms/step - loss: 7.8580e-04 - mae: 0.0241\n",
      "Epoch 889/1200\n",
      "1/1 [==============================] - 0s 0s/step - loss: 7.8051e-04 - mae: 0.0240\n",
      "Epoch 890/1200\n",
      "1/1 [==============================] - 0s 18ms/step - loss: 7.7522e-04 - mae: 0.0239\n",
      "Epoch 891/1200\n",
      "1/1 [==============================] - 0s 7ms/step - loss: 7.7000e-04 - mae: 0.0238\n",
      "Epoch 892/1200\n",
      "1/1 [==============================] - 0s 6ms/step - loss: 7.6481e-04 - mae: 0.0237\n",
      "Epoch 893/1200\n",
      "1/1 [==============================] - 0s 8ms/step - loss: 7.5964e-04 - mae: 0.0237\n",
      "Epoch 894/1200\n",
      "1/1 [==============================] - 0s 5ms/step - loss: 7.5452e-04 - mae: 0.0236\n",
      "Epoch 895/1200\n",
      "1/1 [==============================] - 0s 2ms/step - loss: 7.4942e-04 - mae: 0.0235\n",
      "Epoch 896/1200\n",
      "1/1 [==============================] - 0s 0s/step - loss: 7.4436e-04 - mae: 0.0234\n",
      "Epoch 897/1200\n",
      "1/1 [==============================] - 0s 0s/step - loss: 7.3934e-04 - mae: 0.0233\n",
      "Epoch 898/1200\n",
      "1/1 [==============================] - 0s 0s/step - loss: 7.3436e-04 - mae: 0.0233\n",
      "Epoch 899/1200\n",
      "1/1 [==============================] - 0s 13ms/step - loss: 7.2939e-04 - mae: 0.0232\n",
      "Epoch 900/1200\n",
      "1/1 [==============================] - 0s 0s/step - loss: 7.2445e-04 - mae: 0.0231\n",
      "Epoch 901/1200\n",
      "1/1 [==============================] - 0s 0s/step - loss: 7.1957e-04 - mae: 0.0230\n",
      "Epoch 902/1200\n",
      "1/1 [==============================] - 0s 16ms/step - loss: 7.1474e-04 - mae: 0.0229\n",
      "Epoch 903/1200\n",
      "1/1 [==============================] - 0s 9ms/step - loss: 7.0991e-04 - mae: 0.0229\n",
      "Epoch 904/1200\n",
      "1/1 [==============================] - 0s 0s/step - loss: 7.0510e-04 - mae: 0.0228\n",
      "Epoch 905/1200\n",
      "1/1 [==============================] - 0s 0s/step - loss: 7.0034e-04 - mae: 0.0227\n",
      "Epoch 906/1200\n",
      "1/1 [==============================] - 0s 16ms/step - loss: 6.9563e-04 - mae: 0.0226\n",
      "Epoch 907/1200\n",
      "1/1 [==============================] - 0s 0s/step - loss: 6.9093e-04 - mae: 0.0226\n",
      "Epoch 908/1200\n",
      "1/1 [==============================] - 0s 0s/step - loss: 6.8626e-04 - mae: 0.0225\n",
      "Epoch 909/1200\n",
      "1/1 [==============================] - 0s 16ms/step - loss: 6.8161e-04 - mae: 0.0224\n",
      "Epoch 910/1200\n",
      "1/1 [==============================] - 0s 0s/step - loss: 6.7701e-04 - mae: 0.0223\n",
      "Epoch 911/1200\n",
      "1/1 [==============================] - 0s 0s/step - loss: 6.7245e-04 - mae: 0.0223\n",
      "Epoch 912/1200\n",
      "1/1 [==============================] - 0s 0s/step - loss: 6.6792e-04 - mae: 0.0222\n",
      "Epoch 913/1200\n",
      "1/1 [==============================] - 0s 0s/step - loss: 6.6340e-04 - mae: 0.0221\n",
      "Epoch 914/1200\n",
      "1/1 [==============================] - 0s 16ms/step - loss: 6.5892e-04 - mae: 0.0220\n",
      "Epoch 915/1200\n",
      "1/1 [==============================] - 0s 0s/step - loss: 6.5447e-04 - mae: 0.0220\n",
      "Epoch 916/1200\n",
      "1/1 [==============================] - 0s 0s/step - loss: 6.5005e-04 - mae: 0.0219\n",
      "Epoch 917/1200\n",
      "1/1 [==============================] - 0s 13ms/step - loss: 6.4566e-04 - mae: 0.0218\n",
      "Epoch 918/1200\n",
      "1/1 [==============================] - 0s 0s/step - loss: 6.4131e-04 - mae: 0.0217\n",
      "Epoch 919/1200\n",
      "1/1 [==============================] - 0s 0s/step - loss: 6.3699e-04 - mae: 0.0217\n",
      "Epoch 920/1200\n",
      "1/1 [==============================] - 0s 16ms/step - loss: 6.3270e-04 - mae: 0.0216\n",
      "Epoch 921/1200\n",
      "1/1 [==============================] - 0s 0s/step - loss: 6.2842e-04 - mae: 0.0215\n",
      "Epoch 922/1200\n",
      "1/1 [==============================] - 0s 0s/step - loss: 6.2418e-04 - mae: 0.0214\n",
      "Epoch 923/1200\n",
      "1/1 [==============================] - 0s 16ms/step - loss: 6.1996e-04 - mae: 0.0214\n",
      "Epoch 924/1200\n",
      "1/1 [==============================] - 0s 8ms/step - loss: 6.1577e-04 - mae: 0.0213\n",
      "Epoch 925/1200\n",
      "1/1 [==============================] - 0s 3ms/step - loss: 6.1162e-04 - mae: 0.0212\n",
      "Epoch 926/1200\n",
      "1/1 [==============================] - 0s 0s/step - loss: 6.0749e-04 - mae: 0.0212\n",
      "Epoch 927/1200\n",
      "1/1 [==============================] - 0s 11ms/step - loss: 6.0338e-04 - mae: 0.0211\n",
      "Epoch 928/1200\n",
      "1/1 [==============================] - 0s 4ms/step - loss: 5.9931e-04 - mae: 0.0210\n",
      "Epoch 929/1200\n",
      "1/1 [==============================] - 0s 0s/step - loss: 5.9526e-04 - mae: 0.0209\n",
      "Epoch 930/1200\n",
      "1/1 [==============================] - 0s 0s/step - loss: 5.9125e-04 - mae: 0.0209\n",
      "Epoch 931/1200\n",
      "1/1 [==============================] - 0s 16ms/step - loss: 5.8726e-04 - mae: 0.0208\n",
      "Epoch 932/1200\n",
      "1/1 [==============================] - 0s 0s/step - loss: 5.8329e-04 - mae: 0.0207\n",
      "Epoch 933/1200\n",
      "1/1 [==============================] - 0s 0s/step - loss: 5.7935e-04 - mae: 0.0207\n",
      "Epoch 934/1200\n",
      "1/1 [==============================] - 0s 16ms/step - loss: 5.7544e-04 - mae: 0.0206\n",
      "Epoch 935/1200\n",
      "1/1 [==============================] - 0s 0s/step - loss: 5.7156e-04 - mae: 0.0205\n",
      "Epoch 936/1200\n",
      "1/1 [==============================] - 0s 8ms/step - loss: 5.6769e-04 - mae: 0.0205\n",
      "Epoch 937/1200\n",
      "1/1 [==============================] - 0s 0s/step - loss: 5.6388e-04 - mae: 0.0204\n",
      "Epoch 938/1200\n",
      "1/1 [==============================] - 0s 0s/step - loss: 5.6005e-04 - mae: 0.0203\n",
      "Epoch 939/1200\n",
      "1/1 [==============================] - 0s 16ms/step - loss: 5.5627e-04 - mae: 0.0202\n",
      "Epoch 940/1200\n",
      "1/1 [==============================] - 0s 0s/step - loss: 5.5253e-04 - mae: 0.0202\n",
      "Epoch 941/1200\n",
      "1/1 [==============================] - 0s 0s/step - loss: 5.4881e-04 - mae: 0.0201\n",
      "Epoch 942/1200\n",
      "1/1 [==============================] - 0s 17ms/step - loss: 5.4510e-04 - mae: 0.0200\n",
      "Epoch 943/1200\n",
      "1/1 [==============================] - 0s 4ms/step - loss: 5.4140e-04 - mae: 0.0200\n",
      "Epoch 944/1200\n",
      "1/1 [==============================] - 0s 1ms/step - loss: 5.3777e-04 - mae: 0.0199\n",
      "Epoch 945/1200\n",
      "1/1 [==============================] - 0s 0s/step - loss: 5.3413e-04 - mae: 0.0198\n",
      "Epoch 946/1200\n",
      "1/1 [==============================] - 0s 0s/step - loss: 5.3052e-04 - mae: 0.0198\n",
      "Epoch 947/1200\n",
      "1/1 [==============================] - 0s 16ms/step - loss: 5.2694e-04 - mae: 0.0197\n",
      "Epoch 948/1200\n",
      "1/1 [==============================] - 0s 0s/step - loss: 5.2337e-04 - mae: 0.0196\n",
      "Epoch 949/1200\n",
      "1/1 [==============================] - 0s 0s/step - loss: 5.1986e-04 - mae: 0.0196\n",
      "Epoch 950/1200\n",
      "1/1 [==============================] - 0s 16ms/step - loss: 5.1634e-04 - mae: 0.0195\n",
      "Epoch 951/1200\n",
      "1/1 [==============================] - 0s 0s/step - loss: 5.1285e-04 - mae: 0.0194\n",
      "Epoch 952/1200\n",
      "1/1 [==============================] - 0s 0s/step - loss: 5.0939e-04 - mae: 0.0194\n",
      "Epoch 953/1200\n",
      "1/1 [==============================] - 0s 16ms/step - loss: 5.0595e-04 - mae: 0.0193\n",
      "Epoch 954/1200\n",
      "1/1 [==============================] - 0s 0s/step - loss: 5.0254e-04 - mae: 0.0192\n",
      "Epoch 955/1200\n",
      "1/1 [==============================] - 0s 0s/step - loss: 4.9916e-04 - mae: 0.0192\n",
      "Epoch 956/1200\n",
      "1/1 [==============================] - 0s 0s/step - loss: 4.9577e-04 - mae: 0.0191\n",
      "Epoch 957/1200\n",
      "1/1 [==============================] - 0s 0s/step - loss: 4.9244e-04 - mae: 0.0190\n",
      "Epoch 958/1200\n",
      "1/1 [==============================] - 0s 0s/step - loss: 4.8911e-04 - mae: 0.0190\n",
      "Epoch 959/1200\n",
      "1/1 [==============================] - 0s 0s/step - loss: 4.8581e-04 - mae: 0.0189\n",
      "Epoch 960/1200\n",
      "1/1 [==============================] - 0s 0s/step - loss: 4.8254e-04 - mae: 0.0189\n",
      "Epoch 961/1200\n",
      "1/1 [==============================] - 0s 0s/step - loss: 4.7928e-04 - mae: 0.0188\n",
      "Epoch 962/1200\n",
      "1/1 [==============================] - 0s 16ms/step - loss: 4.7603e-04 - mae: 0.0187\n",
      "Epoch 963/1200\n",
      "1/1 [==============================] - 0s 0s/step - loss: 4.7282e-04 - mae: 0.0187\n",
      "Epoch 964/1200\n",
      "1/1 [==============================] - 0s 16ms/step - loss: 4.6964e-04 - mae: 0.0186\n",
      "Epoch 965/1200\n",
      "1/1 [==============================] - 0s 16ms/step - loss: 4.6646e-04 - mae: 0.0185\n",
      "Epoch 966/1200\n",
      "1/1 [==============================] - 0s 0s/step - loss: 4.6331e-04 - mae: 0.0185\n",
      "Epoch 967/1200\n",
      "1/1 [==============================] - 0s 0s/step - loss: 4.6019e-04 - mae: 0.0184\n",
      "Epoch 968/1200\n",
      "1/1 [==============================] - 0s 16ms/step - loss: 4.5708e-04 - mae: 0.0184\n",
      "Epoch 969/1200\n",
      "1/1 [==============================] - 0s 7ms/step - loss: 4.5398e-04 - mae: 0.0183\n",
      "Epoch 970/1200\n",
      "1/1 [==============================] - 0s 0s/step - loss: 4.5092e-04 - mae: 0.0182\n",
      "Epoch 971/1200\n",
      "1/1 [==============================] - 0s 5ms/step - loss: 4.4788e-04 - mae: 0.0182\n",
      "Epoch 972/1200\n",
      "1/1 [==============================] - 0s 4ms/step - loss: 4.4485e-04 - mae: 0.0181\n",
      "Epoch 973/1200\n",
      "1/1 [==============================] - 0s 3ms/step - loss: 4.4185e-04 - mae: 0.0180\n",
      "Epoch 974/1200\n",
      "1/1 [==============================] - 0s 4ms/step - loss: 4.3888e-04 - mae: 0.0180\n",
      "Epoch 975/1200\n",
      "1/1 [==============================] - 0s 0s/step - loss: 4.3591e-04 - mae: 0.0179\n",
      "Epoch 976/1200\n",
      "1/1 [==============================] - 0s 0s/step - loss: 4.3296e-04 - mae: 0.0179\n",
      "Epoch 977/1200\n",
      "1/1 [==============================] - 0s 0s/step - loss: 4.3005e-04 - mae: 0.0178\n",
      "Epoch 978/1200\n",
      "1/1 [==============================] - 0s 0s/step - loss: 4.2713e-04 - mae: 0.0177\n",
      "Epoch 979/1200\n",
      "1/1 [==============================] - 0s 0s/step - loss: 4.2425e-04 - mae: 0.0177\n",
      "Epoch 980/1200\n",
      "1/1 [==============================] - 0s 0s/step - loss: 4.2139e-04 - mae: 0.0176\n",
      "Epoch 981/1200\n",
      "1/1 [==============================] - 0s 16ms/step - loss: 4.1856e-04 - mae: 0.0176\n",
      "Epoch 982/1200\n",
      "1/1 [==============================] - 0s 0s/step - loss: 4.1572e-04 - mae: 0.0175\n",
      "Epoch 983/1200\n",
      "1/1 [==============================] - 0s 0s/step - loss: 4.1292e-04 - mae: 0.0174\n",
      "Epoch 984/1200\n",
      "1/1 [==============================] - 0s 16ms/step - loss: 4.1012e-04 - mae: 0.0174\n",
      "Epoch 985/1200\n",
      "1/1 [==============================] - 0s 0s/step - loss: 4.0736e-04 - mae: 0.0173\n",
      "Epoch 986/1200\n",
      "1/1 [==============================] - 0s 0s/step - loss: 4.0461e-04 - mae: 0.0173\n",
      "Epoch 987/1200\n",
      "1/1 [==============================] - 0s 14ms/step - loss: 4.0187e-04 - mae: 0.0172\n",
      "Epoch 988/1200\n",
      "1/1 [==============================] - 0s 0s/step - loss: 3.9917e-04 - mae: 0.0171\n",
      "Epoch 989/1200\n",
      "1/1 [==============================] - 0s 0s/step - loss: 3.9647e-04 - mae: 0.0171\n",
      "Epoch 990/1200\n",
      "1/1 [==============================] - 0s 16ms/step - loss: 3.9381e-04 - mae: 0.0170\n",
      "Epoch 991/1200\n",
      "1/1 [==============================] - 0s 0s/step - loss: 3.9114e-04 - mae: 0.0170\n",
      "Epoch 992/1200\n",
      "1/1 [==============================] - 0s 0s/step - loss: 3.8850e-04 - mae: 0.0169\n",
      "Epoch 993/1200\n",
      "1/1 [==============================] - 0s 16ms/step - loss: 3.8588e-04 - mae: 0.0169\n",
      "Epoch 994/1200\n",
      "1/1 [==============================] - 0s 0s/step - loss: 3.8328e-04 - mae: 0.0168\n",
      "Epoch 995/1200\n",
      "1/1 [==============================] - 0s 0s/step - loss: 3.8068e-04 - mae: 0.0167\n",
      "Epoch 996/1200\n",
      "1/1 [==============================] - 0s 16ms/step - loss: 3.7812e-04 - mae: 0.0167\n",
      "Epoch 997/1200\n",
      "1/1 [==============================] - 0s 0s/step - loss: 3.7557e-04 - mae: 0.0166\n",
      "Epoch 998/1200\n",
      "1/1 [==============================] - 0s 0s/step - loss: 3.7303e-04 - mae: 0.0166\n",
      "Epoch 999/1200\n",
      "1/1 [==============================] - 0s 16ms/step - loss: 3.7051e-04 - mae: 0.0165\n",
      "Epoch 1000/1200\n",
      "1/1 [==============================] - 0s 0s/step - loss: 3.6801e-04 - mae: 0.0165\n",
      "Epoch 1001/1200\n",
      "1/1 [==============================] - 0s 0s/step - loss: 3.6551e-04 - mae: 0.0164\n",
      "Epoch 1002/1200\n",
      "1/1 [==============================] - 0s 16ms/step - loss: 3.6305e-04 - mae: 0.0164\n",
      "Epoch 1003/1200\n",
      "1/1 [==============================] - 0s 0s/step - loss: 3.6061e-04 - mae: 0.0163\n",
      "Epoch 1004/1200\n",
      "1/1 [==============================] - 0s 0s/step - loss: 3.5817e-04 - mae: 0.0162\n",
      "Epoch 1005/1200\n",
      "1/1 [==============================] - 0s 16ms/step - loss: 3.5575e-04 - mae: 0.0162\n",
      "Epoch 1006/1200\n",
      "1/1 [==============================] - 0s 0s/step - loss: 3.5335e-04 - mae: 0.0161\n",
      "Epoch 1007/1200\n",
      "1/1 [==============================] - 0s 0s/step - loss: 3.5097e-04 - mae: 0.0161\n",
      "Epoch 1008/1200\n",
      "1/1 [==============================] - 0s 0s/step - loss: 3.4859e-04 - mae: 0.0160\n",
      "Epoch 1009/1200\n",
      "1/1 [==============================] - 0s 0s/step - loss: 3.4623e-04 - mae: 0.0160\n",
      "Epoch 1010/1200\n",
      "1/1 [==============================] - 0s 16ms/step - loss: 3.4390e-04 - mae: 0.0159\n",
      "Epoch 1011/1200\n",
      "1/1 [==============================] - 0s 0s/step - loss: 3.4158e-04 - mae: 0.0159\n",
      "Epoch 1012/1200\n",
      "1/1 [==============================] - 0s 0s/step - loss: 3.3927e-04 - mae: 0.0158\n",
      "Epoch 1013/1200\n",
      "1/1 [==============================] - 0s 0s/step - loss: 3.3699e-04 - mae: 0.0158\n",
      "Epoch 1014/1200\n",
      "1/1 [==============================] - 0s 0s/step - loss: 3.3471e-04 - mae: 0.0157\n",
      "Epoch 1015/1200\n",
      "1/1 [==============================] - 0s 0s/step - loss: 3.3245e-04 - mae: 0.0157\n",
      "Epoch 1016/1200\n",
      "1/1 [==============================] - 0s 0s/step - loss: 3.3021e-04 - mae: 0.0156\n",
      "Epoch 1017/1200\n",
      "1/1 [==============================] - 0s 16ms/step - loss: 3.2798e-04 - mae: 0.0155\n",
      "Epoch 1018/1200\n",
      "1/1 [==============================] - 0s 16ms/step - loss: 3.2576e-04 - mae: 0.0155\n",
      "Epoch 1019/1200\n",
      "1/1 [==============================] - 0s 0s/step - loss: 3.2356e-04 - mae: 0.0154\n",
      "Epoch 1020/1200\n",
      "1/1 [==============================] - 0s 7ms/step - loss: 3.2138e-04 - mae: 0.0154\n",
      "Epoch 1021/1200\n",
      "1/1 [==============================] - 0s 0s/step - loss: 3.1922e-04 - mae: 0.0153\n",
      "Epoch 1022/1200\n",
      "1/1 [==============================] - 0s 16ms/step - loss: 3.1706e-04 - mae: 0.0153\n",
      "Epoch 1023/1200\n",
      "1/1 [==============================] - 0s 0s/step - loss: 3.1491e-04 - mae: 0.0152\n",
      "Epoch 1024/1200\n",
      "1/1 [==============================] - 0s 0s/step - loss: 3.1279e-04 - mae: 0.0152\n",
      "Epoch 1025/1200\n",
      "1/1 [==============================] - 0s 16ms/step - loss: 3.1068e-04 - mae: 0.0151\n",
      "Epoch 1026/1200\n",
      "1/1 [==============================] - 0s 0s/step - loss: 3.0858e-04 - mae: 0.0151\n",
      "Epoch 1027/1200\n",
      "1/1 [==============================] - 0s 0s/step - loss: 3.0649e-04 - mae: 0.0150\n",
      "Epoch 1028/1200\n",
      "1/1 [==============================] - 0s 16ms/step - loss: 3.0443e-04 - mae: 0.0150\n",
      "Epoch 1029/1200\n",
      "1/1 [==============================] - 0s 0s/step - loss: 3.0238e-04 - mae: 0.0149\n",
      "Epoch 1030/1200\n",
      "1/1 [==============================] - 0s 0s/step - loss: 3.0033e-04 - mae: 0.0149\n",
      "Epoch 1031/1200\n",
      "1/1 [==============================] - 0s 16ms/step - loss: 2.9831e-04 - mae: 0.0148\n",
      "Epoch 1032/1200\n",
      "1/1 [==============================] - 0s 0s/step - loss: 2.9629e-04 - mae: 0.0148\n",
      "Epoch 1033/1200\n",
      "1/1 [==============================] - 0s 0s/step - loss: 2.9429e-04 - mae: 0.0147\n",
      "Epoch 1034/1200\n",
      "1/1 [==============================] - 0s 16ms/step - loss: 2.9230e-04 - mae: 0.0147\n",
      "Epoch 1035/1200\n",
      "1/1 [==============================] - 0s 0s/step - loss: 2.9033e-04 - mae: 0.0146\n",
      "Epoch 1036/1200\n",
      "1/1 [==============================] - 0s 0s/step - loss: 2.8837e-04 - mae: 0.0146\n",
      "Epoch 1037/1200\n",
      "1/1 [==============================] - 0s 16ms/step - loss: 2.8642e-04 - mae: 0.0145\n",
      "Epoch 1038/1200\n",
      "1/1 [==============================] - 0s 7ms/step - loss: 2.8449e-04 - mae: 0.0145\n",
      "Epoch 1039/1200\n",
      "1/1 [==============================] - 0s 0s/step - loss: 2.8257e-04 - mae: 0.0144\n",
      "Epoch 1040/1200\n",
      "1/1 [==============================] - 0s 0s/step - loss: 2.8066e-04 - mae: 0.0144\n",
      "Epoch 1041/1200\n",
      "1/1 [==============================] - 0s 0s/step - loss: 2.7876e-04 - mae: 0.0143\n",
      "Epoch 1042/1200\n",
      "1/1 [==============================] - 0s 0s/step - loss: 2.7688e-04 - mae: 0.0143\n",
      "Epoch 1043/1200\n",
      "1/1 [==============================] - 0s 0s/step - loss: 2.7502e-04 - mae: 0.0142\n",
      "Epoch 1044/1200\n",
      "1/1 [==============================] - 0s 16ms/step - loss: 2.7316e-04 - mae: 0.0142\n",
      "Epoch 1045/1200\n",
      "1/1 [==============================] - 0s 0s/step - loss: 2.7132e-04 - mae: 0.0141\n",
      "Epoch 1046/1200\n",
      "1/1 [==============================] - 0s 0s/step - loss: 2.6950e-04 - mae: 0.0141\n",
      "Epoch 1047/1200\n",
      "1/1 [==============================] - 0s 0s/step - loss: 2.6767e-04 - mae: 0.0140\n",
      "Epoch 1048/1200\n",
      "1/1 [==============================] - 0s 0s/step - loss: 2.6586e-04 - mae: 0.0140\n",
      "Epoch 1049/1200\n",
      "1/1 [==============================] - 0s 0s/step - loss: 2.6405e-04 - mae: 0.0139\n",
      "Epoch 1050/1200\n",
      "1/1 [==============================] - 0s 0s/step - loss: 2.6228e-04 - mae: 0.0139\n",
      "Epoch 1051/1200\n",
      "1/1 [==============================] - 0s 0s/step - loss: 2.6051e-04 - mae: 0.0139\n",
      "Epoch 1052/1200\n",
      "1/1 [==============================] - 0s 0s/step - loss: 2.5874e-04 - mae: 0.0138\n",
      "Epoch 1053/1200\n",
      "1/1 [==============================] - 0s 0s/step - loss: 2.5700e-04 - mae: 0.0138\n",
      "Epoch 1054/1200\n",
      "1/1 [==============================] - 0s 0s/step - loss: 2.5527e-04 - mae: 0.0137\n",
      "Epoch 1055/1200\n",
      "1/1 [==============================] - 0s 0s/step - loss: 2.5354e-04 - mae: 0.0137\n",
      "Epoch 1056/1200\n",
      "1/1 [==============================] - 0s 0s/step - loss: 2.5183e-04 - mae: 0.0136\n",
      "Epoch 1057/1200\n",
      "1/1 [==============================] - 0s 0s/step - loss: 2.5013e-04 - mae: 0.0136\n",
      "Epoch 1058/1200\n",
      "1/1 [==============================] - 0s 7ms/step - loss: 2.4845e-04 - mae: 0.0135\n",
      "Epoch 1059/1200\n",
      "1/1 [==============================] - 0s 0s/step - loss: 2.4676e-04 - mae: 0.0135\n",
      "Epoch 1060/1200\n",
      "1/1 [==============================] - 0s 0s/step - loss: 2.4511e-04 - mae: 0.0134\n",
      "Epoch 1061/1200\n",
      "1/1 [==============================] - 0s 16ms/step - loss: 2.4345e-04 - mae: 0.0134\n",
      "Epoch 1062/1200\n",
      "1/1 [==============================] - 0s 0s/step - loss: 2.4181e-04 - mae: 0.0133\n",
      "Epoch 1063/1200\n",
      "1/1 [==============================] - 0s 0s/step - loss: 2.4017e-04 - mae: 0.0133\n",
      "Epoch 1064/1200\n",
      "1/1 [==============================] - 0s 16ms/step - loss: 2.3855e-04 - mae: 0.0133\n",
      "Epoch 1065/1200\n",
      "1/1 [==============================] - 0s 0s/step - loss: 2.3694e-04 - mae: 0.0132\n",
      "Epoch 1066/1200\n",
      "1/1 [==============================] - 0s 0s/step - loss: 2.3535e-04 - mae: 0.0132\n",
      "Epoch 1067/1200\n",
      "1/1 [==============================] - 0s 16ms/step - loss: 2.3375e-04 - mae: 0.0131\n",
      "Epoch 1068/1200\n",
      "1/1 [==============================] - 0s 0s/step - loss: 2.3218e-04 - mae: 0.0131\n",
      "Epoch 1069/1200\n",
      "1/1 [==============================] - 0s 0s/step - loss: 2.3061e-04 - mae: 0.0130\n",
      "Epoch 1070/1200\n",
      "1/1 [==============================] - 0s 16ms/step - loss: 2.2905e-04 - mae: 0.0130\n",
      "Epoch 1071/1200\n",
      "1/1 [==============================] - 0s 16ms/step - loss: 2.2750e-04 - mae: 0.0129\n",
      "Epoch 1072/1200\n",
      "1/1 [==============================] - 0s 0s/step - loss: 2.2597e-04 - mae: 0.0129\n",
      "Epoch 1073/1200\n",
      "1/1 [==============================] - 0s 7ms/step - loss: 2.2444e-04 - mae: 0.0129\n",
      "Epoch 1074/1200\n",
      "1/1 [==============================] - 0s 16ms/step - loss: 2.2293e-04 - mae: 0.0128\n",
      "Epoch 1075/1200\n",
      "1/1 [==============================] - 0s 0s/step - loss: 2.2143e-04 - mae: 0.0128\n",
      "Epoch 1076/1200\n",
      "1/1 [==============================] - 0s 16ms/step - loss: 2.1993e-04 - mae: 0.0127\n",
      "Epoch 1077/1200\n",
      "1/1 [==============================] - 0s 0s/step - loss: 2.1845e-04 - mae: 0.0127\n",
      "Epoch 1078/1200\n",
      "1/1 [==============================] - 0s 0s/step - loss: 2.1698e-04 - mae: 0.0126\n",
      "Epoch 1079/1200\n",
      "1/1 [==============================] - 0s 0s/step - loss: 2.1551e-04 - mae: 0.0126\n",
      "Epoch 1080/1200\n",
      "1/1 [==============================] - 0s 0s/step - loss: 2.1405e-04 - mae: 0.0126\n",
      "Epoch 1081/1200\n",
      "1/1 [==============================] - 0s 0s/step - loss: 2.1260e-04 - mae: 0.0125\n",
      "Epoch 1082/1200\n",
      "1/1 [==============================] - 0s 16ms/step - loss: 2.1117e-04 - mae: 0.0125\n",
      "Epoch 1083/1200\n",
      "1/1 [==============================] - 0s 0s/step - loss: 2.0974e-04 - mae: 0.0124\n",
      "Epoch 1084/1200\n",
      "1/1 [==============================] - 0s 0s/step - loss: 2.0833e-04 - mae: 0.0124\n",
      "Epoch 1085/1200\n",
      "1/1 [==============================] - 0s 16ms/step - loss: 2.0693e-04 - mae: 0.0123\n",
      "Epoch 1086/1200\n",
      "1/1 [==============================] - 0s 7ms/step - loss: 2.0553e-04 - mae: 0.0123\n",
      "Epoch 1087/1200\n",
      "1/1 [==============================] - 0s 0s/step - loss: 2.0413e-04 - mae: 0.0123\n",
      "Epoch 1088/1200\n",
      "1/1 [==============================] - 0s 16ms/step - loss: 2.0276e-04 - mae: 0.0122\n",
      "Epoch 1089/1200\n",
      "1/1 [==============================] - 0s 0s/step - loss: 2.0139e-04 - mae: 0.0122\n",
      "Epoch 1090/1200\n",
      "1/1 [==============================] - 0s 16ms/step - loss: 2.0003e-04 - mae: 0.0121\n",
      "Epoch 1091/1200\n",
      "1/1 [==============================] - 0s 4ms/step - loss: 1.9869e-04 - mae: 0.0121\n",
      "Epoch 1092/1200\n",
      "1/1 [==============================] - 0s 0s/step - loss: 1.9734e-04 - mae: 0.0121\n",
      "Epoch 1093/1200\n",
      "1/1 [==============================] - 0s 16ms/step - loss: 1.9602e-04 - mae: 0.0120\n",
      "Epoch 1094/1200\n",
      "1/1 [==============================] - 0s 0s/step - loss: 1.9468e-04 - mae: 0.0120\n",
      "Epoch 1095/1200\n",
      "1/1 [==============================] - 0s 0s/step - loss: 1.9337e-04 - mae: 0.0119\n",
      "Epoch 1096/1200\n",
      "1/1 [==============================] - 0s 0s/step - loss: 1.9207e-04 - mae: 0.0119\n",
      "Epoch 1097/1200\n",
      "1/1 [==============================] - 0s 16ms/step - loss: 1.9077e-04 - mae: 0.0119\n",
      "Epoch 1098/1200\n",
      "1/1 [==============================] - 0s 0s/step - loss: 1.8949e-04 - mae: 0.0118\n",
      "Epoch 1099/1200\n",
      "1/1 [==============================] - 0s 15ms/step - loss: 1.8820e-04 - mae: 0.0118\n",
      "Epoch 1100/1200\n",
      "1/1 [==============================] - 0s 0s/step - loss: 1.8694e-04 - mae: 0.0117\n",
      "Epoch 1101/1200\n",
      "1/1 [==============================] - 0s 4ms/step - loss: 1.8568e-04 - mae: 0.0117\n",
      "Epoch 1102/1200\n",
      "1/1 [==============================] - 0s 3ms/step - loss: 1.8442e-04 - mae: 0.0117\n",
      "Epoch 1103/1200\n",
      "1/1 [==============================] - 0s 6ms/step - loss: 1.8318e-04 - mae: 0.0116\n",
      "Epoch 1104/1200\n",
      "1/1 [==============================] - 0s 4ms/step - loss: 1.8193e-04 - mae: 0.0116\n",
      "Epoch 1105/1200\n",
      "1/1 [==============================] - 0s 4ms/step - loss: 1.8070e-04 - mae: 0.0115\n",
      "Epoch 1106/1200\n",
      "1/1 [==============================] - 0s 4ms/step - loss: 1.7948e-04 - mae: 0.0115\n",
      "Epoch 1107/1200\n",
      "1/1 [==============================] - 0s 4ms/step - loss: 1.7828e-04 - mae: 0.0115\n",
      "Epoch 1108/1200\n",
      "1/1 [==============================] - 0s 4ms/step - loss: 1.7707e-04 - mae: 0.0114\n",
      "Epoch 1109/1200\n",
      "1/1 [==============================] - 0s 4ms/step - loss: 1.7587e-04 - mae: 0.0114\n",
      "Epoch 1110/1200\n",
      "1/1 [==============================] - 0s 3ms/step - loss: 1.7469e-04 - mae: 0.0113\n",
      "Epoch 1111/1200\n",
      "1/1 [==============================] - 0s 4ms/step - loss: 1.7351e-04 - mae: 0.0113\n",
      "Epoch 1112/1200\n",
      "1/1 [==============================] - 0s 4ms/step - loss: 1.7234e-04 - mae: 0.0113\n",
      "Epoch 1113/1200\n",
      "1/1 [==============================] - 0s 4ms/step - loss: 1.7117e-04 - mae: 0.0112\n",
      "Epoch 1114/1200\n",
      "1/1 [==============================] - 0s 4ms/step - loss: 1.7002e-04 - mae: 0.0112\n",
      "Epoch 1115/1200\n",
      "1/1 [==============================] - 0s 5ms/step - loss: 1.6887e-04 - mae: 0.0112\n",
      "Epoch 1116/1200\n",
      "1/1 [==============================] - 0s 3ms/step - loss: 1.6773e-04 - mae: 0.0111\n",
      "Epoch 1117/1200\n",
      "1/1 [==============================] - 0s 4ms/step - loss: 1.6660e-04 - mae: 0.0111\n",
      "Epoch 1118/1200\n",
      "1/1 [==============================] - 0s 4ms/step - loss: 1.6548e-04 - mae: 0.0110\n",
      "Epoch 1119/1200\n",
      "1/1 [==============================] - 0s 3ms/step - loss: 1.6436e-04 - mae: 0.0110\n",
      "Epoch 1120/1200\n",
      "1/1 [==============================] - 0s 5ms/step - loss: 1.6325e-04 - mae: 0.0110\n",
      "Epoch 1121/1200\n",
      "1/1 [==============================] - 0s 4ms/step - loss: 1.6214e-04 - mae: 0.0109\n",
      "Epoch 1122/1200\n",
      "1/1 [==============================] - 0s 4ms/step - loss: 1.6105e-04 - mae: 0.0109\n",
      "Epoch 1123/1200\n",
      "1/1 [==============================] - 0s 3ms/step - loss: 1.5996e-04 - mae: 0.0109\n",
      "Epoch 1124/1200\n",
      "1/1 [==============================] - 0s 5ms/step - loss: 1.5889e-04 - mae: 0.0108\n",
      "Epoch 1125/1200\n",
      "1/1 [==============================] - 0s 4ms/step - loss: 1.5780e-04 - mae: 0.0108\n",
      "Epoch 1126/1200\n",
      "1/1 [==============================] - 0s 3ms/step - loss: 1.5675e-04 - mae: 0.0107\n",
      "Epoch 1127/1200\n",
      "1/1 [==============================] - 0s 5ms/step - loss: 1.5568e-04 - mae: 0.0107\n",
      "Epoch 1128/1200\n",
      "1/1 [==============================] - 0s 3ms/step - loss: 1.5463e-04 - mae: 0.0107\n",
      "Epoch 1129/1200\n",
      "1/1 [==============================] - 0s 5ms/step - loss: 1.5360e-04 - mae: 0.0106\n",
      "Epoch 1130/1200\n",
      "1/1 [==============================] - 0s 7ms/step - loss: 1.5255e-04 - mae: 0.0106\n",
      "Epoch 1131/1200\n",
      "1/1 [==============================] - 0s 9ms/step - loss: 1.5152e-04 - mae: 0.0106\n",
      "Epoch 1132/1200\n",
      "1/1 [==============================] - 0s 10ms/step - loss: 1.5051e-04 - mae: 0.0105\n",
      "Epoch 1133/1200\n",
      "1/1 [==============================] - 0s 3ms/step - loss: 1.4949e-04 - mae: 0.0105\n",
      "Epoch 1134/1200\n",
      "1/1 [==============================] - 0s 12ms/step - loss: 1.4848e-04 - mae: 0.0105\n",
      "Epoch 1135/1200\n",
      "1/1 [==============================] - 0s 0s/step - loss: 1.4747e-04 - mae: 0.0104\n",
      "Epoch 1136/1200\n",
      "1/1 [==============================] - 0s 6ms/step - loss: 1.4648e-04 - mae: 0.0104\n",
      "Epoch 1137/1200\n",
      "1/1 [==============================] - 0s 5ms/step - loss: 1.4549e-04 - mae: 0.0104\n",
      "Epoch 1138/1200\n",
      "1/1 [==============================] - 0s 3ms/step - loss: 1.4451e-04 - mae: 0.0103\n",
      "Epoch 1139/1200\n",
      "1/1 [==============================] - 0s 0s/step - loss: 1.4353e-04 - mae: 0.0103\n",
      "Epoch 1140/1200\n",
      "1/1 [==============================] - 0s 16ms/step - loss: 1.4256e-04 - mae: 0.0102\n",
      "Epoch 1141/1200\n",
      "1/1 [==============================] - 0s 0s/step - loss: 1.4160e-04 - mae: 0.0102\n",
      "Epoch 1142/1200\n",
      "1/1 [==============================] - 0s 0s/step - loss: 1.4065e-04 - mae: 0.0102\n",
      "Epoch 1143/1200\n",
      "1/1 [==============================] - 0s 0s/step - loss: 1.3970e-04 - mae: 0.0101\n",
      "Epoch 1144/1200\n",
      "1/1 [==============================] - 0s 11ms/step - loss: 1.3875e-04 - mae: 0.0101\n",
      "Epoch 1145/1200\n",
      "1/1 [==============================] - 0s 0s/step - loss: 1.3781e-04 - mae: 0.0101\n",
      "Epoch 1146/1200\n",
      "1/1 [==============================] - 0s 0s/step - loss: 1.3689e-04 - mae: 0.0100\n",
      "Epoch 1147/1200\n",
      "1/1 [==============================] - 0s 16ms/step - loss: 1.3596e-04 - mae: 0.0100\n",
      "Epoch 1148/1200\n",
      "1/1 [==============================] - 0s 0s/step - loss: 1.3504e-04 - mae: 0.0100\n",
      "Epoch 1149/1200\n",
      "1/1 [==============================] - 0s 0s/step - loss: 1.3413e-04 - mae: 0.0099\n",
      "Epoch 1150/1200\n",
      "1/1 [==============================] - 0s 16ms/step - loss: 1.3323e-04 - mae: 0.0099\n",
      "Epoch 1151/1200\n",
      "1/1 [==============================] - 0s 1ms/step - loss: 1.3233e-04 - mae: 0.0099\n",
      "Epoch 1152/1200\n",
      "1/1 [==============================] - 0s 0s/step - loss: 1.3143e-04 - mae: 0.0098\n",
      "Epoch 1153/1200\n",
      "1/1 [==============================] - 0s 0s/step - loss: 1.3054e-04 - mae: 0.0098\n",
      "Epoch 1154/1200\n",
      "1/1 [==============================] - 0s 2ms/step - loss: 1.2966e-04 - mae: 0.0098\n",
      "Epoch 1155/1200\n",
      "1/1 [==============================] - 0s 0s/step - loss: 1.2879e-04 - mae: 0.0097\n",
      "Epoch 1156/1200\n",
      "1/1 [==============================] - 0s 0s/step - loss: 1.2792e-04 - mae: 0.0097\n",
      "Epoch 1157/1200\n",
      "1/1 [==============================] - 0s 1ms/step - loss: 1.2706e-04 - mae: 0.0097\n",
      "Epoch 1158/1200\n",
      "1/1 [==============================] - 0s 0s/step - loss: 1.2620e-04 - mae: 0.0096\n",
      "Epoch 1159/1200\n",
      "1/1 [==============================] - 0s 0s/step - loss: 1.2534e-04 - mae: 0.0096\n",
      "Epoch 1160/1200\n",
      "1/1 [==============================] - 0s 16ms/step - loss: 1.2450e-04 - mae: 0.0096\n",
      "Epoch 1161/1200\n",
      "1/1 [==============================] - 0s 0s/step - loss: 1.2366e-04 - mae: 0.0095\n",
      "Epoch 1162/1200\n",
      "1/1 [==============================] - 0s 14ms/step - loss: 1.2283e-04 - mae: 0.0095\n",
      "Epoch 1163/1200\n",
      "1/1 [==============================] - 0s 2ms/step - loss: 1.2201e-04 - mae: 0.0095\n",
      "Epoch 1164/1200\n",
      "1/1 [==============================] - 0s 0s/step - loss: 1.2117e-04 - mae: 0.0094\n",
      "Epoch 1165/1200\n",
      "1/1 [==============================] - 0s 0s/step - loss: 1.2036e-04 - mae: 0.0094\n",
      "Epoch 1166/1200\n",
      "1/1 [==============================] - 0s 16ms/step - loss: 1.1955e-04 - mae: 0.0094\n",
      "Epoch 1167/1200\n",
      "1/1 [==============================] - 0s 0s/step - loss: 1.1874e-04 - mae: 0.0094\n",
      "Epoch 1168/1200\n",
      "1/1 [==============================] - 0s 0s/step - loss: 1.1793e-04 - mae: 0.0093\n",
      "Epoch 1169/1200\n",
      "1/1 [==============================] - 0s 18ms/step - loss: 1.1714e-04 - mae: 0.0093\n",
      "Epoch 1170/1200\n",
      "1/1 [==============================] - 0s 0s/step - loss: 1.1635e-04 - mae: 0.0093\n",
      "Epoch 1171/1200\n",
      "1/1 [==============================] - 0s 0s/step - loss: 1.1556e-04 - mae: 0.0092\n",
      "Epoch 1172/1200\n",
      "1/1 [==============================] - 0s 16ms/step - loss: 1.1478e-04 - mae: 0.0092\n",
      "Epoch 1173/1200\n",
      "1/1 [==============================] - 0s 0s/step - loss: 1.1401e-04 - mae: 0.0092\n",
      "Epoch 1174/1200\n",
      "1/1 [==============================] - 0s 0s/step - loss: 1.1324e-04 - mae: 0.0091\n",
      "Epoch 1175/1200\n",
      "1/1 [==============================] - 0s 17ms/step - loss: 1.1248e-04 - mae: 0.0091\n",
      "Epoch 1176/1200\n",
      "1/1 [==============================] - 0s 3ms/step - loss: 1.1172e-04 - mae: 0.0091\n",
      "Epoch 1177/1200\n",
      "1/1 [==============================] - 0s 0s/step - loss: 1.1096e-04 - mae: 0.0090\n",
      "Epoch 1178/1200\n",
      "1/1 [==============================] - 0s 11ms/step - loss: 1.1021e-04 - mae: 0.0090\n",
      "Epoch 1179/1200\n",
      "1/1 [==============================] - 0s 0s/step - loss: 1.0947e-04 - mae: 0.0090\n",
      "Epoch 1180/1200\n",
      "1/1 [==============================] - 0s 0s/step - loss: 1.0873e-04 - mae: 0.0090\n",
      "Epoch 1181/1200\n",
      "1/1 [==============================] - 0s 5ms/step - loss: 1.0800e-04 - mae: 0.0089\n",
      "Epoch 1182/1200\n",
      "1/1 [==============================] - 0s 0s/step - loss: 1.0727e-04 - mae: 0.0089\n",
      "Epoch 1183/1200\n",
      "1/1 [==============================] - 0s 0s/step - loss: 1.0654e-04 - mae: 0.0089\n",
      "Epoch 1184/1200\n",
      "1/1 [==============================] - 0s 14ms/step - loss: 1.0582e-04 - mae: 0.0088\n",
      "Epoch 1185/1200\n",
      "1/1 [==============================] - 0s 0s/step - loss: 1.0511e-04 - mae: 0.0088\n",
      "Epoch 1186/1200\n",
      "1/1 [==============================] - 0s 0s/step - loss: 1.0441e-04 - mae: 0.0088\n",
      "Epoch 1187/1200\n",
      "1/1 [==============================] - 0s 20ms/step - loss: 1.0369e-04 - mae: 0.0087\n",
      "Epoch 1188/1200\n",
      "1/1 [==============================] - 0s 3ms/step - loss: 1.0299e-04 - mae: 0.0087\n",
      "Epoch 1189/1200\n",
      "1/1 [==============================] - 0s 8ms/step - loss: 1.0231e-04 - mae: 0.0087\n",
      "Epoch 1190/1200\n",
      "1/1 [==============================] - 0s 3ms/step - loss: 1.0161e-04 - mae: 0.0087\n",
      "Epoch 1191/1200\n",
      "1/1 [==============================] - 0s 0s/step - loss: 1.0092e-04 - mae: 0.0086\n",
      "Epoch 1192/1200\n",
      "1/1 [==============================] - 0s 17ms/step - loss: 1.0024e-04 - mae: 0.0086\n",
      "Epoch 1193/1200\n",
      "1/1 [==============================] - 0s 13ms/step - loss: 9.9565e-05 - mae: 0.0086\n",
      "Epoch 1194/1200\n",
      "1/1 [==============================] - 0s 9ms/step - loss: 9.8893e-05 - mae: 0.0085\n",
      "Epoch 1195/1200\n",
      "1/1 [==============================] - 0s 4ms/step - loss: 9.8227e-05 - mae: 0.0085\n",
      "Epoch 1196/1200\n",
      "1/1 [==============================] - 0s 0s/step - loss: 9.7559e-05 - mae: 0.0085\n",
      "Epoch 1197/1200\n",
      "1/1 [==============================] - 0s 6ms/step - loss: 9.6909e-05 - mae: 0.0084\n",
      "Epoch 1198/1200\n",
      "1/1 [==============================] - 0s 11ms/step - loss: 9.6254e-05 - mae: 0.0084\n",
      "Epoch 1199/1200\n",
      "1/1 [==============================] - 0s 5ms/step - loss: 9.5600e-05 - mae: 0.0084\n",
      "Epoch 1200/1200\n",
      "1/1 [==============================] - 0s 8ms/step - loss: 9.4959e-05 - mae: 0.0084\n"
     ]
    }
   ],
   "source": [
    "history = model.fit(x, y, epochs=1200)"
   ]
  },
  {
   "cell_type": "code",
   "execution_count": 17,
   "metadata": {},
   "outputs": [
    {
     "data": {
      "image/png": "[encoded data removed]",
      "text/plain": [
       "<Figure size 640x480 with 1 Axes>"
      ]
     },
     "metadata": {},
     "output_type": "display_data"
    }
   ],
   "source": [
    "import matplotlib.pyplot as plt\n",
    "\n",
    "# 20 에포크까지 Loss 수렴에 대한 시각화\n",
    "plt.plot(history.history['loss'], label='loss')\n",
    "plt.plot(history.history['mae'], label='mae')\n",
    "plt.xlim(-1, 20)\n",
    "plt.title('Loss')\n",
    "plt.legend()\n",
    "plt.show()"
   ]
  },
  {
   "cell_type": "markdown",
   "metadata": {},
   "source": [
    "#### 검증"
   ]
  },
  {
   "cell_type": "code",
   "execution_count": 18,
   "metadata": {},
   "outputs": [
    {
     "name": "stdout",
     "output_type": "stream",
     "text": [
      "1/1 [==============================] - 0s 93ms/step - loss: 9.4316e-05 - mae: 0.0083\n"
     ]
    },
    {
     "data": {
      "text/plain": [
       "[9.431561920791864e-05, 0.008335685357451439]"
      ]
     },
     "execution_count": 18,
     "metadata": {},
     "output_type": "execute_result"
    }
   ],
   "source": [
    "model.evaluate(x, y)"
   ]
  },
  {
   "cell_type": "markdown",
   "metadata": {},
   "source": [
    "#### 예측"
   ]
  },
  {
   "cell_type": "code",
   "execution_count": 19,
   "metadata": {},
   "outputs": [
    {
     "name": "stdout",
     "output_type": "stream",
     "text": [
      "1/1 [==============================] - 0s 74ms/step\n"
     ]
    },
    {
     "data": {
      "text/plain": [
       "array([[32.040287]], dtype=float32)"
      ]
     },
     "execution_count": 19,
     "metadata": {},
     "output_type": "execute_result"
    }
   ],
   "source": [
    "model.predict([10])"
   ]
  },
  {
   "cell_type": "code",
   "execution_count": null,
   "metadata": {},
   "outputs": [],
   "source": []
  },
  {
   "cell_type": "markdown",
   "metadata": {},
   "source": [
    "### Sequential API 를 사용하여 이미지 분류기 만들기"
   ]
  },
  {
   "cell_type": "markdown",
   "metadata": {},
   "source": [
    "#### 패션 MNIST 데이터 가져오기"
   ]
  },
  {
   "cell_type": "code",
   "execution_count": 20,
   "metadata": {},
   "outputs": [],
   "source": [
    "fashion_mnist = keras.datasets.fashion_mnist\n",
    "(X_train_full, y_train_full), (X_test, y_test) = fashion_mnist.load_data()"
   ]
  },
  {
   "cell_type": "markdown",
   "metadata": {},
   "source": [
    "#### 훈련 데이터 확인"
   ]
  },
  {
   "cell_type": "code",
   "execution_count": 21,
   "metadata": {},
   "outputs": [
    {
     "name": "stdout",
     "output_type": "stream",
     "text": [
      "데이터 구조: (60000, 28, 28)\n",
      "데이터 타입: uint8\n"
     ]
    }
   ],
   "source": [
    "print('데이터 구조:', X_train_full.shape)\n",
    "\n",
    "print('데이터 타입:', X_train_full.dtype)"
   ]
  },
  {
   "cell_type": "markdown",
   "metadata": {},
   "source": [
    "### 훈련 데이터 와 테스트 데이터를 나누고 0~1 사이로 스케일링"
   ]
  },
  {
   "cell_type": "code",
   "execution_count": 22,
   "metadata": {},
   "outputs": [],
   "source": [
    "X_valid, X_train = X_train_full[:5000] / 255., X_train_full[5000:] / 255.\n",
    "y_valid, y_train = y_train_full[:5000], y_train_full[5000:]\n",
    "X_test = X_test / 255."
   ]
  },
  {
   "cell_type": "markdown",
   "metadata": {},
   "source": [
    "#### 이미지 출력"
   ]
  },
  {
   "cell_type": "code",
   "execution_count": 23,
   "metadata": {},
   "outputs": [
    {
     "data": {
      "image/png": "[encoded data removed]",
      "text/plain": [
       "<Figure size 640x480 with 1 Axes>"
      ]
     },
     "metadata": {},
     "output_type": "display_data"
    }
   ],
   "source": [
    "# cmap 을 빼면 컬러로 출력됨\n",
    "plt.imshow(X_train[0], cmap=\"binary\")\n",
    "plt.axis('off')\n",
    "plt.show()"
   ]
  },
  {
   "cell_type": "markdown",
   "metadata": {},
   "source": [
    "#### 레이블 생성"
   ]
  },
  {
   "cell_type": "code",
   "execution_count": 24,
   "metadata": {},
   "outputs": [
    {
     "name": "stdout",
     "output_type": "stream",
     "text": [
      "[4 0 7 ... 3 0 5]\n",
      "Coat\n"
     ]
    }
   ],
   "source": [
    "# 레이블이 숫자로 되어있음\n",
    "print(y_train) #0 ~ 9\n",
    "\n",
    "# 유저 입장에서는 숫자보다 문자열이 좋음\n",
    "# 레이블 별 품목 명을 리스트로 생성\n",
    "# 대표하는 이미지로 생성해두는 것도 좋음\n",
    "class_names = [\"T-shirt/top\", \"Trouser\", \"Pullover\", \"Dress\", \"Coat\",\n",
    "               \"Sandal\", \"Shirt\", \"Sneaker\", \"Bag\", \"Ankle boot\"]\n",
    "\n",
    "print(class_names[y_train[0]])"
   ]
  },
  {
   "cell_type": "markdown",
   "metadata": {},
   "source": [
    "#### 데이터 개수 확인"
   ]
  },
  {
   "cell_type": "code",
   "execution_count": 25,
   "metadata": {},
   "outputs": [
    {
     "name": "stdout",
     "output_type": "stream",
     "text": [
      "학습 데이터: (60000, 28, 28)\n",
      "테스트 데이터: (10000, 28, 28)\n",
      "검증 데이터: (5000, 28, 28)\n"
     ]
    }
   ],
   "source": [
    "print('학습 데이터:', X_train_full.shape)\n",
    "print('테스트 데이터:', X_test.shape)\n",
    "print('검증 데이터:', X_valid.shape)"
   ]
  },
  {
   "cell_type": "markdown",
   "metadata": {},
   "source": [
    "#### 샘플 이미지 출력"
   ]
  },
  {
   "cell_type": "code",
   "execution_count": 26,
   "metadata": {},
   "outputs": [
    {
     "name": "stdout",
     "output_type": "stream",
     "text": [
      "그림 저장: fashion_mnist_plot\n"
     ]
    },
    {
     "data": {
      "image/png": "[encoded data removed]",
      "text/plain": [
       "<Figure size 1200x480 with 40 Axes>"
      ]
     },
     "metadata": {},
     "output_type": "display_data"
    }
   ],
   "source": [
    "n_rows = 4 # 행 개수\n",
    "n_cols = 10 # 열 개수\n",
    "plt.figure(figsize=(n_cols * 1.2, n_rows * 1.2)) # 캔버스 사이즈 설정\n",
    "\n",
    "# 행 개수와 열 개수만큼 순회\n",
    "for row in range(n_rows):\n",
    "    for col in range(n_cols):\n",
    "        # 행 번화와 열 번호로 인덱스 생성\n",
    "        index = n_cols * row + col\n",
    "        # 켄버스 안에 작언 캔버스를 순서대로 생성\n",
    "        plt.subplot(n_rows, n_cols, index + 1)\n",
    "        # 캔버스에 이미지를 하나씩 출력\n",
    "        plt.imshow(X_train[index], cmap=\"binary\", interpolation=\"nearest\")\n",
    "        # plt 출력할 때 축 제거\n",
    "        plt.axis('off')\n",
    "        # 문자열 출력\n",
    "        plt.title(class_names[y_train[index]], fontsize=12)\n",
    "plt.subplots_adjust(wspace=0.2, hspace=0.5)\n",
    "save_fig('fashion_mnist_plot', tight_layout=False)\n",
    "plt.show()"
   ]
  },
  {
   "cell_type": "markdown",
   "metadata": {},
   "source": [
    "#### Flatten Layer"
   ]
  },
  {
   "cell_type": "code",
   "execution_count": 27,
   "metadata": {},
   "outputs": [
    {
     "name": "stdout",
     "output_type": "stream",
     "text": [
      "변경전 shape: (55000, 28, 28)\n",
      "1D로 shape 변경 후: (55000, 784)\n"
     ]
    }
   ],
   "source": [
    "print(f'변경전 shape: {X_train.shape}')\n",
    "# reshape 를 할 때 -1 을 설정하면 나머지를 모두 설정하고 남는 것을 하나의 차원으로 생성\n",
    "print(f'1D로 shape 변경 후: {X_train.reshape(55000, -1).shape}')"
   ]
  },
  {
   "cell_type": "code",
   "execution_count": 28,
   "metadata": {},
   "outputs": [
    {
     "name": "stdout",
     "output_type": "stream",
     "text": [
      "변경전 shape: (55000, 28, 28)\n",
      "Flatten 적용 후: (55000, 784)\n"
     ]
    }
   ],
   "source": [
    "print(f'변경전 shape: {X_train.shape}')\n",
    "\n",
    "# Flatten 레이어 적용 후 shape 확인\n",
    "print(f'Flatten 적용 후: {tf.keras.layers.Flatten()(X_train).shape}')"
   ]
  },
  {
   "cell_type": "markdown",
   "metadata": {},
   "source": [
    "#### 활성화 함수"
   ]
  },
  {
   "cell_type": "code",
   "execution_count": 29,
   "metadata": {},
   "outputs": [
    {
     "data": {
      "text/plain": [
       "<keras.src.layers.core.dense.Dense at 0x1a6125ea6b0>"
      ]
     },
     "execution_count": 29,
     "metadata": {},
     "output_type": "execute_result"
    }
   ],
   "source": [
    "# Dense 레이어에 relu 활성화 함수를 적용한 경우\n",
    "# 뉴런의 개수가 128개인 relu를 활성화 함수를 사용하는 완전 연결 층을 생성\n",
    "tf.keras.layers.Dense(128, activation='relu')"
   ]
  },
  {
   "cell_type": "code",
   "execution_count": 30,
   "metadata": {},
   "outputs": [],
   "source": [
    "# Dense 레이어에 relu 활성화 함수를 적용한 경우\n",
    "# Sequential API 에 층을 추가하는 방법\n",
    "model = tf.keras.Sequential([\n",
    "    tf.keras.layers.Dense(128), \n",
    "    tf.keras.layers.Activation('relu')\n",
    "])"
   ]
  },
  {
   "cell_type": "markdown",
   "metadata": {},
   "source": [
    "#### 시퀀셜 API를 사용하여 모델 만들기"
   ]
  },
  {
   "cell_type": "code",
   "execution_count": 31,
   "metadata": {},
   "outputs": [],
   "source": [
    "# 모델 생성\n",
    "model = keras.models.Sequential()\n",
    "# 입력 층 - 이미지의 경우는 1차원으로 변경하고 차원을 설정\n",
    "model.add(keras.layers.Flatten(input_shape=[28, 28]))\n",
    "\n",
    "# Hidden layers - 이 층의 개수가 많아서 Deep Learning\n",
    "# 개수 제한은 없으나 일반적으로 뉴런의 개수는 줄어드는 방향으로 설정\n",
    "model.add(keras.layers.Dense(300, activation=\"relu\"))\n",
    "model.add(keras.layers.Dense(100, activation=\"relu\"))\n",
    "\n",
    "# 출력 층\n",
    "# 출력 층의 뉴런의 개수는 출력하는 데이터의 개수\n",
    "# 분류는 클래스 개수이고 회귀는 1\n",
    "model.add(keras.layers.Dense(10, activation=\"softmax\"))"
   ]
  },
  {
   "cell_type": "code",
   "execution_count": 32,
   "metadata": {},
   "outputs": [],
   "source": [
    "#루프에서 많은 모델을 생성하는 경우이 전역 상태는 시간이 지남에 따라 증가하는 메모리를 소비하므로 이를 지울 수 있습니다. \n",
    "#clear_session() 호출 하면 전역 상태가 해제됩니다. \n",
    "#이는 특히 메모리가 제한된 경우 이전 모델 및 레이어의 혼란을 방지하는 데 도움이됩니다.\n",
    "keras.backend.clear_session()\n",
    "np.random.seed(42)\n",
    "tf.random.set_seed(42)"
   ]
  },
  {
   "cell_type": "code",
   "execution_count": 33,
   "metadata": {},
   "outputs": [],
   "source": [
    "#층을 하나씩 추가하지 않고 Sequential 모델을 만들 때 층의 리스트를 전달해도 됨\n",
    "model = keras.models.Sequential([\n",
    "    keras.layers.Flatten(input_shape=[28, 28]),\n",
    "    keras.layers.Dense(300, activation=\"relu\"),\n",
    "    keras.layers.Dense(100, activation=\"relu\"),\n",
    "    keras.layers.Dense(10, activation=\"softmax\")\n",
    "])"
   ]
  },
  {
   "cell_type": "code",
   "execution_count": 34,
   "metadata": {},
   "outputs": [
    {
     "data": {
      "text/plain": [
       "[<keras.src.layers.reshaping.flatten.Flatten at 0x1a63302a560>,\n",
       " <keras.src.layers.core.dense.Dense at 0x1a634561720>,\n",
       " <keras.src.layers.core.dense.Dense at 0x1a634561810>,\n",
       " <keras.src.layers.core.dense.Dense at 0x1a634560d30>]"
      ]
     },
     "execution_count": 34,
     "metadata": {},
     "output_type": "execute_result"
    }
   ],
   "source": [
    "model.layers"
   ]
  },
  {
   "cell_type": "code",
   "execution_count": 35,
   "metadata": {},
   "outputs": [
    {
     "name": "stdout",
     "output_type": "stream",
     "text": [
      "Model: \"sequential\"\n",
      "_________________________________________________________________\n",
      " Layer (type)                Output Shape              Param #   \n",
      "=================================================================\n",
      " flatten (Flatten)           (None, 784)               0         \n",
      "                                                                 \n",
      " dense (Dense)               (None, 300)               235500    \n",
      "                                                                 \n",
      " dense_1 (Dense)             (None, 100)               30100     \n",
      "                                                                 \n",
      " dense_2 (Dense)             (None, 10)                1010      \n",
      "                                                                 \n",
      "=================================================================\n",
      "Total params: 266610 (1.02 MB)\n",
      "Trainable params: 266610 (1.02 MB)\n",
      "Non-trainable params: 0 (0.00 Byte)\n",
      "_________________________________________________________________\n"
     ]
    }
   ],
   "source": [
    "model.summary()"
   ]
  },
  {
   "cell_type": "markdown",
   "metadata": {},
   "source": [
    "#### 모델을 이미지로 출력"
   ]
  },
  {
   "cell_type": "code",
   "execution_count": 36,
   "metadata": {},
   "outputs": [
    {
     "data": {
      "image/png": "[encoded data removed]",
      "text/plain": [
       "<IPython.core.display.Image object>"
      ]
     },
     "execution_count": 36,
     "metadata": {},
     "output_type": "execute_result"
    }
   ],
   "source": [
    "keras.utils.plot_model(model, \"my_fashion_mnist_model.png\", show_shapes=True)"
   ]
  },
  {
   "cell_type": "markdown",
   "metadata": {},
   "source": [
    "### 인덱스를 이용해서 층의 이름을 확인하기"
   ]
  },
  {
   "cell_type": "code",
   "execution_count": 37,
   "metadata": {},
   "outputs": [
    {
     "data": {
      "text/plain": [
       "'dense'"
      ]
     },
     "execution_count": 37,
     "metadata": {},
     "output_type": "execute_result"
    }
   ],
   "source": [
    "hidden1 = model.layers[1]\n",
    "hidden1.name"
   ]
  },
  {
   "cell_type": "code",
   "execution_count": 38,
   "metadata": {},
   "outputs": [
    {
     "data": {
      "text/plain": [
       "True"
      ]
     },
     "execution_count": 38,
     "metadata": {},
     "output_type": "execute_result"
    }
   ],
   "source": [
    "model.get_layer(hidden1.name) is hidden1"
   ]
  },
  {
   "cell_type": "markdown",
   "metadata": {},
   "source": [
    "### 파라미터 확인"
   ]
  },
  {
   "cell_type": "code",
   "execution_count": 39,
   "metadata": {},
   "outputs": [
    {
     "data": {
      "text/plain": [
       "array([[ 0.06451115, -0.03392267, -0.02222925, ...,  0.01842074,\n",
       "         0.05254827, -0.03707568],\n",
       "       [-0.07203007, -0.02138229, -0.03262273, ...,  0.00108194,\n",
       "        -0.06188647, -0.04454922],\n",
       "       [-0.03365252, -0.04492652, -0.04131239, ..., -0.0089701 ,\n",
       "         0.02278329,  0.06768219],\n",
       "       ...,\n",
       "       [-0.05977481,  0.01780152,  0.07062297, ..., -0.05367947,\n",
       "         0.02768178, -0.0057691 ],\n",
       "       [ 0.06162956,  0.03131987,  0.00107121, ..., -0.01951595,\n",
       "        -0.02024145, -0.01926425],\n",
       "       [-0.04539842,  0.05298276,  0.01136526, ...,  0.00628619,\n",
       "        -0.02321942, -0.0674793 ]], dtype=float32)"
      ]
     },
     "execution_count": 39,
     "metadata": {},
     "output_type": "execute_result"
    }
   ],
   "source": [
    "weights, biases = hidden1.get_weights()\n",
    "weights"
   ]
  },
  {
   "cell_type": "code",
   "execution_count": 40,
   "metadata": {},
   "outputs": [
    {
     "data": {
      "text/plain": [
       "(784, 300)"
      ]
     },
     "execution_count": 40,
     "metadata": {},
     "output_type": "execute_result"
    }
   ],
   "source": [
    "weights.shape"
   ]
  },
  {
   "cell_type": "code",
   "execution_count": 41,
   "metadata": {},
   "outputs": [
    {
     "data": {
      "text/plain": [
       "array([0., 0., 0., 0., 0., 0., 0., 0., 0., 0., 0., 0., 0., 0., 0., 0., 0.,\n",
       "       0., 0., 0., 0., 0., 0., 0., 0., 0., 0., 0., 0., 0., 0., 0., 0., 0.,\n",
       "       0., 0., 0., 0., 0., 0., 0., 0., 0., 0., 0., 0., 0., 0., 0., 0., 0.,\n",
       "       0., 0., 0., 0., 0., 0., 0., 0., 0., 0., 0., 0., 0., 0., 0., 0., 0.,\n",
       "       0., 0., 0., 0., 0., 0., 0., 0., 0., 0., 0., 0., 0., 0., 0., 0., 0.,\n",
       "       0., 0., 0., 0., 0., 0., 0., 0., 0., 0., 0., 0., 0., 0., 0., 0., 0.,\n",
       "       0., 0., 0., 0., 0., 0., 0., 0., 0., 0., 0., 0., 0., 0., 0., 0., 0.,\n",
       "       0., 0., 0., 0., 0., 0., 0., 0., 0., 0., 0., 0., 0., 0., 0., 0., 0.,\n",
       "       0., 0., 0., 0., 0., 0., 0., 0., 0., 0., 0., 0., 0., 0., 0., 0., 0.,\n",
       "       0., 0., 0., 0., 0., 0., 0., 0., 0., 0., 0., 0., 0., 0., 0., 0., 0.,\n",
       "       0., 0., 0., 0., 0., 0., 0., 0., 0., 0., 0., 0., 0., 0., 0., 0., 0.,\n",
       "       0., 0., 0., 0., 0., 0., 0., 0., 0., 0., 0., 0., 0., 0., 0., 0., 0.,\n",
       "       0., 0., 0., 0., 0., 0., 0., 0., 0., 0., 0., 0., 0., 0., 0., 0., 0.,\n",
       "       0., 0., 0., 0., 0., 0., 0., 0., 0., 0., 0., 0., 0., 0., 0., 0., 0.,\n",
       "       0., 0., 0., 0., 0., 0., 0., 0., 0., 0., 0., 0., 0., 0., 0., 0., 0.,\n",
       "       0., 0., 0., 0., 0., 0., 0., 0., 0., 0., 0., 0., 0., 0., 0., 0., 0.,\n",
       "       0., 0., 0., 0., 0., 0., 0., 0., 0., 0., 0., 0., 0., 0., 0., 0., 0.,\n",
       "       0., 0., 0., 0., 0., 0., 0., 0., 0., 0., 0.], dtype=float32)"
      ]
     },
     "execution_count": 41,
     "metadata": {},
     "output_type": "execute_result"
    }
   ],
   "source": [
    "biases"
   ]
  },
  {
   "cell_type": "code",
   "execution_count": 42,
   "metadata": {},
   "outputs": [
    {
     "data": {
      "text/plain": [
       "(300,)"
      ]
     },
     "execution_count": 42,
     "metadata": {},
     "output_type": "execute_result"
    }
   ],
   "source": [
    "biases.shape"
   ]
  },
  {
   "cell_type": "markdown",
   "metadata": {},
   "source": [
    "#### 손실 함수"
   ]
  },
  {
   "cell_type": "code",
   "execution_count": 43,
   "metadata": {},
   "outputs": [],
   "source": [
    "# 이진 분류 (출력 노드 개수 = 1, sigmoid 인 경우)\n",
    "model.compile(loss='binary_crossentropy')"
   ]
  },
  {
   "cell_type": "code",
   "execution_count": 44,
   "metadata": {},
   "outputs": [],
   "source": [
    "# y가 원 핫 벡터인 경우\n",
    "# [0., 0., 0., 0., 0., 1., 0., 0., 0., 0.]\n",
    "model.compile(loss='categorical_crossentropy')\n",
    "\n",
    "# y가 원 핫 벡터가 아닌경우\n",
    "# [5]\n",
    "model.compile(loss='sparse_categorical_crossentropy')"
   ]
  },
  {
   "cell_type": "markdown",
   "metadata": {},
   "source": [
    "#### 옵티마이저"
   ]
  },
  {
   "cell_type": "code",
   "execution_count": 46,
   "metadata": {},
   "outputs": [],
   "source": [
    "# 클래스 인스턴스로 지정\n",
    "adam = tf.keras.optimizers.Adam(learning_rate=0.001)\n",
    "model.compile(optimizer=adam)"
   ]
  },
  {
   "cell_type": "code",
   "execution_count": 47,
   "metadata": {},
   "outputs": [],
   "source": [
    "# 문자열로 지정\n",
    "model.compile(optimizer='adam')"
   ]
  },
  {
   "cell_type": "markdown",
   "metadata": {},
   "source": [
    "#### 평가지표"
   ]
  },
  {
   "cell_type": "code",
   "execution_count": 48,
   "metadata": {},
   "outputs": [],
   "source": [
    "# 클래스 인스턴스로 지정\n",
    "acc = tf.keras.metrics.SparseCategoricalAccuracy()\n",
    "\n",
    "model.compile(optimizer='adam', \n",
    "              loss='sparse_categorical_crossentropy', \n",
    "              metrics=[acc])"
   ]
  },
  {
   "cell_type": "code",
   "execution_count": 49,
   "metadata": {},
   "outputs": [],
   "source": [
    "# 문자열로 지정\n",
    "model.compile(optimizer='adam', \n",
    "              loss='sparse_categorical_crossentropy', \n",
    "              metrics=['accuracy'])"
   ]
  },
  {
   "cell_type": "markdown",
   "metadata": {},
   "source": [
    "#### 모델 컴파일"
   ]
  },
  {
   "cell_type": "code",
   "execution_count": 57,
   "metadata": {},
   "outputs": [],
   "source": [
    "model.compile(loss=\"sparse_categorical_crossentropy\",\n",
    "              optimizer=\"adam\",\n",
    "              metrics=[\"accuracy\"])"
   ]
  },
  {
   "cell_type": "markdown",
   "metadata": {},
   "source": [
    "#### 모델 훈련"
   ]
  },
  {
   "cell_type": "code",
   "execution_count": 58,
   "metadata": {},
   "outputs": [
    {
     "name": "stdout",
     "output_type": "stream",
     "text": [
      "Epoch 1/50\n",
      "1719/1719 [==============================] - 6s 3ms/step - loss: 0.3747 - accuracy: 0.8630 - val_loss: 0.3336 - val_accuracy: 0.8734\n",
      "Epoch 2/50\n",
      "1719/1719 [==============================] - 5s 3ms/step - loss: 0.3330 - accuracy: 0.8767 - val_loss: 0.3923 - val_accuracy: 0.8582\n",
      "Epoch 3/50\n",
      "1719/1719 [==============================] - 5s 3ms/step - loss: 0.3107 - accuracy: 0.8843 - val_loss: 0.3399 - val_accuracy: 0.8736\n",
      "Epoch 4/50\n",
      "1719/1719 [==============================] - 5s 3ms/step - loss: 0.2916 - accuracy: 0.8910 - val_loss: 0.3042 - val_accuracy: 0.8860\n",
      "Epoch 5/50\n",
      "1719/1719 [==============================] - 5s 3ms/step - loss: 0.2765 - accuracy: 0.8961 - val_loss: 0.3110 - val_accuracy: 0.8850\n",
      "Epoch 6/50\n",
      "1719/1719 [==============================] - 5s 3ms/step - loss: 0.2639 - accuracy: 0.9018 - val_loss: 0.3143 - val_accuracy: 0.8860\n",
      "Epoch 7/50\n",
      "1719/1719 [==============================] - 5s 3ms/step - loss: 0.2541 - accuracy: 0.9053 - val_loss: 0.3153 - val_accuracy: 0.8910\n",
      "Epoch 8/50\n",
      "1719/1719 [==============================] - 6s 3ms/step - loss: 0.2409 - accuracy: 0.9093 - val_loss: 0.3168 - val_accuracy: 0.8872\n",
      "Epoch 9/50\n",
      "1719/1719 [==============================] - 6s 3ms/step - loss: 0.2318 - accuracy: 0.9118 - val_loss: 0.3163 - val_accuracy: 0.8902\n",
      "Epoch 10/50\n",
      "1719/1719 [==============================] - 6s 3ms/step - loss: 0.2231 - accuracy: 0.9153 - val_loss: 0.2999 - val_accuracy: 0.8960\n",
      "Epoch 11/50\n",
      "1719/1719 [==============================] - 6s 3ms/step - loss: 0.2129 - accuracy: 0.9191 - val_loss: 0.3414 - val_accuracy: 0.8884\n",
      "Epoch 12/50\n",
      "1719/1719 [==============================] - 6s 3ms/step - loss: 0.2079 - accuracy: 0.9214 - val_loss: 0.2952 - val_accuracy: 0.8958\n",
      "Epoch 13/50\n",
      "1719/1719 [==============================] - 6s 3ms/step - loss: 0.2013 - accuracy: 0.9244 - val_loss: 0.3035 - val_accuracy: 0.8976\n",
      "Epoch 14/50\n",
      "1719/1719 [==============================] - 5s 3ms/step - loss: 0.1908 - accuracy: 0.9262 - val_loss: 0.3196 - val_accuracy: 0.8952\n",
      "Epoch 15/50\n",
      "1719/1719 [==============================] - 5s 3ms/step - loss: 0.1888 - accuracy: 0.9272 - val_loss: 0.3104 - val_accuracy: 0.8992\n",
      "Epoch 16/50\n",
      "1719/1719 [==============================] - 5s 3ms/step - loss: 0.1810 - accuracy: 0.9309 - val_loss: 0.3311 - val_accuracy: 0.8958\n",
      "Epoch 17/50\n",
      "1719/1719 [==============================] - 5s 3ms/step - loss: 0.1749 - accuracy: 0.9328 - val_loss: 0.3308 - val_accuracy: 0.8962\n",
      "Epoch 18/50\n",
      "1719/1719 [==============================] - 6s 3ms/step - loss: 0.1692 - accuracy: 0.9357 - val_loss: 0.3323 - val_accuracy: 0.9006\n",
      "Epoch 19/50\n",
      "1719/1719 [==============================] - 6s 3ms/step - loss: 0.1641 - accuracy: 0.9373 - val_loss: 0.3430 - val_accuracy: 0.8936\n",
      "Epoch 20/50\n",
      "1719/1719 [==============================] - 6s 4ms/step - loss: 0.1605 - accuracy: 0.9386 - val_loss: 0.3168 - val_accuracy: 0.9016\n",
      "Epoch 21/50\n",
      "1719/1719 [==============================] - 6s 4ms/step - loss: 0.1576 - accuracy: 0.9392 - val_loss: 0.3693 - val_accuracy: 0.8946\n",
      "Epoch 22/50\n",
      "1719/1719 [==============================] - 6s 4ms/step - loss: 0.1516 - accuracy: 0.9419 - val_loss: 0.3770 - val_accuracy: 0.9032\n",
      "Epoch 23/50\n",
      "1719/1719 [==============================] - 6s 4ms/step - loss: 0.1500 - accuracy: 0.9427 - val_loss: 0.3636 - val_accuracy: 0.8982\n",
      "Epoch 24/50\n",
      "1719/1719 [==============================] - 6s 4ms/step - loss: 0.1425 - accuracy: 0.9452 - val_loss: 0.3915 - val_accuracy: 0.8928\n",
      "Epoch 25/50\n",
      "1719/1719 [==============================] - 6s 4ms/step - loss: 0.1401 - accuracy: 0.9461 - val_loss: 0.4070 - val_accuracy: 0.8996\n",
      "Epoch 26/50\n",
      "1719/1719 [==============================] - 7s 4ms/step - loss: 0.1365 - accuracy: 0.9472 - val_loss: 0.3855 - val_accuracy: 0.8984\n",
      "Epoch 27/50\n",
      "1719/1719 [==============================] - 7s 4ms/step - loss: 0.1321 - accuracy: 0.9497 - val_loss: 0.4100 - val_accuracy: 0.9008\n",
      "Epoch 28/50\n",
      "1719/1719 [==============================] - 7s 4ms/step - loss: 0.1321 - accuracy: 0.9491 - val_loss: 0.4082 - val_accuracy: 0.8960\n",
      "Epoch 29/50\n",
      "1719/1719 [==============================] - 7s 4ms/step - loss: 0.1286 - accuracy: 0.9505 - val_loss: 0.3966 - val_accuracy: 0.8988\n",
      "Epoch 30/50\n",
      "1719/1719 [==============================] - 7s 4ms/step - loss: 0.1246 - accuracy: 0.9521 - val_loss: 0.3979 - val_accuracy: 0.8986\n",
      "Epoch 31/50\n",
      "1719/1719 [==============================] - 7s 4ms/step - loss: 0.1222 - accuracy: 0.9539 - val_loss: 0.4184 - val_accuracy: 0.9016\n",
      "Epoch 32/50\n",
      "1719/1719 [==============================] - 7s 4ms/step - loss: 0.1188 - accuracy: 0.9548 - val_loss: 0.4245 - val_accuracy: 0.9042\n",
      "Epoch 33/50\n",
      "1719/1719 [==============================] - 8s 4ms/step - loss: 0.1208 - accuracy: 0.9544 - val_loss: 0.4201 - val_accuracy: 0.8990\n",
      "Epoch 34/50\n",
      "1719/1719 [==============================] - 8s 5ms/step - loss: 0.1153 - accuracy: 0.9561 - val_loss: 0.4951 - val_accuracy: 0.9004\n",
      "Epoch 35/50\n",
      "1719/1719 [==============================] - 8s 4ms/step - loss: 0.1103 - accuracy: 0.9572 - val_loss: 0.4497 - val_accuracy: 0.9018\n",
      "Epoch 36/50\n",
      "1719/1719 [==============================] - 7s 4ms/step - loss: 0.1105 - accuracy: 0.9577 - val_loss: 0.4691 - val_accuracy: 0.8962\n",
      "Epoch 37/50\n",
      "1719/1719 [==============================] - 7s 4ms/step - loss: 0.1067 - accuracy: 0.9588 - val_loss: 0.4574 - val_accuracy: 0.8970\n",
      "Epoch 38/50\n",
      "1719/1719 [==============================] - 7s 4ms/step - loss: 0.1030 - accuracy: 0.9611 - val_loss: 0.4714 - val_accuracy: 0.8996\n",
      "Epoch 39/50\n",
      "1719/1719 [==============================] - 7s 4ms/step - loss: 0.1052 - accuracy: 0.9602 - val_loss: 0.4794 - val_accuracy: 0.9008\n",
      "Epoch 40/50\n",
      "1719/1719 [==============================] - 7s 4ms/step - loss: 0.1035 - accuracy: 0.9609 - val_loss: 0.4974 - val_accuracy: 0.8928\n",
      "Epoch 41/50\n",
      "1719/1719 [==============================] - 8s 5ms/step - loss: 0.0981 - accuracy: 0.9629 - val_loss: 0.5027 - val_accuracy: 0.9006\n",
      "Epoch 42/50\n",
      "1719/1719 [==============================] - 7s 4ms/step - loss: 0.0978 - accuracy: 0.9637 - val_loss: 0.5145 - val_accuracy: 0.9010\n",
      "Epoch 43/50\n",
      "1719/1719 [==============================] - 7s 4ms/step - loss: 0.0946 - accuracy: 0.9639 - val_loss: 0.5983 - val_accuracy: 0.8954\n",
      "Epoch 44/50\n",
      "1719/1719 [==============================] - 8s 4ms/step - loss: 0.0921 - accuracy: 0.9654 - val_loss: 0.5174 - val_accuracy: 0.8998\n",
      "Epoch 45/50\n",
      "1719/1719 [==============================] - 8s 5ms/step - loss: 0.0940 - accuracy: 0.9646 - val_loss: 0.5255 - val_accuracy: 0.9072\n",
      "Epoch 46/50\n",
      "1719/1719 [==============================] - 8s 5ms/step - loss: 0.0890 - accuracy: 0.9665 - val_loss: 0.5989 - val_accuracy: 0.8918\n",
      "Epoch 47/50\n",
      "1719/1719 [==============================] - 8s 5ms/step - loss: 0.0872 - accuracy: 0.9669 - val_loss: 0.5733 - val_accuracy: 0.9012\n",
      "Epoch 48/50\n",
      "1719/1719 [==============================] - 8s 4ms/step - loss: 0.0886 - accuracy: 0.9664 - val_loss: 0.5542 - val_accuracy: 0.9052\n",
      "Epoch 49/50\n",
      "1719/1719 [==============================] - 8s 5ms/step - loss: 0.0851 - accuracy: 0.9674 - val_loss: 0.5587 - val_accuracy: 0.8994\n",
      "Epoch 50/50\n",
      "1719/1719 [==============================] - 8s 5ms/step - loss: 0.0878 - accuracy: 0.9673 - val_loss: 0.5636 - val_accuracy: 0.9024\n"
     ]
    }
   ],
   "source": [
    "history = model.fit(X_train, y_train, epochs=50,\n",
    "                    validation_data=(X_valid, y_valid))"
   ]
  },
  {
   "cell_type": "markdown",
   "metadata": {},
   "source": [
    "#### History 객체"
   ]
  },
  {
   "cell_type": "code",
   "execution_count": 59,
   "metadata": {},
   "outputs": [
    {
     "data": {
      "text/plain": [
       "{'verbose': 1, 'epochs': 50, 'steps': 1719}"
      ]
     },
     "execution_count": 59,
     "metadata": {},
     "output_type": "execute_result"
    }
   ],
   "source": [
    "history.params"
   ]
  },
  {
   "cell_type": "code",
   "execution_count": 60,
   "metadata": {},
   "outputs": [
    {
     "name": "stdout",
     "output_type": "stream",
     "text": [
      "[0, 1, 2, 3, 4, 5, 6, 7, 8, 9, 10, 11, 12, 13, 14, 15, 16, 17, 18, 19, 20, 21, 22, 23, 24, 25, 26, 27, 28, 29, 30, 31, 32, 33, 34, 35, 36, 37, 38, 39, 40, 41, 42, 43, 44, 45, 46, 47, 48, 49]\n"
     ]
    }
   ],
   "source": [
    "print(history.epoch)"
   ]
  },
  {
   "cell_type": "code",
   "execution_count": 61,
   "metadata": {},
   "outputs": [
    {
     "data": {
      "text/plain": [
       "dict_keys(['loss', 'accuracy', 'val_loss', 'val_accuracy'])"
      ]
     },
     "execution_count": 61,
     "metadata": {},
     "output_type": "execute_result"
    }
   ],
   "source": [
    "history.history.keys()"
   ]
  },
  {
   "cell_type": "markdown",
   "metadata": {},
   "source": [
    "#### 학습 곡선"
   ]
  },
  {
   "cell_type": "code",
   "execution_count": 62,
   "metadata": {},
   "outputs": [
    {
     "name": "stdout",
     "output_type": "stream",
     "text": [
      "그림 저장: keras_learning_curves_plot\n"
     ]
    },
    {
     "data": {
      "image/png": "[encoded data removed]",
      "text/plain": [
       "<Figure size 800x500 with 1 Axes>"
      ]
     },
     "metadata": {},
     "output_type": "display_data"
    }
   ],
   "source": [
    "pd.DataFrame(history.history).plot(figsize=(8, 5))\n",
    "plt.grid(True)\n",
    "plt.gca().set_ylim(0, 1)\n",
    "save_fig(\"keras_learning_curves_plot\")\n",
    "plt.show()"
   ]
  },
  {
   "cell_type": "markdown",
   "metadata": {},
   "source": [
    "#### 일반화 오차"
   ]
  },
  {
   "cell_type": "code",
   "execution_count": 63,
   "metadata": {},
   "outputs": [
    {
     "name": "stdout",
     "output_type": "stream",
     "text": [
      "313/313 [==============================] - 1s 2ms/step - loss: 0.6075 - accuracy: 0.8899\n"
     ]
    },
    {
     "data": {
      "text/plain": [
       "[0.6074598431587219, 0.8899000287055969]"
      ]
     },
     "execution_count": 63,
     "metadata": {},
     "output_type": "execute_result"
    }
   ],
   "source": [
    "model.evaluate(X_test, y_test)"
   ]
  },
  {
   "cell_type": "markdown",
   "metadata": {},
   "source": [
    "#### 예측"
   ]
  },
  {
   "cell_type": "code",
   "execution_count": 64,
   "metadata": {},
   "outputs": [
    {
     "name": "stdout",
     "output_type": "stream",
     "text": [
      "1/1 [==============================] - 0s 43ms/step\n"
     ]
    },
    {
     "data": {
      "text/plain": [
       "array([[0., 0., 0., 0., 0., 0., 0., 0., 0., 1.],\n",
       "       [0., 0., 1., 0., 0., 0., 0., 0., 0., 0.],\n",
       "       [0., 1., 0., 0., 0., 0., 0., 0., 0., 0.]], dtype=float32)"
      ]
     },
     "execution_count": 64,
     "metadata": {},
     "output_type": "execute_result"
    }
   ],
   "source": [
    "X_new = X_test[:3]\n",
    "y_proba = model.predict(X_new)\n",
    "y_proba.round(2)"
   ]
  },
  {
   "cell_type": "code",
   "execution_count": 65,
   "metadata": {},
   "outputs": [
    {
     "name": "stdout",
     "output_type": "stream",
     "text": [
      "1/1 [==============================] - 0s 17ms/step\n"
     ]
    },
    {
     "data": {
      "text/plain": [
       "array([9, 2, 1], dtype=int64)"
      ]
     },
     "execution_count": 65,
     "metadata": {},
     "output_type": "execute_result"
    }
   ],
   "source": [
    "# y_pred = model.predict_classes(X_new)\n",
    "y_pred = np.argmax(model.predict(X_new), axis=-1)\n",
    "y_pred"
   ]
  },
  {
   "cell_type": "code",
   "execution_count": 66,
   "metadata": {},
   "outputs": [
    {
     "data": {
      "text/plain": [
       "array(['Ankle boot', 'Pullover', 'Trouser'], dtype='<U11')"
      ]
     },
     "execution_count": 66,
     "metadata": {},
     "output_type": "execute_result"
    }
   ],
   "source": [
    "np.array(class_names)[y_pred]"
   ]
  },
  {
   "cell_type": "code",
   "execution_count": 67,
   "metadata": {},
   "outputs": [
    {
     "data": {
      "text/plain": [
       "array(['Ankle boot', 'Pullover', 'Trouser'], dtype='<U11')"
      ]
     },
     "execution_count": 67,
     "metadata": {},
     "output_type": "execute_result"
    }
   ],
   "source": [
    "np.array(class_names)[y_pred]"
   ]
  },
  {
   "cell_type": "code",
   "execution_count": 68,
   "metadata": {},
   "outputs": [
    {
     "data": {
      "text/plain": [
       "array([9, 2, 1], dtype=uint8)"
      ]
     },
     "execution_count": 68,
     "metadata": {},
     "output_type": "execute_result"
    }
   ],
   "source": [
    "y_new = y_test[:3]\n",
    "y_new"
   ]
  },
  {
   "cell_type": "code",
   "execution_count": 69,
   "metadata": {},
   "outputs": [
    {
     "name": "stdout",
     "output_type": "stream",
     "text": [
      "그림 저장: fashion_mnist_images_plot\n"
     ]
    },
    {
     "data": {
      "image/png": "[encoded data removed]",
      "text/plain": [
       "<Figure size 720x240 with 3 Axes>"
      ]
     },
     "metadata": {},
     "output_type": "display_data"
    }
   ],
   "source": [
    "plt.figure(figsize=(7.2, 2.4))\n",
    "for index, image in enumerate(X_new):\n",
    "    plt.subplot(1, 3, index + 1)\n",
    "    plt.imshow(image, cmap=\"binary\", interpolation=\"nearest\")\n",
    "    plt.axis('off')\n",
    "    plt.title(class_names[y_test[index]], fontsize=12)\n",
    "plt.subplots_adjust(wspace=0.2, hspace=0.5)\n",
    "save_fig('fashion_mnist_images_plot', tight_layout=False)\n",
    "plt.show()"
   ]
  },
  {
   "cell_type": "code",
   "execution_count": null,
   "metadata": {},
   "outputs": [],
   "source": []
  },
  {
   "cell_type": "markdown",
   "metadata": {},
   "source": [
    "### 회귀용 다층 퍼셉트론 만들기"
   ]
  },
  {
   "cell_type": "markdown",
   "metadata": {},
   "source": [
    "#### 데이터 가져오기"
   ]
  },
  {
   "cell_type": "code",
   "execution_count": 76,
   "metadata": {},
   "outputs": [],
   "source": [
    "# sklearn 에서 캘리포니아 주택 가격 가져오기\n",
    "from sklearn.datasets import fetch_california_housing\n",
    "from sklearn.model_selection import train_test_split\n",
    "from sklearn.preprocessing import StandardScaler\n",
    "\n",
    "housing = fetch_california_housing()\n",
    "\n",
    "# 훈련 데이터, 검증 데이터, 테스트 데이터 분리\n",
    "X_train_full, X_test, y_train_full, y_test = train_test_split(housing.data, housing.target, random_state=42)\n",
    "X_train, X_valid, y_train, y_valid = train_test_split(X_train_full, y_train_full, random_state=42)\n",
    "\n",
    "# 정규화\n",
    "scaler = StandardScaler()\n",
    "X_train = scaler.fit_transform(X_train)\n",
    "X_valid = scaler.transform(X_valid)\n",
    "X_test = scaler.transform(X_test)"
   ]
  },
  {
   "cell_type": "code",
   "execution_count": 77,
   "metadata": {},
   "outputs": [],
   "source": [
    "np.random.seed(42)\n",
    "tf.random.set_seed(42)"
   ]
  },
  {
   "cell_type": "markdown",
   "metadata": {},
   "source": [
    "#### 모델 만들기"
   ]
  },
  {
   "cell_type": "code",
   "execution_count": 78,
   "metadata": {},
   "outputs": [
    {
     "name": "stderr",
     "output_type": "stream",
     "text": [
      "WARNING:absl:`lr` is deprecated in Keras optimizer, please use `learning_rate` or use the legacy optimizer, e.g.,tf.keras.optimizers.legacy.SGD.\n"
     ]
    },
    {
     "name": "stdout",
     "output_type": "stream",
     "text": [
      "Epoch 1/20\n",
      "363/363 [==============================] - 1s 1ms/step - loss: 0.7332 - val_loss: 4.9541\n",
      "Epoch 2/20\n",
      "363/363 [==============================] - 0s 1ms/step - loss: 0.5431 - val_loss: 13.0472\n",
      "Epoch 3/20\n",
      "363/363 [==============================] - 0s 1ms/step - loss: 0.5725 - val_loss: 1.3475\n",
      "Epoch 4/20\n",
      "363/363 [==============================] - 0s 1ms/step - loss: 0.4348 - val_loss: 0.5196\n",
      "Epoch 5/20\n",
      "363/363 [==============================] - 0s 1ms/step - loss: 0.4132 - val_loss: 0.3849\n",
      "Epoch 6/20\n",
      "363/363 [==============================] - 0s 1ms/step - loss: 0.4043 - val_loss: 0.4187\n",
      "Epoch 7/20\n",
      "363/363 [==============================] - 0s 1ms/step - loss: 0.3989 - val_loss: 0.3812\n",
      "Epoch 8/20\n",
      "363/363 [==============================] - 0s 1ms/step - loss: 0.3912 - val_loss: 0.3860\n",
      "Epoch 9/20\n",
      "363/363 [==============================] - 0s 1ms/step - loss: 0.3856 - val_loss: 0.3709\n",
      "Epoch 10/20\n",
      "363/363 [==============================] - 0s 1ms/step - loss: 0.3806 - val_loss: 0.4074\n",
      "Epoch 11/20\n",
      "363/363 [==============================] - 0s 1ms/step - loss: 0.3769 - val_loss: 0.3549\n",
      "Epoch 12/20\n",
      "363/363 [==============================] - 0s 1ms/step - loss: 0.3735 - val_loss: 0.4630\n",
      "Epoch 13/20\n",
      "363/363 [==============================] - 0s 1ms/step - loss: 0.3691 - val_loss: 0.3541\n",
      "Epoch 14/20\n",
      "363/363 [==============================] - 0s 1ms/step - loss: 0.3640 - val_loss: 0.3411\n",
      "Epoch 15/20\n",
      "363/363 [==============================] - 0s 1ms/step - loss: 0.3631 - val_loss: 0.3667\n",
      "Epoch 16/20\n",
      "363/363 [==============================] - 0s 1ms/step - loss: 0.3598 - val_loss: 0.3617\n",
      "Epoch 17/20\n",
      "363/363 [==============================] - 0s 1ms/step - loss: 0.3579 - val_loss: 0.4136\n",
      "Epoch 18/20\n",
      "363/363 [==============================] - 0s 1ms/step - loss: 0.3549 - val_loss: 0.3526\n",
      "Epoch 19/20\n",
      "363/363 [==============================] - 0s 1ms/step - loss: 0.3573 - val_loss: 0.3358\n",
      "Epoch 20/20\n",
      "363/363 [==============================] - 0s 1ms/step - loss: 0.3531 - val_loss: 0.4235\n",
      "162/162 [==============================] - 0s 896us/step - loss: 0.3493\n",
      "WARNING:tensorflow:5 out of the last 6 calls to <function Model.make_predict_function.<locals>.predict_function at 0x000001A63455A050> triggered tf.function retracing. Tracing is expensive and the excessive number of tracings could be due to (1) creating @tf.function repeatedly in a loop, (2) passing tensors with different shapes, (3) passing Python objects instead of tensors. For (1), please define your @tf.function outside of the loop. For (2), @tf.function has reduce_retracing=True option that can avoid unnecessary retracing. For (3), please refer to https://www.tensorflow.org/guide/function#controlling_retracing and https://www.tensorflow.org/api_docs/python/tf/function for  more details.\n"
     ]
    },
    {
     "name": "stderr",
     "output_type": "stream",
     "text": [
      "WARNING:tensorflow:5 out of the last 6 calls to <function Model.make_predict_function.<locals>.predict_function at 0x000001A63455A050> triggered tf.function retracing. Tracing is expensive and the excessive number of tracings could be due to (1) creating @tf.function repeatedly in a loop, (2) passing tensors with different shapes, (3) passing Python objects instead of tensors. For (1), please define your @tf.function outside of the loop. For (2), @tf.function has reduce_retracing=True option that can avoid unnecessary retracing. For (3), please refer to https://www.tensorflow.org/guide/function#controlling_retracing and https://www.tensorflow.org/api_docs/python/tf/function for  more details.\n"
     ]
    },
    {
     "name": "stdout",
     "output_type": "stream",
     "text": [
      "1/1 [==============================] - 0s 29ms/step\n"
     ]
    }
   ],
   "source": [
    "model = keras.models.Sequential([\n",
    "    keras.layers.Dense(30, activation=\"relu\", input_shape=X_train.shape[1:]),\n",
    "    keras.layers.Dense(1)\n",
    "])\n",
    "model.compile(loss=\"mean_squared_error\", optimizer=keras.optimizers.SGD(lr=1e-3))\n",
    "history = model.fit(X_train, y_train, epochs=20, validation_data=(X_valid, y_valid))\n",
    "mse_test = model.evaluate(X_test, y_test)\n",
    "X_new = X_test[:3]\n",
    "y_pred = model.predict(X_new)"
   ]
  },
  {
   "cell_type": "code",
   "execution_count": 79,
   "metadata": {},
   "outputs": [
    {
     "data": {
      "image/png": "[encoded data removed]",
      "text/plain": [
       "<Figure size 640x480 with 1 Axes>"
      ]
     },
     "metadata": {},
     "output_type": "display_data"
    }
   ],
   "source": [
    "plt.plot(pd.DataFrame(history.history))\n",
    "plt.grid(True)\n",
    "plt.gca().set_ylim(0, 1)\n",
    "plt.show()"
   ]
  },
  {
   "cell_type": "code",
   "execution_count": 80,
   "metadata": {},
   "outputs": [
    {
     "data": {
      "text/plain": [
       "array([[0.61530787],\n",
       "       [1.6179731 ],\n",
       "       [4.295942  ]], dtype=float32)"
      ]
     },
     "execution_count": 80,
     "metadata": {},
     "output_type": "execute_result"
    }
   ],
   "source": [
    "y_pred"
   ]
  },
  {
   "cell_type": "markdown",
   "metadata": {},
   "source": [
    "### 함수형 API"
   ]
  },
  {
   "cell_type": "markdown",
   "metadata": {},
   "source": [
    "#### 모델 만들기"
   ]
  },
  {
   "cell_type": "code",
   "execution_count": 81,
   "metadata": {},
   "outputs": [],
   "source": [
    "np.random.seed(42)\n",
    "tf.random.set_seed(42)\n",
    "\n",
    "input_ = keras.layers.Input(shape=X_train.shape[1:])\n",
    "hidden1 = keras.layers.Dense(30, activation=\"relu\")(input_)\n",
    "hidden2 = keras.layers.Dense(30, activation=\"relu\")(hidden1)\n",
    "concat = keras.layers.concatenate([input_, hidden2])\n",
    "output = keras.layers.Dense(1)(concat)\n",
    "model = keras.models.Model(inputs=[input_], outputs=[output])"
   ]
  },
  {
   "cell_type": "markdown",
   "metadata": {},
   "source": [
    "#### 모델 확인"
   ]
  },
  {
   "cell_type": "code",
   "execution_count": 82,
   "metadata": {},
   "outputs": [
    {
     "name": "stdout",
     "output_type": "stream",
     "text": [
      "Model: \"model\"\n",
      "__________________________________________________________________________________________________\n",
      " Layer (type)                Output Shape                 Param #   Connected to                  \n",
      "==================================================================================================\n",
      " input_1 (InputLayer)        [(None, 8)]                  0         []                            \n",
      "                                                                                                  \n",
      " dense_11 (Dense)            (None, 30)                   270       ['input_1[0][0]']             \n",
      "                                                                                                  \n",
      " dense_12 (Dense)            (None, 30)                   930       ['dense_11[0][0]']            \n",
      "                                                                                                  \n",
      " concatenate (Concatenate)   (None, 38)                   0         ['input_1[0][0]',             \n",
      "                                                                     'dense_12[0][0]']            \n",
      "                                                                                                  \n",
      " dense_13 (Dense)            (None, 1)                    39        ['concatenate[0][0]']         \n",
      "                                                                                                  \n",
      "==================================================================================================\n",
      "Total params: 1239 (4.84 KB)\n",
      "Trainable params: 1239 (4.84 KB)\n",
      "Non-trainable params: 0 (0.00 Byte)\n",
      "__________________________________________________________________________________________________\n"
     ]
    }
   ],
   "source": [
    "model.summary()"
   ]
  },
  {
   "cell_type": "markdown",
   "metadata": {},
   "source": [
    "### 모델 훈련"
   ]
  },
  {
   "cell_type": "code",
   "execution_count": 83,
   "metadata": {},
   "outputs": [
    {
     "name": "stderr",
     "output_type": "stream",
     "text": [
      "WARNING:absl:`lr` is deprecated in Keras optimizer, please use `learning_rate` or use the legacy optimizer, e.g.,tf.keras.optimizers.legacy.SGD.\n"
     ]
    },
    {
     "name": "stdout",
     "output_type": "stream",
     "text": [
      "Epoch 1/20\n",
      "363/363 [==============================] - 1s 1ms/step - loss: 0.7726 - val_loss: 13.2683\n",
      "Epoch 2/20\n",
      "363/363 [==============================] - 0s 1ms/step - loss: 0.7324 - val_loss: 12.0746\n",
      "Epoch 3/20\n",
      "363/363 [==============================] - 0s 1ms/step - loss: 0.8858 - val_loss: 0.3811\n",
      "Epoch 4/20\n",
      "363/363 [==============================] - 0s 1ms/step - loss: 0.4230 - val_loss: 52.1431\n",
      "Epoch 5/20\n",
      "363/363 [==============================] - 0s 1ms/step - loss: 0.3963 - val_loss: 1.4943\n",
      "Epoch 6/20\n",
      "363/363 [==============================] - 0s 1ms/step - loss: 0.5369 - val_loss: 15.4002\n",
      "Epoch 7/20\n",
      "363/363 [==============================] - 0s 1ms/step - loss: 0.5452 - val_loss: 30.7380\n",
      "Epoch 8/20\n",
      "363/363 [==============================] - 0s 1ms/step - loss: 0.4874 - val_loss: 179.3219\n",
      "Epoch 9/20\n",
      "363/363 [==============================] - 0s 1ms/step - loss: 0.6728 - val_loss: 127.4633\n",
      "Epoch 10/20\n",
      "363/363 [==============================] - 0s 1ms/step - loss: 1.6499 - val_loss: 1.8550\n",
      "Epoch 11/20\n",
      "363/363 [==============================] - 0s 1ms/step - loss: 0.5519 - val_loss: 3402.7446\n",
      "Epoch 12/20\n",
      "363/363 [==============================] - 0s 1ms/step - loss: nan - val_loss: nan\n",
      "Epoch 13/20\n",
      "363/363 [==============================] - 0s 1ms/step - loss: nan - val_loss: nan\n",
      "Epoch 14/20\n",
      "363/363 [==============================] - 0s 1ms/step - loss: nan - val_loss: nan\n",
      "Epoch 15/20\n",
      "363/363 [==============================] - 0s 1ms/step - loss: nan - val_loss: nan\n",
      "Epoch 16/20\n",
      "363/363 [==============================] - 0s 1ms/step - loss: nan - val_loss: nan\n",
      "Epoch 17/20\n",
      "363/363 [==============================] - 0s 1ms/step - loss: nan - val_loss: nan\n",
      "Epoch 18/20\n",
      "363/363 [==============================] - 0s 1ms/step - loss: nan - val_loss: nan\n",
      "Epoch 19/20\n",
      "363/363 [==============================] - 0s 1ms/step - loss: nan - val_loss: nan\n",
      "Epoch 20/20\n",
      "363/363 [==============================] - 0s 1ms/step - loss: nan - val_loss: nan\n",
      "162/162 [==============================] - 0s 1ms/step - loss: nan\n",
      "WARNING:tensorflow:6 out of the last 7 calls to <function Model.make_predict_function.<locals>.predict_function at 0x000001A619E504C0> triggered tf.function retracing. Tracing is expensive and the excessive number of tracings could be due to (1) creating @tf.function repeatedly in a loop, (2) passing tensors with different shapes, (3) passing Python objects instead of tensors. For (1), please define your @tf.function outside of the loop. For (2), @tf.function has reduce_retracing=True option that can avoid unnecessary retracing. For (3), please refer to https://www.tensorflow.org/guide/function#controlling_retracing and https://www.tensorflow.org/api_docs/python/tf/function for  more details.\n"
     ]
    },
    {
     "name": "stderr",
     "output_type": "stream",
     "text": [
      "WARNING:tensorflow:6 out of the last 7 calls to <function Model.make_predict_function.<locals>.predict_function at 0x000001A619E504C0> triggered tf.function retracing. Tracing is expensive and the excessive number of tracings could be due to (1) creating @tf.function repeatedly in a loop, (2) passing tensors with different shapes, (3) passing Python objects instead of tensors. For (1), please define your @tf.function outside of the loop. For (2), @tf.function has reduce_retracing=True option that can avoid unnecessary retracing. For (3), please refer to https://www.tensorflow.org/guide/function#controlling_retracing and https://www.tensorflow.org/api_docs/python/tf/function for  more details.\n"
     ]
    },
    {
     "name": "stdout",
     "output_type": "stream",
     "text": [
      "1/1 [==============================] - 0s 60ms/step\n"
     ]
    }
   ],
   "source": [
    "model.compile(loss=\"mean_squared_error\", optimizer=keras.optimizers.SGD(lr=1e-3))\n",
    "history = model.fit(X_train, y_train, epochs=20,\n",
    "                    validation_data=(X_valid, y_valid))\n",
    "mse_test = model.evaluate(X_test, y_test)\n",
    "y_pred = model.predict(X_new)"
   ]
  },
  {
   "cell_type": "markdown",
   "metadata": {},
   "source": [
    "#### 짧은 경로로 보내기"
   ]
  },
  {
   "cell_type": "code",
   "execution_count": 89,
   "metadata": {},
   "outputs": [],
   "source": [
    "np.random.seed(42)\n",
    "tf.random.set_seed(42)\n",
    "\n",
    "# 입력이 2개 - 입력 데이터를 두 묶음으로 나누어서 각각의 레이어로 전송\n",
    "input_A = keras.layers.Input(shape=[5], name=\"wide_input\")\n",
    "input_B = keras.layers.Input(shape=[6], name=\"deep_input\")\n",
    "\n",
    "# input_B 의 출력을 입력으로 사용\n",
    "hidden1 = keras.layers.Dense(30, activation=\"relu\")(input_B)\n",
    "# input_A 의 출력을 입력으로 사용\n",
    "hidden2 = keras.layers.Dense(30, activation=\"relu\")(hidden1)\n",
    "\n",
    "# input_A 의 출력과 hidden2 의 출력을 하나로 묶어주는 층\n",
    "concat = keras.layers.concatenate([input_A, hidden2])\n",
    "output = keras.layers.Dense(1, name=\"output\")(concat)\n",
    "model = keras.models.Model(inputs=[input_A, input_B], outputs=[output])"
   ]
  },
  {
   "cell_type": "markdown",
   "metadata": {},
   "source": [
    "#### 모델을 훈련"
   ]
  },
  {
   "cell_type": "code",
   "execution_count": 90,
   "metadata": {},
   "outputs": [
    {
     "name": "stderr",
     "output_type": "stream",
     "text": [
      "WARNING:absl:`lr` is deprecated in Keras optimizer, please use `learning_rate` or use the legacy optimizer, e.g.,tf.keras.optimizers.legacy.SGD.\n"
     ]
    },
    {
     "name": "stdout",
     "output_type": "stream",
     "text": [
      "Epoch 1/20\n",
      "363/363 [==============================] - 1s 1ms/step - loss: 0.7709 - val_loss: 3.2287\n",
      "Epoch 2/20\n",
      "363/363 [==============================] - 0s 1ms/step - loss: 0.5253 - val_loss: 9.4113\n",
      "Epoch 3/20\n",
      "363/363 [==============================] - 0s 1ms/step - loss: 0.5583 - val_loss: 3.7853\n",
      "Epoch 4/20\n",
      "363/363 [==============================] - 0s 1ms/step - loss: 0.4405 - val_loss: 0.4140\n",
      "Epoch 5/20\n",
      "363/363 [==============================] - 0s 1ms/step - loss: 0.4098 - val_loss: 0.3801\n",
      "Epoch 6/20\n",
      "363/363 [==============================] - 0s 1ms/step - loss: 0.3997 - val_loss: 0.4031\n",
      "Epoch 7/20\n",
      "363/363 [==============================] - 0s 1ms/step - loss: 0.3978 - val_loss: 0.3747\n",
      "Epoch 8/20\n",
      "363/363 [==============================] - 0s 1ms/step - loss: 0.3898 - val_loss: 0.3741\n",
      "Epoch 9/20\n",
      "363/363 [==============================] - 0s 1ms/step - loss: 0.3847 - val_loss: 0.3612\n",
      "Epoch 10/20\n",
      "363/363 [==============================] - 0s 1ms/step - loss: 0.3803 - val_loss: 0.3616\n",
      "Epoch 11/20\n",
      "363/363 [==============================] - 0s 1ms/step - loss: 0.3770 - val_loss: 0.3532\n",
      "Epoch 12/20\n",
      "363/363 [==============================] - 0s 1ms/step - loss: 0.3737 - val_loss: 0.3557\n",
      "Epoch 13/20\n",
      "363/363 [==============================] - 0s 1ms/step - loss: 0.3707 - val_loss: 0.3429\n",
      "Epoch 14/20\n",
      "363/363 [==============================] - 0s 1ms/step - loss: 0.3635 - val_loss: 0.3504\n",
      "Epoch 15/20\n",
      "363/363 [==============================] - 0s 1ms/step - loss: 0.3614 - val_loss: 0.3332\n",
      "Epoch 16/20\n",
      "363/363 [==============================] - 0s 1ms/step - loss: 0.3569 - val_loss: 0.3391\n",
      "Epoch 17/20\n",
      "363/363 [==============================] - 0s 1ms/step - loss: 0.3546 - val_loss: 0.3471\n",
      "Epoch 18/20\n",
      "363/363 [==============================] - 0s 1ms/step - loss: 0.3519 - val_loss: 0.3435\n",
      "Epoch 19/20\n",
      "363/363 [==============================] - 0s 1ms/step - loss: 0.3530 - val_loss: 0.3406\n",
      "Epoch 20/20\n",
      "363/363 [==============================] - 0s 1ms/step - loss: 0.3536 - val_loss: 0.3445\n",
      "162/162 [==============================] - 0s 703us/step - loss: 0.3427\n",
      "1/1 [==============================] - 0s 53ms/step\n"
     ]
    }
   ],
   "source": [
    "model.compile(loss=\"mse\", optimizer=keras.optimizers.SGD(lr=1e-3))\n",
    "\n",
    "# 입력을 2개를 만들어야 하기 때문에 데이터를 다시 분리\n",
    "X_train_A, X_train_B = X_train[:, :5], X_train[:, 2:]\n",
    "X_valid_A, X_valid_B = X_valid[:, :5], X_valid[:, 2:]\n",
    "X_test_A, X_test_B = X_test[:, :5], X_test[:, 2:]\n",
    "X_new_A, X_new_B = X_test_A[:3], X_test_B[:3]\n",
    "\n",
    "history = model.fit((X_train_A, X_train_B), y_train, epochs=20,\n",
    "                    validation_data=((X_valid_A, X_valid_B), y_valid))\n",
    "mse_test = model.evaluate((X_test_A, X_test_B), y_test)\n",
    "y_pred = model.predict((X_new_A, X_new_B))"
   ]
  },
  {
   "cell_type": "markdown",
   "metadata": {},
   "source": [
    "#### 보조 출력 추가"
   ]
  },
  {
   "cell_type": "code",
   "execution_count": 91,
   "metadata": {},
   "outputs": [],
   "source": [
    "np.random.seed(42)\n",
    "tf.random.set_seed(42)\n",
    "\n",
    "input_A = keras.layers.Input(shape=[5], name=\"wide_input\")\n",
    "input_B = keras.layers.Input(shape=[6], name=\"deep_input\")\n",
    "\n",
    "hidden1 = keras.layers.Dense(30, activation=\"relu\")(input_B)\n",
    "hidden2 = keras.layers.Dense(30, activation=\"relu\")(hidden1)\n",
    "concat = keras.layers.concatenate([input_A, hidden2])\n",
    "\n",
    "output = keras.layers.Dense(1, name=\"main_output\")(concat)\n",
    "aux_output = keras.layers.Dense(1, name=\"aux_output\")(hidden2)\n",
    "\n",
    "#보초 출력 추가하기\n",
    "model = keras.models.Model(inputs=[input_A, input_B],\n",
    "                           outputs=[output, aux_output])"
   ]
  },
  {
   "cell_type": "markdown",
   "metadata": {},
   "source": [
    "#### 보조 출력이 추가된 모델 컴파일"
   ]
  },
  {
   "cell_type": "code",
   "execution_count": 92,
   "metadata": {},
   "outputs": [
    {
     "name": "stderr",
     "output_type": "stream",
     "text": [
      "WARNING:absl:`lr` is deprecated in Keras optimizer, please use `learning_rate` or use the legacy optimizer, e.g.,tf.keras.optimizers.legacy.SGD.\n"
     ]
    }
   ],
   "source": [
    "model.compile(loss=[\"mse\", \"mse\"], loss_weights=[0.9, 0.1], optimizer=keras.optimizers.SGD(lr=1e-3))"
   ]
  },
  {
   "cell_type": "markdown",
   "metadata": {},
   "source": [
    "#### 모델 훈련"
   ]
  },
  {
   "cell_type": "code",
   "execution_count": 93,
   "metadata": {},
   "outputs": [
    {
     "name": "stdout",
     "output_type": "stream",
     "text": [
      "Epoch 1/20\n",
      "363/363 [==============================] - 1s 2ms/step - loss: 1.0342 - main_output_loss: 0.8627 - aux_output_loss: 2.5778 - val_loss: 1.6667 - val_main_output_loss: 1.6970 - val_aux_output_loss: 1.3943\n",
      "Epoch 2/20\n",
      "363/363 [==============================] - 0s 1ms/step - loss: 0.5724 - main_output_loss: 0.4974 - aux_output_loss: 1.2469 - val_loss: 1.3639 - val_main_output_loss: 1.3874 - val_aux_output_loss: 1.1519\n",
      "Epoch 3/20\n",
      "363/363 [==============================] - 0s 1ms/step - loss: 0.5239 - main_output_loss: 0.4647 - aux_output_loss: 1.0558 - val_loss: 0.4769 - val_main_output_loss: 0.4202 - val_aux_output_loss: 0.9865\n",
      "Epoch 4/20\n",
      "363/363 [==============================] - 0s 1ms/step - loss: 0.4723 - main_output_loss: 0.4233 - aux_output_loss: 0.9131 - val_loss: 0.4688 - val_main_output_loss: 0.4255 - val_aux_output_loss: 0.8587\n",
      "Epoch 5/20\n",
      "363/363 [==============================] - 0s 1ms/step - loss: 0.4549 - main_output_loss: 0.4159 - aux_output_loss: 0.8062 - val_loss: 0.4349 - val_main_output_loss: 0.3986 - val_aux_output_loss: 0.7609\n",
      "Epoch 6/20\n",
      "363/363 [==============================] - 0s 1ms/step - loss: 0.4357 - main_output_loss: 0.4043 - aux_output_loss: 0.7186 - val_loss: 0.4281 - val_main_output_loss: 0.3997 - val_aux_output_loss: 0.6842\n",
      "Epoch 7/20\n",
      "363/363 [==============================] - 1s 1ms/step - loss: 0.4293 - main_output_loss: 0.4042 - aux_output_loss: 0.6551 - val_loss: 0.4111 - val_main_output_loss: 0.3873 - val_aux_output_loss: 0.6250\n",
      "Epoch 8/20\n",
      "363/363 [==============================] - 0s 1ms/step - loss: 0.4187 - main_output_loss: 0.3970 - aux_output_loss: 0.6139 - val_loss: 0.4071 - val_main_output_loss: 0.3862 - val_aux_output_loss: 0.5948\n",
      "Epoch 9/20\n",
      "363/363 [==============================] - 0s 1ms/step - loss: 0.4093 - main_output_loss: 0.3896 - aux_output_loss: 0.5865 - val_loss: 0.4003 - val_main_output_loss: 0.3827 - val_aux_output_loss: 0.5593\n",
      "Epoch 10/20\n",
      "363/363 [==============================] - 1s 1ms/step - loss: 0.4031 - main_output_loss: 0.3850 - aux_output_loss: 0.5660 - val_loss: 0.4074 - val_main_output_loss: 0.3927 - val_aux_output_loss: 0.5399\n",
      "Epoch 11/20\n",
      "363/363 [==============================] - 0s 1ms/step - loss: 0.4010 - main_output_loss: 0.3844 - aux_output_loss: 0.5509 - val_loss: 0.3832 - val_main_output_loss: 0.3668 - val_aux_output_loss: 0.5312\n",
      "Epoch 12/20\n",
      "363/363 [==============================] - 0s 1ms/step - loss: 0.3981 - main_output_loss: 0.3822 - aux_output_loss: 0.5413 - val_loss: 0.3838 - val_main_output_loss: 0.3693 - val_aux_output_loss: 0.5139\n",
      "Epoch 13/20\n",
      "363/363 [==============================] - 0s 1ms/step - loss: 0.3938 - main_output_loss: 0.3787 - aux_output_loss: 0.5298 - val_loss: 0.3819 - val_main_output_loss: 0.3684 - val_aux_output_loss: 0.5031\n",
      "Epoch 14/20\n",
      "363/363 [==============================] - 0s 1ms/step - loss: 0.3849 - main_output_loss: 0.3698 - aux_output_loss: 0.5210 - val_loss: 0.3607 - val_main_output_loss: 0.3455 - val_aux_output_loss: 0.4974\n",
      "Epoch 15/20\n",
      "363/363 [==============================] - 0s 1ms/step - loss: 0.3848 - main_output_loss: 0.3707 - aux_output_loss: 0.5122 - val_loss: 0.3665 - val_main_output_loss: 0.3531 - val_aux_output_loss: 0.4871\n",
      "Epoch 16/20\n",
      "363/363 [==============================] - 0s 1ms/step - loss: 0.3776 - main_output_loss: 0.3633 - aux_output_loss: 0.5058 - val_loss: 0.3546 - val_main_output_loss: 0.3406 - val_aux_output_loss: 0.4801\n",
      "Epoch 17/20\n",
      "363/363 [==============================] - 0s 1ms/step - loss: 0.3745 - main_output_loss: 0.3607 - aux_output_loss: 0.4987 - val_loss: 0.3619 - val_main_output_loss: 0.3493 - val_aux_output_loss: 0.4745\n",
      "Epoch 18/20\n",
      "363/363 [==============================] - 0s 1ms/step - loss: 0.3714 - main_output_loss: 0.3583 - aux_output_loss: 0.4895 - val_loss: 0.3625 - val_main_output_loss: 0.3509 - val_aux_output_loss: 0.4676\n",
      "Epoch 19/20\n",
      "363/363 [==============================] - 0s 1ms/step - loss: 0.3723 - main_output_loss: 0.3597 - aux_output_loss: 0.4859 - val_loss: 0.3481 - val_main_output_loss: 0.3351 - val_aux_output_loss: 0.4649\n",
      "Epoch 20/20\n",
      "363/363 [==============================] - 0s 1ms/step - loss: 0.3649 - main_output_loss: 0.3523 - aux_output_loss: 0.4787 - val_loss: 0.3465 - val_main_output_loss: 0.3343 - val_aux_output_loss: 0.4561\n"
     ]
    }
   ],
   "source": [
    "history = model.fit([X_train_A, X_train_B], [y_train, y_train], epochs=20,\n",
    "                    validation_data=([X_valid_A, X_valid_B], [y_valid, y_valid]))"
   ]
  },
  {
   "cell_type": "markdown",
   "metadata": {},
   "source": [
    "#### 모델 평가"
   ]
  },
  {
   "cell_type": "code",
   "execution_count": 94,
   "metadata": {},
   "outputs": [
    {
     "name": "stdout",
     "output_type": "stream",
     "text": [
      "  1/162 [..............................] - ETA: 3s - loss: 0.3493 - main_output_loss: 0.3280 - aux_output_loss: 0.5409"
     ]
    },
    {
     "name": "stdout",
     "output_type": "stream",
     "text": [
      "162/162 [==============================] - 0s 1ms/step - loss: 0.3551 - main_output_loss: 0.3424 - aux_output_loss: 0.4701\n",
      "1/1 [==============================] - 0s 45ms/step\n"
     ]
    }
   ],
   "source": [
    "total_loss, main_loss, aux_loss = model.evaluate(\n",
    "    [X_test_A, X_test_B], [y_test, y_test])\n",
    "y_pred_main, y_pred_aux = model.predict([X_new_A, X_new_B])"
   ]
  },
  {
   "cell_type": "code",
   "execution_count": null,
   "metadata": {},
   "outputs": [],
   "source": []
  },
  {
   "cell_type": "markdown",
   "metadata": {},
   "source": [
    "### 상속(SubClassing)을 이용한 방식"
   ]
  },
  {
   "cell_type": "code",
   "execution_count": 179,
   "metadata": {},
   "outputs": [],
   "source": [
    "class WideAndDeepModel(keras.models.Model):\n",
    "    def __init__(self, units=30, activation=\"relu\", **kwargs):\n",
    "        super().__init__(**kwargs)\n",
    "        self.hidden1 = keras.layers.Dense(units, activation=activation)\n",
    "        self.hidden2 = keras.layers.Dense(units, activation=activation)\n",
    "        self.main_output = keras.layers.Dense(1)\n",
    "        self.aux_output = keras.layers.Dense(1)\n",
    "        \n",
    "    def call(self, inputs):\n",
    "        input_A, input_B = inputs\n",
    "        hidden1 = self.hidden1(input_B)\n",
    "        hidden2 = self.hidden2(hidden1)\n",
    "        concat = keras.layers.concatenate([input_A, hidden2])\n",
    "        main_output = self.main_output(concat)\n",
    "        aux_output = self.aux_output(hidden2)\n",
    "        return main_output, aux_output\n",
    "\n",
    "model = WideAndDeepModel(30, activation=\"relu\")"
   ]
  },
  {
   "cell_type": "code",
   "execution_count": 180,
   "metadata": {},
   "outputs": [
    {
     "name": "stdout",
     "output_type": "stream",
     "text": [
      "Epoch 1/10\n",
      "363/363 [==============================] - 1s 2ms/step - loss: 2.3298 - output_1_loss: 2.2186 - output_2_loss: 3.3304 - val_loss: 2.1435 - val_output_1_loss: 1.1581 - val_output_2_loss: 11.0117\n",
      "Epoch 2/10\n",
      "363/363 [==============================] - 0s 1ms/step - loss: 0.9714 - output_1_loss: 0.8543 - output_2_loss: 2.0252 - val_loss: 1.7567 - val_output_1_loss: 0.8205 - val_output_2_loss: 10.1825\n",
      "Epoch 3/10\n",
      "363/363 [==============================] - 0s 1ms/step - loss: 0.8268 - output_1_loss: 0.7289 - output_2_loss: 1.7082 - val_loss: 1.5664 - val_output_1_loss: 0.7913 - val_output_2_loss: 8.5419\n",
      "Epoch 4/10\n",
      "363/363 [==============================] - 1s 2ms/step - loss: 0.7636 - output_1_loss: 0.6764 - output_2_loss: 1.5477 - val_loss: 1.3088 - val_output_1_loss: 0.6549 - val_output_2_loss: 7.1933\n",
      "Epoch 5/10\n",
      "363/363 [==============================] - 1s 2ms/step - loss: 0.7211 - output_1_loss: 0.6402 - output_2_loss: 1.4489 - val_loss: 1.1357 - val_output_1_loss: 0.5964 - val_output_2_loss: 5.9898\n",
      "Epoch 6/10\n",
      "363/363 [==============================] - 1s 2ms/step - loss: 0.6895 - output_1_loss: 0.6124 - output_2_loss: 1.3833 - val_loss: 1.0036 - val_output_1_loss: 0.5937 - val_output_2_loss: 4.6933\n",
      "Epoch 7/10\n",
      "363/363 [==============================] - 1s 2ms/step - loss: 0.6632 - output_1_loss: 0.5894 - output_2_loss: 1.3274 - val_loss: 0.8904 - val_output_1_loss: 0.5591 - val_output_2_loss: 3.8714\n",
      "Epoch 8/10\n",
      "363/363 [==============================] - 0s 1ms/step - loss: 0.6410 - output_1_loss: 0.5701 - output_2_loss: 1.2796 - val_loss: 0.8009 - val_output_1_loss: 0.5243 - val_output_2_loss: 3.2903\n",
      "Epoch 9/10\n",
      "363/363 [==============================] - 1s 1ms/step - loss: 0.6204 - output_1_loss: 0.5514 - output_2_loss: 1.2416 - val_loss: 0.7357 - val_output_1_loss: 0.5144 - val_output_2_loss: 2.7275\n",
      "Epoch 10/10\n",
      "363/363 [==============================] - 0s 1ms/step - loss: 0.6024 - output_1_loss: 0.5355 - output_2_loss: 1.2043 - val_loss: 0.6849 - val_output_1_loss: 0.5014 - val_output_2_loss: 2.3370\n",
      "162/162 [==============================] - 0s 889us/step - loss: 0.5841 - output_1_loss: 0.5188 - output_2_loss: 1.1722\n"
     ]
    }
   ],
   "source": [
    "model.compile(loss=\"mse\", loss_weights=[0.9, 0.1], optimizer=keras.optimizers.SGD(lr=1e-3))\n",
    "history = model.fit((X_train_A, X_train_B), (y_train, y_train), epochs=10,\n",
    "                    validation_data=((X_valid_A, X_valid_B), (y_valid, y_valid)))\n",
    "total_loss, main_loss, aux_loss = model.evaluate((X_test_A, X_test_B), (y_test, y_test))\n",
    "y_pred_main, y_pred_aux = model.predict((X_new_A, X_new_B))"
   ]
  },
  {
   "cell_type": "code",
   "execution_count": null,
   "metadata": {},
   "outputs": [],
   "source": []
  },
  {
   "cell_type": "markdown",
   "metadata": {},
   "source": [
    "### 모델 저장 과 복원"
   ]
  },
  {
   "cell_type": "code",
   "execution_count": 181,
   "metadata": {},
   "outputs": [],
   "source": [
    "np.random.seed(42)\n",
    "tf.random.set_seed(42)\n",
    "model = keras.models.Sequential([\n",
    "    keras.layers.Dense(30, activation=\"relu\", input_shape=[8]),\n",
    "    keras.layers.Dense(30, activation=\"relu\"),\n",
    "    keras.layers.Dense(1)\n",
    "])    "
   ]
  },
  {
   "cell_type": "code",
   "execution_count": 182,
   "metadata": {},
   "outputs": [
    {
     "name": "stdout",
     "output_type": "stream",
     "text": [
      "Epoch 1/10\n",
      "363/363 [==============================] - 1s 2ms/step - loss: 1.8866 - val_loss: 0.7126\n",
      "Epoch 2/10\n",
      "363/363 [==============================] - 1s 2ms/step - loss: 0.6577 - val_loss: 0.6880\n",
      "Epoch 3/10\n",
      "363/363 [==============================] - 1s 2ms/step - loss: 0.5934 - val_loss: 0.5803\n",
      "Epoch 4/10\n",
      "363/363 [==============================] - 1s 2ms/step - loss: 0.5557 - val_loss: 0.5166\n",
      "Epoch 5/10\n",
      "363/363 [==============================] - 1s 2ms/step - loss: 0.5272 - val_loss: 0.4895\n",
      "Epoch 6/10\n",
      "363/363 [==============================] - 1s 2ms/step - loss: 0.5033 - val_loss: 0.4951\n",
      "Epoch 7/10\n",
      "363/363 [==============================] - 1s 1ms/step - loss: 0.4854 - val_loss: 0.4861\n",
      "Epoch 8/10\n",
      "363/363 [==============================] - 1s 2ms/step - loss: 0.4709 - val_loss: 0.4554\n",
      "Epoch 9/10\n",
      "363/363 [==============================] - 1s 2ms/step - loss: 0.4578 - val_loss: 0.4413\n",
      "Epoch 10/10\n",
      "363/363 [==============================] - 1s 2ms/step - loss: 0.4474 - val_loss: 0.4379\n",
      "162/162 [==============================] - 0s 1ms/step - loss: 0.4382\n"
     ]
    }
   ],
   "source": [
    "model.compile(loss=\"mse\", optimizer=keras.optimizers.SGD(lr=1e-3))\n",
    "history = model.fit(X_train, y_train, epochs=10, validation_data=(X_valid, y_valid))\n",
    "mse_test = model.evaluate(X_test, y_test)"
   ]
  },
  {
   "cell_type": "code",
   "execution_count": 183,
   "metadata": {},
   "outputs": [],
   "source": [
    "model.save(\"my_keras_model.h5\")"
   ]
  },
  {
   "cell_type": "code",
   "execution_count": 184,
   "metadata": {},
   "outputs": [],
   "source": [
    "model = keras.models.load_model(\"my_keras_model.h5\")"
   ]
  },
  {
   "cell_type": "code",
   "execution_count": 185,
   "metadata": {},
   "outputs": [
    {
     "data": {
      "text/plain": [
       "array([[0.5400236],\n",
       "       [1.6505971],\n",
       "       [3.0098243]], dtype=float32)"
      ]
     },
     "execution_count": 185,
     "metadata": {},
     "output_type": "execute_result"
    }
   ],
   "source": [
    "model.predict(X_new)"
   ]
  },
  {
   "cell_type": "code",
   "execution_count": null,
   "metadata": {},
   "outputs": [],
   "source": []
  },
  {
   "cell_type": "markdown",
   "metadata": {},
   "source": [
    "### 콜백"
   ]
  },
  {
   "cell_type": "markdown",
   "metadata": {},
   "source": [
    "#### 모델 체크 포인트"
   ]
  },
  {
   "cell_type": "code",
   "execution_count": 186,
   "metadata": {},
   "outputs": [],
   "source": [
    "model.save_weights(\"my_keras_weights.ckpt\")"
   ]
  },
  {
   "cell_type": "code",
   "execution_count": 187,
   "metadata": {},
   "outputs": [
    {
     "data": {
      "text/plain": [
       "<tensorflow.python.training.tracking.util.CheckpointLoadStatus at 0x7f8d13977970>"
      ]
     },
     "execution_count": 187,
     "metadata": {},
     "output_type": "execute_result"
    }
   ],
   "source": [
    "model.load_weights(\"my_keras_weights.ckpt\")"
   ]
  },
  {
   "cell_type": "code",
   "execution_count": 95,
   "metadata": {},
   "outputs": [],
   "source": [
    "keras.backend.clear_session()\n",
    "np.random.seed(42)\n",
    "tf.random.set_seed(42)\n",
    "\n",
    "model = keras.models.Sequential([\n",
    "    keras.layers.Dense(30, activation=\"relu\", input_shape=[8]),\n",
    "    keras.layers.Dense(30, activation=\"relu\"),\n",
    "    keras.layers.Dense(1)\n",
    "])   "
   ]
  },
  {
   "cell_type": "code",
   "execution_count": 96,
   "metadata": {},
   "outputs": [
    {
     "name": "stderr",
     "output_type": "stream",
     "text": [
      "WARNING:absl:`lr` is deprecated in Keras optimizer, please use `learning_rate` or use the legacy optimizer, e.g.,tf.keras.optimizers.legacy.SGD.\n"
     ]
    },
    {
     "name": "stdout",
     "output_type": "stream",
     "text": [
      "Epoch 1/10\n",
      "363/363 [==============================] - 1s 2ms/step - loss: 0.7897 - val_loss: 1.0078\n",
      "Epoch 2/10\n",
      "363/363 [==============================] - 0s 1ms/step - loss: 0.4796 - val_loss: 1.1534\n",
      "Epoch 3/10\n",
      "363/363 [==============================] - 0s 1ms/step - loss: 0.4406 - val_loss: 5.8726\n",
      "Epoch 4/10\n",
      "363/363 [==============================] - 0s 1ms/step - loss: 0.4207 - val_loss: 1.3047\n",
      "Epoch 5/10\n",
      "363/363 [==============================] - 0s 1ms/step - loss: 0.3785 - val_loss: 0.6971\n",
      "Epoch 6/10\n",
      "363/363 [==============================] - 0s 1ms/step - loss: 0.3736 - val_loss: 0.6380\n",
      "Epoch 7/10\n",
      "363/363 [==============================] - 0s 1ms/step - loss: 0.3624 - val_loss: 0.7157\n",
      "Epoch 8/10\n",
      "363/363 [==============================] - 0s 1ms/step - loss: 0.3606 - val_loss: 3.5788\n",
      "Epoch 9/10\n",
      "363/363 [==============================] - 0s 1ms/step - loss: 0.3636 - val_loss: 2.7745\n",
      "Epoch 10/10\n",
      "363/363 [==============================] - 0s 1ms/step - loss: 0.3746 - val_loss: 0.5827\n",
      "162/162 [==============================] - 0s 618us/step - loss: 0.3429\n"
     ]
    }
   ],
   "source": [
    "model.compile(loss=\"mse\", optimizer=keras.optimizers.SGD(lr=1e-3))\n",
    "checkpoint_cb = keras.callbacks.ModelCheckpoint(\"my_keras_model.h5\", save_best_only=True)\n",
    "history = model.fit(X_train, y_train, epochs=10,\n",
    "                    validation_data=(X_valid, y_valid),\n",
    "                    callbacks=[checkpoint_cb])\n",
    "model = keras.models.load_model(\"my_keras_model.h5\") # 최상의 모델로 롤백\n",
    "mse_test = model.evaluate(X_test, y_test)"
   ]
  },
  {
   "cell_type": "markdown",
   "metadata": {},
   "source": [
    "#### 조기 종료"
   ]
  },
  {
   "cell_type": "code",
   "execution_count": 97,
   "metadata": {},
   "outputs": [
    {
     "name": "stderr",
     "output_type": "stream",
     "text": [
      "WARNING:absl:`lr` is deprecated in Keras optimizer, please use `learning_rate` or use the legacy optimizer, e.g.,tf.keras.optimizers.legacy.SGD.\n"
     ]
    },
    {
     "name": "stdout",
     "output_type": "stream",
     "text": [
      "Epoch 1/100\n",
      "363/363 [==============================] - 1s 1ms/step - loss: 0.3473 - val_loss: 0.3288\n",
      "Epoch 2/100\n",
      "363/363 [==============================] - 0s 1ms/step - loss: 0.3402 - val_loss: 0.3357\n",
      "Epoch 3/100\n",
      "363/363 [==============================] - 0s 1ms/step - loss: 0.3370 - val_loss: 0.3164\n",
      "Epoch 4/100\n",
      "363/363 [==============================] - 0s 1ms/step - loss: 0.3339 - val_loss: 0.3114\n",
      "Epoch 5/100\n",
      "363/363 [==============================] - 0s 1ms/step - loss: 0.3313 - val_loss: 0.3135\n",
      "Epoch 6/100\n",
      "363/363 [==============================] - 0s 1ms/step - loss: 0.3280 - val_loss: 0.3243\n",
      "Epoch 7/100\n",
      "363/363 [==============================] - 0s 1ms/step - loss: 0.3261 - val_loss: 0.3087\n",
      "Epoch 8/100\n",
      "363/363 [==============================] - 0s 1ms/step - loss: 0.3235 - val_loss: 0.3101\n",
      "Epoch 9/100\n",
      "363/363 [==============================] - 0s 1ms/step - loss: 0.3210 - val_loss: 0.3036\n",
      "Epoch 10/100\n",
      "363/363 [==============================] - 0s 1ms/step - loss: 0.3190 - val_loss: 0.3135\n",
      "Epoch 11/100\n",
      "363/363 [==============================] - 0s 1ms/step - loss: 0.3183 - val_loss: 0.3013\n",
      "Epoch 12/100\n",
      "363/363 [==============================] - 0s 1ms/step - loss: 0.3168 - val_loss: 0.3391\n",
      "Epoch 13/100\n",
      "363/363 [==============================] - 0s 1ms/step - loss: 0.3141 - val_loss: 0.3068\n",
      "Epoch 14/100\n",
      "363/363 [==============================] - 0s 1ms/step - loss: 0.3128 - val_loss: 0.2969\n",
      "Epoch 15/100\n",
      "363/363 [==============================] - 0s 1ms/step - loss: 0.3119 - val_loss: 0.2969\n",
      "Epoch 16/100\n",
      "363/363 [==============================] - 0s 1ms/step - loss: 0.3107 - val_loss: 0.3047\n",
      "Epoch 17/100\n",
      "363/363 [==============================] - 0s 1ms/step - loss: 0.3092 - val_loss: 0.3584\n",
      "Epoch 18/100\n",
      "363/363 [==============================] - 0s 1ms/step - loss: 0.3086 - val_loss: 0.3011\n",
      "Epoch 19/100\n",
      "363/363 [==============================] - 0s 1ms/step - loss: 0.3074 - val_loss: 0.2976\n",
      "Epoch 20/100\n",
      "363/363 [==============================] - 0s 1ms/step - loss: 0.3064 - val_loss: 0.3244\n",
      "Epoch 21/100\n",
      "363/363 [==============================] - 0s 1ms/step - loss: 0.3039 - val_loss: 0.2991\n",
      "Epoch 22/100\n",
      "363/363 [==============================] - 0s 1ms/step - loss: 0.3030 - val_loss: 0.3604\n",
      "Epoch 23/100\n",
      "363/363 [==============================] - 0s 1ms/step - loss: 0.3024 - val_loss: 0.4652\n",
      "Epoch 24/100\n",
      "363/363 [==============================] - 0s 1ms/step - loss: 0.3017 - val_loss: 0.4448\n",
      "Epoch 25/100\n",
      "363/363 [==============================] - 0s 1ms/step - loss: 0.3023 - val_loss: 0.3415\n",
      "162/162 [==============================] - 0s 813us/step - loss: 0.3106\n"
     ]
    }
   ],
   "source": [
    "model.compile(loss=\"mse\", optimizer=keras.optimizers.SGD(lr=1e-3))\n",
    "early_stopping_cb = keras.callbacks.EarlyStopping(patience=10,\n",
    "                                                  restore_best_weights=True)\n",
    "history = model.fit(X_train, y_train, epochs=100,\n",
    "                    validation_data=(X_valid, y_valid),\n",
    "                    callbacks=[checkpoint_cb, early_stopping_cb])\n",
    "mse_test = model.evaluate(X_test, y_test)"
   ]
  },
  {
   "cell_type": "markdown",
   "metadata": {},
   "source": [
    "#### 학습률 스케줄러"
   ]
  },
  {
   "cell_type": "code",
   "execution_count": 98,
   "metadata": {},
   "outputs": [],
   "source": [
    "def scheduler(epoch, lr):\n",
    "    tf.print(f'learning_rate: {lr:.5f}')\n",
    "    # 첫 5 에포크 동안 유지\n",
    "    if epoch < 5:\n",
    "        return lr\n",
    "    else:\n",
    "    # 학습률 감소 적용\n",
    "        return lr * tf.math.exp(-0.1)\n",
    "\n",
    "# 콜백 객체생성 및 scheduler 함수 적용\n",
    "lr_scheduler = tf.keras.callbacks.LearningRateScheduler(scheduler)"
   ]
  },
  {
   "cell_type": "code",
   "execution_count": 99,
   "metadata": {},
   "outputs": [
    {
     "name": "stderr",
     "output_type": "stream",
     "text": [
      "WARNING:absl:`lr` is deprecated in Keras optimizer, please use `learning_rate` or use the legacy optimizer, e.g.,tf.keras.optimizers.legacy.SGD.\n"
     ]
    },
    {
     "name": "stdout",
     "output_type": "stream",
     "text": [
      "0.01\n"
     ]
    }
   ],
   "source": [
    "model.compile(loss=\"mse\", optimizer=keras.optimizers.SGD(lr=1e-3))\n",
    "# 초기 학습률 확인(0.01)\n",
    "print(round(model.optimizer.lr.numpy(), 5))"
   ]
  },
  {
   "cell_type": "code",
   "execution_count": 100,
   "metadata": {},
   "outputs": [
    {
     "name": "stdout",
     "output_type": "stream",
     "text": [
      "learning_rate: 0.01000\n",
      "Epoch 1/100\n"
     ]
    },
    {
     "name": "stdout",
     "output_type": "stream",
     "text": [
      "363/363 [==============================] - 1s 1ms/step - loss: 0.3101 - val_loss: 0.2991 - lr: 0.0100\n",
      "learning_rate: 0.01000\n",
      "Epoch 2/100\n",
      "363/363 [==============================] - 0s 1ms/step - loss: 0.3086 - val_loss: 0.3145 - lr: 0.0100\n",
      "learning_rate: 0.01000\n",
      "Epoch 3/100\n",
      "363/363 [==============================] - 0s 1ms/step - loss: 0.3083 - val_loss: 0.2918 - lr: 0.0100\n",
      "learning_rate: 0.01000\n",
      "Epoch 4/100\n",
      "363/363 [==============================] - 0s 1ms/step - loss: 0.3073 - val_loss: 0.3013 - lr: 0.0100\n",
      "learning_rate: 0.01000\n",
      "Epoch 5/100\n",
      "363/363 [==============================] - 0s 993us/step - loss: 0.3059 - val_loss: 0.2931 - lr: 0.0100\n",
      "learning_rate: 0.01000\n",
      "Epoch 6/100\n",
      "363/363 [==============================] - 0s 1ms/step - loss: 0.3043 - val_loss: 0.2945 - lr: 0.0090\n",
      "learning_rate: 0.00905\n",
      "Epoch 7/100\n",
      "363/363 [==============================] - 0s 1ms/step - loss: 0.3021 - val_loss: 0.2898 - lr: 0.0082\n",
      "learning_rate: 0.00819\n",
      "Epoch 8/100\n",
      "363/363 [==============================] - 0s 1ms/step - loss: 0.3008 - val_loss: 0.2893 - lr: 0.0074\n",
      "learning_rate: 0.00741\n",
      "Epoch 9/100\n",
      "363/363 [==============================] - 0s 1ms/step - loss: 0.2990 - val_loss: 0.2878 - lr: 0.0067\n",
      "learning_rate: 0.00670\n",
      "Epoch 10/100\n",
      "363/363 [==============================] - 0s 1ms/step - loss: 0.2979 - val_loss: 0.2943 - lr: 0.0061\n",
      "learning_rate: 0.00607\n",
      "Epoch 11/100\n",
      "363/363 [==============================] - 0s 1ms/step - loss: 0.2968 - val_loss: 0.2854 - lr: 0.0055\n",
      "learning_rate: 0.00549\n",
      "Epoch 12/100\n",
      "363/363 [==============================] - 0s 1ms/step - loss: 0.2963 - val_loss: 0.2929 - lr: 0.0050\n",
      "learning_rate: 0.00497\n",
      "Epoch 13/100\n",
      "363/363 [==============================] - 0s 1ms/step - loss: 0.2945 - val_loss: 0.2852 - lr: 0.0045\n",
      "learning_rate: 0.00449\n",
      "Epoch 14/100\n",
      "363/363 [==============================] - 0s 1ms/step - loss: 0.2941 - val_loss: 0.2845 - lr: 0.0041\n",
      "learning_rate: 0.00407\n",
      "Epoch 15/100\n",
      "363/363 [==============================] - 0s 1ms/step - loss: 0.2935 - val_loss: 0.2870 - lr: 0.0037\n",
      "learning_rate: 0.00368\n",
      "Epoch 16/100\n",
      "363/363 [==============================] - 0s 1ms/step - loss: 0.2930 - val_loss: 0.2841 - lr: 0.0033\n",
      "learning_rate: 0.00333\n",
      "Epoch 17/100\n",
      "363/363 [==============================] - 0s 1ms/step - loss: 0.2925 - val_loss: 0.2854 - lr: 0.0030\n",
      "learning_rate: 0.00301\n",
      "Epoch 18/100\n",
      "363/363 [==============================] - 0s 1ms/step - loss: 0.2918 - val_loss: 0.2856 - lr: 0.0027\n",
      "learning_rate: 0.00273\n",
      "Epoch 19/100\n",
      "363/363 [==============================] - 0s 1ms/step - loss: 0.2914 - val_loss: 0.2832 - lr: 0.0025\n",
      "learning_rate: 0.00247\n",
      "Epoch 20/100\n",
      "363/363 [==============================] - 0s 1ms/step - loss: 0.2911 - val_loss: 0.2859 - lr: 0.0022\n",
      "learning_rate: 0.00223\n",
      "Epoch 21/100\n",
      "363/363 [==============================] - 0s 1ms/step - loss: 0.2903 - val_loss: 0.2842 - lr: 0.0020\n",
      "learning_rate: 0.00202\n",
      "Epoch 22/100\n",
      "363/363 [==============================] - 0s 1ms/step - loss: 0.2901 - val_loss: 0.2846 - lr: 0.0018\n",
      "learning_rate: 0.00183\n",
      "Epoch 23/100\n",
      "363/363 [==============================] - 0s 1ms/step - loss: 0.2898 - val_loss: 0.2835 - lr: 0.0017\n",
      "learning_rate: 0.00165\n",
      "Epoch 24/100\n",
      "363/363 [==============================] - 0s 1ms/step - loss: 0.2896 - val_loss: 0.2833 - lr: 0.0015\n",
      "learning_rate: 0.00150\n",
      "Epoch 25/100\n",
      "363/363 [==============================] - 0s 1ms/step - loss: 0.2894 - val_loss: 0.2832 - lr: 0.0014\n",
      "learning_rate: 0.00135\n",
      "Epoch 26/100\n",
      "363/363 [==============================] - 0s 1ms/step - loss: 0.2890 - val_loss: 0.2838 - lr: 0.0012\n",
      "learning_rate: 0.00122\n",
      "Epoch 27/100\n",
      "363/363 [==============================] - 0s 1ms/step - loss: 0.2887 - val_loss: 0.2839 - lr: 0.0011\n",
      "learning_rate: 0.00111\n",
      "Epoch 28/100\n",
      "363/363 [==============================] - 0s 1ms/step - loss: 0.2887 - val_loss: 0.2832 - lr: 0.0010\n",
      "learning_rate: 0.00100\n",
      "Epoch 29/100\n",
      "363/363 [==============================] - 0s 1ms/step - loss: 0.2885 - val_loss: 0.2829 - lr: 9.0718e-04\n",
      "learning_rate: 0.00091\n",
      "Epoch 30/100\n",
      "363/363 [==============================] - 0s 1ms/step - loss: 0.2883 - val_loss: 0.2832 - lr: 8.2085e-04\n",
      "learning_rate: 0.00082\n",
      "Epoch 31/100\n",
      "363/363 [==============================] - 0s 1ms/step - loss: 0.2880 - val_loss: 0.2830 - lr: 7.4274e-04\n",
      "learning_rate: 0.00074\n",
      "Epoch 32/100\n",
      "363/363 [==============================] - 0s 1ms/step - loss: 0.2880 - val_loss: 0.2829 - lr: 6.7206e-04\n",
      "learning_rate: 0.00067\n",
      "Epoch 33/100\n",
      "363/363 [==============================] - 0s 1ms/step - loss: 0.2879 - val_loss: 0.2830 - lr: 6.0810e-04\n",
      "learning_rate: 0.00061\n",
      "Epoch 34/100\n",
      "363/363 [==============================] - 0s 1ms/step - loss: 0.2878 - val_loss: 0.2829 - lr: 5.5023e-04\n",
      "learning_rate: 0.00055\n",
      "Epoch 35/100\n",
      "363/363 [==============================] - 0s 1ms/step - loss: 0.2876 - val_loss: 0.2829 - lr: 4.9787e-04\n",
      "learning_rate: 0.00050\n",
      "Epoch 36/100\n",
      "363/363 [==============================] - 0s 1ms/step - loss: 0.2876 - val_loss: 0.2824 - lr: 4.5049e-04\n",
      "learning_rate: 0.00045\n",
      "Epoch 37/100\n",
      "363/363 [==============================] - 0s 1ms/step - loss: 0.2875 - val_loss: 0.2827 - lr: 4.0762e-04\n",
      "learning_rate: 0.00041\n",
      "Epoch 38/100\n",
      "363/363 [==============================] - 0s 1ms/step - loss: 0.2875 - val_loss: 0.2826 - lr: 3.6883e-04\n",
      "learning_rate: 0.00037\n",
      "Epoch 39/100\n",
      "363/363 [==============================] - 0s 1ms/step - loss: 0.2874 - val_loss: 0.2827 - lr: 3.3373e-04\n",
      "learning_rate: 0.00033\n",
      "Epoch 40/100\n",
      "363/363 [==============================] - 0s 1ms/step - loss: 0.2873 - val_loss: 0.2827 - lr: 3.0197e-04\n",
      "learning_rate: 0.00030\n",
      "Epoch 41/100\n",
      "363/363 [==============================] - 0s 1ms/step - loss: 0.2872 - val_loss: 0.2830 - lr: 2.7324e-04\n",
      "learning_rate: 0.00027\n",
      "Epoch 42/100\n",
      "363/363 [==============================] - 0s 1ms/step - loss: 0.2872 - val_loss: 0.2827 - lr: 2.4724e-04\n",
      "learning_rate: 0.00025\n",
      "Epoch 43/100\n",
      "363/363 [==============================] - 0s 1ms/step - loss: 0.2871 - val_loss: 0.2827 - lr: 2.2371e-04\n",
      "learning_rate: 0.00022\n",
      "Epoch 44/100\n",
      "363/363 [==============================] - 0s 1ms/step - loss: 0.2871 - val_loss: 0.2829 - lr: 2.0242e-04\n",
      "learning_rate: 0.00020\n",
      "Epoch 45/100\n",
      "363/363 [==============================] - 0s 1ms/step - loss: 0.2871 - val_loss: 0.2826 - lr: 1.8316e-04\n",
      "learning_rate: 0.00018\n",
      "Epoch 46/100\n",
      "363/363 [==============================] - 0s 1ms/step - loss: 0.2870 - val_loss: 0.2828 - lr: 1.6573e-04\n",
      "learning_rate: 0.00017\n",
      "Epoch 47/100\n",
      "363/363 [==============================] - 0s 1ms/step - loss: 0.2870 - val_loss: 0.2827 - lr: 1.4996e-04\n",
      "learning_rate: 0.00015\n",
      "Epoch 48/100\n",
      "363/363 [==============================] - 0s 1ms/step - loss: 0.2870 - val_loss: 0.2828 - lr: 1.3569e-04\n",
      "learning_rate: 0.00014\n",
      "Epoch 49/100\n",
      "363/363 [==============================] - 0s 1ms/step - loss: 0.2869 - val_loss: 0.2827 - lr: 1.2277e-04\n",
      "learning_rate: 0.00012\n",
      "Epoch 50/100\n",
      "363/363 [==============================] - 0s 1ms/step - loss: 0.2869 - val_loss: 0.2826 - lr: 1.1109e-04\n",
      "learning_rate: 0.00011\n",
      "Epoch 51/100\n",
      "363/363 [==============================] - 0s 1ms/step - loss: 0.2869 - val_loss: 0.2826 - lr: 1.0052e-04\n",
      "learning_rate: 0.00010\n",
      "Epoch 52/100\n",
      "363/363 [==============================] - 0s 1ms/step - loss: 0.2869 - val_loss: 0.2826 - lr: 9.0953e-05\n",
      "learning_rate: 0.00009\n",
      "Epoch 53/100\n",
      "363/363 [==============================] - 0s 1ms/step - loss: 0.2869 - val_loss: 0.2826 - lr: 8.2298e-05\n",
      "learning_rate: 0.00008\n",
      "Epoch 54/100\n",
      "363/363 [==============================] - 0s 1ms/step - loss: 0.2868 - val_loss: 0.2827 - lr: 7.4466e-05\n",
      "learning_rate: 0.00007\n",
      "Epoch 55/100\n",
      "363/363 [==============================] - 0s 1ms/step - loss: 0.2868 - val_loss: 0.2826 - lr: 6.7380e-05\n",
      "learning_rate: 0.00007\n",
      "Epoch 56/100\n",
      "363/363 [==============================] - 0s 1ms/step - loss: 0.2868 - val_loss: 0.2826 - lr: 6.0968e-05\n",
      "learning_rate: 0.00006\n",
      "Epoch 57/100\n",
      "363/363 [==============================] - 0s 1ms/step - loss: 0.2868 - val_loss: 0.2826 - lr: 5.5166e-05\n",
      "learning_rate: 0.00006\n",
      "Epoch 58/100\n",
      "363/363 [==============================] - 0s 1ms/step - loss: 0.2868 - val_loss: 0.2826 - lr: 4.9916e-05\n",
      "learning_rate: 0.00005\n",
      "Epoch 59/100\n",
      "363/363 [==============================] - 0s 1ms/step - loss: 0.2868 - val_loss: 0.2826 - lr: 4.5166e-05\n",
      "learning_rate: 0.00005\n",
      "Epoch 60/100\n",
      "363/363 [==============================] - 0s 1ms/step - loss: 0.2868 - val_loss: 0.2826 - lr: 4.0868e-05\n",
      "learning_rate: 0.00004\n",
      "Epoch 61/100\n",
      "363/363 [==============================] - 0s 1ms/step - loss: 0.2868 - val_loss: 0.2826 - lr: 3.6979e-05\n",
      "learning_rate: 0.00004\n",
      "Epoch 62/100\n",
      "363/363 [==============================] - 0s 1ms/step - loss: 0.2867 - val_loss: 0.2826 - lr: 3.3460e-05\n",
      "learning_rate: 0.00003\n",
      "Epoch 63/100\n",
      "363/363 [==============================] - 0s 1ms/step - loss: 0.2867 - val_loss: 0.2826 - lr: 3.0276e-05\n",
      "learning_rate: 0.00003\n",
      "Epoch 64/100\n",
      "363/363 [==============================] - 0s 1ms/step - loss: 0.2867 - val_loss: 0.2826 - lr: 2.7394e-05\n",
      "learning_rate: 0.00003\n",
      "Epoch 65/100\n",
      "363/363 [==============================] - 0s 1ms/step - loss: 0.2867 - val_loss: 0.2826 - lr: 2.4788e-05\n",
      "learning_rate: 0.00002\n",
      "Epoch 66/100\n",
      "363/363 [==============================] - 0s 1ms/step - loss: 0.2867 - val_loss: 0.2826 - lr: 2.2429e-05\n",
      "learning_rate: 0.00002\n",
      "Epoch 67/100\n",
      "363/363 [==============================] - 0s 1ms/step - loss: 0.2867 - val_loss: 0.2826 - lr: 2.0294e-05\n",
      "learning_rate: 0.00002\n",
      "Epoch 68/100\n",
      "363/363 [==============================] - 0s 1ms/step - loss: 0.2867 - val_loss: 0.2826 - lr: 1.8363e-05\n",
      "learning_rate: 0.00002\n",
      "Epoch 69/100\n",
      "363/363 [==============================] - 0s 1ms/step - loss: 0.2867 - val_loss: 0.2826 - lr: 1.6616e-05\n",
      "learning_rate: 0.00002\n",
      "Epoch 70/100\n",
      "363/363 [==============================] - 0s 1ms/step - loss: 0.2867 - val_loss: 0.2826 - lr: 1.5034e-05\n",
      "learning_rate: 0.00002\n",
      "Epoch 71/100\n",
      "363/363 [==============================] - 1s 2ms/step - loss: 0.2867 - val_loss: 0.2826 - lr: 1.3604e-05\n",
      "learning_rate: 0.00001\n",
      "Epoch 72/100\n",
      "363/363 [==============================] - 1s 1ms/step - loss: 0.2867 - val_loss: 0.2826 - lr: 1.2309e-05\n",
      "learning_rate: 0.00001\n",
      "Epoch 73/100\n",
      "363/363 [==============================] - 0s 1ms/step - loss: 0.2867 - val_loss: 0.2826 - lr: 1.1138e-05\n",
      "learning_rate: 0.00001\n",
      "Epoch 74/100\n",
      "363/363 [==============================] - 0s 1ms/step - loss: 0.2867 - val_loss: 0.2826 - lr: 1.0078e-05\n",
      "learning_rate: 0.00001\n",
      "Epoch 75/100\n",
      "363/363 [==============================] - 0s 1ms/step - loss: 0.2867 - val_loss: 0.2826 - lr: 9.1188e-06\n",
      "learning_rate: 0.00001\n",
      "Epoch 76/100\n",
      "363/363 [==============================] - 0s 1ms/step - loss: 0.2867 - val_loss: 0.2826 - lr: 8.2511e-06\n",
      "learning_rate: 0.00001\n",
      "Epoch 77/100\n",
      "363/363 [==============================] - 0s 1ms/step - loss: 0.2867 - val_loss: 0.2826 - lr: 7.4659e-06\n",
      "learning_rate: 0.00001\n",
      "Epoch 78/100\n",
      "363/363 [==============================] - 0s 1ms/step - loss: 0.2867 - val_loss: 0.2826 - lr: 6.7554e-06\n",
      "learning_rate: 0.00001\n",
      "Epoch 79/100\n",
      "363/363 [==============================] - 0s 1ms/step - loss: 0.2867 - val_loss: 0.2826 - lr: 6.1125e-06\n",
      "learning_rate: 0.00001\n",
      "Epoch 80/100\n",
      "363/363 [==============================] - 0s 1ms/step - loss: 0.2867 - val_loss: 0.2826 - lr: 5.5308e-06\n",
      "learning_rate: 0.00001\n",
      "Epoch 81/100\n",
      "363/363 [==============================] - 0s 1ms/step - loss: 0.2867 - val_loss: 0.2826 - lr: 5.0045e-06\n",
      "learning_rate: 0.00001\n",
      "Epoch 82/100\n",
      "363/363 [==============================] - 0s 1ms/step - loss: 0.2867 - val_loss: 0.2826 - lr: 4.5283e-06\n",
      "learning_rate: 0.00000\n",
      "Epoch 83/100\n",
      "363/363 [==============================] - 0s 1ms/step - loss: 0.2867 - val_loss: 0.2826 - lr: 4.0974e-06\n",
      "learning_rate: 0.00000\n",
      "Epoch 84/100\n",
      "363/363 [==============================] - 0s 1ms/step - loss: 0.2867 - val_loss: 0.2826 - lr: 3.7074e-06\n",
      "learning_rate: 0.00000\n",
      "Epoch 85/100\n",
      "363/363 [==============================] - 0s 1ms/step - loss: 0.2867 - val_loss: 0.2826 - lr: 3.3546e-06\n",
      "learning_rate: 0.00000\n",
      "Epoch 86/100\n",
      "363/363 [==============================] - 0s 1ms/step - loss: 0.2867 - val_loss: 0.2826 - lr: 3.0354e-06\n",
      "learning_rate: 0.00000\n",
      "Epoch 87/100\n",
      "363/363 [==============================] - 0s 1ms/step - loss: 0.2867 - val_loss: 0.2826 - lr: 2.7465e-06\n",
      "learning_rate: 0.00000\n",
      "Epoch 88/100\n",
      "363/363 [==============================] - 0s 1ms/step - loss: 0.2867 - val_loss: 0.2826 - lr: 2.4852e-06\n",
      "learning_rate: 0.00000\n",
      "Epoch 89/100\n",
      "363/363 [==============================] - 0s 1ms/step - loss: 0.2867 - val_loss: 0.2826 - lr: 2.2487e-06\n",
      "learning_rate: 0.00000\n",
      "Epoch 90/100\n",
      "363/363 [==============================] - 0s 1ms/step - loss: 0.2867 - val_loss: 0.2826 - lr: 2.0347e-06\n",
      "learning_rate: 0.00000\n",
      "Epoch 91/100\n",
      "363/363 [==============================] - 0s 1ms/step - loss: 0.2867 - val_loss: 0.2826 - lr: 1.8411e-06\n",
      "learning_rate: 0.00000\n",
      "Epoch 92/100\n",
      "363/363 [==============================] - 1s 1ms/step - loss: 0.2867 - val_loss: 0.2826 - lr: 1.6659e-06\n",
      "learning_rate: 0.00000\n",
      "Epoch 93/100\n",
      "363/363 [==============================] - 0s 1ms/step - loss: 0.2867 - val_loss: 0.2826 - lr: 1.5073e-06\n",
      "learning_rate: 0.00000\n",
      "Epoch 94/100\n",
      "363/363 [==============================] - 0s 1ms/step - loss: 0.2867 - val_loss: 0.2826 - lr: 1.3639e-06\n",
      "learning_rate: 0.00000\n",
      "Epoch 95/100\n",
      "363/363 [==============================] - 0s 1ms/step - loss: 0.2867 - val_loss: 0.2826 - lr: 1.2341e-06\n",
      "learning_rate: 0.00000\n",
      "Epoch 96/100\n",
      "363/363 [==============================] - 0s 1ms/step - loss: 0.2867 - val_loss: 0.2826 - lr: 1.1167e-06\n",
      "learning_rate: 0.00000\n",
      "Epoch 97/100\n",
      "363/363 [==============================] - 0s 1ms/step - loss: 0.2867 - val_loss: 0.2826 - lr: 1.0104e-06\n",
      "learning_rate: 0.00000\n",
      "Epoch 98/100\n",
      "363/363 [==============================] - 0s 1ms/step - loss: 0.2867 - val_loss: 0.2826 - lr: 9.1424e-07\n",
      "learning_rate: 0.00000\n",
      "Epoch 99/100\n",
      "363/363 [==============================] - 0s 1ms/step - loss: 0.2867 - val_loss: 0.2826 - lr: 8.2724e-07\n",
      "learning_rate: 0.00000\n",
      "Epoch 100/100\n",
      "363/363 [==============================] - 0s 1ms/step - loss: 0.2867 - val_loss: 0.2826 - lr: 7.4852e-07\n"
     ]
    },
    {
     "data": {
      "text/plain": [
       "0.0"
      ]
     },
     "execution_count": 100,
     "metadata": {},
     "output_type": "execute_result"
    }
   ],
   "source": [
    "history = model.fit(X_train, y_train, epochs=100,\n",
    "                    validation_data=(X_valid, y_valid),\n",
    "                    callbacks=[lr_scheduler])\n",
    "\n",
    "# 최종 학습률 스케줄러 확인\n",
    "round(model.optimizer.lr.numpy(), 5)"
   ]
  },
  {
   "cell_type": "markdown",
   "metadata": {},
   "source": [
    "#### 사용자 정의 콜백"
   ]
  },
  {
   "cell_type": "code",
   "execution_count": 194,
   "metadata": {},
   "outputs": [],
   "source": [
    "class PrintValTrainRatioCallback(keras.callbacks.Callback):\n",
    "    def on_epoch_end(self, epoch, logs):\n",
    "        print(\"\\nval/train: {:.2f}\".format(logs[\"val_loss\"] / logs[\"loss\"]))"
   ]
  },
  {
   "cell_type": "code",
   "execution_count": 195,
   "metadata": {},
   "outputs": [
    {
     "name": "stdout",
     "output_type": "stream",
     "text": [
      "291/363 [=======================>......] - ETA: 0s - loss: 0.3284\n",
      "val/train: 1.01\n",
      "363/363 [==============================] - 0s 913us/step - loss: 0.3247 - val_loss: 0.3277\n"
     ]
    }
   ],
   "source": [
    "val_train_ratio_cb = PrintValTrainRatioCallback()\n",
    "history = model.fit(X_train, y_train, epochs=1,\n",
    "                    validation_data=(X_valid, y_valid),\n",
    "                    callbacks=[val_train_ratio_cb])"
   ]
  },
  {
   "cell_type": "code",
   "execution_count": null,
   "metadata": {},
   "outputs": [],
   "source": []
  },
  {
   "cell_type": "markdown",
   "metadata": {},
   "source": [
    "### 텐서보드를 이용한 시각화"
   ]
  },
  {
   "cell_type": "code",
   "execution_count": 101,
   "metadata": {},
   "outputs": [
    {
     "data": {
      "text/plain": [
       "'.\\\\my_logs\\\\run_2023_09_15-16_46_51'"
      ]
     },
     "execution_count": 101,
     "metadata": {},
     "output_type": "execute_result"
    }
   ],
   "source": [
    "root_logdir = os.path.join(os.curdir, \"my_logs\")\n",
    "\n",
    "def get_run_logdir():\n",
    "    import time\n",
    "    run_id = time.strftime(\"run_%Y_%m_%d-%H_%M_%S\")\n",
    "    return os.path.join(root_logdir, run_id)\n",
    "\n",
    "run_logdir = get_run_logdir()\n",
    "run_logdir"
   ]
  },
  {
   "cell_type": "code",
   "execution_count": 102,
   "metadata": {},
   "outputs": [
    {
     "name": "stderr",
     "output_type": "stream",
     "text": [
      "WARNING:absl:`lr` is deprecated in Keras optimizer, please use `learning_rate` or use the legacy optimizer, e.g.,tf.keras.optimizers.legacy.SGD.\n"
     ]
    },
    {
     "name": "stdout",
     "output_type": "stream",
     "text": [
      "Epoch 1/30\n",
      "363/363 [==============================] - 1s 2ms/step - loss: 0.7380 - val_loss: 1.1158\n",
      "Epoch 2/30\n",
      "363/363 [==============================] - 1s 2ms/step - loss: 0.4788 - val_loss: 0.8782\n",
      "Epoch 3/30\n",
      "363/363 [==============================] - 0s 1ms/step - loss: 0.4393 - val_loss: 8.3028\n",
      "Epoch 4/30\n",
      "363/363 [==============================] - 0s 1ms/step - loss: 0.4327 - val_loss: 2.6855\n",
      "Epoch 5/30\n",
      "363/363 [==============================] - 0s 1ms/step - loss: 0.3839 - val_loss: 1.2242\n",
      "Epoch 6/30\n",
      "363/363 [==============================] - 0s 1ms/step - loss: 0.3660 - val_loss: 0.3818\n",
      "Epoch 7/30\n",
      "363/363 [==============================] - 0s 1ms/step - loss: 0.3580 - val_loss: 0.3684\n",
      "Epoch 8/30\n",
      "363/363 [==============================] - 0s 1ms/step - loss: 0.3493 - val_loss: 0.3625\n",
      "Epoch 9/30\n",
      "363/363 [==============================] - 1s 1ms/step - loss: 0.3437 - val_loss: 0.3527\n",
      "Epoch 10/30\n",
      "363/363 [==============================] - 1s 1ms/step - loss: 0.3403 - val_loss: 0.3499\n",
      "Epoch 11/30\n",
      "363/363 [==============================] - 0s 1ms/step - loss: 0.3379 - val_loss: 0.3314\n",
      "Epoch 12/30\n",
      "363/363 [==============================] - 1s 2ms/step - loss: 0.3352 - val_loss: 0.3404\n",
      "Epoch 13/30\n",
      "363/363 [==============================] - 1s 2ms/step - loss: 0.3312 - val_loss: 0.3335\n",
      "Epoch 14/30\n",
      "363/363 [==============================] - 1s 1ms/step - loss: 0.3283 - val_loss: 0.3129\n",
      "Epoch 15/30\n",
      "363/363 [==============================] - 0s 1ms/step - loss: 0.3265 - val_loss: 0.3188\n",
      "Epoch 16/30\n",
      "363/363 [==============================] - 1s 1ms/step - loss: 0.3227 - val_loss: 0.3095\n",
      "Epoch 17/30\n",
      "363/363 [==============================] - 1s 2ms/step - loss: 0.3205 - val_loss: 0.3217\n",
      "Epoch 18/30\n",
      "363/363 [==============================] - 0s 1ms/step - loss: 0.3182 - val_loss: 0.3085\n",
      "Epoch 19/30\n",
      "363/363 [==============================] - 0s 1ms/step - loss: 0.3171 - val_loss: 0.3031\n",
      "Epoch 20/30\n",
      "363/363 [==============================] - 1s 1ms/step - loss: 0.3155 - val_loss: 0.3309\n",
      "Epoch 21/30\n",
      "363/363 [==============================] - 0s 1ms/step - loss: 0.3122 - val_loss: 0.3027\n",
      "Epoch 22/30\n",
      "363/363 [==============================] - 0s 1ms/step - loss: 0.3103 - val_loss: 0.3137\n",
      "Epoch 23/30\n",
      "363/363 [==============================] - 1s 1ms/step - loss: 0.3083 - val_loss: 0.3079\n",
      "Epoch 24/30\n",
      "363/363 [==============================] - 0s 1ms/step - loss: 0.3070 - val_loss: 0.3144\n",
      "Epoch 25/30\n",
      "363/363 [==============================] - 0s 1ms/step - loss: 0.3056 - val_loss: 0.3118\n",
      "Epoch 26/30\n",
      "363/363 [==============================] - 0s 1ms/step - loss: 0.3045 - val_loss: 0.3154\n",
      "Epoch 27/30\n",
      "363/363 [==============================] - 0s 1ms/step - loss: 0.3029 - val_loss: 0.3109\n",
      "Epoch 28/30\n",
      "363/363 [==============================] - 0s 1ms/step - loss: 0.3040 - val_loss: 0.3260\n",
      "Epoch 29/30\n",
      "363/363 [==============================] - 0s 1ms/step - loss: 0.3009 - val_loss: 0.3050\n",
      "Epoch 30/30\n",
      "363/363 [==============================] - 0s 1ms/step - loss: 0.2993 - val_loss: 0.3425\n"
     ]
    }
   ],
   "source": [
    "keras.backend.clear_session()\n",
    "np.random.seed(42)\n",
    "tf.random.set_seed(42)\n",
    "\n",
    "model = keras.models.Sequential([\n",
    "    keras.layers.Dense(30, activation=\"relu\", input_shape=[8]),\n",
    "    keras.layers.Dense(30, activation=\"relu\"),\n",
    "    keras.layers.Dense(1)\n",
    "])    \n",
    "model.compile(loss=\"mse\", optimizer=keras.optimizers.SGD(lr=1e-3))\n",
    "\n",
    "#텐서보드 저장\n",
    "tensorboard_cb = keras.callbacks.TensorBoard(run_logdir)\n",
    "history = model.fit(X_train, y_train, epochs=30,\n",
    "                    validation_data=(X_valid, y_valid),\n",
    "                    callbacks=[checkpoint_cb, tensorboard_cb])"
   ]
  },
  {
   "cell_type": "markdown",
   "metadata": {},
   "source": [
    "#### 텐서보드 실행"
   ]
  },
  {
   "cell_type": "code",
   "execution_count": 103,
   "metadata": {},
   "outputs": [
    {
     "data": {
      "text/plain": [
       "Launching TensorBoard..."
      ]
     },
     "metadata": {},
     "output_type": "display_data"
    }
   ],
   "source": [
    "%load_ext tensorboard\n",
    "%tensorboard --logdir=./my_logs --port=6006"
   ]
  },
  {
   "cell_type": "code",
   "execution_count": 104,
   "metadata": {},
   "outputs": [],
   "source": [
    "#스칼라, 히스토그램, 이미지, 오디오, 텍스트 기록\n",
    "test_logdir = get_run_logdir()\n",
    "writer = tf.summary.create_file_writer(test_logdir) \n",
    "with writer.as_default():\n",
    "    for step in range(1, 1000 + 1):\n",
    "        tf.summary.scalar(\"my_scalar\", np.sin(step / 10), step=step)\n",
    "        data = (np.random.randn(100) + 2) * step / 100 # 몇몇 랜덤 데이터 \n",
    "        tf.summary.histogram(\"my_hist\", data, buckets=50, step=step)\n",
    "        images = np.random.rand(2, 32, 32, 3) # 32x32 RGB 이미지\n",
    "        tf.summary.image(\"my_images\", images * step / 1000, step=step)\n",
    "        texts = [\"The step is \" + str(step), \"Its square is \" + str(step**2)] \n",
    "        tf.summary.text(\"my_text\", texts, step=step)\n",
    "        sine_wave = tf.math.sin(tf.range(12000) / 48000 * 2 * np.pi * step) \n",
    "        audio = tf.reshape(tf.cast(sine_wave, tf.float32), [1, -1, 1]) \n",
    "        tf.summary.audio(\"my_audio\", audio, sample_rate=48000, step=step)"
   ]
  },
  {
   "cell_type": "code",
   "execution_count": 105,
   "metadata": {},
   "outputs": [
    {
     "data": {
      "text/plain": [
       "'.\\\\my_logs\\\\run_2023_09_15-16_47_54'"
      ]
     },
     "execution_count": 105,
     "metadata": {},
     "output_type": "execute_result"
    }
   ],
   "source": [
    "run_logdir2 = get_run_logdir()\n",
    "run_logdir2"
   ]
  },
  {
   "cell_type": "code",
   "execution_count": 106,
   "metadata": {},
   "outputs": [
    {
     "name": "stderr",
     "output_type": "stream",
     "text": [
      "WARNING:absl:`lr` is deprecated in Keras optimizer, please use `learning_rate` or use the legacy optimizer, e.g.,tf.keras.optimizers.legacy.SGD.\n"
     ]
    },
    {
     "name": "stdout",
     "output_type": "stream",
     "text": [
      "Epoch 1/30\n",
      "363/363 [==============================] - 1s 2ms/step - loss: 0.8270 - val_loss: 7.4777\n",
      "Epoch 2/30\n",
      "363/363 [==============================] - 1s 1ms/step - loss: 0.5627 - val_loss: 5.7731\n",
      "Epoch 3/30\n",
      "363/363 [==============================] - 1s 2ms/step - loss: 0.4545 - val_loss: 0.7987\n",
      "Epoch 4/30\n",
      "363/363 [==============================] - 1s 1ms/step - loss: 0.3941 - val_loss: 0.3669\n",
      "Epoch 5/30\n",
      "363/363 [==============================] - 1s 3ms/step - loss: 0.3818 - val_loss: 0.3893\n",
      "Epoch 6/30\n",
      "363/363 [==============================] - 1s 2ms/step - loss: 0.3709 - val_loss: 0.4113\n",
      "Epoch 7/30\n",
      "363/363 [==============================] - 1s 2ms/step - loss: 0.3680 - val_loss: 0.3886\n",
      "Epoch 8/30\n",
      "363/363 [==============================] - 0s 1ms/step - loss: 0.3604 - val_loss: 0.3674\n",
      "Epoch 9/30\n",
      "363/363 [==============================] - 0s 1ms/step - loss: 0.3545 - val_loss: 0.3622\n",
      "Epoch 10/30\n",
      "363/363 [==============================] - 0s 1ms/step - loss: 0.3503 - val_loss: 0.3770\n",
      "Epoch 11/30\n",
      "363/363 [==============================] - 0s 1ms/step - loss: 0.3489 - val_loss: 0.3290\n",
      "Epoch 12/30\n",
      "363/363 [==============================] - 1s 1ms/step - loss: 0.3454 - val_loss: 0.3692\n",
      "Epoch 13/30\n",
      "363/363 [==============================] - 0s 1ms/step - loss: 0.3402 - val_loss: 0.3249\n",
      "Epoch 14/30\n",
      "363/363 [==============================] - 1s 1ms/step - loss: 0.3355 - val_loss: 0.3163\n",
      "Epoch 15/30\n",
      "363/363 [==============================] - 1s 2ms/step - loss: 0.3336 - val_loss: 0.3371\n",
      "Epoch 16/30\n",
      "363/363 [==============================] - 1s 2ms/step - loss: 0.3304 - val_loss: 0.3231\n",
      "Epoch 17/30\n",
      "363/363 [==============================] - 1s 2ms/step - loss: 0.3276 - val_loss: 0.3498\n",
      "Epoch 18/30\n",
      "363/363 [==============================] - 1s 1ms/step - loss: 0.3251 - val_loss: 0.3094\n",
      "Epoch 19/30\n",
      "363/363 [==============================] - 0s 1ms/step - loss: 0.3279 - val_loss: 0.3134\n",
      "Epoch 20/30\n",
      "363/363 [==============================] - 0s 1ms/step - loss: 0.3239 - val_loss: 0.3276\n",
      "Epoch 21/30\n",
      "363/363 [==============================] - 1s 2ms/step - loss: 0.3188 - val_loss: 0.3118\n",
      "Epoch 22/30\n",
      "363/363 [==============================] - 0s 1ms/step - loss: 0.3170 - val_loss: 0.3424\n",
      "Epoch 23/30\n",
      "363/363 [==============================] - 0s 1ms/step - loss: 0.3151 - val_loss: 0.3523\n",
      "Epoch 24/30\n",
      "363/363 [==============================] - 1s 1ms/step - loss: 0.3136 - val_loss: 0.3315\n",
      "Epoch 25/30\n",
      "363/363 [==============================] - 0s 1ms/step - loss: 0.3120 - val_loss: 0.3129\n",
      "Epoch 26/30\n",
      "363/363 [==============================] - 0s 1ms/step - loss: 0.3108 - val_loss: 0.3450\n",
      "Epoch 27/30\n",
      "363/363 [==============================] - 1s 2ms/step - loss: 0.3099 - val_loss: 0.3269\n",
      "Epoch 28/30\n",
      "363/363 [==============================] - 0s 1ms/step - loss: 0.3096 - val_loss: 0.3497\n",
      "Epoch 29/30\n",
      "363/363 [==============================] - 1s 1ms/step - loss: 0.3073 - val_loss: 0.2951\n",
      "Epoch 30/30\n",
      "363/363 [==============================] - 0s 1ms/step - loss: 0.3071 - val_loss: 0.3471\n"
     ]
    }
   ],
   "source": [
    "keras.backend.clear_session()\n",
    "np.random.seed(42)\n",
    "tf.random.set_seed(42)\n",
    "\n",
    "model = keras.models.Sequential([\n",
    "    keras.layers.Dense(30, activation=\"relu\", input_shape=[8]),\n",
    "    keras.layers.Dense(30, activation=\"relu\"),\n",
    "    keras.layers.Dense(1)\n",
    "])    \n",
    "model.compile(loss=\"mse\", optimizer=keras.optimizers.SGD(lr=0.05))\n",
    "\n",
    "tensorboard_cb = keras.callbacks.TensorBoard(run_logdir2)\n",
    "history = model.fit(X_train, y_train, epochs=30,\n",
    "                    validation_data=(X_valid, y_valid),\n",
    "                    callbacks=[checkpoint_cb, tensorboard_cb])\n"
   ]
  },
  {
   "cell_type": "code",
   "execution_count": null,
   "metadata": {},
   "outputs": [],
   "source": []
  },
  {
   "cell_type": "markdown",
   "metadata": {},
   "source": [
    "### 신경망 하이퍼파라미터 튜닝"
   ]
  },
  {
   "cell_type": "markdown",
   "metadata": {},
   "source": [
    "#### 함수 생성"
   ]
  },
  {
   "cell_type": "code",
   "execution_count": 107,
   "metadata": {},
   "outputs": [],
   "source": [
    "keras.backend.clear_session()\n",
    "np.random.seed(42)\n",
    "tf.random.set_seed(42)\n",
    "\n",
    "def build_model(n_hidden=1, n_neurons=30, learning_rate=3e-3, input_shape=[8]):\n",
    "    model = keras.models.Sequential()\n",
    "    model.add(keras.layers.InputLayer(input_shape=input_shape))\n",
    "    for layer in range(n_hidden):\n",
    "        model.add(keras.layers.Dense(n_neurons, activation=\"relu\"))\n",
    "    model.add(keras.layers.Dense(1))\n",
    "    optimizer = keras.optimizers.SGD(lr=learning_rate)\n",
    "    model.compile(loss=\"mse\", optimizer=optimizer)\n",
    "    return model"
   ]
  },
  {
   "cell_type": "markdown",
   "metadata": {},
   "source": [
    "#### 객체 생성"
   ]
  },
  {
   "cell_type": "code",
   "execution_count": 113,
   "metadata": {},
   "outputs": [
    {
     "name": "stderr",
     "output_type": "stream",
     "text": [
      "WARNING:absl:`lr` is deprecated in Keras optimizer, please use `learning_rate` or use the legacy optimizer, e.g.,tf.keras.optimizers.legacy.SGD.\n"
     ]
    }
   ],
   "source": [
    "# 더 이상 Tensorflow 에서 sklearn 의 래퍼를 제공하지 않아서\n",
    "# 사용하고자 하면 scikeras 패키지를 이용\n",
    "# !pip install scikeras\n",
    "\n",
    "from scikeras.wrappers import KerasRegressor\n",
    "\n",
    "keras_reg = KerasRegressor(build_model())\n",
    "\n",
    "# keras_reg = keras.wrappers.scikit_learn.KerasRegressor(build_model)"
   ]
  },
  {
   "cell_type": "markdown",
   "metadata": {},
   "source": [
    "#### 모델 훈련"
   ]
  },
  {
   "cell_type": "code",
   "execution_count": 112,
   "metadata": {},
   "outputs": [
    {
     "name": "stdout",
     "output_type": "stream",
     "text": [
      "Epoch 1/100\n"
     ]
    },
    {
     "name": "stdout",
     "output_type": "stream",
     "text": [
      "363/363 [==============================] - 1s 1ms/step - loss: 0.8193 - val_loss: 19.3284\n",
      "Epoch 2/100\n",
      "363/363 [==============================] - 0s 1ms/step - loss: 0.6461 - val_loss: 0.4178\n",
      "Epoch 3/100\n",
      "363/363 [==============================] - 0s 1ms/step - loss: 0.4271 - val_loss: 0.3800\n",
      "Epoch 4/100\n",
      "363/363 [==============================] - 0s 1ms/step - loss: 0.4075 - val_loss: 0.3693\n",
      "Epoch 5/100\n",
      "363/363 [==============================] - 0s 1ms/step - loss: 0.3979 - val_loss: 0.3613\n",
      "Epoch 6/100\n",
      "363/363 [==============================] - 1s 1ms/step - loss: 0.3866 - val_loss: 0.3918\n",
      "Epoch 7/100\n",
      "363/363 [==============================] - 1s 1ms/step - loss: 0.3866 - val_loss: 0.3504\n",
      "Epoch 8/100\n",
      "363/363 [==============================] - 0s 1ms/step - loss: 0.3780 - val_loss: 0.3556\n",
      "Epoch 9/100\n",
      "363/363 [==============================] - 1s 2ms/step - loss: 0.3718 - val_loss: 0.3462\n",
      "Epoch 10/100\n",
      "363/363 [==============================] - 0s 1ms/step - loss: 0.3673 - val_loss: 0.3466\n",
      "Epoch 11/100\n",
      "363/363 [==============================] - 1s 1ms/step - loss: 0.3638 - val_loss: 0.3394\n",
      "Epoch 12/100\n",
      "363/363 [==============================] - 0s 1ms/step - loss: 0.3630 - val_loss: 0.3426\n",
      "Epoch 13/100\n",
      "363/363 [==============================] - 0s 1ms/step - loss: 0.3580 - val_loss: 0.3605\n",
      "Epoch 14/100\n",
      "363/363 [==============================] - 0s 1ms/step - loss: 0.3565 - val_loss: 0.3325\n",
      "Epoch 15/100\n",
      "363/363 [==============================] - 0s 1ms/step - loss: 0.3560 - val_loss: 0.3353\n",
      "Epoch 16/100\n",
      "363/363 [==============================] - 0s 1ms/step - loss: 0.3510 - val_loss: 0.3361\n",
      "Epoch 17/100\n",
      "363/363 [==============================] - 0s 1ms/step - loss: 0.3483 - val_loss: 0.3419\n",
      "Epoch 18/100\n",
      "363/363 [==============================] - 0s 1ms/step - loss: 0.3467 - val_loss: 0.3777\n",
      "Epoch 19/100\n",
      "363/363 [==============================] - 0s 1ms/step - loss: 0.3481 - val_loss: 0.3336\n",
      "Epoch 20/100\n",
      "363/363 [==============================] - 0s 1ms/step - loss: 0.3486 - val_loss: 0.3408\n",
      "Epoch 21/100\n",
      "363/363 [==============================] - 0s 1ms/step - loss: 0.3434 - val_loss: 0.3372\n",
      "Epoch 22/100\n",
      "363/363 [==============================] - 0s 1ms/step - loss: 0.3430 - val_loss: 0.3395\n",
      "Epoch 23/100\n",
      "363/363 [==============================] - 0s 1ms/step - loss: 0.3404 - val_loss: 0.3289\n",
      "Epoch 24/100\n",
      "363/363 [==============================] - 0s 1ms/step - loss: 0.3414 - val_loss: 0.3365\n",
      "Epoch 25/100\n",
      "363/363 [==============================] - 0s 1ms/step - loss: 0.3389 - val_loss: 0.3445\n",
      "Epoch 26/100\n",
      "363/363 [==============================] - 0s 1ms/step - loss: 0.3375 - val_loss: 0.3382\n",
      "Epoch 27/100\n",
      "363/363 [==============================] - 0s 1ms/step - loss: 0.3395 - val_loss: 0.3341\n",
      "Epoch 28/100\n",
      "363/363 [==============================] - 0s 1ms/step - loss: 0.3349 - val_loss: 0.3404\n",
      "Epoch 29/100\n",
      "363/363 [==============================] - 0s 1ms/step - loss: 0.3370 - val_loss: 0.3647\n",
      "Epoch 30/100\n",
      "363/363 [==============================] - 0s 1ms/step - loss: 0.3342 - val_loss: 0.3654\n",
      "Epoch 31/100\n",
      "363/363 [==============================] - 1s 1ms/step - loss: 0.3342 - val_loss: 0.3376\n",
      "Epoch 32/100\n",
      "363/363 [==============================] - 0s 1ms/step - loss: 0.3303 - val_loss: 0.3329\n",
      "Epoch 33/100\n",
      "363/363 [==============================] - 0s 1ms/step - loss: 0.3297 - val_loss: 0.4171\n",
      "Epoch 34/100\n",
      "363/363 [==============================] - 0s 1ms/step - loss: 0.3305 - val_loss: 0.3252\n",
      "Epoch 35/100\n",
      "363/363 [==============================] - 0s 1ms/step - loss: 0.3323 - val_loss: 0.3343\n",
      "Epoch 36/100\n",
      "363/363 [==============================] - 0s 1ms/step - loss: 0.3282 - val_loss: 0.3261\n",
      "Epoch 37/100\n",
      "363/363 [==============================] - 0s 1ms/step - loss: 0.3274 - val_loss: 0.3270\n",
      "Epoch 38/100\n",
      "363/363 [==============================] - 0s 1ms/step - loss: 0.3262 - val_loss: 0.3267\n",
      "Epoch 39/100\n",
      "363/363 [==============================] - 0s 1ms/step - loss: 0.3325 - val_loss: 0.3288\n",
      "Epoch 40/100\n",
      "363/363 [==============================] - 0s 1ms/step - loss: 0.3324 - val_loss: 0.3329\n",
      "Epoch 41/100\n",
      "363/363 [==============================] - 1s 1ms/step - loss: 0.3444 - val_loss: 0.3551\n",
      "Epoch 42/100\n",
      "363/363 [==============================] - 0s 1ms/step - loss: 0.3276 - val_loss: 0.4425\n",
      "Epoch 43/100\n",
      "363/363 [==============================] - 0s 1ms/step - loss: 0.3719 - val_loss: 0.3460\n",
      "Epoch 44/100\n",
      "363/363 [==============================] - 0s 1ms/step - loss: 0.3262 - val_loss: 0.3264\n",
      "Epoch 45/100\n",
      "363/363 [==============================] - 0s 1ms/step - loss: 0.3239 - val_loss: 0.3283\n",
      "Epoch 46/100\n",
      "363/363 [==============================] - 0s 1ms/step - loss: 0.3209 - val_loss: 0.3272\n",
      "Epoch 47/100\n",
      "363/363 [==============================] - 0s 1ms/step - loss: 0.3198 - val_loss: 0.3904\n",
      "Epoch 48/100\n",
      "363/363 [==============================] - 0s 1ms/step - loss: 0.3214 - val_loss: 0.3270\n",
      "Epoch 49/100\n",
      "363/363 [==============================] - 0s 1ms/step - loss: 0.3231 - val_loss: 0.3307\n",
      "Epoch 50/100\n",
      "363/363 [==============================] - 0s 1ms/step - loss: 0.3174 - val_loss: 0.3213\n",
      "Epoch 51/100\n",
      "363/363 [==============================] - 0s 1ms/step - loss: 0.3168 - val_loss: 0.3916\n",
      "Epoch 52/100\n",
      "363/363 [==============================] - 0s 1ms/step - loss: 0.3174 - val_loss: 0.3180\n",
      "Epoch 53/100\n",
      "363/363 [==============================] - 0s 1ms/step - loss: 0.3157 - val_loss: 0.3414\n",
      "Epoch 54/100\n",
      "363/363 [==============================] - 1s 1ms/step - loss: 0.3157 - val_loss: 0.3299\n",
      "Epoch 55/100\n",
      "363/363 [==============================] - 0s 1ms/step - loss: 0.3138 - val_loss: 0.3271\n",
      "Epoch 56/100\n",
      "363/363 [==============================] - 0s 1ms/step - loss: 0.3156 - val_loss: 0.3252\n",
      "Epoch 57/100\n",
      "363/363 [==============================] - 0s 1ms/step - loss: 0.3121 - val_loss: 0.3200\n",
      "Epoch 58/100\n",
      "363/363 [==============================] - 0s 1ms/step - loss: 0.3103 - val_loss: 0.3451\n",
      "Epoch 59/100\n",
      "363/363 [==============================] - 0s 1ms/step - loss: 0.3135 - val_loss: 0.3205\n",
      "Epoch 60/100\n",
      "363/363 [==============================] - 1s 1ms/step - loss: 0.3129 - val_loss: 0.3137\n",
      "Epoch 61/100\n",
      "363/363 [==============================] - 0s 1ms/step - loss: 0.3095 - val_loss: 0.3235\n",
      "Epoch 62/100\n",
      "363/363 [==============================] - 1s 2ms/step - loss: 0.3097 - val_loss: 0.3199\n",
      "Epoch 63/100\n",
      "363/363 [==============================] - 0s 1ms/step - loss: 0.3092 - val_loss: 0.3226\n",
      "Epoch 64/100\n",
      "363/363 [==============================] - 1s 1ms/step - loss: 0.3270 - val_loss: 0.3317\n",
      "Epoch 65/100\n",
      "363/363 [==============================] - 1s 1ms/step - loss: 0.3112 - val_loss: 0.3063\n",
      "Epoch 66/100\n",
      "363/363 [==============================] - 1s 2ms/step - loss: 0.3100 - val_loss: 0.3168\n",
      "Epoch 67/100\n",
      "363/363 [==============================] - 0s 1ms/step - loss: 0.3117 - val_loss: 0.3152\n",
      "Epoch 68/100\n",
      "363/363 [==============================] - 0s 1ms/step - loss: 0.3072 - val_loss: 0.3150\n",
      "Epoch 69/100\n",
      "363/363 [==============================] - 0s 1ms/step - loss: 0.3075 - val_loss: 0.3175\n",
      "Epoch 70/100\n",
      "363/363 [==============================] - 0s 1ms/step - loss: 0.3070 - val_loss: 0.3575\n",
      "Epoch 71/100\n",
      "363/363 [==============================] - 0s 1ms/step - loss: 0.3093 - val_loss: 0.3080\n",
      "Epoch 72/100\n",
      "363/363 [==============================] - 0s 1ms/step - loss: 0.3061 - val_loss: 0.3232\n",
      "Epoch 73/100\n",
      "363/363 [==============================] - 0s 1ms/step - loss: 0.3063 - val_loss: 0.2997\n",
      "Epoch 74/100\n",
      "363/363 [==============================] - 0s 1ms/step - loss: 0.3057 - val_loss: 0.3087\n",
      "Epoch 75/100\n",
      "363/363 [==============================] - 0s 1ms/step - loss: 0.3045 - val_loss: 0.3227\n",
      "Epoch 76/100\n",
      "363/363 [==============================] - 0s 1ms/step - loss: 0.3249 - val_loss: 0.3092\n",
      "Epoch 77/100\n",
      "363/363 [==============================] - 1s 1ms/step - loss: 0.3038 - val_loss: 0.3212\n",
      "Epoch 78/100\n",
      "363/363 [==============================] - 0s 1ms/step - loss: 0.3034 - val_loss: 0.4173\n",
      "Epoch 79/100\n",
      "363/363 [==============================] - 0s 1ms/step - loss: 0.3047 - val_loss: 0.3015\n",
      "Epoch 80/100\n",
      "363/363 [==============================] - 0s 1ms/step - loss: 0.3030 - val_loss: 0.3062\n",
      "Epoch 81/100\n",
      "363/363 [==============================] - 1s 1ms/step - loss: 0.3072 - val_loss: 0.3059\n",
      "Epoch 82/100\n",
      "363/363 [==============================] - 1s 2ms/step - loss: 0.3023 - val_loss: 0.3050\n",
      "Epoch 83/100\n",
      "363/363 [==============================] - 1s 2ms/step - loss: 0.3053 - val_loss: 0.3039\n",
      "Epoch 84/100\n",
      "363/363 [==============================] - 1s 2ms/step - loss: 0.3025 - val_loss: 0.3590\n",
      "Epoch 85/100\n",
      "363/363 [==============================] - 1s 2ms/step - loss: 0.3028 - val_loss: 0.3082\n",
      "Epoch 86/100\n",
      "363/363 [==============================] - 1s 2ms/step - loss: 0.3022 - val_loss: 0.3026\n",
      "Epoch 87/100\n",
      "363/363 [==============================] - 1s 2ms/step - loss: 0.3007 - val_loss: 0.3097\n",
      "Epoch 88/100\n",
      "363/363 [==============================] - 1s 2ms/step - loss: 0.3057 - val_loss: 0.3625\n",
      "Epoch 89/100\n",
      "363/363 [==============================] - 0s 1ms/step - loss: 0.3017 - val_loss: 0.3007\n",
      "Epoch 90/100\n",
      "363/363 [==============================] - 1s 1ms/step - loss: 0.3002 - val_loss: 0.3356\n",
      "Epoch 91/100\n",
      "363/363 [==============================] - 0s 1ms/step - loss: 0.2996 - val_loss: 0.3120\n",
      "Epoch 92/100\n",
      "363/363 [==============================] - 0s 1ms/step - loss: 0.2997 - val_loss: 0.3310\n",
      "Epoch 93/100\n",
      "363/363 [==============================] - 0s 1ms/step - loss: 0.2985 - val_loss: 0.3565\n",
      "Epoch 94/100\n",
      "363/363 [==============================] - 1s 2ms/step - loss: 0.3000 - val_loss: 0.2951\n",
      "Epoch 95/100\n",
      "363/363 [==============================] - 0s 1ms/step - loss: 0.3002 - val_loss: 0.3159\n",
      "Epoch 96/100\n",
      "363/363 [==============================] - 0s 1ms/step - loss: 0.3026 - val_loss: 0.3035\n",
      "Epoch 97/100\n",
      "363/363 [==============================] - 0s 1ms/step - loss: 0.2987 - val_loss: 0.3054\n",
      "Epoch 98/100\n",
      "363/363 [==============================] - 0s 1ms/step - loss: 0.3001 - val_loss: 0.3022\n",
      "Epoch 99/100\n",
      "363/363 [==============================] - 0s 1ms/step - loss: 0.2994 - val_loss: 0.3001\n",
      "Epoch 100/100\n",
      "363/363 [==============================] - 0s 1ms/step - loss: 0.2980 - val_loss: 0.3397\n"
     ]
    },
    {
     "data": {
      "text/html": [
       "<style>#sk-container-id-1 {color: black;background-color: white;}#sk-container-id-1 pre{padding: 0;}#sk-container-id-1 div.sk-toggleable {background-color: white;}#sk-container-id-1 label.sk-toggleable__label {cursor: pointer;display: block;width: 100%;margin-bottom: 0;padding: 0.3em;box-sizing: border-box;text-align: center;}#sk-container-id-1 label.sk-toggleable__label-arrow:before {content: \"▸\";float: left;margin-right: 0.25em;color: #696969;}#sk-container-id-1 label.sk-toggleable__label-arrow:hover:before {color: black;}#sk-container-id-1 div.sk-estimator:hover label.sk-toggleable__label-arrow:before {color: black;}#sk-container-id-1 div.sk-toggleable__content {max-height: 0;max-width: 0;overflow: hidden;text-align: left;background-color: #f0f8ff;}#sk-container-id-1 div.sk-toggleable__content pre {margin: 0.2em;color: black;border-radius: 0.25em;background-color: #f0f8ff;}#sk-container-id-1 input.sk-toggleable__control:checked~div.sk-toggleable__content {max-height: 200px;max-width: 100%;overflow: auto;}#sk-container-id-1 input.sk-toggleable__control:checked~label.sk-toggleable__label-arrow:before {content: \"▾\";}#sk-container-id-1 div.sk-estimator input.sk-toggleable__control:checked~label.sk-toggleable__label {background-color: #d4ebff;}#sk-container-id-1 div.sk-label input.sk-toggleable__control:checked~label.sk-toggleable__label {background-color: #d4ebff;}#sk-container-id-1 input.sk-hidden--visually {border: 0;clip: rect(1px 1px 1px 1px);clip: rect(1px, 1px, 1px, 1px);height: 1px;margin: -1px;overflow: hidden;padding: 0;position: absolute;width: 1px;}#sk-container-id-1 div.sk-estimator {font-family: monospace;background-color: #f0f8ff;border: 1px dotted black;border-radius: 0.25em;box-sizing: border-box;margin-bottom: 0.5em;}#sk-container-id-1 div.sk-estimator:hover {background-color: #d4ebff;}#sk-container-id-1 div.sk-parallel-item::after {content: \"\";width: 100%;border-bottom: 1px solid gray;flex-grow: 1;}#sk-container-id-1 div.sk-label:hover label.sk-toggleable__label {background-color: #d4ebff;}#sk-container-id-1 div.sk-serial::before {content: \"\";position: absolute;border-left: 1px solid gray;box-sizing: border-box;top: 0;bottom: 0;left: 50%;z-index: 0;}#sk-container-id-1 div.sk-serial {display: flex;flex-direction: column;align-items: center;background-color: white;padding-right: 0.2em;padding-left: 0.2em;position: relative;}#sk-container-id-1 div.sk-item {position: relative;z-index: 1;}#sk-container-id-1 div.sk-parallel {display: flex;align-items: stretch;justify-content: center;background-color: white;position: relative;}#sk-container-id-1 div.sk-item::before, #sk-container-id-1 div.sk-parallel-item::before {content: \"\";position: absolute;border-left: 1px solid gray;box-sizing: border-box;top: 0;bottom: 0;left: 50%;z-index: -1;}#sk-container-id-1 div.sk-parallel-item {display: flex;flex-direction: column;z-index: 1;position: relative;background-color: white;}#sk-container-id-1 div.sk-parallel-item:first-child::after {align-self: flex-end;width: 50%;}#sk-container-id-1 div.sk-parallel-item:last-child::after {align-self: flex-start;width: 50%;}#sk-container-id-1 div.sk-parallel-item:only-child::after {width: 0;}#sk-container-id-1 div.sk-dashed-wrapped {border: 1px dashed gray;margin: 0 0.4em 0.5em 0.4em;box-sizing: border-box;padding-bottom: 0.4em;background-color: white;}#sk-container-id-1 div.sk-label label {font-family: monospace;font-weight: bold;display: inline-block;line-height: 1.2em;}#sk-container-id-1 div.sk-label-container {text-align: center;}#sk-container-id-1 div.sk-container {/* jupyter's `normalize.less` sets `[hidden] { display: none; }` but bootstrap.min.css set `[hidden] { display: none !important; }` so we also need the `!important` here to be able to override the default hidden behavior on the sphinx rendered scikit-learn.org. See: https://github.com/scikit-learn/scikit-learn/issues/21755 */display: inline-block !important;position: relative;}#sk-container-id-1 div.sk-text-repr-fallback {display: none;}</style><div id=\"sk-container-id-1\" class=\"sk-top-container\"><div class=\"sk-text-repr-fallback\"><pre>KerasRegressor(\n",
       "\tmodel=&lt;keras.src.engine.sequential.Sequential object at 0x000001A61B0EE170&gt;\n",
       "\tbuild_fn=None\n",
       "\twarm_start=False\n",
       "\trandom_state=None\n",
       "\toptimizer=rmsprop\n",
       "\tloss=None\n",
       "\tmetrics=None\n",
       "\tbatch_size=None\n",
       "\tvalidation_batch_size=None\n",
       "\tverbose=1\n",
       "\tcallbacks=None\n",
       "\tvalidation_split=0.0\n",
       "\tshuffle=True\n",
       "\trun_eagerly=False\n",
       "\tepochs=1\n",
       ")</pre><b>In a Jupyter environment, please rerun this cell to show the HTML representation or trust the notebook. <br />On GitHub, the HTML representation is unable to render, please try loading this page with nbviewer.org.</b></div><div class=\"sk-container\" hidden><div class=\"sk-item\"><div class=\"sk-estimator sk-toggleable\"><input class=\"sk-toggleable__control sk-hidden--visually\" id=\"sk-estimator-id-1\" type=\"checkbox\" checked><label for=\"sk-estimator-id-1\" class=\"sk-toggleable__label sk-toggleable__label-arrow\">KerasRegressor</label><div class=\"sk-toggleable__content\"><pre>KerasRegressor(\n",
       "\tmodel=&lt;keras.src.engine.sequential.Sequential object at 0x000001A61B0EE170&gt;\n",
       "\tbuild_fn=None\n",
       "\twarm_start=False\n",
       "\trandom_state=None\n",
       "\toptimizer=rmsprop\n",
       "\tloss=None\n",
       "\tmetrics=None\n",
       "\tbatch_size=None\n",
       "\tvalidation_batch_size=None\n",
       "\tverbose=1\n",
       "\tcallbacks=None\n",
       "\tvalidation_split=0.0\n",
       "\tshuffle=True\n",
       "\trun_eagerly=False\n",
       "\tepochs=1\n",
       ")</pre></div></div></div></div></div>"
      ],
      "text/plain": [
       "KerasRegressor(\n",
       "\tmodel=<keras.src.engine.sequential.Sequential object at 0x000001A61B0EE170>\n",
       "\tbuild_fn=None\n",
       "\twarm_start=False\n",
       "\trandom_state=None\n",
       "\toptimizer=rmsprop\n",
       "\tloss=None\n",
       "\tmetrics=None\n",
       "\tbatch_size=None\n",
       "\tvalidation_batch_size=None\n",
       "\tverbose=1\n",
       "\tcallbacks=None\n",
       "\tvalidation_split=0.0\n",
       "\tshuffle=True\n",
       "\trun_eagerly=False\n",
       "\tepochs=1\n",
       ")"
      ]
     },
     "execution_count": 112,
     "metadata": {},
     "output_type": "execute_result"
    }
   ],
   "source": [
    "keras_reg.fit(X_train, y_train, epochs=100,\n",
    "              validation_data=(X_valid, y_valid),\n",
    "              callbacks=[keras.callbacks.EarlyStopping(patience=10)])"
   ]
  },
  {
   "cell_type": "code",
   "execution_count": 114,
   "metadata": {},
   "outputs": [
    {
     "ename": "AttributeError",
     "evalue": "'KerasRegressor' object has no attribute 'y_dtype_'",
     "output_type": "error",
     "traceback": [
      "\u001b[1;31m---------------------------------------------------------------------------\u001b[0m",
      "\u001b[1;31mAttributeError\u001b[0m                            Traceback (most recent call last)",
      "\u001b[1;32mc:\\Users\\USER\\Desktop\\Song\\DX school\\python\\DeepLearning\\2.Tensorflow_NN.ipynb 셀 173\u001b[0m line \u001b[0;36m1\n\u001b[1;32m----> <a href='vscode-notebook-cell:/c%3A/Users/USER/Desktop/Song/DX%20school/python/DeepLearning/2.Tensorflow_NN.ipynb#Y334sZmlsZQ%3D%3D?line=0'>1</a>\u001b[0m mse_test \u001b[39m=\u001b[39m keras_reg\u001b[39m.\u001b[39;49mscore(X_test, y_test)\n",
      "File \u001b[1;32mc:\\Users\\USER\\anaconda3\\lib\\site-packages\\scikeras\\wrappers.py:1102\u001b[0m, in \u001b[0;36mBaseWrapper.score\u001b[1;34m(self, X, y, sample_weight)\u001b[0m\n\u001b[0;32m   1079\u001b[0m \u001b[39m\"\"\"Returns the score on the given test data and labels.\u001b[39;00m\n\u001b[0;32m   1080\u001b[0m \n\u001b[0;32m   1081\u001b[0m \u001b[39mNo default scoring function is implemented in BaseWrapper,\u001b[39;00m\n\u001b[1;32m   (...)\u001b[0m\n\u001b[0;32m   1099\u001b[0m \u001b[39m    Score for the test data set.\u001b[39;00m\n\u001b[0;32m   1100\u001b[0m \u001b[39m\"\"\"\u001b[39;00m\n\u001b[0;32m   1101\u001b[0m \u001b[39m# validate y\u001b[39;00m\n\u001b[1;32m-> 1102\u001b[0m _, y \u001b[39m=\u001b[39m \u001b[39mself\u001b[39;49m\u001b[39m.\u001b[39;49m_validate_data(X\u001b[39m=\u001b[39;49m\u001b[39mNone\u001b[39;49;00m, y\u001b[39m=\u001b[39;49my)\n\u001b[0;32m   1104\u001b[0m \u001b[39m# validate sample weights\u001b[39;00m\n\u001b[0;32m   1105\u001b[0m \u001b[39mif\u001b[39;00m sample_weight \u001b[39mis\u001b[39;00m \u001b[39mnot\u001b[39;00m \u001b[39mNone\u001b[39;00m:\n",
      "File \u001b[1;32mc:\\Users\\USER\\anaconda3\\lib\\site-packages\\scikeras\\wrappers.py:1723\u001b[0m, in \u001b[0;36mKerasRegressor._validate_data\u001b[1;34m(self, X, y, reset, y_numeric)\u001b[0m\n\u001b[0;32m   1716\u001b[0m \u001b[39mdef\u001b[39;00m \u001b[39m_validate_data\u001b[39m(\n\u001b[0;32m   1717\u001b[0m     \u001b[39mself\u001b[39m, X\u001b[39m=\u001b[39m\u001b[39mNone\u001b[39;00m, y\u001b[39m=\u001b[39m\u001b[39mNone\u001b[39;00m, reset: \u001b[39mbool\u001b[39m \u001b[39m=\u001b[39m \u001b[39mFalse\u001b[39;00m, y_numeric: \u001b[39mbool\u001b[39m \u001b[39m=\u001b[39m \u001b[39mFalse\u001b[39;00m\n\u001b[0;32m   1718\u001b[0m ) \u001b[39m-\u001b[39m\u001b[39m>\u001b[39m Tuple[np\u001b[39m.\u001b[39mndarray, Union[np\u001b[39m.\u001b[39mndarray, \u001b[39mNone\u001b[39;00m]]:\n\u001b[1;32m   (...)\u001b[0m\n\u001b[0;32m   1721\u001b[0m     \u001b[39m# when calling `_validate_data` which will force casting to numeric for\u001b[39;00m\n\u001b[0;32m   1722\u001b[0m     \u001b[39m# non-numeric data.\u001b[39;00m\n\u001b[1;32m-> 1723\u001b[0m     \u001b[39mreturn\u001b[39;00m \u001b[39msuper\u001b[39;49m()\u001b[39m.\u001b[39;49m_validate_data(X\u001b[39m=\u001b[39;49mX, y\u001b[39m=\u001b[39;49my, reset\u001b[39m=\u001b[39;49mreset, y_numeric\u001b[39m=\u001b[39;49m\u001b[39mTrue\u001b[39;49;00m)\n",
      "File \u001b[1;32mc:\\Users\\USER\\anaconda3\\lib\\site-packages\\scikeras\\wrappers.py:639\u001b[0m, in \u001b[0;36mBaseWrapper._validate_data\u001b[1;34m(self, X, y, reset, y_numeric)\u001b[0m\n\u001b[0;32m    637\u001b[0m     \u001b[39mself\u001b[39m\u001b[39m.\u001b[39my_ndim_ \u001b[39m=\u001b[39m y_ndim_\n\u001b[0;32m    638\u001b[0m \u001b[39melse\u001b[39;00m:\n\u001b[1;32m--> 639\u001b[0m     \u001b[39mif\u001b[39;00m \u001b[39mnot\u001b[39;00m np\u001b[39m.\u001b[39mcan_cast(y_dtype_, \u001b[39mself\u001b[39;49m\u001b[39m.\u001b[39;49my_dtype_):\n\u001b[0;32m    640\u001b[0m         \u001b[39mraise\u001b[39;00m \u001b[39mValueError\u001b[39;00m(\n\u001b[0;32m    641\u001b[0m             \u001b[39mf\u001b[39m\u001b[39m\"\u001b[39m\u001b[39mGot y with dtype \u001b[39m\u001b[39m{\u001b[39;00my_dtype_\u001b[39m}\u001b[39;00m\u001b[39m,\u001b[39m\u001b[39m\"\u001b[39m\n\u001b[0;32m    642\u001b[0m             \u001b[39mf\u001b[39m\u001b[39m\"\u001b[39m\u001b[39m but this \u001b[39m\u001b[39m{\u001b[39;00m\u001b[39mself\u001b[39m\u001b[39m.\u001b[39m\u001b[39m__name__\u001b[39m\u001b[39m}\u001b[39;00m\u001b[39m expected \u001b[39m\u001b[39m{\u001b[39;00m\u001b[39mself\u001b[39m\u001b[39m.\u001b[39my_dtype_\u001b[39m}\u001b[39;00m\u001b[39m\"\u001b[39m\n\u001b[0;32m    643\u001b[0m             \u001b[39mf\u001b[39m\u001b[39m\"\u001b[39m\u001b[39m and casting from \u001b[39m\u001b[39m{\u001b[39;00my_dtype_\u001b[39m}\u001b[39;00m\u001b[39m to \u001b[39m\u001b[39m{\u001b[39;00m\u001b[39mself\u001b[39m\u001b[39m.\u001b[39my_dtype_\u001b[39m}\u001b[39;00m\u001b[39m is not safe!\u001b[39m\u001b[39m\"\u001b[39m\n\u001b[0;32m    644\u001b[0m         )\n\u001b[0;32m    645\u001b[0m     \u001b[39mif\u001b[39;00m \u001b[39mself\u001b[39m\u001b[39m.\u001b[39my_ndim_ \u001b[39m!=\u001b[39m y_ndim_:\n",
      "\u001b[1;31mAttributeError\u001b[0m: 'KerasRegressor' object has no attribute 'y_dtype_'"
     ]
    }
   ],
   "source": [
    "mse_test = keras_reg.score(X_test, y_test)"
   ]
  },
  {
   "cell_type": "code",
   "execution_count": 115,
   "metadata": {},
   "outputs": [
    {
     "ename": "NotFittedError",
     "evalue": "Estimator needs to be fit before `predict` can be called",
     "output_type": "error",
     "traceback": [
      "\u001b[1;31m---------------------------------------------------------------------------\u001b[0m",
      "\u001b[1;31mNotFittedError\u001b[0m                            Traceback (most recent call last)",
      "\u001b[1;32mc:\\Users\\USER\\Desktop\\Song\\DX school\\python\\DeepLearning\\2.Tensorflow_NN.ipynb 셀 174\u001b[0m line \u001b[0;36m1\n\u001b[1;32m----> <a href='vscode-notebook-cell:/c%3A/Users/USER/Desktop/Song/DX%20school/python/DeepLearning/2.Tensorflow_NN.ipynb#Y335sZmlsZQ%3D%3D?line=0'>1</a>\u001b[0m y_pred \u001b[39m=\u001b[39m keras_reg\u001b[39m.\u001b[39;49mpredict(X_new)\n",
      "File \u001b[1;32mc:\\Users\\USER\\anaconda3\\lib\\site-packages\\scikeras\\wrappers.py:1048\u001b[0m, in \u001b[0;36mBaseWrapper.predict\u001b[1;34m(self, X, **kwargs)\u001b[0m\n\u001b[0;32m   1024\u001b[0m \u001b[39m\"\"\"Returns predictions for the given test data.\u001b[39;00m\n\u001b[0;32m   1025\u001b[0m \n\u001b[0;32m   1026\u001b[0m \u001b[39mParameters\u001b[39;00m\n\u001b[1;32m   (...)\u001b[0m\n\u001b[0;32m   1045\u001b[0m \u001b[39m    Predictions, of shape shape (n_samples,) or (n_samples, n_outputs).\u001b[39;00m\n\u001b[0;32m   1046\u001b[0m \u001b[39m\"\"\"\u001b[39;00m\n\u001b[0;32m   1047\u001b[0m \u001b[39m# predict with Keras model\u001b[39;00m\n\u001b[1;32m-> 1048\u001b[0m y_pred \u001b[39m=\u001b[39m \u001b[39mself\u001b[39m\u001b[39m.\u001b[39m_predict_raw(X\u001b[39m=\u001b[39mX, \u001b[39m*\u001b[39m\u001b[39m*\u001b[39mkwargs)\n\u001b[0;32m   1050\u001b[0m \u001b[39m# post process y\u001b[39;00m\n\u001b[0;32m   1051\u001b[0m y_pred \u001b[39m=\u001b[39m \u001b[39mself\u001b[39m\u001b[39m.\u001b[39mtarget_encoder_\u001b[39m.\u001b[39minverse_transform(y_pred)\n",
      "File \u001b[1;32mc:\\Users\\USER\\anaconda3\\lib\\site-packages\\scikeras\\wrappers.py:990\u001b[0m, in \u001b[0;36mBaseWrapper._predict_raw\u001b[1;34m(self, X, **kwargs)\u001b[0m\n\u001b[0;32m    988\u001b[0m \u001b[39m# check if fitted\u001b[39;00m\n\u001b[0;32m    989\u001b[0m \u001b[39mif\u001b[39;00m \u001b[39mnot\u001b[39;00m \u001b[39mself\u001b[39m\u001b[39m.\u001b[39minitialized_:\n\u001b[1;32m--> 990\u001b[0m     \u001b[39mraise\u001b[39;00m NotFittedError(\n\u001b[0;32m    991\u001b[0m         \u001b[39m\"\u001b[39m\u001b[39mEstimator needs to be fit before `predict` \u001b[39m\u001b[39m\"\u001b[39m \u001b[39m\"\u001b[39m\u001b[39mcan be called\u001b[39m\u001b[39m\"\u001b[39m\n\u001b[0;32m    992\u001b[0m     )\n\u001b[0;32m    993\u001b[0m \u001b[39m# basic input checks\u001b[39;00m\n\u001b[0;32m    994\u001b[0m X, _ \u001b[39m=\u001b[39m \u001b[39mself\u001b[39m\u001b[39m.\u001b[39m_validate_data(X\u001b[39m=\u001b[39mX, y\u001b[39m=\u001b[39m\u001b[39mNone\u001b[39;00m)\n",
      "\u001b[1;31mNotFittedError\u001b[0m: Estimator needs to be fit before `predict` can be called"
     ]
    }
   ],
   "source": [
    "y_pred = keras_reg.predict(X_new)"
   ]
  },
  {
   "cell_type": "markdown",
   "metadata": {},
   "source": [
    "### 하이퍼 파라미터 튜닝"
   ]
  },
  {
   "cell_type": "code",
   "execution_count": 116,
   "metadata": {},
   "outputs": [
    {
     "name": "stdout",
     "output_type": "stream",
     "text": [
      "INFO:tensorflow:Assets written to: C:\\Users\\USER\\AppData\\Local\\Temp\\tmpqt7h039j\\assets\n"
     ]
    },
    {
     "name": "stderr",
     "output_type": "stream",
     "text": [
      "INFO:tensorflow:Assets written to: C:\\Users\\USER\\AppData\\Local\\Temp\\tmpqt7h039j\\assets\n"
     ]
    },
    {
     "ename": "OpError",
     "evalue": "",
     "output_type": "error",
     "traceback": [
      "\u001b[1;31m---------------------------------------------------------------------------\u001b[0m",
      "\u001b[1;31mOpError\u001b[0m                                   Traceback (most recent call last)",
      "\u001b[1;32mc:\\Users\\USER\\Desktop\\Song\\DX school\\python\\DeepLearning\\2.Tensorflow_NN.ipynb 셀 176\u001b[0m line \u001b[0;36m1\n\u001b[0;32m      <a href='vscode-notebook-cell:/c%3A/Users/USER/Desktop/Song/DX%20school/python/DeepLearning/2.Tensorflow_NN.ipynb#Y340sZmlsZQ%3D%3D?line=6'>7</a>\u001b[0m param_distribs \u001b[39m=\u001b[39m {\n\u001b[0;32m      <a href='vscode-notebook-cell:/c%3A/Users/USER/Desktop/Song/DX%20school/python/DeepLearning/2.Tensorflow_NN.ipynb#Y340sZmlsZQ%3D%3D?line=7'>8</a>\u001b[0m     \u001b[39m\"\u001b[39m\u001b[39mn_hidden\u001b[39m\u001b[39m\"\u001b[39m: [\u001b[39m0\u001b[39m, \u001b[39m1\u001b[39m, \u001b[39m2\u001b[39m, \u001b[39m3\u001b[39m],\n\u001b[0;32m      <a href='vscode-notebook-cell:/c%3A/Users/USER/Desktop/Song/DX%20school/python/DeepLearning/2.Tensorflow_NN.ipynb#Y340sZmlsZQ%3D%3D?line=8'>9</a>\u001b[0m     \u001b[39m\"\u001b[39m\u001b[39mn_neurons\u001b[39m\u001b[39m\"\u001b[39m: np\u001b[39m.\u001b[39marange(\u001b[39m1\u001b[39m, \u001b[39m100\u001b[39m)\u001b[39m.\u001b[39mtolist(),\n\u001b[0;32m     <a href='vscode-notebook-cell:/c%3A/Users/USER/Desktop/Song/DX%20school/python/DeepLearning/2.Tensorflow_NN.ipynb#Y340sZmlsZQ%3D%3D?line=9'>10</a>\u001b[0m     \u001b[39m\"\u001b[39m\u001b[39mlearning_rate\u001b[39m\u001b[39m\"\u001b[39m: reciprocal(\u001b[39m3e-4\u001b[39m, \u001b[39m3e-2\u001b[39m)\u001b[39m.\u001b[39mrvs(\u001b[39m1000\u001b[39m)\u001b[39m.\u001b[39mtolist(),\n\u001b[0;32m     <a href='vscode-notebook-cell:/c%3A/Users/USER/Desktop/Song/DX%20school/python/DeepLearning/2.Tensorflow_NN.ipynb#Y340sZmlsZQ%3D%3D?line=10'>11</a>\u001b[0m }\n\u001b[0;32m     <a href='vscode-notebook-cell:/c%3A/Users/USER/Desktop/Song/DX%20school/python/DeepLearning/2.Tensorflow_NN.ipynb#Y340sZmlsZQ%3D%3D?line=12'>13</a>\u001b[0m rnd_search_cv \u001b[39m=\u001b[39m RandomizedSearchCV(keras_reg, param_distribs, n_iter\u001b[39m=\u001b[39m\u001b[39m10\u001b[39m, cv\u001b[39m=\u001b[39m\u001b[39m3\u001b[39m, verbose\u001b[39m=\u001b[39m\u001b[39m2\u001b[39m)\n\u001b[1;32m---> <a href='vscode-notebook-cell:/c%3A/Users/USER/Desktop/Song/DX%20school/python/DeepLearning/2.Tensorflow_NN.ipynb#Y340sZmlsZQ%3D%3D?line=13'>14</a>\u001b[0m rnd_search_cv\u001b[39m.\u001b[39;49mfit(X_train, y_train, epochs\u001b[39m=\u001b[39;49m\u001b[39m100\u001b[39;49m,\n\u001b[0;32m     <a href='vscode-notebook-cell:/c%3A/Users/USER/Desktop/Song/DX%20school/python/DeepLearning/2.Tensorflow_NN.ipynb#Y340sZmlsZQ%3D%3D?line=14'>15</a>\u001b[0m                   validation_data\u001b[39m=\u001b[39;49m(X_valid, y_valid),\n\u001b[0;32m     <a href='vscode-notebook-cell:/c%3A/Users/USER/Desktop/Song/DX%20school/python/DeepLearning/2.Tensorflow_NN.ipynb#Y340sZmlsZQ%3D%3D?line=15'>16</a>\u001b[0m                   callbacks\u001b[39m=\u001b[39;49m[keras\u001b[39m.\u001b[39;49mcallbacks\u001b[39m.\u001b[39;49mEarlyStopping(patience\u001b[39m=\u001b[39;49m\u001b[39m10\u001b[39;49m)])\n",
      "File \u001b[1;32mc:\\Users\\USER\\anaconda3\\lib\\site-packages\\sklearn\\model_selection\\_search.py:788\u001b[0m, in \u001b[0;36mBaseSearchCV.fit\u001b[1;34m(self, X, y, groups, **fit_params)\u001b[0m\n\u001b[0;32m    785\u001b[0m cv_orig \u001b[39m=\u001b[39m check_cv(\u001b[39mself\u001b[39m\u001b[39m.\u001b[39mcv, y, classifier\u001b[39m=\u001b[39mis_classifier(estimator))\n\u001b[0;32m    786\u001b[0m n_splits \u001b[39m=\u001b[39m cv_orig\u001b[39m.\u001b[39mget_n_splits(X, y, groups)\n\u001b[1;32m--> 788\u001b[0m base_estimator \u001b[39m=\u001b[39m clone(\u001b[39mself\u001b[39;49m\u001b[39m.\u001b[39;49mestimator)\n\u001b[0;32m    790\u001b[0m parallel \u001b[39m=\u001b[39m Parallel(n_jobs\u001b[39m=\u001b[39m\u001b[39mself\u001b[39m\u001b[39m.\u001b[39mn_jobs, pre_dispatch\u001b[39m=\u001b[39m\u001b[39mself\u001b[39m\u001b[39m.\u001b[39mpre_dispatch)\n\u001b[0;32m    792\u001b[0m fit_and_score_kwargs \u001b[39m=\u001b[39m \u001b[39mdict\u001b[39m(\n\u001b[0;32m    793\u001b[0m     scorer\u001b[39m=\u001b[39mscorers,\n\u001b[0;32m    794\u001b[0m     fit_params\u001b[39m=\u001b[39mfit_params,\n\u001b[1;32m   (...)\u001b[0m\n\u001b[0;32m    800\u001b[0m     verbose\u001b[39m=\u001b[39m\u001b[39mself\u001b[39m\u001b[39m.\u001b[39mverbose,\n\u001b[0;32m    801\u001b[0m )\n",
      "File \u001b[1;32mc:\\Users\\USER\\anaconda3\\lib\\site-packages\\sklearn\\base.py:89\u001b[0m, in \u001b[0;36mclone\u001b[1;34m(estimator, safe)\u001b[0m\n\u001b[0;32m     87\u001b[0m new_object_params \u001b[39m=\u001b[39m estimator\u001b[39m.\u001b[39mget_params(deep\u001b[39m=\u001b[39m\u001b[39mFalse\u001b[39;00m)\n\u001b[0;32m     88\u001b[0m \u001b[39mfor\u001b[39;00m name, param \u001b[39min\u001b[39;00m new_object_params\u001b[39m.\u001b[39mitems():\n\u001b[1;32m---> 89\u001b[0m     new_object_params[name] \u001b[39m=\u001b[39m clone(param, safe\u001b[39m=\u001b[39;49m\u001b[39mFalse\u001b[39;49;00m)\n\u001b[0;32m     90\u001b[0m new_object \u001b[39m=\u001b[39m klass(\u001b[39m*\u001b[39m\u001b[39m*\u001b[39mnew_object_params)\n\u001b[0;32m     91\u001b[0m params_set \u001b[39m=\u001b[39m new_object\u001b[39m.\u001b[39mget_params(deep\u001b[39m=\u001b[39m\u001b[39mFalse\u001b[39;00m)\n",
      "File \u001b[1;32mc:\\Users\\USER\\anaconda3\\lib\\site-packages\\sklearn\\base.py:70\u001b[0m, in \u001b[0;36mclone\u001b[1;34m(estimator, safe)\u001b[0m\n\u001b[0;32m     68\u001b[0m \u001b[39melif\u001b[39;00m \u001b[39mnot\u001b[39;00m \u001b[39mhasattr\u001b[39m(estimator, \u001b[39m\"\u001b[39m\u001b[39mget_params\u001b[39m\u001b[39m\"\u001b[39m) \u001b[39mor\u001b[39;00m \u001b[39misinstance\u001b[39m(estimator, \u001b[39mtype\u001b[39m):\n\u001b[0;32m     69\u001b[0m     \u001b[39mif\u001b[39;00m \u001b[39mnot\u001b[39;00m safe:\n\u001b[1;32m---> 70\u001b[0m         \u001b[39mreturn\u001b[39;00m copy\u001b[39m.\u001b[39;49mdeepcopy(estimator)\n\u001b[0;32m     71\u001b[0m     \u001b[39melse\u001b[39;00m:\n\u001b[0;32m     72\u001b[0m         \u001b[39mif\u001b[39;00m \u001b[39misinstance\u001b[39m(estimator, \u001b[39mtype\u001b[39m):\n",
      "File \u001b[1;32mc:\\Users\\USER\\anaconda3\\lib\\copy.py:153\u001b[0m, in \u001b[0;36mdeepcopy\u001b[1;34m(x, memo, _nil)\u001b[0m\n\u001b[0;32m    151\u001b[0m copier \u001b[39m=\u001b[39m \u001b[39mgetattr\u001b[39m(x, \u001b[39m\"\u001b[39m\u001b[39m__deepcopy__\u001b[39m\u001b[39m\"\u001b[39m, \u001b[39mNone\u001b[39;00m)\n\u001b[0;32m    152\u001b[0m \u001b[39mif\u001b[39;00m copier \u001b[39mis\u001b[39;00m \u001b[39mnot\u001b[39;00m \u001b[39mNone\u001b[39;00m:\n\u001b[1;32m--> 153\u001b[0m     y \u001b[39m=\u001b[39m copier(memo)\n\u001b[0;32m    154\u001b[0m \u001b[39melse\u001b[39;00m:\n\u001b[0;32m    155\u001b[0m     reductor \u001b[39m=\u001b[39m dispatch_table\u001b[39m.\u001b[39mget(\u001b[39mcls\u001b[39m)\n",
      "File \u001b[1;32mc:\\Users\\USER\\anaconda3\\lib\\site-packages\\scikeras\\_saving_utils.py:81\u001b[0m, in \u001b[0;36mdeepcopy_model\u001b[1;34m(model, memo)\u001b[0m\n\u001b[0;32m     79\u001b[0m \u001b[39mdef\u001b[39;00m \u001b[39mdeepcopy_model\u001b[39m(model: keras\u001b[39m.\u001b[39mModel, memo: Dict[Hashable, Any]) \u001b[39m-\u001b[39m\u001b[39m>\u001b[39m keras\u001b[39m.\u001b[39mModel:\n\u001b[0;32m     80\u001b[0m     _, (model_bytes,) \u001b[39m=\u001b[39m pack_keras_model(model)\n\u001b[1;32m---> 81\u001b[0m     new_model \u001b[39m=\u001b[39m unpack_keras_model(model_bytes)\n\u001b[0;32m     82\u001b[0m     memo[model] \u001b[39m=\u001b[39m new_model\n\u001b[0;32m     83\u001b[0m     \u001b[39mreturn\u001b[39;00m new_model\n",
      "File \u001b[1;32mc:\\Users\\USER\\anaconda3\\lib\\site-packages\\scikeras\\_saving_utils.py:50\u001b[0m, in \u001b[0;36munpack_keras_model\u001b[1;34m(packed_keras_model)\u001b[0m\n\u001b[0;32m     48\u001b[0m             f\u001b[39m.\u001b[39mwrite(archive\u001b[39m.\u001b[39mextractfile(fname)\u001b[39m.\u001b[39mread())\n\u001b[0;32m     49\u001b[0m model: keras\u001b[39m.\u001b[39mModel \u001b[39m=\u001b[39m load_model(temp_dir)\n\u001b[1;32m---> 50\u001b[0m model\u001b[39m.\u001b[39;49mload_weights(temp_dir)\n\u001b[0;32m     51\u001b[0m model\u001b[39m.\u001b[39moptimizer\u001b[39m.\u001b[39mbuild(model\u001b[39m.\u001b[39mtrainable_variables)\n\u001b[0;32m     52\u001b[0m \u001b[39mreturn\u001b[39;00m model\n",
      "File \u001b[1;32mc:\\Users\\USER\\anaconda3\\lib\\site-packages\\keras\\src\\utils\\traceback_utils.py:70\u001b[0m, in \u001b[0;36mfilter_traceback.<locals>.error_handler\u001b[1;34m(*args, **kwargs)\u001b[0m\n\u001b[0;32m     67\u001b[0m     filtered_tb \u001b[39m=\u001b[39m _process_traceback_frames(e\u001b[39m.\u001b[39m__traceback__)\n\u001b[0;32m     68\u001b[0m     \u001b[39m# To get the full stack trace, call:\u001b[39;00m\n\u001b[0;32m     69\u001b[0m     \u001b[39m# `tf.debugging.disable_traceback_filtering()`\u001b[39;00m\n\u001b[1;32m---> 70\u001b[0m     \u001b[39mraise\u001b[39;00m e\u001b[39m.\u001b[39mwith_traceback(filtered_tb) \u001b[39mfrom\u001b[39;00m \u001b[39mNone\u001b[39m\n\u001b[0;32m     71\u001b[0m \u001b[39mfinally\u001b[39;00m:\n\u001b[0;32m     72\u001b[0m     \u001b[39mdel\u001b[39;00m filtered_tb\n",
      "File \u001b[1;32mc:\\Users\\USER\\anaconda3\\lib\\site-packages\\tensorflow\\python\\training\\py_checkpoint_reader.py:45\u001b[0m, in \u001b[0;36merror_translator\u001b[1;34m(e)\u001b[0m\n\u001b[0;32m     43\u001b[0m   \u001b[39mraise\u001b[39;00m errors_impl\u001b[39m.\u001b[39mInternalError(\u001b[39mNone\u001b[39;00m, \u001b[39mNone\u001b[39;00m, error_message)\n\u001b[0;32m     44\u001b[0m \u001b[39melse\u001b[39;00m:\n\u001b[1;32m---> 45\u001b[0m   \u001b[39mraise\u001b[39;00m errors_impl\u001b[39m.\u001b[39mOpError(\u001b[39mNone\u001b[39;00m, \u001b[39mNone\u001b[39;00m, error_message, errors_impl\u001b[39m.\u001b[39mUNKNOWN)\n",
      "\u001b[1;31mOpError\u001b[0m: "
     ]
    }
   ],
   "source": [
    "np.random.seed(42)\n",
    "tf.random.set_seed(42)\n",
    "\n",
    "from scipy.stats import reciprocal\n",
    "from sklearn.model_selection import RandomizedSearchCV\n",
    "\n",
    "param_distribs = {\n",
    "    \"n_hidden\": [0, 1, 2, 3],\n",
    "    \"n_neurons\": np.arange(1, 100).tolist(),\n",
    "    \"learning_rate\": reciprocal(3e-4, 3e-2).rvs(1000).tolist(),\n",
    "}\n",
    "\n",
    "rnd_search_cv = RandomizedSearchCV(keras_reg, param_distribs, n_iter=10, cv=3, verbose=2)\n",
    "rnd_search_cv.fit(X_train, y_train, epochs=100,\n",
    "                  validation_data=(X_valid, y_valid),\n",
    "                  callbacks=[keras.callbacks.EarlyStopping(patience=10)])"
   ]
  },
  {
   "cell_type": "code",
   "execution_count": 208,
   "metadata": {},
   "outputs": [
    {
     "data": {
      "text/plain": [
       "{'n_neurons': 74, 'n_hidden': 3, 'learning_rate': 0.005803602934201024}"
      ]
     },
     "execution_count": 208,
     "metadata": {},
     "output_type": "execute_result"
    }
   ],
   "source": [
    "rnd_search_cv.best_params_"
   ]
  },
  {
   "cell_type": "code",
   "execution_count": 209,
   "metadata": {},
   "outputs": [
    {
     "data": {
      "text/plain": [
       "-0.31833014885584515"
      ]
     },
     "execution_count": 209,
     "metadata": {},
     "output_type": "execute_result"
    }
   ],
   "source": [
    "rnd_search_cv.best_score_"
   ]
  },
  {
   "cell_type": "code",
   "execution_count": 210,
   "metadata": {},
   "outputs": [
    {
     "data": {
      "text/plain": [
       "<keras.wrappers.scikit_learn.KerasRegressor at 0x7f8d2f698c40>"
      ]
     },
     "execution_count": 210,
     "metadata": {},
     "output_type": "execute_result"
    }
   ],
   "source": [
    "rnd_search_cv.best_estimator_"
   ]
  },
  {
   "cell_type": "code",
   "execution_count": 211,
   "metadata": {},
   "outputs": [
    {
     "name": "stdout",
     "output_type": "stream",
     "text": [
      "162/162 [==============================] - 0s 849us/step - loss: 0.3029\n"
     ]
    },
    {
     "data": {
      "text/plain": [
       "-0.30288204550743103"
      ]
     },
     "execution_count": 211,
     "metadata": {},
     "output_type": "execute_result"
    }
   ],
   "source": [
    "rnd_search_cv.score(X_test, y_test)"
   ]
  },
  {
   "cell_type": "code",
   "execution_count": 212,
   "metadata": {},
   "outputs": [
    {
     "data": {
      "text/plain": [
       "<keras.engine.sequential.Sequential at 0x7f8d2f718190>"
      ]
     },
     "execution_count": 212,
     "metadata": {},
     "output_type": "execute_result"
    }
   ],
   "source": [
    "model = rnd_search_cv.best_estimator_.model\n",
    "model"
   ]
  },
  {
   "cell_type": "code",
   "execution_count": 213,
   "metadata": {},
   "outputs": [
    {
     "name": "stdout",
     "output_type": "stream",
     "text": [
      "162/162 [==============================] - 0s 666us/step - loss: 0.3029\n"
     ]
    },
    {
     "data": {
      "text/plain": [
       "0.30288204550743103"
      ]
     },
     "execution_count": 213,
     "metadata": {},
     "output_type": "execute_result"
    }
   ],
   "source": [
    "model.evaluate(X_test, y_test)"
   ]
  },
  {
   "cell_type": "code",
   "execution_count": null,
   "metadata": {},
   "outputs": [],
   "source": []
  },
  {
   "cell_type": "markdown",
   "metadata": {},
   "source": [
    "## 그라디언트 소실과 폭주 문제"
   ]
  },
  {
   "cell_type": "markdown",
   "metadata": {},
   "source": [
    "### 로지스틱 함수의 수렴"
   ]
  },
  {
   "cell_type": "code",
   "execution_count": 214,
   "metadata": {},
   "outputs": [],
   "source": [
    "def logit(z):\n",
    "    return 1 / (1 + np.exp(-z))"
   ]
  },
  {
   "cell_type": "code",
   "execution_count": 215,
   "metadata": {},
   "outputs": [
    {
     "name": "stdout",
     "output_type": "stream",
     "text": [
      "그림 저장: sigmoid_saturation_plot\n"
     ]
    },
    {
     "data": {
      "image/png": "[encoded data removed]",
      "text/plain": [
       "<Figure size 432x288 with 1 Axes>"
      ]
     },
     "metadata": {
      "needs_background": "light"
     },
     "output_type": "display_data"
    }
   ],
   "source": [
    "z = np.linspace(-5, 5, 200)\n",
    "\n",
    "plt.plot([-5, 5], [0, 0], 'k-')\n",
    "plt.plot([-5, 5], [1, 1], 'k--')\n",
    "plt.plot([0, 0], [-0.2, 1.2], 'k-')\n",
    "plt.plot([-5, 5], [-3/4, 7/4], 'g--')\n",
    "plt.plot(z, logit(z), \"b-\", linewidth=2)\n",
    "props = dict(facecolor='black', shrink=0.1)\n",
    "plt.annotate('Saturating', xytext=(3.5, 0.7), xy=(5, 1), arrowprops=props, fontsize=14, ha=\"center\")\n",
    "plt.annotate('Saturating', xytext=(-3.5, 0.3), xy=(-5, 0), arrowprops=props, fontsize=14, ha=\"center\")\n",
    "plt.annotate('Linear', xytext=(2, 0.2), xy=(0, 0.5), arrowprops=props, fontsize=14, ha=\"center\")\n",
    "plt.grid(True)\n",
    "plt.title(\"Sigmoid activation function\", fontsize=14)\n",
    "plt.axis([-5, 5, -0.2, 1.2])\n",
    "\n",
    "save_fig(\"sigmoid_saturation_plot\")\n",
    "plt.show()"
   ]
  },
  {
   "cell_type": "code",
   "execution_count": null,
   "metadata": {},
   "outputs": [],
   "source": []
  },
  {
   "cell_type": "markdown",
   "metadata": {},
   "source": [
    "### 글로럿 과 He 초기화"
   ]
  },
  {
   "cell_type": "code",
   "execution_count": 216,
   "metadata": {},
   "outputs": [
    {
     "data": {
      "text/plain": [
       "<keras.layers.core.dense.Dense at 0x7f8d2f7129d0>"
      ]
     },
     "execution_count": 216,
     "metadata": {},
     "output_type": "execute_result"
    }
   ],
   "source": [
    "#모든 초기화 방식을 확인\n",
    "[name for name in dir(keras.initializers) if not name.startswith(\"_\")]\n",
    "\n",
    "#글로럿 초기화\n",
    "keras.layers.Dense(10, activation=\"relu\", kernel_initializer=\"he_normal\")\n",
    "\n",
    "\n",
    "#균등분포 He 초기화\n",
    "init = keras.initializers.VarianceScaling(scale=2., mode='fan_avg',\n",
    "                                          distribution='uniform')\n",
    "keras.layers.Dense(10, activation=\"relu\", kernel_initializer=init)"
   ]
  },
  {
   "cell_type": "code",
   "execution_count": null,
   "metadata": {},
   "outputs": [],
   "source": []
  },
  {
   "cell_type": "markdown",
   "metadata": {},
   "source": [
    "### 활성화 함수"
   ]
  },
  {
   "cell_type": "markdown",
   "metadata": {},
   "source": [
    "#### LeakyReLU"
   ]
  },
  {
   "cell_type": "code",
   "execution_count": 217,
   "metadata": {},
   "outputs": [
    {
     "name": "stdout",
     "output_type": "stream",
     "text": [
      "그림 저장: leaky_relu_plot\n"
     ]
    },
    {
     "data": {
      "image/png": "[encoded data removed]",
      "text/plain": [
       "<Figure size 432x288 with 1 Axes>"
      ]
     },
     "metadata": {
      "needs_background": "light"
     },
     "output_type": "display_data"
    }
   ],
   "source": [
    "def leaky_relu(z, alpha=0.01):\n",
    "    return np.maximum(alpha*z, z)\n",
    "\n",
    "plt.plot(z, leaky_relu(z, 0.05), \"b-\", linewidth=2)\n",
    "plt.plot([-5, 5], [0, 0], 'k-')\n",
    "plt.plot([0, 0], [-0.5, 4.2], 'k-')\n",
    "plt.grid(True)\n",
    "props = dict(facecolor='black', shrink=0.1)\n",
    "plt.annotate('Leak', xytext=(-3.5, 0.5), xy=(-5, -0.2), arrowprops=props, fontsize=14, ha=\"center\")\n",
    "plt.title(\"Leaky ReLU activation function\", fontsize=14)\n",
    "plt.axis([-5, 5, -0.5, 4.2])\n",
    "\n",
    "save_fig(\"leaky_relu_plot\")\n",
    "plt.show()"
   ]
  },
  {
   "cell_type": "code",
   "execution_count": 218,
   "metadata": {},
   "outputs": [
    {
     "data": {
      "text/plain": [
       "['deserialize',\n",
       " 'elu',\n",
       " 'exponential',\n",
       " 'gelu',\n",
       " 'get',\n",
       " 'hard_sigmoid',\n",
       " 'linear',\n",
       " 'relu',\n",
       " 'selu',\n",
       " 'serialize',\n",
       " 'sigmoid',\n",
       " 'softmax',\n",
       " 'softplus',\n",
       " 'softsign',\n",
       " 'swish',\n",
       " 'tanh']"
      ]
     },
     "execution_count": 218,
     "metadata": {},
     "output_type": "execute_result"
    }
   ],
   "source": [
    "[m for m in dir(keras.activations) if not m.startswith(\"_\")]"
   ]
  },
  {
   "cell_type": "code",
   "execution_count": null,
   "metadata": {},
   "outputs": [],
   "source": []
  },
  {
   "cell_type": "markdown",
   "metadata": {},
   "source": [
    "#### LeakyReLU를 사용해 패션 MNIST에서 신경망을 훈련"
   ]
  },
  {
   "cell_type": "code",
   "execution_count": 219,
   "metadata": {},
   "outputs": [
    {
     "name": "stdout",
     "output_type": "stream",
     "text": [
      "Epoch 1/10\n",
      "1719/1719 [==============================] - 3s 2ms/step - loss: 1.2819 - accuracy: 0.6229 - val_loss: 0.8886 - val_accuracy: 0.7160\n",
      "Epoch 2/10\n",
      "1719/1719 [==============================] - 3s 2ms/step - loss: 0.7955 - accuracy: 0.7362 - val_loss: 0.7130 - val_accuracy: 0.7656\n",
      "Epoch 3/10\n",
      "1719/1719 [==============================] - 3s 2ms/step - loss: 0.6816 - accuracy: 0.7721 - val_loss: 0.6427 - val_accuracy: 0.7898\n",
      "Epoch 4/10\n",
      "1719/1719 [==============================] - 3s 2ms/step - loss: 0.6217 - accuracy: 0.7944 - val_loss: 0.5900 - val_accuracy: 0.8066\n",
      "Epoch 5/10\n",
      "1719/1719 [==============================] - 3s 2ms/step - loss: 0.5832 - accuracy: 0.8075 - val_loss: 0.5582 - val_accuracy: 0.8198\n",
      "Epoch 6/10\n",
      "1719/1719 [==============================] - 3s 2ms/step - loss: 0.5553 - accuracy: 0.8157 - val_loss: 0.5350 - val_accuracy: 0.8238\n",
      "Epoch 7/10\n",
      "1719/1719 [==============================] - 3s 2ms/step - loss: 0.5338 - accuracy: 0.8225 - val_loss: 0.5156 - val_accuracy: 0.8304\n",
      "Epoch 8/10\n",
      "1719/1719 [==============================] - 3s 2ms/step - loss: 0.5173 - accuracy: 0.8272 - val_loss: 0.5079 - val_accuracy: 0.8284\n",
      "Epoch 9/10\n",
      "1719/1719 [==============================] - 3s 2ms/step - loss: 0.5040 - accuracy: 0.8290 - val_loss: 0.4895 - val_accuracy: 0.8386\n",
      "Epoch 10/10\n",
      "1719/1719 [==============================] - 3s 2ms/step - loss: 0.4924 - accuracy: 0.8320 - val_loss: 0.4816 - val_accuracy: 0.8396\n"
     ]
    }
   ],
   "source": [
    "(X_train_full, y_train_full), (X_test, y_test) = keras.datasets.fashion_mnist.load_data()\n",
    "X_train_full = X_train_full / 255.0\n",
    "X_test = X_test / 255.0\n",
    "X_valid, X_train = X_train_full[:5000], X_train_full[5000:]\n",
    "y_valid, y_train = y_train_full[:5000], y_train_full[5000:]\n",
    "\n",
    "#모델 생성\n",
    "tf.random.set_seed(42)\n",
    "np.random.seed(42)\n",
    "\n",
    "model = keras.models.Sequential([\n",
    "    keras.layers.Flatten(input_shape=[28, 28]),\n",
    "    keras.layers.Dense(300, kernel_initializer=\"he_normal\"),\n",
    "    keras.layers.LeakyReLU(),\n",
    "    keras.layers.Dense(100, kernel_initializer=\"he_normal\"),\n",
    "    keras.layers.LeakyReLU(),\n",
    "    keras.layers.Dense(10, activation=\"softmax\")\n",
    "])\n",
    "\n",
    "#모델 컴파일\n",
    "model.compile(loss=\"sparse_categorical_crossentropy\",\n",
    "              optimizer=keras.optimizers.SGD(lr=1e-3),\n",
    "              metrics=[\"accuracy\"])\n",
    "\n",
    "history = model.fit(X_train, y_train, epochs=10,\n",
    "                    validation_data=(X_valid, y_valid))"
   ]
  },
  {
   "cell_type": "code",
   "execution_count": null,
   "metadata": {},
   "outputs": [],
   "source": []
  },
  {
   "cell_type": "markdown",
   "metadata": {},
   "source": [
    "#### PReLU"
   ]
  },
  {
   "cell_type": "code",
   "execution_count": 220,
   "metadata": {},
   "outputs": [
    {
     "name": "stdout",
     "output_type": "stream",
     "text": [
      "Epoch 1/10\n",
      "1719/1719 [==============================] - 5s 3ms/step - loss: 1.3461 - accuracy: 0.6209 - val_loss: 0.9255 - val_accuracy: 0.7186\n",
      "Epoch 2/10\n",
      "1719/1719 [==============================] - 5s 3ms/step - loss: 0.8197 - accuracy: 0.7356 - val_loss: 0.7305 - val_accuracy: 0.7628\n",
      "Epoch 3/10\n",
      "1719/1719 [==============================] - 4s 3ms/step - loss: 0.6966 - accuracy: 0.7693 - val_loss: 0.6565 - val_accuracy: 0.7878\n",
      "Epoch 4/10\n",
      "1719/1719 [==============================] - 3s 2ms/step - loss: 0.6331 - accuracy: 0.7909 - val_loss: 0.6004 - val_accuracy: 0.8046\n",
      "Epoch 5/10\n",
      "1719/1719 [==============================] - 3s 2ms/step - loss: 0.5917 - accuracy: 0.8057 - val_loss: 0.5656 - val_accuracy: 0.8182\n",
      "Epoch 6/10\n",
      "1719/1719 [==============================] - 3s 2ms/step - loss: 0.5618 - accuracy: 0.8135 - val_loss: 0.5406 - val_accuracy: 0.8238\n",
      "Epoch 7/10\n",
      "1719/1719 [==============================] - 4s 2ms/step - loss: 0.5390 - accuracy: 0.8206 - val_loss: 0.5196 - val_accuracy: 0.8312\n",
      "Epoch 8/10\n",
      "1719/1719 [==============================] - 3s 2ms/step - loss: 0.5213 - accuracy: 0.8258 - val_loss: 0.5113 - val_accuracy: 0.8318\n",
      "Epoch 9/10\n",
      "1719/1719 [==============================] - 3s 2ms/step - loss: 0.5070 - accuracy: 0.8289 - val_loss: 0.4917 - val_accuracy: 0.8382\n",
      "Epoch 10/10\n",
      "1719/1719 [==============================] - 3s 2ms/step - loss: 0.4945 - accuracy: 0.8315 - val_loss: 0.4826 - val_accuracy: 0.8394\n"
     ]
    }
   ],
   "source": [
    "tf.random.set_seed(42)\n",
    "np.random.seed(42)\n",
    "\n",
    "model = keras.models.Sequential([\n",
    "    keras.layers.Flatten(input_shape=[28, 28]),\n",
    "    keras.layers.Dense(300, kernel_initializer=\"he_normal\"),\n",
    "    keras.layers.PReLU(),\n",
    "    keras.layers.Dense(100, kernel_initializer=\"he_normal\"),\n",
    "    keras.layers.PReLU(),\n",
    "    keras.layers.Dense(10, activation=\"softmax\")\n",
    "])\n",
    "\n",
    "model.compile(loss=\"sparse_categorical_crossentropy\",\n",
    "              optimizer=keras.optimizers.SGD(lr=1e-3),\n",
    "              metrics=[\"accuracy\"])\n",
    "history = model.fit(X_train, y_train, epochs=10,\n",
    "                    validation_data=(X_valid, y_valid))\n"
   ]
  },
  {
   "cell_type": "code",
   "execution_count": null,
   "metadata": {},
   "outputs": [],
   "source": []
  },
  {
   "cell_type": "markdown",
   "metadata": {},
   "source": [
    "#### elu"
   ]
  },
  {
   "cell_type": "code",
   "execution_count": 221,
   "metadata": {},
   "outputs": [
    {
     "name": "stdout",
     "output_type": "stream",
     "text": [
      "그림 저장: elu_plot\n"
     ]
    },
    {
     "data": {
      "image/png": "[encoded data removed]",
      "text/plain": [
       "<Figure size 432x288 with 1 Axes>"
      ]
     },
     "metadata": {
      "needs_background": "light"
     },
     "output_type": "display_data"
    }
   ],
   "source": [
    "def elu(z, alpha=1):\n",
    "    return np.where(z < 0, alpha * (np.exp(z) - 1), z)\n",
    "\n",
    "plt.plot(z, elu(z), \"b-\", linewidth=2)\n",
    "plt.plot([-5, 5], [0, 0], 'k-')\n",
    "plt.plot([-5, 5], [-1, -1], 'k--')\n",
    "plt.plot([0, 0], [-2.2, 3.2], 'k-')\n",
    "plt.grid(True)\n",
    "plt.title(r\"ELU activation function ($\\alpha=1$)\", fontsize=14)\n",
    "plt.axis([-5, 5, -2.2, 3.2])\n",
    "\n",
    "save_fig(\"elu_plot\")\n",
    "plt.show()"
   ]
  },
  {
   "cell_type": "code",
   "execution_count": 222,
   "metadata": {},
   "outputs": [
    {
     "data": {
      "text/plain": [
       "<keras.layers.core.dense.Dense at 0x7f8d2fa61d90>"
      ]
     },
     "execution_count": 222,
     "metadata": {},
     "output_type": "execute_result"
    }
   ],
   "source": [
    "#TensorFlow에서 쉽게 ELU를 적용할 수 있는데 층을 만들 때 활성화 함수로 지정\n",
    "keras.layers.Dense(10, activation=\"elu\")"
   ]
  },
  {
   "cell_type": "code",
   "execution_count": null,
   "metadata": {},
   "outputs": [],
   "source": []
  },
  {
   "cell_type": "markdown",
   "metadata": {},
   "source": [
    "#### SELU"
   ]
  },
  {
   "cell_type": "code",
   "execution_count": 223,
   "metadata": {},
   "outputs": [],
   "source": [
    "from scipy.special import erfc\n",
    "\n",
    "# alpha와 scale은 평균 0과 표준 편차 1로 자기 정규화\n",
    "alpha_0_1 = -np.sqrt(2 / np.pi) / (erfc(1/np.sqrt(2)) * np.exp(1/2) - 1)\n",
    "scale_0_1 = (1 - erfc(1 / np.sqrt(2)) * np.sqrt(np.e)) * np.sqrt(2 * np.pi) * (2 * erfc(np.sqrt(2))*np.e**2 + np.pi*erfc(1/np.sqrt(2))**2*np.e - 2*(2+np.pi)*erfc(1/np.sqrt(2))*np.sqrt(np.e)+np.pi+2)**(-1/2)"
   ]
  },
  {
   "cell_type": "code",
   "execution_count": 224,
   "metadata": {},
   "outputs": [
    {
     "name": "stdout",
     "output_type": "stream",
     "text": [
      "그림 저장: selu_plot\n"
     ]
    },
    {
     "data": {
      "image/png": "[encoded data removed]",
      "text/plain": [
       "<Figure size 432x288 with 1 Axes>"
      ]
     },
     "metadata": {
      "needs_background": "light"
     },
     "output_type": "display_data"
    }
   ],
   "source": [
    "def selu(z, scale=scale_0_1, alpha=alpha_0_1):\n",
    "    return scale * elu(z, alpha)\n",
    "\n",
    "plt.plot(z, selu(z), \"b-\", linewidth=2)\n",
    "plt.plot([-5, 5], [0, 0], 'k-')\n",
    "plt.plot([-5, 5], [-1.758, -1.758], 'k--')\n",
    "plt.plot([0, 0], [-2.2, 3.2], 'k-')\n",
    "plt.grid(True)\n",
    "plt.title(\"SELU activation function\", fontsize=14)\n",
    "plt.axis([-5, 5, -2.2, 3.2])\n",
    "\n",
    "save_fig(\"selu_plot\")\n",
    "plt.show()"
   ]
  },
  {
   "cell_type": "code",
   "execution_count": 225,
   "metadata": {},
   "outputs": [
    {
     "name": "stdout",
     "output_type": "stream",
     "text": [
      "Layer 0: mean -0.00, std deviation 1.00\n",
      "Layer 100: mean 0.02, std deviation 0.96\n",
      "Layer 200: mean 0.01, std deviation 0.90\n",
      "Layer 300: mean -0.02, std deviation 0.92\n",
      "Layer 400: mean 0.05, std deviation 0.89\n",
      "Layer 500: mean 0.01, std deviation 0.93\n",
      "Layer 600: mean 0.02, std deviation 0.92\n",
      "Layer 700: mean -0.02, std deviation 0.90\n",
      "Layer 800: mean 0.05, std deviation 0.83\n",
      "Layer 900: mean 0.02, std deviation 1.00\n"
     ]
    }
   ],
   "source": [
    "#기본적으로 SELU 하이퍼 파라미터(scale과 alpha)는 각 뉴런의 평균 출력이 0에 가깝고 표준 편차는 1에 가깝도록 조정\n",
    "#입력은 평균이 0이고 표준 편차 1로 표준화 되었다고 가정\n",
    "#이 활성화 함수를 사용하면 1,000개의 층이 있는 심층 신경망도 모든 층에 걸쳐 거의 평균이 0이고 표준 편차를 1로 유지\n",
    "#이를 통해 그라디언트 폭주와 소실 문제를 피할 수 있음\n",
    "\n",
    "np.random.seed(42)\n",
    "Z = np.random.normal(size=(500, 100)) # 표준화된 입력\n",
    "for layer in range(1000):\n",
    "    W = np.random.normal(size=(100, 100), scale=np.sqrt(1 / 100)) # LeCun 초기화\n",
    "    Z = selu(np.dot(Z, W))\n",
    "    means = np.mean(Z, axis=0).mean()\n",
    "    stds = np.std(Z, axis=0).mean()\n",
    "    if layer % 100 == 0:\n",
    "        print(\"Layer {}: mean {:.2f}, std deviation {:.2f}\".format(layer, means, stds))\n"
   ]
  },
  {
   "cell_type": "code",
   "execution_count": 226,
   "metadata": {},
   "outputs": [
    {
     "data": {
      "text/plain": [
       "<keras.layers.core.dense.Dense at 0x7f8d2f471bb0>"
      ]
     },
     "execution_count": 226,
     "metadata": {},
     "output_type": "execute_result"
    }
   ],
   "source": [
    "#은닉층에 적용\n",
    "keras.layers.Dense(10, activation=\"selu\",\n",
    "                   kernel_initializer=\"lecun_normal\")"
   ]
  },
  {
   "cell_type": "markdown",
   "metadata": {},
   "source": [
    "#### SELU를 패션 MNIST에 적용"
   ]
  },
  {
   "cell_type": "code",
   "execution_count": 227,
   "metadata": {},
   "outputs": [],
   "source": [
    "\n",
    "np.random.seed(42)\n",
    "tf.random.set_seed(42)\n",
    "\n",
    "model = keras.models.Sequential()\n",
    "model.add(keras.layers.Flatten(input_shape=[28, 28]))\n",
    "model.add(keras.layers.Dense(300, activation=\"selu\",\n",
    "                             kernel_initializer=\"lecun_normal\"))\n",
    "for layer in range(99):\n",
    "    model.add(keras.layers.Dense(100, activation=\"selu\",\n",
    "                                 kernel_initializer=\"lecun_normal\"))\n",
    "model.add(keras.layers.Dense(10, activation=\"softmax\"))\n",
    "\n",
    "model.compile(loss=\"sparse_categorical_crossentropy\",\n",
    "              optimizer=keras.optimizers.SGD(lr=1e-3),\n",
    "              metrics=[\"accuracy\"])"
   ]
  },
  {
   "cell_type": "code",
   "execution_count": 228,
   "metadata": {},
   "outputs": [
    {
     "name": "stdout",
     "output_type": "stream",
     "text": [
      "Epoch 1/5\n",
      "1719/1719 [==============================] - 19s 10ms/step - loss: 1.3761 - accuracy: 0.4486 - val_loss: 1.0573 - val_accuracy: 0.5834\n",
      "Epoch 2/5\n",
      "1719/1719 [==============================] - 19s 11ms/step - loss: 0.9228 - accuracy: 0.6520 - val_loss: 0.7754 - val_accuracy: 0.7164\n",
      "Epoch 3/5\n",
      "1719/1719 [==============================] - 15s 9ms/step - loss: 1.0013 - accuracy: 0.6198 - val_loss: 0.7810 - val_accuracy: 0.6986\n",
      "Epoch 4/5\n",
      "1719/1719 [==============================] - 16s 9ms/step - loss: 0.8213 - accuracy: 0.6780 - val_loss: 1.1074 - val_accuracy: 0.5432\n",
      "Epoch 5/5\n",
      "1719/1719 [==============================] - 15s 9ms/step - loss: 0.7920 - accuracy: 0.6851 - val_loss: 0.7174 - val_accuracy: 0.7114\n"
     ]
    }
   ],
   "source": [
    "pixel_means = X_train.mean(axis=0, keepdims=True)\n",
    "pixel_stds = X_train.std(axis=0, keepdims=True)\n",
    "X_train_scaled = (X_train - pixel_means) / pixel_stds\n",
    "X_valid_scaled = (X_valid - pixel_means) / pixel_stds\n",
    "X_test_scaled = (X_test - pixel_means) / pixel_stds\n",
    "\n",
    "history = model.fit(X_train_scaled, y_train, epochs=5,\n",
    "                    validation_data=(X_valid_scaled, y_valid))"
   ]
  },
  {
   "cell_type": "code",
   "execution_count": 229,
   "metadata": {},
   "outputs": [
    {
     "name": "stdout",
     "output_type": "stream",
     "text": [
      "Epoch 1/5\n",
      "1719/1719 [==============================] - 15s 8ms/step - loss: 1.8238 - accuracy: 0.2625 - val_loss: 1.2631 - val_accuracy: 0.4612\n",
      "Epoch 2/5\n",
      "1719/1719 [==============================] - 12s 7ms/step - loss: 1.1897 - accuracy: 0.4893 - val_loss: 1.1803 - val_accuracy: 0.4824\n",
      "Epoch 3/5\n",
      "1719/1719 [==============================] - 13s 8ms/step - loss: 1.0207 - accuracy: 0.5663 - val_loss: 0.8560 - val_accuracy: 0.6128\n",
      "Epoch 4/5\n",
      "1719/1719 [==============================] - 15s 9ms/step - loss: 0.9286 - accuracy: 0.6224 - val_loss: 0.8706 - val_accuracy: 0.6734\n",
      "Epoch 5/5\n",
      "1719/1719 [==============================] - 13s 8ms/step - loss: 0.8426 - accuracy: 0.6693 - val_loss: 0.7579 - val_accuracy: 0.7342\n"
     ]
    }
   ],
   "source": [
    "#ReLU를 사용한 경우\n",
    "np.random.seed(42)\n",
    "tf.random.set_seed(42)\n",
    "\n",
    "model = keras.models.Sequential()\n",
    "model.add(keras.layers.Flatten(input_shape=[28, 28]))\n",
    "model.add(keras.layers.Dense(300, activation=\"relu\", kernel_initializer=\"he_normal\"))\n",
    "for layer in range(99):\n",
    "    model.add(keras.layers.Dense(100, activation=\"relu\", kernel_initializer=\"he_normal\"))\n",
    "model.add(keras.layers.Dense(10, activation=\"softmax\"))\n",
    "\n",
    "model.compile(loss=\"sparse_categorical_crossentropy\",\n",
    "              optimizer=keras.optimizers.SGD(lr=1e-3),\n",
    "              metrics=[\"accuracy\"])\n",
    "\n",
    "history = model.fit(X_train_scaled, y_train, epochs=5,\n",
    "                    validation_data=(X_valid_scaled, y_valid))"
   ]
  },
  {
   "cell_type": "code",
   "execution_count": null,
   "metadata": {},
   "outputs": [],
   "source": []
  },
  {
   "cell_type": "markdown",
   "metadata": {},
   "source": [
    "### 배치 정규화"
   ]
  },
  {
   "cell_type": "code",
   "execution_count": 230,
   "metadata": {},
   "outputs": [
    {
     "name": "stdout",
     "output_type": "stream",
     "text": [
      "Model: \"sequential_36\"\n",
      "_________________________________________________________________\n",
      " Layer (type)                Output Shape              Param #   \n",
      "=================================================================\n",
      " flatten_4 (Flatten)         (None, 784)               0         \n",
      "                                                                 \n",
      " batch_normalization (BatchN  (None, 784)              3136      \n",
      " ormalization)                                                   \n",
      "                                                                 \n",
      " dense_302 (Dense)           (None, 300)               235500    \n",
      "                                                                 \n",
      " batch_normalization_1 (Batc  (None, 300)              1200      \n",
      " hNormalization)                                                 \n",
      "                                                                 \n",
      " dense_303 (Dense)           (None, 100)               30100     \n",
      "                                                                 \n",
      " batch_normalization_2 (Batc  (None, 100)              400       \n",
      " hNormalization)                                                 \n",
      "                                                                 \n",
      " dense_304 (Dense)           (None, 10)                1010      \n",
      "                                                                 \n",
      "=================================================================\n",
      "Total params: 271,346\n",
      "Trainable params: 268,978\n",
      "Non-trainable params: 2,368\n",
      "_________________________________________________________________\n"
     ]
    }
   ],
   "source": [
    "model = keras.models.Sequential([\n",
    "    keras.layers.Flatten(input_shape=[28, 28]),\n",
    "    keras.layers.BatchNormalization(),\n",
    "    keras.layers.Dense(300, activation=\"relu\"),\n",
    "    keras.layers.BatchNormalization(),\n",
    "    keras.layers.Dense(100, activation=\"relu\"),\n",
    "    keras.layers.BatchNormalization(),\n",
    "    keras.layers.Dense(10, activation=\"softmax\")\n",
    "])\n",
    "\n",
    "model.summary()"
   ]
  },
  {
   "cell_type": "markdown",
   "metadata": {},
   "source": [
    "#### 첫번째 배치 정규화 층 파라미터 확인"
   ]
  },
  {
   "cell_type": "code",
   "execution_count": 231,
   "metadata": {},
   "outputs": [
    {
     "data": {
      "text/plain": [
       "[('batch_normalization/gamma:0', True),\n",
       " ('batch_normalization/beta:0', True),\n",
       " ('batch_normalization/moving_mean:0', False),\n",
       " ('batch_normalization/moving_variance:0', False)]"
      ]
     },
     "execution_count": 231,
     "metadata": {},
     "output_type": "execute_result"
    }
   ],
   "source": [
    "#파라미터 확인\n",
    "bn1 = model.layers[1]\n",
    "[(var.name, var.trainable) for var in bn1.variables]"
   ]
  },
  {
   "cell_type": "code",
   "execution_count": 232,
   "metadata": {},
   "outputs": [
    {
     "name": "stdout",
     "output_type": "stream",
     "text": [
      "Epoch 1/10\n",
      "1719/1719 [==============================] - 6s 3ms/step - loss: 0.8750 - accuracy: 0.7124 - val_loss: 0.5525 - val_accuracy: 0.8230\n",
      "Epoch 2/10\n",
      "1719/1719 [==============================] - 5s 3ms/step - loss: 0.5753 - accuracy: 0.8029 - val_loss: 0.4724 - val_accuracy: 0.8472\n",
      "Epoch 3/10\n",
      "1719/1719 [==============================] - 5s 3ms/step - loss: 0.5189 - accuracy: 0.8205 - val_loss: 0.4375 - val_accuracy: 0.8550\n",
      "Epoch 4/10\n",
      "1719/1719 [==============================] - 5s 3ms/step - loss: 0.4827 - accuracy: 0.8322 - val_loss: 0.4152 - val_accuracy: 0.8604\n",
      "Epoch 5/10\n",
      "1719/1719 [==============================] - 5s 3ms/step - loss: 0.4565 - accuracy: 0.8407 - val_loss: 0.3997 - val_accuracy: 0.8638\n",
      "Epoch 6/10\n",
      "1719/1719 [==============================] - 5s 3ms/step - loss: 0.4398 - accuracy: 0.8472 - val_loss: 0.3866 - val_accuracy: 0.8700\n",
      "Epoch 7/10\n",
      "1719/1719 [==============================] - 5s 3ms/step - loss: 0.4242 - accuracy: 0.8513 - val_loss: 0.3762 - val_accuracy: 0.8708\n",
      "Epoch 8/10\n",
      "1719/1719 [==============================] - 5s 3ms/step - loss: 0.4144 - accuracy: 0.8540 - val_loss: 0.3712 - val_accuracy: 0.8740\n",
      "Epoch 9/10\n",
      "1719/1719 [==============================] - 6s 3ms/step - loss: 0.4024 - accuracy: 0.8579 - val_loss: 0.3631 - val_accuracy: 0.8740\n",
      "Epoch 10/10\n",
      "1719/1719 [==============================] - 5s 3ms/step - loss: 0.3914 - accuracy: 0.8622 - val_loss: 0.3572 - val_accuracy: 0.8762\n"
     ]
    }
   ],
   "source": [
    "model.compile(loss=\"sparse_categorical_crossentropy\",\n",
    "              optimizer=keras.optimizers.SGD(lr=1e-3),\n",
    "              metrics=[\"accuracy\"])\n",
    "\n",
    "history = model.fit(X_train, y_train, epochs=10,\n",
    "                    validation_data=(X_valid, y_valid))"
   ]
  },
  {
   "cell_type": "markdown",
   "metadata": {},
   "source": [
    "#### 활성화 전에 BN 적용"
   ]
  },
  {
   "cell_type": "code",
   "execution_count": 233,
   "metadata": {},
   "outputs": [],
   "source": [
    "model = keras.models.Sequential([\n",
    "    keras.layers.Flatten(input_shape=[28, 28]),\n",
    "    keras.layers.BatchNormalization(),\n",
    "    keras.layers.Dense(300, use_bias=False),\n",
    "    keras.layers.BatchNormalization(),\n",
    "    keras.layers.Activation(\"relu\"),\n",
    "    keras.layers.Dense(100, use_bias=False),\n",
    "    keras.layers.BatchNormalization(),\n",
    "    keras.layers.Activation(\"relu\"),\n",
    "    keras.layers.Dense(10, activation=\"softmax\")\n",
    "])"
   ]
  },
  {
   "cell_type": "code",
   "execution_count": 234,
   "metadata": {},
   "outputs": [
    {
     "name": "stdout",
     "output_type": "stream",
     "text": [
      "Epoch 1/10\n",
      "1719/1719 [==============================] - 6s 3ms/step - loss: 1.0317 - accuracy: 0.6757 - val_loss: 0.6767 - val_accuracy: 0.7812\n",
      "Epoch 2/10\n",
      "1719/1719 [==============================] - 5s 3ms/step - loss: 0.6790 - accuracy: 0.7793 - val_loss: 0.5566 - val_accuracy: 0.8180\n",
      "Epoch 3/10\n",
      "1719/1719 [==============================] - 5s 3ms/step - loss: 0.5960 - accuracy: 0.8037 - val_loss: 0.5007 - val_accuracy: 0.8364\n",
      "Epoch 4/10\n",
      "1719/1719 [==============================] - 5s 3ms/step - loss: 0.5447 - accuracy: 0.8191 - val_loss: 0.4666 - val_accuracy: 0.8452\n",
      "Epoch 5/10\n",
      "1719/1719 [==============================] - 5s 3ms/step - loss: 0.5109 - accuracy: 0.8280 - val_loss: 0.4433 - val_accuracy: 0.8532\n",
      "Epoch 6/10\n",
      "1719/1719 [==============================] - 5s 3ms/step - loss: 0.4898 - accuracy: 0.8339 - val_loss: 0.4262 - val_accuracy: 0.8548\n",
      "Epoch 7/10\n",
      "1719/1719 [==============================] - 5s 3ms/step - loss: 0.4712 - accuracy: 0.8397 - val_loss: 0.4130 - val_accuracy: 0.8568\n",
      "Epoch 8/10\n",
      "1719/1719 [==============================] - 5s 3ms/step - loss: 0.4560 - accuracy: 0.8439 - val_loss: 0.4034 - val_accuracy: 0.8610\n",
      "Epoch 9/10\n",
      "1719/1719 [==============================] - 5s 3ms/step - loss: 0.4441 - accuracy: 0.8474 - val_loss: 0.3943 - val_accuracy: 0.8636\n",
      "Epoch 10/10\n",
      "1719/1719 [==============================] - 5s 3ms/step - loss: 0.4333 - accuracy: 0.8504 - val_loss: 0.3874 - val_accuracy: 0.8666\n"
     ]
    }
   ],
   "source": [
    "model.compile(loss=\"sparse_categorical_crossentropy\",\n",
    "              optimizer=keras.optimizers.SGD(lr=1e-3),\n",
    "              metrics=[\"accuracy\"])\n",
    "\n",
    "history = model.fit(X_train, y_train, epochs=10,\n",
    "                    validation_data=(X_valid, y_valid))"
   ]
  },
  {
   "cell_type": "code",
   "execution_count": null,
   "metadata": {},
   "outputs": [],
   "source": []
  },
  {
   "cell_type": "markdown",
   "metadata": {},
   "source": [
    "## 사전 훈련"
   ]
  },
  {
   "cell_type": "markdown",
   "metadata": {},
   "source": [
    "### 사전 훈련된 모델 사용 "
   ]
  },
  {
   "cell_type": "markdown",
   "metadata": {},
   "source": [
    "#### 데이터 셋 분할"
   ]
  },
  {
   "cell_type": "code",
   "execution_count": 235,
   "metadata": {},
   "outputs": [],
   "source": [
    "def split_dataset(X, y):\n",
    "    y_5_or_6 = (y == 5) | (y == 6) # sandals or shirts\n",
    "    y_A = y[~y_5_or_6]\n",
    "    y_A[y_A > 6] -= 2 # class indices 7, 8, 9 should be moved to 5, 6, 7\n",
    "    y_B = (y[y_5_or_6] == 6).astype(np.float32) # binary classification task: is it a shirt (class 6)?\n",
    "    return ((X[~y_5_or_6], y_A),\n",
    "            (X[y_5_or_6], y_B))\n",
    "\n",
    "(X_train_A, y_train_A), (X_train_B, y_train_B) = split_dataset(X_train, y_train)\n",
    "(X_valid_A, y_valid_A), (X_valid_B, y_valid_B) = split_dataset(X_valid, y_valid)\n",
    "(X_test_A, y_test_A), (X_test_B, y_test_B) = split_dataset(X_test, y_test)\n",
    "X_train_B = X_train_B[:200]\n",
    "y_train_B = y_train_B[:200]"
   ]
  },
  {
   "cell_type": "code",
   "execution_count": 236,
   "metadata": {},
   "outputs": [
    {
     "data": {
      "text/plain": [
       "(43986, 28, 28)"
      ]
     },
     "execution_count": 236,
     "metadata": {},
     "output_type": "execute_result"
    }
   ],
   "source": [
    "X_train_A.shape"
   ]
  },
  {
   "cell_type": "code",
   "execution_count": 237,
   "metadata": {},
   "outputs": [
    {
     "data": {
      "text/plain": [
       "(200, 28, 28)"
      ]
     },
     "execution_count": 237,
     "metadata": {},
     "output_type": "execute_result"
    }
   ],
   "source": [
    "X_train_B.shape"
   ]
  },
  {
   "cell_type": "code",
   "execution_count": 238,
   "metadata": {},
   "outputs": [
    {
     "data": {
      "text/plain": [
       "array([4, 0, 5, 7, 7, 7, 4, 4, 3, 4, 0, 1, 6, 3, 4, 3, 2, 6, 5, 3, 4, 5,\n",
       "       1, 3, 4, 2, 0, 6, 7, 1], dtype=uint8)"
      ]
     },
     "execution_count": 238,
     "metadata": {},
     "output_type": "execute_result"
    }
   ],
   "source": [
    "y_train_A[:30]"
   ]
  },
  {
   "cell_type": "code",
   "execution_count": 239,
   "metadata": {},
   "outputs": [
    {
     "data": {
      "text/plain": [
       "array([1., 1., 0., 0., 0., 0., 1., 1., 1., 0., 0., 1., 1., 0., 0., 0., 0.,\n",
       "       0., 0., 1., 1., 0., 0., 1., 1., 0., 1., 1., 1., 1.], dtype=float32)"
      ]
     },
     "execution_count": 239,
     "metadata": {},
     "output_type": "execute_result"
    }
   ],
   "source": [
    "y_train_B[:30]"
   ]
  },
  {
   "cell_type": "markdown",
   "metadata": {},
   "source": [
    "#### 모델 A 생성"
   ]
  },
  {
   "cell_type": "code",
   "execution_count": 240,
   "metadata": {},
   "outputs": [
    {
     "name": "stdout",
     "output_type": "stream",
     "text": [
      "Epoch 1/20\n",
      "1375/1375 [==============================] - 3s 2ms/step - loss: 0.5926 - accuracy: 0.8103 - val_loss: 0.3894 - val_accuracy: 0.8670\n",
      "Epoch 2/20\n",
      "1375/1375 [==============================] - 3s 2ms/step - loss: 0.3523 - accuracy: 0.8787 - val_loss: 0.3289 - val_accuracy: 0.8824\n",
      "Epoch 3/20\n",
      "1375/1375 [==============================] - 3s 2ms/step - loss: 0.3170 - accuracy: 0.8894 - val_loss: 0.3014 - val_accuracy: 0.8986\n",
      "Epoch 4/20\n",
      "1375/1375 [==============================] - 3s 2ms/step - loss: 0.2972 - accuracy: 0.8973 - val_loss: 0.2891 - val_accuracy: 0.9018\n",
      "Epoch 5/20\n",
      "1375/1375 [==============================] - 3s 2ms/step - loss: 0.2834 - accuracy: 0.9022 - val_loss: 0.2774 - val_accuracy: 0.9068\n",
      "Epoch 6/20\n",
      "1375/1375 [==============================] - 3s 2ms/step - loss: 0.2729 - accuracy: 0.9061 - val_loss: 0.2732 - val_accuracy: 0.9066\n",
      "Epoch 7/20\n",
      "1375/1375 [==============================] - 3s 2ms/step - loss: 0.2641 - accuracy: 0.9092 - val_loss: 0.2718 - val_accuracy: 0.9088\n",
      "Epoch 8/20\n",
      "1375/1375 [==============================] - 3s 2ms/step - loss: 0.2573 - accuracy: 0.9125 - val_loss: 0.2588 - val_accuracy: 0.9138\n",
      "Epoch 9/20\n",
      "1375/1375 [==============================] - 3s 2ms/step - loss: 0.2518 - accuracy: 0.9136 - val_loss: 0.2562 - val_accuracy: 0.9143\n",
      "Epoch 10/20\n",
      "1375/1375 [==============================] - 3s 2ms/step - loss: 0.2469 - accuracy: 0.9153 - val_loss: 0.2539 - val_accuracy: 0.9163\n",
      "Epoch 11/20\n",
      "1375/1375 [==============================] - 3s 2ms/step - loss: 0.2422 - accuracy: 0.9177 - val_loss: 0.2496 - val_accuracy: 0.9155\n",
      "Epoch 12/20\n",
      "1375/1375 [==============================] - 2s 2ms/step - loss: 0.2382 - accuracy: 0.9188 - val_loss: 0.2509 - val_accuracy: 0.9131\n",
      "Epoch 13/20\n",
      "1375/1375 [==============================] - 2s 2ms/step - loss: 0.2350 - accuracy: 0.9198 - val_loss: 0.2445 - val_accuracy: 0.9148\n",
      "Epoch 14/20\n",
      "1375/1375 [==============================] - 3s 2ms/step - loss: 0.2315 - accuracy: 0.9212 - val_loss: 0.2413 - val_accuracy: 0.9175\n",
      "Epoch 15/20\n",
      "1375/1375 [==============================] - 3s 2ms/step - loss: 0.2287 - accuracy: 0.9212 - val_loss: 0.2444 - val_accuracy: 0.9190\n",
      "Epoch 16/20\n",
      "1375/1375 [==============================] - 3s 2ms/step - loss: 0.2254 - accuracy: 0.9223 - val_loss: 0.2381 - val_accuracy: 0.9190\n",
      "Epoch 17/20\n",
      "1375/1375 [==============================] - 3s 2ms/step - loss: 0.2230 - accuracy: 0.9231 - val_loss: 0.2407 - val_accuracy: 0.9175\n",
      "Epoch 18/20\n",
      "1375/1375 [==============================] - 2s 2ms/step - loss: 0.2201 - accuracy: 0.9245 - val_loss: 0.2428 - val_accuracy: 0.9153\n",
      "Epoch 19/20\n",
      "1375/1375 [==============================] - 2s 2ms/step - loss: 0.2178 - accuracy: 0.9254 - val_loss: 0.2329 - val_accuracy: 0.9205\n",
      "Epoch 20/20\n",
      "1375/1375 [==============================] - 2s 2ms/step - loss: 0.2156 - accuracy: 0.9260 - val_loss: 0.2333 - val_accuracy: 0.9203\n"
     ]
    }
   ],
   "source": [
    "tf.random.set_seed(42)\n",
    "np.random.seed(42)\n",
    "\n",
    "model_A = keras.models.Sequential()\n",
    "model_A.add(keras.layers.Flatten(input_shape=[28, 28]))\n",
    "for n_hidden in (300, 100, 50, 50, 50):\n",
    "    model_A.add(keras.layers.Dense(n_hidden, activation=\"selu\"))\n",
    "model_A.add(keras.layers.Dense(8, activation=\"softmax\"))\n",
    "\n",
    "model_A.compile(loss=\"sparse_categorical_crossentropy\",\n",
    "                optimizer=keras.optimizers.SGD(lr=1e-3),\n",
    "                metrics=[\"accuracy\"])\n",
    "\n",
    "history = model_A.fit(X_train_A, y_train_A, epochs=20,\n",
    "                    validation_data=(X_valid_A, y_valid_A))"
   ]
  },
  {
   "cell_type": "markdown",
   "metadata": {},
   "source": [
    "#### 모델 저장"
   ]
  },
  {
   "cell_type": "code",
   "execution_count": 241,
   "metadata": {},
   "outputs": [],
   "source": [
    "model_A.save(\"my_model_A.h5\")"
   ]
  },
  {
   "cell_type": "markdown",
   "metadata": {},
   "source": [
    "#### 모델 B 생성 및 훈련"
   ]
  },
  {
   "cell_type": "code",
   "execution_count": 242,
   "metadata": {},
   "outputs": [
    {
     "name": "stdout",
     "output_type": "stream",
     "text": [
      "Epoch 1/20\n",
      "7/7 [==============================] - 1s 30ms/step - loss: 0.9573 - accuracy: 0.4650 - val_loss: 0.6314 - val_accuracy: 0.6004\n",
      "Epoch 2/20\n",
      "7/7 [==============================] - 0s 11ms/step - loss: 0.5692 - accuracy: 0.7450 - val_loss: 0.4784 - val_accuracy: 0.8529\n",
      "Epoch 3/20\n",
      "7/7 [==============================] - 0s 11ms/step - loss: 0.4503 - accuracy: 0.8650 - val_loss: 0.4102 - val_accuracy: 0.8945\n",
      "Epoch 4/20\n",
      "7/7 [==============================] - 0s 12ms/step - loss: 0.3879 - accuracy: 0.8950 - val_loss: 0.3647 - val_accuracy: 0.9178\n",
      "Epoch 5/20\n",
      "7/7 [==============================] - 0s 10ms/step - loss: 0.3435 - accuracy: 0.9250 - val_loss: 0.3300 - val_accuracy: 0.9320\n",
      "Epoch 6/20\n",
      "7/7 [==============================] - 0s 12ms/step - loss: 0.3081 - accuracy: 0.9300 - val_loss: 0.3019 - val_accuracy: 0.9402\n",
      "Epoch 7/20\n",
      "7/7 [==============================] - 0s 12ms/step - loss: 0.2800 - accuracy: 0.9350 - val_loss: 0.2804 - val_accuracy: 0.9422\n",
      "Epoch 8/20\n",
      "7/7 [==============================] - 0s 13ms/step - loss: 0.2564 - accuracy: 0.9450 - val_loss: 0.2606 - val_accuracy: 0.9473\n",
      "Epoch 9/20\n",
      "7/7 [==============================] - 0s 13ms/step - loss: 0.2362 - accuracy: 0.9550 - val_loss: 0.2428 - val_accuracy: 0.9523\n",
      "Epoch 10/20\n",
      "7/7 [==============================] - 0s 18ms/step - loss: 0.2188 - accuracy: 0.9600 - val_loss: 0.2281 - val_accuracy: 0.9544\n",
      "Epoch 11/20\n",
      "7/7 [==============================] - 0s 13ms/step - loss: 0.2036 - accuracy: 0.9700 - val_loss: 0.2150 - val_accuracy: 0.9584\n",
      "Epoch 12/20\n",
      "7/7 [==============================] - 0s 14ms/step - loss: 0.1898 - accuracy: 0.9700 - val_loss: 0.2036 - val_accuracy: 0.9584\n",
      "Epoch 13/20\n",
      "7/7 [==============================] - 0s 12ms/step - loss: 0.1773 - accuracy: 0.9750 - val_loss: 0.1931 - val_accuracy: 0.9615\n",
      "Epoch 14/20\n",
      "7/7 [==============================] - 0s 13ms/step - loss: 0.1668 - accuracy: 0.9800 - val_loss: 0.1838 - val_accuracy: 0.9635\n",
      "Epoch 15/20\n",
      "7/7 [==============================] - 0s 11ms/step - loss: 0.1570 - accuracy: 0.9900 - val_loss: 0.1746 - val_accuracy: 0.9686\n",
      "Epoch 16/20\n",
      "7/7 [==============================] - 0s 12ms/step - loss: 0.1481 - accuracy: 0.9900 - val_loss: 0.1674 - val_accuracy: 0.9686\n",
      "Epoch 17/20\n",
      "7/7 [==============================] - 0s 11ms/step - loss: 0.1406 - accuracy: 0.9900 - val_loss: 0.1604 - val_accuracy: 0.9706\n",
      "Epoch 18/20\n",
      "7/7 [==============================] - 0s 12ms/step - loss: 0.1334 - accuracy: 0.9900 - val_loss: 0.1539 - val_accuracy: 0.9706\n",
      "Epoch 19/20\n",
      "7/7 [==============================] - 0s 12ms/step - loss: 0.1268 - accuracy: 0.9900 - val_loss: 0.1482 - val_accuracy: 0.9716\n",
      "Epoch 20/20\n",
      "7/7 [==============================] - 0s 10ms/step - loss: 0.1208 - accuracy: 0.9900 - val_loss: 0.1431 - val_accuracy: 0.9716\n"
     ]
    }
   ],
   "source": [
    "model_B = keras.models.Sequential()\n",
    "model_B.add(keras.layers.Flatten(input_shape=[28, 28]))\n",
    "for n_hidden in (300, 100, 50, 50, 50):\n",
    "    model_B.add(keras.layers.Dense(n_hidden, activation=\"selu\"))\n",
    "model_B.add(keras.layers.Dense(1, activation=\"sigmoid\"))\n",
    "\n",
    "model_B.compile(loss=\"binary_crossentropy\",\n",
    "                optimizer=keras.optimizers.SGD(lr=1e-3),\n",
    "                metrics=[\"accuracy\"])\n",
    "\n",
    "history = model_B.fit(X_train_B, y_train_B, epochs=20,\n",
    "                      validation_data=(X_valid_B, y_valid_B))"
   ]
  },
  {
   "cell_type": "markdown",
   "metadata": {},
   "source": [
    "#### 모델 B 확인"
   ]
  },
  {
   "cell_type": "code",
   "execution_count": 243,
   "metadata": {},
   "outputs": [
    {
     "name": "stdout",
     "output_type": "stream",
     "text": [
      "Model: \"sequential_39\"\n",
      "_________________________________________________________________\n",
      " Layer (type)                Output Shape              Param #   \n",
      "=================================================================\n",
      " flatten_7 (Flatten)         (None, 784)               0         \n",
      "                                                                 \n",
      " dense_314 (Dense)           (None, 300)               235500    \n",
      "                                                                 \n",
      " dense_315 (Dense)           (None, 100)               30100     \n",
      "                                                                 \n",
      " dense_316 (Dense)           (None, 50)                5050      \n",
      "                                                                 \n",
      " dense_317 (Dense)           (None, 50)                2550      \n",
      "                                                                 \n",
      " dense_318 (Dense)           (None, 50)                2550      \n",
      "                                                                 \n",
      " dense_319 (Dense)           (None, 1)                 51        \n",
      "                                                                 \n",
      "=================================================================\n",
      "Total params: 275,801\n",
      "Trainable params: 275,801\n",
      "Non-trainable params: 0\n",
      "_________________________________________________________________\n"
     ]
    }
   ],
   "source": [
    "model_B.summary()"
   ]
  },
  {
   "cell_type": "markdown",
   "metadata": {},
   "source": [
    "#### 모델 B 에서 모델 A를 재사용"
   ]
  },
  {
   "cell_type": "code",
   "execution_count": 244,
   "metadata": {},
   "outputs": [
    {
     "name": "stdout",
     "output_type": "stream",
     "text": [
      "Epoch 1/4\n",
      "7/7 [==============================] - 0s 27ms/step - loss: 0.5779 - accuracy: 0.6500 - val_loss: 0.5830 - val_accuracy: 0.6349\n",
      "Epoch 2/4\n",
      "7/7 [==============================] - 0s 12ms/step - loss: 0.5415 - accuracy: 0.6800 - val_loss: 0.5457 - val_accuracy: 0.6805\n",
      "Epoch 3/4\n",
      "7/7 [==============================] - 0s 11ms/step - loss: 0.5048 - accuracy: 0.7300 - val_loss: 0.5137 - val_accuracy: 0.7089\n",
      "Epoch 4/4\n",
      "7/7 [==============================] - 0s 9ms/step - loss: 0.4734 - accuracy: 0.7500 - val_loss: 0.4851 - val_accuracy: 0.7353\n"
     ]
    }
   ],
   "source": [
    "# 모델 B 에서 모델 A를 재사용\n",
    "model_A = keras.models.load_model(\"my_model_A.h5\")\n",
    "model_B_on_A = keras.models.Sequential(model_A.layers[:-1])\n",
    "model_B_on_A.add(keras.layers.Dense(1, activation=\"sigmoid\"))\n",
    "\n",
    "model_A_clone = keras.models.clone_model(model_A)\n",
    "model_A_clone.set_weights(model_A.get_weights())\n",
    "\n",
    "for layer in model_B_on_A.layers[:-1]:\n",
    "    layer.trainable = False\n",
    "\n",
    "model_B_on_A.compile(loss=\"binary_crossentropy\",\n",
    "                     optimizer=keras.optimizers.SGD(lr=1e-3),\n",
    "                     metrics=[\"accuracy\"])\n",
    "\n",
    "history = model_B_on_A.fit(X_train_B, y_train_B, epochs=4,\n",
    "                           validation_data=(X_valid_B, y_valid_B))"
   ]
  },
  {
   "cell_type": "code",
   "execution_count": 245,
   "metadata": {},
   "outputs": [
    {
     "name": "stdout",
     "output_type": "stream",
     "text": [
      "Epoch 1/16\n",
      "7/7 [==============================] - 1s 30ms/step - loss: 0.3951 - accuracy: 0.8200 - val_loss: 0.3459 - val_accuracy: 0.8661\n",
      "Epoch 2/16\n",
      "7/7 [==============================] - 0s 13ms/step - loss: 0.2793 - accuracy: 0.9350 - val_loss: 0.2604 - val_accuracy: 0.9290\n",
      "Epoch 3/16\n",
      "7/7 [==============================] - 0s 11ms/step - loss: 0.2080 - accuracy: 0.9650 - val_loss: 0.2110 - val_accuracy: 0.9554\n",
      "Epoch 4/16\n",
      "7/7 [==============================] - 0s 10ms/step - loss: 0.1667 - accuracy: 0.9800 - val_loss: 0.1791 - val_accuracy: 0.9696\n",
      "Epoch 5/16\n",
      "7/7 [==============================] - 0s 17ms/step - loss: 0.1394 - accuracy: 0.9800 - val_loss: 0.1562 - val_accuracy: 0.9757\n",
      "Epoch 6/16\n",
      "7/7 [==============================] - 0s 11ms/step - loss: 0.1195 - accuracy: 0.9950 - val_loss: 0.1394 - val_accuracy: 0.9807\n",
      "Epoch 7/16\n",
      "7/7 [==============================] - 0s 11ms/step - loss: 0.1049 - accuracy: 0.9950 - val_loss: 0.1267 - val_accuracy: 0.9838\n",
      "Epoch 8/16\n",
      "7/7 [==============================] - 0s 11ms/step - loss: 0.0936 - accuracy: 0.9950 - val_loss: 0.1164 - val_accuracy: 0.9858\n",
      "Epoch 9/16\n",
      "7/7 [==============================] - 0s 11ms/step - loss: 0.0846 - accuracy: 1.0000 - val_loss: 0.1067 - val_accuracy: 0.9878\n",
      "Epoch 10/16\n",
      "7/7 [==============================] - 0s 11ms/step - loss: 0.0761 - accuracy: 1.0000 - val_loss: 0.1000 - val_accuracy: 0.9899\n",
      "Epoch 11/16\n",
      "7/7 [==============================] - 0s 10ms/step - loss: 0.0703 - accuracy: 1.0000 - val_loss: 0.0940 - val_accuracy: 0.9899\n",
      "Epoch 12/16\n",
      "7/7 [==============================] - 0s 11ms/step - loss: 0.0648 - accuracy: 1.0000 - val_loss: 0.0889 - val_accuracy: 0.9899\n",
      "Epoch 13/16\n",
      "7/7 [==============================] - 0s 14ms/step - loss: 0.0601 - accuracy: 1.0000 - val_loss: 0.0840 - val_accuracy: 0.9899\n",
      "Epoch 14/16\n",
      "7/7 [==============================] - 0s 14ms/step - loss: 0.0558 - accuracy: 1.0000 - val_loss: 0.0803 - val_accuracy: 0.9899\n",
      "Epoch 15/16\n",
      "7/7 [==============================] - 0s 18ms/step - loss: 0.0524 - accuracy: 1.0000 - val_loss: 0.0769 - val_accuracy: 0.9899\n",
      "Epoch 16/16\n",
      "7/7 [==============================] - 0s 15ms/step - loss: 0.0495 - accuracy: 1.0000 - val_loss: 0.0739 - val_accuracy: 0.9899\n"
     ]
    }
   ],
   "source": [
    "for layer in model_B_on_A.layers[:-1]:\n",
    "    layer.trainable = True\n",
    "\n",
    "model_B_on_A.compile(loss=\"binary_crossentropy\",\n",
    "                     optimizer=keras.optimizers.SGD(lr=1e-3),\n",
    "                     metrics=[\"accuracy\"])\n",
    "history = model_B_on_A.fit(X_train_B, y_train_B, epochs=16,\n",
    "                           validation_data=(X_valid_B, y_valid_B))"
   ]
  },
  {
   "cell_type": "markdown",
   "metadata": {},
   "source": [
    "#### 마지막 점수"
   ]
  },
  {
   "cell_type": "code",
   "execution_count": 246,
   "metadata": {},
   "outputs": [
    {
     "name": "stdout",
     "output_type": "stream",
     "text": [
      "63/63 [==============================] - 0s 2ms/step - loss: 0.1408 - accuracy: 0.9705\n"
     ]
    },
    {
     "data": {
      "text/plain": [
       "[0.1408407986164093, 0.9704999923706055]"
      ]
     },
     "execution_count": 246,
     "metadata": {},
     "output_type": "execute_result"
    }
   ],
   "source": [
    "model_B.evaluate(X_test_B, y_test_B)"
   ]
  },
  {
   "cell_type": "code",
   "execution_count": 247,
   "metadata": {},
   "outputs": [
    {
     "name": "stdout",
     "output_type": "stream",
     "text": [
      "63/63 [==============================] - 0s 3ms/step - loss: 0.1408 - accuracy: 0.9705\n"
     ]
    },
    {
     "data": {
      "text/plain": [
       "[0.1408407986164093, 0.9704999923706055]"
      ]
     },
     "execution_count": 247,
     "metadata": {},
     "output_type": "execute_result"
    }
   ],
   "source": [
    "model_B.evaluate(X_test_B, y_test_B)"
   ]
  },
  {
   "cell_type": "code",
   "execution_count": 248,
   "metadata": {},
   "outputs": [
    {
     "name": "stdout",
     "output_type": "stream",
     "text": [
      "63/63 [==============================] - 0s 2ms/step - loss: 0.0682 - accuracy: 0.9935\n"
     ]
    },
    {
     "data": {
      "text/plain": [
       "[0.06820797920227051, 0.9934999942779541]"
      ]
     },
     "execution_count": 248,
     "metadata": {},
     "output_type": "execute_result"
    }
   ],
   "source": [
    "#마지막 점수\n",
    "model_B_on_A.evaluate(X_test_B, y_test_B)"
   ]
  },
  {
   "cell_type": "code",
   "execution_count": 249,
   "metadata": {},
   "outputs": [
    {
     "data": {
      "text/plain": [
       "4.538461538461503"
      ]
     },
     "execution_count": 249,
     "metadata": {},
     "output_type": "execute_result"
    }
   ],
   "source": [
    "(100 - 97.05) / (100 - 99.35)"
   ]
  },
  {
   "cell_type": "code",
   "execution_count": null,
   "metadata": {},
   "outputs": [],
   "source": []
  },
  {
   "cell_type": "markdown",
   "metadata": {},
   "source": [
    "## 고속 옵티마이저"
   ]
  },
  {
   "cell_type": "markdown",
   "metadata": {},
   "source": [
    "### AdaGrad 적용"
   ]
  },
  {
   "cell_type": "code",
   "execution_count": 250,
   "metadata": {},
   "outputs": [],
   "source": [
    "optimizer = keras.optimizers.Adagrad(lr=0.001)"
   ]
  },
  {
   "cell_type": "markdown",
   "metadata": {},
   "source": [
    "### Adam"
   ]
  },
  {
   "cell_type": "code",
   "execution_count": 251,
   "metadata": {},
   "outputs": [],
   "source": [
    "optimizer = keras.optimizers.Adam(lr=0.001, beta_1=0.9, beta_2=0.999)"
   ]
  },
  {
   "cell_type": "markdown",
   "metadata": {},
   "source": [
    "### Nadam"
   ]
  },
  {
   "cell_type": "code",
   "execution_count": 252,
   "metadata": {},
   "outputs": [],
   "source": [
    "optimizer = keras.optimizers.Nadam(lr=0.001, beta_1=0.9, beta_2=0.999)"
   ]
  },
  {
   "cell_type": "code",
   "execution_count": null,
   "metadata": {},
   "outputs": [],
   "source": []
  },
  {
   "cell_type": "markdown",
   "metadata": {},
   "source": [
    "## 학습률 스케줄링"
   ]
  },
  {
   "cell_type": "markdown",
   "metadata": {},
   "source": [
    "### 거듭 제곱 스케줄링"
   ]
  },
  {
   "cell_type": "code",
   "execution_count": 253,
   "metadata": {},
   "outputs": [
    {
     "name": "stdout",
     "output_type": "stream",
     "text": [
      "Epoch 1/25\n",
      "1719/1719 [==============================] - 3s 2ms/step - loss: 0.4855 - accuracy: 0.8304 - val_loss: 0.4032 - val_accuracy: 0.8592\n",
      "Epoch 2/25\n",
      "1719/1719 [==============================] - 3s 2ms/step - loss: 0.3781 - accuracy: 0.8657 - val_loss: 0.3715 - val_accuracy: 0.8730\n",
      "Epoch 3/25\n",
      "1719/1719 [==============================] - 3s 2ms/step - loss: 0.3458 - accuracy: 0.8770 - val_loss: 0.3747 - val_accuracy: 0.8748\n",
      "Epoch 4/25\n",
      "1719/1719 [==============================] - 3s 2ms/step - loss: 0.3251 - accuracy: 0.8831 - val_loss: 0.3504 - val_accuracy: 0.8796\n",
      "Epoch 5/25\n",
      "1719/1719 [==============================] - 3s 2ms/step - loss: 0.3103 - accuracy: 0.8893 - val_loss: 0.3449 - val_accuracy: 0.8790\n",
      "Epoch 6/25\n",
      "1719/1719 [==============================] - 3s 2ms/step - loss: 0.2967 - accuracy: 0.8934 - val_loss: 0.3417 - val_accuracy: 0.8832\n",
      "Epoch 7/25\n",
      "1719/1719 [==============================] - 3s 2ms/step - loss: 0.2869 - accuracy: 0.8973 - val_loss: 0.3356 - val_accuracy: 0.8864\n",
      "Epoch 8/25\n",
      "1719/1719 [==============================] - 3s 2ms/step - loss: 0.2779 - accuracy: 0.9012 - val_loss: 0.3409 - val_accuracy: 0.8848\n",
      "Epoch 9/25\n",
      "1719/1719 [==============================] - 3s 2ms/step - loss: 0.2700 - accuracy: 0.9021 - val_loss: 0.3296 - val_accuracy: 0.8880\n",
      "Epoch 10/25\n",
      "1719/1719 [==============================] - 3s 2ms/step - loss: 0.2630 - accuracy: 0.9051 - val_loss: 0.3266 - val_accuracy: 0.8880\n",
      "Epoch 11/25\n",
      "1719/1719 [==============================] - 3s 2ms/step - loss: 0.2572 - accuracy: 0.9077 - val_loss: 0.3273 - val_accuracy: 0.8872\n",
      "Epoch 12/25\n",
      "1719/1719 [==============================] - 3s 2ms/step - loss: 0.2513 - accuracy: 0.9101 - val_loss: 0.3337 - val_accuracy: 0.8838\n",
      "Epoch 13/25\n",
      "1719/1719 [==============================] - 3s 2ms/step - loss: 0.2461 - accuracy: 0.9126 - val_loss: 0.3258 - val_accuracy: 0.8896\n",
      "Epoch 14/25\n",
      "1719/1719 [==============================] - 3s 2ms/step - loss: 0.2422 - accuracy: 0.9136 - val_loss: 0.3290 - val_accuracy: 0.8890\n",
      "Epoch 15/25\n",
      "1719/1719 [==============================] - 3s 2ms/step - loss: 0.2375 - accuracy: 0.9155 - val_loss: 0.3247 - val_accuracy: 0.8878\n",
      "Epoch 16/25\n",
      "1719/1719 [==============================] - 3s 2ms/step - loss: 0.2335 - accuracy: 0.9174 - val_loss: 0.3209 - val_accuracy: 0.8912\n",
      "Epoch 17/25\n",
      "1719/1719 [==============================] - 3s 2ms/step - loss: 0.2300 - accuracy: 0.9186 - val_loss: 0.3240 - val_accuracy: 0.8898\n",
      "Epoch 18/25\n",
      "1719/1719 [==============================] - 3s 2ms/step - loss: 0.2263 - accuracy: 0.9196 - val_loss: 0.3193 - val_accuracy: 0.8944\n",
      "Epoch 19/25\n",
      "1719/1719 [==============================] - 3s 2ms/step - loss: 0.2232 - accuracy: 0.9210 - val_loss: 0.3233 - val_accuracy: 0.8904\n",
      "Epoch 20/25\n",
      "1719/1719 [==============================] - 3s 2ms/step - loss: 0.2200 - accuracy: 0.9224 - val_loss: 0.3214 - val_accuracy: 0.8918\n",
      "Epoch 21/25\n",
      "1719/1719 [==============================] - 3s 2ms/step - loss: 0.2168 - accuracy: 0.9236 - val_loss: 0.3211 - val_accuracy: 0.8920\n",
      "Epoch 22/25\n",
      "1719/1719 [==============================] - 3s 2ms/step - loss: 0.2143 - accuracy: 0.9241 - val_loss: 0.3185 - val_accuracy: 0.8946\n",
      "Epoch 23/25\n",
      "1719/1719 [==============================] - 3s 2ms/step - loss: 0.2117 - accuracy: 0.9250 - val_loss: 0.3197 - val_accuracy: 0.8906\n",
      "Epoch 24/25\n",
      "1719/1719 [==============================] - 3s 2ms/step - loss: 0.2088 - accuracy: 0.9262 - val_loss: 0.3219 - val_accuracy: 0.8892\n",
      "Epoch 25/25\n",
      "1719/1719 [==============================] - 3s 2ms/step - loss: 0.2068 - accuracy: 0.9266 - val_loss: 0.3215 - val_accuracy: 0.8932\n"
     ]
    }
   ],
   "source": [
    "optimizer = keras.optimizers.SGD(lr=0.01, decay=1e-4)\n",
    "\n",
    "model = keras.models.Sequential([\n",
    "    keras.layers.Flatten(input_shape=[28, 28]),\n",
    "    keras.layers.Dense(300, activation=\"selu\", kernel_initializer=\"lecun_normal\"),\n",
    "    keras.layers.Dense(100, activation=\"selu\", kernel_initializer=\"lecun_normal\"),\n",
    "    keras.layers.Dense(10, activation=\"softmax\")\n",
    "])\n",
    "model.compile(loss=\"sparse_categorical_crossentropy\", optimizer=optimizer, metrics=[\"accuracy\"])\n",
    "\n",
    "n_epochs = 25\n",
    "history = model.fit(X_train_scaled, y_train, epochs=n_epochs,\n",
    "                    validation_data=(X_valid_scaled, y_valid))"
   ]
  },
  {
   "cell_type": "code",
   "execution_count": 254,
   "metadata": {},
   "outputs": [
    {
     "data": {
      "image/png": "[encoded data removed]",
      "text/plain": [
       "<Figure size 432x288 with 1 Axes>"
      ]
     },
     "metadata": {
      "needs_background": "light"
     },
     "output_type": "display_data"
    }
   ],
   "source": [
    "import math\n",
    "\n",
    "learning_rate = 0.01\n",
    "decay = 1e-4\n",
    "batch_size = 32\n",
    "n_steps_per_epoch = math.ceil(len(X_train) / batch_size)\n",
    "epochs = np.arange(n_epochs)\n",
    "lrs = learning_rate / (1 + decay * epochs * n_steps_per_epoch)\n",
    "\n",
    "plt.plot(epochs, lrs,  \"o-\")\n",
    "plt.axis([0, n_epochs - 1, 0, 0.01])\n",
    "plt.xlabel(\"Epoch\")\n",
    "plt.ylabel(\"Learning Rate\")\n",
    "plt.title(\"Power Scheduling\", fontsize=14)\n",
    "plt.grid(True)\n",
    "plt.show()"
   ]
  },
  {
   "cell_type": "markdown",
   "metadata": {},
   "source": [
    "### 지수 기반 스케줄링"
   ]
  },
  {
   "cell_type": "code",
   "execution_count": 255,
   "metadata": {},
   "outputs": [],
   "source": [
    "def exponential_decay_fn(epoch):\n",
    "    return 0.01 * 0.1**(epoch / 20)\n",
    "\n",
    "def exponential_decay(lr0, s):\n",
    "    def exponential_decay_fn(epoch):\n",
    "        return lr0 * 0.1**(epoch / s)\n",
    "    return exponential_decay_fn\n",
    "\n",
    "exponential_decay_fn = exponential_decay(lr0=0.01, s=20)"
   ]
  },
  {
   "cell_type": "code",
   "execution_count": 256,
   "metadata": {},
   "outputs": [
    {
     "name": "stdout",
     "output_type": "stream",
     "text": [
      "Epoch 1/25\n",
      "1719/1719 [==============================] - 6s 3ms/step - loss: 0.8580 - accuracy: 0.7527 - val_loss: 0.9910 - val_accuracy: 0.7260 - lr: 0.0100\n",
      "Epoch 2/25\n",
      "1719/1719 [==============================] - 6s 3ms/step - loss: 0.7331 - accuracy: 0.7804 - val_loss: 0.5900 - val_accuracy: 0.8080 - lr: 0.0089\n",
      "Epoch 3/25\n",
      "1719/1719 [==============================] - 6s 3ms/step - loss: 0.6590 - accuracy: 0.7970 - val_loss: 0.7090 - val_accuracy: 0.7762 - lr: 0.0079\n",
      "Epoch 4/25\n",
      "1719/1719 [==============================] - 6s 4ms/step - loss: 0.5470 - accuracy: 0.8260 - val_loss: 0.5441 - val_accuracy: 0.8478 - lr: 0.0071\n",
      "Epoch 5/25\n",
      "1719/1719 [==============================] - 6s 3ms/step - loss: 0.5437 - accuracy: 0.8322 - val_loss: 0.5150 - val_accuracy: 0.8540 - lr: 0.0063\n",
      "Epoch 6/25\n",
      "1719/1719 [==============================] - 6s 4ms/step - loss: 0.4735 - accuracy: 0.8481 - val_loss: 0.4947 - val_accuracy: 0.8520 - lr: 0.0056\n",
      "Epoch 7/25\n",
      "1719/1719 [==============================] - 6s 4ms/step - loss: 0.4219 - accuracy: 0.8628 - val_loss: 0.5149 - val_accuracy: 0.8526 - lr: 0.0050\n",
      "Epoch 8/25\n",
      "1719/1719 [==============================] - 6s 3ms/step - loss: 0.3921 - accuracy: 0.8714 - val_loss: 0.5339 - val_accuracy: 0.8342 - lr: 0.0045\n",
      "Epoch 9/25\n",
      "1719/1719 [==============================] - 6s 3ms/step - loss: 0.3644 - accuracy: 0.8791 - val_loss: 0.4992 - val_accuracy: 0.8466 - lr: 0.0040\n",
      "Epoch 10/25\n",
      "1719/1719 [==============================] - 6s 4ms/step - loss: 0.3431 - accuracy: 0.8845 - val_loss: 0.4808 - val_accuracy: 0.8800 - lr: 0.0035\n",
      "Epoch 11/25\n",
      "1719/1719 [==============================] - 6s 3ms/step - loss: 0.3111 - accuracy: 0.8927 - val_loss: 0.4544 - val_accuracy: 0.8796 - lr: 0.0032\n",
      "Epoch 12/25\n",
      "1719/1719 [==============================] - 5s 3ms/step - loss: 0.2949 - accuracy: 0.8984 - val_loss: 0.4574 - val_accuracy: 0.8666 - lr: 0.0028\n",
      "Epoch 13/25\n",
      "1719/1719 [==============================] - 6s 3ms/step - loss: 0.2739 - accuracy: 0.9067 - val_loss: 0.4601 - val_accuracy: 0.8772 - lr: 0.0025\n",
      "Epoch 14/25\n",
      "1719/1719 [==============================] - 5s 3ms/step - loss: 0.2553 - accuracy: 0.9105 - val_loss: 0.4474 - val_accuracy: 0.8778 - lr: 0.0022\n",
      "Epoch 15/25\n",
      "1719/1719 [==============================] - 5s 3ms/step - loss: 0.2372 - accuracy: 0.9150 - val_loss: 0.4916 - val_accuracy: 0.8844 - lr: 0.0020\n",
      "Epoch 16/25\n",
      "1719/1719 [==============================] - 6s 3ms/step - loss: 0.2184 - accuracy: 0.9243 - val_loss: 0.4534 - val_accuracy: 0.8860 - lr: 0.0018\n",
      "Epoch 17/25\n",
      "1719/1719 [==============================] - 6s 4ms/step - loss: 0.2056 - accuracy: 0.9278 - val_loss: 0.5053 - val_accuracy: 0.8770 - lr: 0.0016\n",
      "Epoch 18/25\n",
      "1719/1719 [==============================] - 6s 4ms/step - loss: 0.1933 - accuracy: 0.9319 - val_loss: 0.5252 - val_accuracy: 0.8852 - lr: 0.0014\n",
      "Epoch 19/25\n",
      "1719/1719 [==============================] - 6s 3ms/step - loss: 0.1757 - accuracy: 0.9381 - val_loss: 0.5478 - val_accuracy: 0.8938 - lr: 0.0013\n",
      "Epoch 20/25\n",
      "1719/1719 [==============================] - 6s 3ms/step - loss: 0.1661 - accuracy: 0.9412 - val_loss: 0.5269 - val_accuracy: 0.8884 - lr: 0.0011\n",
      "Epoch 21/25\n",
      "1719/1719 [==============================] - 6s 3ms/step - loss: 0.1577 - accuracy: 0.9453 - val_loss: 0.6105 - val_accuracy: 0.8886 - lr: 0.0010\n",
      "Epoch 22/25\n",
      "1719/1719 [==============================] - 6s 3ms/step - loss: 0.1505 - accuracy: 0.9479 - val_loss: 0.5710 - val_accuracy: 0.8842 - lr: 8.9125e-04\n",
      "Epoch 23/25\n",
      "1719/1719 [==============================] - 6s 4ms/step - loss: 0.1395 - accuracy: 0.9522 - val_loss: 0.5751 - val_accuracy: 0.8836 - lr: 7.9433e-04\n",
      "Epoch 24/25\n",
      "1719/1719 [==============================] - 6s 3ms/step - loss: 0.1342 - accuracy: 0.9539 - val_loss: 0.6116 - val_accuracy: 0.8892 - lr: 7.0795e-04\n",
      "Epoch 25/25\n",
      "1719/1719 [==============================] - 6s 3ms/step - loss: 0.1240 - accuracy: 0.9574 - val_loss: 0.6076 - val_accuracy: 0.8870 - lr: 6.3096e-04\n"
     ]
    }
   ],
   "source": [
    "model = keras.models.Sequential([\n",
    "    keras.layers.Flatten(input_shape=[28, 28]),\n",
    "    keras.layers.Dense(300, activation=\"selu\", kernel_initializer=\"lecun_normal\"),\n",
    "    keras.layers.Dense(100, activation=\"selu\", kernel_initializer=\"lecun_normal\"),\n",
    "    keras.layers.Dense(10, activation=\"softmax\")\n",
    "])\n",
    "model.compile(loss=\"sparse_categorical_crossentropy\", optimizer=\"nadam\", metrics=[\"accuracy\"])\n",
    "n_epochs = 25\n",
    "\n",
    "lr_scheduler = keras.callbacks.LearningRateScheduler(exponential_decay_fn)\n",
    "history = model.fit(X_train_scaled, y_train, epochs=n_epochs,\n",
    "                    validation_data=(X_valid_scaled, y_valid),\n",
    "                    callbacks=[lr_scheduler])"
   ]
  },
  {
   "cell_type": "code",
   "execution_count": 257,
   "metadata": {},
   "outputs": [
    {
     "data": {
      "image/png": "[encoded data removed]",
      "text/plain": [
       "<Figure size 432x288 with 1 Axes>"
      ]
     },
     "metadata": {
      "needs_background": "light"
     },
     "output_type": "display_data"
    }
   ],
   "source": [
    "plt.plot(history.epoch, history.history[\"lr\"], \"o-\")\n",
    "plt.axis([0, n_epochs - 1, 0, 0.011])\n",
    "plt.xlabel(\"Epoch\")\n",
    "plt.ylabel(\"Learning Rate\")\n",
    "plt.title(\"Exponential Scheduling\", fontsize=14)\n",
    "plt.grid(True)\n",
    "plt.show()"
   ]
  },
  {
   "cell_type": "code",
   "execution_count": 258,
   "metadata": {},
   "outputs": [],
   "source": [
    "def exponential_decay_fn(epoch, lr):\n",
    "    return lr * 0.1**(1 / 20)\n",
    "\n",
    "K = keras.backend\n",
    "\n",
    "class ExponentialDecay(keras.callbacks.Callback):\n",
    "    def __init__(self, s=40000):\n",
    "        super().__init__()\n",
    "        self.s = s\n",
    "\n",
    "    def on_batch_begin(self, batch, logs=None):\n",
    "        # 노트: 에포크마다 `batch` 매개변수가 재설정됩니다\n",
    "        lr = K.get_value(self.model.optimizer.lr)\n",
    "        K.set_value(self.model.optimizer.lr, lr * 0.1**(1 / s))\n",
    "\n",
    "    def on_epoch_end(self, epoch, logs=None):\n",
    "        logs = logs or {}\n",
    "        logs['lr'] = K.get_value(self.model.optimizer.lr)\n"
   ]
  },
  {
   "cell_type": "code",
   "execution_count": 259,
   "metadata": {},
   "outputs": [
    {
     "name": "stdout",
     "output_type": "stream",
     "text": [
      "Epoch 1/25\n",
      "1719/1719 [==============================] - 7s 4ms/step - loss: 0.8280 - accuracy: 0.7627 - val_loss: 0.7708 - val_accuracy: 0.7628 - lr: 0.0089\n",
      "Epoch 2/25\n",
      "1719/1719 [==============================] - 6s 4ms/step - loss: 0.6761 - accuracy: 0.7989 - val_loss: 0.5581 - val_accuracy: 0.8214 - lr: 0.0079\n",
      "Epoch 3/25\n",
      "1719/1719 [==============================] - 6s 4ms/step - loss: 0.5906 - accuracy: 0.8250 - val_loss: 0.7392 - val_accuracy: 0.7728 - lr: 0.0071\n",
      "Epoch 4/25\n",
      "1719/1719 [==============================] - 6s 4ms/step - loss: 0.5423 - accuracy: 0.8371 - val_loss: 0.5538 - val_accuracy: 0.8460 - lr: 0.0063\n",
      "Epoch 5/25\n",
      "1719/1719 [==============================] - 6s 4ms/step - loss: 0.4915 - accuracy: 0.8502 - val_loss: 0.4889 - val_accuracy: 0.8518 - lr: 0.0056\n",
      "Epoch 6/25\n",
      "1719/1719 [==============================] - 6s 4ms/step - loss: 0.4242 - accuracy: 0.8656 - val_loss: 0.4841 - val_accuracy: 0.8568 - lr: 0.0050\n",
      "Epoch 7/25\n",
      "1719/1719 [==============================] - 6s 4ms/step - loss: 0.4016 - accuracy: 0.8728 - val_loss: 0.6650 - val_accuracy: 0.8650 - lr: 0.0045\n",
      "Epoch 8/25\n",
      "1719/1719 [==============================] - 6s 3ms/step - loss: 0.3667 - accuracy: 0.8824 - val_loss: 0.5196 - val_accuracy: 0.8566 - lr: 0.0040\n",
      "Epoch 9/25\n",
      "1719/1719 [==============================] - 7s 4ms/step - loss: 0.3458 - accuracy: 0.8879 - val_loss: 0.5002 - val_accuracy: 0.8736 - lr: 0.0035\n",
      "Epoch 10/25\n",
      "1719/1719 [==============================] - 7s 4ms/step - loss: 0.3230 - accuracy: 0.8921 - val_loss: 0.4563 - val_accuracy: 0.8826 - lr: 0.0032\n",
      "Epoch 11/25\n",
      "1719/1719 [==============================] - 7s 4ms/step - loss: 0.2937 - accuracy: 0.9004 - val_loss: 0.4276 - val_accuracy: 0.8820 - lr: 0.0028\n",
      "Epoch 12/25\n",
      "1719/1719 [==============================] - 6s 3ms/step - loss: 0.2672 - accuracy: 0.9076 - val_loss: 0.4464 - val_accuracy: 0.8676 - lr: 0.0025\n",
      "Epoch 13/25\n",
      "1719/1719 [==============================] - 6s 4ms/step - loss: 0.2573 - accuracy: 0.9117 - val_loss: 0.4565 - val_accuracy: 0.8834 - lr: 0.0022\n",
      "Epoch 14/25\n",
      "1719/1719 [==============================] - 6s 3ms/step - loss: 0.2340 - accuracy: 0.9194 - val_loss: 0.4273 - val_accuracy: 0.8818 - lr: 0.0020\n",
      "Epoch 15/25\n",
      "1719/1719 [==============================] - 6s 3ms/step - loss: 0.2182 - accuracy: 0.9241 - val_loss: 0.4408 - val_accuracy: 0.8846 - lr: 0.0018\n",
      "Epoch 16/25\n",
      "1719/1719 [==============================] - 6s 3ms/step - loss: 0.2031 - accuracy: 0.9302 - val_loss: 0.4261 - val_accuracy: 0.8826 - lr: 0.0016\n",
      "Epoch 17/25\n",
      "1719/1719 [==============================] - 6s 4ms/step - loss: 0.1842 - accuracy: 0.9357 - val_loss: 0.4963 - val_accuracy: 0.8782 - lr: 0.0014\n",
      "Epoch 18/25\n",
      "1719/1719 [==============================] - 6s 3ms/step - loss: 0.1705 - accuracy: 0.9391 - val_loss: 0.4841 - val_accuracy: 0.8874 - lr: 0.0013\n",
      "Epoch 19/25\n",
      "1719/1719 [==============================] - 6s 4ms/step - loss: 0.1636 - accuracy: 0.9432 - val_loss: 0.4876 - val_accuracy: 0.8928 - lr: 0.0011\n",
      "Epoch 20/25\n",
      "1719/1719 [==============================] - 6s 4ms/step - loss: 0.1456 - accuracy: 0.9485 - val_loss: 0.5084 - val_accuracy: 0.8866 - lr: 9.9967e-04\n",
      "Epoch 21/25\n",
      "1719/1719 [==============================] - 6s 4ms/step - loss: 0.1356 - accuracy: 0.9512 - val_loss: 0.5523 - val_accuracy: 0.8866 - lr: 8.9094e-04\n",
      "Epoch 22/25\n",
      "1719/1719 [==============================] - 6s 4ms/step - loss: 0.1268 - accuracy: 0.9554 - val_loss: 0.5746 - val_accuracy: 0.8902 - lr: 7.9404e-04\n",
      "Epoch 23/25\n",
      "1719/1719 [==============================] - 6s 4ms/step - loss: 0.1181 - accuracy: 0.9586 - val_loss: 0.5837 - val_accuracy: 0.8874 - lr: 7.0767e-04\n",
      "Epoch 24/25\n",
      "1719/1719 [==============================] - 6s 3ms/step - loss: 0.1100 - accuracy: 0.9624 - val_loss: 0.5923 - val_accuracy: 0.8896 - lr: 6.3071e-04\n",
      "Epoch 25/25\n",
      "1719/1719 [==============================] - 6s 3ms/step - loss: 0.1028 - accuracy: 0.9650 - val_loss: 0.6130 - val_accuracy: 0.8924 - lr: 5.6211e-04\n"
     ]
    }
   ],
   "source": [
    "model = keras.models.Sequential([\n",
    "    keras.layers.Flatten(input_shape=[28, 28]),\n",
    "    keras.layers.Dense(300, activation=\"selu\", kernel_initializer=\"lecun_normal\"),\n",
    "    keras.layers.Dense(100, activation=\"selu\", kernel_initializer=\"lecun_normal\"),\n",
    "    keras.layers.Dense(10, activation=\"softmax\")\n",
    "])\n",
    "lr0 = 0.01\n",
    "optimizer = keras.optimizers.Nadam(lr=lr0)\n",
    "model.compile(loss=\"sparse_categorical_crossentropy\", optimizer=optimizer, metrics=[\"accuracy\"])\n",
    "n_epochs = 25\n",
    "\n",
    "s = 20 * len(X_train) // 32 # 20 에포크 동안 스텝 횟수 (배치 크기 = 32)\n",
    "exp_decay = ExponentialDecay(s)\n",
    "history = model.fit(X_train_scaled, y_train, epochs=n_epochs,\n",
    "                    validation_data=(X_valid_scaled, y_valid),\n",
    "                    callbacks=[exp_decay])"
   ]
  },
  {
   "cell_type": "code",
   "execution_count": 260,
   "metadata": {},
   "outputs": [
    {
     "data": {
      "image/png": "[encoded data removed]",
      "text/plain": [
       "<Figure size 432x288 with 1 Axes>"
      ]
     },
     "metadata": {
      "needs_background": "light"
     },
     "output_type": "display_data"
    }
   ],
   "source": [
    "n_steps = n_epochs * len(X_train) // 32\n",
    "steps = np.arange(n_steps)\n",
    "lrs = lr0 * 0.1**(steps / s)\n",
    "\n",
    "plt.plot(steps, lrs, \"-\", linewidth=2)\n",
    "plt.axis([0, n_steps - 1, 0, lr0 * 1.1])\n",
    "plt.xlabel(\"Batch\")\n",
    "plt.ylabel(\"Learning Rate\")\n",
    "plt.title(\"Exponential Scheduling (per batch)\", fontsize=14)\n",
    "plt.grid(True)\n",
    "plt.show()"
   ]
  },
  {
   "cell_type": "code",
   "execution_count": null,
   "metadata": {},
   "outputs": [],
   "source": []
  },
  {
   "cell_type": "markdown",
   "metadata": {},
   "source": [
    "## 규제"
   ]
  },
  {
   "cell_type": "markdown",
   "metadata": {},
   "source": [
    "### l2 규제"
   ]
  },
  {
   "cell_type": "code",
   "execution_count": 261,
   "metadata": {},
   "outputs": [
    {
     "name": "stdout",
     "output_type": "stream",
     "text": [
      "Epoch 1/2\n",
      "1719/1719 [==============================] - 7s 4ms/step - loss: 1.6253 - accuracy: 0.8116 - val_loss: 0.7192 - val_accuracy: 0.8300\n",
      "Epoch 2/2\n",
      "1719/1719 [==============================] - 6s 3ms/step - loss: 0.7189 - accuracy: 0.8274 - val_loss: 0.6832 - val_accuracy: 0.8364\n"
     ]
    }
   ],
   "source": [
    "layer = keras.layers.Dense(100, activation=\"elu\",\n",
    "                           kernel_initializer=\"he_normal\",\n",
    "                           kernel_regularizer=keras.regularizers.l2(0.01))\n",
    "\n",
    "model = keras.models.Sequential([\n",
    "    keras.layers.Flatten(input_shape=[28, 28]),\n",
    "    keras.layers.Dense(300, activation=\"elu\",\n",
    "                       kernel_initializer=\"he_normal\",\n",
    "                       kernel_regularizer=keras.regularizers.l2(0.01)),\n",
    "    keras.layers.Dense(100, activation=\"elu\",\n",
    "                       kernel_initializer=\"he_normal\",\n",
    "                       kernel_regularizer=keras.regularizers.l2(0.01)),\n",
    "    keras.layers.Dense(10, activation=\"softmax\",\n",
    "                       kernel_regularizer=keras.regularizers.l2(0.01))\n",
    "])\n",
    "model.compile(loss=\"sparse_categorical_crossentropy\", optimizer=\"nadam\", metrics=[\"accuracy\"])\n",
    "n_epochs = 2\n",
    "history = model.fit(X_train_scaled, y_train, epochs=n_epochs,\n",
    "                    validation_data=(X_valid_scaled, y_valid))\n"
   ]
  },
  {
   "cell_type": "markdown",
   "metadata": {},
   "source": [
    "### 가독성 높이기"
   ]
  },
  {
   "cell_type": "code",
   "execution_count": 262,
   "metadata": {},
   "outputs": [
    {
     "name": "stdout",
     "output_type": "stream",
     "text": [
      "Epoch 1/2\n",
      "1719/1719 [==============================] - 6s 3ms/step - loss: 1.6192 - accuracy: 0.8112 - val_loss: 0.7174 - val_accuracy: 0.8326\n",
      "Epoch 2/2\n",
      "1719/1719 [==============================] - 6s 4ms/step - loss: 0.7200 - accuracy: 0.8269 - val_loss: 0.6815 - val_accuracy: 0.8390\n"
     ]
    }
   ],
   "source": [
    "from functools import partial\n",
    "\n",
    "RegularizedDense = partial(keras.layers.Dense,\n",
    "                           activation=\"elu\",\n",
    "                           kernel_initializer=\"he_normal\",\n",
    "                           kernel_regularizer=keras.regularizers.l2(0.01))\n",
    "\n",
    "model = keras.models.Sequential([\n",
    "    keras.layers.Flatten(input_shape=[28, 28]),\n",
    "    RegularizedDense(300),\n",
    "    RegularizedDense(100),\n",
    "    RegularizedDense(10, activation=\"softmax\")\n",
    "])\n",
    "model.compile(loss=\"sparse_categorical_crossentropy\", optimizer=\"nadam\", metrics=[\"accuracy\"])\n",
    "n_epochs = 2\n",
    "history = model.fit(X_train_scaled, y_train, epochs=n_epochs,\n",
    "                    validation_data=(X_valid_scaled, y_valid))\n"
   ]
  },
  {
   "cell_type": "code",
   "execution_count": null,
   "metadata": {},
   "outputs": [],
   "source": []
  },
  {
   "cell_type": "markdown",
   "metadata": {},
   "source": [
    "### Dropout"
   ]
  },
  {
   "cell_type": "markdown",
   "metadata": {},
   "source": [
    "#### 그대로 전달"
   ]
  },
  {
   "cell_type": "code",
   "execution_count": 263,
   "metadata": {},
   "outputs": [
    {
     "name": "stdout",
     "output_type": "stream",
     "text": [
      "Epoch 1/2\n",
      "1719/1719 [==============================] - 8s 4ms/step - loss: 0.5676 - accuracy: 0.8032 - val_loss: 0.3677 - val_accuracy: 0.8672\n",
      "Epoch 2/2\n",
      "1719/1719 [==============================] - 7s 4ms/step - loss: 0.4191 - accuracy: 0.8453 - val_loss: 0.3507 - val_accuracy: 0.8712\n"
     ]
    }
   ],
   "source": [
    "model = keras.models.Sequential([\n",
    "    keras.layers.Flatten(input_shape=[28, 28]),\n",
    "    keras.layers.Dropout(rate=0.2),\n",
    "    keras.layers.Dense(300, activation=\"elu\", kernel_initializer=\"he_normal\"),\n",
    "    keras.layers.Dropout(rate=0.2),\n",
    "    keras.layers.Dense(100, activation=\"elu\", kernel_initializer=\"he_normal\"),\n",
    "    keras.layers.Dropout(rate=0.2),\n",
    "    keras.layers.Dense(10, activation=\"softmax\")\n",
    "])\n",
    "model.compile(loss=\"sparse_categorical_crossentropy\", optimizer=\"nadam\", metrics=[\"accuracy\"])\n",
    "n_epochs = 2\n",
    "history = model.fit(X_train_scaled, y_train, epochs=n_epochs,\n",
    "                    validation_data=(X_valid_scaled, y_valid))\n"
   ]
  },
  {
   "cell_type": "markdown",
   "metadata": {},
   "source": [
    "#### 알파 드롭아웃"
   ]
  },
  {
   "cell_type": "code",
   "execution_count": 264,
   "metadata": {},
   "outputs": [
    {
     "name": "stdout",
     "output_type": "stream",
     "text": [
      "Epoch 1/20\n",
      "1719/1719 [==============================] - 5s 3ms/step - loss: 0.6617 - accuracy: 0.7611 - val_loss: 0.5777 - val_accuracy: 0.8410\n",
      "Epoch 2/20\n",
      "1719/1719 [==============================] - 4s 2ms/step - loss: 0.5548 - accuracy: 0.7967 - val_loss: 0.5407 - val_accuracy: 0.8474\n",
      "Epoch 3/20\n",
      "1719/1719 [==============================] - 4s 2ms/step - loss: 0.5256 - accuracy: 0.8059 - val_loss: 0.5011 - val_accuracy: 0.8550\n",
      "Epoch 4/20\n",
      "1719/1719 [==============================] - 4s 2ms/step - loss: 0.5050 - accuracy: 0.8129 - val_loss: 0.4770 - val_accuracy: 0.8602\n",
      "Epoch 5/20\n",
      "1719/1719 [==============================] - 4s 2ms/step - loss: 0.4927 - accuracy: 0.8176 - val_loss: 0.4640 - val_accuracy: 0.8616\n",
      "Epoch 6/20\n",
      "1719/1719 [==============================] - 4s 2ms/step - loss: 0.4839 - accuracy: 0.8201 - val_loss: 0.4858 - val_accuracy: 0.8570\n",
      "Epoch 7/20\n",
      "1719/1719 [==============================] - 4s 2ms/step - loss: 0.4716 - accuracy: 0.8250 - val_loss: 0.5099 - val_accuracy: 0.8476\n",
      "Epoch 8/20\n",
      "1719/1719 [==============================] - 4s 2ms/step - loss: 0.4642 - accuracy: 0.8283 - val_loss: 0.4517 - val_accuracy: 0.8654\n",
      "Epoch 9/20\n",
      "1719/1719 [==============================] - 4s 2ms/step - loss: 0.4605 - accuracy: 0.8303 - val_loss: 0.4369 - val_accuracy: 0.8718\n",
      "Epoch 10/20\n",
      "1719/1719 [==============================] - 4s 2ms/step - loss: 0.4525 - accuracy: 0.8307 - val_loss: 0.4430 - val_accuracy: 0.8604\n",
      "Epoch 11/20\n",
      "1719/1719 [==============================] - 4s 2ms/step - loss: 0.4472 - accuracy: 0.8347 - val_loss: 0.3987 - val_accuracy: 0.8736\n",
      "Epoch 12/20\n",
      "1719/1719 [==============================] - 4s 2ms/step - loss: 0.4440 - accuracy: 0.8343 - val_loss: 0.5180 - val_accuracy: 0.8550\n",
      "Epoch 13/20\n",
      "1719/1719 [==============================] - 4s 2ms/step - loss: 0.4423 - accuracy: 0.8351 - val_loss: 0.4172 - val_accuracy: 0.8784\n",
      "Epoch 14/20\n",
      "1719/1719 [==============================] - 4s 2ms/step - loss: 0.4371 - accuracy: 0.8381 - val_loss: 0.4378 - val_accuracy: 0.8666\n",
      "Epoch 15/20\n",
      "1719/1719 [==============================] - 4s 2ms/step - loss: 0.4320 - accuracy: 0.8388 - val_loss: 0.4517 - val_accuracy: 0.8658\n",
      "Epoch 16/20\n",
      "1719/1719 [==============================] - 4s 2ms/step - loss: 0.4302 - accuracy: 0.8406 - val_loss: 0.4273 - val_accuracy: 0.8746\n",
      "Epoch 17/20\n",
      "1719/1719 [==============================] - 4s 2ms/step - loss: 0.4300 - accuracy: 0.8416 - val_loss: 0.5149 - val_accuracy: 0.8626\n",
      "Epoch 18/20\n",
      "1719/1719 [==============================] - 4s 3ms/step - loss: 0.4272 - accuracy: 0.8410 - val_loss: 0.4620 - val_accuracy: 0.8790\n",
      "Epoch 19/20\n",
      "1719/1719 [==============================] - 4s 2ms/step - loss: 0.4251 - accuracy: 0.8439 - val_loss: 0.4906 - val_accuracy: 0.8700\n",
      "Epoch 20/20\n",
      "1719/1719 [==============================] - 4s 2ms/step - loss: 0.4173 - accuracy: 0.8443 - val_loss: 0.4190 - val_accuracy: 0.8746\n"
     ]
    }
   ],
   "source": [
    "tf.random.set_seed(42)\n",
    "np.random.seed(42)\n",
    "\n",
    "model = keras.models.Sequential([\n",
    "    keras.layers.Flatten(input_shape=[28, 28]),\n",
    "    keras.layers.AlphaDropout(rate=0.2),\n",
    "    keras.layers.Dense(300, activation=\"selu\", kernel_initializer=\"lecun_normal\"),\n",
    "    keras.layers.AlphaDropout(rate=0.2),\n",
    "    keras.layers.Dense(100, activation=\"selu\", kernel_initializer=\"lecun_normal\"),\n",
    "    keras.layers.AlphaDropout(rate=0.2),\n",
    "    keras.layers.Dense(10, activation=\"softmax\")\n",
    "])\n",
    "optimizer = keras.optimizers.SGD(lr=0.01, momentum=0.9, nesterov=True)\n",
    "model.compile(loss=\"sparse_categorical_crossentropy\", optimizer=optimizer, metrics=[\"accuracy\"])\n",
    "n_epochs = 20\n",
    "history = model.fit(X_train_scaled, y_train, epochs=n_epochs,\n",
    "                    validation_data=(X_valid_scaled, y_valid))\n"
   ]
  },
  {
   "cell_type": "code",
   "execution_count": 265,
   "metadata": {},
   "outputs": [
    {
     "name": "stdout",
     "output_type": "stream",
     "text": [
      "313/313 [==============================] - 0s 1ms/step - loss: 0.4663 - accuracy: 0.8592\n"
     ]
    },
    {
     "data": {
      "text/plain": [
       "[0.46625688672065735, 0.8592000007629395]"
      ]
     },
     "execution_count": 265,
     "metadata": {},
     "output_type": "execute_result"
    }
   ],
   "source": [
    "model.evaluate(X_test_scaled, y_test)"
   ]
  },
  {
   "cell_type": "code",
   "execution_count": 266,
   "metadata": {},
   "outputs": [
    {
     "name": "stdout",
     "output_type": "stream",
     "text": [
      "1719/1719 [==============================] - 2s 1ms/step - loss: 0.3425 - accuracy: 0.8829\n"
     ]
    },
    {
     "data": {
      "text/plain": [
       "[0.34249722957611084, 0.8829454779624939]"
      ]
     },
     "execution_count": 266,
     "metadata": {},
     "output_type": "execute_result"
    }
   ],
   "source": [
    "model.evaluate(X_train_scaled, y_train)"
   ]
  },
  {
   "cell_type": "code",
   "execution_count": 267,
   "metadata": {},
   "outputs": [
    {
     "name": "stdout",
     "output_type": "stream",
     "text": [
      "1719/1719 [==============================] - 4s 2ms/step - loss: 0.4201 - accuracy: 0.8430\n"
     ]
    }
   ],
   "source": [
    "history = model.fit(X_train_scaled, y_train)"
   ]
  },
  {
   "cell_type": "markdown",
   "metadata": {},
   "source": [
    "#### 몬테 카를로 Dropout"
   ]
  },
  {
   "cell_type": "code",
   "execution_count": 268,
   "metadata": {},
   "outputs": [
    {
     "name": "stdout",
     "output_type": "stream",
     "text": [
      "Model: \"sequential_48\"\n",
      "_________________________________________________________________\n",
      " Layer (type)                Output Shape              Param #   \n",
      "=================================================================\n",
      " flatten_14 (Flatten)        (None, 784)               0         \n",
      "                                                                 \n",
      " mc_alpha_dropout (MCAlphaDr  (None, 784)              0         \n",
      " opout)                                                          \n",
      "                                                                 \n",
      " dense_340 (Dense)           (None, 300)               235500    \n",
      "                                                                 \n",
      " mc_alpha_dropout_1 (MCAlpha  (None, 300)              0         \n",
      " Dropout)                                                        \n",
      "                                                                 \n",
      " dense_341 (Dense)           (None, 100)               30100     \n",
      "                                                                 \n",
      " mc_alpha_dropout_2 (MCAlpha  (None, 100)              0         \n",
      " Dropout)                                                        \n",
      "                                                                 \n",
      " dense_342 (Dense)           (None, 10)                1010      \n",
      "                                                                 \n",
      "=================================================================\n",
      "Total params: 266,610\n",
      "Trainable params: 266,610\n",
      "Non-trainable params: 0\n",
      "_________________________________________________________________\n"
     ]
    }
   ],
   "source": [
    "class MCDropout(keras.layers.Dropout):\n",
    "    def call(self, inputs):\n",
    "        return super().call(inputs, training=True)\n",
    "\n",
    "class MCAlphaDropout(keras.layers.AlphaDropout):\n",
    "    def call(self, inputs):\n",
    "        return super().call(inputs, training=True)\n",
    "    \n",
    "tf.random.set_seed(42)\n",
    "np.random.seed(42)\n",
    "\n",
    "mc_model = keras.models.Sequential([\n",
    "    MCAlphaDropout(layer.rate) if isinstance(layer, keras.layers.AlphaDropout) else layer\n",
    "    for layer in model.layers\n",
    "])\n",
    "\n",
    "mc_model.summary()"
   ]
  },
  {
   "cell_type": "code",
   "execution_count": 269,
   "metadata": {},
   "outputs": [
    {
     "data": {
      "text/plain": [
       "array([[0.  , 0.  , 0.  , 0.  , 0.  , 0.13, 0.  , 0.29, 0.  , 0.58]],\n",
       "      dtype=float32)"
      ]
     },
     "execution_count": 269,
     "metadata": {},
     "output_type": "execute_result"
    }
   ],
   "source": [
    "optimizer = keras.optimizers.SGD(lr=0.01, momentum=0.9, nesterov=True)\n",
    "mc_model.compile(loss=\"sparse_categorical_crossentropy\", optimizer=optimizer, metrics=[\"accuracy\"])\n",
    "\n",
    "mc_model.set_weights(model.get_weights())\n",
    "\n",
    "np.round(np.mean([mc_model.predict(X_test_scaled[:1]) for sample in range(100)], axis=0), 2)"
   ]
  },
  {
   "cell_type": "markdown",
   "metadata": {},
   "source": [
    "#### 맥스 노름 규제"
   ]
  },
  {
   "cell_type": "code",
   "execution_count": 270,
   "metadata": {},
   "outputs": [
    {
     "name": "stdout",
     "output_type": "stream",
     "text": [
      "Epoch 1/2\n",
      "1719/1719 [==============================] - 7s 4ms/step - loss: 0.4744 - accuracy: 0.8334 - val_loss: 0.3778 - val_accuracy: 0.8638\n",
      "Epoch 2/2\n",
      "1719/1719 [==============================] - 6s 4ms/step - loss: 0.3541 - accuracy: 0.8722 - val_loss: 0.3726 - val_accuracy: 0.8670\n"
     ]
    }
   ],
   "source": [
    "layer = keras.layers.Dense(100, activation=\"selu\", kernel_initializer=\"lecun_normal\",\n",
    "                           kernel_constraint=keras.constraints.max_norm(1.))\n",
    "\n",
    "MaxNormDense = partial(keras.layers.Dense,\n",
    "                       activation=\"selu\", kernel_initializer=\"lecun_normal\",\n",
    "                       kernel_constraint=keras.constraints.max_norm(1.))\n",
    "\n",
    "model = keras.models.Sequential([\n",
    "    keras.layers.Flatten(input_shape=[28, 28]),\n",
    "    MaxNormDense(300),\n",
    "    MaxNormDense(100),\n",
    "    keras.layers.Dense(10, activation=\"softmax\")\n",
    "])\n",
    "model.compile(loss=\"sparse_categorical_crossentropy\", optimizer=\"nadam\", metrics=[\"accuracy\"])\n",
    "n_epochs = 2\n",
    "history = model.fit(X_train_scaled, y_train, epochs=n_epochs,\n",
    "                    validation_data=(X_valid_scaled, y_valid))\n"
   ]
  },
  {
   "cell_type": "code",
   "execution_count": null,
   "metadata": {},
   "outputs": [],
   "source": []
  },
  {
   "cell_type": "markdown",
   "metadata": {},
   "source": [
    "## 사용자 정의 모델"
   ]
  },
  {
   "cell_type": "markdown",
   "metadata": {},
   "source": [
    "### 사용자 정의 손실 함수"
   ]
  },
  {
   "cell_type": "code",
   "execution_count": 271,
   "metadata": {},
   "outputs": [],
   "source": [
    "from sklearn.datasets import fetch_california_housing\n",
    "from sklearn.model_selection import train_test_split\n",
    "from sklearn.preprocessing import StandardScaler\n",
    "\n",
    "housing = fetch_california_housing()\n",
    "X_train_full, X_test, y_train_full, y_test = train_test_split(\n",
    "    housing.data, housing.target.reshape(-1, 1), random_state=42)\n",
    "X_train, X_valid, y_train, y_valid = train_test_split(\n",
    "    X_train_full, y_train_full, random_state=42)\n",
    "\n",
    "scaler = StandardScaler()\n",
    "X_train_scaled = scaler.fit_transform(X_train)\n",
    "X_valid_scaled = scaler.transform(X_valid)\n",
    "X_test_scaled = scaler.transform(X_test)"
   ]
  },
  {
   "cell_type": "code",
   "execution_count": 272,
   "metadata": {},
   "outputs": [],
   "source": [
    "# 후버 손실 함수\n",
    "def huber_fn(y_true, y_pred):\n",
    "    error = y_true - y_pred\n",
    "    is_small_error = tf.abs(error) < 1\n",
    "    squared_loss = tf.square(error) / 2\n",
    "    linear_loss  = tf.abs(error) - 0.5\n",
    "    return tf.where(is_small_error, squared_loss, linear_loss)\n"
   ]
  },
  {
   "cell_type": "code",
   "execution_count": 273,
   "metadata": {},
   "outputs": [
    {
     "data": {
      "image/png": "[encoded data removed]",
      "text/plain": [
       "<Figure size 576x252 with 1 Axes>"
      ]
     },
     "metadata": {
      "needs_background": "light"
     },
     "output_type": "display_data"
    }
   ],
   "source": [
    "plt.figure(figsize=(8, 3.5))\n",
    "z = np.linspace(-4, 4, 200)\n",
    "plt.plot(z, huber_fn(0, z), \"b-\", linewidth=2, label=\"huber($z$)\")\n",
    "plt.plot(z, z**2 / 2, \"b:\", linewidth=1, label=r\"$\\frac{1}{2}z^2$\")\n",
    "plt.plot([-1, -1], [0, huber_fn(0., -1.)], \"r--\")\n",
    "plt.plot([1, 1], [0, huber_fn(0., 1.)], \"r--\")\n",
    "plt.gca().axhline(y=0, color='k')\n",
    "plt.gca().axvline(x=0, color='k')\n",
    "plt.axis([-4, 4, 0, 4])\n",
    "plt.grid(True)\n",
    "plt.xlabel(\"$z$\")\n",
    "plt.legend(fontsize=14)\n",
    "plt.title(\"Huber loss\", fontsize=14)\n",
    "plt.show()"
   ]
  },
  {
   "cell_type": "code",
   "execution_count": 274,
   "metadata": {},
   "outputs": [
    {
     "name": "stdout",
     "output_type": "stream",
     "text": [
      "Epoch 1/2\n",
      "363/363 [==============================] - 1s 1ms/step - loss: 0.5887 - mae: 0.9436 - val_loss: 0.2080 - val_mae: 0.4985\n",
      "Epoch 2/2\n",
      "363/363 [==============================] - 0s 985us/step - loss: 0.2091 - mae: 0.5037 - val_loss: 0.1924 - val_mae: 0.4774\n"
     ]
    },
    {
     "data": {
      "text/plain": [
       "<keras.callbacks.History at 0x7f8ca24084c0>"
      ]
     },
     "execution_count": 274,
     "metadata": {},
     "output_type": "execute_result"
    }
   ],
   "source": [
    "input_shape = X_train.shape[1:]\n",
    "\n",
    "model = keras.models.Sequential([\n",
    "    keras.layers.Dense(30, activation=\"selu\", kernel_initializer=\"lecun_normal\",\n",
    "                       input_shape=input_shape),\n",
    "    keras.layers.Dense(1),\n",
    "])\n",
    "\n",
    "model.compile(loss=huber_fn, optimizer=\"nadam\", metrics=[\"mae\"])\n",
    "\n",
    "model.fit(X_train_scaled, y_train, epochs=2,\n",
    "          validation_data=(X_valid_scaled, y_valid))\n"
   ]
  },
  {
   "cell_type": "code",
   "execution_count": 275,
   "metadata": {},
   "outputs": [
    {
     "name": "stdout",
     "output_type": "stream",
     "text": [
      "Epoch 1/2\n",
      "363/363 [==============================] - 1s 1ms/step - loss: 0.2006 - mae: 0.4915 - val_loss: 0.1857 - val_mae: 0.4658\n",
      "Epoch 2/2\n",
      "363/363 [==============================] - 0s 999us/step - loss: 0.1960 - mae: 0.4849 - val_loss: 0.1807 - val_mae: 0.4617\n"
     ]
    },
    {
     "data": {
      "text/plain": [
       "<keras.callbacks.History at 0x7f8d12a39b80>"
      ]
     },
     "execution_count": 275,
     "metadata": {},
     "output_type": "execute_result"
    }
   ],
   "source": [
    "model.save(\"my_model_with_a_custom_loss.h5\")\n",
    "\n",
    "model = keras.models.load_model(\"my_model_with_a_custom_loss.h5\",\n",
    "                                custom_objects={\"huber_fn\": huber_fn})\n",
    "\n",
    "model.fit(X_train_scaled, y_train, epochs=2,\n",
    "          validation_data=(X_valid_scaled, y_valid))\n"
   ]
  },
  {
   "cell_type": "markdown",
   "metadata": {},
   "source": [
    "### 손실 함수 수정"
   ]
  },
  {
   "cell_type": "code",
   "execution_count": 276,
   "metadata": {},
   "outputs": [],
   "source": [
    "def create_huber(threshold=1.0):\n",
    "    def huber_fn(y_true, y_pred):\n",
    "        error = y_true - y_pred\n",
    "        is_small_error = tf.abs(error) < threshold\n",
    "        squared_loss = tf.square(error) / 2\n",
    "        linear_loss  = threshold * tf.abs(error) - threshold**2 / 2\n",
    "        return tf.where(is_small_error, squared_loss, linear_loss)\n",
    "    return huber_fn"
   ]
  },
  {
   "cell_type": "code",
   "execution_count": 277,
   "metadata": {},
   "outputs": [
    {
     "name": "stdout",
     "output_type": "stream",
     "text": [
      "Epoch 1/2\n",
      "363/363 [==============================] - 1s 1ms/step - loss: 0.2177 - mae: 0.4841 - val_loss: 0.1973 - val_mae: 0.4559\n",
      "Epoch 2/2\n",
      "363/363 [==============================] - 0s 989us/step - loss: 0.2131 - mae: 0.4794 - val_loss: 0.2217 - val_mae: 0.4738\n"
     ]
    },
    {
     "data": {
      "text/plain": [
       "<keras.callbacks.History at 0x7f8d07220b50>"
      ]
     },
     "execution_count": 277,
     "metadata": {},
     "output_type": "execute_result"
    }
   ],
   "source": [
    "model.compile(loss=create_huber(2.0), optimizer=\"nadam\", metrics=[\"mae\"])\n",
    "\n",
    "model.fit(X_train_scaled, y_train, epochs=2,\n",
    "          validation_data=(X_valid_scaled, y_valid))"
   ]
  },
  {
   "cell_type": "code",
   "execution_count": 278,
   "metadata": {},
   "outputs": [
    {
     "name": "stdout",
     "output_type": "stream",
     "text": [
      "Epoch 1/2\n",
      "363/363 [==============================] - 1s 1ms/step - loss: 0.2120 - mae: 0.4773 - val_loss: 0.1911 - val_mae: 0.4496\n",
      "Epoch 2/2\n",
      "363/363 [==============================] - 0s 1ms/step - loss: 0.2077 - mae: 0.4724 - val_loss: 0.2272 - val_mae: 0.4736\n"
     ]
    },
    {
     "data": {
      "text/plain": [
       "<keras.callbacks.History at 0x7f8c8328eac0>"
      ]
     },
     "execution_count": 278,
     "metadata": {},
     "output_type": "execute_result"
    }
   ],
   "source": [
    "model.save(\"my_model_with_a_custom_loss_threshold_2.h5\")\n",
    "\n",
    "model = keras.models.load_model(\"my_model_with_a_custom_loss_threshold_2.h5\",\n",
    "                                custom_objects={\"huber_fn\": create_huber(2.0)})\n",
    "\n",
    "model.fit(X_train_scaled, y_train, epochs=2,\n",
    "          validation_data=(X_valid_scaled, y_valid))\n"
   ]
  },
  {
   "cell_type": "markdown",
   "metadata": {},
   "source": [
    "### keras.losses.Loss 클래스를 상속"
   ]
  },
  {
   "cell_type": "code",
   "execution_count": 279,
   "metadata": {},
   "outputs": [],
   "source": [
    "class HuberLoss(keras.losses.Loss):\n",
    "    def __init__(self, threshold=1.0, **kwargs):\n",
    "        self.threshold = threshold\n",
    "        super().__init__(**kwargs)\n",
    "    def call(self, y_true, y_pred):\n",
    "        error = y_true - y_pred\n",
    "        is_small_error = tf.abs(error) < self.threshold\n",
    "        squared_loss = tf.square(error) / 2\n",
    "        linear_loss  = self.threshold * tf.abs(error) - self.threshold**2 / 2\n",
    "        return tf.where(is_small_error, squared_loss, linear_loss)\n",
    "    def get_config(self):\n",
    "        base_config = super().get_config()\n",
    "        return {**base_config, \"threshold\": self.threshold}"
   ]
  },
  {
   "cell_type": "code",
   "execution_count": 280,
   "metadata": {},
   "outputs": [
    {
     "name": "stdout",
     "output_type": "stream",
     "text": [
      "Epoch 1/2\n",
      "363/363 [==============================] - 1s 1ms/step - loss: 0.9248 - mae: 1.0144 - val_loss: 0.5820 - val_mae: 0.6739\n",
      "Epoch 2/2\n",
      "363/363 [==============================] - 0s 1ms/step - loss: 0.2595 - mae: 0.5176 - val_loss: 0.4620 - val_mae: 0.6070\n"
     ]
    },
    {
     "data": {
      "text/plain": [
       "<keras.callbacks.History at 0x7f8d12a25280>"
      ]
     },
     "execution_count": 280,
     "metadata": {},
     "output_type": "execute_result"
    }
   ],
   "source": [
    "model = keras.models.Sequential([\n",
    "    keras.layers.Dense(30, activation=\"selu\", kernel_initializer=\"lecun_normal\",\n",
    "                       input_shape=input_shape),\n",
    "    keras.layers.Dense(1),\n",
    "])\n",
    "\n",
    "model.compile(loss=HuberLoss(2.), optimizer=\"nadam\", metrics=[\"mae\"])\n",
    "\n",
    "model.fit(X_train_scaled, y_train, epochs=2,\n",
    "          validation_data=(X_valid_scaled, y_valid))\n"
   ]
  },
  {
   "cell_type": "code",
   "execution_count": 281,
   "metadata": {},
   "outputs": [
    {
     "name": "stdout",
     "output_type": "stream",
     "text": [
      "Epoch 1/2\n",
      "363/363 [==============================] - 1s 1ms/step - loss: 0.2403 - mae: 0.5013 - val_loss: 0.3364 - val_mae: 0.5325\n",
      "Epoch 2/2\n",
      "363/363 [==============================] - 0s 977us/step - loss: 0.2291 - mae: 0.4922 - val_loss: 0.2557 - val_mae: 0.4985\n"
     ]
    },
    {
     "data": {
      "text/plain": [
       "<keras.callbacks.History at 0x7f8d12bcf4c0>"
      ]
     },
     "execution_count": 281,
     "metadata": {},
     "output_type": "execute_result"
    }
   ],
   "source": [
    "model.save(\"my_model_with_a_custom_loss_class.h5\")\n",
    "\n",
    "model = keras.models.load_model(\"my_model_with_a_custom_loss_class.h5\",\n",
    "                                custom_objects={\"HuberLoss\": HuberLoss})\n",
    "\n",
    "model.fit(X_train_scaled, y_train, epochs=2,\n",
    "          validation_data=(X_valid_scaled, y_valid))"
   ]
  },
  {
   "cell_type": "code",
   "execution_count": 282,
   "metadata": {},
   "outputs": [
    {
     "data": {
      "text/plain": [
       "2.0"
      ]
     },
     "execution_count": 282,
     "metadata": {},
     "output_type": "execute_result"
    }
   ],
   "source": [
    "model.loss.threshold"
   ]
  },
  {
   "cell_type": "code",
   "execution_count": null,
   "metadata": {},
   "outputs": [],
   "source": []
  },
  {
   "cell_type": "markdown",
   "metadata": {},
   "source": [
    "### 활성화 함수, 초기화, 규제, 제한을 커스터마이징"
   ]
  },
  {
   "cell_type": "code",
   "execution_count": 283,
   "metadata": {},
   "outputs": [],
   "source": [
    "keras.backend.clear_session()\n",
    "np.random.seed(42)\n",
    "tf.random.set_seed(42)\n",
    "\n",
    "def my_softplus(z): # tf.nn.softplus(z) 값을 반환합니다\n",
    "    return tf.math.log(tf.exp(z) + 1.0)\n",
    "\n",
    "def my_glorot_initializer(shape, dtype=tf.float32):\n",
    "    stddev = tf.sqrt(2. / (shape[0] + shape[1]))\n",
    "    return tf.random.normal(shape, stddev=stddev, dtype=dtype)\n",
    "\n",
    "def my_l1_regularizer(weights):\n",
    "    return tf.reduce_sum(tf.abs(0.01 * weights))\n",
    "\n",
    "def my_positive_weights(weights): # tf.nn.relu(weights) 값을 반환합니다\n",
    "    return tf.where(weights < 0., tf.zeros_like(weights), weights)"
   ]
  },
  {
   "cell_type": "code",
   "execution_count": 284,
   "metadata": {},
   "outputs": [
    {
     "name": "stdout",
     "output_type": "stream",
     "text": [
      "Epoch 1/2\n",
      "363/363 [==============================] - 1s 1ms/step - loss: 1.5542 - mae: 0.8962 - val_loss: 1.4154 - val_mae: 0.5607\n",
      "Epoch 2/2\n",
      "363/363 [==============================] - 0s 1ms/step - loss: 0.5943 - mae: 0.5256 - val_loss: 1.4399 - val_mae: 0.5137\n"
     ]
    },
    {
     "data": {
      "text/plain": [
       "<keras.callbacks.History at 0x7f8d13ad0d60>"
      ]
     },
     "execution_count": 284,
     "metadata": {},
     "output_type": "execute_result"
    }
   ],
   "source": [
    "layer = keras.layers.Dense(1, activation=my_softplus,\n",
    "                           kernel_initializer=my_glorot_initializer,\n",
    "                           kernel_regularizer=my_l1_regularizer,\n",
    "                           kernel_constraint=my_positive_weights)\n",
    "\n",
    "model = keras.models.Sequential([\n",
    "    keras.layers.Dense(30, activation=\"selu\", kernel_initializer=\"lecun_normal\",\n",
    "                       input_shape=input_shape),\n",
    "    keras.layers.Dense(1, activation=my_softplus,\n",
    "                       kernel_regularizer=my_l1_regularizer,\n",
    "                       kernel_constraint=my_positive_weights,\n",
    "                       kernel_initializer=my_glorot_initializer),\n",
    "])\n",
    "\n",
    "model.compile(loss=\"mse\", optimizer=\"nadam\", metrics=[\"mae\"])\n",
    "\n",
    "model.fit(X_train_scaled, y_train, epochs=2,\n",
    "          validation_data=(X_valid_scaled, y_valid))\n"
   ]
  },
  {
   "cell_type": "code",
   "execution_count": 285,
   "metadata": {},
   "outputs": [],
   "source": [
    "model.save(\"my_model_with_many_custom_parts.h5\")\n",
    "\n",
    "model = keras.models.load_model(\n",
    "    \"my_model_with_many_custom_parts.h5\",\n",
    "    custom_objects={\n",
    "       \"my_l1_regularizer\": my_l1_regularizer,\n",
    "       \"my_positive_weights\": my_positive_weights,\n",
    "       \"my_glorot_initializer\": my_glorot_initializer,\n",
    "       \"my_softplus\": my_softplus,\n",
    "    })\n"
   ]
  },
  {
   "cell_type": "markdown",
   "metadata": {},
   "source": [
    "#### 상속 이용"
   ]
  },
  {
   "cell_type": "code",
   "execution_count": 286,
   "metadata": {},
   "outputs": [],
   "source": [
    "class MyL1Regularizer(keras.regularizers.Regularizer):\n",
    "    def __init__(self, factor):\n",
    "        self.factor = factor\n",
    "    def __call__(self, weights):\n",
    "        return tf.reduce_sum(tf.abs(self.factor * weights))\n",
    "    def get_config(self):\n",
    "        return {\"factor\": self.factor}"
   ]
  },
  {
   "cell_type": "code",
   "execution_count": 287,
   "metadata": {},
   "outputs": [
    {
     "name": "stdout",
     "output_type": "stream",
     "text": [
      "Epoch 1/2\n",
      "363/363 [==============================] - 1s 1ms/step - loss: 1.5901 - mae: 0.8871 - val_loss: 1.4671 - val_mae: 0.5719\n",
      "Epoch 2/2\n",
      "363/363 [==============================] - 0s 1ms/step - loss: 0.6168 - mae: 0.5327 - val_loss: 1.3017 - val_mae: 0.5177\n"
     ]
    },
    {
     "data": {
      "text/plain": [
       "<keras.callbacks.History at 0x7f8d12691850>"
      ]
     },
     "execution_count": 287,
     "metadata": {},
     "output_type": "execute_result"
    }
   ],
   "source": [
    "model = keras.models.Sequential([\n",
    "    keras.layers.Dense(30, activation=\"selu\", kernel_initializer=\"lecun_normal\",\n",
    "                       input_shape=input_shape),\n",
    "    keras.layers.Dense(1, activation=my_softplus,\n",
    "                       kernel_regularizer=MyL1Regularizer(0.01),\n",
    "                       kernel_constraint=my_positive_weights,\n",
    "                       kernel_initializer=my_glorot_initializer),\n",
    "])\n",
    "\n",
    "model.compile(loss=\"mse\", optimizer=\"nadam\", metrics=[\"mae\"])\n",
    "\n",
    "model.fit(X_train_scaled, y_train, epochs=2,\n",
    "          validation_data=(X_valid_scaled, y_valid))"
   ]
  },
  {
   "cell_type": "code",
   "execution_count": 288,
   "metadata": {},
   "outputs": [],
   "source": [
    "model.save(\"my_model_with_many_custom_parts.h5\")\n",
    "\n",
    "model = keras.models.load_model(\n",
    "    \"my_model_with_many_custom_parts.h5\",\n",
    "    custom_objects={\n",
    "       \"MyL1Regularizer\": MyL1Regularizer,\n",
    "       \"my_positive_weights\": my_positive_weights,\n",
    "       \"my_glorot_initializer\": my_glorot_initializer,\n",
    "       \"my_softplus\": my_softplus,\n",
    "    })\n"
   ]
  },
  {
   "cell_type": "code",
   "execution_count": null,
   "metadata": {},
   "outputs": [],
   "source": []
  },
  {
   "cell_type": "markdown",
   "metadata": {},
   "source": [
    "### 사용자 정의 지표"
   ]
  },
  {
   "cell_type": "markdown",
   "metadata": {},
   "source": [
    "#### 후버 함수"
   ]
  },
  {
   "cell_type": "code",
   "execution_count": 289,
   "metadata": {},
   "outputs": [
    {
     "name": "stdout",
     "output_type": "stream",
     "text": [
      "Epoch 1/2\n",
      "363/363 [==============================] - 1s 756us/step - loss: 2.4099 - huber_fn: 0.8630\n",
      "Epoch 2/2\n",
      "363/363 [==============================] - 0s 750us/step - loss: 0.7635 - huber_fn: 0.2597\n"
     ]
    },
    {
     "data": {
      "text/plain": [
       "<keras.callbacks.History at 0x7f8d13228ac0>"
      ]
     },
     "execution_count": 289,
     "metadata": {},
     "output_type": "execute_result"
    }
   ],
   "source": [
    "model = keras.models.Sequential([\n",
    "    keras.layers.Dense(30, activation=\"selu\", kernel_initializer=\"lecun_normal\",\n",
    "                       input_shape=input_shape),\n",
    "    keras.layers.Dense(1),\n",
    "])\n",
    "\n",
    "model.compile(loss=\"mse\", optimizer=\"nadam\", metrics=[create_huber(2.0)])\n",
    "\n",
    "model.fit(X_train_scaled, y_train, epochs=2)\n"
   ]
  },
  {
   "cell_type": "markdown",
   "metadata": {},
   "source": [
    "#### precision = keras.metrics.Precision()"
   ]
  },
  {
   "cell_type": "code",
   "execution_count": 291,
   "metadata": {},
   "outputs": [
    {
     "data": {
      "text/plain": [
       "<tf.Tensor: shape=(), dtype=float32, numpy=0.8>"
      ]
     },
     "execution_count": 291,
     "metadata": {},
     "output_type": "execute_result"
    }
   ],
   "source": [
    "precision = keras.metrics.Precision()\n",
    "precision([0, 1, 1, 1, 0, 1, 0, 1], [1, 1, 0, 1, 0, 1, 0, 1])"
   ]
  },
  {
   "cell_type": "code",
   "execution_count": 292,
   "metadata": {},
   "outputs": [
    {
     "data": {
      "text/plain": [
       "<tf.Tensor: shape=(), dtype=float32, numpy=0.5>"
      ]
     },
     "execution_count": 292,
     "metadata": {},
     "output_type": "execute_result"
    }
   ],
   "source": [
    "precision([0, 1, 0, 0, 1, 0, 1, 1], [1, 0, 1, 1, 0, 0, 0, 0])"
   ]
  },
  {
   "cell_type": "code",
   "execution_count": 293,
   "metadata": {},
   "outputs": [
    {
     "data": {
      "text/plain": [
       "<tf.Tensor: shape=(), dtype=float32, numpy=0.5>"
      ]
     },
     "execution_count": 293,
     "metadata": {},
     "output_type": "execute_result"
    }
   ],
   "source": [
    "precision.result()"
   ]
  },
  {
   "cell_type": "markdown",
   "metadata": {},
   "source": [
    "#### 스트리밍 지표"
   ]
  },
  {
   "cell_type": "code",
   "execution_count": 294,
   "metadata": {},
   "outputs": [],
   "source": [
    "class HuberMetric(keras.metrics.Metric):\n",
    "    def __init__(self, threshold=1.0, **kwargs):\n",
    "        super().__init__(**kwargs) # 기본 매개변수 처리 (예를 들면, dtype)\n",
    "        self.threshold = threshold\n",
    "        self.huber_fn = create_huber(threshold)\n",
    "        self.total = self.add_weight(\"total\", initializer=\"zeros\")\n",
    "        self.count = self.add_weight(\"count\", initializer=\"zeros\")\n",
    "    def update_state(self, y_true, y_pred, sample_weight=None):\n",
    "        metric = self.huber_fn(y_true, y_pred)\n",
    "        self.total.assign_add(tf.reduce_sum(metric))\n",
    "        self.count.assign_add(tf.cast(tf.size(y_true), tf.float32))\n",
    "    def result(self):\n",
    "        return self.total / self.count\n",
    "    def get_config(self):\n",
    "        base_config = super().get_config()\n",
    "        return {**base_config, \"threshold\": self.threshold}"
   ]
  },
  {
   "cell_type": "code",
   "execution_count": 295,
   "metadata": {},
   "outputs": [
    {
     "data": {
      "text/plain": [
       "<tf.Tensor: shape=(), dtype=float32, numpy=14.0>"
      ]
     },
     "execution_count": 295,
     "metadata": {},
     "output_type": "execute_result"
    }
   ],
   "source": [
    "m = HuberMetric(2.)\n",
    "\n",
    "# total = 2 * |10 - 2| - 2²/2 = 14\n",
    "# count = 1\n",
    "# result = 14 / 1 = 14\n",
    "m(tf.constant([[2.]]), tf.constant([[10.]])) \n"
   ]
  },
  {
   "cell_type": "code",
   "execution_count": 296,
   "metadata": {},
   "outputs": [
    {
     "data": {
      "text/plain": [
       "<tf.Tensor: shape=(), dtype=float32, numpy=7.0>"
      ]
     },
     "execution_count": 296,
     "metadata": {},
     "output_type": "execute_result"
    }
   ],
   "source": [
    "# total = total + (|1 - 0|² / 2) + (2 * |9.25 - 5| - 2² / 2) = 14 + 7 = 21\n",
    "# count = count + 2 = 3\n",
    "# result = total / count = 21 / 3 = 7\n",
    "m(tf.constant([[0.], [5.]]), tf.constant([[1.], [9.25]]))\n",
    "\n",
    "m.result()"
   ]
  },
  {
   "cell_type": "code",
   "execution_count": 297,
   "metadata": {},
   "outputs": [
    {
     "data": {
      "text/plain": [
       "[<tf.Variable 'total:0' shape=() dtype=float32, numpy=21.0>,\n",
       " <tf.Variable 'count:0' shape=() dtype=float32, numpy=3.0>]"
      ]
     },
     "execution_count": 297,
     "metadata": {},
     "output_type": "execute_result"
    }
   ],
   "source": [
    "m.variables"
   ]
  },
  {
   "cell_type": "code",
   "execution_count": 298,
   "metadata": {},
   "outputs": [
    {
     "data": {
      "text/plain": [
       "[<tf.Variable 'total:0' shape=() dtype=float32, numpy=0.0>,\n",
       " <tf.Variable 'count:0' shape=() dtype=float32, numpy=0.0>]"
      ]
     },
     "execution_count": 298,
     "metadata": {},
     "output_type": "execute_result"
    }
   ],
   "source": [
    "m.reset_states()\n",
    "m.variables"
   ]
  },
  {
   "cell_type": "code",
   "execution_count": 299,
   "metadata": {},
   "outputs": [
    {
     "name": "stdout",
     "output_type": "stream",
     "text": [
      "Epoch 1/2\n",
      "363/363 [==============================] - 1s 785us/step - loss: 0.8707 - huber_metric: 0.8707\n",
      "Epoch 2/2\n",
      "363/363 [==============================] - 0s 783us/step - loss: 0.2595 - huber_metric: 0.2595\n"
     ]
    },
    {
     "data": {
      "text/plain": [
       "<keras.callbacks.History at 0x7f8ca2f8bd00>"
      ]
     },
     "execution_count": 299,
     "metadata": {},
     "output_type": "execute_result"
    }
   ],
   "source": [
    "keras.backend.clear_session()\n",
    "np.random.seed(42)\n",
    "tf.random.set_seed(42)\n",
    "\n",
    "model = keras.models.Sequential([\n",
    "    keras.layers.Dense(30, activation=\"selu\", kernel_initializer=\"lecun_normal\",\n",
    "                       input_shape=input_shape),\n",
    "    keras.layers.Dense(1),\n",
    "])\n",
    "\n",
    "model.compile(loss=create_huber(2.0), optimizer=\"nadam\", metrics=[HuberMetric(2.0)])\n",
    "\n",
    "model.fit(X_train_scaled.astype(np.float32), y_train.astype(np.float32), epochs=2)"
   ]
  },
  {
   "cell_type": "code",
   "execution_count": 300,
   "metadata": {},
   "outputs": [
    {
     "name": "stdout",
     "output_type": "stream",
     "text": [
      "Epoch 1/2\n",
      "363/363 [==============================] - 1s 819us/step - loss: 0.2350 - huber_metric: 0.2350\n",
      "Epoch 2/2\n",
      "363/363 [==============================] - 0s 733us/step - loss: 0.2278 - huber_metric: 0.2278\n"
     ]
    },
    {
     "data": {
      "text/plain": [
       "<keras.callbacks.History at 0x7f8ca4c12b80>"
      ]
     },
     "execution_count": 300,
     "metadata": {},
     "output_type": "execute_result"
    }
   ],
   "source": [
    "model.save(\"my_model_with_a_custom_metric.h5\")\n",
    "\n",
    "model = keras.models.load_model(\"my_model_with_a_custom_metric.h5\",\n",
    "                                custom_objects={\"huber_fn\": create_huber(2.0),\n",
    "                                                \"HuberMetric\": HuberMetric})\n",
    "\n",
    "model.fit(X_train_scaled.astype(np.float32), y_train.astype(np.float32), epochs=2)"
   ]
  },
  {
   "cell_type": "code",
   "execution_count": 301,
   "metadata": {},
   "outputs": [
    {
     "data": {
      "text/plain": [
       "2.0"
      ]
     },
     "execution_count": 301,
     "metadata": {},
     "output_type": "execute_result"
    }
   ],
   "source": [
    "model.metrics[-1].threshold"
   ]
  },
  {
   "cell_type": "markdown",
   "metadata": {},
   "source": [
    "#### 간단하게 작성"
   ]
  },
  {
   "cell_type": "code",
   "execution_count": 302,
   "metadata": {},
   "outputs": [],
   "source": [
    "class HuberMetric(keras.metrics.Mean):\n",
    "    def __init__(self, threshold=1.0, name='HuberMetric', dtype=None):\n",
    "        self.threshold = threshold\n",
    "        self.huber_fn = create_huber(threshold)\n",
    "        super().__init__(name=name, dtype=dtype)\n",
    "    def update_state(self, y_true, y_pred, sample_weight=None):\n",
    "        metric = self.huber_fn(y_true, y_pred)\n",
    "        super(HuberMetric, self).update_state(metric, sample_weight)\n",
    "    def get_config(self):\n",
    "        base_config = super().get_config()\n",
    "        return {**base_config, \"threshold\": self.threshold} "
   ]
  },
  {
   "cell_type": "code",
   "execution_count": null,
   "metadata": {},
   "outputs": [],
   "source": []
  },
  {
   "cell_type": "markdown",
   "metadata": {},
   "source": [
    "### 사용자 정의 층"
   ]
  },
  {
   "cell_type": "markdown",
   "metadata": {},
   "source": [
    "#### 지수를 사용하는 층"
   ]
  },
  {
   "cell_type": "code",
   "execution_count": 303,
   "metadata": {},
   "outputs": [
    {
     "name": "stdout",
     "output_type": "stream",
     "text": [
      "Epoch 1/5\n",
      "363/363 [==============================] - 1s 959us/step - loss: 1.0631 - val_loss: 0.4457\n",
      "Epoch 2/5\n",
      "363/363 [==============================] - 0s 841us/step - loss: 0.4562 - val_loss: 0.3798\n",
      "Epoch 3/5\n",
      "363/363 [==============================] - 0s 893us/step - loss: 0.4029 - val_loss: 0.3548\n",
      "Epoch 4/5\n",
      "363/363 [==============================] - 0s 851us/step - loss: 0.3851 - val_loss: 0.3464\n",
      "Epoch 5/5\n",
      "363/363 [==============================] - 0s 1ms/step - loss: 0.3708 - val_loss: 0.3449\n",
      "162/162 [==============================] - 0s 772us/step - loss: 0.3586\n"
     ]
    },
    {
     "data": {
      "text/plain": [
       "0.3586341440677643"
      ]
     },
     "execution_count": 303,
     "metadata": {},
     "output_type": "execute_result"
    }
   ],
   "source": [
    "exponential_layer = keras.layers.Lambda(lambda x: tf.exp(x))\n",
    "\n",
    "exponential_layer([-1., 0., 1.])\n",
    "\n",
    "keras.backend.clear_session()\n",
    "np.random.seed(42)\n",
    "tf.random.set_seed(42)\n",
    "\n",
    "model = keras.models.Sequential([\n",
    "    keras.layers.Dense(30, activation=\"relu\", input_shape=input_shape),\n",
    "    keras.layers.Dense(1),\n",
    "    exponential_layer\n",
    "])\n",
    "model.compile(loss=\"mse\", optimizer=\"sgd\")\n",
    "model.fit(X_train_scaled, y_train, epochs=5,\n",
    "          validation_data=(X_valid_scaled, y_valid))\n",
    "model.evaluate(X_test_scaled, y_test)"
   ]
  },
  {
   "cell_type": "markdown",
   "metadata": {},
   "source": [
    "#### 상태가 있는 층"
   ]
  },
  {
   "cell_type": "code",
   "execution_count": 304,
   "metadata": {},
   "outputs": [],
   "source": [
    "class MyDense(keras.layers.Layer):\n",
    "    def __init__(self, units, activation=None, **kwargs):\n",
    "        super().__init__(**kwargs)\n",
    "        self.units = units\n",
    "        self.activation = keras.activations.get(activation)\n",
    "\n",
    "    def build(self, batch_input_shape):\n",
    "        self.kernel = self.add_weight(\n",
    "            name=\"kernel\", shape=[batch_input_shape[-1], self.units],\n",
    "            initializer=\"glorot_normal\")\n",
    "        self.bias = self.add_weight(\n",
    "            name=\"bias\", shape=[self.units], initializer=\"zeros\")\n",
    "        super().build(batch_input_shape) # must be at the end\n",
    "\n",
    "    def call(self, X):\n",
    "        return self.activation(X @ self.kernel + self.bias)\n"
   ]
  },
  {
   "cell_type": "code",
   "execution_count": 305,
   "metadata": {},
   "outputs": [
    {
     "name": "stdout",
     "output_type": "stream",
     "text": [
      "Epoch 1/2\n",
      "363/363 [==============================] - 1s 1ms/step - loss: 2.2563 - val_loss: 0.9472\n",
      "Epoch 2/2\n",
      "363/363 [==============================] - 0s 973us/step - loss: 0.6485 - val_loss: 0.6219\n",
      "162/162 [==============================] - 0s 631us/step - loss: 0.5474\n"
     ]
    },
    {
     "data": {
      "text/plain": [
       "0.5473727583885193"
      ]
     },
     "execution_count": 305,
     "metadata": {},
     "output_type": "execute_result"
    }
   ],
   "source": [
    "keras.backend.clear_session()\n",
    "np.random.seed(42)\n",
    "tf.random.set_seed(42)\n",
    "\n",
    "model = keras.models.Sequential([\n",
    "    MyDense(30, activation=\"relu\", input_shape=input_shape),\n",
    "    MyDense(1)\n",
    "])\n",
    "\n",
    "model.compile(loss=\"mse\", optimizer=\"nadam\")\n",
    "model.fit(X_train_scaled, y_train, epochs=2,\n",
    "          validation_data=(X_valid_scaled, y_valid))\n",
    "model.evaluate(X_test_scaled, y_test)"
   ]
  },
  {
   "cell_type": "code",
   "execution_count": 307,
   "metadata": {},
   "outputs": [
    {
     "ename": "NotImplementedError",
     "evalue": "\nLayer MyDense has arguments ['self', 'units', 'activation']\nin `__init__` and therefore must override `get_config()`.\n\nExample:\n\nclass CustomLayer(keras.layers.Layer):\n    def __init__(self, arg1, arg2):\n        super().__init__()\n        self.arg1 = arg1\n        self.arg2 = arg2\n\n    def get_config(self):\n        config = super().get_config()\n        config.update({\n            \"arg1\": self.arg1,\n            \"arg2\": self.arg2,\n        })\n        return config",
     "output_type": "error",
     "traceback": [
      "\u001b[0;31m---------------------------------------------------------------------------\u001b[0m",
      "\u001b[0;31mNotImplementedError\u001b[0m                       Traceback (most recent call last)",
      "\u001b[0;32m/var/folders/98/j21dd2qs46b69mwc94dgyxnr0000gn/T/ipykernel_1202/3283789618.py\u001b[0m in \u001b[0;36m<module>\u001b[0;34m\u001b[0m\n\u001b[0;32m----> 1\u001b[0;31m \u001b[0mmodel\u001b[0m\u001b[0;34m.\u001b[0m\u001b[0msave\u001b[0m\u001b[0;34m(\u001b[0m\u001b[0;34m\"my_model_with_a_custom_layer.h5\"\u001b[0m\u001b[0;34m)\u001b[0m\u001b[0;34m\u001b[0m\u001b[0;34m\u001b[0m\u001b[0m\n\u001b[0m",
      "\u001b[0;32m~/opt/anaconda3/lib/python3.9/site-packages/keras/utils/traceback_utils.py\u001b[0m in \u001b[0;36merror_handler\u001b[0;34m(*args, **kwargs)\u001b[0m\n\u001b[1;32m     65\u001b[0m     \u001b[0;32mexcept\u001b[0m \u001b[0mException\u001b[0m \u001b[0;32mas\u001b[0m \u001b[0me\u001b[0m\u001b[0;34m:\u001b[0m  \u001b[0;31m# pylint: disable=broad-except\u001b[0m\u001b[0;34m\u001b[0m\u001b[0;34m\u001b[0m\u001b[0m\n\u001b[1;32m     66\u001b[0m       \u001b[0mfiltered_tb\u001b[0m \u001b[0;34m=\u001b[0m \u001b[0m_process_traceback_frames\u001b[0m\u001b[0;34m(\u001b[0m\u001b[0me\u001b[0m\u001b[0;34m.\u001b[0m\u001b[0m__traceback__\u001b[0m\u001b[0;34m)\u001b[0m\u001b[0;34m\u001b[0m\u001b[0;34m\u001b[0m\u001b[0m\n\u001b[0;32m---> 67\u001b[0;31m       \u001b[0;32mraise\u001b[0m \u001b[0me\u001b[0m\u001b[0;34m.\u001b[0m\u001b[0mwith_traceback\u001b[0m\u001b[0;34m(\u001b[0m\u001b[0mfiltered_tb\u001b[0m\u001b[0;34m)\u001b[0m \u001b[0;32mfrom\u001b[0m \u001b[0;32mNone\u001b[0m\u001b[0;34m\u001b[0m\u001b[0;34m\u001b[0m\u001b[0m\n\u001b[0m\u001b[1;32m     68\u001b[0m     \u001b[0;32mfinally\u001b[0m\u001b[0;34m:\u001b[0m\u001b[0;34m\u001b[0m\u001b[0;34m\u001b[0m\u001b[0m\n\u001b[1;32m     69\u001b[0m       \u001b[0;32mdel\u001b[0m \u001b[0mfiltered_tb\u001b[0m\u001b[0;34m\u001b[0m\u001b[0;34m\u001b[0m\u001b[0m\n",
      "\u001b[0;32m~/opt/anaconda3/lib/python3.9/site-packages/keras/engine/base_layer.py\u001b[0m in \u001b[0;36mget_config\u001b[0;34m(self)\u001b[0m\n\u001b[1;32m    756\u001b[0m     \u001b[0;31m# or that `get_config` has been overridden:\u001b[0m\u001b[0;34m\u001b[0m\u001b[0;34m\u001b[0m\u001b[0m\n\u001b[1;32m    757\u001b[0m     \u001b[0;32mif\u001b[0m \u001b[0mlen\u001b[0m\u001b[0;34m(\u001b[0m\u001b[0mextra_args\u001b[0m\u001b[0;34m)\u001b[0m \u001b[0;34m>\u001b[0m \u001b[0;36m1\u001b[0m \u001b[0;32mand\u001b[0m \u001b[0mhasattr\u001b[0m\u001b[0;34m(\u001b[0m\u001b[0mself\u001b[0m\u001b[0;34m.\u001b[0m\u001b[0mget_config\u001b[0m\u001b[0;34m,\u001b[0m \u001b[0;34m'_is_default'\u001b[0m\u001b[0;34m)\u001b[0m\u001b[0;34m:\u001b[0m\u001b[0;34m\u001b[0m\u001b[0;34m\u001b[0m\u001b[0m\n\u001b[0;32m--> 758\u001b[0;31m       raise NotImplementedError(textwrap.dedent(f\"\"\"\n\u001b[0m\u001b[1;32m    759\u001b[0m           \u001b[0mLayer\u001b[0m \u001b[0;34m{\u001b[0m\u001b[0mself\u001b[0m\u001b[0;34m.\u001b[0m\u001b[0m__class__\u001b[0m\u001b[0;34m.\u001b[0m\u001b[0m__name__\u001b[0m\u001b[0;34m}\u001b[0m \u001b[0mhas\u001b[0m \u001b[0marguments\u001b[0m \u001b[0;34m{\u001b[0m\u001b[0mextra_args\u001b[0m\u001b[0;34m}\u001b[0m\u001b[0;34m\u001b[0m\u001b[0;34m\u001b[0m\u001b[0m\n\u001b[1;32m    760\u001b[0m           \u001b[0;32min\u001b[0m\u001b[0;31m \u001b[0m\u001b[0;31m`\u001b[0m\u001b[0m__init__\u001b[0m\u001b[0;31m`\u001b[0m \u001b[0;32mand\u001b[0m \u001b[0mtherefore\u001b[0m \u001b[0mmust\u001b[0m \u001b[0moverride\u001b[0m\u001b[0;31m \u001b[0m\u001b[0;31m`\u001b[0m\u001b[0mget_config\u001b[0m\u001b[0;34m(\u001b[0m\u001b[0;34m)\u001b[0m\u001b[0;31m`\u001b[0m\u001b[0;34m.\u001b[0m\u001b[0;34m\u001b[0m\u001b[0;34m\u001b[0m\u001b[0m\n",
      "\u001b[0;31mNotImplementedError\u001b[0m: \nLayer MyDense has arguments ['self', 'units', 'activation']\nin `__init__` and therefore must override `get_config()`.\n\nExample:\n\nclass CustomLayer(keras.layers.Layer):\n    def __init__(self, arg1, arg2):\n        super().__init__()\n        self.arg1 = arg1\n        self.arg2 = arg2\n\n    def get_config(self):\n        config = super().get_config()\n        config.update({\n            \"arg1\": self.arg1,\n            \"arg2\": self.arg2,\n        })\n        return config"
     ]
    }
   ],
   "source": [
    "model.save(\"my_model_with_a_custom_layer.h5\")\n",
    "model = keras.models.load_model(\"my_model_with_a_custom_layer.h5\",\n",
    "                                custom_objects={\"MyDense\": MyDense})"
   ]
  },
  {
   "cell_type": "code",
   "execution_count": 308,
   "metadata": {},
   "outputs": [],
   "source": [
    "class MyMultiLayer(keras.layers.Layer):\n",
    "    def call(self, X):\n",
    "        X1, X2 = X\n",
    "        return X1 + X2, X1 * X2\n",
    "\n",
    "    def compute_output_shape(self, batch_input_shape):\n",
    "        batch_input_shape1, batch_input_shape2 = batch_input_shape\n",
    "        return [batch_input_shape1, batch_input_shape2]\n"
   ]
  },
  {
   "cell_type": "code",
   "execution_count": 309,
   "metadata": {},
   "outputs": [],
   "source": [
    "keras.backend.clear_session()\n",
    "np.random.seed(42)\n",
    "tf.random.set_seed(42)\n",
    "\n",
    "inputs1 = keras.layers.Input(shape=[2])\n",
    "inputs2 = keras.layers.Input(shape=[2])\n",
    "outputs1, outputs2 = MyMultiLayer()((inputs1, inputs2))\n"
   ]
  },
  {
   "cell_type": "code",
   "execution_count": 310,
   "metadata": {},
   "outputs": [],
   "source": [
    "class AddGaussianNoise(keras.layers.Layer):\n",
    "    def __init__(self, stddev, **kwargs):\n",
    "        super().__init__(**kwargs)\n",
    "        self.stddev = stddev\n",
    "\n",
    "    def call(self, X, training=None):\n",
    "        if training:\n",
    "            noise = tf.random.normal(tf.shape(X), stddev=self.stddev)\n",
    "            return X + noise\n",
    "        else:\n",
    "            return X\n",
    "\n",
    "    def compute_output_shape(self, batch_input_shape):\n",
    "        return batch_input_shape"
   ]
  },
  {
   "cell_type": "code",
   "execution_count": 311,
   "metadata": {},
   "outputs": [
    {
     "name": "stdout",
     "output_type": "stream",
     "text": [
      "Epoch 1/2\n",
      "363/363 [==============================] - 1s 1ms/step - loss: 0.4904 - val_loss: 0.5329\n",
      "Epoch 2/2\n",
      "363/363 [==============================] - 0s 955us/step - loss: 0.4226 - val_loss: 0.4786\n",
      "162/162 [==============================] - 0s 579us/step - loss: 0.3990\n"
     ]
    },
    {
     "data": {
      "text/plain": [
       "0.39900389313697815"
      ]
     },
     "execution_count": 311,
     "metadata": {},
     "output_type": "execute_result"
    }
   ],
   "source": [
    "model.compile(loss=\"mse\", optimizer=\"nadam\")\n",
    "model.fit(X_train_scaled, y_train, epochs=2,\n",
    "          validation_data=(X_valid_scaled, y_valid))\n",
    "model.evaluate(X_test_scaled, y_test)\n"
   ]
  },
  {
   "cell_type": "code",
   "execution_count": null,
   "metadata": {},
   "outputs": [],
   "source": []
  },
  {
   "cell_type": "markdown",
   "metadata": {},
   "source": [
    "### 사용자 정의 모델"
   ]
  },
  {
   "cell_type": "code",
   "execution_count": 312,
   "metadata": {},
   "outputs": [],
   "source": [
    "X_new_scaled = X_test_scaled\n",
    "\n",
    "class ResidualBlock(keras.layers.Layer):\n",
    "    def __init__(self, n_layers, n_neurons, **kwargs):\n",
    "        super().__init__(**kwargs)\n",
    "        self.hidden = [keras.layers.Dense(n_neurons, activation=\"elu\",\n",
    "                                          kernel_initializer=\"he_normal\")\n",
    "                       for _ in range(n_layers)]\n",
    "\n",
    "    def call(self, inputs):\n",
    "        Z = inputs\n",
    "        for layer in self.hidden:\n",
    "            Z = layer(Z)\n",
    "        return inputs + Z"
   ]
  },
  {
   "cell_type": "code",
   "execution_count": 313,
   "metadata": {},
   "outputs": [],
   "source": [
    "class ResidualRegressor(keras.models.Model):\n",
    "    def __init__(self, output_dim, **kwargs):\n",
    "        super().__init__(**kwargs)\n",
    "        self.hidden1 = keras.layers.Dense(30, activation=\"elu\",\n",
    "                                          kernel_initializer=\"he_normal\")\n",
    "        self.block1 = ResidualBlock(2, 30)\n",
    "        self.block2 = ResidualBlock(2, 30)\n",
    "        self.out = keras.layers.Dense(output_dim)\n",
    "\n",
    "    def call(self, inputs):\n",
    "        Z = self.hidden1(inputs)\n",
    "        for _ in range(1 + 3):\n",
    "            Z = self.block1(Z)\n",
    "        Z = self.block2(Z)\n",
    "        return self.out(Z)"
   ]
  },
  {
   "cell_type": "code",
   "execution_count": 314,
   "metadata": {},
   "outputs": [
    {
     "name": "stdout",
     "output_type": "stream",
     "text": [
      "Epoch 1/5\n",
      "363/363 [==============================] - 2s 1ms/step - loss: 9.1325\n",
      "Epoch 2/5\n",
      "363/363 [==============================] - 0s 1ms/step - loss: 1.0579\n",
      "Epoch 3/5\n",
      "363/363 [==============================] - 0s 1ms/step - loss: 0.8868\n",
      "Epoch 4/5\n",
      "363/363 [==============================] - 0s 1ms/step - loss: 0.5836\n",
      "Epoch 5/5\n",
      "363/363 [==============================] - 0s 1ms/step - loss: 0.6455\n",
      "162/162 [==============================] - 0s 755us/step - loss: 0.6496\n"
     ]
    }
   ],
   "source": [
    "keras.backend.clear_session()\n",
    "np.random.seed(42)\n",
    "tf.random.set_seed(42)\n",
    "\n",
    "model = ResidualRegressor(1)\n",
    "model.compile(loss=\"mse\", optimizer=\"nadam\")\n",
    "history = model.fit(X_train_scaled, y_train, epochs=5)\n",
    "score = model.evaluate(X_test_scaled, y_test)\n",
    "y_pred = model.predict(X_new_scaled)\n"
   ]
  },
  {
   "cell_type": "code",
   "execution_count": 315,
   "metadata": {},
   "outputs": [
    {
     "name": "stderr",
     "output_type": "stream",
     "text": [
      "2022-04-11 09:12:31.551982: W tensorflow/python/util/util.cc:368] Sets are not currently considered sequences, but this may change in the future, so consider avoiding using them.\n",
      "WARNING:absl:Found untraced functions such as dense_1_layer_call_fn, dense_1_layer_call_and_return_conditional_losses, dense_2_layer_call_fn, dense_2_layer_call_and_return_conditional_losses, dense_3_layer_call_fn while saving (showing 5 of 8). These functions will not be directly callable after loading.\n"
     ]
    },
    {
     "name": "stdout",
     "output_type": "stream",
     "text": [
      "INFO:tensorflow:Assets written to: my_custom_model.ckpt/assets\n"
     ]
    },
    {
     "name": "stderr",
     "output_type": "stream",
     "text": [
      "INFO:tensorflow:Assets written to: my_custom_model.ckpt/assets\n"
     ]
    },
    {
     "name": "stdout",
     "output_type": "stream",
     "text": [
      "Epoch 1/5\n",
      "363/363 [==============================] - 1s 2ms/step - loss: 0.7997\n",
      "Epoch 2/5\n",
      "363/363 [==============================] - 0s 1ms/step - loss: 0.5026\n",
      "Epoch 3/5\n",
      "363/363 [==============================] - 0s 1ms/step - loss: 0.5639\n",
      "Epoch 4/5\n",
      "363/363 [==============================] - 0s 1ms/step - loss: 0.4544\n",
      "Epoch 5/5\n",
      "363/363 [==============================] - 0s 1ms/step - loss: 0.5597\n"
     ]
    }
   ],
   "source": [
    "model.save(\"my_custom_model.ckpt\")\n",
    "\n",
    "model = keras.models.load_model(\"my_custom_model.ckpt\")\n",
    "\n",
    "history = model.fit(X_train_scaled, y_train, epochs=5)"
   ]
  },
  {
   "cell_type": "code",
   "execution_count": null,
   "metadata": {},
   "outputs": [],
   "source": []
  }
 ],
 "metadata": {
  "kernelspec": {
   "display_name": "Python 3 (ipykernel)",
   "language": "python",
   "name": "python3"
  },
  "language_info": {
   "codemirror_mode": {
    "name": "ipython",
    "version": 3
   },
   "file_extension": ".py",
   "mimetype": "text/x-python",
   "name": "python",
   "nbconvert_exporter": "python",
   "pygments_lexer": "ipython3",
   "version": "3.10.9"
  }
 },
 "nbformat": 4,
 "nbformat_minor": 4
}
